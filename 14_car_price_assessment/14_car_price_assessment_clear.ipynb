{
 "cells": [
  {
   "cell_type": "markdown",
   "metadata": {},
   "source": [
    "# Проект \"Определение стоимости автомобилей\""
   ]
  },
  {
   "cell_type": "markdown",
   "metadata": {},
   "source": [
    "Сервис по продаже автомобилей с пробегом «Не бит, не крашен» разрабатывает приложение для привлечения новых клиентов. В нём можно быстро узнать рыночную стоимость своего автомобиля. В вашем распоряжении исторические данные: технические характеристики, комплектации и цены автомобилей. Вам нужно построить модель для определения стоимости. \n",
    "\n",
    "Заказчику важны:\n",
    "\n",
    "- качество предсказания;\n",
    "- скорость предсказания;\n",
    "- время обучения.\n",
    "\n",
    "Этапы проекта:\n",
    "1. Подготовка данных.\n",
    "    - Ознакомиться с имеющимися данными.\n",
    "    - Изменить название и тип столбцов где необходимо.\n",
    "    - Проверить наличие явных и неявных дубликатов. \n",
    "    - Удалить или заполнить пропуски.\n",
    "    - Исследовать данные на предмет аномалий и выбросов. Обработать их, где необходимо.\n",
    "    - Исследовать характер распределения данных;\n",
    "    - Удалить данные, не имеющие практической пользы для построения модели;\n",
    "    - Подготовить данные для построения моделей (масштабирование, кодирование, если применимо);\n",
    "2. Обучение моделей:\n",
    "    - Построить несколько моделей, включая как минимум одну LightGBM и как минимум одну не-бустинг модель.\n",
    "    - В данном проекте будем использовать дерево решений, случайный лес, LightGBM и CatBoost.\n",
    "    - Оценка качества моделей будет производиться с помощью метрики RMSE.\n",
    "3. Анализ работы моделей:\n",
    "    - Построение различных типов моделей и подбор гиперпараметров;\n",
    "    - Оценка метрик моделей. Выбор лучшей;\n",
    "    - Проверка выбранной модели с помощью тестовой выборки;"
   ]
  },
  {
   "cell_type": "markdown",
   "metadata": {},
   "source": [
    "## Подготовка данных"
   ]
  },
  {
   "cell_type": "markdown",
   "metadata": {},
   "source": [
    "В данном этапе работы нам необходимо:\n",
    "- Ознакомиться с имеющимися данными.\n",
    "- Изменить название и тип столбцов где необходимо.\n",
    "- Проверить наличие явных и неявных дубликатов. \n",
    "- Удалить или заполнить пропуски.\n",
    "- Удалить данные, не имеющие практической пользы для построения модели.\n",
    "- Исследовать данные на предмет аномалий и выбросов. Обработать их, где необходимо.\n",
    "- Исследовать характер распределения данных.\n",
    "- Исследовать мультиколлинеарность.\n",
    "- Подготовить данные для построения моделей (масштабирование, кодирование, если применимо).\n",
    "- Разделить датасет на обучающую и тестовую выборки в соотношении 3:1."
   ]
  },
  {
   "cell_type": "code",
   "execution_count": 1,
   "metadata": {
    "scrolled": true
   },
   "outputs": [
    {
     "name": "stdout",
     "output_type": "stream",
     "text": [
      "Requirement already satisfied: sweetviz in e:\\anaconda\\envs\\practicum\\lib\\site-packages (2.3.1)\n",
      "Requirement already satisfied: pandas!=1.0.0,!=1.0.1,!=1.0.2,>=0.25.3 in e:\\anaconda\\envs\\practicum\\lib\\site-packages (from sweetviz) (1.2.4)\n",
      "Requirement already satisfied: numpy>=1.16.0 in e:\\anaconda\\envs\\practicum\\lib\\site-packages (from sweetviz) (1.24.4)\n",
      "Requirement already satisfied: matplotlib>=3.1.3 in e:\\anaconda\\envs\\practicum\\lib\\site-packages (from sweetviz) (3.3.4)\n",
      "Requirement already satisfied: tqdm>=4.43.0 in e:\\anaconda\\envs\\practicum\\lib\\site-packages (from sweetviz) (4.66.2)\n",
      "Requirement already satisfied: scipy>=1.3.2 in e:\\anaconda\\envs\\practicum\\lib\\site-packages (from sweetviz) (1.8.0)\n",
      "Requirement already satisfied: jinja2>=2.11.1 in e:\\anaconda\\envs\\practicum\\lib\\site-packages (from sweetviz) (3.1.3)\n",
      "Requirement already satisfied: importlib-resources>=1.2.0 in e:\\anaconda\\envs\\practicum\\lib\\site-packages (from sweetviz) (6.1.1)\n",
      "Requirement already satisfied: zipp>=3.1.0 in e:\\anaconda\\envs\\practicum\\lib\\site-packages (from importlib-resources>=1.2.0->sweetviz) (3.17.0)\n",
      "Requirement already satisfied: MarkupSafe>=2.0 in e:\\anaconda\\envs\\practicum\\lib\\site-packages (from jinja2>=2.11.1->sweetviz) (2.1.5)\n",
      "Requirement already satisfied: cycler>=0.10 in e:\\anaconda\\envs\\practicum\\lib\\site-packages (from matplotlib>=3.1.3->sweetviz) (0.12.1)\n",
      "Requirement already satisfied: kiwisolver>=1.0.1 in e:\\anaconda\\envs\\practicum\\lib\\site-packages (from matplotlib>=3.1.3->sweetviz) (1.4.5)\n",
      "Requirement already satisfied: pillow>=6.2.0 in e:\\anaconda\\envs\\practicum\\lib\\site-packages (from matplotlib>=3.1.3->sweetviz) (10.2.0)\n",
      "Requirement already satisfied: pyparsing!=2.0.4,!=2.1.2,!=2.1.6,>=2.0.3 in e:\\anaconda\\envs\\practicum\\lib\\site-packages (from matplotlib>=3.1.3->sweetviz) (3.1.1)\n",
      "Requirement already satisfied: python-dateutil>=2.1 in e:\\anaconda\\envs\\practicum\\lib\\site-packages (from matplotlib>=3.1.3->sweetviz) (2.8.2)\n",
      "Requirement already satisfied: pytz>=2017.3 in e:\\anaconda\\envs\\practicum\\lib\\site-packages (from pandas!=1.0.0,!=1.0.1,!=1.0.2,>=0.25.3->sweetviz) (2024.1)\n",
      "Requirement already satisfied: colorama in e:\\anaconda\\envs\\practicum\\lib\\site-packages (from tqdm>=4.43.0->sweetviz) (0.4.6)\n",
      "Requirement already satisfied: six>=1.5 in e:\\anaconda\\envs\\practicum\\lib\\site-packages (from python-dateutil>=2.1->matplotlib>=3.1.3->sweetviz) (1.16.0)\n",
      "Note: you may need to restart the kernel to use updated packages.\n"
     ]
    }
   ],
   "source": [
    "pip install sweetviz"
   ]
  },
  {
   "cell_type": "code",
   "execution_count": 2,
   "metadata": {},
   "outputs": [
    {
     "name": "stdout",
     "output_type": "stream",
     "text": [
      "Requirement already satisfied: pydantic-settings in e:\\anaconda\\envs\\practicum\\lib\\site-packages (2.2.1)\n",
      "Requirement already satisfied: pydantic>=2.3.0 in e:\\anaconda\\envs\\practicum\\lib\\site-packages (from pydantic-settings) (2.6.4)\n",
      "Requirement already satisfied: python-dotenv>=0.21.0 in e:\\anaconda\\envs\\practicum\\lib\\site-packages (from pydantic-settings) (1.0.1)\n",
      "Requirement already satisfied: annotated-types>=0.4.0 in e:\\anaconda\\envs\\practicum\\lib\\site-packages (from pydantic>=2.3.0->pydantic-settings) (0.6.0)\n",
      "Requirement already satisfied: pydantic-core==2.16.3 in e:\\anaconda\\envs\\practicum\\lib\\site-packages (from pydantic>=2.3.0->pydantic-settings) (2.16.3)\n",
      "Requirement already satisfied: typing-extensions>=4.6.1 in e:\\anaconda\\envs\\practicum\\lib\\site-packages (from pydantic>=2.3.0->pydantic-settings) (4.9.0)\n",
      "Note: you may need to restart the kernel to use updated packages.\n"
     ]
    }
   ],
   "source": [
    "pip install pydantic-settings"
   ]
  },
  {
   "cell_type": "code",
   "execution_count": 3,
   "metadata": {
    "scrolled": true
   },
   "outputs": [
    {
     "name": "stdout",
     "output_type": "stream",
     "text": [
      "Requirement already satisfied: pandas-profiling in e:\\anaconda\\envs\\practicum\\lib\\site-packages (3.6.6)\n",
      "Requirement already satisfied: ydata-profiling in e:\\anaconda\\envs\\practicum\\lib\\site-packages (from pandas-profiling) (4.6.5)\n",
      "Requirement already satisfied: scipy<1.12,>=1.4.1 in e:\\anaconda\\envs\\practicum\\lib\\site-packages (from ydata-profiling->pandas-profiling) (1.8.0)\n",
      "Requirement already satisfied: pandas!=1.4.0,<3,>1.1 in e:\\anaconda\\envs\\practicum\\lib\\site-packages (from ydata-profiling->pandas-profiling) (1.2.4)\n",
      "Requirement already satisfied: matplotlib<3.9,>=3.2 in e:\\anaconda\\envs\\practicum\\lib\\site-packages (from ydata-profiling->pandas-profiling) (3.3.4)\n",
      "Requirement already satisfied: pydantic>=2 in e:\\anaconda\\envs\\practicum\\lib\\site-packages (from ydata-profiling->pandas-profiling) (2.6.4)\n",
      "Requirement already satisfied: PyYAML<6.1,>=5.0.0 in e:\\anaconda\\envs\\practicum\\lib\\site-packages (from ydata-profiling->pandas-profiling) (6.0.1)\n",
      "Requirement already satisfied: jinja2<3.2,>=2.11.1 in e:\\anaconda\\envs\\practicum\\lib\\site-packages (from ydata-profiling->pandas-profiling) (3.1.3)\n",
      "Requirement already satisfied: visions==0.7.5 in e:\\anaconda\\envs\\practicum\\lib\\site-packages (from visions[type_image_path]==0.7.5->ydata-profiling->pandas-profiling) (0.7.5)\n",
      "Requirement already satisfied: numpy<1.26,>=1.16.0 in e:\\anaconda\\envs\\practicum\\lib\\site-packages (from ydata-profiling->pandas-profiling) (1.24.4)\n",
      "Requirement already satisfied: htmlmin==0.1.12 in e:\\anaconda\\envs\\practicum\\lib\\site-packages (from ydata-profiling->pandas-profiling) (0.1.12)\n",
      "Requirement already satisfied: phik<0.13,>=0.11.1 in e:\\anaconda\\envs\\practicum\\lib\\site-packages (from ydata-profiling->pandas-profiling) (0.12.4)\n",
      "Requirement already satisfied: requests<3,>=2.24.0 in e:\\anaconda\\envs\\practicum\\lib\\site-packages (from ydata-profiling->pandas-profiling) (2.31.0)\n",
      "Requirement already satisfied: tqdm<5,>=4.48.2 in e:\\anaconda\\envs\\practicum\\lib\\site-packages (from ydata-profiling->pandas-profiling) (4.66.2)\n",
      "Requirement already satisfied: seaborn<0.13,>=0.10.1 in e:\\anaconda\\envs\\practicum\\lib\\site-packages (from ydata-profiling->pandas-profiling) (0.11.1)\n",
      "Requirement already satisfied: multimethod<2,>=1.4 in e:\\anaconda\\envs\\practicum\\lib\\site-packages (from ydata-profiling->pandas-profiling) (1.11.2)\n",
      "Requirement already satisfied: statsmodels<1,>=0.13.2 in e:\\anaconda\\envs\\practicum\\lib\\site-packages (from ydata-profiling->pandas-profiling) (0.13.2)\n",
      "Requirement already satisfied: typeguard<5,>=4.1.2 in e:\\anaconda\\envs\\practicum\\lib\\site-packages (from ydata-profiling->pandas-profiling) (4.1.5)\n",
      "Requirement already satisfied: imagehash==4.3.1 in e:\\anaconda\\envs\\practicum\\lib\\site-packages (from ydata-profiling->pandas-profiling) (4.3.1)\n",
      "Requirement already satisfied: wordcloud>=1.9.1 in e:\\anaconda\\envs\\practicum\\lib\\site-packages (from ydata-profiling->pandas-profiling) (1.9.3)\n",
      "Requirement already satisfied: dacite>=1.8 in e:\\anaconda\\envs\\practicum\\lib\\site-packages (from ydata-profiling->pandas-profiling) (1.8.1)\n",
      "Requirement already satisfied: numba<0.59.0,>=0.56.0 in e:\\anaconda\\envs\\practicum\\lib\\site-packages (from ydata-profiling->pandas-profiling) (0.58.1)\n",
      "Requirement already satisfied: PyWavelets in e:\\anaconda\\envs\\practicum\\lib\\site-packages (from imagehash==4.3.1->ydata-profiling->pandas-profiling) (1.5.0)\n",
      "Requirement already satisfied: pillow in e:\\anaconda\\envs\\practicum\\lib\\site-packages (from imagehash==4.3.1->ydata-profiling->pandas-profiling) (10.2.0)\n",
      "Requirement already satisfied: attrs>=19.3.0 in e:\\anaconda\\envs\\practicum\\lib\\site-packages (from visions==0.7.5->visions[type_image_path]==0.7.5->ydata-profiling->pandas-profiling) (23.2.0)\n",
      "Requirement already satisfied: networkx>=2.4 in e:\\anaconda\\envs\\practicum\\lib\\site-packages (from visions==0.7.5->visions[type_image_path]==0.7.5->ydata-profiling->pandas-profiling) (3.2.1)\n",
      "Requirement already satisfied: tangled-up-in-unicode>=0.0.4 in e:\\anaconda\\envs\\practicum\\lib\\site-packages (from visions==0.7.5->visions[type_image_path]==0.7.5->ydata-profiling->pandas-profiling) (0.2.0)\n",
      "Requirement already satisfied: MarkupSafe>=2.0 in e:\\anaconda\\envs\\practicum\\lib\\site-packages (from jinja2<3.2,>=2.11.1->ydata-profiling->pandas-profiling) (2.1.5)\n",
      "Requirement already satisfied: cycler>=0.10 in e:\\anaconda\\envs\\practicum\\lib\\site-packages (from matplotlib<3.9,>=3.2->ydata-profiling->pandas-profiling) (0.12.1)\n",
      "Requirement already satisfied: kiwisolver>=1.0.1 in e:\\anaconda\\envs\\practicum\\lib\\site-packages (from matplotlib<3.9,>=3.2->ydata-profiling->pandas-profiling) (1.4.5)\n",
      "Requirement already satisfied: pyparsing!=2.0.4,!=2.1.2,!=2.1.6,>=2.0.3 in e:\\anaconda\\envs\\practicum\\lib\\site-packages (from matplotlib<3.9,>=3.2->ydata-profiling->pandas-profiling) (3.1.1)\n",
      "Requirement already satisfied: python-dateutil>=2.1 in e:\\anaconda\\envs\\practicum\\lib\\site-packages (from matplotlib<3.9,>=3.2->ydata-profiling->pandas-profiling) (2.8.2)\n",
      "Requirement already satisfied: llvmlite<0.42,>=0.41.0dev0 in e:\\anaconda\\envs\\practicum\\lib\\site-packages (from numba<0.59.0,>=0.56.0->ydata-profiling->pandas-profiling) (0.41.1)\n",
      "Requirement already satisfied: pytz>=2017.3 in e:\\anaconda\\envs\\practicum\\lib\\site-packages (from pandas!=1.4.0,<3,>1.1->ydata-profiling->pandas-profiling) (2024.1)\n",
      "Requirement already satisfied: joblib>=0.14.1 in e:\\anaconda\\envs\\practicum\\lib\\site-packages (from phik<0.13,>=0.11.1->ydata-profiling->pandas-profiling) (1.3.2)\n",
      "Requirement already satisfied: annotated-types>=0.4.0 in e:\\anaconda\\envs\\practicum\\lib\\site-packages (from pydantic>=2->ydata-profiling->pandas-profiling) (0.6.0)\n",
      "Requirement already satisfied: pydantic-core==2.16.3 in e:\\anaconda\\envs\\practicum\\lib\\site-packages (from pydantic>=2->ydata-profiling->pandas-profiling) (2.16.3)\n",
      "Requirement already satisfied: typing-extensions>=4.6.1 in e:\\anaconda\\envs\\practicum\\lib\\site-packages (from pydantic>=2->ydata-profiling->pandas-profiling) (4.9.0)\n",
      "Requirement already satisfied: charset-normalizer<4,>=2 in e:\\anaconda\\envs\\practicum\\lib\\site-packages (from requests<3,>=2.24.0->ydata-profiling->pandas-profiling) (3.3.2)\n",
      "Requirement already satisfied: idna<4,>=2.5 in e:\\anaconda\\envs\\practicum\\lib\\site-packages (from requests<3,>=2.24.0->ydata-profiling->pandas-profiling) (3.6)\n",
      "Requirement already satisfied: urllib3<3,>=1.21.1 in e:\\anaconda\\envs\\practicum\\lib\\site-packages (from requests<3,>=2.24.0->ydata-profiling->pandas-profiling) (2.2.1)\n",
      "Requirement already satisfied: certifi>=2017.4.17 in e:\\anaconda\\envs\\practicum\\lib\\site-packages (from requests<3,>=2.24.0->ydata-profiling->pandas-profiling) (2024.2.2)\n",
      "Requirement already satisfied: patsy>=0.5.2 in e:\\anaconda\\envs\\practicum\\lib\\site-packages (from statsmodels<1,>=0.13.2->ydata-profiling->pandas-profiling) (0.5.6)\n",
      "Requirement already satisfied: packaging>=21.3 in e:\\anaconda\\envs\\practicum\\lib\\site-packages (from statsmodels<1,>=0.13.2->ydata-profiling->pandas-profiling) (23.2)\n",
      "Requirement already satisfied: colorama in e:\\anaconda\\envs\\practicum\\lib\\site-packages (from tqdm<5,>=4.48.2->ydata-profiling->pandas-profiling) (0.4.6)\n",
      "Requirement already satisfied: importlib-metadata>=3.6 in e:\\anaconda\\envs\\practicum\\lib\\site-packages (from typeguard<5,>=4.1.2->ydata-profiling->pandas-profiling) (7.0.1)\n",
      "Requirement already satisfied: zipp>=0.5 in e:\\anaconda\\envs\\practicum\\lib\\site-packages (from importlib-metadata>=3.6->typeguard<5,>=4.1.2->ydata-profiling->pandas-profiling) (3.17.0)\n",
      "Requirement already satisfied: six in e:\\anaconda\\envs\\practicum\\lib\\site-packages (from patsy>=0.5.2->statsmodels<1,>=0.13.2->ydata-profiling->pandas-profiling) (1.16.0)\n",
      "Note: you may need to restart the kernel to use updated packages.\n"
     ]
    },
    {
     "name": "stderr",
     "output_type": "stream",
     "text": [
      "WARNING: visions 0.7.5 does not provide the extra 'type-image-path'\n"
     ]
    }
   ],
   "source": [
    "pip install pandas-profiling"
   ]
  },
  {
   "cell_type": "code",
   "execution_count": 4,
   "metadata": {},
   "outputs": [
    {
     "name": "stdout",
     "output_type": "stream",
     "text": [
      "Requirement already satisfied: lightgbm in e:\\anaconda\\envs\\practicum\\lib\\site-packages (4.3.0)\n",
      "Requirement already satisfied: numpy in e:\\anaconda\\envs\\practicum\\lib\\site-packages (from lightgbm) (1.24.4)\n",
      "Requirement already satisfied: scipy in e:\\anaconda\\envs\\practicum\\lib\\site-packages (from lightgbm) (1.8.0)\n",
      "Note: you may need to restart the kernel to use updated packages.\n"
     ]
    }
   ],
   "source": [
    "pip install lightgbm"
   ]
  },
  {
   "cell_type": "code",
   "execution_count": 5,
   "metadata": {
    "scrolled": true
   },
   "outputs": [],
   "source": [
    "import pandas as pd\n",
    "import numpy as np\n",
    "import seaborn as sns\n",
    "\n",
    "from scipy import stats as st\n",
    "from matplotlib import pyplot as plt\n",
    "from sklearn.tree import DecisionTreeRegressor\n",
    "from sklearn.ensemble import RandomForestRegressor\n",
    "from sklearn.linear_model import LinearRegression\n",
    "from sklearn.pipeline import Pipeline\n",
    "from sklearn.preprocessing import OrdinalEncoder, StandardScaler\n",
    "from sklearn.model_selection import train_test_split, cross_val_score, GridSearchCV\n",
    "from sklearn.metrics import (mean_squared_error,\n",
    "                             mean_absolute_error,\n",
    "                             accuracy_score, \n",
    "                             f1_score, roc_curve,\n",
    "                             roc_auc_score,\n",
    "                             make_scorer)\n",
    "from sklearn.utils import shuffle\n",
    "from tqdm import tqdm\n",
    "\n",
    "import sweetviz as sv \n",
    "from lightgbm import LGBMRegressor\n",
    "from catboost import Pool, CatBoostRegressor"
   ]
  },
  {
   "cell_type": "code",
   "execution_count": 6,
   "metadata": {},
   "outputs": [
    {
     "name": "stdout",
     "output_type": "stream",
     "text": [
      "<class 'pandas.core.frame.DataFrame'>\n",
      "RangeIndex: 354369 entries, 0 to 354368\n",
      "Data columns (total 16 columns):\n",
      " #   Column             Non-Null Count   Dtype \n",
      "---  ------             --------------   ----- \n",
      " 0   DateCrawled        354369 non-null  object\n",
      " 1   Price              354369 non-null  int64 \n",
      " 2   VehicleType        316879 non-null  object\n",
      " 3   RegistrationYear   354369 non-null  int64 \n",
      " 4   Gearbox            334536 non-null  object\n",
      " 5   Power              354369 non-null  int64 \n",
      " 6   Model              334664 non-null  object\n",
      " 7   Kilometer          354369 non-null  int64 \n",
      " 8   RegistrationMonth  354369 non-null  int64 \n",
      " 9   FuelType           321474 non-null  object\n",
      " 10  Brand              354369 non-null  object\n",
      " 11  Repaired           283215 non-null  object\n",
      " 12  DateCreated        354369 non-null  object\n",
      " 13  NumberOfPictures   354369 non-null  int64 \n",
      " 14  PostalCode         354369 non-null  int64 \n",
      " 15  LastSeen           354369 non-null  object\n",
      "dtypes: int64(7), object(9)\n",
      "memory usage: 43.3+ MB\n"
     ]
    },
    {
     "data": {
      "text/html": [
       "<div>\n",
       "<style scoped>\n",
       "    .dataframe tbody tr th:only-of-type {\n",
       "        vertical-align: middle;\n",
       "    }\n",
       "\n",
       "    .dataframe tbody tr th {\n",
       "        vertical-align: top;\n",
       "    }\n",
       "\n",
       "    .dataframe thead th {\n",
       "        text-align: right;\n",
       "    }\n",
       "</style>\n",
       "<table border=\"1\" class=\"dataframe\">\n",
       "  <thead>\n",
       "    <tr style=\"text-align: right;\">\n",
       "      <th></th>\n",
       "      <th>DateCrawled</th>\n",
       "      <th>Price</th>\n",
       "      <th>VehicleType</th>\n",
       "      <th>RegistrationYear</th>\n",
       "      <th>Gearbox</th>\n",
       "      <th>Power</th>\n",
       "      <th>Model</th>\n",
       "      <th>Kilometer</th>\n",
       "      <th>RegistrationMonth</th>\n",
       "      <th>FuelType</th>\n",
       "      <th>Brand</th>\n",
       "      <th>Repaired</th>\n",
       "      <th>DateCreated</th>\n",
       "      <th>NumberOfPictures</th>\n",
       "      <th>PostalCode</th>\n",
       "      <th>LastSeen</th>\n",
       "    </tr>\n",
       "  </thead>\n",
       "  <tbody>\n",
       "    <tr>\n",
       "      <th>0</th>\n",
       "      <td>2016-03-24 11:52:17</td>\n",
       "      <td>480</td>\n",
       "      <td>NaN</td>\n",
       "      <td>1993</td>\n",
       "      <td>manual</td>\n",
       "      <td>0</td>\n",
       "      <td>golf</td>\n",
       "      <td>150000</td>\n",
       "      <td>0</td>\n",
       "      <td>petrol</td>\n",
       "      <td>volkswagen</td>\n",
       "      <td>NaN</td>\n",
       "      <td>2016-03-24 00:00:00</td>\n",
       "      <td>0</td>\n",
       "      <td>70435</td>\n",
       "      <td>2016-04-07 03:16:57</td>\n",
       "    </tr>\n",
       "    <tr>\n",
       "      <th>1</th>\n",
       "      <td>2016-03-24 10:58:45</td>\n",
       "      <td>18300</td>\n",
       "      <td>coupe</td>\n",
       "      <td>2011</td>\n",
       "      <td>manual</td>\n",
       "      <td>190</td>\n",
       "      <td>NaN</td>\n",
       "      <td>125000</td>\n",
       "      <td>5</td>\n",
       "      <td>gasoline</td>\n",
       "      <td>audi</td>\n",
       "      <td>yes</td>\n",
       "      <td>2016-03-24 00:00:00</td>\n",
       "      <td>0</td>\n",
       "      <td>66954</td>\n",
       "      <td>2016-04-07 01:46:50</td>\n",
       "    </tr>\n",
       "    <tr>\n",
       "      <th>2</th>\n",
       "      <td>2016-03-14 12:52:21</td>\n",
       "      <td>9800</td>\n",
       "      <td>suv</td>\n",
       "      <td>2004</td>\n",
       "      <td>auto</td>\n",
       "      <td>163</td>\n",
       "      <td>grand</td>\n",
       "      <td>125000</td>\n",
       "      <td>8</td>\n",
       "      <td>gasoline</td>\n",
       "      <td>jeep</td>\n",
       "      <td>NaN</td>\n",
       "      <td>2016-03-14 00:00:00</td>\n",
       "      <td>0</td>\n",
       "      <td>90480</td>\n",
       "      <td>2016-04-05 12:47:46</td>\n",
       "    </tr>\n",
       "    <tr>\n",
       "      <th>3</th>\n",
       "      <td>2016-03-17 16:54:04</td>\n",
       "      <td>1500</td>\n",
       "      <td>small</td>\n",
       "      <td>2001</td>\n",
       "      <td>manual</td>\n",
       "      <td>75</td>\n",
       "      <td>golf</td>\n",
       "      <td>150000</td>\n",
       "      <td>6</td>\n",
       "      <td>petrol</td>\n",
       "      <td>volkswagen</td>\n",
       "      <td>no</td>\n",
       "      <td>2016-03-17 00:00:00</td>\n",
       "      <td>0</td>\n",
       "      <td>91074</td>\n",
       "      <td>2016-03-17 17:40:17</td>\n",
       "    </tr>\n",
       "    <tr>\n",
       "      <th>4</th>\n",
       "      <td>2016-03-31 17:25:20</td>\n",
       "      <td>3600</td>\n",
       "      <td>small</td>\n",
       "      <td>2008</td>\n",
       "      <td>manual</td>\n",
       "      <td>69</td>\n",
       "      <td>fabia</td>\n",
       "      <td>90000</td>\n",
       "      <td>7</td>\n",
       "      <td>gasoline</td>\n",
       "      <td>skoda</td>\n",
       "      <td>no</td>\n",
       "      <td>2016-03-31 00:00:00</td>\n",
       "      <td>0</td>\n",
       "      <td>60437</td>\n",
       "      <td>2016-04-06 10:17:21</td>\n",
       "    </tr>\n",
       "  </tbody>\n",
       "</table>\n",
       "</div>"
      ],
      "text/plain": [
       "           DateCrawled  Price VehicleType  RegistrationYear Gearbox  Power  \\\n",
       "0  2016-03-24 11:52:17    480         NaN              1993  manual      0   \n",
       "1  2016-03-24 10:58:45  18300       coupe              2011  manual    190   \n",
       "2  2016-03-14 12:52:21   9800         suv              2004    auto    163   \n",
       "3  2016-03-17 16:54:04   1500       small              2001  manual     75   \n",
       "4  2016-03-31 17:25:20   3600       small              2008  manual     69   \n",
       "\n",
       "   Model  Kilometer  RegistrationMonth  FuelType       Brand Repaired  \\\n",
       "0   golf     150000                  0    petrol  volkswagen      NaN   \n",
       "1    NaN     125000                  5  gasoline        audi      yes   \n",
       "2  grand     125000                  8  gasoline        jeep      NaN   \n",
       "3   golf     150000                  6    petrol  volkswagen       no   \n",
       "4  fabia      90000                  7  gasoline       skoda       no   \n",
       "\n",
       "           DateCreated  NumberOfPictures  PostalCode             LastSeen  \n",
       "0  2016-03-24 00:00:00                 0       70435  2016-04-07 03:16:57  \n",
       "1  2016-03-24 00:00:00                 0       66954  2016-04-07 01:46:50  \n",
       "2  2016-03-14 00:00:00                 0       90480  2016-04-05 12:47:46  \n",
       "3  2016-03-17 00:00:00                 0       91074  2016-03-17 17:40:17  \n",
       "4  2016-03-31 00:00:00                 0       60437  2016-04-06 10:17:21  "
      ]
     },
     "execution_count": 6,
     "metadata": {},
     "output_type": "execute_result"
    }
   ],
   "source": [
    "data = pd.read_csv('autos.csv')\n",
    "data.info()\n",
    "data.head()"
   ]
  },
  {
   "cell_type": "markdown",
   "metadata": {},
   "source": [
    "Итак мы имеем датасет с 16 столбцами и 354369 строками, часть из которых содержит пропуски в различных столбцах.  \n",
    "\n",
    "Начнём выполнение этапов по порядку."
   ]
  },
  {
   "cell_type": "markdown",
   "metadata": {},
   "source": [
    "### Изменение названия и типов данных столбцов"
   ]
  },
  {
   "cell_type": "code",
   "execution_count": 7,
   "metadata": {},
   "outputs": [],
   "source": [
    "# приведем названия столбцов в соответствие snake_case\n",
    "data = data.rename(columns={\n",
    "    'DateCrawled': 'profile_downloaded_date',\n",
    "    'Price': 'price',\n",
    "    'VehicleType': 'vehicle_type',\n",
    "    'RegistrationYear': 'registration_year',\n",
    "    'Gearbox': 'gearbox_type',\n",
    "    'Power': 'power',\n",
    "    'Model': 'model',\n",
    "    'Kilometer': 'mileage',\n",
    "    'RegistrationMonth': 'registration_month',\n",
    "    'FuelType': 'fuel_type',\n",
    "    'Brand': 'brand',\n",
    "    'Repaired': 'was_repaired',\n",
    "    'DateCreated': 'profile_creation_date',\n",
    "    'NumberOfPictures': 'number_of_pictures',\n",
    "    'PostalCode': 'postcode',\n",
    "    'LastSeen': 'user_last_online'\n",
    "})"
   ]
  },
  {
   "cell_type": "code",
   "execution_count": 8,
   "metadata": {},
   "outputs": [],
   "source": [
    "# изменим тип данных столбцов\n",
    "data['profile_downloaded_date'] = pd.to_datetime(data['profile_downloaded_date'])\n",
    "data['profile_creation_date'] = pd.to_datetime(data['profile_creation_date'])"
   ]
  },
  {
   "cell_type": "markdown",
   "metadata": {},
   "source": [
    "### Работа с дубликатами"
   ]
  },
  {
   "cell_type": "code",
   "execution_count": 9,
   "metadata": {},
   "outputs": [
    {
     "data": {
      "text/plain": [
       "4"
      ]
     },
     "execution_count": 9,
     "metadata": {},
     "output_type": "execute_result"
    }
   ],
   "source": [
    "# теперь оценим количество явных и неявных дубликатов\n",
    "data.duplicated().sum()"
   ]
  },
  {
   "cell_type": "code",
   "execution_count": 10,
   "metadata": {},
   "outputs": [],
   "source": [
    "# и удалим их\n",
    "data = data.drop_duplicates().reset_index(drop=True)"
   ]
  },
  {
   "cell_type": "code",
   "execution_count": 11,
   "metadata": {
    "scrolled": false
   },
   "outputs": [],
   "source": [
    "# оценим неявные дубликаты \n",
    "object_columns = ['vehicle_type', 'gearbox_type', 'model', 'fuel_type', 'brand', 'was_repaired']\n",
    "for i in object_columns:\n",
    "    data[i] = data[i].str.lower()\n",
    "    "
   ]
  },
  {
   "cell_type": "code",
   "execution_count": 12,
   "metadata": {},
   "outputs": [
    {
     "data": {
      "text/plain": [
       "11876"
      ]
     },
     "execution_count": 12,
     "metadata": {},
     "output_type": "execute_result"
    }
   ],
   "source": [
    "data[['vehicle_type',\n",
    "     'registration_year',\n",
    "     'gearbox_type',\n",
    "     'power',\n",
    "     'model',\n",
    "     'mileage',\n",
    "     'registration_month',\n",
    "     'fuel_type',\n",
    "     'brand',\n",
    "     'was_repaired',\n",
    "     'profile_creation_date',\n",
    "     'number_of_pictures',\n",
    "     'postcode'\n",
    "    ]].duplicated().sum()"
   ]
  },
  {
   "cell_type": "markdown",
   "metadata": {},
   "source": [
    "Количество неявных дубликатов составляет менее 4%. Можем удалить эти данные."
   ]
  },
  {
   "cell_type": "code",
   "execution_count": 13,
   "metadata": {},
   "outputs": [],
   "source": [
    "data.drop_duplicates(subset=[\n",
    "    'vehicle_type',\n",
    "    'registration_year',\n",
    "    'gearbox_type',\n",
    "    'power',\n",
    "    'model',\n",
    "    'mileage',\n",
    "    'registration_month',\n",
    "    'fuel_type',\n",
    "    'brand',\n",
    "    'was_repaired',\n",
    "    'profile_creation_date',\n",
    "    'number_of_pictures',\n",
    "    'postcode'\n",
    "], inplace=True)"
   ]
  },
  {
   "cell_type": "markdown",
   "metadata": {},
   "source": [
    "### Обработка пропусков"
   ]
  },
  {
   "cell_type": "code",
   "execution_count": 14,
   "metadata": {},
   "outputs": [
    {
     "data": {
      "text/plain": [
       "vehicle_type    36869\n",
       "gearbox_type    19397\n",
       "model           19381\n",
       "fuel_type       32380\n",
       "was_repaired    69733\n",
       "dtype: int64"
      ]
     },
     "metadata": {},
     "output_type": "display_data"
    },
    {
     "data": {
      "text/plain": [
       "vehicle_type    0.108\n",
       "gearbox_type    0.057\n",
       "model           0.057\n",
       "fuel_type       0.095\n",
       "was_repaired    0.204\n",
       "dtype: float64"
      ]
     },
     "execution_count": 14,
     "metadata": {},
     "output_type": "execute_result"
    }
   ],
   "source": [
    "data_na_1 = data.isna().sum()\n",
    "display(data_na_1[data_na_1 > 0])\n",
    "data_na_2 = data.isna().mean().round(3)\n",
    "data_na_2[data_na_2 > 0]"
   ]
  },
  {
   "cell_type": "code",
   "execution_count": 15,
   "metadata": {},
   "outputs": [
    {
     "data": {
      "text/plain": [
       "106568"
      ]
     },
     "execution_count": 15,
     "metadata": {},
     "output_type": "execute_result"
    }
   ],
   "source": [
    "data.isna().any(axis=1).sum()"
   ]
  },
  {
   "cell_type": "markdown",
   "metadata": {},
   "source": [
    "Видим, что у нас есть 5 столбцов, в которых имеются пропуски, и которые составляют от 6 до 20 процентов столбца.  \n",
    "Если удалить все строки, в которых содержится хотя бы один пропуск, то получится довольно ощутимое количество - почти треть датасета, поэтому попробуем частично их заполнить. "
   ]
  },
  {
   "cell_type": "code",
   "execution_count": 16,
   "metadata": {
    "scrolled": false
   },
   "outputs": [
    {
     "name": "stdout",
     "output_type": "stream",
     "text": [
      "vehicle_type [nan 'coupe' 'suv' 'small' 'sedan' 'convertible' 'bus' 'wagon' 'other'] \n",
      "\n",
      "gearbox_type ['manual' 'auto' nan] \n",
      "\n",
      "model ['golf' nan 'grand' 'fabia' '3er' '2_reihe' 'other' 'c_max' '3_reihe'\n",
      " 'passat' 'navara' 'ka' 'polo' 'twingo' 'a_klasse' 'scirocco' '5er'\n",
      " 'meriva' 'arosa' 'c4' 'civic' 'transporter' 'punto' 'e_klasse' 'clio'\n",
      " 'kadett' 'kangoo' 'corsa' 'one' 'fortwo' '1er' 'b_klasse' 'signum'\n",
      " 'astra' 'a8' 'jetta' 'fiesta' 'c_klasse' 'micra' 'vito' 'sprinter' '156'\n",
      " 'escort' 'forester' 'xc_reihe' 'scenic' 'a4' 'a1' 'insignia' 'combo'\n",
      " 'focus' 'tt' 'a6' 'jazz' 'omega' 'slk' '7er' '80' '147' '100' 'z_reihe'\n",
      " 'sportage' 'sorento' 'v40' 'ibiza' 'mustang' 'eos' 'touran' 'getz' 'a3'\n",
      " 'almera' 'megane' 'lupo' 'r19' 'zafira' 'caddy' 'mondeo' 'cordoba' 'colt'\n",
      " 'impreza' 'vectra' 'berlingo' 'tiguan' 'i_reihe' 'espace' 'sharan'\n",
      " '6_reihe' 'panda' 'up' 'seicento' 'ceed' '5_reihe' 'yeti' 'octavia' 'mii'\n",
      " 'rx_reihe' '6er' 'modus' 'fox' 'matiz' 'beetle' 'c1' 'rio' 'touareg'\n",
      " 'logan' 'spider' 'cuore' 's_max' 'a2' 'galaxy' 'c3' 'viano' 's_klasse'\n",
      " '1_reihe' 'avensis' 'roomster' 'sl' 'kaefer' 'santa' 'cooper' 'leon'\n",
      " '4_reihe' 'a5' '500' 'laguna' 'ptcruiser' 'clk' 'primera' 'x_reihe'\n",
      " 'exeo' '159' 'transit' 'juke' 'qashqai' 'carisma' 'accord' 'corolla'\n",
      " 'lanos' 'phaeton' 'verso' 'swift' 'rav' 'picanto' 'boxster' 'kalos'\n",
      " 'superb' 'stilo' 'alhambra' 'mx_reihe' 'roadster' 'ypsilon' 'cayenne'\n",
      " 'galant' 'justy' '90' 'sirion' 'crossfire' 'agila' 'duster' 'cr_reihe'\n",
      " 'v50' 'c_reihe' 'v_klasse' 'm_klasse' 'yaris' 'c5' 'aygo' 'cc' 'carnival'\n",
      " 'fusion' '911' 'bora' 'forfour' 'm_reihe' 'cl' 'tigra' '300c' 'spark'\n",
      " 'v70' 'kuga' 'x_type' 'ducato' 's_type' 'x_trail' 'toledo' 'altea'\n",
      " 'voyager' 'calibra' 'bravo' 'antara' 'tucson' 'citigo' 'jimny' 'wrangler'\n",
      " 'lybra' 'q7' 'lancer' 'captiva' 'c2' 'discovery' 'freelander' 'sandero'\n",
      " 'note' '900' 'cherokee' 'clubman' 'samara' 'defender' '601' 'cx_reihe'\n",
      " 'legacy' 'pajero' 'auris' 'niva' 's60' 'nubira' 'vivaro' 'g_klasse'\n",
      " 'lodgy' '850' 'range_rover' 'q3' 'serie_2' 'glk' 'charade' 'croma'\n",
      " 'outlander' 'doblo' 'musa' 'move' '9000' 'v60' '145' 'aveo' '200' 'b_max'\n",
      " 'range_rover_sport' 'terios' 'rangerover' 'q5' 'range_rover_evoque'\n",
      " 'materia' 'delta' 'gl' 'kalina' 'amarok' 'elefantino' 'i3' 'kappa'\n",
      " 'serie_3' 'serie_1'] \n",
      "\n",
      "fuel_type ['petrol' 'gasoline' nan 'lpg' 'other' 'hybrid' 'cng' 'electric'] \n",
      "\n",
      "was_repaired [nan 'yes' 'no'] \n",
      "\n"
     ]
    }
   ],
   "source": [
    "for i in data_na_2[data_na_2 > 0].index:\n",
    "    print(i, data[i].unique(), '\\n')\n"
   ]
  },
  {
   "cell_type": "markdown",
   "metadata": {},
   "source": [
    "Как мы видим, в столбцах vehicle_type, model, fuel_type уже присутвует категория \"other\". Поэтому все пропуски в этих столбцах заменим на эту категорию.\n",
    "\n",
    "Столбец was_repaired содержит слишком много пропусков, чтобы их просто удалить, поэтому сделаем предположение, что, если данные не указаны, значит автомобиль не был в ремонте (в конце концов, как иначе может быть в компании \"Не бит, не крашен\").\n",
    "\n",
    "Столбец gearbox_type мы никак не можем заполнить случайным образом, так как одинаковые модели автомобилей могут быть как с автоматической, так и с ручной коробкой, но пропусков в этом столбце не так много (~6%), поэтому удалим строчки с пропусками."
   ]
  },
  {
   "cell_type": "code",
   "execution_count": 17,
   "metadata": {},
   "outputs": [
    {
     "name": "stdout",
     "output_type": "stream",
     "text": [
      "<class 'pandas.core.frame.DataFrame'>\n",
      "RangeIndex: 323092 entries, 0 to 323091\n",
      "Data columns (total 16 columns):\n",
      " #   Column                   Non-Null Count   Dtype         \n",
      "---  ------                   --------------   -----         \n",
      " 0   profile_downloaded_date  323092 non-null  datetime64[ns]\n",
      " 1   price                    323092 non-null  int64         \n",
      " 2   vehicle_type             323092 non-null  object        \n",
      " 3   registration_year        323092 non-null  int64         \n",
      " 4   gearbox_type             323092 non-null  object        \n",
      " 5   power                    323092 non-null  int64         \n",
      " 6   model                    323092 non-null  object        \n",
      " 7   mileage                  323092 non-null  int64         \n",
      " 8   registration_month       323092 non-null  int64         \n",
      " 9   fuel_type                323092 non-null  object        \n",
      " 10  brand                    323092 non-null  object        \n",
      " 11  was_repaired             323092 non-null  object        \n",
      " 12  profile_creation_date    323092 non-null  datetime64[ns]\n",
      " 13  number_of_pictures       323092 non-null  int64         \n",
      " 14  postcode                 323092 non-null  int64         \n",
      " 15  user_last_online         323092 non-null  object        \n",
      "dtypes: datetime64[ns](2), int64(7), object(7)\n",
      "memory usage: 39.4+ MB\n"
     ]
    }
   ],
   "source": [
    "data['vehicle_type'].fillna('other', inplace=True)\n",
    "data['model'].fillna('other', inplace=True)\n",
    "data['fuel_type'].fillna('other', inplace=True)\n",
    "data['was_repaired'].fillna('no', inplace=True)\n",
    "\n",
    "data = data.dropna(subset=['gearbox_type'])\n",
    "data.reset_index(inplace=True, drop=True)\n",
    "\n",
    "data.info()"
   ]
  },
  {
   "cell_type": "markdown",
   "metadata": {},
   "source": [
    "### Исследование распределения данных и наличия выбросов / аномалий"
   ]
  },
  {
   "cell_type": "markdown",
   "metadata": {},
   "source": [
    "Прежде чем приступить к исследованию данных, удалим столбцы, которые никак не влияют на итоговую стоимость автомобиля, а именно:\n",
    "- profile_downloaded_date - дата скачивания анкеты из базы.\n",
    "- profile_creation_date - дата создания анкеты.\n",
    "- user_last_online - дата последней активности пользователя.\n",
    "- registration_month - месяц регистрации автомобиля (так как у нас есть данные о годе регистрации).\n",
    "- number_of_pictures - количество фотографий автомобиля, так как столбец полностью состоит из нулей."
   ]
  },
  {
   "cell_type": "code",
   "execution_count": 18,
   "metadata": {
    "scrolled": true
   },
   "outputs": [],
   "source": [
    "data_dropped = data.drop(['profile_downloaded_date', 'profile_creation_date', 'user_last_online', 'registration_month', 'number_of_pictures'], axis=1)"
   ]
  },
  {
   "cell_type": "code",
   "execution_count": 19,
   "metadata": {
    "scrolled": true
   },
   "outputs": [],
   "source": [
    "# исследуем данные с помощью sweetviz\n",
    "# sv_report = sv.analyze(data_dropped)"
   ]
  },
  {
   "cell_type": "code",
   "execution_count": 20,
   "metadata": {},
   "outputs": [],
   "source": [
    "# sv_report.show_html('data_analysis.html')"
   ]
  },
  {
   "cell_type": "markdown",
   "metadata": {},
   "source": [
    "В большинстве столбцов данные распределены адекватно, без каких-либо выраженных выбросов или аномалий, кроме столбцов **registration_year и power**. Исследуем эти столбцы подробнее."
   ]
  },
  {
   "cell_type": "code",
   "execution_count": 21,
   "metadata": {},
   "outputs": [
    {
     "data": {
      "text/plain": [
       "count    323092.000000\n",
       "mean       2003.338473\n",
       "std          30.631231\n",
       "min        1000.000000\n",
       "25%        1999.000000\n",
       "50%        2003.000000\n",
       "75%        2008.000000\n",
       "max        9000.000000\n",
       "Name: registration_year, dtype: float64"
      ]
     },
     "execution_count": 21,
     "metadata": {},
     "output_type": "execute_result"
    }
   ],
   "source": [
    "data_dropped['registration_year'].describe()"
   ]
  },
  {
   "cell_type": "code",
   "execution_count": 22,
   "metadata": {
    "scrolled": false
   },
   "outputs": [
    {
     "data": {
      "text/plain": [
       "<AxesSubplot:>"
      ]
     },
     "execution_count": 22,
     "metadata": {},
     "output_type": "execute_result"
    },
    {
     "data": {
      "image/png": "[encoded data removed]",
      "text/plain": [
       "<Figure size 640x480 with 1 Axes>"
      ]
     },
     "metadata": {},
     "output_type": "display_data"
    }
   ],
   "source": [
    "sns.set_theme(style='darkgrid')\n",
    "data_dropped['registration_year'].hist(bins=50)\n"
   ]
  },
  {
   "cell_type": "markdown",
   "metadata": {},
   "source": [
    "Как видно из данных выше, в столбце с годом регистрации есть явные аномалии, такие как год 9000 и 1000."
   ]
  },
  {
   "cell_type": "code",
   "execution_count": 23,
   "metadata": {},
   "outputs": [
    {
     "data": {
      "text/plain": [
       "count    323092.000000\n",
       "mean        114.273377\n",
       "std         192.585707\n",
       "min           0.000000\n",
       "25%          75.000000\n",
       "50%         105.000000\n",
       "75%         143.000000\n",
       "max       20000.000000\n",
       "Name: power, dtype: float64"
      ]
     },
     "execution_count": 23,
     "metadata": {},
     "output_type": "execute_result"
    }
   ],
   "source": [
    "data_dropped['power'].describe()"
   ]
  },
  {
   "cell_type": "code",
   "execution_count": 24,
   "metadata": {},
   "outputs": [
    {
     "data": {
      "image/png": "[encoded data removed]",
      "text/plain": [
       "<Figure size 640x480 with 1 Axes>"
      ]
     },
     "metadata": {},
     "output_type": "display_data"
    }
   ],
   "source": [
    "data_dropped['power'].hist(bins=50)\n",
    "None"
   ]
  },
  {
   "cell_type": "code",
   "execution_count": 25,
   "metadata": {},
   "outputs": [],
   "source": [
    "# создадим функцию для отсечения данных сверх +- 3 стандартных отклонения\n",
    "def std3_cut(data):\n",
    "    data_columns = list(data.columns)\n",
    "    \n",
    "    for i in data_columns:\n",
    "        mean = data[i].mean()\n",
    "        std = data[i].std()\n",
    "        data[i] = data[i][(data[i] > (mean - std * 3)) & (data[i] < (mean + std * 3))]\n",
    "    return data"
   ]
  },
  {
   "cell_type": "code",
   "execution_count": 26,
   "metadata": {},
   "outputs": [
    {
     "name": "stderr",
     "output_type": "stream",
     "text": [
      "C:\\Users\\user\\AppData\\Local\\Temp\\ipykernel_23088\\3576817451.py:8: SettingWithCopyWarning: \n",
      "A value is trying to be set on a copy of a slice from a DataFrame.\n",
      "Try using .loc[row_indexer,col_indexer] = value instead\n",
      "\n",
      "See the caveats in the documentation: https://pandas.pydata.org/pandas-docs/stable/user_guide/indexing.html#returning-a-view-versus-a-copy\n",
      "  data[i] = data[i][(data[i] > (mean - std * 3)) & (data[i] < (mean + std * 3))]\n",
      "C:\\Users\\user\\AppData\\Local\\Temp\\ipykernel_23088\\3576817451.py:8: SettingWithCopyWarning: \n",
      "A value is trying to be set on a copy of a slice from a DataFrame.\n",
      "Try using .loc[row_indexer,col_indexer] = value instead\n",
      "\n",
      "See the caveats in the documentation: https://pandas.pydata.org/pandas-docs/stable/user_guide/indexing.html#returning-a-view-versus-a-copy\n",
      "  data[i] = data[i][(data[i] > (mean - std * 3)) & (data[i] < (mean + std * 3))]\n",
      "C:\\Users\\user\\AppData\\Local\\Temp\\ipykernel_23088\\3576817451.py:8: SettingWithCopyWarning: \n",
      "A value is trying to be set on a copy of a slice from a DataFrame.\n",
      "Try using .loc[row_indexer,col_indexer] = value instead\n",
      "\n",
      "See the caveats in the documentation: https://pandas.pydata.org/pandas-docs/stable/user_guide/indexing.html#returning-a-view-versus-a-copy\n",
      "  data[i] = data[i][(data[i] > (mean - std * 3)) & (data[i] < (mean + std * 3))]\n"
     ]
    }
   ],
   "source": [
    "data_dropped[['registration_year', 'power', 'price']] = std3_cut(data_dropped[['registration_year', 'power', 'price']])"
   ]
  },
  {
   "cell_type": "code",
   "execution_count": 27,
   "metadata": {},
   "outputs": [
    {
     "data": {
      "image/png": "[encoded data removed]",
      "text/plain": [
       "<Figure size 640x480 with 1 Axes>"
      ]
     },
     "metadata": {},
     "output_type": "display_data"
    }
   ],
   "source": [
    "data_dropped['registration_year'].hist(bins=50)\n",
    "None"
   ]
  },
  {
   "cell_type": "code",
   "execution_count": 28,
   "metadata": {
    "scrolled": false
   },
   "outputs": [
    {
     "data": {
      "image/png": "[encoded data removed]",
      "text/plain": [
       "<Figure size 640x480 with 1 Axes>"
      ]
     },
     "metadata": {},
     "output_type": "display_data"
    }
   ],
   "source": [
    "data_dropped['power'].hist(bins=50)\n",
    "None"
   ]
  },
  {
   "cell_type": "markdown",
   "metadata": {},
   "source": [
    "Заметим, что в столбце с мощностью двигателя существуют строки с мощностью, равной нулю или околонулевым значениям, что явно является аномалией. Оценим количество таких строк."
   ]
  },
  {
   "cell_type": "code",
   "execution_count": 29,
   "metadata": {
    "scrolled": false
   },
   "outputs": [
    {
     "name": "stdout",
     "output_type": "stream",
     "text": [
      "27731\n"
     ]
    },
    {
     "data": {
      "text/plain": [
       "<AxesSubplot:>"
      ]
     },
     "execution_count": 29,
     "metadata": {},
     "output_type": "execute_result"
    },
    {
     "data": {
      "image/png": "[encoded data removed]",
      "text/plain": [
       "<Figure size 640x480 with 1 Axes>"
      ]
     },
     "metadata": {},
     "output_type": "display_data"
    }
   ],
   "source": [
    "power_data = data_dropped.loc[(data_dropped['power'] < 40), 'power']\n",
    "print(power_data.count())\n",
    "power_data.hist(bins=50)"
   ]
  },
  {
   "cell_type": "code",
   "execution_count": 30,
   "metadata": {},
   "outputs": [],
   "source": [
    "# удалим строки, в которых указанная мощность меньше 40\n",
    "data_dropped = data_dropped[(data_dropped['power'] > 40)]\n",
    "data_dropped.reset_index(drop=True, inplace=True)"
   ]
  },
  {
   "cell_type": "markdown",
   "metadata": {},
   "source": [
    "С выбросами и аномалиями разобрались. \n",
    "\n"
   ]
  },
  {
   "cell_type": "code",
   "execution_count": 31,
   "metadata": {},
   "outputs": [],
   "source": [
    "# заполним появившееся небольшое количество пропусков медианным значением по соответствующему столбцу\n",
    "data_dropped['registration_year'].fillna(data_dropped['registration_year'].median(), inplace=True)\n"
   ]
  },
  {
   "cell_type": "code",
   "execution_count": 32,
   "metadata": {},
   "outputs": [
    {
     "data": {
      "text/plain": [
       "9786"
      ]
     },
     "execution_count": 32,
     "metadata": {},
     "output_type": "execute_result"
    }
   ],
   "source": [
    "# удалим из датасета строки, год регистрации которых больше чем год скачивания анкет (>2016)\n",
    "data_dropped[data_dropped['registration_year'] > 2016].shape[0]"
   ]
  },
  {
   "cell_type": "code",
   "execution_count": 33,
   "metadata": {},
   "outputs": [],
   "source": [
    "data_dropped = data_dropped[(data_dropped['registration_year'] <= 2016)]\n",
    "data_dropped.reset_index(drop=True, inplace=True)"
   ]
  },
  {
   "cell_type": "code",
   "execution_count": 34,
   "metadata": {},
   "outputs": [
    {
     "name": "stdout",
     "output_type": "stream",
     "text": [
      "<class 'pandas.core.frame.DataFrame'>\n",
      "RangeIndex: 284942 entries, 0 to 284941\n",
      "Data columns (total 11 columns):\n",
      " #   Column             Non-Null Count   Dtype  \n",
      "---  ------             --------------   -----  \n",
      " 0   price              280556 non-null  float64\n",
      " 1   vehicle_type       284942 non-null  object \n",
      " 2   registration_year  284942 non-null  float64\n",
      " 3   gearbox_type       284942 non-null  object \n",
      " 4   power              284942 non-null  float64\n",
      " 5   model              284942 non-null  object \n",
      " 6   mileage            284942 non-null  int64  \n",
      " 7   fuel_type          284942 non-null  object \n",
      " 8   brand              284942 non-null  object \n",
      " 9   was_repaired       284942 non-null  object \n",
      " 10  postcode           284942 non-null  int64  \n",
      "dtypes: float64(3), int64(2), object(6)\n",
      "memory usage: 23.9+ MB\n"
     ]
    }
   ],
   "source": [
    "data_dropped.info()"
   ]
  },
  {
   "cell_type": "code",
   "execution_count": 35,
   "metadata": {},
   "outputs": [],
   "source": [
    "data_dropped = data_dropped[(data_dropped['price'] > 100)]\n",
    "data_dropped.reset_index(drop=True, inplace=True)"
   ]
  },
  {
   "cell_type": "code",
   "execution_count": 36,
   "metadata": {
    "scrolled": false
   },
   "outputs": [
    {
     "data": {
      "text/html": [
       "<div>\n",
       "<style scoped>\n",
       "    .dataframe tbody tr th:only-of-type {\n",
       "        vertical-align: middle;\n",
       "    }\n",
       "\n",
       "    .dataframe tbody tr th {\n",
       "        vertical-align: top;\n",
       "    }\n",
       "\n",
       "    .dataframe thead th {\n",
       "        text-align: right;\n",
       "    }\n",
       "</style>\n",
       "<table border=\"1\" class=\"dataframe\">\n",
       "  <thead>\n",
       "    <tr style=\"text-align: right;\">\n",
       "      <th></th>\n",
       "      <th>price</th>\n",
       "      <th>vehicle_type</th>\n",
       "      <th>registration_year</th>\n",
       "      <th>gearbox_type</th>\n",
       "      <th>power</th>\n",
       "      <th>model</th>\n",
       "      <th>mileage</th>\n",
       "      <th>fuel_type</th>\n",
       "      <th>brand</th>\n",
       "      <th>was_repaired</th>\n",
       "      <th>postcode</th>\n",
       "    </tr>\n",
       "  </thead>\n",
       "  <tbody>\n",
       "  </tbody>\n",
       "</table>\n",
       "</div>"
      ],
      "text/plain": [
       "Empty DataFrame\n",
       "Columns: [price, vehicle_type, registration_year, gearbox_type, power, model, mileage, fuel_type, brand, was_repaired, postcode]\n",
       "Index: []"
      ]
     },
     "execution_count": 36,
     "metadata": {},
     "output_type": "execute_result"
    }
   ],
   "source": [
    "data_dropped[data_dropped['price'] < 100].sort_values(by='price')"
   ]
  },
  {
   "cell_type": "code",
   "execution_count": 37,
   "metadata": {
    "scrolled": true
   },
   "outputs": [
    {
     "data": {
      "text/plain": [
       "count    323092.000000\n",
       "mean       4525.800948\n",
       "std        4544.356316\n",
       "min           0.000000\n",
       "25%        1150.000000\n",
       "50%        2800.000000\n",
       "75%        6500.000000\n",
       "max       20000.000000\n",
       "Name: price, dtype: float64"
      ]
     },
     "execution_count": 37,
     "metadata": {},
     "output_type": "execute_result"
    }
   ],
   "source": [
    "data['price'].describe()"
   ]
  },
  {
   "cell_type": "code",
   "execution_count": 38,
   "metadata": {},
   "outputs": [
    {
     "data": {
      "text/plain": [
       "<AxesSubplot:>"
      ]
     },
     "execution_count": 38,
     "metadata": {},
     "output_type": "execute_result"
    },
    {
     "data": {
      "image/png": "[encoded data removed]",
      "text/plain": [
       "<Figure size 640x480 with 1 Axes>"
      ]
     },
     "metadata": {},
     "output_type": "display_data"
    }
   ],
   "source": [
    "data['price'].hist(bins=50)"
   ]
  },
  {
   "cell_type": "markdown",
   "metadata": {},
   "source": [
    "### Исследование мультиколлинеарности и подготовка данных"
   ]
  },
  {
   "cell_type": "code",
   "execution_count": 39,
   "metadata": {},
   "outputs": [
    {
     "data": {
      "text/html": [
       "<div>\n",
       "<style scoped>\n",
       "    .dataframe tbody tr th:only-of-type {\n",
       "        vertical-align: middle;\n",
       "    }\n",
       "\n",
       "    .dataframe tbody tr th {\n",
       "        vertical-align: top;\n",
       "    }\n",
       "\n",
       "    .dataframe thead th {\n",
       "        text-align: right;\n",
       "    }\n",
       "</style>\n",
       "<table border=\"1\" class=\"dataframe\">\n",
       "  <thead>\n",
       "    <tr style=\"text-align: right;\">\n",
       "      <th></th>\n",
       "      <th>price</th>\n",
       "      <th>registration_year</th>\n",
       "      <th>power</th>\n",
       "      <th>mileage</th>\n",
       "      <th>postcode</th>\n",
       "    </tr>\n",
       "  </thead>\n",
       "  <tbody>\n",
       "    <tr>\n",
       "      <th>price</th>\n",
       "      <td>1.000000</td>\n",
       "      <td>0.666663</td>\n",
       "      <td>0.512994</td>\n",
       "      <td>-0.359766</td>\n",
       "      <td>0.063542</td>\n",
       "    </tr>\n",
       "    <tr>\n",
       "      <th>registration_year</th>\n",
       "      <td>0.666663</td>\n",
       "      <td>1.000000</td>\n",
       "      <td>0.167186</td>\n",
       "      <td>-0.382763</td>\n",
       "      <td>0.037530</td>\n",
       "    </tr>\n",
       "    <tr>\n",
       "      <th>power</th>\n",
       "      <td>0.512994</td>\n",
       "      <td>0.167186</td>\n",
       "      <td>1.000000</td>\n",
       "      <td>0.135514</td>\n",
       "      <td>0.062071</td>\n",
       "    </tr>\n",
       "    <tr>\n",
       "      <th>mileage</th>\n",
       "      <td>-0.359766</td>\n",
       "      <td>-0.382763</td>\n",
       "      <td>0.135514</td>\n",
       "      <td>1.000000</td>\n",
       "      <td>-0.017991</td>\n",
       "    </tr>\n",
       "    <tr>\n",
       "      <th>postcode</th>\n",
       "      <td>0.063542</td>\n",
       "      <td>0.037530</td>\n",
       "      <td>0.062071</td>\n",
       "      <td>-0.017991</td>\n",
       "      <td>1.000000</td>\n",
       "    </tr>\n",
       "  </tbody>\n",
       "</table>\n",
       "</div>"
      ],
      "text/plain": [
       "                      price  registration_year     power   mileage  postcode\n",
       "price              1.000000           0.666663  0.512994 -0.359766  0.063542\n",
       "registration_year  0.666663           1.000000  0.167186 -0.382763  0.037530\n",
       "power              0.512994           0.167186  1.000000  0.135514  0.062071\n",
       "mileage           -0.359766          -0.382763  0.135514  1.000000 -0.017991\n",
       "postcode           0.063542           0.037530  0.062071 -0.017991  1.000000"
      ]
     },
     "execution_count": 39,
     "metadata": {},
     "output_type": "execute_result"
    }
   ],
   "source": [
    "data_dropped.corr(method='spearman')"
   ]
  },
  {
   "cell_type": "markdown",
   "metadata": {},
   "source": [
    "Как мы видим, признаки не имеют сильной коллинеарности между собой, поэтому оставляем их как есть.\n",
    "\n",
    "Помимо этого нам нужно модифицировать имеющиеся категориальные текстовые признаки, чтобы их могли обрабатывать базовые модели, например, модель случайного леса.  \n",
    "Для этого будем использовать Ordinal encoding, ввиду большого количества различных категорий."
   ]
  },
  {
   "cell_type": "code",
   "execution_count": 40,
   "metadata": {},
   "outputs": [],
   "source": [
    "object_columns = [\n",
    "    'vehicle_type',\n",
    "    'gearbox_type',\n",
    "    'model',\n",
    "    'fuel_type',\n",
    "    'brand',\n",
    "    'was_repaired'\n",
    "]\n"
   ]
  },
  {
   "cell_type": "code",
   "execution_count": 41,
   "metadata": {},
   "outputs": [],
   "source": [
    "# теперь разделим наш датасет на обучающую и тестовую выборки в соотношении 3:1\n",
    "features = data_dropped.drop('price', axis=1)\n",
    "target = data_dropped['price']"
   ]
  },
  {
   "cell_type": "code",
   "execution_count": 42,
   "metadata": {
    "scrolled": true
   },
   "outputs": [
    {
     "data": {
      "text/plain": [
       "204918"
      ]
     },
     "metadata": {},
     "output_type": "display_data"
    },
    {
     "data": {
      "text/plain": [
       "68307"
      ]
     },
     "metadata": {},
     "output_type": "display_data"
    },
    {
     "data": {
      "text/plain": [
       "204918"
      ]
     },
     "metadata": {},
     "output_type": "display_data"
    },
    {
     "data": {
      "text/plain": [
       "68307"
      ]
     },
     "metadata": {},
     "output_type": "display_data"
    }
   ],
   "source": [
    "features_train, features_test, target_train, target_test = train_test_split(features, target, random_state=123)\n",
    "display(features_train.shape[0], features_test.shape[0], target_train.shape[0], target_test.shape[0])"
   ]
  },
  {
   "cell_type": "code",
   "execution_count": 43,
   "metadata": {
    "scrolled": false
   },
   "outputs": [],
   "source": [
    "# encoder\n",
    "\n",
    "object_columns = [\n",
    "    'vehicle_type',\n",
    "    'gearbox_type',\n",
    "    'model',\n",
    "    'fuel_type',\n",
    "    'brand',\n",
    "    'was_repaired'\n",
    "]\n",
    "\n",
    "features_train_encoded = features_train.copy()\n",
    "features_test_encoded = features_test.copy()\n",
    "\n",
    "encoder = OrdinalEncoder()\n",
    "\n",
    "encoder.fit(features_train[object_columns])\n",
    "\n",
    "features_train_encoded[object_columns] = pd.DataFrame(\n",
    "    encoder.transform(features_train[object_columns]\n",
    "),\n",
    "    index=features_train.index,\n",
    "    columns=object_columns)\n",
    "\n",
    "features_test_encoded[object_columns] = pd.DataFrame(\n",
    "    encoder.transform(features_test[object_columns]\n",
    "                     ),\n",
    "    index=features_test.index,\n",
    "    columns=object_columns)\n"
   ]
  },
  {
   "cell_type": "code",
   "execution_count": 44,
   "metadata": {},
   "outputs": [
    {
     "name": "stdout",
     "output_type": "stream",
     "text": [
      "<class 'pandas.core.frame.DataFrame'>\n",
      "Int64Index: 68307 entries, 14948 to 43251\n",
      "Data columns (total 10 columns):\n",
      " #   Column             Non-Null Count  Dtype  \n",
      "---  ------             --------------  -----  \n",
      " 0   vehicle_type       68307 non-null  float64\n",
      " 1   registration_year  68307 non-null  float64\n",
      " 2   gearbox_type       68307 non-null  float64\n",
      " 3   power              68307 non-null  float64\n",
      " 4   model              68307 non-null  float64\n",
      " 5   mileage            68307 non-null  int64  \n",
      " 6   fuel_type          68307 non-null  float64\n",
      " 7   brand              68307 non-null  float64\n",
      " 8   was_repaired       68307 non-null  float64\n",
      " 9   postcode           68307 non-null  int64  \n",
      "dtypes: float64(8), int64(2)\n",
      "memory usage: 5.7 MB\n"
     ]
    }
   ],
   "source": [
    "features_test_encoded.info()\n"
   ]
  },
  {
   "cell_type": "markdown",
   "metadata": {},
   "source": [
    "Итак, в течение первого этапа проекта мы выполнили следующие действия:\n",
    "- Ознакомились с имеющимися данными.\n",
    "- Скорректировали название столбцов на snake_case и изменили тип данных на datetime для соответствующих столбцов.\n",
    "- Проверили наличие явных и неявных дубликатов и удалили их из датасета. \n",
    "- Оценили количество пропусков в различных столбцах. Часть пропусков заполнили, изменив категорию на 'other', столбец с фактом ремонта заполнили, исходя из предположения, что отсутствие данных говорит об отсутствии ремонта. Оставшуюся незначительную часть пропусков удалили.\n",
    "- Также удалили данные, не имеющие практической пользы для построения модели, в частности:\n",
    "    - profile_downloaded_date - дата скачивания анкеты из базы.\n",
    "    - profile_creation_date - дата создания анкеты.\n",
    "    - user_last_online - дата последней активности пользователя.\n",
    "    - registration_month - месяц регистрации автомобиля (так как у нас есть данные о годе регистрации).\n",
    "    - number_of_pictures - количество фотографий автомобиля, так как столбец полностью состоит из нулей.\n",
    "- Исследовали данные на предмет аномалий и выбросов. Обработали их в столбцах registration_year и power путем отсечения данных, выходящих за +- 3 стандартных отклонения от среднего выборки. Также для столбца power удалили строки, в которых содержались нереалистичные данные о мощности двигателя (около нулевые значения).\n",
    "- Исследовали мультиколлинеарность. Наивысший обнаруженный уровень коллинеарности - значимый (~0.5). Корректировок не требовалось.\n",
    "- Подготовить данные для построения моделей - использовали Ordinal encoding для кодирования категориальных признаков, таких как:\n",
    "    - Тип автомобиля - vehicle_type.\n",
    "    - Тип трансмиссии - gearbox_type.\n",
    "    - Модель - model.\n",
    "    - Тип топлива - fuel_type.\n",
    "    - Бренд - brand.\n",
    "- Разделили выборки на обучающую и тестовую в соотношении 3:1.\n",
    "\n",
    "Итого данные подготовлены для построения и обучения моделей. Можем переходить ко второму этапу проекта."
   ]
  },
  {
   "cell_type": "markdown",
   "metadata": {},
   "source": [
    "## Обучение моделей"
   ]
  },
  {
   "cell_type": "markdown",
   "metadata": {},
   "source": [
    "В данном этапе проекта нам предстоит:\n",
    "- Построить несколько моделей, включая как минимум одну LightGBM и как минимум одну не-бустинг модель.\n",
    "- В данном проекте будем использовать дерево решений, случайный лес, LightGBM и CatBoost.\n",
    "- Оценка качества моделей будет производиться с помощью метрики RMSE.\n",
    "\n",
    "Начнем построение моделей по порядку."
   ]
  },
  {
   "cell_type": "code",
   "execution_count": 46,
   "metadata": {
    "scrolled": false
   },
   "outputs": [
    {
     "name": "stdout",
     "output_type": "stream",
     "text": [
      "Fitting 3 folds for each of 14 candidates, totalling 42 fits\n",
      "[CV 1/3] END ...............max_depth=1;, score=-11444390.254 total time=   0.0s\n",
      "[CV 2/3] END ...............max_depth=1;, score=-11527426.195 total time=   0.0s\n",
      "[CV 3/3] END ...............max_depth=1;, score=-11505278.903 total time=   0.0s\n",
      "[CV 1/3] END ................max_depth=2;, score=-8830299.792 total time=   0.0s\n",
      "[CV 2/3] END ................max_depth=2;, score=-8839997.610 total time=   0.0s\n",
      "[CV 3/3] END ................max_depth=2;, score=-8839205.942 total time=   0.0s\n",
      "[CV 1/3] END ................max_depth=3;, score=-7435499.491 total time=   0.0s\n",
      "[CV 2/3] END ................max_depth=3;, score=-7510155.784 total time=   0.0s\n",
      "[CV 3/3] END ................max_depth=3;, score=-7429166.570 total time=   0.0s\n",
      "[CV 1/3] END ................max_depth=4;, score=-5952501.681 total time=   0.0s\n",
      "[CV 2/3] END ................max_depth=4;, score=-6075875.510 total time=   0.0s\n",
      "[CV 3/3] END ................max_depth=4;, score=-5954821.136 total time=   0.0s\n",
      "[CV 1/3] END ................max_depth=5;, score=-5146763.270 total time=   0.1s\n",
      "[CV 2/3] END ................max_depth=5;, score=-5274673.079 total time=   0.1s\n",
      "[CV 3/3] END ................max_depth=5;, score=-5145010.694 total time=   0.1s\n",
      "[CV 1/3] END ................max_depth=6;, score=-4597869.104 total time=   0.1s\n",
      "[CV 2/3] END ................max_depth=6;, score=-4693735.564 total time=   0.1s\n",
      "[CV 3/3] END ................max_depth=6;, score=-4540243.803 total time=   0.1s\n",
      "[CV 1/3] END ................max_depth=7;, score=-4168972.105 total time=   0.1s\n",
      "[CV 2/3] END ................max_depth=7;, score=-4281286.016 total time=   0.1s\n",
      "[CV 3/3] END ................max_depth=7;, score=-4134953.137 total time=   0.1s\n",
      "[CV 1/3] END ................max_depth=8;, score=-3891416.467 total time=   0.1s\n",
      "[CV 2/3] END ................max_depth=8;, score=-3986349.428 total time=   0.1s\n",
      "[CV 3/3] END ................max_depth=8;, score=-3868487.077 total time=   0.1s\n",
      "[CV 1/3] END ................max_depth=9;, score=-3614568.672 total time=   0.2s\n",
      "[CV 2/3] END ................max_depth=9;, score=-3752651.245 total time=   0.2s\n",
      "[CV 3/3] END ................max_depth=9;, score=-3628238.705 total time=   0.2s\n",
      "[CV 1/3] END ...............max_depth=10;, score=-3462570.977 total time=   0.2s\n",
      "[CV 2/3] END ...............max_depth=10;, score=-3589825.892 total time=   0.2s\n",
      "[CV 3/3] END ...............max_depth=10;, score=-3463074.783 total time=   0.2s\n",
      "[CV 1/3] END ...............max_depth=11;, score=-3334790.818 total time=   0.2s\n",
      "[CV 2/3] END ...............max_depth=11;, score=-3466420.974 total time=   0.2s\n",
      "[CV 3/3] END ...............max_depth=11;, score=-3354851.690 total time=   0.2s\n",
      "[CV 1/3] END ...............max_depth=12;, score=-3314360.725 total time=   0.2s\n",
      "[CV 2/3] END ...............max_depth=12;, score=-3387357.836 total time=   0.2s\n",
      "[CV 3/3] END ...............max_depth=12;, score=-3293804.919 total time=   0.2s\n",
      "[CV 1/3] END ...............max_depth=13;, score=-3286965.148 total time=   0.3s\n",
      "[CV 2/3] END ...............max_depth=13;, score=-3352868.458 total time=   0.3s\n",
      "[CV 3/3] END ...............max_depth=13;, score=-3280405.675 total time=   0.3s\n",
      "[CV 1/3] END ...............max_depth=14;, score=-3301523.156 total time=   0.3s\n",
      "[CV 2/3] END ...............max_depth=14;, score=-3366780.227 total time=   0.3s\n",
      "[CV 3/3] END ...............max_depth=14;, score=-3317403.736 total time=   0.3s\n",
      "Наилучшее значение параметра max_depth: {'max_depth': 13}\n",
      "Наилучший показатель RMSE: 1818.4461574023194\n"
     ]
    }
   ],
   "source": [
    "# начнем с модели дерева решений\n",
    "\n",
    "decision_tree = DecisionTreeRegressor(random_state=12345)\n",
    "\n",
    "tree_parameters_grid = {\n",
    "   'max_depth' : range(1, 15)\n",
    "}\n",
    "\n",
    "# mse = make_scorer(mean_squared_error, greater_is_better=False)\n",
    "\n",
    "tree_grid_cv_1 = GridSearchCV(\n",
    "    decision_tree,\n",
    "    tree_parameters_grid,\n",
    "    cv=3,\n",
    "    scoring = 'neg_mean_squared_error',\n",
    "    verbose=3\n",
    ")\n",
    "tree_grid_cv_1.fit(features_train_encoded, target_train)\n",
    "print(f'Наилучшее значение параметра max_depth: {tree_grid_cv_1.best_params_}') \n",
    "print(f'Наилучший показатель RMSE: {(tree_grid_cv_1.best_score_ * (-1))**0.5}')\n"
   ]
  },
  {
   "cell_type": "markdown",
   "metadata": {},
   "source": [
    "Итак для модели дерева решений мы получили оптимальное значение параметра max_depth=12 и RMSE ~ 2053.\n",
    "\n",
    "Переходим к модели случайного леса."
   ]
  },
  {
   "cell_type": "code",
   "execution_count": 48,
   "metadata": {
    "scrolled": false
   },
   "outputs": [
    {
     "name": "stdout",
     "output_type": "stream",
     "text": [
      "Fitting 3 folds for each of 16 candidates, totalling 48 fits\n",
      "[CV 1/3] END max_depth=10, n_estimators=100;, score=-3048392.551 total time=  18.5s\n",
      "[CV 2/3] END max_depth=10, n_estimators=100;, score=-3149945.849 total time=  18.5s\n",
      "[CV 3/3] END max_depth=10, n_estimators=100;, score=-3046425.444 total time=  18.6s\n",
      "[CV 1/3] END max_depth=10, n_estimators=120;, score=-3045468.658 total time=  22.7s\n",
      "[CV 2/3] END max_depth=10, n_estimators=120;, score=-3148693.539 total time=  22.4s\n",
      "[CV 3/3] END max_depth=10, n_estimators=120;, score=-3042743.604 total time=  22.4s\n",
      "[CV 1/3] END max_depth=10, n_estimators=140;, score=-3045168.117 total time=  26.1s\n",
      "[CV 2/3] END max_depth=10, n_estimators=140;, score=-3151003.451 total time=  26.0s\n",
      "[CV 3/3] END max_depth=10, n_estimators=140;, score=-3041897.070 total time=  26.1s\n",
      "[CV 1/3] END max_depth=10, n_estimators=160;, score=-3044694.787 total time=  29.8s\n",
      "[CV 2/3] END max_depth=10, n_estimators=160;, score=-3151643.713 total time=  29.8s\n",
      "[CV 3/3] END max_depth=10, n_estimators=160;, score=-3042158.365 total time=  29.8s\n",
      "[CV 1/3] END max_depth=13, n_estimators=100;, score=-2580375.493 total time=  24.2s\n",
      "[CV 2/3] END max_depth=13, n_estimators=100;, score=-2663938.887 total time=  24.2s\n",
      "[CV 3/3] END max_depth=13, n_estimators=100;, score=-2579323.407 total time=  24.2s\n",
      "[CV 1/3] END max_depth=13, n_estimators=120;, score=-2578698.985 total time=  29.1s\n",
      "[CV 2/3] END max_depth=13, n_estimators=120;, score=-2661990.522 total time=  29.0s\n",
      "[CV 3/3] END max_depth=13, n_estimators=120;, score=-2577345.223 total time=  29.0s\n",
      "[CV 1/3] END max_depth=13, n_estimators=140;, score=-2578039.227 total time=  33.9s\n",
      "[CV 2/3] END max_depth=13, n_estimators=140;, score=-2662601.350 total time=  33.8s\n",
      "[CV 3/3] END max_depth=13, n_estimators=140;, score=-2577516.533 total time=  33.8s\n",
      "[CV 1/3] END max_depth=13, n_estimators=160;, score=-2577374.869 total time=  38.6s\n",
      "[CV 2/3] END max_depth=13, n_estimators=160;, score=-2661565.432 total time=  38.7s\n",
      "[CV 3/3] END max_depth=13, n_estimators=160;, score=-2578006.681 total time=  38.8s\n",
      "[CV 1/3] END max_depth=16, n_estimators=100;, score=-2375646.187 total time=  29.9s\n",
      "[CV 2/3] END max_depth=16, n_estimators=100;, score=-2443949.082 total time=  30.0s\n",
      "[CV 3/3] END max_depth=16, n_estimators=100;, score=-2382720.859 total time=  29.9s\n",
      "[CV 1/3] END max_depth=16, n_estimators=120;, score=-2372445.158 total time=  35.9s\n",
      "[CV 2/3] END max_depth=16, n_estimators=120;, score=-2440943.326 total time=  35.8s\n",
      "[CV 3/3] END max_depth=16, n_estimators=120;, score=-2379445.890 total time=  35.8s\n",
      "[CV 1/3] END max_depth=16, n_estimators=140;, score=-2371646.802 total time=  41.9s\n",
      "[CV 2/3] END max_depth=16, n_estimators=140;, score=-2440679.885 total time=  42.1s\n",
      "[CV 3/3] END max_depth=16, n_estimators=140;, score=-2379680.512 total time=  42.0s\n",
      "[CV 1/3] END max_depth=16, n_estimators=160;, score=-2370953.648 total time=  48.1s\n",
      "[CV 2/3] END max_depth=16, n_estimators=160;, score=-2439779.873 total time=  48.8s\n",
      "[CV 3/3] END max_depth=16, n_estimators=160;, score=-2379022.405 total time=  48.1s\n",
      "[CV 1/3] END max_depth=19, n_estimators=100;, score=-2320654.683 total time=  35.4s\n",
      "[CV 2/3] END max_depth=19, n_estimators=100;, score=-2387946.017 total time=  35.4s\n",
      "[CV 3/3] END max_depth=19, n_estimators=100;, score=-2330836.026 total time=  35.4s\n",
      "[CV 1/3] END max_depth=19, n_estimators=120;, score=-2317624.760 total time=  42.4s\n",
      "[CV 2/3] END max_depth=19, n_estimators=120;, score=-2384795.682 total time=  42.4s\n",
      "[CV 3/3] END max_depth=19, n_estimators=120;, score=-2327603.005 total time=  42.2s\n",
      "[CV 1/3] END max_depth=19, n_estimators=140;, score=-2316007.291 total time=  49.7s\n",
      "[CV 2/3] END max_depth=19, n_estimators=140;, score=-2383402.982 total time=  49.5s\n",
      "[CV 3/3] END max_depth=19, n_estimators=140;, score=-2326552.018 total time=  49.4s\n",
      "[CV 1/3] END max_depth=19, n_estimators=160;, score=-2315891.447 total time=  56.5s\n",
      "[CV 2/3] END max_depth=19, n_estimators=160;, score=-2382040.110 total time=  56.6s\n",
      "[CV 3/3] END max_depth=19, n_estimators=160;, score=-2326485.499 total time=  56.4s\n",
      "Наилучшее значение параметра max_depth: {'max_depth': 19, 'n_estimators': 160}\n",
      "Наилучший показатель RMSE: 1530.1870316175741\n"
     ]
    }
   ],
   "source": [
    "# теперь перейдем к модели случайного леса\n",
    "\n",
    "random_forest = RandomForestRegressor(random_state=12345)\n",
    "\n",
    "forest_parameters_grid = {\n",
    "    'max_depth' : range(10, 20, 3),\n",
    "    'n_estimators' : list(map(int, np.linspace(100, 160, 4)))\n",
    "}\n",
    "\n",
    "forest_grid_cv = GridSearchCV(\n",
    "    random_forest,\n",
    "    forest_parameters_grid,\n",
    "    cv=3,\n",
    "    scoring = 'neg_mean_squared_error',\n",
    "    verbose=3\n",
    "    #n_jobs=-1\n",
    ")\n",
    "forest_grid_cv.fit(features_train_encoded, target_train)\n",
    "print(f'Наилучшее значение параметра max_depth: {forest_grid_cv.best_params_}') \n",
    "print(f'Наилучший показатель RMSE: {(forest_grid_cv.best_score_ * (-1))**0.5}')"
   ]
  },
  {
   "cell_type": "markdown",
   "metadata": {},
   "source": [
    "Для модели случайного леса мы получили:\n",
    "- max_depth=20.\n",
    "- n_estimators=160.\n",
    "- RMSE ~ 1740, что укладывается в наш целевой показатель по эффективности модели (<2500)\n"
   ]
  },
  {
   "cell_type": "code",
   "execution_count": 50,
   "metadata": {
    "scrolled": true
   },
   "outputs": [
    {
     "name": "stdout",
     "output_type": "stream",
     "text": [
      "Fitting 3 folds for each of 12 candidates, totalling 36 fits\n",
      "[LightGBM] [Warning] Accuracy may be bad since you didn't explicitly set num_leaves OR 2^max_depth > num_leaves. (num_leaves=31).\n",
      "[LightGBM] [Warning] Accuracy may be bad since you didn't explicitly set num_leaves OR 2^max_depth > num_leaves. (num_leaves=31).\n",
      "[LightGBM] [Info] Auto-choosing row-wise multi-threading, the overhead of testing was 0.002567 seconds.\n",
      "You can set `force_row_wise=true` to remove the overhead.\n",
      "And if memory is not enough, you can set `force_col_wise=true`.\n",
      "[LightGBM] [Info] Total Bins 877\n",
      "[LightGBM] [Info] Number of data points in the train set: 136612, number of used features: 10\n",
      "[LightGBM] [Info] Start training from score 4686.064431\n",
      "[LightGBM] [Warning] Accuracy may be bad since you didn't explicitly set num_leaves OR 2^max_depth > num_leaves. (num_leaves=31).\n",
      "[CV 1/3] END max_depth=10, n_estimators=100;, score=-2512870.214 total time=   0.3s\n",
      "[LightGBM] [Warning] Accuracy may be bad since you didn't explicitly set num_leaves OR 2^max_depth > num_leaves. (num_leaves=31).\n",
      "[LightGBM] [Warning] Accuracy may be bad since you didn't explicitly set num_leaves OR 2^max_depth > num_leaves. (num_leaves=31).\n",
      "[LightGBM] [Info] Auto-choosing row-wise multi-threading, the overhead of testing was 0.002643 seconds.\n",
      "You can set `force_row_wise=true` to remove the overhead.\n",
      "And if memory is not enough, you can set `force_col_wise=true`.\n",
      "[LightGBM] [Info] Total Bins 876\n",
      "[LightGBM] [Info] Number of data points in the train set: 136612, number of used features: 10\n",
      "[LightGBM] [Info] Start training from score 4681.842122\n",
      "[LightGBM] [Warning] Accuracy may be bad since you didn't explicitly set num_leaves OR 2^max_depth > num_leaves. (num_leaves=31).\n",
      "[CV 2/3] END max_depth=10, n_estimators=100;, score=-2574075.712 total time=   0.3s\n",
      "[LightGBM] [Warning] Accuracy may be bad since you didn't explicitly set num_leaves OR 2^max_depth > num_leaves. (num_leaves=31).\n",
      "[LightGBM] [Warning] Accuracy may be bad since you didn't explicitly set num_leaves OR 2^max_depth > num_leaves. (num_leaves=31).\n",
      "[LightGBM] [Info] Auto-choosing row-wise multi-threading, the overhead of testing was 0.002970 seconds.\n",
      "You can set `force_row_wise=true` to remove the overhead.\n",
      "And if memory is not enough, you can set `force_col_wise=true`.\n",
      "[LightGBM] [Info] Total Bins 869\n",
      "[LightGBM] [Info] Number of data points in the train set: 136612, number of used features: 10\n",
      "[LightGBM] [Info] Start training from score 4674.889278\n",
      "[LightGBM] [Warning] Accuracy may be bad since you didn't explicitly set num_leaves OR 2^max_depth > num_leaves. (num_leaves=31).\n",
      "[CV 3/3] END max_depth=10, n_estimators=100;, score=-2522486.585 total time=   0.3s\n",
      "[LightGBM] [Warning] Accuracy may be bad since you didn't explicitly set num_leaves OR 2^max_depth > num_leaves. (num_leaves=31).\n",
      "[LightGBM] [Warning] Accuracy may be bad since you didn't explicitly set num_leaves OR 2^max_depth > num_leaves. (num_leaves=31).\n",
      "[LightGBM] [Info] Auto-choosing row-wise multi-threading, the overhead of testing was 0.003015 seconds.\n",
      "You can set `force_row_wise=true` to remove the overhead.\n",
      "And if memory is not enough, you can set `force_col_wise=true`.\n",
      "[LightGBM] [Info] Total Bins 877\n",
      "[LightGBM] [Info] Number of data points in the train set: 136612, number of used features: 10\n",
      "[LightGBM] [Info] Start training from score 4686.064431\n",
      "[LightGBM] [Warning] Accuracy may be bad since you didn't explicitly set num_leaves OR 2^max_depth > num_leaves. (num_leaves=31).\n",
      "[CV 1/3] END max_depth=10, n_estimators=150;, score=-2414578.703 total time=   0.5s\n",
      "[LightGBM] [Warning] Accuracy may be bad since you didn't explicitly set num_leaves OR 2^max_depth > num_leaves. (num_leaves=31).\n",
      "[LightGBM] [Warning] Accuracy may be bad since you didn't explicitly set num_leaves OR 2^max_depth > num_leaves. (num_leaves=31).\n",
      "[LightGBM] [Info] Auto-choosing row-wise multi-threading, the overhead of testing was 0.002194 seconds.\n",
      "You can set `force_row_wise=true` to remove the overhead.\n",
      "And if memory is not enough, you can set `force_col_wise=true`.\n",
      "[LightGBM] [Info] Total Bins 876\n",
      "[LightGBM] [Info] Number of data points in the train set: 136612, number of used features: 10\n",
      "[LightGBM] [Info] Start training from score 4681.842122\n",
      "[LightGBM] [Warning] Accuracy may be bad since you didn't explicitly set num_leaves OR 2^max_depth > num_leaves. (num_leaves=31).\n",
      "[CV 2/3] END max_depth=10, n_estimators=150;, score=-2481435.517 total time=   0.5s\n",
      "[LightGBM] [Warning] Accuracy may be bad since you didn't explicitly set num_leaves OR 2^max_depth > num_leaves. (num_leaves=31).\n",
      "[LightGBM] [Warning] Accuracy may be bad since you didn't explicitly set num_leaves OR 2^max_depth > num_leaves. (num_leaves=31).\n",
      "[LightGBM] [Info] Auto-choosing row-wise multi-threading, the overhead of testing was 0.003222 seconds.\n",
      "You can set `force_row_wise=true` to remove the overhead.\n",
      "And if memory is not enough, you can set `force_col_wise=true`.\n",
      "[LightGBM] [Info] Total Bins 869\n",
      "[LightGBM] [Info] Number of data points in the train set: 136612, number of used features: 10\n",
      "[LightGBM] [Info] Start training from score 4674.889278\n",
      "[LightGBM] [Warning] Accuracy may be bad since you didn't explicitly set num_leaves OR 2^max_depth > num_leaves. (num_leaves=31).\n",
      "[CV 3/3] END max_depth=10, n_estimators=150;, score=-2421344.265 total time=   0.5s\n",
      "[LightGBM] [Warning] Accuracy may be bad since you didn't explicitly set num_leaves OR 2^max_depth > num_leaves. (num_leaves=31).\n",
      "[LightGBM] [Warning] Accuracy may be bad since you didn't explicitly set num_leaves OR 2^max_depth > num_leaves. (num_leaves=31).\n",
      "[LightGBM] [Info] Auto-choosing row-wise multi-threading, the overhead of testing was 0.003265 seconds.\n",
      "You can set `force_row_wise=true` to remove the overhead.\n",
      "And if memory is not enough, you can set `force_col_wise=true`.\n",
      "[LightGBM] [Info] Total Bins 877\n",
      "[LightGBM] [Info] Number of data points in the train set: 136612, number of used features: 10\n",
      "[LightGBM] [Info] Start training from score 4686.064431\n",
      "[LightGBM] [Warning] Accuracy may be bad since you didn't explicitly set num_leaves OR 2^max_depth > num_leaves. (num_leaves=31).\n",
      "[CV 1/3] END max_depth=10, n_estimators=200;, score=-2359675.506 total time=   0.7s\n",
      "[LightGBM] [Warning] Accuracy may be bad since you didn't explicitly set num_leaves OR 2^max_depth > num_leaves. (num_leaves=31).\n",
      "[LightGBM] [Warning] Accuracy may be bad since you didn't explicitly set num_leaves OR 2^max_depth > num_leaves. (num_leaves=31).\n",
      "[LightGBM] [Info] Auto-choosing row-wise multi-threading, the overhead of testing was 0.002937 seconds.\n",
      "You can set `force_row_wise=true` to remove the overhead.\n",
      "And if memory is not enough, you can set `force_col_wise=true`.\n",
      "[LightGBM] [Info] Total Bins 876\n",
      "[LightGBM] [Info] Number of data points in the train set: 136612, number of used features: 10\n",
      "[LightGBM] [Info] Start training from score 4681.842122\n",
      "[LightGBM] [Warning] Accuracy may be bad since you didn't explicitly set num_leaves OR 2^max_depth > num_leaves. (num_leaves=31).\n",
      "[CV 2/3] END max_depth=10, n_estimators=200;, score=-2418704.733 total time=   0.6s\n",
      "[LightGBM] [Warning] Accuracy may be bad since you didn't explicitly set num_leaves OR 2^max_depth > num_leaves. (num_leaves=31).\n",
      "[LightGBM] [Warning] Accuracy may be bad since you didn't explicitly set num_leaves OR 2^max_depth > num_leaves. (num_leaves=31).\n",
      "[LightGBM] [Info] Auto-choosing row-wise multi-threading, the overhead of testing was 0.003280 seconds.\n",
      "You can set `force_row_wise=true` to remove the overhead.\n",
      "And if memory is not enough, you can set `force_col_wise=true`.\n",
      "[LightGBM] [Info] Total Bins 869\n",
      "[LightGBM] [Info] Number of data points in the train set: 136612, number of used features: 10\n",
      "[LightGBM] [Info] Start training from score 4674.889278\n",
      "[LightGBM] [Warning] Accuracy may be bad since you didn't explicitly set num_leaves OR 2^max_depth > num_leaves. (num_leaves=31).\n",
      "[CV 3/3] END max_depth=10, n_estimators=200;, score=-2368001.394 total time=   0.7s\n",
      "[LightGBM] [Warning] Accuracy may be bad since you didn't explicitly set num_leaves OR 2^max_depth > num_leaves. (num_leaves=31).\n",
      "[LightGBM] [Warning] Accuracy may be bad since you didn't explicitly set num_leaves OR 2^max_depth > num_leaves. (num_leaves=31).\n",
      "[LightGBM] [Info] Auto-choosing row-wise multi-threading, the overhead of testing was 0.002003 seconds.\n",
      "You can set `force_row_wise=true` to remove the overhead.\n",
      "And if memory is not enough, you can set `force_col_wise=true`.\n",
      "[LightGBM] [Info] Total Bins 877\n",
      "[LightGBM] [Info] Number of data points in the train set: 136612, number of used features: 10\n",
      "[LightGBM] [Info] Start training from score 4686.064431\n"
     ]
    },
    {
     "name": "stdout",
     "output_type": "stream",
     "text": [
      "[LightGBM] [Warning] Accuracy may be bad since you didn't explicitly set num_leaves OR 2^max_depth > num_leaves. (num_leaves=31).\n",
      "[CV 1/3] END max_depth=13, n_estimators=100;, score=-2505342.567 total time=   0.3s\n",
      "[LightGBM] [Warning] Accuracy may be bad since you didn't explicitly set num_leaves OR 2^max_depth > num_leaves. (num_leaves=31).\n",
      "[LightGBM] [Warning] Accuracy may be bad since you didn't explicitly set num_leaves OR 2^max_depth > num_leaves. (num_leaves=31).\n",
      "[LightGBM] [Info] Auto-choosing row-wise multi-threading, the overhead of testing was 0.003452 seconds.\n",
      "You can set `force_row_wise=true` to remove the overhead.\n",
      "And if memory is not enough, you can set `force_col_wise=true`.\n",
      "[LightGBM] [Info] Total Bins 876\n",
      "[LightGBM] [Info] Number of data points in the train set: 136612, number of used features: 10\n",
      "[LightGBM] [Info] Start training from score 4681.842122\n",
      "[LightGBM] [Warning] Accuracy may be bad since you didn't explicitly set num_leaves OR 2^max_depth > num_leaves. (num_leaves=31).\n",
      "[CV 2/3] END max_depth=13, n_estimators=100;, score=-2566048.171 total time=   0.3s\n",
      "[LightGBM] [Warning] Accuracy may be bad since you didn't explicitly set num_leaves OR 2^max_depth > num_leaves. (num_leaves=31).\n",
      "[LightGBM] [Warning] Accuracy may be bad since you didn't explicitly set num_leaves OR 2^max_depth > num_leaves. (num_leaves=31).\n",
      "[LightGBM] [Info] Auto-choosing row-wise multi-threading, the overhead of testing was 0.003070 seconds.\n",
      "You can set `force_row_wise=true` to remove the overhead.\n",
      "And if memory is not enough, you can set `force_col_wise=true`.\n",
      "[LightGBM] [Info] Total Bins 869\n",
      "[LightGBM] [Info] Number of data points in the train set: 136612, number of used features: 10\n",
      "[LightGBM] [Info] Start training from score 4674.889278\n",
      "[LightGBM] [Warning] Accuracy may be bad since you didn't explicitly set num_leaves OR 2^max_depth > num_leaves. (num_leaves=31).\n",
      "[CV 3/3] END max_depth=13, n_estimators=100;, score=-2518124.045 total time=   0.3s\n",
      "[LightGBM] [Warning] Accuracy may be bad since you didn't explicitly set num_leaves OR 2^max_depth > num_leaves. (num_leaves=31).\n",
      "[LightGBM] [Warning] Accuracy may be bad since you didn't explicitly set num_leaves OR 2^max_depth > num_leaves. (num_leaves=31).\n",
      "[LightGBM] [Info] Auto-choosing row-wise multi-threading, the overhead of testing was 0.002801 seconds.\n",
      "You can set `force_row_wise=true` to remove the overhead.\n",
      "And if memory is not enough, you can set `force_col_wise=true`.\n",
      "[LightGBM] [Info] Total Bins 877\n",
      "[LightGBM] [Info] Number of data points in the train set: 136612, number of used features: 10\n",
      "[LightGBM] [Info] Start training from score 4686.064431\n",
      "[LightGBM] [Warning] Accuracy may be bad since you didn't explicitly set num_leaves OR 2^max_depth > num_leaves. (num_leaves=31).\n",
      "[CV 1/3] END max_depth=13, n_estimators=150;, score=-2412434.055 total time=   0.5s\n",
      "[LightGBM] [Warning] Accuracy may be bad since you didn't explicitly set num_leaves OR 2^max_depth > num_leaves. (num_leaves=31).\n",
      "[LightGBM] [Warning] Accuracy may be bad since you didn't explicitly set num_leaves OR 2^max_depth > num_leaves. (num_leaves=31).\n",
      "[LightGBM] [Info] Auto-choosing row-wise multi-threading, the overhead of testing was 0.003445 seconds.\n",
      "You can set `force_row_wise=true` to remove the overhead.\n",
      "And if memory is not enough, you can set `force_col_wise=true`.\n",
      "[LightGBM] [Info] Total Bins 876\n",
      "[LightGBM] [Info] Number of data points in the train set: 136612, number of used features: 10\n",
      "[LightGBM] [Info] Start training from score 4681.842122\n",
      "[LightGBM] [Warning] Accuracy may be bad since you didn't explicitly set num_leaves OR 2^max_depth > num_leaves. (num_leaves=31).\n",
      "[CV 2/3] END max_depth=13, n_estimators=150;, score=-2476564.376 total time=   0.5s\n",
      "[LightGBM] [Warning] Accuracy may be bad since you didn't explicitly set num_leaves OR 2^max_depth > num_leaves. (num_leaves=31).\n",
      "[LightGBM] [Warning] Accuracy may be bad since you didn't explicitly set num_leaves OR 2^max_depth > num_leaves. (num_leaves=31).\n",
      "[LightGBM] [Info] Auto-choosing row-wise multi-threading, the overhead of testing was 0.002793 seconds.\n",
      "You can set `force_row_wise=true` to remove the overhead.\n",
      "And if memory is not enough, you can set `force_col_wise=true`.\n",
      "[LightGBM] [Info] Total Bins 869\n",
      "[LightGBM] [Info] Number of data points in the train set: 136612, number of used features: 10\n",
      "[LightGBM] [Info] Start training from score 4674.889278\n",
      "[LightGBM] [Warning] Accuracy may be bad since you didn't explicitly set num_leaves OR 2^max_depth > num_leaves. (num_leaves=31).\n",
      "[CV 3/3] END max_depth=13, n_estimators=150;, score=-2416459.314 total time=   0.5s\n",
      "[LightGBM] [Warning] Accuracy may be bad since you didn't explicitly set num_leaves OR 2^max_depth > num_leaves. (num_leaves=31).\n",
      "[LightGBM] [Warning] Accuracy may be bad since you didn't explicitly set num_leaves OR 2^max_depth > num_leaves. (num_leaves=31).\n",
      "[LightGBM] [Info] Auto-choosing row-wise multi-threading, the overhead of testing was 0.002828 seconds.\n",
      "You can set `force_row_wise=true` to remove the overhead.\n",
      "And if memory is not enough, you can set `force_col_wise=true`.\n",
      "[LightGBM] [Info] Total Bins 877\n",
      "[LightGBM] [Info] Number of data points in the train set: 136612, number of used features: 10\n",
      "[LightGBM] [Info] Start training from score 4686.064431\n",
      "[LightGBM] [Warning] Accuracy may be bad since you didn't explicitly set num_leaves OR 2^max_depth > num_leaves. (num_leaves=31).\n",
      "[CV 1/3] END max_depth=13, n_estimators=200;, score=-2357144.013 total time=   0.7s\n",
      "[LightGBM] [Warning] Accuracy may be bad since you didn't explicitly set num_leaves OR 2^max_depth > num_leaves. (num_leaves=31).\n",
      "[LightGBM] [Warning] Accuracy may be bad since you didn't explicitly set num_leaves OR 2^max_depth > num_leaves. (num_leaves=31).\n",
      "[LightGBM] [Info] Auto-choosing row-wise multi-threading, the overhead of testing was 0.002939 seconds.\n",
      "You can set `force_row_wise=true` to remove the overhead.\n",
      "And if memory is not enough, you can set `force_col_wise=true`.\n",
      "[LightGBM] [Info] Total Bins 876\n",
      "[LightGBM] [Info] Number of data points in the train set: 136612, number of used features: 10\n",
      "[LightGBM] [Info] Start training from score 4681.842122\n",
      "[LightGBM] [Warning] Accuracy may be bad since you didn't explicitly set num_leaves OR 2^max_depth > num_leaves. (num_leaves=31).\n",
      "[CV 2/3] END max_depth=13, n_estimators=200;, score=-2423826.891 total time=   0.7s\n",
      "[LightGBM] [Warning] Accuracy may be bad since you didn't explicitly set num_leaves OR 2^max_depth > num_leaves. (num_leaves=31).\n",
      "[LightGBM] [Warning] Accuracy may be bad since you didn't explicitly set num_leaves OR 2^max_depth > num_leaves. (num_leaves=31).\n",
      "[LightGBM] [Info] Auto-choosing row-wise multi-threading, the overhead of testing was 0.003101 seconds.\n",
      "You can set `force_row_wise=true` to remove the overhead.\n",
      "And if memory is not enough, you can set `force_col_wise=true`.\n",
      "[LightGBM] [Info] Total Bins 869\n",
      "[LightGBM] [Info] Number of data points in the train set: 136612, number of used features: 10\n",
      "[LightGBM] [Info] Start training from score 4674.889278\n",
      "[LightGBM] [Warning] Accuracy may be bad since you didn't explicitly set num_leaves OR 2^max_depth > num_leaves. (num_leaves=31).\n",
      "[CV 3/3] END max_depth=13, n_estimators=200;, score=-2359769.888 total time=   0.7s\n",
      "[LightGBM] [Warning] Accuracy may be bad since you didn't explicitly set num_leaves OR 2^max_depth > num_leaves. (num_leaves=31).\n",
      "[LightGBM] [Warning] Accuracy may be bad since you didn't explicitly set num_leaves OR 2^max_depth > num_leaves. (num_leaves=31).\n",
      "[LightGBM] [Info] Auto-choosing row-wise multi-threading, the overhead of testing was 0.002869 seconds.\n",
      "You can set `force_row_wise=true` to remove the overhead.\n",
      "And if memory is not enough, you can set `force_col_wise=true`.\n",
      "[LightGBM] [Info] Total Bins 877\n",
      "[LightGBM] [Info] Number of data points in the train set: 136612, number of used features: 10\n",
      "[LightGBM] [Info] Start training from score 4686.064431\n",
      "[LightGBM] [Warning] Accuracy may be bad since you didn't explicitly set num_leaves OR 2^max_depth > num_leaves. (num_leaves=31).\n",
      "[CV 1/3] END max_depth=16, n_estimators=100;, score=-2505616.388 total time=   0.3s\n",
      "[LightGBM] [Warning] Accuracy may be bad since you didn't explicitly set num_leaves OR 2^max_depth > num_leaves. (num_leaves=31).\n",
      "[LightGBM] [Warning] Accuracy may be bad since you didn't explicitly set num_leaves OR 2^max_depth > num_leaves. (num_leaves=31).\n",
      "[LightGBM] [Info] Auto-choosing row-wise multi-threading, the overhead of testing was 0.002951 seconds.\n",
      "You can set `force_row_wise=true` to remove the overhead.\n",
      "And if memory is not enough, you can set `force_col_wise=true`.\n",
      "[LightGBM] [Info] Total Bins 876\n",
      "[LightGBM] [Info] Number of data points in the train set: 136612, number of used features: 10\n",
      "[LightGBM] [Info] Start training from score 4681.842122\n"
     ]
    },
    {
     "name": "stdout",
     "output_type": "stream",
     "text": [
      "[LightGBM] [Warning] Accuracy may be bad since you didn't explicitly set num_leaves OR 2^max_depth > num_leaves. (num_leaves=31).\n",
      "[CV 2/3] END max_depth=16, n_estimators=100;, score=-2575874.091 total time=   0.3s\n",
      "[LightGBM] [Warning] Accuracy may be bad since you didn't explicitly set num_leaves OR 2^max_depth > num_leaves. (num_leaves=31).\n",
      "[LightGBM] [Warning] Accuracy may be bad since you didn't explicitly set num_leaves OR 2^max_depth > num_leaves. (num_leaves=31).\n",
      "[LightGBM] [Info] Auto-choosing row-wise multi-threading, the overhead of testing was 0.003040 seconds.\n",
      "You can set `force_row_wise=true` to remove the overhead.\n",
      "And if memory is not enough, you can set `force_col_wise=true`.\n",
      "[LightGBM] [Info] Total Bins 869\n",
      "[LightGBM] [Info] Number of data points in the train set: 136612, number of used features: 10\n",
      "[LightGBM] [Info] Start training from score 4674.889278\n",
      "[LightGBM] [Warning] Accuracy may be bad since you didn't explicitly set num_leaves OR 2^max_depth > num_leaves. (num_leaves=31).\n",
      "[CV 3/3] END max_depth=16, n_estimators=100;, score=-2517791.077 total time=   0.3s\n",
      "[LightGBM] [Warning] Accuracy may be bad since you didn't explicitly set num_leaves OR 2^max_depth > num_leaves. (num_leaves=31).\n",
      "[LightGBM] [Warning] Accuracy may be bad since you didn't explicitly set num_leaves OR 2^max_depth > num_leaves. (num_leaves=31).\n",
      "[LightGBM] [Info] Auto-choosing row-wise multi-threading, the overhead of testing was 0.001936 seconds.\n",
      "You can set `force_row_wise=true` to remove the overhead.\n",
      "And if memory is not enough, you can set `force_col_wise=true`.\n",
      "[LightGBM] [Info] Total Bins 877\n",
      "[LightGBM] [Info] Number of data points in the train set: 136612, number of used features: 10\n",
      "[LightGBM] [Info] Start training from score 4686.064431\n",
      "[LightGBM] [Warning] Accuracy may be bad since you didn't explicitly set num_leaves OR 2^max_depth > num_leaves. (num_leaves=31).\n",
      "[CV 1/3] END max_depth=16, n_estimators=150;, score=-2412714.876 total time=   0.5s\n",
      "[LightGBM] [Warning] Accuracy may be bad since you didn't explicitly set num_leaves OR 2^max_depth > num_leaves. (num_leaves=31).\n",
      "[LightGBM] [Warning] Accuracy may be bad since you didn't explicitly set num_leaves OR 2^max_depth > num_leaves. (num_leaves=31).\n",
      "[LightGBM] [Info] Auto-choosing row-wise multi-threading, the overhead of testing was 0.003033 seconds.\n",
      "You can set `force_row_wise=true` to remove the overhead.\n",
      "And if memory is not enough, you can set `force_col_wise=true`.\n",
      "[LightGBM] [Info] Total Bins 876\n",
      "[LightGBM] [Info] Number of data points in the train set: 136612, number of used features: 10\n",
      "[LightGBM] [Info] Start training from score 4681.842122\n",
      "[LightGBM] [Warning] Accuracy may be bad since you didn't explicitly set num_leaves OR 2^max_depth > num_leaves. (num_leaves=31).\n",
      "[CV 2/3] END max_depth=16, n_estimators=150;, score=-2478521.803 total time=   0.5s\n",
      "[LightGBM] [Warning] Accuracy may be bad since you didn't explicitly set num_leaves OR 2^max_depth > num_leaves. (num_leaves=31).\n",
      "[LightGBM] [Warning] Accuracy may be bad since you didn't explicitly set num_leaves OR 2^max_depth > num_leaves. (num_leaves=31).\n",
      "[LightGBM] [Info] Auto-choosing row-wise multi-threading, the overhead of testing was 0.002888 seconds.\n",
      "You can set `force_row_wise=true` to remove the overhead.\n",
      "And if memory is not enough, you can set `force_col_wise=true`.\n",
      "[LightGBM] [Info] Total Bins 869\n",
      "[LightGBM] [Info] Number of data points in the train set: 136612, number of used features: 10\n",
      "[LightGBM] [Info] Start training from score 4674.889278\n",
      "[LightGBM] [Warning] Accuracy may be bad since you didn't explicitly set num_leaves OR 2^max_depth > num_leaves. (num_leaves=31).\n",
      "[CV 3/3] END max_depth=16, n_estimators=150;, score=-2423220.454 total time=   0.5s\n",
      "[LightGBM] [Warning] Accuracy may be bad since you didn't explicitly set num_leaves OR 2^max_depth > num_leaves. (num_leaves=31).\n",
      "[LightGBM] [Warning] Accuracy may be bad since you didn't explicitly set num_leaves OR 2^max_depth > num_leaves. (num_leaves=31).\n",
      "[LightGBM] [Info] Auto-choosing row-wise multi-threading, the overhead of testing was 0.003293 seconds.\n",
      "You can set `force_row_wise=true` to remove the overhead.\n",
      "And if memory is not enough, you can set `force_col_wise=true`.\n",
      "[LightGBM] [Info] Total Bins 877\n",
      "[LightGBM] [Info] Number of data points in the train set: 136612, number of used features: 10\n",
      "[LightGBM] [Info] Start training from score 4686.064431\n",
      "[LightGBM] [Warning] Accuracy may be bad since you didn't explicitly set num_leaves OR 2^max_depth > num_leaves. (num_leaves=31).\n",
      "[CV 1/3] END max_depth=16, n_estimators=200;, score=-2356973.002 total time=   0.7s\n",
      "[LightGBM] [Warning] Accuracy may be bad since you didn't explicitly set num_leaves OR 2^max_depth > num_leaves. (num_leaves=31).\n",
      "[LightGBM] [Warning] Accuracy may be bad since you didn't explicitly set num_leaves OR 2^max_depth > num_leaves. (num_leaves=31).\n",
      "[LightGBM] [Info] Auto-choosing row-wise multi-threading, the overhead of testing was 0.002880 seconds.\n",
      "You can set `force_row_wise=true` to remove the overhead.\n",
      "And if memory is not enough, you can set `force_col_wise=true`.\n",
      "[LightGBM] [Info] Total Bins 876\n",
      "[LightGBM] [Info] Number of data points in the train set: 136612, number of used features: 10\n",
      "[LightGBM] [Info] Start training from score 4681.842122\n",
      "[LightGBM] [Warning] Accuracy may be bad since you didn't explicitly set num_leaves OR 2^max_depth > num_leaves. (num_leaves=31).\n",
      "[CV 2/3] END max_depth=16, n_estimators=200;, score=-2421353.384 total time=   0.7s\n",
      "[LightGBM] [Warning] Accuracy may be bad since you didn't explicitly set num_leaves OR 2^max_depth > num_leaves. (num_leaves=31).\n",
      "[LightGBM] [Warning] Accuracy may be bad since you didn't explicitly set num_leaves OR 2^max_depth > num_leaves. (num_leaves=31).\n",
      "[LightGBM] [Info] Auto-choosing row-wise multi-threading, the overhead of testing was 0.002930 seconds.\n",
      "You can set `force_row_wise=true` to remove the overhead.\n",
      "And if memory is not enough, you can set `force_col_wise=true`.\n",
      "[LightGBM] [Info] Total Bins 869\n",
      "[LightGBM] [Info] Number of data points in the train set: 136612, number of used features: 10\n",
      "[LightGBM] [Info] Start training from score 4674.889278\n",
      "[LightGBM] [Warning] Accuracy may be bad since you didn't explicitly set num_leaves OR 2^max_depth > num_leaves. (num_leaves=31).\n",
      "[CV 3/3] END max_depth=16, n_estimators=200;, score=-2365247.110 total time=   0.7s\n",
      "[LightGBM] [Warning] Accuracy may be bad since you didn't explicitly set num_leaves OR 2^max_depth > num_leaves. (num_leaves=31).\n",
      "[LightGBM] [Warning] Accuracy may be bad since you didn't explicitly set num_leaves OR 2^max_depth > num_leaves. (num_leaves=31).\n",
      "[LightGBM] [Info] Auto-choosing row-wise multi-threading, the overhead of testing was 0.002874 seconds.\n",
      "You can set `force_row_wise=true` to remove the overhead.\n",
      "And if memory is not enough, you can set `force_col_wise=true`.\n",
      "[LightGBM] [Info] Total Bins 877\n",
      "[LightGBM] [Info] Number of data points in the train set: 136612, number of used features: 10\n",
      "[LightGBM] [Info] Start training from score 4686.064431\n",
      "[LightGBM] [Warning] Accuracy may be bad since you didn't explicitly set num_leaves OR 2^max_depth > num_leaves. (num_leaves=31).\n",
      "[CV 1/3] END max_depth=19, n_estimators=100;, score=-2509073.667 total time=   0.3s\n",
      "[LightGBM] [Warning] Accuracy may be bad since you didn't explicitly set num_leaves OR 2^max_depth > num_leaves. (num_leaves=31).\n",
      "[LightGBM] [Warning] Accuracy may be bad since you didn't explicitly set num_leaves OR 2^max_depth > num_leaves. (num_leaves=31).\n",
      "[LightGBM] [Info] Auto-choosing row-wise multi-threading, the overhead of testing was 0.002810 seconds.\n",
      "You can set `force_row_wise=true` to remove the overhead.\n",
      "And if memory is not enough, you can set `force_col_wise=true`.\n",
      "[LightGBM] [Info] Total Bins 876\n",
      "[LightGBM] [Info] Number of data points in the train set: 136612, number of used features: 10\n",
      "[LightGBM] [Info] Start training from score 4681.842122\n",
      "[LightGBM] [Warning] Accuracy may be bad since you didn't explicitly set num_leaves OR 2^max_depth > num_leaves. (num_leaves=31).\n",
      "[CV 2/3] END max_depth=19, n_estimators=100;, score=-2575874.091 total time=   0.3s\n",
      "[LightGBM] [Warning] Accuracy may be bad since you didn't explicitly set num_leaves OR 2^max_depth > num_leaves. (num_leaves=31).\n",
      "[LightGBM] [Warning] Accuracy may be bad since you didn't explicitly set num_leaves OR 2^max_depth > num_leaves. (num_leaves=31).\n",
      "[LightGBM] [Info] Auto-choosing row-wise multi-threading, the overhead of testing was 0.003501 seconds.\n",
      "You can set `force_row_wise=true` to remove the overhead.\n",
      "And if memory is not enough, you can set `force_col_wise=true`.\n",
      "[LightGBM] [Info] Total Bins 869\n",
      "[LightGBM] [Info] Number of data points in the train set: 136612, number of used features: 10\n",
      "[LightGBM] [Info] Start training from score 4674.889278\n"
     ]
    },
    {
     "name": "stdout",
     "output_type": "stream",
     "text": [
      "[LightGBM] [Warning] Accuracy may be bad since you didn't explicitly set num_leaves OR 2^max_depth > num_leaves. (num_leaves=31).\n",
      "[CV 3/3] END max_depth=19, n_estimators=100;, score=-2517791.077 total time=   0.3s\n",
      "[LightGBM] [Warning] Accuracy may be bad since you didn't explicitly set num_leaves OR 2^max_depth > num_leaves. (num_leaves=31).\n",
      "[LightGBM] [Warning] Accuracy may be bad since you didn't explicitly set num_leaves OR 2^max_depth > num_leaves. (num_leaves=31).\n",
      "[LightGBM] [Info] Auto-choosing row-wise multi-threading, the overhead of testing was 0.002442 seconds.\n",
      "You can set `force_row_wise=true` to remove the overhead.\n",
      "And if memory is not enough, you can set `force_col_wise=true`.\n",
      "[LightGBM] [Info] Total Bins 877\n",
      "[LightGBM] [Info] Number of data points in the train set: 136612, number of used features: 10\n",
      "[LightGBM] [Info] Start training from score 4686.064431\n",
      "[LightGBM] [Warning] Accuracy may be bad since you didn't explicitly set num_leaves OR 2^max_depth > num_leaves. (num_leaves=31).\n",
      "[CV 1/3] END max_depth=19, n_estimators=150;, score=-2412598.205 total time=   0.5s\n",
      "[LightGBM] [Warning] Accuracy may be bad since you didn't explicitly set num_leaves OR 2^max_depth > num_leaves. (num_leaves=31).\n",
      "[LightGBM] [Warning] Accuracy may be bad since you didn't explicitly set num_leaves OR 2^max_depth > num_leaves. (num_leaves=31).\n",
      "[LightGBM] [Info] Auto-choosing row-wise multi-threading, the overhead of testing was 0.002419 seconds.\n",
      "You can set `force_row_wise=true` to remove the overhead.\n",
      "And if memory is not enough, you can set `force_col_wise=true`.\n",
      "[LightGBM] [Info] Total Bins 876\n",
      "[LightGBM] [Info] Number of data points in the train set: 136612, number of used features: 10\n",
      "[LightGBM] [Info] Start training from score 4681.842122\n",
      "[LightGBM] [Warning] Accuracy may be bad since you didn't explicitly set num_leaves OR 2^max_depth > num_leaves. (num_leaves=31).\n",
      "[CV 2/3] END max_depth=19, n_estimators=150;, score=-2475202.208 total time=   0.5s\n",
      "[LightGBM] [Warning] Accuracy may be bad since you didn't explicitly set num_leaves OR 2^max_depth > num_leaves. (num_leaves=31).\n",
      "[LightGBM] [Warning] Accuracy may be bad since you didn't explicitly set num_leaves OR 2^max_depth > num_leaves. (num_leaves=31).\n",
      "[LightGBM] [Info] Auto-choosing row-wise multi-threading, the overhead of testing was 0.003352 seconds.\n",
      "You can set `force_row_wise=true` to remove the overhead.\n",
      "And if memory is not enough, you can set `force_col_wise=true`.\n",
      "[LightGBM] [Info] Total Bins 869\n",
      "[LightGBM] [Info] Number of data points in the train set: 136612, number of used features: 10\n",
      "[LightGBM] [Info] Start training from score 4674.889278\n",
      "[LightGBM] [Warning] Accuracy may be bad since you didn't explicitly set num_leaves OR 2^max_depth > num_leaves. (num_leaves=31).\n",
      "[CV 3/3] END max_depth=19, n_estimators=150;, score=-2421525.150 total time=   0.5s\n",
      "[LightGBM] [Warning] Accuracy may be bad since you didn't explicitly set num_leaves OR 2^max_depth > num_leaves. (num_leaves=31).\n",
      "[LightGBM] [Warning] Accuracy may be bad since you didn't explicitly set num_leaves OR 2^max_depth > num_leaves. (num_leaves=31).\n",
      "[LightGBM] [Info] Auto-choosing row-wise multi-threading, the overhead of testing was 0.002980 seconds.\n",
      "You can set `force_row_wise=true` to remove the overhead.\n",
      "And if memory is not enough, you can set `force_col_wise=true`.\n",
      "[LightGBM] [Info] Total Bins 877\n",
      "[LightGBM] [Info] Number of data points in the train set: 136612, number of used features: 10\n",
      "[LightGBM] [Info] Start training from score 4686.064431\n",
      "[LightGBM] [Warning] Accuracy may be bad since you didn't explicitly set num_leaves OR 2^max_depth > num_leaves. (num_leaves=31).\n",
      "[CV 1/3] END max_depth=19, n_estimators=200;, score=-2358321.094 total time=   0.7s\n",
      "[LightGBM] [Warning] Accuracy may be bad since you didn't explicitly set num_leaves OR 2^max_depth > num_leaves. (num_leaves=31).\n",
      "[LightGBM] [Warning] Accuracy may be bad since you didn't explicitly set num_leaves OR 2^max_depth > num_leaves. (num_leaves=31).\n",
      "[LightGBM] [Info] Auto-choosing row-wise multi-threading, the overhead of testing was 0.003080 seconds.\n",
      "You can set `force_row_wise=true` to remove the overhead.\n",
      "And if memory is not enough, you can set `force_col_wise=true`.\n",
      "[LightGBM] [Info] Total Bins 876\n",
      "[LightGBM] [Info] Number of data points in the train set: 136612, number of used features: 10\n",
      "[LightGBM] [Info] Start training from score 4681.842122\n",
      "[LightGBM] [Warning] Accuracy may be bad since you didn't explicitly set num_leaves OR 2^max_depth > num_leaves. (num_leaves=31).\n",
      "[CV 2/3] END max_depth=19, n_estimators=200;, score=-2424158.008 total time=   0.7s\n",
      "[LightGBM] [Warning] Accuracy may be bad since you didn't explicitly set num_leaves OR 2^max_depth > num_leaves. (num_leaves=31).\n",
      "[LightGBM] [Warning] Accuracy may be bad since you didn't explicitly set num_leaves OR 2^max_depth > num_leaves. (num_leaves=31).\n",
      "[LightGBM] [Info] Auto-choosing row-wise multi-threading, the overhead of testing was 0.002725 seconds.\n",
      "You can set `force_row_wise=true` to remove the overhead.\n",
      "And if memory is not enough, you can set `force_col_wise=true`.\n",
      "[LightGBM] [Info] Total Bins 869\n",
      "[LightGBM] [Info] Number of data points in the train set: 136612, number of used features: 10\n",
      "[LightGBM] [Info] Start training from score 4674.889278\n",
      "[LightGBM] [Warning] Accuracy may be bad since you didn't explicitly set num_leaves OR 2^max_depth > num_leaves. (num_leaves=31).\n",
      "[CV 3/3] END max_depth=19, n_estimators=200;, score=-2359541.135 total time=   0.7s\n",
      "[LightGBM] [Warning] Accuracy may be bad since you didn't explicitly set num_leaves OR 2^max_depth > num_leaves. (num_leaves=31).\n",
      "[LightGBM] [Warning] Accuracy may be bad since you didn't explicitly set num_leaves OR 2^max_depth > num_leaves. (num_leaves=31).\n",
      "[LightGBM] [Info] Auto-choosing row-wise multi-threading, the overhead of testing was 0.003545 seconds.\n",
      "You can set `force_row_wise=true` to remove the overhead.\n",
      "And if memory is not enough, you can set `force_col_wise=true`.\n",
      "[LightGBM] [Info] Total Bins 881\n",
      "[LightGBM] [Info] Number of data points in the train set: 204918, number of used features: 10\n",
      "[LightGBM] [Info] Start training from score 4680.931944\n",
      "Наилучшие значения параметров: {'max_depth': 13, 'n_estimators': 200}\n",
      "Наилучший показатель RMSE: 1542.8048905845144\n"
     ]
    }
   ],
   "source": [
    "# Теперь переходим к градиентному бустингу с помощью LGBM\n",
    "\n",
    "lgbm_model = LGBMRegressor(random_state=12345)\n",
    "\n",
    "lgbm_parameters_grid = {\n",
    "    'max_depth' : range(10, 20, 3),\n",
    "    'n_estimators' : list(map(int, np.linspace(100, 200, 3)))\n",
    "    #'learning_rate': [0.1, 1.0]\n",
    "}\n",
    "\n",
    "lgbm_grid_cv = GridSearchCV(\n",
    "    lgbm_model,\n",
    "    lgbm_parameters_grid,\n",
    "    cv=3,\n",
    "    scoring = 'neg_mean_squared_error',\n",
    "    verbose=3\n",
    "    #n_jobs=-1\n",
    ")\n",
    "lgbm_grid_cv.fit(features_train_encoded, target_train)\n",
    "print(f'Наилучшие значения параметров: {lgbm_grid_cv.best_params_}') \n",
    "print(f'Наилучший показатель RMSE: {(lgbm_grid_cv.best_score_ * (-1))**0.5}')"
   ]
  },
  {
   "cell_type": "markdown",
   "metadata": {},
   "source": [
    "Итак для модели LGBM мы получили:\n",
    "- max_depth=13.\n",
    "- n_estimators=200.\n",
    "- learning_rate=0.1\n",
    "- RMSE ~ 1542, что укладывается в наш целевой показатель по эффективности модели (<2500)"
   ]
  },
  {
   "cell_type": "code",
   "execution_count": 51,
   "metadata": {
    "scrolled": false
   },
   "outputs": [
    {
     "name": "stdout",
     "output_type": "stream",
     "text": [
      "Fitting 3 folds for each of 12 candidates, totalling 36 fits\n",
      "[CV 1/3] END max_depth=10, n_estimators=100;, score=-2298389.206 total time=   1.9s\n",
      "[CV 2/3] END max_depth=10, n_estimators=100;, score=-2354822.155 total time=   1.7s\n",
      "[CV 3/3] END max_depth=10, n_estimators=100;, score=-2280874.307 total time=   1.7s\n",
      "[CV 1/3] END max_depth=10, n_estimators=150;, score=-2256162.593 total time=   2.5s\n",
      "[CV 2/3] END max_depth=10, n_estimators=150;, score=-2318964.740 total time=   2.5s\n",
      "[CV 3/3] END max_depth=10, n_estimators=150;, score=-2244335.239 total time=   2.6s\n",
      "[CV 1/3] END max_depth=10, n_estimators=200;, score=-2232624.904 total time=   3.5s\n",
      "[CV 2/3] END max_depth=10, n_estimators=200;, score=-2294872.674 total time=   3.4s\n",
      "[CV 3/3] END max_depth=10, n_estimators=200;, score=-2218622.517 total time=   3.5s\n",
      "[CV 1/3] END max_depth=13, n_estimators=100;, score=-2309845.659 total time=   9.2s\n",
      "[CV 2/3] END max_depth=13, n_estimators=100;, score=-2363526.315 total time=   8.7s\n",
      "[CV 3/3] END max_depth=13, n_estimators=100;, score=-2303979.894 total time=   8.8s\n",
      "[CV 1/3] END max_depth=13, n_estimators=150;, score=-2259700.046 total time=  12.9s\n",
      "[CV 2/3] END max_depth=13, n_estimators=150;, score=-2302219.660 total time=  13.0s\n",
      "[CV 3/3] END max_depth=13, n_estimators=150;, score=-2241511.411 total time=  13.1s\n",
      "[CV 1/3] END max_depth=13, n_estimators=200;, score=-2223693.968 total time=  17.4s\n",
      "[CV 2/3] END max_depth=13, n_estimators=200;, score=-2290333.342 total time=  17.2s\n",
      "[CV 3/3] END max_depth=13, n_estimators=200;, score=-2212639.689 total time=  17.5s\n",
      "[CV 1/3] END max_depth=16, n_estimators=100;, score=-2359137.708 total time= 1.1min\n",
      "[CV 2/3] END max_depth=16, n_estimators=100;, score=-2432032.189 total time= 1.1min\n",
      "[CV 3/3] END max_depth=16, n_estimators=100;, score=-2362824.891 total time= 1.1min\n",
      "[CV 1/3] END max_depth=16, n_estimators=150;, score=-2323750.076 total time= 1.6min\n",
      "[CV 2/3] END max_depth=16, n_estimators=150;, score=-2376425.525 total time= 1.6min\n",
      "[CV 3/3] END max_depth=16, n_estimators=150;, score=-2325969.286 total time= 1.6min\n",
      "[CV 1/3] END max_depth=16, n_estimators=200;, score=-2274708.269 total time= 2.1min\n",
      "[CV 2/3] END max_depth=16, n_estimators=200;, score=-2320375.848 total time= 2.2min\n",
      "[CV 3/3] END max_depth=16, n_estimators=200;, score=-2268584.927 total time= 2.2min\n",
      "[CV 1/3] END ......max_depth=19, n_estimators=100;, score=nan total time=   0.0s\n",
      "[CV 2/3] END ......max_depth=19, n_estimators=100;, score=nan total time=   0.0s\n",
      "[CV 3/3] END ......max_depth=19, n_estimators=100;, score=nan total time=   0.0s\n",
      "[CV 1/3] END ......max_depth=19, n_estimators=150;, score=nan total time=   0.0s\n",
      "[CV 2/3] END ......max_depth=19, n_estimators=150;, score=nan total time=   0.0s\n",
      "[CV 3/3] END ......max_depth=19, n_estimators=150;, score=nan total time=   0.0s\n",
      "[CV 1/3] END ......max_depth=19, n_estimators=200;, score=nan total time=   0.0s\n",
      "[CV 2/3] END ......max_depth=19, n_estimators=200;, score=nan total time=   0.0s\n",
      "[CV 3/3] END ......max_depth=19, n_estimators=200;, score=nan total time=   0.0s\n"
     ]
    },
    {
     "name": "stderr",
     "output_type": "stream",
     "text": [
      "E:\\Anaconda\\envs\\practicum\\lib\\site-packages\\sklearn\\model_selection\\_validation.py:547: FitFailedWarning: \n",
      "9 fits failed out of a total of 36.\n",
      "The score on these train-test partitions for these parameters will be set to nan.\n",
      "If these failures are not expected, you can try to debug them by setting error_score='raise'.\n",
      "\n",
      "Below are more details about the failures:\n",
      "--------------------------------------------------------------------------------\n",
      "9 fits failed with the following error:\n",
      "Traceback (most recent call last):\n",
      "  File \"E:\\Anaconda\\envs\\practicum\\lib\\site-packages\\sklearn\\model_selection\\_validation.py\", line 895, in _fit_and_score\n",
      "    estimator.fit(X_train, y_train, **fit_params)\n",
      "  File \"E:\\Anaconda\\envs\\practicum\\lib\\site-packages\\catboost\\core.py\", line 5807, in fit\n",
      "    return self._fit(X, y, cat_features, text_features, embedding_features, None, sample_weight, None, None, None, None, baseline,\n",
      "  File \"E:\\Anaconda\\envs\\practicum\\lib\\site-packages\\catboost\\core.py\", line 2381, in _fit\n",
      "    train_params = self._prepare_train_params(\n",
      "  File \"E:\\Anaconda\\envs\\practicum\\lib\\site-packages\\catboost\\core.py\", line 2307, in _prepare_train_params\n",
      "    _check_train_params(params)\n",
      "  File \"_catboost.pyx\", line 6382, in _catboost._check_train_params\n",
      "  File \"_catboost.pyx\", line 6404, in _catboost._check_train_params\n",
      "_catboost.CatBoostError: C:/Go_Agent/pipelines/BuildMaster/catboost.git/catboost/private/libs/options/oblivious_tree_options.cpp:128: Maximum tree depth is 16\n",
      "\n",
      "  warnings.warn(some_fits_failed_message, FitFailedWarning)\n",
      "E:\\Anaconda\\envs\\practicum\\lib\\site-packages\\sklearn\\model_selection\\_search.py:1051: UserWarning: One or more of the test scores are non-finite: [-2311361.88931505 -2273154.19058406 -2248706.6985952  -2325783.95611903\n",
      " -2267810.37207584 -2242222.33305954 -2384664.92938783 -2342048.29544187\n",
      " -2287889.68151301               nan               nan               nan]\n",
      "  warnings.warn(\n"
     ]
    },
    {
     "name": "stdout",
     "output_type": "stream",
     "text": [
      "Наилучшие значения параметров: {'max_depth': 13, 'n_estimators': 200}\n",
      "Наилучший показатель RMSE: 1497.405200024209\n"
     ]
    }
   ],
   "source": [
    "# перейдем к последней модели - CatBoost\n",
    "catboost_model = CatBoostRegressor(random_state=12345, verbose=False)\n",
    "\n",
    "catboost_parameters_grid = {\n",
    "    'max_depth' : range(10, 20, 3),\n",
    "    'n_estimators' : list(map(int, np.linspace(100, 200, 3)))\n",
    "}\n",
    "\n",
    "catboost_grid_cv = GridSearchCV(\n",
    "    catboost_model,\n",
    "    catboost_parameters_grid,\n",
    "    cv=3,\n",
    "    scoring = 'neg_mean_squared_error',\n",
    "    verbose=3\n",
    "    #n_jobs=-1\n",
    ")\n",
    "catboost_grid_cv.fit(features_train_encoded, target_train)\n",
    "print(f'Наилучшие значения параметров: {catboost_grid_cv.best_params_}') \n",
    "print(f'Наилучший показатель RMSE: {(catboost_grid_cv.best_score_ * (-1))**0.5}')"
   ]
  },
  {
   "cell_type": "markdown",
   "metadata": {},
   "source": [
    "Показатели модели CatBoost:\n",
    "- max_depth=13.\n",
    "- n_estimators=200.\n",
    "- RMSE ~ 1497, что укладывается в наш целевой показатель по эффективности модели (<2500)"
   ]
  },
  {
   "cell_type": "markdown",
   "metadata": {},
   "source": [
    "Итак, в течение данного этапа мы обучили четыре типа модели: дерево решений, случайный лес, LGBM и Catboost.  \n",
    "Все модели показали свою эффективность и прошли заданный целевой порог метрики RMSE (<2500).  \n",
    "В следующем этапе нам предстоит сравнить полученные модели между собой и определить, какая из них наилучшим образом соответствует запросу клиента."
   ]
  },
  {
   "cell_type": "markdown",
   "metadata": {},
   "source": [
    "## Анализ моделей"
   ]
  },
  {
   "cell_type": "markdown",
   "metadata": {},
   "source": [
    "В данном этапе нам предстоит проанализировать построенные модели по всем критериям заказчика, а именно:\n",
    "- качество предсказания;\n",
    "- скорость предсказания;\n",
    "- время обучения.\n",
    "\n",
    "На основании этих данных будет выбрана наиболее оптимальная модель."
   ]
  },
  {
   "cell_type": "code",
   "execution_count": 52,
   "metadata": {},
   "outputs": [
    {
     "name": "stdout",
     "output_type": "stream",
     "text": [
      "CPU times: total: 484 ms\n",
      "Wall time: 484 ms\n"
     ]
    },
    {
     "data": {
      "text/html": [
       "<style>#sk-container-id-1 {\n",
       "  /* Definition of color scheme common for light and dark mode */\n",
       "  --sklearn-color-text: black;\n",
       "  --sklearn-color-line: gray;\n",
       "  /* Definition of color scheme for unfitted estimators */\n",
       "  --sklearn-color-unfitted-level-0: #fff5e6;\n",
       "  --sklearn-color-unfitted-level-1: #f6e4d2;\n",
       "  --sklearn-color-unfitted-level-2: #ffe0b3;\n",
       "  --sklearn-color-unfitted-level-3: chocolate;\n",
       "  /* Definition of color scheme for fitted estimators */\n",
       "  --sklearn-color-fitted-level-0: #f0f8ff;\n",
       "  --sklearn-color-fitted-level-1: #d4ebff;\n",
       "  --sklearn-color-fitted-level-2: #b3dbfd;\n",
       "  --sklearn-color-fitted-level-3: cornflowerblue;\n",
       "\n",
       "  /* Specific color for light theme */\n",
       "  --sklearn-color-text-on-default-background: var(--sg-text-color, var(--theme-code-foreground, var(--jp-content-font-color1, black)));\n",
       "  --sklearn-color-background: var(--sg-background-color, var(--theme-background, var(--jp-layout-color0, white)));\n",
       "  --sklearn-color-border-box: var(--sg-text-color, var(--theme-code-foreground, var(--jp-content-font-color1, black)));\n",
       "  --sklearn-color-icon: #696969;\n",
       "\n",
       "  @media (prefers-color-scheme: dark) {\n",
       "    /* Redefinition of color scheme for dark theme */\n",
       "    --sklearn-color-text-on-default-background: var(--sg-text-color, var(--theme-code-foreground, var(--jp-content-font-color1, white)));\n",
       "    --sklearn-color-background: var(--sg-background-color, var(--theme-background, var(--jp-layout-color0, #111)));\n",
       "    --sklearn-color-border-box: var(--sg-text-color, var(--theme-code-foreground, var(--jp-content-font-color1, white)));\n",
       "    --sklearn-color-icon: #878787;\n",
       "  }\n",
       "}\n",
       "\n",
       "#sk-container-id-1 {\n",
       "  color: var(--sklearn-color-text);\n",
       "}\n",
       "\n",
       "#sk-container-id-1 pre {\n",
       "  padding: 0;\n",
       "}\n",
       "\n",
       "#sk-container-id-1 input.sk-hidden--visually {\n",
       "  border: 0;\n",
       "  clip: rect(1px 1px 1px 1px);\n",
       "  clip: rect(1px, 1px, 1px, 1px);\n",
       "  height: 1px;\n",
       "  margin: -1px;\n",
       "  overflow: hidden;\n",
       "  padding: 0;\n",
       "  position: absolute;\n",
       "  width: 1px;\n",
       "}\n",
       "\n",
       "#sk-container-id-1 div.sk-dashed-wrapped {\n",
       "  border: 1px dashed var(--sklearn-color-line);\n",
       "  margin: 0 0.4em 0.5em 0.4em;\n",
       "  box-sizing: border-box;\n",
       "  padding-bottom: 0.4em;\n",
       "  background-color: var(--sklearn-color-background);\n",
       "}\n",
       "\n",
       "#sk-container-id-1 div.sk-container {\n",
       "  /* jupyter's `normalize.less` sets `[hidden] { display: none; }`\n",
       "     but bootstrap.min.css set `[hidden] { display: none !important; }`\n",
       "     so we also need the `!important` here to be able to override the\n",
       "     default hidden behavior on the sphinx rendered scikit-learn.org.\n",
       "     See: https://github.com/scikit-learn/scikit-learn/issues/21755 */\n",
       "  display: inline-block !important;\n",
       "  position: relative;\n",
       "}\n",
       "\n",
       "#sk-container-id-1 div.sk-text-repr-fallback {\n",
       "  display: none;\n",
       "}\n",
       "\n",
       "div.sk-parallel-item,\n",
       "div.sk-serial,\n",
       "div.sk-item {\n",
       "  /* draw centered vertical line to link estimators */\n",
       "  background-image: linear-gradient(var(--sklearn-color-text-on-default-background), var(--sklearn-color-text-on-default-background));\n",
       "  background-size: 2px 100%;\n",
       "  background-repeat: no-repeat;\n",
       "  background-position: center center;\n",
       "}\n",
       "\n",
       "/* Parallel-specific style estimator block */\n",
       "\n",
       "#sk-container-id-1 div.sk-parallel-item::after {\n",
       "  content: \"\";\n",
       "  width: 100%;\n",
       "  border-bottom: 2px solid var(--sklearn-color-text-on-default-background);\n",
       "  flex-grow: 1;\n",
       "}\n",
       "\n",
       "#sk-container-id-1 div.sk-parallel {\n",
       "  display: flex;\n",
       "  align-items: stretch;\n",
       "  justify-content: center;\n",
       "  background-color: var(--sklearn-color-background);\n",
       "  position: relative;\n",
       "}\n",
       "\n",
       "#sk-container-id-1 div.sk-parallel-item {\n",
       "  display: flex;\n",
       "  flex-direction: column;\n",
       "}\n",
       "\n",
       "#sk-container-id-1 div.sk-parallel-item:first-child::after {\n",
       "  align-self: flex-end;\n",
       "  width: 50%;\n",
       "}\n",
       "\n",
       "#sk-container-id-1 div.sk-parallel-item:last-child::after {\n",
       "  align-self: flex-start;\n",
       "  width: 50%;\n",
       "}\n",
       "\n",
       "#sk-container-id-1 div.sk-parallel-item:only-child::after {\n",
       "  width: 0;\n",
       "}\n",
       "\n",
       "/* Serial-specific style estimator block */\n",
       "\n",
       "#sk-container-id-1 div.sk-serial {\n",
       "  display: flex;\n",
       "  flex-direction: column;\n",
       "  align-items: center;\n",
       "  background-color: var(--sklearn-color-background);\n",
       "  padding-right: 1em;\n",
       "  padding-left: 1em;\n",
       "}\n",
       "\n",
       "\n",
       "/* Toggleable style: style used for estimator/Pipeline/ColumnTransformer box that is\n",
       "clickable and can be expanded/collapsed.\n",
       "- Pipeline and ColumnTransformer use this feature and define the default style\n",
       "- Estimators will overwrite some part of the style using the `sk-estimator` class\n",
       "*/\n",
       "\n",
       "/* Pipeline and ColumnTransformer style (default) */\n",
       "\n",
       "#sk-container-id-1 div.sk-toggleable {\n",
       "  /* Default theme specific background. It is overwritten whether we have a\n",
       "  specific estimator or a Pipeline/ColumnTransformer */\n",
       "  background-color: var(--sklearn-color-background);\n",
       "}\n",
       "\n",
       "/* Toggleable label */\n",
       "#sk-container-id-1 label.sk-toggleable__label {\n",
       "  cursor: pointer;\n",
       "  display: block;\n",
       "  width: 100%;\n",
       "  margin-bottom: 0;\n",
       "  padding: 0.5em;\n",
       "  box-sizing: border-box;\n",
       "  text-align: center;\n",
       "}\n",
       "\n",
       "#sk-container-id-1 label.sk-toggleable__label-arrow:before {\n",
       "  /* Arrow on the left of the label */\n",
       "  content: \"▸\";\n",
       "  float: left;\n",
       "  margin-right: 0.25em;\n",
       "  color: var(--sklearn-color-icon);\n",
       "}\n",
       "\n",
       "#sk-container-id-1 label.sk-toggleable__label-arrow:hover:before {\n",
       "  color: var(--sklearn-color-text);\n",
       "}\n",
       "\n",
       "/* Toggleable content - dropdown */\n",
       "\n",
       "#sk-container-id-1 div.sk-toggleable__content {\n",
       "  max-height: 0;\n",
       "  max-width: 0;\n",
       "  overflow: hidden;\n",
       "  text-align: left;\n",
       "  /* unfitted */\n",
       "  background-color: var(--sklearn-color-unfitted-level-0);\n",
       "}\n",
       "\n",
       "#sk-container-id-1 div.sk-toggleable__content.fitted {\n",
       "  /* fitted */\n",
       "  background-color: var(--sklearn-color-fitted-level-0);\n",
       "}\n",
       "\n",
       "#sk-container-id-1 div.sk-toggleable__content pre {\n",
       "  margin: 0.2em;\n",
       "  border-radius: 0.25em;\n",
       "  color: var(--sklearn-color-text);\n",
       "  /* unfitted */\n",
       "  background-color: var(--sklearn-color-unfitted-level-0);\n",
       "}\n",
       "\n",
       "#sk-container-id-1 div.sk-toggleable__content.fitted pre {\n",
       "  /* unfitted */\n",
       "  background-color: var(--sklearn-color-fitted-level-0);\n",
       "}\n",
       "\n",
       "#sk-container-id-1 input.sk-toggleable__control:checked~div.sk-toggleable__content {\n",
       "  /* Expand drop-down */\n",
       "  max-height: 200px;\n",
       "  max-width: 100%;\n",
       "  overflow: auto;\n",
       "}\n",
       "\n",
       "#sk-container-id-1 input.sk-toggleable__control:checked~label.sk-toggleable__label-arrow:before {\n",
       "  content: \"▾\";\n",
       "}\n",
       "\n",
       "/* Pipeline/ColumnTransformer-specific style */\n",
       "\n",
       "#sk-container-id-1 div.sk-label input.sk-toggleable__control:checked~label.sk-toggleable__label {\n",
       "  color: var(--sklearn-color-text);\n",
       "  background-color: var(--sklearn-color-unfitted-level-2);\n",
       "}\n",
       "\n",
       "#sk-container-id-1 div.sk-label.fitted input.sk-toggleable__control:checked~label.sk-toggleable__label {\n",
       "  background-color: var(--sklearn-color-fitted-level-2);\n",
       "}\n",
       "\n",
       "/* Estimator-specific style */\n",
       "\n",
       "/* Colorize estimator box */\n",
       "#sk-container-id-1 div.sk-estimator input.sk-toggleable__control:checked~label.sk-toggleable__label {\n",
       "  /* unfitted */\n",
       "  background-color: var(--sklearn-color-unfitted-level-2);\n",
       "}\n",
       "\n",
       "#sk-container-id-1 div.sk-estimator.fitted input.sk-toggleable__control:checked~label.sk-toggleable__label {\n",
       "  /* fitted */\n",
       "  background-color: var(--sklearn-color-fitted-level-2);\n",
       "}\n",
       "\n",
       "#sk-container-id-1 div.sk-label label.sk-toggleable__label,\n",
       "#sk-container-id-1 div.sk-label label {\n",
       "  /* The background is the default theme color */\n",
       "  color: var(--sklearn-color-text-on-default-background);\n",
       "}\n",
       "\n",
       "/* On hover, darken the color of the background */\n",
       "#sk-container-id-1 div.sk-label:hover label.sk-toggleable__label {\n",
       "  color: var(--sklearn-color-text);\n",
       "  background-color: var(--sklearn-color-unfitted-level-2);\n",
       "}\n",
       "\n",
       "/* Label box, darken color on hover, fitted */\n",
       "#sk-container-id-1 div.sk-label.fitted:hover label.sk-toggleable__label.fitted {\n",
       "  color: var(--sklearn-color-text);\n",
       "  background-color: var(--sklearn-color-fitted-level-2);\n",
       "}\n",
       "\n",
       "/* Estimator label */\n",
       "\n",
       "#sk-container-id-1 div.sk-label label {\n",
       "  font-family: monospace;\n",
       "  font-weight: bold;\n",
       "  display: inline-block;\n",
       "  line-height: 1.2em;\n",
       "}\n",
       "\n",
       "#sk-container-id-1 div.sk-label-container {\n",
       "  text-align: center;\n",
       "}\n",
       "\n",
       "/* Estimator-specific */\n",
       "#sk-container-id-1 div.sk-estimator {\n",
       "  font-family: monospace;\n",
       "  border: 1px dotted var(--sklearn-color-border-box);\n",
       "  border-radius: 0.25em;\n",
       "  box-sizing: border-box;\n",
       "  margin-bottom: 0.5em;\n",
       "  /* unfitted */\n",
       "  background-color: var(--sklearn-color-unfitted-level-0);\n",
       "}\n",
       "\n",
       "#sk-container-id-1 div.sk-estimator.fitted {\n",
       "  /* fitted */\n",
       "  background-color: var(--sklearn-color-fitted-level-0);\n",
       "}\n",
       "\n",
       "/* on hover */\n",
       "#sk-container-id-1 div.sk-estimator:hover {\n",
       "  /* unfitted */\n",
       "  background-color: var(--sklearn-color-unfitted-level-2);\n",
       "}\n",
       "\n",
       "#sk-container-id-1 div.sk-estimator.fitted:hover {\n",
       "  /* fitted */\n",
       "  background-color: var(--sklearn-color-fitted-level-2);\n",
       "}\n",
       "\n",
       "/* Specification for estimator info (e.g. \"i\" and \"?\") */\n",
       "\n",
       "/* Common style for \"i\" and \"?\" */\n",
       "\n",
       ".sk-estimator-doc-link,\n",
       "a:link.sk-estimator-doc-link,\n",
       "a:visited.sk-estimator-doc-link {\n",
       "  float: right;\n",
       "  font-size: smaller;\n",
       "  line-height: 1em;\n",
       "  font-family: monospace;\n",
       "  background-color: var(--sklearn-color-background);\n",
       "  border-radius: 1em;\n",
       "  height: 1em;\n",
       "  width: 1em;\n",
       "  text-decoration: none !important;\n",
       "  margin-left: 1ex;\n",
       "  /* unfitted */\n",
       "  border: var(--sklearn-color-unfitted-level-1) 1pt solid;\n",
       "  color: var(--sklearn-color-unfitted-level-1);\n",
       "}\n",
       "\n",
       ".sk-estimator-doc-link.fitted,\n",
       "a:link.sk-estimator-doc-link.fitted,\n",
       "a:visited.sk-estimator-doc-link.fitted {\n",
       "  /* fitted */\n",
       "  border: var(--sklearn-color-fitted-level-1) 1pt solid;\n",
       "  color: var(--sklearn-color-fitted-level-1);\n",
       "}\n",
       "\n",
       "/* On hover */\n",
       "div.sk-estimator:hover .sk-estimator-doc-link:hover,\n",
       ".sk-estimator-doc-link:hover,\n",
       "div.sk-label-container:hover .sk-estimator-doc-link:hover,\n",
       ".sk-estimator-doc-link:hover {\n",
       "  /* unfitted */\n",
       "  background-color: var(--sklearn-color-unfitted-level-3);\n",
       "  color: var(--sklearn-color-background);\n",
       "  text-decoration: none;\n",
       "}\n",
       "\n",
       "div.sk-estimator.fitted:hover .sk-estimator-doc-link.fitted:hover,\n",
       ".sk-estimator-doc-link.fitted:hover,\n",
       "div.sk-label-container:hover .sk-estimator-doc-link.fitted:hover,\n",
       ".sk-estimator-doc-link.fitted:hover {\n",
       "  /* fitted */\n",
       "  background-color: var(--sklearn-color-fitted-level-3);\n",
       "  color: var(--sklearn-color-background);\n",
       "  text-decoration: none;\n",
       "}\n",
       "\n",
       "/* Span, style for the box shown on hovering the info icon */\n",
       ".sk-estimator-doc-link span {\n",
       "  display: none;\n",
       "  z-index: 9999;\n",
       "  position: relative;\n",
       "  font-weight: normal;\n",
       "  right: .2ex;\n",
       "  padding: .5ex;\n",
       "  margin: .5ex;\n",
       "  width: min-content;\n",
       "  min-width: 20ex;\n",
       "  max-width: 50ex;\n",
       "  color: var(--sklearn-color-text);\n",
       "  box-shadow: 2pt 2pt 4pt #999;\n",
       "  /* unfitted */\n",
       "  background: var(--sklearn-color-unfitted-level-0);\n",
       "  border: .5pt solid var(--sklearn-color-unfitted-level-3);\n",
       "}\n",
       "\n",
       ".sk-estimator-doc-link.fitted span {\n",
       "  /* fitted */\n",
       "  background: var(--sklearn-color-fitted-level-0);\n",
       "  border: var(--sklearn-color-fitted-level-3);\n",
       "}\n",
       "\n",
       ".sk-estimator-doc-link:hover span {\n",
       "  display: block;\n",
       "}\n",
       "\n",
       "/* \"?\"-specific style due to the `<a>` HTML tag */\n",
       "\n",
       "#sk-container-id-1 a.estimator_doc_link {\n",
       "  float: right;\n",
       "  font-size: 1rem;\n",
       "  line-height: 1em;\n",
       "  font-family: monospace;\n",
       "  background-color: var(--sklearn-color-background);\n",
       "  border-radius: 1rem;\n",
       "  height: 1rem;\n",
       "  width: 1rem;\n",
       "  text-decoration: none;\n",
       "  /* unfitted */\n",
       "  color: var(--sklearn-color-unfitted-level-1);\n",
       "  border: var(--sklearn-color-unfitted-level-1) 1pt solid;\n",
       "}\n",
       "\n",
       "#sk-container-id-1 a.estimator_doc_link.fitted {\n",
       "  /* fitted */\n",
       "  border: var(--sklearn-color-fitted-level-1) 1pt solid;\n",
       "  color: var(--sklearn-color-fitted-level-1);\n",
       "}\n",
       "\n",
       "/* On hover */\n",
       "#sk-container-id-1 a.estimator_doc_link:hover {\n",
       "  /* unfitted */\n",
       "  background-color: var(--sklearn-color-unfitted-level-3);\n",
       "  color: var(--sklearn-color-background);\n",
       "  text-decoration: none;\n",
       "}\n",
       "\n",
       "#sk-container-id-1 a.estimator_doc_link.fitted:hover {\n",
       "  /* fitted */\n",
       "  background-color: var(--sklearn-color-fitted-level-3);\n",
       "}\n",
       "</style><div id=\"sk-container-id-1\" class=\"sk-top-container\"><div class=\"sk-text-repr-fallback\"><pre>DecisionTreeRegressor(max_depth=12, random_state=12345)</pre><b>In a Jupyter environment, please rerun this cell to show the HTML representation or trust the notebook. <br />On GitHub, the HTML representation is unable to render, please try loading this page with nbviewer.org.</b></div><div class=\"sk-container\" hidden><div class=\"sk-item\"><div class=\"sk-estimator fitted sk-toggleable\"><input class=\"sk-toggleable__control sk-hidden--visually\" id=\"sk-estimator-id-1\" type=\"checkbox\" checked><label for=\"sk-estimator-id-1\" class=\"sk-toggleable__label fitted sk-toggleable__label-arrow fitted\">&nbsp;&nbsp;DecisionTreeRegressor<a class=\"sk-estimator-doc-link fitted\" rel=\"noreferrer\" target=\"_blank\" href=\"https://scikit-learn.org/1.4/modules/generated/sklearn.tree.DecisionTreeRegressor.html\">?<span>Documentation for DecisionTreeRegressor</span></a><span class=\"sk-estimator-doc-link fitted\">i<span>Fitted</span></span></label><div class=\"sk-toggleable__content fitted\"><pre>DecisionTreeRegressor(max_depth=12, random_state=12345)</pre></div> </div></div></div></div>"
      ],
      "text/plain": [
       "DecisionTreeRegressor(max_depth=12, random_state=12345)"
      ]
     },
     "execution_count": 52,
     "metadata": {},
     "output_type": "execute_result"
    }
   ],
   "source": [
    "%%time \n",
    "# оценка скорости работы моделей\n",
    "decision_tree = DecisionTreeRegressor(max_depth=12, random_state=12345)\n",
    "decision_tree.fit(features_train_encoded, target_train)"
   ]
  },
  {
   "cell_type": "code",
   "execution_count": 53,
   "metadata": {},
   "outputs": [
    {
     "name": "stdout",
     "output_type": "stream",
     "text": [
      "CPU times: total: 15.6 ms\n",
      "Wall time: 28.2 ms\n"
     ]
    }
   ],
   "source": [
    "%%time\n",
    "decision_tree_pred = decision_tree.predict(features_train_encoded)"
   ]
  },
  {
   "cell_type": "markdown",
   "metadata": {},
   "source": []
  },
  {
   "cell_type": "code",
   "execution_count": 54,
   "metadata": {},
   "outputs": [
    {
     "name": "stdout",
     "output_type": "stream",
     "text": [
      "CPU times: total: 1min 24s\n",
      "Wall time: 1min 24s\n"
     ]
    },
    {
     "data": {
      "text/html": [
       "<style>#sk-container-id-2 {\n",
       "  /* Definition of color scheme common for light and dark mode */\n",
       "  --sklearn-color-text: black;\n",
       "  --sklearn-color-line: gray;\n",
       "  /* Definition of color scheme for unfitted estimators */\n",
       "  --sklearn-color-unfitted-level-0: #fff5e6;\n",
       "  --sklearn-color-unfitted-level-1: #f6e4d2;\n",
       "  --sklearn-color-unfitted-level-2: #ffe0b3;\n",
       "  --sklearn-color-unfitted-level-3: chocolate;\n",
       "  /* Definition of color scheme for fitted estimators */\n",
       "  --sklearn-color-fitted-level-0: #f0f8ff;\n",
       "  --sklearn-color-fitted-level-1: #d4ebff;\n",
       "  --sklearn-color-fitted-level-2: #b3dbfd;\n",
       "  --sklearn-color-fitted-level-3: cornflowerblue;\n",
       "\n",
       "  /* Specific color for light theme */\n",
       "  --sklearn-color-text-on-default-background: var(--sg-text-color, var(--theme-code-foreground, var(--jp-content-font-color1, black)));\n",
       "  --sklearn-color-background: var(--sg-background-color, var(--theme-background, var(--jp-layout-color0, white)));\n",
       "  --sklearn-color-border-box: var(--sg-text-color, var(--theme-code-foreground, var(--jp-content-font-color1, black)));\n",
       "  --sklearn-color-icon: #696969;\n",
       "\n",
       "  @media (prefers-color-scheme: dark) {\n",
       "    /* Redefinition of color scheme for dark theme */\n",
       "    --sklearn-color-text-on-default-background: var(--sg-text-color, var(--theme-code-foreground, var(--jp-content-font-color1, white)));\n",
       "    --sklearn-color-background: var(--sg-background-color, var(--theme-background, var(--jp-layout-color0, #111)));\n",
       "    --sklearn-color-border-box: var(--sg-text-color, var(--theme-code-foreground, var(--jp-content-font-color1, white)));\n",
       "    --sklearn-color-icon: #878787;\n",
       "  }\n",
       "}\n",
       "\n",
       "#sk-container-id-2 {\n",
       "  color: var(--sklearn-color-text);\n",
       "}\n",
       "\n",
       "#sk-container-id-2 pre {\n",
       "  padding: 0;\n",
       "}\n",
       "\n",
       "#sk-container-id-2 input.sk-hidden--visually {\n",
       "  border: 0;\n",
       "  clip: rect(1px 1px 1px 1px);\n",
       "  clip: rect(1px, 1px, 1px, 1px);\n",
       "  height: 1px;\n",
       "  margin: -1px;\n",
       "  overflow: hidden;\n",
       "  padding: 0;\n",
       "  position: absolute;\n",
       "  width: 1px;\n",
       "}\n",
       "\n",
       "#sk-container-id-2 div.sk-dashed-wrapped {\n",
       "  border: 1px dashed var(--sklearn-color-line);\n",
       "  margin: 0 0.4em 0.5em 0.4em;\n",
       "  box-sizing: border-box;\n",
       "  padding-bottom: 0.4em;\n",
       "  background-color: var(--sklearn-color-background);\n",
       "}\n",
       "\n",
       "#sk-container-id-2 div.sk-container {\n",
       "  /* jupyter's `normalize.less` sets `[hidden] { display: none; }`\n",
       "     but bootstrap.min.css set `[hidden] { display: none !important; }`\n",
       "     so we also need the `!important` here to be able to override the\n",
       "     default hidden behavior on the sphinx rendered scikit-learn.org.\n",
       "     See: https://github.com/scikit-learn/scikit-learn/issues/21755 */\n",
       "  display: inline-block !important;\n",
       "  position: relative;\n",
       "}\n",
       "\n",
       "#sk-container-id-2 div.sk-text-repr-fallback {\n",
       "  display: none;\n",
       "}\n",
       "\n",
       "div.sk-parallel-item,\n",
       "div.sk-serial,\n",
       "div.sk-item {\n",
       "  /* draw centered vertical line to link estimators */\n",
       "  background-image: linear-gradient(var(--sklearn-color-text-on-default-background), var(--sklearn-color-text-on-default-background));\n",
       "  background-size: 2px 100%;\n",
       "  background-repeat: no-repeat;\n",
       "  background-position: center center;\n",
       "}\n",
       "\n",
       "/* Parallel-specific style estimator block */\n",
       "\n",
       "#sk-container-id-2 div.sk-parallel-item::after {\n",
       "  content: \"\";\n",
       "  width: 100%;\n",
       "  border-bottom: 2px solid var(--sklearn-color-text-on-default-background);\n",
       "  flex-grow: 1;\n",
       "}\n",
       "\n",
       "#sk-container-id-2 div.sk-parallel {\n",
       "  display: flex;\n",
       "  align-items: stretch;\n",
       "  justify-content: center;\n",
       "  background-color: var(--sklearn-color-background);\n",
       "  position: relative;\n",
       "}\n",
       "\n",
       "#sk-container-id-2 div.sk-parallel-item {\n",
       "  display: flex;\n",
       "  flex-direction: column;\n",
       "}\n",
       "\n",
       "#sk-container-id-2 div.sk-parallel-item:first-child::after {\n",
       "  align-self: flex-end;\n",
       "  width: 50%;\n",
       "}\n",
       "\n",
       "#sk-container-id-2 div.sk-parallel-item:last-child::after {\n",
       "  align-self: flex-start;\n",
       "  width: 50%;\n",
       "}\n",
       "\n",
       "#sk-container-id-2 div.sk-parallel-item:only-child::after {\n",
       "  width: 0;\n",
       "}\n",
       "\n",
       "/* Serial-specific style estimator block */\n",
       "\n",
       "#sk-container-id-2 div.sk-serial {\n",
       "  display: flex;\n",
       "  flex-direction: column;\n",
       "  align-items: center;\n",
       "  background-color: var(--sklearn-color-background);\n",
       "  padding-right: 1em;\n",
       "  padding-left: 1em;\n",
       "}\n",
       "\n",
       "\n",
       "/* Toggleable style: style used for estimator/Pipeline/ColumnTransformer box that is\n",
       "clickable and can be expanded/collapsed.\n",
       "- Pipeline and ColumnTransformer use this feature and define the default style\n",
       "- Estimators will overwrite some part of the style using the `sk-estimator` class\n",
       "*/\n",
       "\n",
       "/* Pipeline and ColumnTransformer style (default) */\n",
       "\n",
       "#sk-container-id-2 div.sk-toggleable {\n",
       "  /* Default theme specific background. It is overwritten whether we have a\n",
       "  specific estimator or a Pipeline/ColumnTransformer */\n",
       "  background-color: var(--sklearn-color-background);\n",
       "}\n",
       "\n",
       "/* Toggleable label */\n",
       "#sk-container-id-2 label.sk-toggleable__label {\n",
       "  cursor: pointer;\n",
       "  display: block;\n",
       "  width: 100%;\n",
       "  margin-bottom: 0;\n",
       "  padding: 0.5em;\n",
       "  box-sizing: border-box;\n",
       "  text-align: center;\n",
       "}\n",
       "\n",
       "#sk-container-id-2 label.sk-toggleable__label-arrow:before {\n",
       "  /* Arrow on the left of the label */\n",
       "  content: \"▸\";\n",
       "  float: left;\n",
       "  margin-right: 0.25em;\n",
       "  color: var(--sklearn-color-icon);\n",
       "}\n",
       "\n",
       "#sk-container-id-2 label.sk-toggleable__label-arrow:hover:before {\n",
       "  color: var(--sklearn-color-text);\n",
       "}\n",
       "\n",
       "/* Toggleable content - dropdown */\n",
       "\n",
       "#sk-container-id-2 div.sk-toggleable__content {\n",
       "  max-height: 0;\n",
       "  max-width: 0;\n",
       "  overflow: hidden;\n",
       "  text-align: left;\n",
       "  /* unfitted */\n",
       "  background-color: var(--sklearn-color-unfitted-level-0);\n",
       "}\n",
       "\n",
       "#sk-container-id-2 div.sk-toggleable__content.fitted {\n",
       "  /* fitted */\n",
       "  background-color: var(--sklearn-color-fitted-level-0);\n",
       "}\n",
       "\n",
       "#sk-container-id-2 div.sk-toggleable__content pre {\n",
       "  margin: 0.2em;\n",
       "  border-radius: 0.25em;\n",
       "  color: var(--sklearn-color-text);\n",
       "  /* unfitted */\n",
       "  background-color: var(--sklearn-color-unfitted-level-0);\n",
       "}\n",
       "\n",
       "#sk-container-id-2 div.sk-toggleable__content.fitted pre {\n",
       "  /* unfitted */\n",
       "  background-color: var(--sklearn-color-fitted-level-0);\n",
       "}\n",
       "\n",
       "#sk-container-id-2 input.sk-toggleable__control:checked~div.sk-toggleable__content {\n",
       "  /* Expand drop-down */\n",
       "  max-height: 200px;\n",
       "  max-width: 100%;\n",
       "  overflow: auto;\n",
       "}\n",
       "\n",
       "#sk-container-id-2 input.sk-toggleable__control:checked~label.sk-toggleable__label-arrow:before {\n",
       "  content: \"▾\";\n",
       "}\n",
       "\n",
       "/* Pipeline/ColumnTransformer-specific style */\n",
       "\n",
       "#sk-container-id-2 div.sk-label input.sk-toggleable__control:checked~label.sk-toggleable__label {\n",
       "  color: var(--sklearn-color-text);\n",
       "  background-color: var(--sklearn-color-unfitted-level-2);\n",
       "}\n",
       "\n",
       "#sk-container-id-2 div.sk-label.fitted input.sk-toggleable__control:checked~label.sk-toggleable__label {\n",
       "  background-color: var(--sklearn-color-fitted-level-2);\n",
       "}\n",
       "\n",
       "/* Estimator-specific style */\n",
       "\n",
       "/* Colorize estimator box */\n",
       "#sk-container-id-2 div.sk-estimator input.sk-toggleable__control:checked~label.sk-toggleable__label {\n",
       "  /* unfitted */\n",
       "  background-color: var(--sklearn-color-unfitted-level-2);\n",
       "}\n",
       "\n",
       "#sk-container-id-2 div.sk-estimator.fitted input.sk-toggleable__control:checked~label.sk-toggleable__label {\n",
       "  /* fitted */\n",
       "  background-color: var(--sklearn-color-fitted-level-2);\n",
       "}\n",
       "\n",
       "#sk-container-id-2 div.sk-label label.sk-toggleable__label,\n",
       "#sk-container-id-2 div.sk-label label {\n",
       "  /* The background is the default theme color */\n",
       "  color: var(--sklearn-color-text-on-default-background);\n",
       "}\n",
       "\n",
       "/* On hover, darken the color of the background */\n",
       "#sk-container-id-2 div.sk-label:hover label.sk-toggleable__label {\n",
       "  color: var(--sklearn-color-text);\n",
       "  background-color: var(--sklearn-color-unfitted-level-2);\n",
       "}\n",
       "\n",
       "/* Label box, darken color on hover, fitted */\n",
       "#sk-container-id-2 div.sk-label.fitted:hover label.sk-toggleable__label.fitted {\n",
       "  color: var(--sklearn-color-text);\n",
       "  background-color: var(--sklearn-color-fitted-level-2);\n",
       "}\n",
       "\n",
       "/* Estimator label */\n",
       "\n",
       "#sk-container-id-2 div.sk-label label {\n",
       "  font-family: monospace;\n",
       "  font-weight: bold;\n",
       "  display: inline-block;\n",
       "  line-height: 1.2em;\n",
       "}\n",
       "\n",
       "#sk-container-id-2 div.sk-label-container {\n",
       "  text-align: center;\n",
       "}\n",
       "\n",
       "/* Estimator-specific */\n",
       "#sk-container-id-2 div.sk-estimator {\n",
       "  font-family: monospace;\n",
       "  border: 1px dotted var(--sklearn-color-border-box);\n",
       "  border-radius: 0.25em;\n",
       "  box-sizing: border-box;\n",
       "  margin-bottom: 0.5em;\n",
       "  /* unfitted */\n",
       "  background-color: var(--sklearn-color-unfitted-level-0);\n",
       "}\n",
       "\n",
       "#sk-container-id-2 div.sk-estimator.fitted {\n",
       "  /* fitted */\n",
       "  background-color: var(--sklearn-color-fitted-level-0);\n",
       "}\n",
       "\n",
       "/* on hover */\n",
       "#sk-container-id-2 div.sk-estimator:hover {\n",
       "  /* unfitted */\n",
       "  background-color: var(--sklearn-color-unfitted-level-2);\n",
       "}\n",
       "\n",
       "#sk-container-id-2 div.sk-estimator.fitted:hover {\n",
       "  /* fitted */\n",
       "  background-color: var(--sklearn-color-fitted-level-2);\n",
       "}\n",
       "\n",
       "/* Specification for estimator info (e.g. \"i\" and \"?\") */\n",
       "\n",
       "/* Common style for \"i\" and \"?\" */\n",
       "\n",
       ".sk-estimator-doc-link,\n",
       "a:link.sk-estimator-doc-link,\n",
       "a:visited.sk-estimator-doc-link {\n",
       "  float: right;\n",
       "  font-size: smaller;\n",
       "  line-height: 1em;\n",
       "  font-family: monospace;\n",
       "  background-color: var(--sklearn-color-background);\n",
       "  border-radius: 1em;\n",
       "  height: 1em;\n",
       "  width: 1em;\n",
       "  text-decoration: none !important;\n",
       "  margin-left: 1ex;\n",
       "  /* unfitted */\n",
       "  border: var(--sklearn-color-unfitted-level-1) 1pt solid;\n",
       "  color: var(--sklearn-color-unfitted-level-1);\n",
       "}\n",
       "\n",
       ".sk-estimator-doc-link.fitted,\n",
       "a:link.sk-estimator-doc-link.fitted,\n",
       "a:visited.sk-estimator-doc-link.fitted {\n",
       "  /* fitted */\n",
       "  border: var(--sklearn-color-fitted-level-1) 1pt solid;\n",
       "  color: var(--sklearn-color-fitted-level-1);\n",
       "}\n",
       "\n",
       "/* On hover */\n",
       "div.sk-estimator:hover .sk-estimator-doc-link:hover,\n",
       ".sk-estimator-doc-link:hover,\n",
       "div.sk-label-container:hover .sk-estimator-doc-link:hover,\n",
       ".sk-estimator-doc-link:hover {\n",
       "  /* unfitted */\n",
       "  background-color: var(--sklearn-color-unfitted-level-3);\n",
       "  color: var(--sklearn-color-background);\n",
       "  text-decoration: none;\n",
       "}\n",
       "\n",
       "div.sk-estimator.fitted:hover .sk-estimator-doc-link.fitted:hover,\n",
       ".sk-estimator-doc-link.fitted:hover,\n",
       "div.sk-label-container:hover .sk-estimator-doc-link.fitted:hover,\n",
       ".sk-estimator-doc-link.fitted:hover {\n",
       "  /* fitted */\n",
       "  background-color: var(--sklearn-color-fitted-level-3);\n",
       "  color: var(--sklearn-color-background);\n",
       "  text-decoration: none;\n",
       "}\n",
       "\n",
       "/* Span, style for the box shown on hovering the info icon */\n",
       ".sk-estimator-doc-link span {\n",
       "  display: none;\n",
       "  z-index: 9999;\n",
       "  position: relative;\n",
       "  font-weight: normal;\n",
       "  right: .2ex;\n",
       "  padding: .5ex;\n",
       "  margin: .5ex;\n",
       "  width: min-content;\n",
       "  min-width: 20ex;\n",
       "  max-width: 50ex;\n",
       "  color: var(--sklearn-color-text);\n",
       "  box-shadow: 2pt 2pt 4pt #999;\n",
       "  /* unfitted */\n",
       "  background: var(--sklearn-color-unfitted-level-0);\n",
       "  border: .5pt solid var(--sklearn-color-unfitted-level-3);\n",
       "}\n",
       "\n",
       ".sk-estimator-doc-link.fitted span {\n",
       "  /* fitted */\n",
       "  background: var(--sklearn-color-fitted-level-0);\n",
       "  border: var(--sklearn-color-fitted-level-3);\n",
       "}\n",
       "\n",
       ".sk-estimator-doc-link:hover span {\n",
       "  display: block;\n",
       "}\n",
       "\n",
       "/* \"?\"-specific style due to the `<a>` HTML tag */\n",
       "\n",
       "#sk-container-id-2 a.estimator_doc_link {\n",
       "  float: right;\n",
       "  font-size: 1rem;\n",
       "  line-height: 1em;\n",
       "  font-family: monospace;\n",
       "  background-color: var(--sklearn-color-background);\n",
       "  border-radius: 1rem;\n",
       "  height: 1rem;\n",
       "  width: 1rem;\n",
       "  text-decoration: none;\n",
       "  /* unfitted */\n",
       "  color: var(--sklearn-color-unfitted-level-1);\n",
       "  border: var(--sklearn-color-unfitted-level-1) 1pt solid;\n",
       "}\n",
       "\n",
       "#sk-container-id-2 a.estimator_doc_link.fitted {\n",
       "  /* fitted */\n",
       "  border: var(--sklearn-color-fitted-level-1) 1pt solid;\n",
       "  color: var(--sklearn-color-fitted-level-1);\n",
       "}\n",
       "\n",
       "/* On hover */\n",
       "#sk-container-id-2 a.estimator_doc_link:hover {\n",
       "  /* unfitted */\n",
       "  background-color: var(--sklearn-color-unfitted-level-3);\n",
       "  color: var(--sklearn-color-background);\n",
       "  text-decoration: none;\n",
       "}\n",
       "\n",
       "#sk-container-id-2 a.estimator_doc_link.fitted:hover {\n",
       "  /* fitted */\n",
       "  background-color: var(--sklearn-color-fitted-level-3);\n",
       "}\n",
       "</style><div id=\"sk-container-id-2\" class=\"sk-top-container\"><div class=\"sk-text-repr-fallback\"><pre>RandomForestRegressor(max_depth=20, n_estimators=160, random_state=12345)</pre><b>In a Jupyter environment, please rerun this cell to show the HTML representation or trust the notebook. <br />On GitHub, the HTML representation is unable to render, please try loading this page with nbviewer.org.</b></div><div class=\"sk-container\" hidden><div class=\"sk-item\"><div class=\"sk-estimator fitted sk-toggleable\"><input class=\"sk-toggleable__control sk-hidden--visually\" id=\"sk-estimator-id-2\" type=\"checkbox\" checked><label for=\"sk-estimator-id-2\" class=\"sk-toggleable__label fitted sk-toggleable__label-arrow fitted\">&nbsp;&nbsp;RandomForestRegressor<a class=\"sk-estimator-doc-link fitted\" rel=\"noreferrer\" target=\"_blank\" href=\"https://scikit-learn.org/1.4/modules/generated/sklearn.ensemble.RandomForestRegressor.html\">?<span>Documentation for RandomForestRegressor</span></a><span class=\"sk-estimator-doc-link fitted\">i<span>Fitted</span></span></label><div class=\"sk-toggleable__content fitted\"><pre>RandomForestRegressor(max_depth=20, n_estimators=160, random_state=12345)</pre></div> </div></div></div></div>"
      ],
      "text/plain": [
       "RandomForestRegressor(max_depth=20, n_estimators=160, random_state=12345)"
      ]
     },
     "execution_count": 54,
     "metadata": {},
     "output_type": "execute_result"
    }
   ],
   "source": [
    "%%time\n",
    "random_forest = RandomForestRegressor(max_depth=20, n_estimators=160, random_state=12345)\n",
    "random_forest.fit(features_train_encoded, target_train)"
   ]
  },
  {
   "cell_type": "code",
   "execution_count": 55,
   "metadata": {},
   "outputs": [
    {
     "name": "stdout",
     "output_type": "stream",
     "text": [
      "CPU times: total: 6.55 s\n",
      "Wall time: 6.58 s\n"
     ]
    }
   ],
   "source": [
    "%%time\n",
    "random_forest_pred = random_forest.predict(features_train_encoded)"
   ]
  },
  {
   "cell_type": "code",
   "execution_count": 56,
   "metadata": {},
   "outputs": [
    {
     "name": "stdout",
     "output_type": "stream",
     "text": [
      "[LightGBM] [Warning] Accuracy may be bad since you didn't explicitly set num_leaves OR 2^max_depth > num_leaves. (num_leaves=31).\n",
      "[LightGBM] [Warning] Accuracy may be bad since you didn't explicitly set num_leaves OR 2^max_depth > num_leaves. (num_leaves=31).\n",
      "[LightGBM] [Info] Auto-choosing row-wise multi-threading, the overhead of testing was 0.002617 seconds.\n",
      "You can set `force_row_wise=true` to remove the overhead.\n",
      "And if memory is not enough, you can set `force_col_wise=true`.\n",
      "[LightGBM] [Info] Total Bins 881\n",
      "[LightGBM] [Info] Number of data points in the train set: 204918, number of used features: 10\n",
      "[LightGBM] [Info] Start training from score 4680.931944\n",
      "CPU times: total: 3.88 s\n",
      "Wall time: 742 ms\n"
     ]
    },
    {
     "data": {
      "text/html": [
       "<style>#sk-container-id-3 {\n",
       "  /* Definition of color scheme common for light and dark mode */\n",
       "  --sklearn-color-text: black;\n",
       "  --sklearn-color-line: gray;\n",
       "  /* Definition of color scheme for unfitted estimators */\n",
       "  --sklearn-color-unfitted-level-0: #fff5e6;\n",
       "  --sklearn-color-unfitted-level-1: #f6e4d2;\n",
       "  --sklearn-color-unfitted-level-2: #ffe0b3;\n",
       "  --sklearn-color-unfitted-level-3: chocolate;\n",
       "  /* Definition of color scheme for fitted estimators */\n",
       "  --sklearn-color-fitted-level-0: #f0f8ff;\n",
       "  --sklearn-color-fitted-level-1: #d4ebff;\n",
       "  --sklearn-color-fitted-level-2: #b3dbfd;\n",
       "  --sklearn-color-fitted-level-3: cornflowerblue;\n",
       "\n",
       "  /* Specific color for light theme */\n",
       "  --sklearn-color-text-on-default-background: var(--sg-text-color, var(--theme-code-foreground, var(--jp-content-font-color1, black)));\n",
       "  --sklearn-color-background: var(--sg-background-color, var(--theme-background, var(--jp-layout-color0, white)));\n",
       "  --sklearn-color-border-box: var(--sg-text-color, var(--theme-code-foreground, var(--jp-content-font-color1, black)));\n",
       "  --sklearn-color-icon: #696969;\n",
       "\n",
       "  @media (prefers-color-scheme: dark) {\n",
       "    /* Redefinition of color scheme for dark theme */\n",
       "    --sklearn-color-text-on-default-background: var(--sg-text-color, var(--theme-code-foreground, var(--jp-content-font-color1, white)));\n",
       "    --sklearn-color-background: var(--sg-background-color, var(--theme-background, var(--jp-layout-color0, #111)));\n",
       "    --sklearn-color-border-box: var(--sg-text-color, var(--theme-code-foreground, var(--jp-content-font-color1, white)));\n",
       "    --sklearn-color-icon: #878787;\n",
       "  }\n",
       "}\n",
       "\n",
       "#sk-container-id-3 {\n",
       "  color: var(--sklearn-color-text);\n",
       "}\n",
       "\n",
       "#sk-container-id-3 pre {\n",
       "  padding: 0;\n",
       "}\n",
       "\n",
       "#sk-container-id-3 input.sk-hidden--visually {\n",
       "  border: 0;\n",
       "  clip: rect(1px 1px 1px 1px);\n",
       "  clip: rect(1px, 1px, 1px, 1px);\n",
       "  height: 1px;\n",
       "  margin: -1px;\n",
       "  overflow: hidden;\n",
       "  padding: 0;\n",
       "  position: absolute;\n",
       "  width: 1px;\n",
       "}\n",
       "\n",
       "#sk-container-id-3 div.sk-dashed-wrapped {\n",
       "  border: 1px dashed var(--sklearn-color-line);\n",
       "  margin: 0 0.4em 0.5em 0.4em;\n",
       "  box-sizing: border-box;\n",
       "  padding-bottom: 0.4em;\n",
       "  background-color: var(--sklearn-color-background);\n",
       "}\n",
       "\n",
       "#sk-container-id-3 div.sk-container {\n",
       "  /* jupyter's `normalize.less` sets `[hidden] { display: none; }`\n",
       "     but bootstrap.min.css set `[hidden] { display: none !important; }`\n",
       "     so we also need the `!important` here to be able to override the\n",
       "     default hidden behavior on the sphinx rendered scikit-learn.org.\n",
       "     See: https://github.com/scikit-learn/scikit-learn/issues/21755 */\n",
       "  display: inline-block !important;\n",
       "  position: relative;\n",
       "}\n",
       "\n",
       "#sk-container-id-3 div.sk-text-repr-fallback {\n",
       "  display: none;\n",
       "}\n",
       "\n",
       "div.sk-parallel-item,\n",
       "div.sk-serial,\n",
       "div.sk-item {\n",
       "  /* draw centered vertical line to link estimators */\n",
       "  background-image: linear-gradient(var(--sklearn-color-text-on-default-background), var(--sklearn-color-text-on-default-background));\n",
       "  background-size: 2px 100%;\n",
       "  background-repeat: no-repeat;\n",
       "  background-position: center center;\n",
       "}\n",
       "\n",
       "/* Parallel-specific style estimator block */\n",
       "\n",
       "#sk-container-id-3 div.sk-parallel-item::after {\n",
       "  content: \"\";\n",
       "  width: 100%;\n",
       "  border-bottom: 2px solid var(--sklearn-color-text-on-default-background);\n",
       "  flex-grow: 1;\n",
       "}\n",
       "\n",
       "#sk-container-id-3 div.sk-parallel {\n",
       "  display: flex;\n",
       "  align-items: stretch;\n",
       "  justify-content: center;\n",
       "  background-color: var(--sklearn-color-background);\n",
       "  position: relative;\n",
       "}\n",
       "\n",
       "#sk-container-id-3 div.sk-parallel-item {\n",
       "  display: flex;\n",
       "  flex-direction: column;\n",
       "}\n",
       "\n",
       "#sk-container-id-3 div.sk-parallel-item:first-child::after {\n",
       "  align-self: flex-end;\n",
       "  width: 50%;\n",
       "}\n",
       "\n",
       "#sk-container-id-3 div.sk-parallel-item:last-child::after {\n",
       "  align-self: flex-start;\n",
       "  width: 50%;\n",
       "}\n",
       "\n",
       "#sk-container-id-3 div.sk-parallel-item:only-child::after {\n",
       "  width: 0;\n",
       "}\n",
       "\n",
       "/* Serial-specific style estimator block */\n",
       "\n",
       "#sk-container-id-3 div.sk-serial {\n",
       "  display: flex;\n",
       "  flex-direction: column;\n",
       "  align-items: center;\n",
       "  background-color: var(--sklearn-color-background);\n",
       "  padding-right: 1em;\n",
       "  padding-left: 1em;\n",
       "}\n",
       "\n",
       "\n",
       "/* Toggleable style: style used for estimator/Pipeline/ColumnTransformer box that is\n",
       "clickable and can be expanded/collapsed.\n",
       "- Pipeline and ColumnTransformer use this feature and define the default style\n",
       "- Estimators will overwrite some part of the style using the `sk-estimator` class\n",
       "*/\n",
       "\n",
       "/* Pipeline and ColumnTransformer style (default) */\n",
       "\n",
       "#sk-container-id-3 div.sk-toggleable {\n",
       "  /* Default theme specific background. It is overwritten whether we have a\n",
       "  specific estimator or a Pipeline/ColumnTransformer */\n",
       "  background-color: var(--sklearn-color-background);\n",
       "}\n",
       "\n",
       "/* Toggleable label */\n",
       "#sk-container-id-3 label.sk-toggleable__label {\n",
       "  cursor: pointer;\n",
       "  display: block;\n",
       "  width: 100%;\n",
       "  margin-bottom: 0;\n",
       "  padding: 0.5em;\n",
       "  box-sizing: border-box;\n",
       "  text-align: center;\n",
       "}\n",
       "\n",
       "#sk-container-id-3 label.sk-toggleable__label-arrow:before {\n",
       "  /* Arrow on the left of the label */\n",
       "  content: \"▸\";\n",
       "  float: left;\n",
       "  margin-right: 0.25em;\n",
       "  color: var(--sklearn-color-icon);\n",
       "}\n",
       "\n",
       "#sk-container-id-3 label.sk-toggleable__label-arrow:hover:before {\n",
       "  color: var(--sklearn-color-text);\n",
       "}\n",
       "\n",
       "/* Toggleable content - dropdown */\n",
       "\n",
       "#sk-container-id-3 div.sk-toggleable__content {\n",
       "  max-height: 0;\n",
       "  max-width: 0;\n",
       "  overflow: hidden;\n",
       "  text-align: left;\n",
       "  /* unfitted */\n",
       "  background-color: var(--sklearn-color-unfitted-level-0);\n",
       "}\n",
       "\n",
       "#sk-container-id-3 div.sk-toggleable__content.fitted {\n",
       "  /* fitted */\n",
       "  background-color: var(--sklearn-color-fitted-level-0);\n",
       "}\n",
       "\n",
       "#sk-container-id-3 div.sk-toggleable__content pre {\n",
       "  margin: 0.2em;\n",
       "  border-radius: 0.25em;\n",
       "  color: var(--sklearn-color-text);\n",
       "  /* unfitted */\n",
       "  background-color: var(--sklearn-color-unfitted-level-0);\n",
       "}\n",
       "\n",
       "#sk-container-id-3 div.sk-toggleable__content.fitted pre {\n",
       "  /* unfitted */\n",
       "  background-color: var(--sklearn-color-fitted-level-0);\n",
       "}\n",
       "\n",
       "#sk-container-id-3 input.sk-toggleable__control:checked~div.sk-toggleable__content {\n",
       "  /* Expand drop-down */\n",
       "  max-height: 200px;\n",
       "  max-width: 100%;\n",
       "  overflow: auto;\n",
       "}\n",
       "\n",
       "#sk-container-id-3 input.sk-toggleable__control:checked~label.sk-toggleable__label-arrow:before {\n",
       "  content: \"▾\";\n",
       "}\n",
       "\n",
       "/* Pipeline/ColumnTransformer-specific style */\n",
       "\n",
       "#sk-container-id-3 div.sk-label input.sk-toggleable__control:checked~label.sk-toggleable__label {\n",
       "  color: var(--sklearn-color-text);\n",
       "  background-color: var(--sklearn-color-unfitted-level-2);\n",
       "}\n",
       "\n",
       "#sk-container-id-3 div.sk-label.fitted input.sk-toggleable__control:checked~label.sk-toggleable__label {\n",
       "  background-color: var(--sklearn-color-fitted-level-2);\n",
       "}\n",
       "\n",
       "/* Estimator-specific style */\n",
       "\n",
       "/* Colorize estimator box */\n",
       "#sk-container-id-3 div.sk-estimator input.sk-toggleable__control:checked~label.sk-toggleable__label {\n",
       "  /* unfitted */\n",
       "  background-color: var(--sklearn-color-unfitted-level-2);\n",
       "}\n",
       "\n",
       "#sk-container-id-3 div.sk-estimator.fitted input.sk-toggleable__control:checked~label.sk-toggleable__label {\n",
       "  /* fitted */\n",
       "  background-color: var(--sklearn-color-fitted-level-2);\n",
       "}\n",
       "\n",
       "#sk-container-id-3 div.sk-label label.sk-toggleable__label,\n",
       "#sk-container-id-3 div.sk-label label {\n",
       "  /* The background is the default theme color */\n",
       "  color: var(--sklearn-color-text-on-default-background);\n",
       "}\n",
       "\n",
       "/* On hover, darken the color of the background */\n",
       "#sk-container-id-3 div.sk-label:hover label.sk-toggleable__label {\n",
       "  color: var(--sklearn-color-text);\n",
       "  background-color: var(--sklearn-color-unfitted-level-2);\n",
       "}\n",
       "\n",
       "/* Label box, darken color on hover, fitted */\n",
       "#sk-container-id-3 div.sk-label.fitted:hover label.sk-toggleable__label.fitted {\n",
       "  color: var(--sklearn-color-text);\n",
       "  background-color: var(--sklearn-color-fitted-level-2);\n",
       "}\n",
       "\n",
       "/* Estimator label */\n",
       "\n",
       "#sk-container-id-3 div.sk-label label {\n",
       "  font-family: monospace;\n",
       "  font-weight: bold;\n",
       "  display: inline-block;\n",
       "  line-height: 1.2em;\n",
       "}\n",
       "\n",
       "#sk-container-id-3 div.sk-label-container {\n",
       "  text-align: center;\n",
       "}\n",
       "\n",
       "/* Estimator-specific */\n",
       "#sk-container-id-3 div.sk-estimator {\n",
       "  font-family: monospace;\n",
       "  border: 1px dotted var(--sklearn-color-border-box);\n",
       "  border-radius: 0.25em;\n",
       "  box-sizing: border-box;\n",
       "  margin-bottom: 0.5em;\n",
       "  /* unfitted */\n",
       "  background-color: var(--sklearn-color-unfitted-level-0);\n",
       "}\n",
       "\n",
       "#sk-container-id-3 div.sk-estimator.fitted {\n",
       "  /* fitted */\n",
       "  background-color: var(--sklearn-color-fitted-level-0);\n",
       "}\n",
       "\n",
       "/* on hover */\n",
       "#sk-container-id-3 div.sk-estimator:hover {\n",
       "  /* unfitted */\n",
       "  background-color: var(--sklearn-color-unfitted-level-2);\n",
       "}\n",
       "\n",
       "#sk-container-id-3 div.sk-estimator.fitted:hover {\n",
       "  /* fitted */\n",
       "  background-color: var(--sklearn-color-fitted-level-2);\n",
       "}\n",
       "\n",
       "/* Specification for estimator info (e.g. \"i\" and \"?\") */\n",
       "\n",
       "/* Common style for \"i\" and \"?\" */\n",
       "\n",
       ".sk-estimator-doc-link,\n",
       "a:link.sk-estimator-doc-link,\n",
       "a:visited.sk-estimator-doc-link {\n",
       "  float: right;\n",
       "  font-size: smaller;\n",
       "  line-height: 1em;\n",
       "  font-family: monospace;\n",
       "  background-color: var(--sklearn-color-background);\n",
       "  border-radius: 1em;\n",
       "  height: 1em;\n",
       "  width: 1em;\n",
       "  text-decoration: none !important;\n",
       "  margin-left: 1ex;\n",
       "  /* unfitted */\n",
       "  border: var(--sklearn-color-unfitted-level-1) 1pt solid;\n",
       "  color: var(--sklearn-color-unfitted-level-1);\n",
       "}\n",
       "\n",
       ".sk-estimator-doc-link.fitted,\n",
       "a:link.sk-estimator-doc-link.fitted,\n",
       "a:visited.sk-estimator-doc-link.fitted {\n",
       "  /* fitted */\n",
       "  border: var(--sklearn-color-fitted-level-1) 1pt solid;\n",
       "  color: var(--sklearn-color-fitted-level-1);\n",
       "}\n",
       "\n",
       "/* On hover */\n",
       "div.sk-estimator:hover .sk-estimator-doc-link:hover,\n",
       ".sk-estimator-doc-link:hover,\n",
       "div.sk-label-container:hover .sk-estimator-doc-link:hover,\n",
       ".sk-estimator-doc-link:hover {\n",
       "  /* unfitted */\n",
       "  background-color: var(--sklearn-color-unfitted-level-3);\n",
       "  color: var(--sklearn-color-background);\n",
       "  text-decoration: none;\n",
       "}\n",
       "\n",
       "div.sk-estimator.fitted:hover .sk-estimator-doc-link.fitted:hover,\n",
       ".sk-estimator-doc-link.fitted:hover,\n",
       "div.sk-label-container:hover .sk-estimator-doc-link.fitted:hover,\n",
       ".sk-estimator-doc-link.fitted:hover {\n",
       "  /* fitted */\n",
       "  background-color: var(--sklearn-color-fitted-level-3);\n",
       "  color: var(--sklearn-color-background);\n",
       "  text-decoration: none;\n",
       "}\n",
       "\n",
       "/* Span, style for the box shown on hovering the info icon */\n",
       ".sk-estimator-doc-link span {\n",
       "  display: none;\n",
       "  z-index: 9999;\n",
       "  position: relative;\n",
       "  font-weight: normal;\n",
       "  right: .2ex;\n",
       "  padding: .5ex;\n",
       "  margin: .5ex;\n",
       "  width: min-content;\n",
       "  min-width: 20ex;\n",
       "  max-width: 50ex;\n",
       "  color: var(--sklearn-color-text);\n",
       "  box-shadow: 2pt 2pt 4pt #999;\n",
       "  /* unfitted */\n",
       "  background: var(--sklearn-color-unfitted-level-0);\n",
       "  border: .5pt solid var(--sklearn-color-unfitted-level-3);\n",
       "}\n",
       "\n",
       ".sk-estimator-doc-link.fitted span {\n",
       "  /* fitted */\n",
       "  background: var(--sklearn-color-fitted-level-0);\n",
       "  border: var(--sklearn-color-fitted-level-3);\n",
       "}\n",
       "\n",
       ".sk-estimator-doc-link:hover span {\n",
       "  display: block;\n",
       "}\n",
       "\n",
       "/* \"?\"-specific style due to the `<a>` HTML tag */\n",
       "\n",
       "#sk-container-id-3 a.estimator_doc_link {\n",
       "  float: right;\n",
       "  font-size: 1rem;\n",
       "  line-height: 1em;\n",
       "  font-family: monospace;\n",
       "  background-color: var(--sklearn-color-background);\n",
       "  border-radius: 1rem;\n",
       "  height: 1rem;\n",
       "  width: 1rem;\n",
       "  text-decoration: none;\n",
       "  /* unfitted */\n",
       "  color: var(--sklearn-color-unfitted-level-1);\n",
       "  border: var(--sklearn-color-unfitted-level-1) 1pt solid;\n",
       "}\n",
       "\n",
       "#sk-container-id-3 a.estimator_doc_link.fitted {\n",
       "  /* fitted */\n",
       "  border: var(--sklearn-color-fitted-level-1) 1pt solid;\n",
       "  color: var(--sklearn-color-fitted-level-1);\n",
       "}\n",
       "\n",
       "/* On hover */\n",
       "#sk-container-id-3 a.estimator_doc_link:hover {\n",
       "  /* unfitted */\n",
       "  background-color: var(--sklearn-color-unfitted-level-3);\n",
       "  color: var(--sklearn-color-background);\n",
       "  text-decoration: none;\n",
       "}\n",
       "\n",
       "#sk-container-id-3 a.estimator_doc_link.fitted:hover {\n",
       "  /* fitted */\n",
       "  background-color: var(--sklearn-color-fitted-level-3);\n",
       "}\n",
       "</style><div id=\"sk-container-id-3\" class=\"sk-top-container\"><div class=\"sk-text-repr-fallback\"><pre>LGBMRegressor(max_depth=12, n_estimators=200, random_state=12345)</pre><b>In a Jupyter environment, please rerun this cell to show the HTML representation or trust the notebook. <br />On GitHub, the HTML representation is unable to render, please try loading this page with nbviewer.org.</b></div><div class=\"sk-container\" hidden><div class=\"sk-item\"><div class=\"sk-estimator fitted sk-toggleable\"><input class=\"sk-toggleable__control sk-hidden--visually\" id=\"sk-estimator-id-3\" type=\"checkbox\" checked><label for=\"sk-estimator-id-3\" class=\"sk-toggleable__label fitted sk-toggleable__label-arrow fitted\">&nbsp;LGBMRegressor<span class=\"sk-estimator-doc-link fitted\">i<span>Fitted</span></span></label><div class=\"sk-toggleable__content fitted\"><pre>LGBMRegressor(max_depth=12, n_estimators=200, random_state=12345)</pre></div> </div></div></div></div>"
      ],
      "text/plain": [
       "LGBMRegressor(max_depth=12, n_estimators=200, random_state=12345)"
      ]
     },
     "execution_count": 56,
     "metadata": {},
     "output_type": "execute_result"
    }
   ],
   "source": [
    "%%time\n",
    "lgbm_model = LGBMRegressor(max_depth=12, n_estimators=200, learning_rate=0.1, random_state=12345)\n",
    "lgbm_model.fit(features_train_encoded, target_train)"
   ]
  },
  {
   "cell_type": "code",
   "execution_count": 57,
   "metadata": {},
   "outputs": [
    {
     "name": "stdout",
     "output_type": "stream",
     "text": [
      "[LightGBM] [Warning] Accuracy may be bad since you didn't explicitly set num_leaves OR 2^max_depth > num_leaves. (num_leaves=31).\n",
      "CPU times: total: 2.19 s\n",
      "Wall time: 278 ms\n"
     ]
    }
   ],
   "source": [
    "%%time\n",
    "lgbm_model_pred = lgbm_model.predict(features_train_encoded)"
   ]
  },
  {
   "cell_type": "code",
   "execution_count": 58,
   "metadata": {},
   "outputs": [
    {
     "name": "stdout",
     "output_type": "stream",
     "text": [
      "CPU times: total: 49.7 s\n",
      "Wall time: 10.5 s\n"
     ]
    },
    {
     "data": {
      "text/plain": [
       "<catboost.core.CatBoostRegressor at 0x16c0c5e70a0>"
      ]
     },
     "execution_count": 58,
     "metadata": {},
     "output_type": "execute_result"
    }
   ],
   "source": [
    "%%time\n",
    "catboost_model = CatBoostRegressor(max_depth=12, n_estimators=200, random_state=12345, verbose=False)\n",
    "catboost_model.fit(features_train_encoded, target_train)"
   ]
  },
  {
   "cell_type": "code",
   "execution_count": 59,
   "metadata": {},
   "outputs": [
    {
     "name": "stdout",
     "output_type": "stream",
     "text": [
      "CPU times: total: 500 ms\n",
      "Wall time: 65 ms\n"
     ]
    }
   ],
   "source": [
    "%%time\n",
    "catboost_model_pred = catboost_model.predict(features_train_encoded)"
   ]
  },
  {
   "cell_type": "markdown",
   "metadata": {},
   "source": [
    "Дерево решений:\n",
    "- Время обучения - 620мс.\n",
    "- Скорость предсказания - 32.6мс.\n",
    "- RMSE ~ 2053.\n",
    "Случайный лес:\n",
    "- Время обучения - 1мин 34с.\n",
    "- Скорость предсказания - 8.8мс.\n",
    "- RMSE ~ 1740.\n",
    "LGBM:\n",
    "- Время обучения - 11мин 35с.\n",
    "- Скорость предсказания - 2.7с.\n",
    "- RMSE ~ 1753\n",
    "CatBoost:\n",
    "- Время обучения - 18с.\n",
    "- Скорость предсказания - 209мс.\n",
    "- RMSE ~ 1710\n",
    "\n",
    "Итого лучшая модель по совокупности показателей - CatBoost.  \n",
    "Проверим её на тестовой выборке."
   ]
  },
  {
   "cell_type": "code",
   "execution_count": 60,
   "metadata": {},
   "outputs": [
    {
     "name": "stderr",
     "output_type": "stream",
     "text": [
      "E:\\Anaconda\\envs\\practicum\\lib\\site-packages\\sklearn\\metrics\\_regression.py:483: FutureWarning: 'squared' is deprecated in version 1.4 and will be removed in 1.6. To calculate the root mean squared error, use the function'root_mean_squared_error'.\n",
      "  warnings.warn(\n"
     ]
    },
    {
     "data": {
      "text/plain": [
       "1468.574574949515"
      ]
     },
     "execution_count": 60,
     "metadata": {},
     "output_type": "execute_result"
    }
   ],
   "source": [
    "catboost_model = CatBoostRegressor(max_depth=12, n_estimators=200, random_state=12345, verbose=False)\n",
    "\n",
    "catboost_model.fit(features_train_encoded, target_train)\n",
    "catboost_model_test_pred = catboost_model.predict(features_test_encoded)\n",
    "\n",
    "rmse = mean_squared_error(target_test, catboost_model_test_pred, squared=False)\n",
    "rmse"
   ]
  },
  {
   "cell_type": "markdown",
   "metadata": {},
   "source": [
    "## Общий вывод"
   ]
  },
  {
   "cell_type": "markdown",
   "metadata": {},
   "source": [
    "В данном проекте нам необходимо было построить модель предсказания стоимости автомобиля для компании \"Не бит, не крашен\" на основании имеющихся технических данных.\n",
    "\n",
    "Основными критериями заказчика являлись:\n",
    "- качество предсказания;\n",
    "- скорость предсказания;\n",
    "- время обучения.\n",
    "\n",
    "**1 этап работы**\n",
    "\n",
    "- Ознакомились с имеющимися данными.\n",
    "- Скорректировали название столбцов на snake_case и изменили тип данных на datetime для соответствующих столбцов.\n",
    "- Проверили наличие явных и неявных дубликатов и удалили их из датасета. \n",
    "- Оценили количество пропусков в различных столбцах. Часть пропусков заполнили, изменив категорию на 'other', столбец с фактом ремонта заполнили, исходя из предположения, что отсутствие данных говорит об отсутствии ремонта. Оставшуюся незначительную часть пропусков удалили.\n",
    "- Также удалили данные, не имеющие практической пользы для построения модели, в частности:\n",
    "    - profile_downloaded_date - дата скачивания анкеты из базы.\n",
    "    - profile_creation_date - дата создания анкеты.\n",
    "    - user_last_online - дата последней активности пользователя.\n",
    "    - registration_month - месяц регистрации автомобиля (так как у нас есть данные о годе регистрации).\n",
    "    - number_of_pictures - количество фотографий автомобиля, так как столбец полностью состоит из нулей.\n",
    "- Исследовали данные на предмет аномалий и выбросов. Обработали их в столбцах registration_year и power путем отсечения данных, выходящих за +- 3 стандартных отклонения от среднего выборки. Также для столбца power удалили строки, в которых содержались нереалистичные данные о мощности двигателя (около нулевые значения).\n",
    "- Исследовали мультиколлинеарность. Наивысший обнаруженный уровень коллинеарности - значимый (~0.5). Корректировок не требовалось.\n",
    "- Подготовить данные для построения моделей - использовали Ordinal encoding для кодирования категориальных признаков, таких как:\n",
    "    - Тип автомобиля - vehicle_type.\n",
    "    - Тип трансмиссии - gearbox_type.\n",
    "    - Модель - model.\n",
    "    - Тип топлива - fuel_type.\n",
    "    - Бренд - brand.\n",
    "- Разделили выборки на обучающую и тестовую в соотношении 3:1.\n",
    "\n",
    "**2 этап работы**\n",
    "\n",
    "Для тестирования были выбраны 4 типа моделей (дерево решений, случайный лес, LGBM и CatBoost). Для каждой модели подобраны гиперпараметры и проведена кросс-валидация.\n",
    "- Дерево решений:\n",
    "    - max_depth=12 и RMSE ~ 2053.\n",
    "- Случайный лес:\n",
    "    - max_depth=20.\n",
    "    - n_estimators=160.\n",
    "    - RMSE ~ 1740\n",
    "- LGBM:\n",
    "    - max_depth=12.\n",
    "    - n_estimators=200.\n",
    "    - learning_rate=0.1\n",
    "    - RMSE ~ 1753\n",
    "- CatBoost:\n",
    "    - max_depth=12.\n",
    "    - n_estimators=200.\n",
    "    - RMSE ~ 1710\n",
    "\n",
    "**3 этап работы**\n",
    "\n",
    "Были проанализированы качество предсказания, скорость обучения и время обучения выбранных моделей.\n",
    "- Дерево решений:\n",
    "    - Время обучения - 685мс.\n",
    "    - Скорость предсказания - 11.6мс.\n",
    "    - Качество предсказания (RMSE) - 2032.11.\n",
    "- Случайный лес:\n",
    "    - Время обучения - 1мин.43сек.\n",
    "    - Скорость предсказания - 3.49сек.\n",
    "    - Качество предсказания (RMSE) - 1723.26\n",
    "- LGBM:\n",
    "    - Время обучения - 1мин.1с.\n",
    "    - Скорость предсказания - 945мс.\n",
    "    - Качество предсказания (RMSE) - 1779.30.\n",
    "- CatBoost:\n",
    "    - Время обучения - 26.6с.\n",
    "    - Скорость предсказания - 72.9мс.\n",
    "    - Качество предсказания (RMSE) - 1750.\n",
    "    \n",
    "Итого по результатам проекта мы выяснили, что по совокупности показателей и скорости работы наиболее оптимальным выбором в данном случае является CatBoost. Эту модель можно предлагать заказчику.  \n",
    "Показатель этой модели на тестовой выборке:\n",
    "- RMSE ~1468"
   ]
  },
  {
   "cell_type": "markdown",
   "metadata": {},
   "source": [
    "## Чек-лист проверки"
   ]
  },
  {
   "cell_type": "markdown",
   "metadata": {},
   "source": [
    "Поставьте 'x' в выполненных пунктах. Далее нажмите Shift+Enter."
   ]
  },
  {
   "cell_type": "markdown",
   "metadata": {},
   "source": [
    "- [x]  Jupyter Notebook открыт\n",
    "- [x]  Весь код выполняется без ошибок\n",
    "- [x]  Ячейки с кодом расположены в порядке исполнения\n",
    "- [x]  Выполнена загрузка и подготовка данных\n",
    "- [x]  Выполнено обучение моделей\n",
    "- [x]  Есть анализ скорости работы и качества моделей"
   ]
  }
 ],
 "metadata": {
  "ExecuteTimeLog": [
   {
    "duration": 6304,
    "start_time": "2024-02-01T13:06:10.642Z"
   },
   {
    "duration": 1921,
    "start_time": "2024-02-01T13:06:16.949Z"
   },
   {
    "duration": 3146,
    "start_time": "2024-02-01T13:06:29.829Z"
   },
   {
    "duration": 31436,
    "start_time": "2024-02-01T13:11:41.772Z"
   },
   {
    "duration": 459,
    "start_time": "2024-02-01T13:50:30.457Z"
   },
   {
    "duration": 5,
    "start_time": "2024-02-01T14:23:50.158Z"
   },
   {
    "duration": 67,
    "start_time": "2024-02-01T14:27:03.870Z"
   },
   {
    "duration": 68,
    "start_time": "2024-02-01T14:34:05.245Z"
   },
   {
    "duration": 4,
    "start_time": "2024-02-01T14:34:09.155Z"
   },
   {
    "duration": 502,
    "start_time": "2024-02-01T14:34:39.422Z"
   },
   {
    "duration": 514,
    "start_time": "2024-02-01T14:34:51.152Z"
   },
   {
    "duration": 511,
    "start_time": "2024-02-01T14:35:00.904Z"
   },
   {
    "duration": 645,
    "start_time": "2024-02-01T14:36:04.087Z"
   },
   {
    "duration": 7,
    "start_time": "2024-02-01T14:36:10.501Z"
   },
   {
    "duration": 19,
    "start_time": "2024-02-01T14:36:54.235Z"
   },
   {
    "duration": 210,
    "start_time": "2024-02-01T14:38:23.717Z"
   },
   {
    "duration": 668,
    "start_time": "2024-02-01T14:40:06.547Z"
   },
   {
    "duration": 14,
    "start_time": "2024-02-01T14:40:09.187Z"
   },
   {
    "duration": 665,
    "start_time": "2024-02-01T14:40:28.733Z"
   },
   {
    "duration": 949,
    "start_time": "2024-02-01T14:40:45.905Z"
   },
   {
    "duration": 246,
    "start_time": "2024-02-01T14:41:08.108Z"
   },
   {
    "duration": 12,
    "start_time": "2024-02-01T14:41:22.461Z"
   },
   {
    "duration": 34,
    "start_time": "2024-02-01T14:42:24.554Z"
   },
   {
    "duration": 46,
    "start_time": "2024-02-01T14:42:48.892Z"
   },
   {
    "duration": 160,
    "start_time": "2024-02-01T14:43:30.076Z"
   },
   {
    "duration": 21,
    "start_time": "2024-02-01T14:43:40.733Z"
   },
   {
    "duration": 978,
    "start_time": "2024-02-01T14:44:06.622Z"
   },
   {
    "duration": 2666,
    "start_time": "2024-02-01T14:44:57.277Z"
   },
   {
    "duration": 1607,
    "start_time": "2024-02-01T14:44:59.945Z"
   },
   {
    "duration": 1180,
    "start_time": "2024-02-01T14:45:01.553Z"
   },
   {
    "duration": 71,
    "start_time": "2024-02-01T14:45:02.734Z"
   },
   {
    "duration": 613,
    "start_time": "2024-02-01T14:45:02.807Z"
   },
   {
    "duration": 687,
    "start_time": "2024-02-01T14:45:03.422Z"
   },
   {
    "duration": 960,
    "start_time": "2024-02-01T14:45:04.111Z"
   },
   {
    "duration": 2743,
    "start_time": "2024-02-01T14:45:38.454Z"
   },
   {
    "duration": 1605,
    "start_time": "2024-02-01T14:45:41.200Z"
   },
   {
    "duration": 1097,
    "start_time": "2024-02-01T14:45:42.806Z"
   },
   {
    "duration": 77,
    "start_time": "2024-02-01T14:45:43.906Z"
   },
   {
    "duration": 506,
    "start_time": "2024-02-01T14:45:43.985Z"
   },
   {
    "duration": 640,
    "start_time": "2024-02-01T14:45:44.493Z"
   },
   {
    "duration": 873,
    "start_time": "2024-02-01T14:45:45.135Z"
   },
   {
    "duration": 47,
    "start_time": "2024-02-01T14:45:46.011Z"
   },
   {
    "duration": 29,
    "start_time": "2024-02-01T14:45:46.060Z"
   },
   {
    "duration": 58,
    "start_time": "2024-02-01T14:45:46.091Z"
   },
   {
    "duration": 0,
    "start_time": "2024-02-01T14:45:46.152Z"
   },
   {
    "duration": 0,
    "start_time": "2024-02-01T14:45:46.154Z"
   },
   {
    "duration": 13,
    "start_time": "2024-02-01T14:45:55.044Z"
   },
   {
    "duration": 125,
    "start_time": "2024-02-01T14:47:12.536Z"
   },
   {
    "duration": 10,
    "start_time": "2024-02-01T14:47:17.220Z"
   },
   {
    "duration": 14,
    "start_time": "2024-02-01T14:47:21.347Z"
   },
   {
    "duration": 18,
    "start_time": "2024-02-01T14:47:27.856Z"
   },
   {
    "duration": 19,
    "start_time": "2024-02-01T14:47:30.903Z"
   },
   {
    "duration": 15,
    "start_time": "2024-02-01T14:47:40.346Z"
   },
   {
    "duration": 48,
    "start_time": "2024-02-01T14:47:48.398Z"
   },
   {
    "duration": 1677,
    "start_time": "2024-02-01T14:51:40.600Z"
   },
   {
    "duration": 782,
    "start_time": "2024-02-01T14:51:58.657Z"
   },
   {
    "duration": 1074,
    "start_time": "2024-02-01T14:52:05.880Z"
   },
   {
    "duration": 353,
    "start_time": "2024-02-01T14:52:25.321Z"
   },
   {
    "duration": 344,
    "start_time": "2024-02-01T14:54:53.890Z"
   },
   {
    "duration": 3,
    "start_time": "2024-02-01T14:54:58.913Z"
   },
   {
    "duration": 231,
    "start_time": "2024-02-01T14:58:21.360Z"
   },
   {
    "duration": 132,
    "start_time": "2024-02-01T14:58:27.335Z"
   },
   {
    "duration": 134,
    "start_time": "2024-02-01T15:00:22.054Z"
   },
   {
    "duration": 122,
    "start_time": "2024-02-01T15:01:03.686Z"
   },
   {
    "duration": 113,
    "start_time": "2024-02-01T15:01:09.294Z"
   },
   {
    "duration": 115,
    "start_time": "2024-02-01T15:01:20.352Z"
   },
   {
    "duration": 134,
    "start_time": "2024-02-01T15:02:33.491Z"
   },
   {
    "duration": 125,
    "start_time": "2024-02-01T15:02:46.562Z"
   },
   {
    "duration": 124,
    "start_time": "2024-02-01T15:03:02.043Z"
   },
   {
    "duration": 142,
    "start_time": "2024-02-01T15:03:08.640Z"
   },
   {
    "duration": 123,
    "start_time": "2024-02-01T15:04:40.173Z"
   },
   {
    "duration": 58,
    "start_time": "2024-02-01T15:04:49.710Z"
   },
   {
    "duration": 111,
    "start_time": "2024-02-01T15:05:04.122Z"
   },
   {
    "duration": 115,
    "start_time": "2024-02-01T15:07:06.983Z"
   },
   {
    "duration": 121,
    "start_time": "2024-02-01T15:07:16.260Z"
   },
   {
    "duration": 24,
    "start_time": "2024-02-01T15:08:36.147Z"
   },
   {
    "duration": 25,
    "start_time": "2024-02-01T15:09:09.351Z"
   },
   {
    "duration": 21,
    "start_time": "2024-02-01T15:09:51.575Z"
   },
   {
    "duration": 25,
    "start_time": "2024-02-01T15:10:00.288Z"
   },
   {
    "duration": 24,
    "start_time": "2024-02-01T15:10:12.039Z"
   },
   {
    "duration": 11,
    "start_time": "2024-02-01T15:10:58.833Z"
   },
   {
    "duration": 334,
    "start_time": "2024-02-01T15:11:08.550Z"
   },
   {
    "duration": 111,
    "start_time": "2024-02-01T15:11:41.304Z"
   },
   {
    "duration": 102,
    "start_time": "2024-02-01T15:12:19.767Z"
   },
   {
    "duration": 108,
    "start_time": "2024-02-01T15:12:26.080Z"
   },
   {
    "duration": 105,
    "start_time": "2024-02-01T15:12:42.762Z"
   },
   {
    "duration": 264,
    "start_time": "2024-02-01T15:57:46.960Z"
   },
   {
    "duration": 223,
    "start_time": "2024-02-01T15:58:25.008Z"
   },
   {
    "duration": 261,
    "start_time": "2024-02-01T15:58:44.525Z"
   },
   {
    "duration": 25,
    "start_time": "2024-02-01T16:03:56.299Z"
   },
   {
    "duration": 26,
    "start_time": "2024-02-01T16:04:03.225Z"
   },
   {
    "duration": 35,
    "start_time": "2024-02-01T16:04:06.301Z"
   },
   {
    "duration": 24,
    "start_time": "2024-02-01T16:04:12.871Z"
   },
   {
    "duration": 86,
    "start_time": "2024-02-01T16:05:10.984Z"
   },
   {
    "duration": 91,
    "start_time": "2024-02-01T16:06:37.681Z"
   },
   {
    "duration": 202,
    "start_time": "2024-02-01T16:06:59.186Z"
   },
   {
    "duration": 91,
    "start_time": "2024-02-01T16:08:30.151Z"
   },
   {
    "duration": 288,
    "start_time": "2024-02-01T16:08:48.722Z"
   },
   {
    "duration": 29322,
    "start_time": "2024-02-01T16:14:27.408Z"
   },
   {
    "duration": 47,
    "start_time": "2024-02-01T16:19:30.939Z"
   },
   {
    "duration": 103,
    "start_time": "2024-02-01T16:19:39.247Z"
   },
   {
    "duration": 22192,
    "start_time": "2024-02-01T16:20:12.950Z"
   },
   {
    "duration": 56,
    "start_time": "2024-02-01T16:21:50.271Z"
   },
   {
    "duration": 26220,
    "start_time": "2024-02-01T16:22:00.741Z"
   },
   {
    "duration": 19,
    "start_time": "2024-02-01T16:22:53.200Z"
   },
   {
    "duration": 2899,
    "start_time": "2024-02-01T16:23:39.739Z"
   },
   {
    "duration": 2730,
    "start_time": "2024-02-01T16:23:54.502Z"
   },
   {
    "duration": 2912,
    "start_time": "2024-02-01T16:23:57.234Z"
   },
   {
    "duration": 60,
    "start_time": "2024-02-01T16:24:00.148Z"
   },
   {
    "duration": 0,
    "start_time": "2024-02-01T16:24:00.210Z"
   },
   {
    "duration": 0,
    "start_time": "2024-02-01T16:24:00.211Z"
   },
   {
    "duration": 0,
    "start_time": "2024-02-01T16:24:00.213Z"
   },
   {
    "duration": 0,
    "start_time": "2024-02-01T16:24:00.214Z"
   },
   {
    "duration": 0,
    "start_time": "2024-02-01T16:24:00.215Z"
   },
   {
    "duration": 0,
    "start_time": "2024-02-01T16:24:00.216Z"
   },
   {
    "duration": 0,
    "start_time": "2024-02-01T16:24:00.217Z"
   },
   {
    "duration": 0,
    "start_time": "2024-02-01T16:24:00.219Z"
   },
   {
    "duration": 0,
    "start_time": "2024-02-01T16:24:00.220Z"
   },
   {
    "duration": 0,
    "start_time": "2024-02-01T16:24:00.221Z"
   },
   {
    "duration": 0,
    "start_time": "2024-02-01T16:24:00.223Z"
   },
   {
    "duration": 0,
    "start_time": "2024-02-01T16:24:00.224Z"
   },
   {
    "duration": 0,
    "start_time": "2024-02-01T16:24:00.225Z"
   },
   {
    "duration": 0,
    "start_time": "2024-02-01T16:24:00.226Z"
   },
   {
    "duration": 0,
    "start_time": "2024-02-01T16:24:00.227Z"
   },
   {
    "duration": 0,
    "start_time": "2024-02-01T16:24:00.228Z"
   },
   {
    "duration": 1514,
    "start_time": "2024-02-01T16:24:05.898Z"
   },
   {
    "duration": 117,
    "start_time": "2024-02-01T16:24:07.569Z"
   },
   {
    "duration": 2822,
    "start_time": "2024-02-01T16:24:17.578Z"
   },
   {
    "duration": 2942,
    "start_time": "2024-02-01T16:24:20.403Z"
   },
   {
    "duration": 1568,
    "start_time": "2024-02-01T16:24:23.347Z"
   },
   {
    "duration": 2,
    "start_time": "2024-02-01T16:24:24.917Z"
   },
   {
    "duration": 1108,
    "start_time": "2024-02-01T16:24:24.921Z"
   },
   {
    "duration": 72,
    "start_time": "2024-02-01T16:24:26.031Z"
   },
   {
    "duration": 215,
    "start_time": "2024-02-01T16:24:26.104Z"
   },
   {
    "duration": 411,
    "start_time": "2024-02-01T16:24:26.321Z"
   },
   {
    "duration": 486,
    "start_time": "2024-02-01T16:24:26.734Z"
   },
   {
    "duration": 618,
    "start_time": "2024-02-01T16:24:27.222Z"
   },
   {
    "duration": 321,
    "start_time": "2024-02-01T16:24:27.842Z"
   },
   {
    "duration": 255,
    "start_time": "2024-02-01T16:24:28.165Z"
   },
   {
    "duration": 340,
    "start_time": "2024-02-01T16:24:28.422Z"
   },
   {
    "duration": 0,
    "start_time": "2024-02-01T16:24:28.765Z"
   },
   {
    "duration": 0,
    "start_time": "2024-02-01T16:24:28.766Z"
   },
   {
    "duration": 0,
    "start_time": "2024-02-01T16:24:28.767Z"
   },
   {
    "duration": 0,
    "start_time": "2024-02-01T16:24:28.768Z"
   },
   {
    "duration": 0,
    "start_time": "2024-02-01T16:24:28.780Z"
   },
   {
    "duration": 0,
    "start_time": "2024-02-01T16:24:28.804Z"
   },
   {
    "duration": 212,
    "start_time": "2024-02-01T16:24:51.313Z"
   },
   {
    "duration": 2781,
    "start_time": "2024-02-01T16:24:58.553Z"
   },
   {
    "duration": 2922,
    "start_time": "2024-02-01T16:25:01.336Z"
   },
   {
    "duration": 1644,
    "start_time": "2024-02-01T16:25:04.260Z"
   },
   {
    "duration": 3,
    "start_time": "2024-02-01T16:25:05.906Z"
   },
   {
    "duration": 1151,
    "start_time": "2024-02-01T16:25:05.911Z"
   },
   {
    "duration": 68,
    "start_time": "2024-02-01T16:25:07.063Z"
   },
   {
    "duration": 235,
    "start_time": "2024-02-01T16:25:07.133Z"
   },
   {
    "duration": 404,
    "start_time": "2024-02-01T16:25:07.370Z"
   },
   {
    "duration": 498,
    "start_time": "2024-02-01T16:25:07.776Z"
   },
   {
    "duration": 641,
    "start_time": "2024-02-01T16:25:08.276Z"
   },
   {
    "duration": 312,
    "start_time": "2024-02-01T16:25:08.919Z"
   },
   {
    "duration": 258,
    "start_time": "2024-02-01T16:25:09.233Z"
   },
   {
    "duration": 221,
    "start_time": "2024-02-01T16:25:09.492Z"
   },
   {
    "duration": 151,
    "start_time": "2024-02-01T16:25:09.717Z"
   },
   {
    "duration": 127,
    "start_time": "2024-02-01T16:25:09.870Z"
   },
   {
    "duration": 0,
    "start_time": "2024-02-01T16:25:09.999Z"
   },
   {
    "duration": 0,
    "start_time": "2024-02-01T16:25:10.000Z"
   },
   {
    "duration": 0,
    "start_time": "2024-02-01T16:25:10.001Z"
   },
   {
    "duration": 0,
    "start_time": "2024-02-01T16:25:10.003Z"
   },
   {
    "duration": 100,
    "start_time": "2024-02-01T16:25:24.118Z"
   },
   {
    "duration": 256,
    "start_time": "2024-02-01T16:25:27.066Z"
   },
   {
    "duration": 42,
    "start_time": "2024-02-01T16:25:29.241Z"
   },
   {
    "duration": 12,
    "start_time": "2024-02-01T16:25:36.162Z"
   },
   {
    "duration": 94,
    "start_time": "2024-02-01T16:26:49.354Z"
   },
   {
    "duration": 6,
    "start_time": "2024-02-01T16:28:39.988Z"
   },
   {
    "duration": 14,
    "start_time": "2024-02-01T16:28:43.065Z"
   },
   {
    "duration": 3071,
    "start_time": "2024-02-01T16:28:51.068Z"
   },
   {
    "duration": 21,
    "start_time": "2024-02-01T16:28:57.549Z"
   },
   {
    "duration": 2886,
    "start_time": "2024-02-01T16:29:14.921Z"
   },
   {
    "duration": 3089,
    "start_time": "2024-02-01T16:29:17.810Z"
   },
   {
    "duration": 1900,
    "start_time": "2024-02-01T16:29:20.901Z"
   },
   {
    "duration": 0,
    "start_time": "2024-02-01T16:29:22.804Z"
   },
   {
    "duration": 0,
    "start_time": "2024-02-01T16:29:22.805Z"
   },
   {
    "duration": 0,
    "start_time": "2024-02-01T16:29:22.806Z"
   },
   {
    "duration": 0,
    "start_time": "2024-02-01T16:29:22.807Z"
   },
   {
    "duration": 0,
    "start_time": "2024-02-01T16:29:22.808Z"
   },
   {
    "duration": 0,
    "start_time": "2024-02-01T16:29:22.810Z"
   },
   {
    "duration": 0,
    "start_time": "2024-02-01T16:29:22.810Z"
   },
   {
    "duration": 0,
    "start_time": "2024-02-01T16:29:22.812Z"
   },
   {
    "duration": 0,
    "start_time": "2024-02-01T16:29:22.813Z"
   },
   {
    "duration": 0,
    "start_time": "2024-02-01T16:29:22.814Z"
   },
   {
    "duration": 0,
    "start_time": "2024-02-01T16:29:22.815Z"
   },
   {
    "duration": 0,
    "start_time": "2024-02-01T16:29:22.816Z"
   },
   {
    "duration": 0,
    "start_time": "2024-02-01T16:29:22.817Z"
   },
   {
    "duration": 0,
    "start_time": "2024-02-01T16:29:22.818Z"
   },
   {
    "duration": 0,
    "start_time": "2024-02-01T16:29:22.819Z"
   },
   {
    "duration": 0,
    "start_time": "2024-02-01T16:29:22.820Z"
   },
   {
    "duration": 3482,
    "start_time": "2024-02-01T16:37:05.088Z"
   },
   {
    "duration": 2728,
    "start_time": "2024-02-01T16:37:15.394Z"
   },
   {
    "duration": 2732,
    "start_time": "2024-02-01T16:37:18.124Z"
   },
   {
    "duration": 2933,
    "start_time": "2024-02-01T16:37:20.858Z"
   },
   {
    "duration": 1696,
    "start_time": "2024-02-01T16:37:23.794Z"
   },
   {
    "duration": 0,
    "start_time": "2024-02-01T16:37:25.492Z"
   },
   {
    "duration": 0,
    "start_time": "2024-02-01T16:37:25.493Z"
   },
   {
    "duration": 0,
    "start_time": "2024-02-01T16:37:25.494Z"
   },
   {
    "duration": 0,
    "start_time": "2024-02-01T16:37:25.495Z"
   },
   {
    "duration": 0,
    "start_time": "2024-02-01T16:37:25.496Z"
   },
   {
    "duration": 0,
    "start_time": "2024-02-01T16:37:25.497Z"
   },
   {
    "duration": 0,
    "start_time": "2024-02-01T16:37:25.498Z"
   },
   {
    "duration": 0,
    "start_time": "2024-02-01T16:37:25.500Z"
   },
   {
    "duration": 0,
    "start_time": "2024-02-01T16:37:25.500Z"
   },
   {
    "duration": 0,
    "start_time": "2024-02-01T16:37:25.501Z"
   },
   {
    "duration": 0,
    "start_time": "2024-02-01T16:37:25.502Z"
   },
   {
    "duration": 0,
    "start_time": "2024-02-01T16:37:25.503Z"
   },
   {
    "duration": 0,
    "start_time": "2024-02-01T16:37:25.504Z"
   },
   {
    "duration": 0,
    "start_time": "2024-02-01T16:37:25.505Z"
   },
   {
    "duration": 0,
    "start_time": "2024-02-01T16:37:25.506Z"
   },
   {
    "duration": 0,
    "start_time": "2024-02-01T16:37:25.507Z"
   },
   {
    "duration": 17,
    "start_time": "2024-02-01T16:39:35.195Z"
   },
   {
    "duration": 57,
    "start_time": "2024-02-01T16:40:20.592Z"
   },
   {
    "duration": 107,
    "start_time": "2024-02-01T16:40:39.627Z"
   },
   {
    "duration": 11,
    "start_time": "2024-02-01T16:40:42.744Z"
   },
   {
    "duration": 2763,
    "start_time": "2024-02-01T16:40:50.178Z"
   },
   {
    "duration": 2718,
    "start_time": "2024-02-01T16:40:52.943Z"
   },
   {
    "duration": 2901,
    "start_time": "2024-02-01T16:40:55.663Z"
   },
   {
    "duration": 1706,
    "start_time": "2024-02-01T16:40:58.567Z"
   },
   {
    "duration": 2,
    "start_time": "2024-02-01T16:41:00.275Z"
   },
   {
    "duration": 1237,
    "start_time": "2024-02-01T16:41:00.278Z"
   },
   {
    "duration": 63,
    "start_time": "2024-02-01T16:41:01.517Z"
   },
   {
    "duration": 212,
    "start_time": "2024-02-01T16:41:01.582Z"
   },
   {
    "duration": 405,
    "start_time": "2024-02-01T16:41:01.796Z"
   },
   {
    "duration": 504,
    "start_time": "2024-02-01T16:41:02.204Z"
   },
   {
    "duration": 592,
    "start_time": "2024-02-01T16:41:02.710Z"
   },
   {
    "duration": 302,
    "start_time": "2024-02-01T16:41:03.303Z"
   },
   {
    "duration": 256,
    "start_time": "2024-02-01T16:41:03.607Z"
   },
   {
    "duration": 233,
    "start_time": "2024-02-01T16:41:03.864Z"
   },
   {
    "duration": 118,
    "start_time": "2024-02-01T16:41:04.099Z"
   },
   {
    "duration": 106,
    "start_time": "2024-02-01T16:41:04.219Z"
   },
   {
    "duration": 303,
    "start_time": "2024-02-01T16:41:04.327Z"
   },
   {
    "duration": 49,
    "start_time": "2024-02-01T16:41:04.632Z"
   },
   {
    "duration": 3,
    "start_time": "2024-02-01T16:41:04.683Z"
   },
   {
    "duration": 18,
    "start_time": "2024-02-01T16:41:04.687Z"
   },
   {
    "duration": 121,
    "start_time": "2024-02-01T16:41:17.151Z"
   },
   {
    "duration": 12,
    "start_time": "2024-02-01T16:41:31.050Z"
   },
   {
    "duration": 10,
    "start_time": "2024-02-01T16:41:54.482Z"
   },
   {
    "duration": 10,
    "start_time": "2024-02-01T16:42:01.904Z"
   },
   {
    "duration": 9,
    "start_time": "2024-02-01T16:42:39.641Z"
   },
   {
    "duration": 35,
    "start_time": "2024-02-01T16:43:02.499Z"
   },
   {
    "duration": 4,
    "start_time": "2024-02-01T16:44:23.042Z"
   },
   {
    "duration": 2750,
    "start_time": "2024-02-01T16:45:27.327Z"
   },
   {
    "duration": 2771,
    "start_time": "2024-02-01T16:45:30.080Z"
   },
   {
    "duration": 2873,
    "start_time": "2024-02-01T16:45:32.857Z"
   },
   {
    "duration": 1619,
    "start_time": "2024-02-01T16:45:35.733Z"
   },
   {
    "duration": 3,
    "start_time": "2024-02-01T16:45:37.355Z"
   },
   {
    "duration": 1095,
    "start_time": "2024-02-01T16:45:37.359Z"
   },
   {
    "duration": 60,
    "start_time": "2024-02-01T16:45:38.455Z"
   },
   {
    "duration": 223,
    "start_time": "2024-02-01T16:45:38.516Z"
   },
   {
    "duration": 397,
    "start_time": "2024-02-01T16:45:38.741Z"
   },
   {
    "duration": 491,
    "start_time": "2024-02-01T16:45:39.140Z"
   },
   {
    "duration": 595,
    "start_time": "2024-02-01T16:45:39.633Z"
   },
   {
    "duration": 311,
    "start_time": "2024-02-01T16:45:40.230Z"
   },
   {
    "duration": 278,
    "start_time": "2024-02-01T16:45:40.545Z"
   },
   {
    "duration": 238,
    "start_time": "2024-02-01T16:45:40.825Z"
   },
   {
    "duration": 117,
    "start_time": "2024-02-01T16:45:41.064Z"
   },
   {
    "duration": 114,
    "start_time": "2024-02-01T16:45:41.184Z"
   },
   {
    "duration": 275,
    "start_time": "2024-02-01T16:45:41.300Z"
   },
   {
    "duration": 48,
    "start_time": "2024-02-01T16:45:41.579Z"
   },
   {
    "duration": 3,
    "start_time": "2024-02-01T16:45:41.629Z"
   },
   {
    "duration": 23,
    "start_time": "2024-02-01T16:45:41.633Z"
   },
   {
    "duration": 23104,
    "start_time": "2024-02-01T16:45:55.676Z"
   },
   {
    "duration": 279,
    "start_time": "2024-02-01T16:46:18.782Z"
   },
   {
    "duration": 7,
    "start_time": "2024-02-01T16:51:47.881Z"
   },
   {
    "duration": 2899,
    "start_time": "2024-02-01T16:52:13.523Z"
   },
   {
    "duration": 2838,
    "start_time": "2024-02-01T16:52:16.424Z"
   },
   {
    "duration": 3105,
    "start_time": "2024-02-01T16:52:19.264Z"
   },
   {
    "duration": 2088,
    "start_time": "2024-02-01T16:52:22.371Z"
   },
   {
    "duration": 2,
    "start_time": "2024-02-01T16:52:24.461Z"
   },
   {
    "duration": 1219,
    "start_time": "2024-02-01T16:52:24.465Z"
   },
   {
    "duration": 992,
    "start_time": "2024-02-01T16:52:25.686Z"
   },
   {
    "duration": 0,
    "start_time": "2024-02-01T16:52:26.682Z"
   },
   {
    "duration": 0,
    "start_time": "2024-02-01T16:52:26.683Z"
   },
   {
    "duration": 0,
    "start_time": "2024-02-01T16:52:26.685Z"
   },
   {
    "duration": 0,
    "start_time": "2024-02-01T16:52:26.686Z"
   },
   {
    "duration": 0,
    "start_time": "2024-02-01T16:52:26.688Z"
   },
   {
    "duration": 0,
    "start_time": "2024-02-01T16:52:26.689Z"
   },
   {
    "duration": 0,
    "start_time": "2024-02-01T16:52:26.691Z"
   },
   {
    "duration": 0,
    "start_time": "2024-02-01T16:52:26.693Z"
   },
   {
    "duration": 0,
    "start_time": "2024-02-01T16:52:26.694Z"
   },
   {
    "duration": 0,
    "start_time": "2024-02-01T16:52:26.696Z"
   },
   {
    "duration": 0,
    "start_time": "2024-02-01T16:52:26.697Z"
   },
   {
    "duration": 0,
    "start_time": "2024-02-01T16:52:26.698Z"
   },
   {
    "duration": 0,
    "start_time": "2024-02-01T16:52:26.700Z"
   },
   {
    "duration": 0,
    "start_time": "2024-02-01T16:52:26.701Z"
   },
   {
    "duration": 0,
    "start_time": "2024-02-01T16:52:26.703Z"
   },
   {
    "duration": 8,
    "start_time": "2024-02-01T16:52:37.790Z"
   },
   {
    "duration": 16,
    "start_time": "2024-02-01T16:53:26.800Z"
   },
   {
    "duration": 2812,
    "start_time": "2024-02-01T16:53:31.065Z"
   },
   {
    "duration": 2682,
    "start_time": "2024-02-01T16:53:33.880Z"
   },
   {
    "duration": 2908,
    "start_time": "2024-02-01T16:53:36.564Z"
   },
   {
    "duration": 1607,
    "start_time": "2024-02-01T16:53:39.474Z"
   },
   {
    "duration": 2,
    "start_time": "2024-02-01T16:53:41.084Z"
   },
   {
    "duration": 1173,
    "start_time": "2024-02-01T16:53:41.088Z"
   },
   {
    "duration": 67,
    "start_time": "2024-02-01T16:53:42.263Z"
   },
   {
    "duration": 254,
    "start_time": "2024-02-01T16:53:42.332Z"
   },
   {
    "duration": 447,
    "start_time": "2024-02-01T16:53:42.588Z"
   },
   {
    "duration": 487,
    "start_time": "2024-02-01T16:53:43.037Z"
   },
   {
    "duration": 669,
    "start_time": "2024-02-01T16:53:43.527Z"
   },
   {
    "duration": 313,
    "start_time": "2024-02-01T16:53:44.198Z"
   },
   {
    "duration": 266,
    "start_time": "2024-02-01T16:53:44.513Z"
   },
   {
    "duration": 235,
    "start_time": "2024-02-01T16:53:44.781Z"
   },
   {
    "duration": 121,
    "start_time": "2024-02-01T16:53:45.018Z"
   },
   {
    "duration": 162,
    "start_time": "2024-02-01T16:53:45.141Z"
   },
   {
    "duration": 288,
    "start_time": "2024-02-01T16:53:45.305Z"
   },
   {
    "duration": 39,
    "start_time": "2024-02-01T16:53:45.595Z"
   },
   {
    "duration": 3724,
    "start_time": "2024-02-01T16:53:45.636Z"
   },
   {
    "duration": 0,
    "start_time": "2024-02-01T16:53:49.363Z"
   },
   {
    "duration": 0,
    "start_time": "2024-02-01T16:53:49.365Z"
   },
   {
    "duration": 2753,
    "start_time": "2024-02-01T16:54:16.855Z"
   },
   {
    "duration": 2691,
    "start_time": "2024-02-01T16:54:19.611Z"
   },
   {
    "duration": 2902,
    "start_time": "2024-02-01T16:54:22.304Z"
   },
   {
    "duration": 1544,
    "start_time": "2024-02-01T16:54:25.209Z"
   },
   {
    "duration": 2,
    "start_time": "2024-02-01T16:54:26.756Z"
   },
   {
    "duration": 1110,
    "start_time": "2024-02-01T16:54:26.760Z"
   },
   {
    "duration": 67,
    "start_time": "2024-02-01T16:54:27.873Z"
   },
   {
    "duration": 254,
    "start_time": "2024-02-01T16:54:27.942Z"
   },
   {
    "duration": 394,
    "start_time": "2024-02-01T16:54:28.198Z"
   },
   {
    "duration": 486,
    "start_time": "2024-02-01T16:54:28.594Z"
   },
   {
    "duration": 601,
    "start_time": "2024-02-01T16:54:29.081Z"
   },
   {
    "duration": 297,
    "start_time": "2024-02-01T16:54:29.684Z"
   },
   {
    "duration": 266,
    "start_time": "2024-02-01T16:54:29.982Z"
   },
   {
    "duration": 222,
    "start_time": "2024-02-01T16:54:30.251Z"
   },
   {
    "duration": 135,
    "start_time": "2024-02-01T16:54:30.475Z"
   },
   {
    "duration": 111,
    "start_time": "2024-02-01T16:54:30.612Z"
   },
   {
    "duration": 288,
    "start_time": "2024-02-01T16:54:30.725Z"
   },
   {
    "duration": 25,
    "start_time": "2024-02-01T16:54:31.015Z"
   },
   {
    "duration": 19204,
    "start_time": "2024-02-01T16:54:31.042Z"
   },
   {
    "duration": 258,
    "start_time": "2024-02-01T16:54:50.247Z"
   },
   {
    "duration": 206,
    "start_time": "2024-02-01T17:00:07.407Z"
   },
   {
    "duration": 123,
    "start_time": "2024-02-01T17:00:22.691Z"
   },
   {
    "duration": 253,
    "start_time": "2024-02-01T17:00:47.646Z"
   },
   {
    "duration": 554,
    "start_time": "2024-02-01T17:01:20.758Z"
   },
   {
    "duration": 247,
    "start_time": "2024-02-01T17:01:36.757Z"
   },
   {
    "duration": 265,
    "start_time": "2024-02-01T17:01:40.015Z"
   },
   {
    "duration": 308,
    "start_time": "2024-02-01T17:01:56.335Z"
   },
   {
    "duration": 262,
    "start_time": "2024-02-01T17:02:06.570Z"
   },
   {
    "duration": 464,
    "start_time": "2024-02-01T17:02:10.264Z"
   },
   {
    "duration": 18,
    "start_time": "2024-02-01T17:02:21.105Z"
   },
   {
    "duration": 17,
    "start_time": "2024-02-01T17:02:30.834Z"
   },
   {
    "duration": 809,
    "start_time": "2024-02-01T17:04:44.954Z"
   },
   {
    "duration": 246,
    "start_time": "2024-02-01T17:05:02.850Z"
   },
   {
    "duration": 232,
    "start_time": "2024-02-01T17:05:21.589Z"
   },
   {
    "duration": 229,
    "start_time": "2024-02-01T17:05:37.300Z"
   },
   {
    "duration": 6,
    "start_time": "2024-02-01T17:05:50.748Z"
   },
   {
    "duration": 5,
    "start_time": "2024-02-01T17:05:57.081Z"
   },
   {
    "duration": 6,
    "start_time": "2024-02-01T17:06:00.947Z"
   },
   {
    "duration": 6,
    "start_time": "2024-02-01T17:06:04.947Z"
   },
   {
    "duration": 11,
    "start_time": "2024-02-01T17:06:52.747Z"
   },
   {
    "duration": 7,
    "start_time": "2024-02-01T17:06:57.251Z"
   },
   {
    "duration": 29,
    "start_time": "2024-02-01T17:08:00.805Z"
   },
   {
    "duration": 252,
    "start_time": "2024-02-01T17:08:09.067Z"
   },
   {
    "duration": 10,
    "start_time": "2024-02-01T17:09:35.399Z"
   },
   {
    "duration": 3,
    "start_time": "2024-02-01T17:09:37.568Z"
   },
   {
    "duration": 55,
    "start_time": "2024-02-01T17:09:38.455Z"
   },
   {
    "duration": 253,
    "start_time": "2024-02-01T17:10:03.358Z"
   },
   {
    "duration": 504,
    "start_time": "2024-02-01T17:10:10.166Z"
   },
   {
    "duration": 896,
    "start_time": "2024-02-01T17:10:25.908Z"
   },
   {
    "duration": 1011,
    "start_time": "2024-02-01T17:10:46.491Z"
   },
   {
    "duration": 11,
    "start_time": "2024-02-01T17:10:59.324Z"
   },
   {
    "duration": 60,
    "start_time": "2024-02-01T17:11:22.012Z"
   },
   {
    "duration": 289,
    "start_time": "2024-02-01T17:11:27.897Z"
   },
   {
    "duration": 266,
    "start_time": "2024-02-01T17:11:46.740Z"
   },
   {
    "duration": 56,
    "start_time": "2024-02-01T17:11:54.656Z"
   },
   {
    "duration": 67,
    "start_time": "2024-02-01T17:12:28.217Z"
   },
   {
    "duration": 254,
    "start_time": "2024-02-01T17:12:31.563Z"
   },
   {
    "duration": 248,
    "start_time": "2024-02-01T17:12:40.301Z"
   },
   {
    "duration": 2758,
    "start_time": "2024-02-01T17:14:11.973Z"
   },
   {
    "duration": 2661,
    "start_time": "2024-02-01T17:14:14.734Z"
   },
   {
    "duration": 2902,
    "start_time": "2024-02-01T17:14:17.397Z"
   },
   {
    "duration": 1590,
    "start_time": "2024-02-01T17:14:20.301Z"
   },
   {
    "duration": 2,
    "start_time": "2024-02-01T17:14:21.894Z"
   },
   {
    "duration": 1120,
    "start_time": "2024-02-01T17:14:21.899Z"
   },
   {
    "duration": 65,
    "start_time": "2024-02-01T17:14:23.021Z"
   },
   {
    "duration": 217,
    "start_time": "2024-02-01T17:14:23.087Z"
   },
   {
    "duration": 442,
    "start_time": "2024-02-01T17:14:23.306Z"
   },
   {
    "duration": 478,
    "start_time": "2024-02-01T17:14:23.750Z"
   },
   {
    "duration": 627,
    "start_time": "2024-02-01T17:14:24.229Z"
   },
   {
    "duration": 320,
    "start_time": "2024-02-01T17:14:24.858Z"
   },
   {
    "duration": 272,
    "start_time": "2024-02-01T17:14:25.180Z"
   },
   {
    "duration": 218,
    "start_time": "2024-02-01T17:14:25.455Z"
   },
   {
    "duration": 113,
    "start_time": "2024-02-01T17:14:25.674Z"
   },
   {
    "duration": 109,
    "start_time": "2024-02-01T17:14:25.788Z"
   },
   {
    "duration": 314,
    "start_time": "2024-02-01T17:14:25.898Z"
   },
   {
    "duration": 27,
    "start_time": "2024-02-01T17:14:26.214Z"
   },
   {
    "duration": 19423,
    "start_time": "2024-02-01T17:14:26.243Z"
   },
   {
    "duration": 336,
    "start_time": "2024-02-01T17:14:45.668Z"
   },
   {
    "duration": 18,
    "start_time": "2024-02-01T17:14:46.006Z"
   },
   {
    "duration": 255,
    "start_time": "2024-02-01T17:14:46.025Z"
   },
   {
    "duration": 17,
    "start_time": "2024-02-01T17:14:46.281Z"
   },
   {
    "duration": 258,
    "start_time": "2024-02-01T17:14:46.299Z"
   },
   {
    "duration": 3,
    "start_time": "2024-02-01T17:14:46.559Z"
   },
   {
    "duration": 68,
    "start_time": "2024-02-01T17:14:46.564Z"
   },
   {
    "duration": 508,
    "start_time": "2024-02-01T17:14:46.634Z"
   },
   {
    "duration": 418,
    "start_time": "2024-02-01T17:15:06.566Z"
   },
   {
    "duration": 413,
    "start_time": "2024-02-01T17:15:32.967Z"
   },
   {
    "duration": 453,
    "start_time": "2024-02-01T17:15:44.231Z"
   },
   {
    "duration": 271,
    "start_time": "2024-02-01T17:16:03.957Z"
   },
   {
    "duration": 270,
    "start_time": "2024-02-01T17:16:14.674Z"
   },
   {
    "duration": 96,
    "start_time": "2024-02-01T17:17:02.744Z"
   },
   {
    "duration": 72,
    "start_time": "2024-02-01T17:20:14.365Z"
   },
   {
    "duration": 16,
    "start_time": "2024-02-01T17:20:17.095Z"
   },
   {
    "duration": 95,
    "start_time": "2024-02-01T17:20:23.503Z"
   },
   {
    "duration": 15,
    "start_time": "2024-02-01T17:20:31.440Z"
   },
   {
    "duration": 2708,
    "start_time": "2024-02-01T17:20:48.235Z"
   },
   {
    "duration": 2710,
    "start_time": "2024-02-01T17:20:50.945Z"
   },
   {
    "duration": 3094,
    "start_time": "2024-02-01T17:20:53.657Z"
   },
   {
    "duration": 1672,
    "start_time": "2024-02-01T17:20:56.754Z"
   },
   {
    "duration": 2,
    "start_time": "2024-02-01T17:20:58.429Z"
   },
   {
    "duration": 1152,
    "start_time": "2024-02-01T17:20:58.432Z"
   },
   {
    "duration": 62,
    "start_time": "2024-02-01T17:20:59.585Z"
   },
   {
    "duration": 224,
    "start_time": "2024-02-01T17:20:59.649Z"
   },
   {
    "duration": 411,
    "start_time": "2024-02-01T17:20:59.875Z"
   },
   {
    "duration": 516,
    "start_time": "2024-02-01T17:21:00.288Z"
   },
   {
    "duration": 637,
    "start_time": "2024-02-01T17:21:00.806Z"
   },
   {
    "duration": 325,
    "start_time": "2024-02-01T17:21:01.445Z"
   },
   {
    "duration": 266,
    "start_time": "2024-02-01T17:21:01.771Z"
   },
   {
    "duration": 236,
    "start_time": "2024-02-01T17:21:02.040Z"
   },
   {
    "duration": 119,
    "start_time": "2024-02-01T17:21:02.278Z"
   },
   {
    "duration": 131,
    "start_time": "2024-02-01T17:21:02.399Z"
   },
   {
    "duration": 277,
    "start_time": "2024-02-01T17:21:02.532Z"
   },
   {
    "duration": 25,
    "start_time": "2024-02-01T17:21:02.811Z"
   },
   {
    "duration": 19183,
    "start_time": "2024-02-01T17:21:02.837Z"
   },
   {
    "duration": 303,
    "start_time": "2024-02-01T17:21:22.022Z"
   },
   {
    "duration": 16,
    "start_time": "2024-02-01T17:21:22.327Z"
   },
   {
    "duration": 268,
    "start_time": "2024-02-01T17:21:22.345Z"
   },
   {
    "duration": 18,
    "start_time": "2024-02-01T17:21:22.614Z"
   },
   {
    "duration": 284,
    "start_time": "2024-02-01T17:21:22.634Z"
   },
   {
    "duration": 5,
    "start_time": "2024-02-01T17:21:22.920Z"
   },
   {
    "duration": 94,
    "start_time": "2024-02-01T17:21:22.926Z"
   },
   {
    "duration": 466,
    "start_time": "2024-02-01T17:21:23.024Z"
   },
   {
    "duration": 257,
    "start_time": "2024-02-01T17:21:23.492Z"
   },
   {
    "duration": 19,
    "start_time": "2024-02-01T17:21:23.750Z"
   },
   {
    "duration": 101,
    "start_time": "2024-02-01T17:21:23.781Z"
   },
   {
    "duration": 245,
    "start_time": "2024-02-01T18:41:56.911Z"
   },
   {
    "duration": 124,
    "start_time": "2024-02-01T18:42:10.579Z"
   },
   {
    "duration": 3,
    "start_time": "2024-02-01T19:07:23.007Z"
   },
   {
    "duration": 822,
    "start_time": "2024-02-01T19:07:53.461Z"
   },
   {
    "duration": 801,
    "start_time": "2024-02-01T19:08:23.613Z"
   },
   {
    "duration": 96,
    "start_time": "2024-02-01T19:15:25.795Z"
   },
   {
    "duration": 4,
    "start_time": "2024-02-01T19:16:27.786Z"
   },
   {
    "duration": 4,
    "start_time": "2024-02-01T19:17:25.753Z"
   },
   {
    "duration": 65,
    "start_time": "2024-02-01T19:17:42.820Z"
   },
   {
    "duration": 57,
    "start_time": "2024-02-01T19:17:53.809Z"
   },
   {
    "duration": 56,
    "start_time": "2024-02-01T19:18:08.064Z"
   },
   {
    "duration": 948,
    "start_time": "2024-02-01T19:18:22.818Z"
   },
   {
    "duration": 835,
    "start_time": "2024-02-01T19:18:34.550Z"
   },
   {
    "duration": 915,
    "start_time": "2024-02-01T19:19:43.831Z"
   },
   {
    "duration": 58,
    "start_time": "2024-02-01T19:19:52.428Z"
   },
   {
    "duration": 54,
    "start_time": "2024-02-01T19:19:57.717Z"
   },
   {
    "duration": 992,
    "start_time": "2024-02-01T19:20:15.137Z"
   },
   {
    "duration": 58,
    "start_time": "2024-02-01T19:20:49.654Z"
   },
   {
    "duration": 64,
    "start_time": "2024-02-01T19:21:04.252Z"
   },
   {
    "duration": 555,
    "start_time": "2024-02-01T19:21:11.881Z"
   },
   {
    "duration": 483,
    "start_time": "2024-02-01T19:21:22.242Z"
   },
   {
    "duration": 480,
    "start_time": "2024-02-01T19:22:24.197Z"
   },
   {
    "duration": 574,
    "start_time": "2024-02-01T19:23:07.261Z"
   },
   {
    "duration": 43,
    "start_time": "2024-02-01T19:24:42.399Z"
   },
   {
    "duration": 25,
    "start_time": "2024-02-01T19:25:13.814Z"
   },
   {
    "duration": 50,
    "start_time": "2024-02-01T19:25:27.931Z"
   },
   {
    "duration": 1705,
    "start_time": "2024-02-01T19:25:53.880Z"
   },
   {
    "duration": 447,
    "start_time": "2024-02-01T19:26:03.013Z"
   },
   {
    "duration": 244,
    "start_time": "2024-02-01T19:32:22.320Z"
   },
   {
    "duration": 225,
    "start_time": "2024-02-01T19:33:05.403Z"
   },
   {
    "duration": 232,
    "start_time": "2024-02-01T19:47:41.521Z"
   },
   {
    "duration": 24,
    "start_time": "2024-02-01T19:53:32.413Z"
   },
   {
    "duration": 247,
    "start_time": "2024-02-01T19:54:06.633Z"
   },
   {
    "duration": 272,
    "start_time": "2024-02-01T19:54:17.310Z"
   },
   {
    "duration": 254,
    "start_time": "2024-02-01T19:54:23.630Z"
   },
   {
    "duration": 260,
    "start_time": "2024-02-01T19:54:26.529Z"
   },
   {
    "duration": 37,
    "start_time": "2024-02-01T19:55:23.736Z"
   },
   {
    "duration": 55,
    "start_time": "2024-02-01T19:55:40.960Z"
   },
   {
    "duration": 33,
    "start_time": "2024-02-01T19:55:56.099Z"
   },
   {
    "duration": 2973,
    "start_time": "2024-02-01T19:56:11.482Z"
   },
   {
    "duration": 3035,
    "start_time": "2024-02-01T19:56:14.457Z"
   },
   {
    "duration": 3222,
    "start_time": "2024-02-01T19:56:17.494Z"
   },
   {
    "duration": 1553,
    "start_time": "2024-02-01T19:56:20.718Z"
   },
   {
    "duration": 2,
    "start_time": "2024-02-01T19:56:22.273Z"
   },
   {
    "duration": 1203,
    "start_time": "2024-02-01T19:56:22.277Z"
   },
   {
    "duration": 54,
    "start_time": "2024-02-01T19:56:23.482Z"
   },
   {
    "duration": 219,
    "start_time": "2024-02-01T19:56:23.537Z"
   },
   {
    "duration": 406,
    "start_time": "2024-02-01T19:56:23.758Z"
   },
   {
    "duration": 524,
    "start_time": "2024-02-01T19:56:24.166Z"
   },
   {
    "duration": 599,
    "start_time": "2024-02-01T19:56:24.692Z"
   },
   {
    "duration": 336,
    "start_time": "2024-02-01T19:56:25.293Z"
   },
   {
    "duration": 302,
    "start_time": "2024-02-01T19:56:25.631Z"
   },
   {
    "duration": 226,
    "start_time": "2024-02-01T19:56:25.936Z"
   },
   {
    "duration": 152,
    "start_time": "2024-02-01T19:56:26.164Z"
   },
   {
    "duration": 122,
    "start_time": "2024-02-01T19:56:26.318Z"
   },
   {
    "duration": 296,
    "start_time": "2024-02-01T19:56:26.442Z"
   },
   {
    "duration": 24,
    "start_time": "2024-02-01T19:56:26.740Z"
   },
   {
    "duration": 21183,
    "start_time": "2024-02-01T19:56:26.766Z"
   },
   {
    "duration": 324,
    "start_time": "2024-02-01T19:56:47.950Z"
   },
   {
    "duration": 24,
    "start_time": "2024-02-01T19:56:48.276Z"
   },
   {
    "duration": 305,
    "start_time": "2024-02-01T19:56:48.307Z"
   },
   {
    "duration": 17,
    "start_time": "2024-02-01T19:56:48.614Z"
   },
   {
    "duration": 305,
    "start_time": "2024-02-01T19:56:48.633Z"
   },
   {
    "duration": 4,
    "start_time": "2024-02-01T19:56:48.940Z"
   },
   {
    "duration": 69,
    "start_time": "2024-02-01T19:56:48.945Z"
   },
   {
    "duration": 497,
    "start_time": "2024-02-01T19:56:49.016Z"
   },
   {
    "duration": 298,
    "start_time": "2024-02-01T19:56:49.515Z"
   },
   {
    "duration": 289,
    "start_time": "2024-02-01T19:56:49.815Z"
   },
   {
    "duration": 98,
    "start_time": "2024-02-01T19:56:50.106Z"
   },
   {
    "duration": 2,
    "start_time": "2024-02-01T19:56:50.207Z"
   },
   {
    "duration": 98,
    "start_time": "2024-02-01T19:56:50.211Z"
   },
   {
    "duration": 517,
    "start_time": "2024-02-01T19:56:50.311Z"
   },
   {
    "duration": 644,
    "start_time": "2024-02-01T19:56:50.830Z"
   },
   {
    "duration": 44,
    "start_time": "2024-02-01T19:56:51.479Z"
   },
   {
    "duration": 31,
    "start_time": "2024-02-01T20:01:56.957Z"
   },
   {
    "duration": 92,
    "start_time": "2024-02-01T20:02:55.205Z"
   },
   {
    "duration": 42,
    "start_time": "2024-02-01T20:03:10.129Z"
   },
   {
    "duration": 3016,
    "start_time": "2024-02-01T20:03:43.943Z"
   },
   {
    "duration": 2905,
    "start_time": "2024-02-01T20:03:46.961Z"
   },
   {
    "duration": 3152,
    "start_time": "2024-02-01T20:03:49.869Z"
   },
   {
    "duration": 1621,
    "start_time": "2024-02-01T20:03:53.023Z"
   },
   {
    "duration": 2,
    "start_time": "2024-02-01T20:03:54.646Z"
   },
   {
    "duration": 1238,
    "start_time": "2024-02-01T20:03:54.650Z"
   },
   {
    "duration": 54,
    "start_time": "2024-02-01T20:03:55.892Z"
   },
   {
    "duration": 245,
    "start_time": "2024-02-01T20:03:55.948Z"
   },
   {
    "duration": 455,
    "start_time": "2024-02-01T20:03:56.195Z"
   },
   {
    "duration": 509,
    "start_time": "2024-02-01T20:03:56.652Z"
   },
   {
    "duration": 693,
    "start_time": "2024-02-01T20:03:57.163Z"
   },
   {
    "duration": 348,
    "start_time": "2024-02-01T20:03:57.858Z"
   },
   {
    "duration": 296,
    "start_time": "2024-02-01T20:03:58.208Z"
   },
   {
    "duration": 300,
    "start_time": "2024-02-01T20:03:58.507Z"
   },
   {
    "duration": 123,
    "start_time": "2024-02-01T20:03:58.809Z"
   },
   {
    "duration": 137,
    "start_time": "2024-02-01T20:03:58.933Z"
   },
   {
    "duration": 300,
    "start_time": "2024-02-01T20:03:59.072Z"
   },
   {
    "duration": 32,
    "start_time": "2024-02-01T20:03:59.374Z"
   },
   {
    "duration": 20870,
    "start_time": "2024-02-01T20:03:59.411Z"
   },
   {
    "duration": 328,
    "start_time": "2024-02-01T20:04:20.283Z"
   },
   {
    "duration": 22,
    "start_time": "2024-02-01T20:04:20.613Z"
   },
   {
    "duration": 293,
    "start_time": "2024-02-01T20:04:20.637Z"
   },
   {
    "duration": 19,
    "start_time": "2024-02-01T20:04:20.932Z"
   },
   {
    "duration": 272,
    "start_time": "2024-02-01T20:04:20.953Z"
   },
   {
    "duration": 4,
    "start_time": "2024-02-01T20:04:21.227Z"
   },
   {
    "duration": 92,
    "start_time": "2024-02-01T20:04:21.232Z"
   },
   {
    "duration": 537,
    "start_time": "2024-02-01T20:04:21.326Z"
   },
   {
    "duration": 345,
    "start_time": "2024-02-01T20:04:21.865Z"
   },
   {
    "duration": 253,
    "start_time": "2024-02-01T20:04:22.212Z"
   },
   {
    "duration": 102,
    "start_time": "2024-02-01T20:04:22.466Z"
   },
   {
    "duration": 17,
    "start_time": "2024-02-01T20:04:22.570Z"
   },
   {
    "duration": 110,
    "start_time": "2024-02-01T20:04:22.589Z"
   },
   {
    "duration": 266,
    "start_time": "2024-02-01T20:04:22.701Z"
   },
   {
    "duration": 68,
    "start_time": "2024-02-01T20:04:22.969Z"
   },
   {
    "duration": 0,
    "start_time": "2024-02-01T20:04:23.038Z"
   },
   {
    "duration": 0,
    "start_time": "2024-02-01T20:04:23.040Z"
   },
   {
    "duration": 100,
    "start_time": "2024-02-01T20:04:57.617Z"
   },
   {
    "duration": 507,
    "start_time": "2024-02-01T20:05:12.234Z"
   },
   {
    "duration": 19,
    "start_time": "2024-02-01T20:05:23.816Z"
   },
   {
    "duration": 627,
    "start_time": "2024-02-01T20:05:43.174Z"
   },
   {
    "duration": 184,
    "start_time": "2024-02-01T20:05:48.923Z"
   },
   {
    "duration": 3104,
    "start_time": "2024-02-01T20:05:56.142Z"
   },
   {
    "duration": 3150,
    "start_time": "2024-02-01T20:05:59.249Z"
   },
   {
    "duration": 3320,
    "start_time": "2024-02-01T20:06:02.402Z"
   },
   {
    "duration": 1711,
    "start_time": "2024-02-01T20:06:05.724Z"
   },
   {
    "duration": 3,
    "start_time": "2024-02-01T20:06:07.437Z"
   },
   {
    "duration": 1277,
    "start_time": "2024-02-01T20:06:07.441Z"
   },
   {
    "duration": 82,
    "start_time": "2024-02-01T20:06:08.721Z"
   },
   {
    "duration": 227,
    "start_time": "2024-02-01T20:06:08.814Z"
   },
   {
    "duration": 467,
    "start_time": "2024-02-01T20:06:09.042Z"
   },
   {
    "duration": 555,
    "start_time": "2024-02-01T20:06:09.511Z"
   },
   {
    "duration": 755,
    "start_time": "2024-02-01T20:06:10.068Z"
   },
   {
    "duration": 380,
    "start_time": "2024-02-01T20:06:10.824Z"
   },
   {
    "duration": 356,
    "start_time": "2024-02-01T20:06:11.209Z"
   },
   {
    "duration": 338,
    "start_time": "2024-02-01T20:06:11.569Z"
   },
   {
    "duration": 129,
    "start_time": "2024-02-01T20:06:11.910Z"
   },
   {
    "duration": 149,
    "start_time": "2024-02-01T20:06:12.041Z"
   },
   {
    "duration": 322,
    "start_time": "2024-02-01T20:06:12.193Z"
   },
   {
    "duration": 27,
    "start_time": "2024-02-01T20:06:12.516Z"
   },
   {
    "duration": 3,
    "start_time": "2024-02-01T20:06:12.544Z"
   },
   {
    "duration": 7,
    "start_time": "2024-02-01T20:06:12.548Z"
   },
   {
    "duration": 63,
    "start_time": "2024-02-01T20:06:12.557Z"
   },
   {
    "duration": 311,
    "start_time": "2024-02-01T20:06:12.622Z"
   },
   {
    "duration": 18,
    "start_time": "2024-02-01T20:06:12.935Z"
   },
   {
    "duration": 294,
    "start_time": "2024-02-01T20:06:12.954Z"
   },
   {
    "duration": 4,
    "start_time": "2024-02-01T20:06:13.250Z"
   },
   {
    "duration": 78,
    "start_time": "2024-02-01T20:06:13.255Z"
   },
   {
    "duration": 280,
    "start_time": "2024-02-01T20:06:13.335Z"
   },
   {
    "duration": 381,
    "start_time": "2024-02-01T20:06:13.617Z"
   },
   {
    "duration": 310,
    "start_time": "2024-02-01T20:06:14.000Z"
   },
   {
    "duration": 110,
    "start_time": "2024-02-01T20:06:14.314Z"
   },
   {
    "duration": 13,
    "start_time": "2024-02-01T20:06:14.426Z"
   },
   {
    "duration": 124,
    "start_time": "2024-02-01T20:06:14.441Z"
   },
   {
    "duration": 264,
    "start_time": "2024-02-01T20:06:14.568Z"
   },
   {
    "duration": 695,
    "start_time": "2024-02-01T20:06:14.834Z"
   },
   {
    "duration": 19,
    "start_time": "2024-02-01T20:06:15.531Z"
   },
   {
    "duration": 56,
    "start_time": "2024-02-01T20:06:15.552Z"
   },
   {
    "duration": 31,
    "start_time": "2024-02-01T20:07:02.273Z"
   },
   {
    "duration": 28,
    "start_time": "2024-02-01T20:07:21.769Z"
   },
   {
    "duration": 3104,
    "start_time": "2024-02-01T20:07:49.103Z"
   },
   {
    "duration": 2986,
    "start_time": "2024-02-01T20:07:52.210Z"
   },
   {
    "duration": 3349,
    "start_time": "2024-02-01T20:07:55.207Z"
   },
   {
    "duration": 1721,
    "start_time": "2024-02-01T20:07:58.558Z"
   },
   {
    "duration": 13,
    "start_time": "2024-02-01T20:08:00.286Z"
   },
   {
    "duration": 1370,
    "start_time": "2024-02-01T20:08:00.305Z"
   },
   {
    "duration": 64,
    "start_time": "2024-02-01T20:08:01.686Z"
   },
   {
    "duration": 251,
    "start_time": "2024-02-01T20:08:01.751Z"
   },
   {
    "duration": 520,
    "start_time": "2024-02-01T20:08:02.006Z"
   },
   {
    "duration": 593,
    "start_time": "2024-02-01T20:08:02.529Z"
   },
   {
    "duration": 698,
    "start_time": "2024-02-01T20:08:03.124Z"
   },
   {
    "duration": 381,
    "start_time": "2024-02-01T20:08:03.824Z"
   },
   {
    "duration": 285,
    "start_time": "2024-02-01T20:08:04.207Z"
   },
   {
    "duration": 276,
    "start_time": "2024-02-01T20:08:04.496Z"
   },
   {
    "duration": 140,
    "start_time": "2024-02-01T20:08:04.773Z"
   },
   {
    "duration": 120,
    "start_time": "2024-02-01T20:08:04.915Z"
   },
   {
    "duration": 314,
    "start_time": "2024-02-01T20:08:05.037Z"
   },
   {
    "duration": 42,
    "start_time": "2024-02-01T20:08:05.352Z"
   },
   {
    "duration": 4,
    "start_time": "2024-02-01T20:08:05.396Z"
   },
   {
    "duration": 16,
    "start_time": "2024-02-01T20:08:05.402Z"
   },
   {
    "duration": 24,
    "start_time": "2024-02-01T20:08:05.420Z"
   },
   {
    "duration": 315,
    "start_time": "2024-02-01T20:08:05.446Z"
   },
   {
    "duration": 39,
    "start_time": "2024-02-01T20:08:05.763Z"
   },
   {
    "duration": 270,
    "start_time": "2024-02-01T20:08:05.804Z"
   },
   {
    "duration": 5,
    "start_time": "2024-02-01T20:08:06.079Z"
   },
   {
    "duration": 85,
    "start_time": "2024-02-01T20:08:06.086Z"
   },
   {
    "duration": 294,
    "start_time": "2024-02-01T20:08:06.172Z"
   },
   {
    "duration": 381,
    "start_time": "2024-02-01T20:08:06.467Z"
   },
   {
    "duration": 292,
    "start_time": "2024-02-01T20:08:06.850Z"
   },
   {
    "duration": 101,
    "start_time": "2024-02-01T20:08:07.144Z"
   },
   {
    "duration": 10,
    "start_time": "2024-02-01T20:08:07.246Z"
   },
   {
    "duration": 115,
    "start_time": "2024-02-01T20:08:07.258Z"
   },
   {
    "duration": 261,
    "start_time": "2024-02-01T20:08:07.375Z"
   },
   {
    "duration": 498,
    "start_time": "2024-02-01T20:08:07.638Z"
   },
   {
    "duration": 18,
    "start_time": "2024-02-01T20:08:08.137Z"
   },
   {
    "duration": 117,
    "start_time": "2024-02-01T20:08:08.157Z"
   },
   {
    "duration": 5,
    "start_time": "2024-02-01T20:08:42.860Z"
   },
   {
    "duration": 98,
    "start_time": "2024-02-01T20:08:51.845Z"
   },
   {
    "duration": 143,
    "start_time": "2024-02-01T20:09:10.405Z"
   },
   {
    "duration": 69,
    "start_time": "2024-02-01T20:09:16.338Z"
   },
   {
    "duration": 13,
    "start_time": "2024-02-01T20:09:25.178Z"
   },
   {
    "duration": 14,
    "start_time": "2024-02-01T20:09:43.046Z"
   },
   {
    "duration": 93,
    "start_time": "2024-02-01T20:09:51.910Z"
   },
   {
    "duration": 48,
    "start_time": "2024-02-01T20:10:00.961Z"
   },
   {
    "duration": 95,
    "start_time": "2024-02-01T20:10:12.357Z"
   },
   {
    "duration": 59,
    "start_time": "2024-02-01T20:10:17.971Z"
   },
   {
    "duration": 46,
    "start_time": "2024-02-01T20:10:40.324Z"
   },
   {
    "duration": 25,
    "start_time": "2024-02-01T20:10:43.888Z"
   },
   {
    "duration": 19,
    "start_time": "2024-02-01T20:10:43.993Z"
   },
   {
    "duration": 599,
    "start_time": "2024-02-01T20:10:48.636Z"
   },
   {
    "duration": 4411,
    "start_time": "2024-02-02T08:12:18.751Z"
   },
   {
    "duration": 7966,
    "start_time": "2024-02-02T08:12:23.164Z"
   },
   {
    "duration": 35484,
    "start_time": "2024-02-02T08:12:31.132Z"
   },
   {
    "duration": 1609,
    "start_time": "2024-02-02T08:13:06.619Z"
   },
   {
    "duration": 3,
    "start_time": "2024-02-02T08:13:08.230Z"
   },
   {
    "duration": 1188,
    "start_time": "2024-02-02T08:13:08.235Z"
   },
   {
    "duration": 51,
    "start_time": "2024-02-02T08:13:09.424Z"
   },
   {
    "duration": 191,
    "start_time": "2024-02-02T08:13:09.477Z"
   },
   {
    "duration": 366,
    "start_time": "2024-02-02T08:13:09.670Z"
   },
   {
    "duration": 416,
    "start_time": "2024-02-02T08:13:10.038Z"
   },
   {
    "duration": 525,
    "start_time": "2024-02-02T08:13:10.456Z"
   },
   {
    "duration": 296,
    "start_time": "2024-02-02T08:13:10.982Z"
   },
   {
    "duration": 231,
    "start_time": "2024-02-02T08:13:11.280Z"
   },
   {
    "duration": 217,
    "start_time": "2024-02-02T08:13:11.513Z"
   },
   {
    "duration": 105,
    "start_time": "2024-02-02T08:13:11.731Z"
   },
   {
    "duration": 98,
    "start_time": "2024-02-02T08:13:11.838Z"
   },
   {
    "duration": 242,
    "start_time": "2024-02-02T08:13:11.938Z"
   },
   {
    "duration": 23,
    "start_time": "2024-02-02T08:13:12.181Z"
   },
   {
    "duration": 3,
    "start_time": "2024-02-02T08:13:12.206Z"
   },
   {
    "duration": 10,
    "start_time": "2024-02-02T08:13:12.211Z"
   },
   {
    "duration": 23,
    "start_time": "2024-02-02T08:13:12.233Z"
   },
   {
    "duration": 241,
    "start_time": "2024-02-02T08:13:12.258Z"
   },
   {
    "duration": 16,
    "start_time": "2024-02-02T08:13:12.500Z"
   },
   {
    "duration": 280,
    "start_time": "2024-02-02T08:13:12.517Z"
   },
   {
    "duration": 5,
    "start_time": "2024-02-02T08:13:12.798Z"
   },
   {
    "duration": 65,
    "start_time": "2024-02-02T08:13:12.804Z"
   },
   {
    "duration": 225,
    "start_time": "2024-02-02T08:13:12.871Z"
   },
   {
    "duration": 210,
    "start_time": "2024-02-02T08:13:13.099Z"
   },
   {
    "duration": 209,
    "start_time": "2024-02-02T08:13:13.311Z"
   },
   {
    "duration": 54,
    "start_time": "2024-02-02T08:13:13.521Z"
   },
   {
    "duration": 10,
    "start_time": "2024-02-02T08:13:13.577Z"
   },
   {
    "duration": 136,
    "start_time": "2024-02-02T08:13:13.589Z"
   },
   {
    "duration": 195,
    "start_time": "2024-02-02T08:13:13.726Z"
   },
   {
    "duration": 510,
    "start_time": "2024-02-02T08:13:13.923Z"
   },
   {
    "duration": 49,
    "start_time": "2024-02-02T09:16:37.726Z"
   },
   {
    "duration": 17,
    "start_time": "2024-02-02T09:17:09.780Z"
   },
   {
    "duration": 66,
    "start_time": "2024-02-02T09:18:48.600Z"
   },
   {
    "duration": 4,
    "start_time": "2024-02-02T09:21:24.763Z"
   },
   {
    "duration": 5,
    "start_time": "2024-02-02T10:26:31.105Z"
   },
   {
    "duration": 11267,
    "start_time": "2024-02-02T10:28:32.191Z"
   },
   {
    "duration": 10549,
    "start_time": "2024-02-02T10:33:07.497Z"
   },
   {
    "duration": 9886,
    "start_time": "2024-02-02T10:34:02.422Z"
   },
   {
    "duration": 18,
    "start_time": "2024-02-02T10:34:55.110Z"
   },
   {
    "duration": 6,
    "start_time": "2024-02-02T10:35:02.190Z"
   },
   {
    "duration": 22,
    "start_time": "2024-02-02T10:35:14.830Z"
   },
   {
    "duration": 15,
    "start_time": "2024-02-02T10:36:21.438Z"
   },
   {
    "duration": 9758,
    "start_time": "2024-02-02T10:37:26.386Z"
   },
   {
    "duration": 37,
    "start_time": "2024-02-02T10:38:00.460Z"
   },
   {
    "duration": 19,
    "start_time": "2024-02-02T10:38:08.930Z"
   },
   {
    "duration": 2567,
    "start_time": "2024-02-02T10:38:36.969Z"
   },
   {
    "duration": 2394,
    "start_time": "2024-02-02T10:38:39.538Z"
   },
   {
    "duration": 2590,
    "start_time": "2024-02-02T10:38:41.937Z"
   },
   {
    "duration": 1438,
    "start_time": "2024-02-02T10:38:44.530Z"
   },
   {
    "duration": 2,
    "start_time": "2024-02-02T10:38:45.970Z"
   },
   {
    "duration": 996,
    "start_time": "2024-02-02T10:38:45.973Z"
   },
   {
    "duration": 64,
    "start_time": "2024-02-02T10:38:46.970Z"
   },
   {
    "duration": 192,
    "start_time": "2024-02-02T10:38:47.036Z"
   },
   {
    "duration": 397,
    "start_time": "2024-02-02T10:38:47.232Z"
   },
   {
    "duration": 460,
    "start_time": "2024-02-02T10:38:47.630Z"
   },
   {
    "duration": 595,
    "start_time": "2024-02-02T10:38:48.092Z"
   },
   {
    "duration": 309,
    "start_time": "2024-02-02T10:38:48.689Z"
   },
   {
    "duration": 290,
    "start_time": "2024-02-02T10:38:49.001Z"
   },
   {
    "duration": 228,
    "start_time": "2024-02-02T10:38:49.293Z"
   },
   {
    "duration": 127,
    "start_time": "2024-02-02T10:38:49.522Z"
   },
   {
    "duration": 128,
    "start_time": "2024-02-02T10:38:49.651Z"
   },
   {
    "duration": 253,
    "start_time": "2024-02-02T10:38:49.781Z"
   },
   {
    "duration": 25,
    "start_time": "2024-02-02T10:38:50.035Z"
   },
   {
    "duration": 11,
    "start_time": "2024-02-02T10:38:50.062Z"
   },
   {
    "duration": 17,
    "start_time": "2024-02-02T10:38:50.074Z"
   },
   {
    "duration": 18,
    "start_time": "2024-02-02T10:38:50.092Z"
   },
   {
    "duration": 223,
    "start_time": "2024-02-02T10:38:50.112Z"
   },
   {
    "duration": 17,
    "start_time": "2024-02-02T10:38:50.336Z"
   },
   {
    "duration": 261,
    "start_time": "2024-02-02T10:38:50.354Z"
   },
   {
    "duration": 4,
    "start_time": "2024-02-02T10:38:50.616Z"
   },
   {
    "duration": 84,
    "start_time": "2024-02-02T10:38:50.621Z"
   },
   {
    "duration": 209,
    "start_time": "2024-02-02T10:38:50.706Z"
   },
   {
    "duration": 319,
    "start_time": "2024-02-02T10:38:50.916Z"
   },
   {
    "duration": 217,
    "start_time": "2024-02-02T10:38:51.237Z"
   },
   {
    "duration": 51,
    "start_time": "2024-02-02T10:38:51.456Z"
   },
   {
    "duration": 25,
    "start_time": "2024-02-02T10:38:51.508Z"
   },
   {
    "duration": 81,
    "start_time": "2024-02-02T10:38:51.535Z"
   },
   {
    "duration": 234,
    "start_time": "2024-02-02T10:38:51.617Z"
   },
   {
    "duration": 560,
    "start_time": "2024-02-02T10:38:51.853Z"
   },
   {
    "duration": 28,
    "start_time": "2024-02-02T10:38:52.415Z"
   },
   {
    "duration": 52,
    "start_time": "2024-02-02T10:38:52.445Z"
   },
   {
    "duration": 38,
    "start_time": "2024-02-02T10:38:52.498Z"
   },
   {
    "duration": 16277,
    "start_time": "2024-02-02T10:38:52.537Z"
   },
   {
    "duration": 29136,
    "start_time": "2024-02-02T10:39:16.612Z"
   },
   {
    "duration": 15112,
    "start_time": "2024-02-02T10:40:23.032Z"
   },
   {
    "duration": 15043,
    "start_time": "2024-02-02T10:40:50.404Z"
   },
   {
    "duration": 14970,
    "start_time": "2024-02-02T10:42:04.682Z"
   },
   {
    "duration": 36,
    "start_time": "2024-02-02T10:44:08.431Z"
   },
   {
    "duration": 82,
    "start_time": "2024-02-02T10:46:54.616Z"
   },
   {
    "duration": 74,
    "start_time": "2024-02-02T10:47:05.140Z"
   },
   {
    "duration": 76,
    "start_time": "2024-02-02T10:47:24.300Z"
   },
   {
    "duration": 71,
    "start_time": "2024-02-02T10:48:09.738Z"
   },
   {
    "duration": 5187,
    "start_time": "2024-02-02T10:48:15.646Z"
   },
   {
    "duration": 5287,
    "start_time": "2024-02-02T10:48:40.924Z"
   },
   {
    "duration": 5,
    "start_time": "2024-02-02T10:50:03.078Z"
   },
   {
    "duration": 14855,
    "start_time": "2024-02-02T10:50:48.548Z"
   },
   {
    "duration": 14640,
    "start_time": "2024-02-02T10:51:15.628Z"
   },
   {
    "duration": 15017,
    "start_time": "2024-02-02T10:52:31.392Z"
   },
   {
    "duration": 15048,
    "start_time": "2024-02-02T10:53:40.376Z"
   },
   {
    "duration": 38615,
    "start_time": "2024-02-02T10:54:13.776Z"
   },
   {
    "duration": 14926,
    "start_time": "2024-02-02T10:55:10.416Z"
   },
   {
    "duration": 5,
    "start_time": "2024-02-02T10:56:07.708Z"
   },
   {
    "duration": 5,
    "start_time": "2024-02-02T10:57:17.647Z"
   },
   {
    "duration": 14762,
    "start_time": "2024-02-02T10:59:16.281Z"
   },
   {
    "duration": 16249,
    "start_time": "2024-02-02T10:59:39.146Z"
   },
   {
    "duration": 15105,
    "start_time": "2024-02-02T11:00:13.205Z"
   },
   {
    "duration": 15033,
    "start_time": "2024-02-02T11:01:18.300Z"
   },
   {
    "duration": 15387,
    "start_time": "2024-02-02T11:01:52.580Z"
   },
   {
    "duration": 247,
    "start_time": "2024-02-02T11:02:33.355Z"
   },
   {
    "duration": 15554,
    "start_time": "2024-02-02T11:02:34.807Z"
   },
   {
    "duration": 15468,
    "start_time": "2024-02-02T11:02:54.427Z"
   },
   {
    "duration": 273,
    "start_time": "2024-02-02T11:04:54.279Z"
   },
   {
    "duration": 15222,
    "start_time": "2024-02-02T11:04:56.273Z"
   },
   {
    "duration": 4,
    "start_time": "2024-02-02T11:05:20.515Z"
   },
   {
    "duration": 4,
    "start_time": "2024-02-02T11:05:32.675Z"
   },
   {
    "duration": 15755,
    "start_time": "2024-02-02T11:07:59.917Z"
   },
   {
    "duration": 577583,
    "start_time": "2024-02-02T11:20:54.364Z"
   },
   {
    "duration": 5,
    "start_time": "2024-02-02T11:30:47.255Z"
   },
   {
    "duration": 6,
    "start_time": "2024-02-02T11:31:04.995Z"
   },
   {
    "duration": 6312997,
    "start_time": "2024-02-02T11:31:11.107Z"
   },
   {
    "duration": 2263288,
    "start_time": "2024-02-02T13:16:24.106Z"
   },
   {
    "duration": 5,
    "start_time": "2024-02-02T13:54:07.395Z"
   },
   {
    "duration": 14867,
    "start_time": "2024-02-02T13:54:07.401Z"
   },
   {
    "duration": 14942,
    "start_time": "2024-02-02T13:56:51.803Z"
   },
   {
    "duration": 943,
    "start_time": "2024-02-02T13:59:01.296Z"
   },
   {
    "duration": 2518,
    "start_time": "2024-02-02T13:59:05.420Z"
   },
   {
    "duration": 66,
    "start_time": "2024-02-02T13:59:38.603Z"
   },
   {
    "duration": 2472,
    "start_time": "2024-02-02T13:59:42.269Z"
   },
   {
    "duration": 32,
    "start_time": "2024-02-02T13:59:57.710Z"
   },
   {
    "duration": 5,
    "start_time": "2024-02-02T14:00:45.010Z"
   },
   {
    "duration": 5247,
    "start_time": "2024-02-02T14:02:21.601Z"
   },
   {
    "duration": 9,
    "start_time": "2024-02-02T14:07:37.131Z"
   },
   {
    "duration": 5,
    "start_time": "2024-02-02T14:10:11.178Z"
   },
   {
    "duration": 5,
    "start_time": "2024-02-02T14:10:17.543Z"
   },
   {
    "duration": 2708,
    "start_time": "2024-02-02T14:10:28.199Z"
   },
   {
    "duration": 770974,
    "start_time": "2024-02-02T14:11:20.460Z"
   },
   {
    "duration": 4,
    "start_time": "2024-02-02T14:27:43.293Z"
   },
   {
    "duration": 1093870,
    "start_time": "2024-02-02T14:28:01.193Z"
   },
   {
    "duration": 2448,
    "start_time": "2024-02-02T14:47:14.561Z"
   },
   {
    "duration": 2374,
    "start_time": "2024-02-02T14:47:17.011Z"
   },
   {
    "duration": 2543,
    "start_time": "2024-02-02T14:47:19.387Z"
   },
   {
    "duration": 2415,
    "start_time": "2024-02-02T14:47:21.932Z"
   },
   {
    "duration": 1490,
    "start_time": "2024-02-02T14:47:24.351Z"
   },
   {
    "duration": 5,
    "start_time": "2024-02-02T14:47:25.843Z"
   },
   {
    "duration": 989,
    "start_time": "2024-02-02T14:47:25.850Z"
   },
   {
    "duration": 53,
    "start_time": "2024-02-02T14:47:26.841Z"
   },
   {
    "duration": 247,
    "start_time": "2024-02-02T14:47:26.895Z"
   },
   {
    "duration": 374,
    "start_time": "2024-02-02T14:47:27.144Z"
   },
   {
    "duration": 439,
    "start_time": "2024-02-02T14:47:27.519Z"
   },
   {
    "duration": 575,
    "start_time": "2024-02-02T14:47:27.960Z"
   },
   {
    "duration": 284,
    "start_time": "2024-02-02T14:47:28.537Z"
   },
   {
    "duration": 246,
    "start_time": "2024-02-02T14:47:28.833Z"
   },
   {
    "duration": 203,
    "start_time": "2024-02-02T14:47:29.080Z"
   },
   {
    "duration": 104,
    "start_time": "2024-02-02T14:47:29.285Z"
   },
   {
    "duration": 96,
    "start_time": "2024-02-02T14:47:29.391Z"
   },
   {
    "duration": 253,
    "start_time": "2024-02-02T14:47:29.488Z"
   },
   {
    "duration": 27,
    "start_time": "2024-02-02T14:47:29.743Z"
   },
   {
    "duration": 2,
    "start_time": "2024-02-02T14:47:29.772Z"
   },
   {
    "duration": 4,
    "start_time": "2024-02-02T14:47:29.775Z"
   },
   {
    "duration": 20,
    "start_time": "2024-02-02T14:47:29.782Z"
   },
   {
    "duration": 261,
    "start_time": "2024-02-02T14:47:29.804Z"
   },
   {
    "duration": 16,
    "start_time": "2024-02-02T14:47:30.066Z"
   },
   {
    "duration": 232,
    "start_time": "2024-02-02T14:47:30.084Z"
   },
   {
    "duration": 4,
    "start_time": "2024-02-02T14:47:30.318Z"
   },
   {
    "duration": 144,
    "start_time": "2024-02-02T14:47:30.323Z"
   },
   {
    "duration": 281,
    "start_time": "2024-02-02T14:47:30.469Z"
   },
   {
    "duration": 262,
    "start_time": "2024-02-02T14:47:30.752Z"
   },
   {
    "duration": 311,
    "start_time": "2024-02-02T14:47:31.015Z"
   },
   {
    "duration": 411,
    "start_time": "2024-02-02T14:47:31.328Z"
   },
   {
    "duration": 11,
    "start_time": "2024-02-02T14:47:31.741Z"
   },
   {
    "duration": 87,
    "start_time": "2024-02-02T14:47:31.753Z"
   },
   {
    "duration": 193,
    "start_time": "2024-02-02T14:47:31.841Z"
   },
   {
    "duration": 581,
    "start_time": "2024-02-02T14:47:32.036Z"
   },
   {
    "duration": 24,
    "start_time": "2024-02-02T14:47:32.619Z"
   },
   {
    "duration": 47,
    "start_time": "2024-02-02T14:47:32.645Z"
   },
   {
    "duration": 68,
    "start_time": "2024-02-02T14:47:32.694Z"
   },
   {
    "duration": 0,
    "start_time": "2024-02-02T14:47:32.764Z"
   },
   {
    "duration": 0,
    "start_time": "2024-02-02T14:47:32.765Z"
   },
   {
    "duration": 0,
    "start_time": "2024-02-02T14:47:32.766Z"
   },
   {
    "duration": 0,
    "start_time": "2024-02-02T14:47:32.767Z"
   },
   {
    "duration": 0,
    "start_time": "2024-02-02T14:47:32.768Z"
   },
   {
    "duration": 0,
    "start_time": "2024-02-02T14:47:32.769Z"
   },
   {
    "duration": 0,
    "start_time": "2024-02-02T14:47:32.770Z"
   },
   {
    "duration": 0,
    "start_time": "2024-02-02T14:50:15.410Z"
   },
   {
    "duration": 2459,
    "start_time": "2024-02-02T14:50:20.950Z"
   },
   {
    "duration": 2386,
    "start_time": "2024-02-02T14:50:23.411Z"
   },
   {
    "duration": 2560,
    "start_time": "2024-02-02T14:50:25.799Z"
   },
   {
    "duration": 2358,
    "start_time": "2024-02-02T14:50:28.361Z"
   },
   {
    "duration": 1443,
    "start_time": "2024-02-02T14:50:30.722Z"
   },
   {
    "duration": 2,
    "start_time": "2024-02-02T14:50:32.167Z"
   },
   {
    "duration": 1110,
    "start_time": "2024-02-02T14:50:32.171Z"
   },
   {
    "duration": 59,
    "start_time": "2024-02-02T14:50:33.282Z"
   },
   {
    "duration": 191,
    "start_time": "2024-02-02T14:50:33.342Z"
   },
   {
    "duration": 383,
    "start_time": "2024-02-02T14:50:33.534Z"
   },
   {
    "duration": 469,
    "start_time": "2024-02-02T14:50:33.919Z"
   },
   {
    "duration": 550,
    "start_time": "2024-02-02T14:50:34.389Z"
   },
   {
    "duration": 310,
    "start_time": "2024-02-02T14:50:34.941Z"
   },
   {
    "duration": 252,
    "start_time": "2024-02-02T14:50:35.255Z"
   },
   {
    "duration": 217,
    "start_time": "2024-02-02T14:50:35.509Z"
   },
   {
    "duration": 110,
    "start_time": "2024-02-02T14:50:35.727Z"
   },
   {
    "duration": 105,
    "start_time": "2024-02-02T14:50:35.839Z"
   },
   {
    "duration": 240,
    "start_time": "2024-02-02T14:50:35.946Z"
   },
   {
    "duration": 24,
    "start_time": "2024-02-02T14:50:36.188Z"
   },
   {
    "duration": 3,
    "start_time": "2024-02-02T14:50:36.214Z"
   },
   {
    "duration": 25,
    "start_time": "2024-02-02T14:50:36.218Z"
   },
   {
    "duration": 33,
    "start_time": "2024-02-02T14:50:36.245Z"
   },
   {
    "duration": 245,
    "start_time": "2024-02-02T14:50:36.280Z"
   },
   {
    "duration": 17,
    "start_time": "2024-02-02T14:50:36.527Z"
   },
   {
    "duration": 226,
    "start_time": "2024-02-02T14:50:36.545Z"
   },
   {
    "duration": 3,
    "start_time": "2024-02-02T14:50:36.773Z"
   },
   {
    "duration": 58,
    "start_time": "2024-02-02T14:50:36.778Z"
   },
   {
    "duration": 278,
    "start_time": "2024-02-02T14:50:36.837Z"
   },
   {
    "duration": 219,
    "start_time": "2024-02-02T14:50:37.117Z"
   },
   {
    "duration": 230,
    "start_time": "2024-02-02T14:50:37.337Z"
   },
   {
    "duration": 48,
    "start_time": "2024-02-02T14:50:37.568Z"
   },
   {
    "duration": 25,
    "start_time": "2024-02-02T14:50:37.618Z"
   },
   {
    "duration": 101,
    "start_time": "2024-02-02T14:50:37.646Z"
   },
   {
    "duration": 220,
    "start_time": "2024-02-02T14:50:37.749Z"
   },
   {
    "duration": 575,
    "start_time": "2024-02-02T14:50:37.971Z"
   },
   {
    "duration": 15,
    "start_time": "2024-02-02T14:50:38.549Z"
   },
   {
    "duration": 69,
    "start_time": "2024-02-02T14:50:38.566Z"
   },
   {
    "duration": 70,
    "start_time": "2024-02-02T14:50:38.637Z"
   },
   {
    "duration": 0,
    "start_time": "2024-02-02T14:50:38.709Z"
   },
   {
    "duration": 0,
    "start_time": "2024-02-02T14:50:38.711Z"
   },
   {
    "duration": 0,
    "start_time": "2024-02-02T14:50:38.712Z"
   },
   {
    "duration": 0,
    "start_time": "2024-02-02T14:50:38.713Z"
   },
   {
    "duration": 0,
    "start_time": "2024-02-02T14:50:38.715Z"
   },
   {
    "duration": 0,
    "start_time": "2024-02-02T14:50:38.717Z"
   },
   {
    "duration": 0,
    "start_time": "2024-02-02T14:50:38.718Z"
   },
   {
    "duration": 15234,
    "start_time": "2024-02-02T14:53:42.021Z"
   },
   {
    "duration": 15407,
    "start_time": "2024-02-02T14:54:28.019Z"
   },
   {
    "duration": 39,
    "start_time": "2024-02-02T14:54:45.755Z"
   },
   {
    "duration": 39183,
    "start_time": "2024-02-02T14:54:51.662Z"
   },
   {
    "duration": 94992,
    "start_time": "2024-02-02T14:55:35.343Z"
   },
   {
    "duration": 5060,
    "start_time": "2024-02-02T14:57:12.478Z"
   },
   {
    "duration": 4,
    "start_time": "2024-02-02T14:57:24.312Z"
   },
   {
    "duration": 1144181,
    "start_time": "2024-02-02T14:57:29.860Z"
   },
   {
    "duration": 23,
    "start_time": "2024-02-02T15:16:34.043Z"
   },
   {
    "duration": 2,
    "start_time": "2024-02-02T15:19:22.908Z"
   },
   {
    "duration": 4,
    "start_time": "2024-02-02T15:19:38.925Z"
   },
   {
    "duration": 2,
    "start_time": "2024-02-02T15:21:18.985Z"
   },
   {
    "duration": 22109,
    "start_time": "2024-02-02T15:21:50.573Z"
   },
   {
    "duration": 4349,
    "start_time": "2024-02-02T15:23:13.402Z"
   },
   {
    "duration": 5861,
    "start_time": "2024-02-02T15:24:32.562Z"
   },
   {
    "duration": 21224,
    "start_time": "2024-02-02T15:25:01.365Z"
   },
   {
    "duration": 2435,
    "start_time": "2024-02-02T15:30:54.271Z"
   },
   {
    "duration": 2398,
    "start_time": "2024-02-02T15:31:14.105Z"
   },
   {
    "duration": 2846,
    "start_time": "2024-02-02T15:31:16.506Z"
   },
   {
    "duration": 3826,
    "start_time": "2024-02-02T15:31:19.354Z"
   },
   {
    "duration": 2459,
    "start_time": "2024-02-02T15:31:23.181Z"
   },
   {
    "duration": 1448,
    "start_time": "2024-02-02T15:31:25.643Z"
   },
   {
    "duration": 2,
    "start_time": "2024-02-02T15:31:27.093Z"
   },
   {
    "duration": 1008,
    "start_time": "2024-02-02T15:31:27.096Z"
   },
   {
    "duration": 60,
    "start_time": "2024-02-02T15:31:28.105Z"
   },
   {
    "duration": 218,
    "start_time": "2024-02-02T15:31:28.166Z"
   },
   {
    "duration": 343,
    "start_time": "2024-02-02T15:31:28.386Z"
   },
   {
    "duration": 415,
    "start_time": "2024-02-02T15:31:28.732Z"
   },
   {
    "duration": 540,
    "start_time": "2024-02-02T15:31:29.149Z"
   },
   {
    "duration": 289,
    "start_time": "2024-02-02T15:31:29.691Z"
   },
   {
    "duration": 251,
    "start_time": "2024-02-02T15:31:29.983Z"
   },
   {
    "duration": 233,
    "start_time": "2024-02-02T15:31:30.236Z"
   },
   {
    "duration": 97,
    "start_time": "2024-02-02T15:31:30.471Z"
   },
   {
    "duration": 98,
    "start_time": "2024-02-02T15:31:30.570Z"
   },
   {
    "duration": 229,
    "start_time": "2024-02-02T15:31:30.670Z"
   },
   {
    "duration": 32,
    "start_time": "2024-02-02T15:31:30.901Z"
   },
   {
    "duration": 46,
    "start_time": "2024-02-02T15:31:30.935Z"
   },
   {
    "duration": 19,
    "start_time": "2024-02-02T15:31:30.983Z"
   },
   {
    "duration": 41,
    "start_time": "2024-02-02T15:31:31.004Z"
   },
   {
    "duration": 255,
    "start_time": "2024-02-02T15:31:31.046Z"
   },
   {
    "duration": 15,
    "start_time": "2024-02-02T15:31:31.303Z"
   },
   {
    "duration": 225,
    "start_time": "2024-02-02T15:31:31.319Z"
   },
   {
    "duration": 4,
    "start_time": "2024-02-02T15:31:31.546Z"
   },
   {
    "duration": 78,
    "start_time": "2024-02-02T15:31:31.552Z"
   },
   {
    "duration": 288,
    "start_time": "2024-02-02T15:31:31.632Z"
   },
   {
    "duration": 211,
    "start_time": "2024-02-02T15:31:31.922Z"
   },
   {
    "duration": 206,
    "start_time": "2024-02-02T15:31:32.135Z"
   },
   {
    "duration": 48,
    "start_time": "2024-02-02T15:31:32.343Z"
   },
   {
    "duration": 9,
    "start_time": "2024-02-02T15:31:32.393Z"
   },
   {
    "duration": 114,
    "start_time": "2024-02-02T15:31:32.404Z"
   },
   {
    "duration": 198,
    "start_time": "2024-02-02T15:31:32.520Z"
   },
   {
    "duration": 574,
    "start_time": "2024-02-02T15:31:32.720Z"
   },
   {
    "duration": 16,
    "start_time": "2024-02-02T15:31:33.296Z"
   },
   {
    "duration": 67,
    "start_time": "2024-02-02T15:31:33.313Z"
   },
   {
    "duration": 73,
    "start_time": "2024-02-02T15:31:33.381Z"
   },
   {
    "duration": 0,
    "start_time": "2024-02-02T15:31:33.456Z"
   },
   {
    "duration": 0,
    "start_time": "2024-02-02T15:31:33.457Z"
   },
   {
    "duration": 1,
    "start_time": "2024-02-02T15:31:33.458Z"
   },
   {
    "duration": 0,
    "start_time": "2024-02-02T15:31:33.460Z"
   },
   {
    "duration": 0,
    "start_time": "2024-02-02T15:31:33.461Z"
   },
   {
    "duration": 0,
    "start_time": "2024-02-02T15:31:33.462Z"
   },
   {
    "duration": 0,
    "start_time": "2024-02-02T15:31:33.463Z"
   },
   {
    "duration": 0,
    "start_time": "2024-02-02T15:31:33.464Z"
   },
   {
    "duration": 783543,
    "start_time": "2024-02-02T15:31:47.492Z"
   },
   {
    "duration": 2376,
    "start_time": "2024-02-02T15:45:25.269Z"
   },
   {
    "duration": 2363,
    "start_time": "2024-02-02T15:45:27.647Z"
   },
   {
    "duration": 2567,
    "start_time": "2024-02-02T15:45:30.011Z"
   },
   {
    "duration": 2363,
    "start_time": "2024-02-02T15:45:32.580Z"
   },
   {
    "duration": 3535,
    "start_time": "2024-02-02T15:45:34.945Z"
   },
   {
    "duration": 2,
    "start_time": "2024-02-02T15:45:38.481Z"
   },
   {
    "duration": 968,
    "start_time": "2024-02-02T15:45:38.484Z"
   },
   {
    "duration": 55,
    "start_time": "2024-02-02T15:45:39.453Z"
   },
   {
    "duration": 196,
    "start_time": "2024-02-02T15:45:39.509Z"
   },
   {
    "duration": 362,
    "start_time": "2024-02-02T15:45:39.707Z"
   },
   {
    "duration": 422,
    "start_time": "2024-02-02T15:45:40.070Z"
   },
   {
    "duration": 536,
    "start_time": "2024-02-02T15:45:40.493Z"
   },
   {
    "duration": 297,
    "start_time": "2024-02-02T15:45:41.031Z"
   },
   {
    "duration": 246,
    "start_time": "2024-02-02T15:45:41.330Z"
   },
   {
    "duration": 192,
    "start_time": "2024-02-02T15:45:41.577Z"
   },
   {
    "duration": 105,
    "start_time": "2024-02-02T15:45:41.771Z"
   },
   {
    "duration": 92,
    "start_time": "2024-02-02T15:45:41.878Z"
   },
   {
    "duration": 246,
    "start_time": "2024-02-02T15:45:41.972Z"
   },
   {
    "duration": 33,
    "start_time": "2024-02-02T15:45:42.220Z"
   },
   {
    "duration": 3,
    "start_time": "2024-02-02T15:45:42.254Z"
   },
   {
    "duration": 5,
    "start_time": "2024-02-02T15:45:42.258Z"
   },
   {
    "duration": 18,
    "start_time": "2024-02-02T15:45:42.264Z"
   },
   {
    "duration": 231,
    "start_time": "2024-02-02T15:45:42.283Z"
   },
   {
    "duration": 28,
    "start_time": "2024-02-02T15:45:42.516Z"
   },
   {
    "duration": 211,
    "start_time": "2024-02-02T15:45:42.546Z"
   },
   {
    "duration": 3,
    "start_time": "2024-02-02T15:45:42.759Z"
   },
   {
    "duration": 52,
    "start_time": "2024-02-02T15:45:42.764Z"
   },
   {
    "duration": 287,
    "start_time": "2024-02-02T15:45:42.832Z"
   },
   {
    "duration": 219,
    "start_time": "2024-02-02T15:45:43.121Z"
   },
   {
    "duration": 204,
    "start_time": "2024-02-02T15:45:43.342Z"
   },
   {
    "duration": 49,
    "start_time": "2024-02-02T15:45:43.547Z"
   },
   {
    "duration": 9,
    "start_time": "2024-02-02T15:45:43.598Z"
   },
   {
    "duration": 130,
    "start_time": "2024-02-02T15:45:43.608Z"
   },
   {
    "duration": 199,
    "start_time": "2024-02-02T15:45:43.740Z"
   },
   {
    "duration": 556,
    "start_time": "2024-02-02T15:45:43.941Z"
   },
   {
    "duration": 19,
    "start_time": "2024-02-02T15:45:44.499Z"
   },
   {
    "duration": 59,
    "start_time": "2024-02-02T15:45:44.520Z"
   },
   {
    "duration": 106,
    "start_time": "2024-02-02T15:45:44.581Z"
   },
   {
    "duration": 0,
    "start_time": "2024-02-02T15:45:44.688Z"
   },
   {
    "duration": 0,
    "start_time": "2024-02-02T15:45:44.689Z"
   },
   {
    "duration": 0,
    "start_time": "2024-02-02T15:45:44.691Z"
   },
   {
    "duration": 0,
    "start_time": "2024-02-02T15:45:44.692Z"
   },
   {
    "duration": 0,
    "start_time": "2024-02-02T15:45:44.693Z"
   },
   {
    "duration": 0,
    "start_time": "2024-02-02T15:45:44.694Z"
   },
   {
    "duration": 0,
    "start_time": "2024-02-02T15:45:44.695Z"
   },
   {
    "duration": 0,
    "start_time": "2024-02-02T15:45:44.696Z"
   },
   {
    "duration": 2088927,
    "start_time": "2024-02-02T15:46:11.686Z"
   },
   {
    "duration": 2568,
    "start_time": "2024-02-02T16:21:32.794Z"
   },
   {
    "duration": 2385,
    "start_time": "2024-02-02T16:21:35.365Z"
   },
   {
    "duration": 2625,
    "start_time": "2024-02-02T16:21:37.752Z"
   },
   {
    "duration": 2445,
    "start_time": "2024-02-02T16:21:40.379Z"
   },
   {
    "duration": 1500,
    "start_time": "2024-02-02T16:21:42.826Z"
   },
   {
    "duration": 2,
    "start_time": "2024-02-02T16:21:44.328Z"
   },
   {
    "duration": 974,
    "start_time": "2024-02-02T16:21:44.332Z"
   },
   {
    "duration": 53,
    "start_time": "2024-02-02T16:21:45.308Z"
   },
   {
    "duration": 188,
    "start_time": "2024-02-02T16:21:45.363Z"
   },
   {
    "duration": 352,
    "start_time": "2024-02-02T16:21:45.552Z"
   },
   {
    "duration": 425,
    "start_time": "2024-02-02T16:21:45.906Z"
   },
   {
    "duration": 545,
    "start_time": "2024-02-02T16:21:46.333Z"
   },
   {
    "duration": 265,
    "start_time": "2024-02-02T16:21:46.880Z"
   },
   {
    "duration": 248,
    "start_time": "2024-02-02T16:21:47.147Z"
   },
   {
    "duration": 207,
    "start_time": "2024-02-02T16:21:47.396Z"
   },
   {
    "duration": 97,
    "start_time": "2024-02-02T16:21:47.604Z"
   },
   {
    "duration": 106,
    "start_time": "2024-02-02T16:21:47.702Z"
   },
   {
    "duration": 250,
    "start_time": "2024-02-02T16:21:47.809Z"
   },
   {
    "duration": 24,
    "start_time": "2024-02-02T16:21:48.061Z"
   },
   {
    "duration": 2,
    "start_time": "2024-02-02T16:21:48.086Z"
   },
   {
    "duration": 4,
    "start_time": "2024-02-02T16:21:48.090Z"
   },
   {
    "duration": 39,
    "start_time": "2024-02-02T16:21:48.095Z"
   },
   {
    "duration": 238,
    "start_time": "2024-02-02T16:21:48.136Z"
   },
   {
    "duration": 16,
    "start_time": "2024-02-02T16:21:48.376Z"
   },
   {
    "duration": 223,
    "start_time": "2024-02-02T16:21:48.393Z"
   },
   {
    "duration": 4,
    "start_time": "2024-02-02T16:21:48.617Z"
   },
   {
    "duration": 62,
    "start_time": "2024-02-02T16:21:48.623Z"
   },
   {
    "duration": 294,
    "start_time": "2024-02-02T16:21:48.686Z"
   },
   {
    "duration": 217,
    "start_time": "2024-02-02T16:21:48.982Z"
   },
   {
    "duration": 202,
    "start_time": "2024-02-02T16:21:49.201Z"
   },
   {
    "duration": 58,
    "start_time": "2024-02-02T16:21:49.405Z"
   },
   {
    "duration": 10,
    "start_time": "2024-02-02T16:21:49.465Z"
   },
   {
    "duration": 87,
    "start_time": "2024-02-02T16:21:49.476Z"
   },
   {
    "duration": 200,
    "start_time": "2024-02-02T16:21:49.565Z"
   },
   {
    "duration": 564,
    "start_time": "2024-02-02T16:21:49.766Z"
   },
   {
    "duration": 21,
    "start_time": "2024-02-02T16:21:50.332Z"
   },
   {
    "duration": 49,
    "start_time": "2024-02-02T16:21:50.354Z"
   },
   {
    "duration": 76,
    "start_time": "2024-02-02T16:21:50.405Z"
   },
   {
    "duration": 0,
    "start_time": "2024-02-02T16:21:50.483Z"
   },
   {
    "duration": 0,
    "start_time": "2024-02-02T16:21:50.485Z"
   },
   {
    "duration": 0,
    "start_time": "2024-02-02T16:21:50.486Z"
   },
   {
    "duration": 0,
    "start_time": "2024-02-02T16:21:50.487Z"
   },
   {
    "duration": 0,
    "start_time": "2024-02-02T16:21:50.488Z"
   },
   {
    "duration": 0,
    "start_time": "2024-02-02T16:21:50.489Z"
   },
   {
    "duration": 0,
    "start_time": "2024-02-02T16:21:50.490Z"
   },
   {
    "duration": 0,
    "start_time": "2024-02-02T16:21:50.491Z"
   },
   {
    "duration": 2667906,
    "start_time": "2024-02-02T16:22:14.616Z"
   },
   {
    "duration": 660,
    "start_time": "2024-02-02T17:12:04.397Z"
   },
   {
    "duration": 196,
    "start_time": "2024-02-02T17:12:40.147Z"
   },
   {
    "duration": 14,
    "start_time": "2024-02-02T17:13:00.634Z"
   },
   {
    "duration": 5,
    "start_time": "2024-02-02T17:13:55.473Z"
   },
   {
    "duration": 3,
    "start_time": "2024-02-02T17:14:55.347Z"
   },
   {
    "duration": 2557,
    "start_time": "2024-02-02T17:16:06.232Z"
   },
   {
    "duration": 2357,
    "start_time": "2024-02-02T17:16:08.792Z"
   },
   {
    "duration": 2586,
    "start_time": "2024-02-02T17:16:11.151Z"
   },
   {
    "duration": 2539,
    "start_time": "2024-02-02T17:16:13.739Z"
   },
   {
    "duration": 2454,
    "start_time": "2024-02-02T17:16:16.279Z"
   },
   {
    "duration": 3,
    "start_time": "2024-02-02T17:16:18.734Z"
   },
   {
    "duration": 1521,
    "start_time": "2024-02-02T17:16:18.738Z"
   },
   {
    "duration": 53,
    "start_time": "2024-02-02T17:16:20.260Z"
   },
   {
    "duration": 205,
    "start_time": "2024-02-02T17:16:20.315Z"
   },
   {
    "duration": 378,
    "start_time": "2024-02-02T17:16:20.523Z"
   },
   {
    "duration": 463,
    "start_time": "2024-02-02T17:16:20.903Z"
   },
   {
    "duration": 616,
    "start_time": "2024-02-02T17:16:21.368Z"
   },
   {
    "duration": 313,
    "start_time": "2024-02-02T17:16:21.985Z"
   },
   {
    "duration": 228,
    "start_time": "2024-02-02T17:16:22.299Z"
   },
   {
    "duration": 195,
    "start_time": "2024-02-02T17:16:22.529Z"
   },
   {
    "duration": 96,
    "start_time": "2024-02-02T17:16:22.725Z"
   },
   {
    "duration": 151,
    "start_time": "2024-02-02T17:16:22.823Z"
   },
   {
    "duration": 302,
    "start_time": "2024-02-02T17:16:22.976Z"
   },
   {
    "duration": 23,
    "start_time": "2024-02-02T17:16:23.280Z"
   },
   {
    "duration": 2,
    "start_time": "2024-02-02T17:16:23.305Z"
   },
   {
    "duration": 27,
    "start_time": "2024-02-02T17:16:23.308Z"
   },
   {
    "duration": 21,
    "start_time": "2024-02-02T17:16:23.337Z"
   },
   {
    "duration": 263,
    "start_time": "2024-02-02T17:16:23.360Z"
   },
   {
    "duration": 20,
    "start_time": "2024-02-02T17:16:23.633Z"
   },
   {
    "duration": 242,
    "start_time": "2024-02-02T17:16:23.655Z"
   },
   {
    "duration": 4,
    "start_time": "2024-02-02T17:16:23.898Z"
   },
   {
    "duration": 69,
    "start_time": "2024-02-02T17:16:23.903Z"
   },
   {
    "duration": 323,
    "start_time": "2024-02-02T17:16:23.976Z"
   },
   {
    "duration": 246,
    "start_time": "2024-02-02T17:16:24.301Z"
   },
   {
    "duration": 214,
    "start_time": "2024-02-02T17:16:24.549Z"
   },
   {
    "duration": 49,
    "start_time": "2024-02-02T17:16:24.764Z"
   },
   {
    "duration": 23,
    "start_time": "2024-02-02T17:16:24.814Z"
   },
   {
    "duration": 75,
    "start_time": "2024-02-02T17:16:24.839Z"
   },
   {
    "duration": 210,
    "start_time": "2024-02-02T17:16:24.916Z"
   },
   {
    "duration": 580,
    "start_time": "2024-02-02T17:16:25.127Z"
   },
   {
    "duration": 32,
    "start_time": "2024-02-02T17:16:25.710Z"
   },
   {
    "duration": 60,
    "start_time": "2024-02-02T17:16:25.744Z"
   },
   {
    "duration": 82,
    "start_time": "2024-02-02T17:16:25.806Z"
   },
   {
    "duration": 0,
    "start_time": "2024-02-02T17:16:25.890Z"
   },
   {
    "duration": 0,
    "start_time": "2024-02-02T17:16:25.891Z"
   },
   {
    "duration": 0,
    "start_time": "2024-02-02T17:16:25.892Z"
   },
   {
    "duration": 0,
    "start_time": "2024-02-02T17:16:25.893Z"
   },
   {
    "duration": 0,
    "start_time": "2024-02-02T17:16:25.895Z"
   },
   {
    "duration": 0,
    "start_time": "2024-02-02T17:16:25.896Z"
   },
   {
    "duration": 0,
    "start_time": "2024-02-02T17:16:25.897Z"
   },
   {
    "duration": 0,
    "start_time": "2024-02-02T17:16:25.898Z"
   },
   {
    "duration": 0,
    "start_time": "2024-02-02T17:16:25.899Z"
   },
   {
    "duration": 0,
    "start_time": "2024-02-02T17:16:25.900Z"
   },
   {
    "duration": 103789,
    "start_time": "2024-02-02T17:16:58.749Z"
   },
   {
    "duration": 3489,
    "start_time": "2024-02-02T17:18:42.540Z"
   },
   {
    "duration": 4,
    "start_time": "2024-02-02T17:18:46.033Z"
   },
   {
    "duration": 700,
    "start_time": "2024-02-02T17:19:13.338Z"
   },
   {
    "duration": 15,
    "start_time": "2024-02-02T17:19:14.163Z"
   },
   {
    "duration": 5,
    "start_time": "2024-02-02T17:19:23.030Z"
   },
   {
    "duration": 385422,
    "start_time": "2024-02-02T17:22:18.123Z"
   },
   {
    "duration": 1018,
    "start_time": "2024-02-02T17:28:43.547Z"
   },
   {
    "duration": 5,
    "start_time": "2024-02-02T17:28:44.567Z"
   },
   {
    "duration": 2491,
    "start_time": "2024-02-02T17:32:11.287Z"
   },
   {
    "duration": 2468,
    "start_time": "2024-02-02T17:32:13.780Z"
   },
   {
    "duration": 2584,
    "start_time": "2024-02-02T17:32:16.250Z"
   },
   {
    "duration": 2434,
    "start_time": "2024-02-02T17:32:18.836Z"
   },
   {
    "duration": 1439,
    "start_time": "2024-02-02T17:32:21.273Z"
   },
   {
    "duration": 2,
    "start_time": "2024-02-02T17:32:22.713Z"
   },
   {
    "duration": 982,
    "start_time": "2024-02-02T17:32:22.717Z"
   },
   {
    "duration": 55,
    "start_time": "2024-02-02T17:32:23.701Z"
   },
   {
    "duration": 195,
    "start_time": "2024-02-02T17:32:23.757Z"
   },
   {
    "duration": 356,
    "start_time": "2024-02-02T17:32:23.954Z"
   },
   {
    "duration": 460,
    "start_time": "2024-02-02T17:32:24.311Z"
   },
   {
    "duration": 544,
    "start_time": "2024-02-02T17:32:24.773Z"
   },
   {
    "duration": 286,
    "start_time": "2024-02-02T17:32:25.319Z"
   },
   {
    "duration": 280,
    "start_time": "2024-02-02T17:32:25.609Z"
   },
   {
    "duration": 210,
    "start_time": "2024-02-02T17:32:25.891Z"
   },
   {
    "duration": 109,
    "start_time": "2024-02-02T17:32:26.103Z"
   },
   {
    "duration": 120,
    "start_time": "2024-02-02T17:32:26.214Z"
   },
   {
    "duration": 243,
    "start_time": "2024-02-02T17:32:26.336Z"
   },
   {
    "duration": 24,
    "start_time": "2024-02-02T17:32:26.580Z"
   },
   {
    "duration": 9,
    "start_time": "2024-02-02T17:32:26.606Z"
   },
   {
    "duration": 5,
    "start_time": "2024-02-02T17:32:26.617Z"
   },
   {
    "duration": 31,
    "start_time": "2024-02-02T17:32:26.623Z"
   },
   {
    "duration": 231,
    "start_time": "2024-02-02T17:32:26.655Z"
   },
   {
    "duration": 16,
    "start_time": "2024-02-02T17:32:26.888Z"
   },
   {
    "duration": 231,
    "start_time": "2024-02-02T17:32:26.906Z"
   },
   {
    "duration": 3,
    "start_time": "2024-02-02T17:32:27.139Z"
   },
   {
    "duration": 69,
    "start_time": "2024-02-02T17:32:27.144Z"
   },
   {
    "duration": 321,
    "start_time": "2024-02-02T17:32:27.215Z"
   },
   {
    "duration": 240,
    "start_time": "2024-02-02T17:32:27.537Z"
   },
   {
    "duration": 218,
    "start_time": "2024-02-02T17:32:27.779Z"
   },
   {
    "duration": 54,
    "start_time": "2024-02-02T17:32:27.999Z"
   },
   {
    "duration": 10,
    "start_time": "2024-02-02T17:32:28.055Z"
   },
   {
    "duration": 106,
    "start_time": "2024-02-02T17:32:28.067Z"
   },
   {
    "duration": 194,
    "start_time": "2024-02-02T17:32:28.175Z"
   },
   {
    "duration": 577,
    "start_time": "2024-02-02T17:32:28.371Z"
   },
   {
    "duration": 19,
    "start_time": "2024-02-02T17:32:28.949Z"
   },
   {
    "duration": 46,
    "start_time": "2024-02-02T17:32:28.970Z"
   },
   {
    "duration": 129,
    "start_time": "2024-02-02T17:32:29.017Z"
   },
   {
    "duration": 0,
    "start_time": "2024-02-02T17:32:29.148Z"
   },
   {
    "duration": 0,
    "start_time": "2024-02-02T17:32:29.149Z"
   },
   {
    "duration": 0,
    "start_time": "2024-02-02T17:32:29.150Z"
   },
   {
    "duration": 0,
    "start_time": "2024-02-02T17:32:29.151Z"
   },
   {
    "duration": 0,
    "start_time": "2024-02-02T17:32:29.153Z"
   },
   {
    "duration": 0,
    "start_time": "2024-02-02T17:32:29.153Z"
   },
   {
    "duration": 0,
    "start_time": "2024-02-02T17:32:29.154Z"
   },
   {
    "duration": 0,
    "start_time": "2024-02-02T17:32:29.155Z"
   },
   {
    "duration": 0,
    "start_time": "2024-02-02T17:32:29.156Z"
   },
   {
    "duration": 0,
    "start_time": "2024-02-02T17:32:29.157Z"
   },
   {
    "duration": 0,
    "start_time": "2024-02-02T17:32:29.158Z"
   },
   {
    "duration": 0,
    "start_time": "2024-02-02T17:32:29.160Z"
   },
   {
    "duration": 0,
    "start_time": "2024-02-02T17:32:29.161Z"
   },
   {
    "duration": 0,
    "start_time": "2024-02-02T17:32:29.162Z"
   },
   {
    "duration": 0,
    "start_time": "2024-02-02T17:32:29.163Z"
   },
   {
    "duration": 0,
    "start_time": "2024-02-02T17:32:29.164Z"
   },
   {
    "duration": 0,
    "start_time": "2024-02-02T17:32:29.165Z"
   },
   {
    "duration": 693,
    "start_time": "2024-02-02T17:32:42.828Z"
   },
   {
    "duration": 105315,
    "start_time": "2024-02-02T17:32:48.007Z"
   },
   {
    "duration": 3501,
    "start_time": "2024-02-02T17:34:33.324Z"
   },
   {
    "duration": 6,
    "start_time": "2024-02-02T17:34:36.827Z"
   },
   {
    "duration": 62573,
    "start_time": "2024-02-02T17:37:42.871Z"
   },
   {
    "duration": 999,
    "start_time": "2024-02-02T17:38:45.446Z"
   },
   {
    "duration": 4,
    "start_time": "2024-02-02T17:38:46.447Z"
   },
   {
    "duration": 27727,
    "start_time": "2024-02-02T17:38:46.453Z"
   },
   {
    "duration": 75,
    "start_time": "2024-02-02T17:39:14.181Z"
   },
   {
    "duration": 6,
    "start_time": "2024-02-02T17:39:14.258Z"
   },
   {
    "duration": 2656,
    "start_time": "2024-02-02T18:48:49.708Z"
   },
   {
    "duration": 2535,
    "start_time": "2024-02-02T18:48:52.366Z"
   },
   {
    "duration": 8468,
    "start_time": "2024-02-02T18:48:54.903Z"
   },
   {
    "duration": 2737,
    "start_time": "2024-02-02T18:49:03.373Z"
   },
   {
    "duration": 2056,
    "start_time": "2024-02-02T18:49:06.112Z"
   },
   {
    "duration": 3,
    "start_time": "2024-02-02T18:49:08.169Z"
   },
   {
    "duration": 1271,
    "start_time": "2024-02-02T18:49:08.174Z"
   },
   {
    "duration": 80,
    "start_time": "2024-02-02T18:49:09.446Z"
   },
   {
    "duration": 196,
    "start_time": "2024-02-02T18:49:09.527Z"
   },
   {
    "duration": 454,
    "start_time": "2024-02-02T18:49:09.726Z"
   },
   {
    "duration": 458,
    "start_time": "2024-02-02T18:49:10.182Z"
   },
   {
    "duration": 555,
    "start_time": "2024-02-02T18:49:10.642Z"
   },
   {
    "duration": 286,
    "start_time": "2024-02-02T18:49:11.199Z"
   },
   {
    "duration": 245,
    "start_time": "2024-02-02T18:49:11.487Z"
   },
   {
    "duration": 212,
    "start_time": "2024-02-02T18:49:11.734Z"
   },
   {
    "duration": 109,
    "start_time": "2024-02-02T18:49:11.947Z"
   },
   {
    "duration": 117,
    "start_time": "2024-02-02T18:49:12.057Z"
   },
   {
    "duration": 267,
    "start_time": "2024-02-02T18:49:12.175Z"
   },
   {
    "duration": 24,
    "start_time": "2024-02-02T18:49:12.443Z"
   },
   {
    "duration": 21572,
    "start_time": "2024-02-02T18:49:12.469Z"
   },
   {
    "duration": 391,
    "start_time": "2024-02-02T18:49:34.043Z"
   },
   {
    "duration": 17,
    "start_time": "2024-02-02T18:49:34.435Z"
   },
   {
    "duration": 532,
    "start_time": "2024-02-02T18:49:34.453Z"
   },
   {
    "duration": 0,
    "start_time": "2024-02-02T18:49:34.988Z"
   },
   {
    "duration": 0,
    "start_time": "2024-02-02T18:49:34.989Z"
   },
   {
    "duration": 0,
    "start_time": "2024-02-02T18:49:34.990Z"
   },
   {
    "duration": 0,
    "start_time": "2024-02-02T18:49:34.991Z"
   },
   {
    "duration": 0,
    "start_time": "2024-02-02T18:49:34.992Z"
   },
   {
    "duration": 1,
    "start_time": "2024-02-02T18:49:34.995Z"
   },
   {
    "duration": 0,
    "start_time": "2024-02-02T18:49:34.997Z"
   },
   {
    "duration": 0,
    "start_time": "2024-02-02T18:49:34.998Z"
   },
   {
    "duration": 0,
    "start_time": "2024-02-02T18:49:34.999Z"
   },
   {
    "duration": 0,
    "start_time": "2024-02-02T18:49:35.021Z"
   },
   {
    "duration": 1,
    "start_time": "2024-02-02T18:49:35.021Z"
   },
   {
    "duration": 0,
    "start_time": "2024-02-02T18:49:35.023Z"
   },
   {
    "duration": 0,
    "start_time": "2024-02-02T18:49:35.023Z"
   },
   {
    "duration": 0,
    "start_time": "2024-02-02T18:49:35.024Z"
   },
   {
    "duration": 0,
    "start_time": "2024-02-02T18:49:35.025Z"
   },
   {
    "duration": 1,
    "start_time": "2024-02-02T18:49:35.026Z"
   },
   {
    "duration": 0,
    "start_time": "2024-02-02T18:49:35.028Z"
   },
   {
    "duration": 0,
    "start_time": "2024-02-02T18:49:35.029Z"
   },
   {
    "duration": 0,
    "start_time": "2024-02-02T18:49:35.030Z"
   },
   {
    "duration": 0,
    "start_time": "2024-02-02T18:49:35.030Z"
   },
   {
    "duration": 0,
    "start_time": "2024-02-02T18:49:35.031Z"
   },
   {
    "duration": 0,
    "start_time": "2024-02-02T18:49:35.032Z"
   },
   {
    "duration": 0,
    "start_time": "2024-02-02T18:49:35.033Z"
   },
   {
    "duration": 0,
    "start_time": "2024-02-02T18:49:35.034Z"
   },
   {
    "duration": 0,
    "start_time": "2024-02-02T18:49:35.035Z"
   },
   {
    "duration": 0,
    "start_time": "2024-02-02T18:49:35.036Z"
   },
   {
    "duration": 0,
    "start_time": "2024-02-02T18:49:35.037Z"
   },
   {
    "duration": 0,
    "start_time": "2024-02-02T18:49:35.038Z"
   },
   {
    "duration": 0,
    "start_time": "2024-02-02T18:49:35.039Z"
   },
   {
    "duration": 0,
    "start_time": "2024-02-02T18:49:35.040Z"
   },
   {
    "duration": 426,
    "start_time": "2024-02-02T18:49:52.999Z"
   },
   {
    "duration": 18,
    "start_time": "2024-02-02T18:49:53.428Z"
   },
   {
    "duration": 476,
    "start_time": "2024-02-02T18:49:53.448Z"
   },
   {
    "duration": 3,
    "start_time": "2024-02-02T18:49:53.926Z"
   },
   {
    "duration": 60,
    "start_time": "2024-02-02T18:49:53.930Z"
   },
   {
    "duration": 416,
    "start_time": "2024-02-02T18:49:53.992Z"
   },
   {
    "duration": 420,
    "start_time": "2024-02-02T18:49:54.409Z"
   },
   {
    "duration": 411,
    "start_time": "2024-02-02T18:49:54.831Z"
   },
   {
    "duration": 58,
    "start_time": "2024-02-02T18:49:55.243Z"
   },
   {
    "duration": 20,
    "start_time": "2024-02-02T18:49:55.303Z"
   },
   {
    "duration": 88,
    "start_time": "2024-02-02T18:49:55.324Z"
   },
   {
    "duration": 248,
    "start_time": "2024-02-02T18:49:55.420Z"
   },
   {
    "duration": 1202,
    "start_time": "2024-02-02T18:49:55.721Z"
   },
   {
    "duration": 16,
    "start_time": "2024-02-02T18:49:56.924Z"
   },
   {
    "duration": 108,
    "start_time": "2024-02-02T18:49:56.942Z"
   },
   {
    "duration": 15939,
    "start_time": "2024-02-02T18:49:57.052Z"
   },
   {
    "duration": 2466,
    "start_time": "2024-02-02T18:57:55.922Z"
   },
   {
    "duration": 2423,
    "start_time": "2024-02-02T18:57:58.390Z"
   },
   {
    "duration": 2619,
    "start_time": "2024-02-02T18:58:00.815Z"
   },
   {
    "duration": 2399,
    "start_time": "2024-02-02T18:58:03.436Z"
   },
   {
    "duration": 1433,
    "start_time": "2024-02-02T18:58:05.838Z"
   },
   {
    "duration": 2,
    "start_time": "2024-02-02T18:58:07.273Z"
   },
   {
    "duration": 1061,
    "start_time": "2024-02-02T18:58:07.277Z"
   },
   {
    "duration": 51,
    "start_time": "2024-02-02T18:58:08.339Z"
   },
   {
    "duration": 197,
    "start_time": "2024-02-02T18:58:08.391Z"
   },
   {
    "duration": 360,
    "start_time": "2024-02-02T18:58:08.589Z"
   },
   {
    "duration": 449,
    "start_time": "2024-02-02T18:58:08.950Z"
   },
   {
    "duration": 579,
    "start_time": "2024-02-02T18:58:09.401Z"
   },
   {
    "duration": 275,
    "start_time": "2024-02-02T18:58:09.983Z"
   },
   {
    "duration": 267,
    "start_time": "2024-02-02T18:58:10.261Z"
   },
   {
    "duration": 204,
    "start_time": "2024-02-02T18:58:10.530Z"
   },
   {
    "duration": 98,
    "start_time": "2024-02-02T18:58:10.735Z"
   },
   {
    "duration": 98,
    "start_time": "2024-02-02T18:58:10.835Z"
   },
   {
    "duration": 239,
    "start_time": "2024-02-02T18:58:10.934Z"
   },
   {
    "duration": 24,
    "start_time": "2024-02-02T18:58:11.175Z"
   },
   {
    "duration": 17303,
    "start_time": "2024-02-02T18:58:11.201Z"
   },
   {
    "duration": 228,
    "start_time": "2024-02-02T18:58:28.506Z"
   },
   {
    "duration": 15,
    "start_time": "2024-02-02T18:58:28.735Z"
   },
   {
    "duration": 227,
    "start_time": "2024-02-02T18:58:28.751Z"
   },
   {
    "duration": 15,
    "start_time": "2024-02-02T18:58:28.979Z"
   },
   {
    "duration": 406,
    "start_time": "2024-02-02T18:58:28.996Z"
   },
   {
    "duration": 4,
    "start_time": "2024-02-02T18:58:29.403Z"
   },
   {
    "duration": 60,
    "start_time": "2024-02-02T18:58:29.409Z"
   },
   {
    "duration": 218,
    "start_time": "2024-02-02T18:58:29.470Z"
   },
   {
    "duration": 247,
    "start_time": "2024-02-02T18:58:29.690Z"
   },
   {
    "duration": 237,
    "start_time": "2024-02-02T18:58:29.938Z"
   },
   {
    "duration": 45,
    "start_time": "2024-02-02T18:58:30.176Z"
   },
   {
    "duration": 10,
    "start_time": "2024-02-02T18:58:30.232Z"
   },
   {
    "duration": 103,
    "start_time": "2024-02-02T18:58:30.244Z"
   },
   {
    "duration": 197,
    "start_time": "2024-02-02T18:58:30.348Z"
   },
   {
    "duration": 579,
    "start_time": "2024-02-02T18:58:30.546Z"
   },
   {
    "duration": 24,
    "start_time": "2024-02-02T18:58:31.127Z"
   },
   {
    "duration": 67,
    "start_time": "2024-02-02T18:58:31.152Z"
   },
   {
    "duration": 120,
    "start_time": "2024-02-02T18:58:31.234Z"
   },
   {
    "duration": 0,
    "start_time": "2024-02-02T18:58:31.357Z"
   },
   {
    "duration": 0,
    "start_time": "2024-02-02T18:58:31.358Z"
   },
   {
    "duration": 0,
    "start_time": "2024-02-02T18:58:31.359Z"
   },
   {
    "duration": 0,
    "start_time": "2024-02-02T18:58:31.360Z"
   },
   {
    "duration": 0,
    "start_time": "2024-02-02T18:58:31.361Z"
   },
   {
    "duration": 0,
    "start_time": "2024-02-02T18:58:31.362Z"
   },
   {
    "duration": 0,
    "start_time": "2024-02-02T18:58:31.363Z"
   },
   {
    "duration": 0,
    "start_time": "2024-02-02T18:58:31.364Z"
   },
   {
    "duration": 0,
    "start_time": "2024-02-02T18:58:31.365Z"
   },
   {
    "duration": 0,
    "start_time": "2024-02-02T18:58:31.366Z"
   },
   {
    "duration": 0,
    "start_time": "2024-02-02T18:58:31.367Z"
   },
   {
    "duration": 0,
    "start_time": "2024-02-02T18:58:31.368Z"
   },
   {
    "duration": 0,
    "start_time": "2024-02-02T18:58:31.369Z"
   },
   {
    "duration": 0,
    "start_time": "2024-02-02T18:58:31.370Z"
   },
   {
    "duration": 0,
    "start_time": "2024-02-02T18:58:31.371Z"
   },
   {
    "duration": 0,
    "start_time": "2024-02-02T18:58:31.373Z"
   },
   {
    "duration": 19,
    "start_time": "2024-02-02T19:00:25.466Z"
   },
   {
    "duration": 7,
    "start_time": "2024-02-02T19:01:42.259Z"
   },
   {
    "duration": 206,
    "start_time": "2024-02-02T19:02:30.631Z"
   },
   {
    "duration": 92,
    "start_time": "2024-02-02T19:02:48.975Z"
   },
   {
    "duration": 415,
    "start_time": "2024-02-02T19:02:56.924Z"
   },
   {
    "duration": 6,
    "start_time": "2024-02-02T19:03:54.184Z"
   },
   {
    "duration": 18,
    "start_time": "2024-02-02T19:06:33.563Z"
   },
   {
    "duration": 96,
    "start_time": "2024-02-02T19:06:37.283Z"
   },
   {
    "duration": 15,
    "start_time": "2024-02-02T19:06:50.153Z"
   },
   {
    "duration": 15,
    "start_time": "2024-02-02T19:07:24.227Z"
   },
   {
    "duration": 208,
    "start_time": "2024-02-02T19:07:48.862Z"
   },
   {
    "duration": 244,
    "start_time": "2024-02-02T19:09:11.649Z"
   },
   {
    "duration": 15,
    "start_time": "2024-02-02T19:09:19.955Z"
   },
   {
    "duration": 58,
    "start_time": "2024-02-02T19:09:40.093Z"
   },
   {
    "duration": 200,
    "start_time": "2024-02-02T19:09:48.827Z"
   },
   {
    "duration": 399,
    "start_time": "2024-02-02T19:09:54.093Z"
   },
   {
    "duration": 44,
    "start_time": "2024-02-02T19:13:59.197Z"
   },
   {
    "duration": 87,
    "start_time": "2024-02-02T19:14:30.814Z"
   },
   {
    "duration": 100,
    "start_time": "2024-02-02T19:14:39.678Z"
   },
   {
    "duration": 90,
    "start_time": "2024-02-02T19:14:53.273Z"
   },
   {
    "duration": 91,
    "start_time": "2024-02-02T19:14:57.347Z"
   },
   {
    "duration": 94,
    "start_time": "2024-02-02T19:15:00.458Z"
   },
   {
    "duration": 92,
    "start_time": "2024-02-02T19:15:08.423Z"
   },
   {
    "duration": 21,
    "start_time": "2024-02-02T19:15:26.549Z"
   },
   {
    "duration": 717,
    "start_time": "2024-02-02T19:15:39.538Z"
   },
   {
    "duration": 24,
    "start_time": "2024-02-02T19:17:06.518Z"
   },
   {
    "duration": 22,
    "start_time": "2024-02-02T19:17:12.158Z"
   },
   {
    "duration": 5,
    "start_time": "2024-02-02T19:17:19.730Z"
   },
   {
    "duration": 9,
    "start_time": "2024-02-02T19:17:34.385Z"
   },
   {
    "duration": 4,
    "start_time": "2024-02-02T19:17:51.132Z"
   },
   {
    "duration": 2383,
    "start_time": "2024-02-02T19:18:20.599Z"
   },
   {
    "duration": 2357,
    "start_time": "2024-02-02T19:18:22.984Z"
   },
   {
    "duration": 2568,
    "start_time": "2024-02-02T19:18:25.343Z"
   },
   {
    "duration": 2381,
    "start_time": "2024-02-02T19:18:27.913Z"
   },
   {
    "duration": 1451,
    "start_time": "2024-02-02T19:18:30.296Z"
   },
   {
    "duration": 2,
    "start_time": "2024-02-02T19:18:31.749Z"
   },
   {
    "duration": 1013,
    "start_time": "2024-02-02T19:18:31.752Z"
   },
   {
    "duration": 54,
    "start_time": "2024-02-02T19:18:32.767Z"
   },
   {
    "duration": 222,
    "start_time": "2024-02-02T19:18:32.823Z"
   },
   {
    "duration": 363,
    "start_time": "2024-02-02T19:18:33.047Z"
   },
   {
    "duration": 447,
    "start_time": "2024-02-02T19:18:33.411Z"
   },
   {
    "duration": 573,
    "start_time": "2024-02-02T19:18:33.860Z"
   },
   {
    "duration": 290,
    "start_time": "2024-02-02T19:18:34.435Z"
   },
   {
    "duration": 258,
    "start_time": "2024-02-02T19:18:34.727Z"
   },
   {
    "duration": 216,
    "start_time": "2024-02-02T19:18:34.986Z"
   },
   {
    "duration": 117,
    "start_time": "2024-02-02T19:18:35.203Z"
   },
   {
    "duration": 96,
    "start_time": "2024-02-02T19:18:35.322Z"
   },
   {
    "duration": 276,
    "start_time": "2024-02-02T19:18:35.420Z"
   },
   {
    "duration": 23,
    "start_time": "2024-02-02T19:18:35.698Z"
   },
   {
    "duration": 18,
    "start_time": "2024-02-02T19:18:35.723Z"
   },
   {
    "duration": 41,
    "start_time": "2024-02-02T19:18:35.743Z"
   },
   {
    "duration": 39,
    "start_time": "2024-02-02T19:18:35.786Z"
   },
   {
    "duration": 225,
    "start_time": "2024-02-02T19:18:35.827Z"
   },
   {
    "duration": 15,
    "start_time": "2024-02-02T19:18:36.054Z"
   },
   {
    "duration": 216,
    "start_time": "2024-02-02T19:18:36.070Z"
   },
   {
    "duration": 4,
    "start_time": "2024-02-02T19:18:36.287Z"
   },
   {
    "duration": 99,
    "start_time": "2024-02-02T19:18:36.292Z"
   },
   {
    "duration": 292,
    "start_time": "2024-02-02T19:18:36.395Z"
   },
   {
    "duration": 219,
    "start_time": "2024-02-02T19:18:36.689Z"
   },
   {
    "duration": 197,
    "start_time": "2024-02-02T19:18:36.909Z"
   },
   {
    "duration": 56,
    "start_time": "2024-02-02T19:18:37.108Z"
   },
   {
    "duration": 9,
    "start_time": "2024-02-02T19:18:37.166Z"
   },
   {
    "duration": 18,
    "start_time": "2024-02-02T19:18:37.177Z"
   },
   {
    "duration": 60,
    "start_time": "2024-02-02T19:18:37.197Z"
   },
   {
    "duration": 73,
    "start_time": "2024-02-02T19:18:37.258Z"
   },
   {
    "duration": 26,
    "start_time": "2024-02-02T19:18:37.332Z"
   },
   {
    "duration": 26,
    "start_time": "2024-02-02T19:18:37.359Z"
   },
   {
    "duration": 739,
    "start_time": "2024-02-02T19:18:37.386Z"
   },
   {
    "duration": 404,
    "start_time": "2024-02-02T19:18:38.126Z"
   },
   {
    "duration": 535,
    "start_time": "2024-02-02T19:18:38.533Z"
   },
   {
    "duration": 20,
    "start_time": "2024-02-02T19:18:39.070Z"
   },
   {
    "duration": 59,
    "start_time": "2024-02-02T19:18:39.092Z"
   },
   {
    "duration": 77,
    "start_time": "2024-02-02T19:18:39.153Z"
   },
   {
    "duration": 0,
    "start_time": "2024-02-02T19:18:39.232Z"
   },
   {
    "duration": 0,
    "start_time": "2024-02-02T19:18:39.234Z"
   },
   {
    "duration": 0,
    "start_time": "2024-02-02T19:18:39.235Z"
   },
   {
    "duration": 0,
    "start_time": "2024-02-02T19:18:39.236Z"
   },
   {
    "duration": 0,
    "start_time": "2024-02-02T19:18:39.238Z"
   },
   {
    "duration": 0,
    "start_time": "2024-02-02T19:18:39.239Z"
   },
   {
    "duration": 0,
    "start_time": "2024-02-02T19:18:39.241Z"
   },
   {
    "duration": 0,
    "start_time": "2024-02-02T19:18:39.243Z"
   },
   {
    "duration": 0,
    "start_time": "2024-02-02T19:18:39.244Z"
   },
   {
    "duration": 0,
    "start_time": "2024-02-02T19:18:39.245Z"
   },
   {
    "duration": 0,
    "start_time": "2024-02-02T19:18:39.246Z"
   },
   {
    "duration": 0,
    "start_time": "2024-02-02T19:18:39.248Z"
   },
   {
    "duration": 0,
    "start_time": "2024-02-02T19:18:39.250Z"
   },
   {
    "duration": 0,
    "start_time": "2024-02-02T19:18:39.251Z"
   },
   {
    "duration": 0,
    "start_time": "2024-02-02T19:18:39.252Z"
   },
   {
    "duration": 0,
    "start_time": "2024-02-02T19:18:39.254Z"
   },
   {
    "duration": 17,
    "start_time": "2024-02-02T19:19:04.028Z"
   },
   {
    "duration": 14,
    "start_time": "2024-02-02T19:19:06.980Z"
   },
   {
    "duration": 230,
    "start_time": "2024-02-02T19:19:17.133Z"
   },
   {
    "duration": 137,
    "start_time": "2024-02-02T19:50:20.382Z"
   },
   {
    "duration": 145,
    "start_time": "2024-02-02T19:51:04.472Z"
   },
   {
    "duration": 220,
    "start_time": "2024-02-02T19:51:29.777Z"
   },
   {
    "duration": 115,
    "start_time": "2024-02-02T19:51:41.791Z"
   },
   {
    "duration": 135,
    "start_time": "2024-02-02T19:51:46.873Z"
   },
   {
    "duration": 2449,
    "start_time": "2024-02-02T19:52:07.738Z"
   },
   {
    "duration": 2358,
    "start_time": "2024-02-02T19:52:10.189Z"
   },
   {
    "duration": 2555,
    "start_time": "2024-02-02T19:52:12.549Z"
   },
   {
    "duration": 2355,
    "start_time": "2024-02-02T19:52:15.108Z"
   },
   {
    "duration": 1439,
    "start_time": "2024-02-02T19:52:17.465Z"
   },
   {
    "duration": 2,
    "start_time": "2024-02-02T19:52:18.905Z"
   },
   {
    "duration": 954,
    "start_time": "2024-02-02T19:52:18.909Z"
   },
   {
    "duration": 50,
    "start_time": "2024-02-02T19:52:19.864Z"
   },
   {
    "duration": 192,
    "start_time": "2024-02-02T19:52:19.915Z"
   },
   {
    "duration": 372,
    "start_time": "2024-02-02T19:52:20.110Z"
   },
   {
    "duration": 393,
    "start_time": "2024-02-02T19:52:20.483Z"
   },
   {
    "duration": 534,
    "start_time": "2024-02-02T19:52:20.877Z"
   },
   {
    "duration": 285,
    "start_time": "2024-02-02T19:52:21.412Z"
   },
   {
    "duration": 260,
    "start_time": "2024-02-02T19:52:21.699Z"
   },
   {
    "duration": 196,
    "start_time": "2024-02-02T19:52:21.961Z"
   },
   {
    "duration": 99,
    "start_time": "2024-02-02T19:52:22.159Z"
   },
   {
    "duration": 93,
    "start_time": "2024-02-02T19:52:22.260Z"
   },
   {
    "duration": 232,
    "start_time": "2024-02-02T19:52:22.354Z"
   },
   {
    "duration": 23,
    "start_time": "2024-02-02T19:52:22.587Z"
   },
   {
    "duration": 46,
    "start_time": "2024-02-02T19:52:22.612Z"
   },
   {
    "duration": 12,
    "start_time": "2024-02-02T19:52:22.659Z"
   },
   {
    "duration": 21,
    "start_time": "2024-02-02T19:52:22.673Z"
   },
   {
    "duration": 255,
    "start_time": "2024-02-02T19:52:22.695Z"
   },
   {
    "duration": 16,
    "start_time": "2024-02-02T19:52:22.952Z"
   },
   {
    "duration": 229,
    "start_time": "2024-02-02T19:52:22.970Z"
   },
   {
    "duration": 3,
    "start_time": "2024-02-02T19:52:23.201Z"
   },
   {
    "duration": 79,
    "start_time": "2024-02-02T19:52:23.205Z"
   },
   {
    "duration": 277,
    "start_time": "2024-02-02T19:52:23.289Z"
   },
   {
    "duration": 209,
    "start_time": "2024-02-02T19:52:23.568Z"
   },
   {
    "duration": 201,
    "start_time": "2024-02-02T19:52:23.779Z"
   },
   {
    "duration": 55,
    "start_time": "2024-02-02T19:52:23.982Z"
   },
   {
    "duration": 10,
    "start_time": "2024-02-02T19:52:24.038Z"
   },
   {
    "duration": 20,
    "start_time": "2024-02-02T19:52:24.049Z"
   },
   {
    "duration": 50,
    "start_time": "2024-02-02T19:52:24.071Z"
   },
   {
    "duration": 83,
    "start_time": "2024-02-02T19:52:24.123Z"
   },
   {
    "duration": 48,
    "start_time": "2024-02-02T19:52:24.208Z"
   },
   {
    "duration": 15,
    "start_time": "2024-02-02T19:52:24.258Z"
   },
   {
    "duration": 27,
    "start_time": "2024-02-02T19:52:24.275Z"
   },
   {
    "duration": 221,
    "start_time": "2024-02-02T19:52:24.304Z"
   },
   {
    "duration": 180,
    "start_time": "2024-02-02T19:52:24.527Z"
   },
   {
    "duration": 26,
    "start_time": "2024-02-02T19:52:24.709Z"
   },
   {
    "duration": 160,
    "start_time": "2024-02-02T19:52:24.737Z"
   },
   {
    "duration": 81,
    "start_time": "2024-02-02T19:52:24.899Z"
   },
   {
    "duration": 0,
    "start_time": "2024-02-02T19:52:24.982Z"
   },
   {
    "duration": 0,
    "start_time": "2024-02-02T19:52:24.983Z"
   },
   {
    "duration": 0,
    "start_time": "2024-02-02T19:52:24.985Z"
   },
   {
    "duration": 0,
    "start_time": "2024-02-02T19:52:24.986Z"
   },
   {
    "duration": 0,
    "start_time": "2024-02-02T19:52:24.987Z"
   },
   {
    "duration": 0,
    "start_time": "2024-02-02T19:52:24.989Z"
   },
   {
    "duration": 0,
    "start_time": "2024-02-02T19:52:24.990Z"
   },
   {
    "duration": 0,
    "start_time": "2024-02-02T19:52:24.992Z"
   },
   {
    "duration": 0,
    "start_time": "2024-02-02T19:52:24.993Z"
   },
   {
    "duration": 0,
    "start_time": "2024-02-02T19:52:24.994Z"
   },
   {
    "duration": 0,
    "start_time": "2024-02-02T19:52:24.996Z"
   },
   {
    "duration": 0,
    "start_time": "2024-02-02T19:52:24.997Z"
   },
   {
    "duration": 0,
    "start_time": "2024-02-02T19:52:24.998Z"
   },
   {
    "duration": 0,
    "start_time": "2024-02-02T19:52:25.000Z"
   },
   {
    "duration": 0,
    "start_time": "2024-02-02T19:52:25.001Z"
   },
   {
    "duration": 0,
    "start_time": "2024-02-02T19:52:25.002Z"
   },
   {
    "duration": 0,
    "start_time": "2024-02-02T19:52:25.004Z"
   },
   {
    "duration": 0,
    "start_time": "2024-02-02T19:52:25.005Z"
   },
   {
    "duration": 940,
    "start_time": "2024-02-02T19:58:31.733Z"
   },
   {
    "duration": 70,
    "start_time": "2024-02-02T19:58:42.363Z"
   },
   {
    "duration": 154,
    "start_time": "2024-02-02T19:59:27.414Z"
   },
   {
    "duration": 19,
    "start_time": "2024-02-02T19:59:44.009Z"
   },
   {
    "duration": 932,
    "start_time": "2024-02-02T20:00:18.064Z"
   },
   {
    "duration": 1061,
    "start_time": "2024-02-02T20:00:40.957Z"
   },
   {
    "duration": 21,
    "start_time": "2024-02-02T20:01:02.493Z"
   },
   {
    "duration": 20,
    "start_time": "2024-02-02T20:01:26.550Z"
   },
   {
    "duration": 327,
    "start_time": "2024-02-02T20:03:21.629Z"
   },
   {
    "duration": 56,
    "start_time": "2024-02-02T20:11:57.153Z"
   },
   {
    "duration": 61,
    "start_time": "2024-02-02T20:12:01.623Z"
   },
   {
    "duration": 519,
    "start_time": "2024-02-02T20:12:18.333Z"
   },
   {
    "duration": 2440,
    "start_time": "2024-02-02T20:13:32.804Z"
   },
   {
    "duration": 2429,
    "start_time": "2024-02-02T20:13:35.246Z"
   },
   {
    "duration": 2578,
    "start_time": "2024-02-02T20:13:37.677Z"
   },
   {
    "duration": 2353,
    "start_time": "2024-02-02T20:13:40.257Z"
   },
   {
    "duration": 1494,
    "start_time": "2024-02-02T20:13:42.612Z"
   },
   {
    "duration": 2,
    "start_time": "2024-02-02T20:13:44.108Z"
   },
   {
    "duration": 976,
    "start_time": "2024-02-02T20:13:44.112Z"
   },
   {
    "duration": 59,
    "start_time": "2024-02-02T20:13:45.089Z"
   },
   {
    "duration": 187,
    "start_time": "2024-02-02T20:13:45.150Z"
   },
   {
    "duration": 343,
    "start_time": "2024-02-02T20:13:45.340Z"
   },
   {
    "duration": 430,
    "start_time": "2024-02-02T20:13:45.685Z"
   },
   {
    "duration": 543,
    "start_time": "2024-02-02T20:13:46.116Z"
   },
   {
    "duration": 273,
    "start_time": "2024-02-02T20:13:46.661Z"
   },
   {
    "duration": 245,
    "start_time": "2024-02-02T20:13:46.936Z"
   },
   {
    "duration": 204,
    "start_time": "2024-02-02T20:13:47.183Z"
   },
   {
    "duration": 113,
    "start_time": "2024-02-02T20:13:47.389Z"
   },
   {
    "duration": 115,
    "start_time": "2024-02-02T20:13:47.504Z"
   },
   {
    "duration": 251,
    "start_time": "2024-02-02T20:13:47.621Z"
   },
   {
    "duration": 24,
    "start_time": "2024-02-02T20:13:47.873Z"
   },
   {
    "duration": 2,
    "start_time": "2024-02-02T20:13:47.898Z"
   },
   {
    "duration": 3,
    "start_time": "2024-02-02T20:13:47.902Z"
   },
   {
    "duration": 33,
    "start_time": "2024-02-02T20:13:47.906Z"
   },
   {
    "duration": 219,
    "start_time": "2024-02-02T20:13:47.940Z"
   },
   {
    "duration": 17,
    "start_time": "2024-02-02T20:13:48.161Z"
   },
   {
    "duration": 227,
    "start_time": "2024-02-02T20:13:48.179Z"
   },
   {
    "duration": 4,
    "start_time": "2024-02-02T20:13:48.408Z"
   },
   {
    "duration": 80,
    "start_time": "2024-02-02T20:13:48.413Z"
   },
   {
    "duration": 278,
    "start_time": "2024-02-02T20:13:48.497Z"
   },
   {
    "duration": 223,
    "start_time": "2024-02-02T20:13:48.776Z"
   },
   {
    "duration": 208,
    "start_time": "2024-02-02T20:13:49.000Z"
   },
   {
    "duration": 51,
    "start_time": "2024-02-02T20:13:49.209Z"
   },
   {
    "duration": 9,
    "start_time": "2024-02-02T20:13:49.261Z"
   },
   {
    "duration": 10,
    "start_time": "2024-02-02T20:13:49.272Z"
   },
   {
    "duration": 56,
    "start_time": "2024-02-02T20:13:49.283Z"
   },
   {
    "duration": 73,
    "start_time": "2024-02-02T20:13:49.341Z"
   },
   {
    "duration": 53,
    "start_time": "2024-02-02T20:13:49.416Z"
   },
   {
    "duration": 10,
    "start_time": "2024-02-02T20:13:49.470Z"
   },
   {
    "duration": 16,
    "start_time": "2024-02-02T20:13:49.481Z"
   },
   {
    "duration": 235,
    "start_time": "2024-02-02T20:13:49.499Z"
   },
   {
    "duration": 174,
    "start_time": "2024-02-02T20:13:49.736Z"
   },
   {
    "duration": 529,
    "start_time": "2024-02-02T20:13:49.912Z"
   },
   {
    "duration": 16,
    "start_time": "2024-02-02T20:13:50.442Z"
   },
   {
    "duration": 73,
    "start_time": "2024-02-02T20:13:50.460Z"
   },
   {
    "duration": 186,
    "start_time": "2024-02-02T20:13:50.534Z"
   },
   {
    "duration": 95,
    "start_time": "2024-02-02T20:13:50.722Z"
   },
   {
    "duration": 0,
    "start_time": "2024-02-02T20:13:50.819Z"
   },
   {
    "duration": 0,
    "start_time": "2024-02-02T20:13:50.820Z"
   },
   {
    "duration": 0,
    "start_time": "2024-02-02T20:13:50.821Z"
   },
   {
    "duration": 0,
    "start_time": "2024-02-02T20:13:50.822Z"
   },
   {
    "duration": 0,
    "start_time": "2024-02-02T20:13:50.823Z"
   },
   {
    "duration": 0,
    "start_time": "2024-02-02T20:13:50.824Z"
   },
   {
    "duration": 0,
    "start_time": "2024-02-02T20:13:50.825Z"
   },
   {
    "duration": 0,
    "start_time": "2024-02-02T20:13:50.826Z"
   },
   {
    "duration": 0,
    "start_time": "2024-02-02T20:13:50.827Z"
   },
   {
    "duration": 0,
    "start_time": "2024-02-02T20:13:50.828Z"
   },
   {
    "duration": 0,
    "start_time": "2024-02-02T20:13:50.829Z"
   },
   {
    "duration": 0,
    "start_time": "2024-02-02T20:13:50.830Z"
   },
   {
    "duration": 0,
    "start_time": "2024-02-02T20:13:50.831Z"
   },
   {
    "duration": 0,
    "start_time": "2024-02-02T20:13:50.832Z"
   },
   {
    "duration": 0,
    "start_time": "2024-02-02T20:13:50.833Z"
   },
   {
    "duration": 0,
    "start_time": "2024-02-02T20:13:50.833Z"
   },
   {
    "duration": 162,
    "start_time": "2024-02-02T20:23:31.822Z"
   },
   {
    "duration": 115,
    "start_time": "2024-02-02T20:42:55.312Z"
   },
   {
    "duration": 14,
    "start_time": "2024-02-02T20:44:49.879Z"
   },
   {
    "duration": 16,
    "start_time": "2024-02-02T20:45:03.685Z"
   },
   {
    "duration": 6,
    "start_time": "2024-02-02T20:54:48.913Z"
   },
   {
    "duration": 6,
    "start_time": "2024-02-02T20:59:03.452Z"
   },
   {
    "duration": 18,
    "start_time": "2024-02-02T21:01:13.735Z"
   },
   {
    "duration": 625,
    "start_time": "2024-02-02T21:40:19.765Z"
   },
   {
    "duration": 31,
    "start_time": "2024-02-02T21:40:21.953Z"
   },
   {
    "duration": 36,
    "start_time": "2024-02-02T21:40:31.557Z"
   },
   {
    "duration": 94158,
    "start_time": "2024-02-02T21:41:27.054Z"
   },
   {
    "duration": 43,
    "start_time": "2024-02-02T21:43:01.214Z"
   },
   {
    "duration": 89,
    "start_time": "2024-02-02T21:43:04.599Z"
   },
   {
    "duration": 105,
    "start_time": "2024-02-02T21:43:14.535Z"
   },
   {
    "duration": 85,
    "start_time": "2024-02-02T21:43:30.605Z"
   },
   {
    "duration": 94329,
    "start_time": "2024-02-02T21:43:33.427Z"
   },
   {
    "duration": 8955,
    "start_time": "2024-02-02T21:45:07.758Z"
   },
   {
    "duration": 2448,
    "start_time": "2024-02-02T21:53:09.630Z"
   },
   {
    "duration": 2391,
    "start_time": "2024-02-02T21:53:12.081Z"
   },
   {
    "duration": 2488,
    "start_time": "2024-02-02T21:53:14.474Z"
   },
   {
    "duration": 2325,
    "start_time": "2024-02-02T21:53:16.965Z"
   },
   {
    "duration": 1403,
    "start_time": "2024-02-02T21:53:19.293Z"
   },
   {
    "duration": 3,
    "start_time": "2024-02-02T21:53:20.697Z"
   },
   {
    "duration": 975,
    "start_time": "2024-02-02T21:53:20.702Z"
   },
   {
    "duration": 63,
    "start_time": "2024-02-02T21:53:21.679Z"
   },
   {
    "duration": 198,
    "start_time": "2024-02-02T21:53:21.744Z"
   },
   {
    "duration": 376,
    "start_time": "2024-02-02T21:53:21.944Z"
   },
   {
    "duration": 410,
    "start_time": "2024-02-02T21:53:22.321Z"
   },
   {
    "duration": 544,
    "start_time": "2024-02-02T21:53:22.733Z"
   },
   {
    "duration": 279,
    "start_time": "2024-02-02T21:53:23.279Z"
   },
   {
    "duration": 259,
    "start_time": "2024-02-02T21:53:23.561Z"
   },
   {
    "duration": 198,
    "start_time": "2024-02-02T21:53:23.821Z"
   },
   {
    "duration": 102,
    "start_time": "2024-02-02T21:53:24.021Z"
   },
   {
    "duration": 92,
    "start_time": "2024-02-02T21:53:24.125Z"
   },
   {
    "duration": 242,
    "start_time": "2024-02-02T21:53:24.219Z"
   },
   {
    "duration": 25,
    "start_time": "2024-02-02T21:53:24.463Z"
   },
   {
    "duration": 2,
    "start_time": "2024-02-02T21:53:24.490Z"
   },
   {
    "duration": 2,
    "start_time": "2024-02-02T21:53:24.494Z"
   },
   {
    "duration": 37,
    "start_time": "2024-02-02T21:53:24.498Z"
   },
   {
    "duration": 236,
    "start_time": "2024-02-02T21:53:24.536Z"
   },
   {
    "duration": 16,
    "start_time": "2024-02-02T21:53:24.774Z"
   },
   {
    "duration": 217,
    "start_time": "2024-02-02T21:53:24.792Z"
   },
   {
    "duration": 3,
    "start_time": "2024-02-02T21:53:25.011Z"
   },
   {
    "duration": 91,
    "start_time": "2024-02-02T21:53:25.016Z"
   },
   {
    "duration": 287,
    "start_time": "2024-02-02T21:53:25.108Z"
   },
   {
    "duration": 223,
    "start_time": "2024-02-02T21:53:25.396Z"
   },
   {
    "duration": 236,
    "start_time": "2024-02-02T21:53:25.621Z"
   },
   {
    "duration": 56,
    "start_time": "2024-02-02T21:53:25.858Z"
   },
   {
    "duration": 23,
    "start_time": "2024-02-02T21:53:25.916Z"
   },
   {
    "duration": 11,
    "start_time": "2024-02-02T21:53:25.941Z"
   },
   {
    "duration": 58,
    "start_time": "2024-02-02T21:53:25.953Z"
   },
   {
    "duration": 85,
    "start_time": "2024-02-02T21:53:26.013Z"
   },
   {
    "duration": 45,
    "start_time": "2024-02-02T21:53:26.100Z"
   },
   {
    "duration": 8,
    "start_time": "2024-02-02T21:53:26.147Z"
   },
   {
    "duration": 27,
    "start_time": "2024-02-02T21:53:26.156Z"
   },
   {
    "duration": 215,
    "start_time": "2024-02-02T21:53:26.184Z"
   },
   {
    "duration": 174,
    "start_time": "2024-02-02T21:53:26.400Z"
   },
   {
    "duration": 517,
    "start_time": "2024-02-02T21:53:26.578Z"
   },
   {
    "duration": 22,
    "start_time": "2024-02-02T21:53:27.097Z"
   },
   {
    "duration": 54,
    "start_time": "2024-02-02T21:53:27.120Z"
   },
   {
    "duration": 197,
    "start_time": "2024-02-02T21:53:27.176Z"
   },
   {
    "duration": 71,
    "start_time": "2024-02-02T21:53:27.375Z"
   },
   {
    "duration": 0,
    "start_time": "2024-02-02T21:53:27.448Z"
   },
   {
    "duration": 0,
    "start_time": "2024-02-02T21:53:27.450Z"
   },
   {
    "duration": 0,
    "start_time": "2024-02-02T21:53:27.451Z"
   },
   {
    "duration": 0,
    "start_time": "2024-02-02T21:53:27.453Z"
   },
   {
    "duration": 0,
    "start_time": "2024-02-02T21:53:27.454Z"
   },
   {
    "duration": 0,
    "start_time": "2024-02-02T21:53:27.455Z"
   },
   {
    "duration": 0,
    "start_time": "2024-02-02T21:53:27.457Z"
   },
   {
    "duration": 0,
    "start_time": "2024-02-02T21:53:27.458Z"
   },
   {
    "duration": 0,
    "start_time": "2024-02-02T21:53:27.460Z"
   },
   {
    "duration": 0,
    "start_time": "2024-02-02T21:53:27.461Z"
   },
   {
    "duration": 0,
    "start_time": "2024-02-02T21:53:27.463Z"
   },
   {
    "duration": 1,
    "start_time": "2024-02-02T21:53:27.464Z"
   },
   {
    "duration": 0,
    "start_time": "2024-02-02T21:53:27.466Z"
   },
   {
    "duration": 0,
    "start_time": "2024-02-02T21:53:27.468Z"
   },
   {
    "duration": 0,
    "start_time": "2024-02-02T21:53:27.469Z"
   },
   {
    "duration": 0,
    "start_time": "2024-02-02T21:53:27.470Z"
   },
   {
    "duration": 0,
    "start_time": "2024-02-02T21:53:27.471Z"
   },
   {
    "duration": 0,
    "start_time": "2024-02-02T21:53:27.473Z"
   },
   {
    "duration": 0,
    "start_time": "2024-02-02T21:53:27.474Z"
   },
   {
    "duration": 0,
    "start_time": "2024-02-02T21:53:27.475Z"
   },
   {
    "duration": 0,
    "start_time": "2024-02-02T21:53:27.476Z"
   },
   {
    "duration": 0,
    "start_time": "2024-02-02T21:53:27.478Z"
   },
   {
    "duration": 0,
    "start_time": "2024-02-02T21:53:27.480Z"
   },
   {
    "duration": 0,
    "start_time": "2024-02-02T21:53:27.481Z"
   },
   {
    "duration": 5311,
    "start_time": "2024-02-02T21:53:36.248Z"
   },
   {
    "duration": 86,
    "start_time": "2024-02-02T21:53:41.560Z"
   },
   {
    "duration": 695282,
    "start_time": "2024-02-02T21:53:48.463Z"
   },
   {
    "duration": 2699,
    "start_time": "2024-02-02T22:05:23.749Z"
   },
   {
    "duration": 18768,
    "start_time": "2024-02-02T22:05:26.449Z"
   },
   {
    "duration": 212,
    "start_time": "2024-02-02T22:05:45.220Z"
   },
   {
    "duration": 111,
    "start_time": "2024-02-02T22:07:37.888Z"
   },
   {
    "duration": 18490,
    "start_time": "2024-02-02T22:08:15.310Z"
   },
   {
    "duration": 3970,
    "start_time": "2024-02-03T08:37:44.328Z"
   },
   {
    "duration": 7207,
    "start_time": "2024-02-03T08:37:48.300Z"
   },
   {
    "duration": 18524,
    "start_time": "2024-02-03T08:37:55.512Z"
   },
   {
    "duration": 2412,
    "start_time": "2024-02-03T08:38:14.038Z"
   },
   {
    "duration": 1666,
    "start_time": "2024-02-03T08:38:16.452Z"
   },
   {
    "duration": 3,
    "start_time": "2024-02-03T08:38:18.119Z"
   },
   {
    "duration": 1299,
    "start_time": "2024-02-03T08:38:18.124Z"
   },
   {
    "duration": 50,
    "start_time": "2024-02-03T08:38:19.424Z"
   },
   {
    "duration": 192,
    "start_time": "2024-02-03T08:38:19.476Z"
   },
   {
    "duration": 373,
    "start_time": "2024-02-03T08:38:19.669Z"
   },
   {
    "duration": 466,
    "start_time": "2024-02-03T08:38:20.043Z"
   },
   {
    "duration": 534,
    "start_time": "2024-02-03T08:38:20.511Z"
   },
   {
    "duration": 259,
    "start_time": "2024-02-03T08:38:21.048Z"
   },
   {
    "duration": 262,
    "start_time": "2024-02-03T08:38:21.309Z"
   },
   {
    "duration": 207,
    "start_time": "2024-02-03T08:38:21.573Z"
   },
   {
    "duration": 100,
    "start_time": "2024-02-03T08:38:21.781Z"
   },
   {
    "duration": 99,
    "start_time": "2024-02-03T08:38:21.883Z"
   },
   {
    "duration": 240,
    "start_time": "2024-02-03T08:38:21.984Z"
   },
   {
    "duration": 21,
    "start_time": "2024-02-03T08:38:22.226Z"
   },
   {
    "duration": 2,
    "start_time": "2024-02-03T08:38:22.249Z"
   },
   {
    "duration": 4,
    "start_time": "2024-02-03T08:38:22.264Z"
   },
   {
    "duration": 17,
    "start_time": "2024-02-03T08:38:22.269Z"
   },
   {
    "duration": 291,
    "start_time": "2024-02-03T08:38:22.287Z"
   },
   {
    "duration": 15,
    "start_time": "2024-02-03T08:38:22.580Z"
   },
   {
    "duration": 223,
    "start_time": "2024-02-03T08:38:22.597Z"
   },
   {
    "duration": 4,
    "start_time": "2024-02-03T08:38:22.822Z"
   },
   {
    "duration": 91,
    "start_time": "2024-02-03T08:38:22.827Z"
   },
   {
    "duration": 214,
    "start_time": "2024-02-03T08:38:22.920Z"
   },
   {
    "duration": 206,
    "start_time": "2024-02-03T08:38:23.135Z"
   },
   {
    "duration": 197,
    "start_time": "2024-02-03T08:38:23.342Z"
   },
   {
    "duration": 51,
    "start_time": "2024-02-03T08:38:23.541Z"
   },
   {
    "duration": 10,
    "start_time": "2024-02-03T08:38:23.593Z"
   },
   {
    "duration": 10,
    "start_time": "2024-02-03T08:38:23.604Z"
   },
   {
    "duration": 55,
    "start_time": "2024-02-03T08:38:23.616Z"
   },
   {
    "duration": 72,
    "start_time": "2024-02-03T08:38:23.673Z"
   },
   {
    "duration": 48,
    "start_time": "2024-02-03T08:38:23.746Z"
   },
   {
    "duration": 8,
    "start_time": "2024-02-03T08:38:23.796Z"
   },
   {
    "duration": 14,
    "start_time": "2024-02-03T08:38:23.806Z"
   },
   {
    "duration": 248,
    "start_time": "2024-02-03T08:38:23.822Z"
   },
   {
    "duration": 176,
    "start_time": "2024-02-03T08:38:24.075Z"
   },
   {
    "duration": 515,
    "start_time": "2024-02-03T08:38:24.252Z"
   },
   {
    "duration": 19,
    "start_time": "2024-02-03T08:38:24.768Z"
   },
   {
    "duration": 48,
    "start_time": "2024-02-03T08:38:24.788Z"
   },
   {
    "duration": 193,
    "start_time": "2024-02-03T08:38:24.837Z"
   },
   {
    "duration": 92,
    "start_time": "2024-02-03T08:38:25.032Z"
   },
   {
    "duration": 0,
    "start_time": "2024-02-03T08:38:25.126Z"
   },
   {
    "duration": 1,
    "start_time": "2024-02-03T08:38:25.127Z"
   },
   {
    "duration": 0,
    "start_time": "2024-02-03T08:38:25.129Z"
   },
   {
    "duration": 0,
    "start_time": "2024-02-03T08:38:25.131Z"
   },
   {
    "duration": 0,
    "start_time": "2024-02-03T08:38:25.132Z"
   },
   {
    "duration": 0,
    "start_time": "2024-02-03T08:38:25.133Z"
   },
   {
    "duration": 0,
    "start_time": "2024-02-03T08:38:25.135Z"
   },
   {
    "duration": 0,
    "start_time": "2024-02-03T08:38:25.136Z"
   },
   {
    "duration": 0,
    "start_time": "2024-02-03T08:38:25.138Z"
   },
   {
    "duration": 0,
    "start_time": "2024-02-03T08:38:25.139Z"
   },
   {
    "duration": 0,
    "start_time": "2024-02-03T08:38:25.141Z"
   },
   {
    "duration": 0,
    "start_time": "2024-02-03T08:38:25.142Z"
   },
   {
    "duration": 1,
    "start_time": "2024-02-03T08:38:25.143Z"
   },
   {
    "duration": 0,
    "start_time": "2024-02-03T08:38:25.145Z"
   },
   {
    "duration": 0,
    "start_time": "2024-02-03T08:38:25.147Z"
   },
   {
    "duration": 0,
    "start_time": "2024-02-03T08:38:25.148Z"
   },
   {
    "duration": 0,
    "start_time": "2024-02-03T08:38:25.149Z"
   },
   {
    "duration": 0,
    "start_time": "2024-02-03T08:38:25.151Z"
   },
   {
    "duration": 0,
    "start_time": "2024-02-03T08:38:25.152Z"
   },
   {
    "duration": 0,
    "start_time": "2024-02-03T08:38:25.153Z"
   },
   {
    "duration": 1,
    "start_time": "2024-02-03T08:38:25.153Z"
   },
   {
    "duration": 0,
    "start_time": "2024-02-03T08:38:25.155Z"
   },
   {
    "duration": 0,
    "start_time": "2024-02-03T08:38:25.155Z"
   },
   {
    "duration": 0,
    "start_time": "2024-02-03T08:38:25.156Z"
   },
   {
    "duration": 0,
    "start_time": "2024-02-03T08:38:25.157Z"
   },
   {
    "duration": 162,
    "start_time": "2024-02-03T08:55:54.169Z"
   },
   {
    "duration": 155,
    "start_time": "2024-02-03T08:56:02.813Z"
   },
   {
    "duration": 19,
    "start_time": "2024-02-03T08:56:29.225Z"
   },
   {
    "duration": 14,
    "start_time": "2024-02-03T08:56:42.082Z"
   },
   {
    "duration": 18,
    "start_time": "2024-02-03T08:56:47.305Z"
   },
   {
    "duration": 19,
    "start_time": "2024-02-03T08:56:53.218Z"
   },
   {
    "duration": 11,
    "start_time": "2024-02-03T08:56:58.710Z"
   },
   {
    "duration": 13667,
    "start_time": "2024-02-03T08:58:08.768Z"
   },
   {
    "duration": 642,
    "start_time": "2024-02-03T09:00:49.606Z"
   },
   {
    "duration": 34,
    "start_time": "2024-02-03T09:00:50.342Z"
   },
   {
    "duration": 93904,
    "start_time": "2024-02-03T09:01:03.532Z"
   },
   {
    "duration": 8729,
    "start_time": "2024-02-03T09:02:37.437Z"
   },
   {
    "duration": 18297,
    "start_time": "2024-02-03T09:02:46.168Z"
   },
   {
    "duration": 2448,
    "start_time": "2024-02-03T09:04:14.235Z"
   },
   {
    "duration": 2419,
    "start_time": "2024-02-03T09:04:16.686Z"
   },
   {
    "duration": 2504,
    "start_time": "2024-02-03T09:04:19.107Z"
   },
   {
    "duration": 2363,
    "start_time": "2024-02-03T09:04:21.614Z"
   },
   {
    "duration": 1449,
    "start_time": "2024-02-03T09:04:23.979Z"
   },
   {
    "duration": 2,
    "start_time": "2024-02-03T09:04:25.430Z"
   },
   {
    "duration": 976,
    "start_time": "2024-02-03T09:04:25.434Z"
   },
   {
    "duration": 66,
    "start_time": "2024-02-03T09:04:26.411Z"
   },
   {
    "duration": 193,
    "start_time": "2024-02-03T09:04:26.478Z"
   },
   {
    "duration": 367,
    "start_time": "2024-02-03T09:04:26.674Z"
   },
   {
    "duration": 416,
    "start_time": "2024-02-03T09:04:27.042Z"
   },
   {
    "duration": 531,
    "start_time": "2024-02-03T09:04:27.459Z"
   },
   {
    "duration": 300,
    "start_time": "2024-02-03T09:04:27.991Z"
   },
   {
    "duration": 241,
    "start_time": "2024-02-03T09:04:28.292Z"
   },
   {
    "duration": 202,
    "start_time": "2024-02-03T09:04:28.534Z"
   },
   {
    "duration": 100,
    "start_time": "2024-02-03T09:04:28.737Z"
   },
   {
    "duration": 108,
    "start_time": "2024-02-03T09:04:28.839Z"
   },
   {
    "duration": 285,
    "start_time": "2024-02-03T09:04:28.948Z"
   },
   {
    "duration": 23,
    "start_time": "2024-02-03T09:04:29.235Z"
   },
   {
    "duration": 1,
    "start_time": "2024-02-03T09:04:29.260Z"
   },
   {
    "duration": 5,
    "start_time": "2024-02-03T09:04:29.263Z"
   },
   {
    "duration": 22,
    "start_time": "2024-02-03T09:04:29.270Z"
   },
   {
    "duration": 236,
    "start_time": "2024-02-03T09:04:29.294Z"
   },
   {
    "duration": 16,
    "start_time": "2024-02-03T09:04:29.531Z"
   },
   {
    "duration": 213,
    "start_time": "2024-02-03T09:04:29.548Z"
   },
   {
    "duration": 3,
    "start_time": "2024-02-03T09:04:29.765Z"
   },
   {
    "duration": 80,
    "start_time": "2024-02-03T09:04:29.770Z"
   },
   {
    "duration": 281,
    "start_time": "2024-02-03T09:04:29.864Z"
   },
   {
    "duration": 229,
    "start_time": "2024-02-03T09:04:30.147Z"
   },
   {
    "duration": 226,
    "start_time": "2024-02-03T09:04:30.378Z"
   },
   {
    "duration": 43,
    "start_time": "2024-02-03T09:04:30.606Z"
   },
   {
    "duration": 42,
    "start_time": "2024-02-03T09:04:30.650Z"
   },
   {
    "duration": 68,
    "start_time": "2024-02-03T09:04:30.693Z"
   },
   {
    "duration": 71,
    "start_time": "2024-02-03T09:04:30.763Z"
   },
   {
    "duration": 74,
    "start_time": "2024-02-03T09:04:30.836Z"
   },
   {
    "duration": 38,
    "start_time": "2024-02-03T09:04:30.912Z"
   },
   {
    "duration": 15,
    "start_time": "2024-02-03T09:04:30.951Z"
   },
   {
    "duration": 53,
    "start_time": "2024-02-03T09:04:30.967Z"
   },
   {
    "duration": 212,
    "start_time": "2024-02-03T09:04:31.021Z"
   },
   {
    "duration": 177,
    "start_time": "2024-02-03T09:04:31.234Z"
   },
   {
    "duration": 3,
    "start_time": "2024-02-03T09:04:31.413Z"
   },
   {
    "duration": 49,
    "start_time": "2024-02-03T09:04:31.417Z"
   },
   {
    "duration": 152,
    "start_time": "2024-02-03T09:04:31.468Z"
   },
   {
    "duration": 1418,
    "start_time": "2024-02-03T09:04:31.621Z"
   },
   {
    "duration": 11,
    "start_time": "2024-02-03T09:04:33.040Z"
   },
   {
    "duration": 13627,
    "start_time": "2024-02-03T09:04:33.053Z"
   },
   {
    "duration": 23630,
    "start_time": "2024-02-03T09:04:46.682Z"
   },
   {
    "duration": 0,
    "start_time": "2024-02-03T09:05:10.314Z"
   },
   {
    "duration": 0,
    "start_time": "2024-02-03T09:05:10.316Z"
   },
   {
    "duration": 0,
    "start_time": "2024-02-03T09:05:10.317Z"
   },
   {
    "duration": 0,
    "start_time": "2024-02-03T09:05:10.318Z"
   },
   {
    "duration": 0,
    "start_time": "2024-02-03T09:05:10.319Z"
   },
   {
    "duration": 0,
    "start_time": "2024-02-03T09:05:10.320Z"
   },
   {
    "duration": 0,
    "start_time": "2024-02-03T09:05:10.321Z"
   },
   {
    "duration": 0,
    "start_time": "2024-02-03T09:05:10.322Z"
   },
   {
    "duration": 0,
    "start_time": "2024-02-03T09:05:10.323Z"
   },
   {
    "duration": 0,
    "start_time": "2024-02-03T09:05:10.324Z"
   },
   {
    "duration": 0,
    "start_time": "2024-02-03T09:05:10.325Z"
   },
   {
    "duration": 0,
    "start_time": "2024-02-03T09:05:10.327Z"
   },
   {
    "duration": 0,
    "start_time": "2024-02-03T09:05:10.328Z"
   },
   {
    "duration": 0,
    "start_time": "2024-02-03T09:05:10.329Z"
   },
   {
    "duration": 0,
    "start_time": "2024-02-03T09:05:10.330Z"
   },
   {
    "duration": 0,
    "start_time": "2024-02-03T09:05:10.331Z"
   },
   {
    "duration": 0,
    "start_time": "2024-02-03T09:05:10.368Z"
   },
   {
    "duration": 0,
    "start_time": "2024-02-03T09:05:10.370Z"
   },
   {
    "duration": 0,
    "start_time": "2024-02-03T09:05:10.372Z"
   },
   {
    "duration": 0,
    "start_time": "2024-02-03T09:05:10.373Z"
   },
   {
    "duration": 0,
    "start_time": "2024-02-03T09:05:10.375Z"
   },
   {
    "duration": 0,
    "start_time": "2024-02-03T09:05:10.376Z"
   },
   {
    "duration": 0,
    "start_time": "2024-02-03T09:05:10.378Z"
   }
  ],
  "kernelspec": {
   "display_name": "Python 3 (ipykernel)",
   "language": "python",
   "name": "python3"
  },
  "language_info": {
   "codemirror_mode": {
    "name": "ipython",
    "version": 3
   },
   "file_extension": ".py",
   "mimetype": "text/x-python",
   "name": "python",
   "nbconvert_exporter": "python",
   "pygments_lexer": "ipython3",
   "version": "3.9.18"
  },
  "toc": {
   "base_numbering": 1,
   "nav_menu": {
    "height": "340px",
    "width": "374px"
   },
   "number_sections": true,
   "sideBar": true,
   "skip_h1_title": true,
   "title_cell": "Table of Contents",
   "title_sidebar": "Contents",
   "toc_cell": false,
   "toc_position": {
    "height": "calc(100% - 180px)",
    "left": "10px",
    "top": "150px",
    "width": "290px"
   },
   "toc_section_display": true,
   "toc_window_display": true
  }
 },
 "nbformat": 4,
 "nbformat_minor": 2
}
