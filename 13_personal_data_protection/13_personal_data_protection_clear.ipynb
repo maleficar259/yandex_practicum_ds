{
 "cells": [
  {
   "cell_type": "markdown",
   "metadata": {
    "toc": true
   },
   "source": [
    "<h1>Содержание<span class=\"tocSkip\"></span></h1>\n",
    "<div class=\"toc\"><ul class=\"toc-item\"><li><span><a href=\"#Загрузка-данных\" data-toc-modified-id=\"Загрузка-данных-1\"><span class=\"toc-item-num\">1&nbsp;&nbsp;</span>Загрузка данных</a></span><ul class=\"toc-item\"><li><ul class=\"toc-item\"><li><ul class=\"toc-item\"><li><span><a href=\"#-Комментарий-студента-💎\" data-toc-modified-id=\"-Комментарий-студента-💎-1.0.0.1\"><span class=\"toc-item-num\">1.0.0.1&nbsp;&nbsp;</span> Комментарий студента 💎</a></span></li><li><span><a href=\"#-Комментарий-студента-💎\" data-toc-modified-id=\"-Комментарий-студента-💎-1.0.0.2\"><span class=\"toc-item-num\">1.0.0.2&nbsp;&nbsp;</span> Комментарий студента 💎</a></span></li><li><span><a href=\"#-Комментарий-студента-💎\" data-toc-modified-id=\"-Комментарий-студента-💎-1.0.0.3\"><span class=\"toc-item-num\">1.0.0.3&nbsp;&nbsp;</span> Комментарий студента 💎</a></span></li></ul></li></ul></li></ul></li><li><span><a href=\"#Умножение-матриц\" data-toc-modified-id=\"Умножение-матриц-2\"><span class=\"toc-item-num\">2&nbsp;&nbsp;</span>Умножение матриц</a></span><ul class=\"toc-item\"><li><span><a href=\"#Оценка-базовой-модели-и-модели-после-преобразования\" data-toc-modified-id=\"Оценка-базовой-модели-и-модели-после-преобразования-2.1\"><span class=\"toc-item-num\">2.1&nbsp;&nbsp;</span>Оценка базовой модели и модели после преобразования</a></span><ul class=\"toc-item\"><li><ul class=\"toc-item\"><li><span><a href=\"#-Комментарий-студента-💎\" data-toc-modified-id=\"-Комментарий-студента-💎-2.1.0.1\"><span class=\"toc-item-num\">2.1.0.1&nbsp;&nbsp;</span> Комментарий студента 💎</a></span></li></ul></li></ul></li></ul></li><li><span><a href=\"#Алгоритм-преобразования\" data-toc-modified-id=\"Алгоритм-преобразования-3\"><span class=\"toc-item-num\">3&nbsp;&nbsp;</span>Алгоритм преобразования</a></span><ul class=\"toc-item\"><li><ul class=\"toc-item\"><li><ul class=\"toc-item\"><li><span><a href=\"#-Комментарий-студента-💎\" data-toc-modified-id=\"-Комментарий-студента-💎-3.0.0.1\"><span class=\"toc-item-num\">3.0.0.1&nbsp;&nbsp;</span> Комментарий студента 💎</a></span></li></ul></li></ul></li></ul></li><li><span><a href=\"#Проверка-алгоритма\" data-toc-modified-id=\"Проверка-алгоритма-4\"><span class=\"toc-item-num\">4&nbsp;&nbsp;</span>Проверка алгоритма</a></span><ul class=\"toc-item\"><li><ul class=\"toc-item\"><li><ul class=\"toc-item\"><li><span><a href=\"#-Комментарий-студента-💎\" data-toc-modified-id=\"-Комментарий-студента-💎-4.0.0.1\"><span class=\"toc-item-num\">4.0.0.1&nbsp;&nbsp;</span> Комментарий студента 💎</a></span></li><li><span><a href=\"#-Комментарий-студента-💎\" data-toc-modified-id=\"-Комментарий-студента-💎-4.0.0.2\"><span class=\"toc-item-num\">4.0.0.2&nbsp;&nbsp;</span> Комментарий студента 💎</a></span></li></ul></li></ul></li></ul></li><li><span><a href=\"#Общий-вывод\" data-toc-modified-id=\"Общий-вывод-5\"><span class=\"toc-item-num\">5&nbsp;&nbsp;</span>Общий вывод</a></span><ul class=\"toc-item\"><li><ul class=\"toc-item\"><li><ul class=\"toc-item\"><li><span><a href=\"#-Комментарий-студента-💎\" data-toc-modified-id=\"-Комментарий-студента-💎-5.0.0.1\"><span class=\"toc-item-num\">5.0.0.1&nbsp;&nbsp;</span> Комментарий студента 💎</a></span></li></ul></li></ul></li></ul></li><li><span><a href=\"#Чек-лист-проверки\" data-toc-modified-id=\"Чек-лист-проверки-6\"><span class=\"toc-item-num\">6&nbsp;&nbsp;</span>Чек-лист проверки</a></span></li></ul></div>"
   ]
  },
  {
   "cell_type": "markdown",
   "metadata": {},
   "source": [
    "# Проект \"Защита персональных данных клиентов\""
   ]
  },
  {
   "cell_type": "markdown",
   "metadata": {},
   "source": [
    "В данном проекте нам необходимо защитить данные клиентов страховой компании «Хоть потоп». Нужно разработать такой метод преобразования данных, чтобы по ним было сложно восстановить персональную информацию, а также обосновать корректность его работы.\n",
    "\n",
    "Нужно защитить данные, чтобы при преобразовании качество моделей машинного обучения не ухудшилось. Подбирать наилучшую модель не требуется."
   ]
  },
  {
   "cell_type": "markdown",
   "metadata": {},
   "source": [
    "## Загрузка данных"
   ]
  },
  {
   "cell_type": "code",
   "execution_count": 1,
   "metadata": {},
   "outputs": [
    {
     "name": "stdout",
     "output_type": "stream",
     "text": [
      "Collecting sweetviz\n",
      "  Downloading sweetviz-2.3.1-py3-none-any.whl (15.1 MB)\n",
      "\u001b[K     |████████████████████████████████| 15.1 MB 1.2 MB/s eta 0:00:01\n",
      "\u001b[?25hRequirement already satisfied: jinja2>=2.11.1 in /opt/conda/lib/python3.9/site-packages (from sweetviz) (3.0.1)\n",
      "Requirement already satisfied: matplotlib>=3.1.3 in /opt/conda/lib/python3.9/site-packages (from sweetviz) (3.3.4)\n",
      "Requirement already satisfied: scipy>=1.3.2 in /opt/conda/lib/python3.9/site-packages (from sweetviz) (1.9.1)\n",
      "Requirement already satisfied: numpy>=1.16.0 in /opt/conda/lib/python3.9/site-packages (from sweetviz) (1.21.1)\n",
      "Collecting importlib-resources>=1.2.0\n",
      "  Downloading importlib_resources-6.1.1-py3-none-any.whl (33 kB)\n",
      "Requirement already satisfied: pandas!=1.0.0,!=1.0.1,!=1.0.2,>=0.25.3 in /opt/conda/lib/python3.9/site-packages (from sweetviz) (1.2.4)\n",
      "Requirement already satisfied: tqdm>=4.43.0 in /opt/conda/lib/python3.9/site-packages (from sweetviz) (4.61.2)\n",
      "Requirement already satisfied: zipp>=3.1.0 in /opt/conda/lib/python3.9/site-packages (from importlib-resources>=1.2.0->sweetviz) (3.5.0)\n",
      "Requirement already satisfied: MarkupSafe>=2.0 in /opt/conda/lib/python3.9/site-packages (from jinja2>=2.11.1->sweetviz) (2.1.1)\n",
      "Requirement already satisfied: kiwisolver>=1.0.1 in /opt/conda/lib/python3.9/site-packages (from matplotlib>=3.1.3->sweetviz) (1.4.4)\n",
      "Requirement already satisfied: pillow>=6.2.0 in /opt/conda/lib/python3.9/site-packages (from matplotlib>=3.1.3->sweetviz) (8.4.0)\n",
      "Requirement already satisfied: pyparsing!=2.0.4,!=2.1.2,!=2.1.6,>=2.0.3 in /opt/conda/lib/python3.9/site-packages (from matplotlib>=3.1.3->sweetviz) (2.4.7)\n",
      "Requirement already satisfied: cycler>=0.10 in /opt/conda/lib/python3.9/site-packages (from matplotlib>=3.1.3->sweetviz) (0.11.0)\n",
      "Requirement already satisfied: python-dateutil>=2.1 in /opt/conda/lib/python3.9/site-packages (from matplotlib>=3.1.3->sweetviz) (2.8.1)\n",
      "Requirement already satisfied: pytz>=2017.3 in /opt/conda/lib/python3.9/site-packages (from pandas!=1.0.0,!=1.0.1,!=1.0.2,>=0.25.3->sweetviz) (2021.1)\n",
      "Requirement already satisfied: six>=1.5 in /opt/conda/lib/python3.9/site-packages (from python-dateutil>=2.1->matplotlib>=3.1.3->sweetviz) (1.16.0)\n",
      "Installing collected packages: importlib-resources, sweetviz\n",
      "Successfully installed importlib-resources-6.1.1 sweetviz-2.3.1\n",
      "Note: you may need to restart the kernel to use updated packages.\n"
     ]
    }
   ],
   "source": [
    "pip install sweetviz"
   ]
  },
  {
   "cell_type": "code",
   "execution_count": 39,
   "metadata": {},
   "outputs": [],
   "source": [
    "import pandas as pd\n",
    "import numpy as np\n",
    "import seaborn as sns\n",
    "import sweetviz as sv\n",
    "\n",
    "from random import random\n",
    "from scipy import stats as st\n",
    "from matplotlib import pyplot as plt\n",
    "from sklearn.pipeline import Pipeline\n",
    "from sklearn.tree import DecisionTreeRegressor\n",
    "from sklearn.ensemble import RandomForestRegressor\n",
    "from sklearn.linear_model import LinearRegression\n",
    "from sklearn.preprocessing import OrdinalEncoder, StandardScaler\n",
    "from sklearn.model_selection import train_test_split, cross_val_score, GridSearchCV\n",
    "from sklearn.metrics import (mean_squared_error,\n",
    "                            mean_absolute_error,\n",
    "                            accuracy_score,\n",
    "                            f1_score,\n",
    "                            roc_curve,\n",
    "                            roc_auc_score,\n",
    "                            make_scorer)\n",
    "from sklearn.utils import shuffle\n",
    "from tqdm import tqdm"
   ]
  },
  {
   "cell_type": "code",
   "execution_count": 3,
   "metadata": {},
   "outputs": [
    {
     "name": "stdout",
     "output_type": "stream",
     "text": [
      "<class 'pandas.core.frame.DataFrame'>\n",
      "RangeIndex: 5000 entries, 0 to 4999\n",
      "Data columns (total 5 columns):\n",
      " #   Column             Non-Null Count  Dtype  \n",
      "---  ------             --------------  -----  \n",
      " 0   Пол                5000 non-null   int64  \n",
      " 1   Возраст            5000 non-null   float64\n",
      " 2   Зарплата           5000 non-null   float64\n",
      " 3   Члены семьи        5000 non-null   int64  \n",
      " 4   Страховые выплаты  5000 non-null   int64  \n",
      "dtypes: float64(2), int64(3)\n",
      "memory usage: 195.4 KB\n"
     ]
    },
    {
     "data": {
      "text/html": [
       "<div>\n",
       "<style scoped>\n",
       "    .dataframe tbody tr th:only-of-type {\n",
       "        vertical-align: middle;\n",
       "    }\n",
       "\n",
       "    .dataframe tbody tr th {\n",
       "        vertical-align: top;\n",
       "    }\n",
       "\n",
       "    .dataframe thead th {\n",
       "        text-align: right;\n",
       "    }\n",
       "</style>\n",
       "<table border=\"1\" class=\"dataframe\">\n",
       "  <thead>\n",
       "    <tr style=\"text-align: right;\">\n",
       "      <th></th>\n",
       "      <th>Пол</th>\n",
       "      <th>Возраст</th>\n",
       "      <th>Зарплата</th>\n",
       "      <th>Члены семьи</th>\n",
       "      <th>Страховые выплаты</th>\n",
       "    </tr>\n",
       "  </thead>\n",
       "  <tbody>\n",
       "    <tr>\n",
       "      <th>0</th>\n",
       "      <td>1</td>\n",
       "      <td>41.0</td>\n",
       "      <td>49600.0</td>\n",
       "      <td>1</td>\n",
       "      <td>0</td>\n",
       "    </tr>\n",
       "    <tr>\n",
       "      <th>1</th>\n",
       "      <td>0</td>\n",
       "      <td>46.0</td>\n",
       "      <td>38000.0</td>\n",
       "      <td>1</td>\n",
       "      <td>1</td>\n",
       "    </tr>\n",
       "    <tr>\n",
       "      <th>2</th>\n",
       "      <td>0</td>\n",
       "      <td>29.0</td>\n",
       "      <td>21000.0</td>\n",
       "      <td>0</td>\n",
       "      <td>0</td>\n",
       "    </tr>\n",
       "    <tr>\n",
       "      <th>3</th>\n",
       "      <td>0</td>\n",
       "      <td>21.0</td>\n",
       "      <td>41700.0</td>\n",
       "      <td>2</td>\n",
       "      <td>0</td>\n",
       "    </tr>\n",
       "    <tr>\n",
       "      <th>4</th>\n",
       "      <td>1</td>\n",
       "      <td>28.0</td>\n",
       "      <td>26100.0</td>\n",
       "      <td>0</td>\n",
       "      <td>0</td>\n",
       "    </tr>\n",
       "  </tbody>\n",
       "</table>\n",
       "</div>"
      ],
      "text/plain": [
       "   Пол  Возраст  Зарплата  Члены семьи  Страховые выплаты\n",
       "0    1     41.0   49600.0            1                  0\n",
       "1    0     46.0   38000.0            1                  1\n",
       "2    0     29.0   21000.0            0                  0\n",
       "3    0     21.0   41700.0            2                  0\n",
       "4    1     28.0   26100.0            0                  0"
      ]
     },
     "execution_count": 3,
     "metadata": {},
     "output_type": "execute_result"
    }
   ],
   "source": [
    "data = pd.read_csv('/datasets/insurance.csv')\n",
    "data.info()\n",
    "data.head()"
   ]
  },
  {
   "cell_type": "code",
   "execution_count": 4,
   "metadata": {},
   "outputs": [
    {
     "data": {
      "application/vnd.jupyter.widget-view+json": {
       "model_id": "ae6f0e7501994469bbe1fe6bf14eb54a",
       "version_major": 2,
       "version_minor": 0
      },
      "text/plain": [
       "                                             |          | [  0%]   00:00 -> (? left)"
      ]
     },
     "metadata": {},
     "output_type": "display_data"
    }
   ],
   "source": [
    "sv_report = sv.analyze(data)"
   ]
  },
  {
   "cell_type": "code",
   "execution_count": 5,
   "metadata": {},
   "outputs": [
    {
     "name": "stdout",
     "output_type": "stream",
     "text": [
      "Report data_analysis.html was generated! NOTEBOOK/COLAB USERS: the web browser MAY not pop up, regardless, the report IS saved in your notebook/colab files.\n"
     ]
    }
   ],
   "source": [
    "sv_report.show_html('data_analysis.html')"
   ]
  },
  {
   "cell_type": "markdown",
   "metadata": {},
   "source": [
    "Как мы видим из отчета, все данные распределены адекватно. Незаметно наличие каких-либо серьезных выбросов и/или аномалий.  \n",
    "Также стоит отметить среднюю корреляцию между столбцов Возраст и целевым признаком.\n",
    "\n",
    "Проверим наши данные на дубликаты."
   ]
  },
  {
   "cell_type": "code",
   "execution_count": 6,
   "metadata": {},
   "outputs": [
    {
     "data": {
      "text/html": [
       "<div>\n",
       "<style scoped>\n",
       "    .dataframe tbody tr th:only-of-type {\n",
       "        vertical-align: middle;\n",
       "    }\n",
       "\n",
       "    .dataframe tbody tr th {\n",
       "        vertical-align: top;\n",
       "    }\n",
       "\n",
       "    .dataframe thead th {\n",
       "        text-align: right;\n",
       "    }\n",
       "</style>\n",
       "<table border=\"1\" class=\"dataframe\">\n",
       "  <thead>\n",
       "    <tr style=\"text-align: right;\">\n",
       "      <th></th>\n",
       "      <th>Пол</th>\n",
       "      <th>Возраст</th>\n",
       "      <th>Зарплата</th>\n",
       "      <th>Члены семьи</th>\n",
       "      <th>Страховые выплаты</th>\n",
       "    </tr>\n",
       "  </thead>\n",
       "  <tbody>\n",
       "    <tr>\n",
       "      <th>Пол</th>\n",
       "      <td>1.000000</td>\n",
       "      <td>0.002074</td>\n",
       "      <td>0.014910</td>\n",
       "      <td>-0.008991</td>\n",
       "      <td>0.010140</td>\n",
       "    </tr>\n",
       "    <tr>\n",
       "      <th>Возраст</th>\n",
       "      <td>0.002074</td>\n",
       "      <td>1.000000</td>\n",
       "      <td>-0.019093</td>\n",
       "      <td>-0.006692</td>\n",
       "      <td>0.651030</td>\n",
       "    </tr>\n",
       "    <tr>\n",
       "      <th>Зарплата</th>\n",
       "      <td>0.014910</td>\n",
       "      <td>-0.019093</td>\n",
       "      <td>1.000000</td>\n",
       "      <td>-0.030296</td>\n",
       "      <td>-0.014963</td>\n",
       "    </tr>\n",
       "    <tr>\n",
       "      <th>Члены семьи</th>\n",
       "      <td>-0.008991</td>\n",
       "      <td>-0.006692</td>\n",
       "      <td>-0.030296</td>\n",
       "      <td>1.000000</td>\n",
       "      <td>-0.036290</td>\n",
       "    </tr>\n",
       "    <tr>\n",
       "      <th>Страховые выплаты</th>\n",
       "      <td>0.010140</td>\n",
       "      <td>0.651030</td>\n",
       "      <td>-0.014963</td>\n",
       "      <td>-0.036290</td>\n",
       "      <td>1.000000</td>\n",
       "    </tr>\n",
       "  </tbody>\n",
       "</table>\n",
       "</div>"
      ],
      "text/plain": [
       "                        Пол   Возраст  Зарплата  Члены семьи  \\\n",
       "Пол                1.000000  0.002074  0.014910    -0.008991   \n",
       "Возраст            0.002074  1.000000 -0.019093    -0.006692   \n",
       "Зарплата           0.014910 -0.019093  1.000000    -0.030296   \n",
       "Члены семьи       -0.008991 -0.006692 -0.030296     1.000000   \n",
       "Страховые выплаты  0.010140  0.651030 -0.014963    -0.036290   \n",
       "\n",
       "                   Страховые выплаты  \n",
       "Пол                         0.010140  \n",
       "Возраст                     0.651030  \n",
       "Зарплата                   -0.014963  \n",
       "Члены семьи                -0.036290  \n",
       "Страховые выплаты           1.000000  "
      ]
     },
     "execution_count": 6,
     "metadata": {},
     "output_type": "execute_result"
    }
   ],
   "source": [
    "data.corr()"
   ]
  },
  {
   "cell_type": "code",
   "execution_count": 7,
   "metadata": {},
   "outputs": [
    {
     "data": {
      "text/html": [
       "<div>\n",
       "<style scoped>\n",
       "    .dataframe tbody tr th:only-of-type {\n",
       "        vertical-align: middle;\n",
       "    }\n",
       "\n",
       "    .dataframe tbody tr th {\n",
       "        vertical-align: top;\n",
       "    }\n",
       "\n",
       "    .dataframe thead th {\n",
       "        text-align: right;\n",
       "    }\n",
       "</style>\n",
       "<table border=\"1\" class=\"dataframe\">\n",
       "  <thead>\n",
       "    <tr style=\"text-align: right;\">\n",
       "      <th></th>\n",
       "      <th>Пол</th>\n",
       "      <th>Возраст</th>\n",
       "      <th>Зарплата</th>\n",
       "      <th>Члены семьи</th>\n",
       "      <th>Страховые выплаты</th>\n",
       "    </tr>\n",
       "  </thead>\n",
       "  <tbody>\n",
       "    <tr>\n",
       "      <th>Пол</th>\n",
       "      <td>1.000000</td>\n",
       "      <td>0.000134</td>\n",
       "      <td>0.011823</td>\n",
       "      <td>-0.006578</td>\n",
       "      <td>-0.000172</td>\n",
       "    </tr>\n",
       "    <tr>\n",
       "      <th>Возраст</th>\n",
       "      <td>0.000134</td>\n",
       "      <td>1.000000</td>\n",
       "      <td>-0.020238</td>\n",
       "      <td>-0.001503</td>\n",
       "      <td>0.548589</td>\n",
       "    </tr>\n",
       "    <tr>\n",
       "      <th>Зарплата</th>\n",
       "      <td>0.011823</td>\n",
       "      <td>-0.020238</td>\n",
       "      <td>1.000000</td>\n",
       "      <td>-0.025492</td>\n",
       "      <td>-0.005549</td>\n",
       "    </tr>\n",
       "    <tr>\n",
       "      <th>Члены семьи</th>\n",
       "      <td>-0.006578</td>\n",
       "      <td>-0.001503</td>\n",
       "      <td>-0.025492</td>\n",
       "      <td>1.000000</td>\n",
       "      <td>-0.029210</td>\n",
       "    </tr>\n",
       "    <tr>\n",
       "      <th>Страховые выплаты</th>\n",
       "      <td>-0.000172</td>\n",
       "      <td>0.548589</td>\n",
       "      <td>-0.005549</td>\n",
       "      <td>-0.029210</td>\n",
       "      <td>1.000000</td>\n",
       "    </tr>\n",
       "  </tbody>\n",
       "</table>\n",
       "</div>"
      ],
      "text/plain": [
       "                        Пол   Возраст  Зарплата  Члены семьи  \\\n",
       "Пол                1.000000  0.000134  0.011823    -0.006578   \n",
       "Возраст            0.000134  1.000000 -0.020238    -0.001503   \n",
       "Зарплата           0.011823 -0.020238  1.000000    -0.025492   \n",
       "Члены семьи       -0.006578 -0.001503 -0.025492     1.000000   \n",
       "Страховые выплаты -0.000172  0.548589 -0.005549    -0.029210   \n",
       "\n",
       "                   Страховые выплаты  \n",
       "Пол                        -0.000172  \n",
       "Возраст                     0.548589  \n",
       "Зарплата                   -0.005549  \n",
       "Члены семьи                -0.029210  \n",
       "Страховые выплаты           1.000000  "
      ]
     },
     "execution_count": 7,
     "metadata": {},
     "output_type": "execute_result"
    }
   ],
   "source": [
    "data.corr(method='spearman')"
   ]
  },
  {
   "cell_type": "code",
   "execution_count": 8,
   "metadata": {},
   "outputs": [
    {
     "data": {
      "text/plain": [
       "153"
      ]
     },
     "execution_count": 8,
     "metadata": {},
     "output_type": "execute_result"
    }
   ],
   "source": [
    "data[['Пол', 'Возраст', 'Зарплата', 'Члены семьи']].duplicated().sum()"
   ]
  },
  {
   "cell_type": "markdown",
   "metadata": {},
   "source": [
    "Так как количество дубликатов незначительное, можем их смело удалить."
   ]
  },
  {
   "cell_type": "code",
   "execution_count": 9,
   "metadata": {
    "scrolled": false
   },
   "outputs": [
    {
     "name": "stdout",
     "output_type": "stream",
     "text": [
      "<class 'pandas.core.frame.DataFrame'>\n",
      "RangeIndex: 4847 entries, 0 to 4846\n",
      "Data columns (total 5 columns):\n",
      " #   Column             Non-Null Count  Dtype  \n",
      "---  ------             --------------  -----  \n",
      " 0   Пол                4847 non-null   int64  \n",
      " 1   Возраст            4847 non-null   float64\n",
      " 2   Зарплата           4847 non-null   float64\n",
      " 3   Члены семьи        4847 non-null   int64  \n",
      " 4   Страховые выплаты  4847 non-null   int64  \n",
      "dtypes: float64(2), int64(3)\n",
      "memory usage: 189.5 KB\n"
     ]
    }
   ],
   "source": [
    "data.drop_duplicates(subset=['Пол', 'Возраст', 'Зарплата', 'Члены семьи'], inplace=True)\n",
    "data.reset_index(drop=True, inplace=True)\n",
    "data.info()"
   ]
  },
  {
   "cell_type": "code",
   "execution_count": 10,
   "metadata": {},
   "outputs": [],
   "source": [
    "# приведем названия столбцов в соответствие snake_case\n",
    "data = data.rename(columns={\n",
    "    'Пол': 'sex',\n",
    "    'Возраст': 'age',\n",
    "    'Зарплата': 'salary',\n",
    "    'Члены семьи': 'family_count',\n",
    "    'Страховые выплаты': 'insurance_payments'\n",
    "})"
   ]
  },
  {
   "cell_type": "code",
   "execution_count": 11,
   "metadata": {},
   "outputs": [
    {
     "name": "stdout",
     "output_type": "stream",
     "text": [
      "<class 'pandas.core.frame.DataFrame'>\n",
      "RangeIndex: 4847 entries, 0 to 4846\n",
      "Data columns (total 5 columns):\n",
      " #   Column              Non-Null Count  Dtype  \n",
      "---  ------              --------------  -----  \n",
      " 0   sex                 4847 non-null   int64  \n",
      " 1   age                 4847 non-null   float64\n",
      " 2   salary              4847 non-null   float64\n",
      " 3   family_count        4847 non-null   int64  \n",
      " 4   insurance_payments  4847 non-null   int64  \n",
      "dtypes: float64(2), int64(3)\n",
      "memory usage: 189.5 KB\n"
     ]
    }
   ],
   "source": [
    "data.info()"
   ]
  },
  {
   "cell_type": "markdown",
   "metadata": {},
   "source": [
    "Так как в проекте будет использоваться линейная регрессия, проведем масштабирование.  \n",
    "Для этого сначала разделим нашу выборку на обучающую и тестовую в отношении 3:1."
   ]
  },
  {
   "cell_type": "code",
   "execution_count": 12,
   "metadata": {},
   "outputs": [],
   "source": [
    "features = data.drop('insurance_payments', axis=1)\n",
    "target = data['insurance_payments']\n"
   ]
  },
  {
   "cell_type": "code",
   "execution_count": 13,
   "metadata": {},
   "outputs": [
    {
     "data": {
      "text/plain": [
       "3635"
      ]
     },
     "metadata": {},
     "output_type": "display_data"
    },
    {
     "data": {
      "text/plain": [
       "1212"
      ]
     },
     "metadata": {},
     "output_type": "display_data"
    },
    {
     "data": {
      "text/plain": [
       "3635"
      ]
     },
     "metadata": {},
     "output_type": "display_data"
    },
    {
     "data": {
      "text/plain": [
       "1212"
      ]
     },
     "metadata": {},
     "output_type": "display_data"
    }
   ],
   "source": [
    "features_train, features_test, target_train, target_test = train_test_split(features, target, test_size=.25, random_state=12345)\n",
    "display(features_train.shape[0], features_test.shape[0], target_train.shape[0], target_test.shape[0])"
   ]
  },
  {
   "cell_type": "code",
   "execution_count": 14,
   "metadata": {},
   "outputs": [],
   "source": [
    "scaler = StandardScaler()\n",
    "scaler.fit(features_train)\n",
    "\n",
    "features_train_scaled = pd.DataFrame(scaler.transform(features_train), columns=features.columns)\n",
    "features_test_scaled = pd.DataFrame(scaler.transform(features_test), columns=features.columns)"
   ]
  },
  {
   "cell_type": "markdown",
   "metadata": {},
   "source": [
    "В первом этапе проекта мы ознакомились с имеющимися данными, исследовали их распределение и мультиколлинеарность, обработали дубликаты. Пропусков в имеющихся данных не было. Данные подготовлены к дальнейшей обработке.  \n",
    "Также, так как в нашем проекте будет использоваться модель линейной регрессии, все признаки были масштабированы."
   ]
  },
  {
   "cell_type": "markdown",
   "metadata": {},
   "source": [
    "## Умножение матриц"
   ]
  },
  {
   "cell_type": "markdown",
   "metadata": {},
   "source": [
    "В этом задании вы можете записывать формулы в *Jupyter Notebook.*\n",
    "\n",
    "Чтобы записать формулу внутри текста, окружите её символами доллара \\\\$; если снаружи —  двойными символами \\\\$\\\\$. Эти формулы записываются на языке вёрстки *LaTeX.* \n",
    "\n",
    "Для примера мы записали формулы линейной регрессии. Можете их скопировать и отредактировать, чтобы решить задачу.\n",
    "\n",
    "Работать в *LaTeX* необязательно."
   ]
  },
  {
   "cell_type": "markdown",
   "metadata": {},
   "source": [
    "Обозначения:\n",
    "\n",
    "- $X$ — матрица признаков (нулевой столбец состоит из единиц)\n",
    "\n",
    "- $y$ — вектор целевого признака\n",
    "\n",
    "- $P$ — матрица, на которую умножаются признаки\n",
    "\n",
    "- $w$ — вектор весов линейной регрессии (нулевой элемент равен сдвигу)"
   ]
  },
  {
   "cell_type": "markdown",
   "metadata": {},
   "source": [
    "Предсказания:\n",
    "\n",
    "$$\n",
    "a = Xw\n",
    "$$\n",
    "\n",
    "Задача обучения:\n",
    "\n",
    "$$\n",
    "w = \\arg\\min_w MSE(Xw, y)\n",
    "$$\n",
    "\n",
    "Формула обучения:\n",
    "\n",
    "$$\n",
    "w = (X^T X)^{-1} X^T y\n",
    "$$"
   ]
  },
  {
   "cell_type": "markdown",
   "metadata": {},
   "source": [
    "### Оценка базовой модели и модели после преобразования"
   ]
  },
  {
   "cell_type": "markdown",
   "metadata": {},
   "source": [
    "Для начала построим базовую модель линейной регрессии и найдем метрику R2, с которой мы будем сравнивать дальнейшие преобразования."
   ]
  },
  {
   "cell_type": "code",
   "execution_count": 15,
   "metadata": {},
   "outputs": [
    {
     "data": {
      "text/plain": [
       "0.4230772749214825"
      ]
     },
     "execution_count": 15,
     "metadata": {},
     "output_type": "execute_result"
    }
   ],
   "source": [
    "model_1 = LinearRegression()\n",
    "model_1.fit(features_train_scaled, target_train)\n",
    "\n",
    "score_1 = model_1.score(features_test_scaled, target_test)\n",
    "score_1"
   ]
  },
  {
   "cell_type": "markdown",
   "metadata": {},
   "source": [
    "Итак мы получили, что наша модель имеет довольно высокий показатель метрики R2.  \n",
    "Теперь попробуем провести различные преобразования - умножить матрицу признаков на случайную обратимую матрицу - и проверить качество модели. "
   ]
  },
  {
   "cell_type": "code",
   "execution_count": 16,
   "metadata": {},
   "outputs": [
    {
     "data": {
      "text/plain": [
       "array([[ 1.1958491 , -0.00470496,  1.27828584,  1.53603474],\n",
       "       [ 0.04513572, -0.18121016, -1.3876121 , -0.99079697],\n",
       "       [ 0.64728124,  0.00360943, -0.85855151,  1.04581617],\n",
       "       [ 1.31026426, -1.05990093,  0.91790042, -0.29901825]])"
      ]
     },
     "execution_count": 16,
     "metadata": {},
     "output_type": "execute_result"
    }
   ],
   "source": [
    "rnd_matrix_1 = np.random.normal(size=(4, 4)) \n",
    "rnd_matrix_1\n"
   ]
  },
  {
   "cell_type": "code",
   "execution_count": 17,
   "metadata": {},
   "outputs": [
    {
     "data": {
      "text/plain": [
       "1.7343904145387619"
      ]
     },
     "execution_count": 17,
     "metadata": {},
     "output_type": "execute_result"
    }
   ],
   "source": [
    "# проверим, что полученная матрица обратима\n",
    "det = np.linalg.det(rnd_matrix_1)\n",
    "det\n",
    "# так как определитель != 0, матрица обратима"
   ]
  },
  {
   "cell_type": "code",
   "execution_count": 18,
   "metadata": {},
   "outputs": [],
   "source": [
    "new_features = features_train_scaled @ rnd_matrix_1\n",
    "new_features_test = features_test_scaled @ rnd_matrix_1\n"
   ]
  },
  {
   "cell_type": "code",
   "execution_count": 19,
   "metadata": {},
   "outputs": [
    {
     "data": {
      "text/plain": [
       "0.4230772749214823"
      ]
     },
     "execution_count": 19,
     "metadata": {},
     "output_type": "execute_result"
    }
   ],
   "source": [
    "# теперь повторно обучим модель и проверим её метрику R2\n",
    "model_2 = LinearRegression()\n",
    "model_2.fit(new_features, target_train)\n",
    "\n",
    "score_2 = model_2.score(new_features_test, target_test)\n",
    "score_2"
   ]
  },
  {
   "cell_type": "markdown",
   "metadata": {},
   "source": [
    "Как мы видим, при умножении матрицы признаков на случайную обратимую матрицу метрика качества (R2) линейной регресси **не изменилась.**  \n"
   ]
  },
  {
   "cell_type": "markdown",
   "metadata": {},
   "source": [
    "Исходя из того, что предсказанные **y** равны до и после умножения на обратимую матрицу, получаем следующее:\n",
    "\n",
    "$$\n",
    "X_{old}w_{old} = X_{new}w_{new}\n",
    "$$\n",
    "\n",
    "При том, что Xnew = Xold * P, получаем:\n",
    "\n",
    "$$\n",
    "X_{old}w_{old} = X_{old}P w_{new}\n",
    "$$\n",
    "\n",
    "Чтобы решить уравнение, сделаем матрицу Х квадратной, домножив на X^T слева.\n",
    "\n",
    "$$\n",
    "X^TX_{old}w_{old} = X^TX_{old}P w_{new}\n",
    "$$\n",
    "\n",
    "Домножаем на обратную матрицу X^TХ с обеих сторон.\n",
    "\n",
    "$$\n",
    "(X^TX_{old})^{-1}X^TX_{old}w_{old} = (X^TX_{old})^{-1}X^TX_{old}P w_{new}\n",
    "$$\n",
    "\n",
    "$$\n",
    "E w_{old} = E P w_{new}\n",
    "$$\n",
    "\n",
    "Отсюда выразим w_new:\n",
    "\n",
    "$$\n",
    "w_{new} = P^{-1}w_{old}\n",
    "$$\n"
   ]
  },
  {
   "cell_type": "markdown",
   "metadata": {},
   "source": [
    "## Алгоритм преобразования"
   ]
  },
  {
   "cell_type": "markdown",
   "metadata": {},
   "source": [
    "**Алгоритм**\n",
    "\n",
    "Алгоритм преобразования:\n",
    "\n",
    "$$\n",
    "X_{new} = X_{old}PP^TA\n",
    "$$\n",
    "\n",
    "Где:\n",
    "- $P$ - случайная обратимая матрица;\n",
    "- $P^T$ - транспонированная обратимая матрица;\n",
    "- $A$ - случайная константа от 0 до 1."
   ]
  },
  {
   "cell_type": "markdown",
   "metadata": {},
   "source": [
    "**Дополнение алгоритма**  \n",
    "\n",
    "1. Получение исходных данных.\n",
    "2. Выделение столбцов с признаками (features) и целевого признака (target).\n",
    "3. Разбивка всех данных на обучающую и тестовую выборки в соотношении 3:1.\n",
    "4. Масштабирование обучающих признаков, а затем и тестовых, на основе обучающих.\n",
    "5. Создание случайной квадратной матрицы размера m*m, где m равно количеству признаков в исходных данных (помимо целевого).\n",
    "6. Проверка созданной матрицы на предмет обратимости. В случае, если матрица необратима, она создаётся повторно.\n",
    "7. Транспонирование созданной матрицы.\n",
    "8. Генерация случайного числа в диапазоне от 0 до 1.\n",
    "9. Умножение матрицы обучающих признаков на созданную случайную матриц.\n",
    "10. Умножение получившегося результата на транспонированную матрицу (из созданной ранее).\n",
    "11. Умножение получившегося результата на сгенерированное число от 0 до 1.\n",
    "12. Повторное тестирование модели линейной регрессии и оценка метрики R2."
   ]
  },
  {
   "cell_type": "markdown",
   "metadata": {},
   "source": [
    "**Обоснование**\n",
    "\n",
    "Качество линейной регрессии будет сохраняться прежним до тех пор пока преобразования с исходной матрицей признаков будут являться линейными.\n",
    "\n",
    "В нашем случае все преобразования являются линейными (умножениями на вектор и/или на число), поэтому сколько бы аналогичных операций мы ни производили, это не повлияет на качество линейной регрессии, так как веса будут домножены на соответствующую обратную матрицу транформации (итоговая формула из пункта 2.1).\n",
    "\n",
    "Количество и виды линейных преобразований по сути остаются на усмотрение \"кодировщика\". Разумеется, чем их больше, тем сложнее восстановить исходные данные."
   ]
  },
  {
   "cell_type": "markdown",
   "metadata": {},
   "source": [
    "## Проверка алгоритма"
   ]
  },
  {
   "cell_type": "markdown",
   "metadata": {},
   "source": [
    "Теперь перейдем к проверке нашего алгоритма на практике.\n",
    "\n",
    "Базовую модель на исходных данных мы уже построили, теперь проверим её после проведения алгоритма.\n",
    "\n",
    "Создадим функцию для его проверки."
   ]
  },
  {
   "cell_type": "code",
   "execution_count": 20,
   "metadata": {},
   "outputs": [],
   "source": [
    "def r2_after_algorithm(features, target):\n",
    "        \n",
    "    # создадим случайную квадратную матрицу размером m*m, где m = количеству наших признаков\n",
    "    while True:\n",
    "        rnd_matrix = np.random.normal(size=(features.shape[1], features.shape[1])) \n",
    "        \n",
    "        # убедимся, что матрица обратима\n",
    "        if np.linalg.det(rnd_matrix) != 0:\n",
    "            break\n",
    "    \n",
    "    # создадим также случайное число от 0 до 1\n",
    "    rand_num = random()\n",
    "        \n",
    "    # реализуем алгоритм\n",
    "    new_features = features @ rnd_matrix @ rnd_matrix.T * rand_num\n",
    "    new_features_test = features_test_scaled @ rnd_matrix @ rnd_matrix.T * rand_num\n",
    "    \n",
    "    model = LinearRegression()\n",
    "    model.fit(new_features, target)\n",
    "    \n",
    "    # проверим метрику R2\n",
    "    score = model.score(new_features_test, target_test)\n",
    "    \n",
    "    return score\n",
    "    "
   ]
  },
  {
   "cell_type": "code",
   "execution_count": 21,
   "metadata": {},
   "outputs": [
    {
     "name": "stdout",
     "output_type": "stream",
     "text": [
      "0.4230772749214826\n",
      "0.4230772749214827\n",
      "0.4230772749214826\n"
     ]
    }
   ],
   "source": [
    "print(r2_after_algorithm(features_train_scaled, target_train))\n",
    "print(r2_after_algorithm(features_train_scaled, target_train))\n",
    "print(r2_after_algorithm(features_train_scaled, target_train))"
   ]
  },
  {
   "cell_type": "markdown",
   "metadata": {},
   "source": [
    "Как мы видим, результаты метрики R2 практически не отличаются. Небольшая погрешность имеется, что скорее всего является результатом особенностей работы python с вычислениями десятичных дробей."
   ]
  },
  {
   "cell_type": "markdown",
   "metadata": {},
   "source": [
    "Чтобы провести обратную расшифровку, выразим X_old:\n",
    "$$\n",
    "X_{new} = X_{old}PP^TA\n",
    "$$\n",
    "\n",
    "$$\n",
    "X_{new}(1/A) = X_{old}PP^T\n",
    "$$\n",
    "\n",
    "$$\n",
    "X_{new}(1/A)(PP^T)^{-1} = X_{old}\n",
    "$$\n"
   ]
  },
  {
   "cell_type": "code",
   "execution_count": 36,
   "metadata": {
    "scrolled": true
   },
   "outputs": [
    {
     "name": "stdout",
     "output_type": "stream",
     "text": [
      "   sex   age   salary  family_count\n",
      "0    1  41.0  49600.0             1\n",
      "1    0  46.0  38000.0             1\n",
      "2    0  29.0  21000.0             0\n",
      "3    0  21.0  41700.0             2\n",
      "4    1  28.0  26100.0             0\n",
      "1.1528315082514338\n",
      "     0     1        2    3\n",
      "0  1.0  41.0  49600.0  1.0\n",
      "1  0.0  46.0  38000.0  1.0\n",
      "2  0.0  29.0  21000.0  0.0\n",
      "3  0.0  21.0  41700.0  2.0\n",
      "4  1.0  28.0  26100.0  0.0\n"
     ]
    }
   ],
   "source": [
    "# проведём обратную расшифровку\n",
    "print(features.head())\n",
    "\n",
    "rnd_matrix = np.random.normal(size=(features.shape[1], features.shape[1])) \n",
    "\n",
    "print(np.linalg.det(rnd_matrix))\n",
    "\n",
    "new_features = features @ rnd_matrix @ rnd_matrix.T * rand_num\n",
    "\n",
    "rnd_matrix_inv = np.linalg.inv(rnd_matrix @ rnd_matrix.T)\n",
    "\n",
    "old_new_features = new_features * (1 / rand_num) @ rnd_matrix_inv\n",
    "old_new_features[old_new_features < 0.0001] = 0\n",
    "\n",
    "print(old_new_features.head())"
   ]
  },
  {
   "cell_type": "markdown",
   "metadata": {},
   "source": [
    "## Общий вывод"
   ]
  },
  {
   "cell_type": "markdown",
   "metadata": {},
   "source": [
    "В данном проекте нам необходимо было реализовать алгоритм кодирования персональных данных клиентов фирмы \"Хоть потоп\".\n",
    "\n",
    "Был изучен механизм работы линейной регрессии:\n",
    "- Построена базовая модель и оценена метрика качества R2.\n",
    "- Создана случайная обратимая матрица и проверена её обратимость.\n",
    "- Исходная матрица признаков была умножена на созданную случайную матрицу.\n",
    "- Была построена новая модель регрессии и доказано, что метрика R2 не ухудшилась от произведенного преобразования.\n",
    "- Также была представлена формула, связывающая параметры исходной регрессии и преобразованной.\n",
    "\n",
    "Во второй части проекта был предложен алгоритм защиты персональных данных.  \n",
    "- Алгоритм был описан и реализован с помощью функции.  \n",
    "- Было проверено, что после указанного алгоритма метрика R2 модели линейной регрессии значимо не изменились."
   ]
  },
  {
   "cell_type": "markdown",
   "metadata": {},
   "source": [
    "## Чек-лист проверки"
   ]
  },
  {
   "cell_type": "markdown",
   "metadata": {},
   "source": [
    "Поставьте 'x' в выполненных пунктах. Далее нажмите Shift+Enter."
   ]
  },
  {
   "cell_type": "markdown",
   "metadata": {},
   "source": [
    "- [x]  Jupyter Notebook открыт\n",
    "- [x]  Весь код выполняется без ошибок\n",
    "- [x]  Ячейки с кодом расположены в порядке исполнения\n",
    "- [x]  Выполнен шаг 1: данные загружены\n",
    "- [x]  Выполнен шаг 2: получен ответ на вопрос об умножении матриц\n",
    "    - [x]  Указан правильный вариант ответа\n",
    "    - [x]  Вариант обоснован\n",
    "- [x]  Выполнен шаг 3: предложен алгоритм преобразования\n",
    "    - [x]  Алгоритм описан\n",
    "    - [x]  Алгоритм обоснован\n",
    "- [x]  Выполнен шаг 4: алгоритм проверен\n",
    "    - [x]  Алгоритм реализован\n",
    "    - [x]  Проведено сравнение качества моделей до и после преобразования"
   ]
  }
 ],
 "metadata": {
  "ExecuteTimeLog": [
   {
    "duration": 1618,
    "start_time": "2024-01-25T09:29:19.244Z"
   },
   {
    "duration": 108,
    "start_time": "2024-01-25T09:30:40.338Z"
   },
   {
    "duration": 97,
    "start_time": "2024-01-25T09:30:44.865Z"
   },
   {
    "duration": 4109,
    "start_time": "2024-01-25T09:34:20.314Z"
   },
   {
    "duration": 93,
    "start_time": "2024-01-25T09:34:31.004Z"
   },
   {
    "duration": 3156,
    "start_time": "2024-01-25T09:44:44.436Z"
   },
   {
    "duration": 301,
    "start_time": "2024-01-25T09:45:06.799Z"
   },
   {
    "duration": 6,
    "start_time": "2024-01-25T09:53:58.613Z"
   },
   {
    "duration": 9,
    "start_time": "2024-01-25T09:54:47.464Z"
   },
   {
    "duration": 8,
    "start_time": "2024-01-25T09:55:23.517Z"
   },
   {
    "duration": 6,
    "start_time": "2024-01-25T09:55:29.814Z"
   },
   {
    "duration": 12,
    "start_time": "2024-01-25T09:56:28.546Z"
   },
   {
    "duration": 13,
    "start_time": "2024-01-25T09:56:53.705Z"
   },
   {
    "duration": 29,
    "start_time": "2024-01-25T09:57:47.049Z"
   },
   {
    "duration": 101,
    "start_time": "2024-01-25T09:58:28.445Z"
   },
   {
    "duration": 21,
    "start_time": "2024-01-25T09:59:11.152Z"
   },
   {
    "duration": 14,
    "start_time": "2024-01-25T09:59:31.041Z"
   },
   {
    "duration": 15,
    "start_time": "2024-01-25T09:59:58.131Z"
   },
   {
    "duration": 12,
    "start_time": "2024-01-25T10:02:06.713Z"
   },
   {
    "duration": 18,
    "start_time": "2024-01-25T10:02:20.669Z"
   },
   {
    "duration": 13,
    "start_time": "2024-01-25T10:02:31.053Z"
   },
   {
    "duration": 11,
    "start_time": "2024-01-25T10:03:05.624Z"
   },
   {
    "duration": 6,
    "start_time": "2024-01-25T10:40:00.557Z"
   },
   {
    "duration": 12,
    "start_time": "2024-01-25T10:40:08.694Z"
   },
   {
    "duration": 5,
    "start_time": "2024-01-25T10:40:15.042Z"
   },
   {
    "duration": 13,
    "start_time": "2024-01-25T10:40:15.862Z"
   },
   {
    "duration": 4,
    "start_time": "2024-01-25T10:41:25.275Z"
   },
   {
    "duration": 10,
    "start_time": "2024-01-25T10:41:27.077Z"
   },
   {
    "duration": 3,
    "start_time": "2024-01-25T10:41:53.426Z"
   },
   {
    "duration": 14,
    "start_time": "2024-01-25T10:41:58.980Z"
   },
   {
    "duration": 4,
    "start_time": "2024-01-25T10:42:04.634Z"
   },
   {
    "duration": 9,
    "start_time": "2024-01-25T10:43:19.506Z"
   },
   {
    "duration": 10,
    "start_time": "2024-01-25T10:43:47.584Z"
   },
   {
    "duration": 12,
    "start_time": "2024-01-25T10:44:06.531Z"
   },
   {
    "duration": 4,
    "start_time": "2024-01-25T10:44:12.326Z"
   },
   {
    "duration": 112,
    "start_time": "2024-01-25T10:56:41.463Z"
   },
   {
    "duration": 6,
    "start_time": "2024-01-25T10:56:57.183Z"
   },
   {
    "duration": 15,
    "start_time": "2024-01-25T11:00:08.591Z"
   },
   {
    "duration": 9,
    "start_time": "2024-01-25T11:00:14.912Z"
   },
   {
    "duration": 10,
    "start_time": "2024-01-25T11:00:21.636Z"
   },
   {
    "duration": 10,
    "start_time": "2024-01-25T11:00:51.348Z"
   },
   {
    "duration": 11,
    "start_time": "2024-01-25T11:00:53.172Z"
   },
   {
    "duration": 11,
    "start_time": "2024-01-25T11:01:22.506Z"
   },
   {
    "duration": 7,
    "start_time": "2024-01-25T16:19:34.167Z"
   },
   {
    "duration": 4,
    "start_time": "2024-01-25T16:19:35.664Z"
   },
   {
    "duration": 4,
    "start_time": "2024-01-25T16:19:36.378Z"
   },
   {
    "duration": 4,
    "start_time": "2024-01-25T16:21:53.027Z"
   },
   {
    "duration": 5,
    "start_time": "2024-01-25T16:22:10.665Z"
   },
   {
    "duration": 5,
    "start_time": "2024-01-25T16:22:14.735Z"
   },
   {
    "duration": 5,
    "start_time": "2024-01-25T16:22:15.776Z"
   },
   {
    "duration": 5,
    "start_time": "2024-01-25T16:22:17.857Z"
   },
   {
    "duration": 4,
    "start_time": "2024-01-25T16:24:29.368Z"
   },
   {
    "duration": 11,
    "start_time": "2024-01-25T16:25:17.926Z"
   },
   {
    "duration": 13,
    "start_time": "2024-01-25T16:25:34.674Z"
   },
   {
    "duration": 10,
    "start_time": "2024-01-25T16:25:41.208Z"
   },
   {
    "duration": 13,
    "start_time": "2024-01-25T16:25:46.480Z"
   },
   {
    "duration": 11,
    "start_time": "2024-01-25T16:25:59.684Z"
   },
   {
    "duration": 8,
    "start_time": "2024-01-25T16:26:08.963Z"
   },
   {
    "duration": 22,
    "start_time": "2024-01-25T16:26:20.334Z"
   },
   {
    "duration": 20,
    "start_time": "2024-01-25T16:26:23.111Z"
   },
   {
    "duration": 9,
    "start_time": "2024-01-25T16:26:31.791Z"
   },
   {
    "duration": 10,
    "start_time": "2024-01-25T16:26:43.050Z"
   },
   {
    "duration": 9,
    "start_time": "2024-01-25T16:28:07.884Z"
   },
   {
    "duration": 10,
    "start_time": "2024-01-25T16:29:38.072Z"
   },
   {
    "duration": 9,
    "start_time": "2024-01-25T16:29:40.419Z"
   },
   {
    "duration": 15,
    "start_time": "2024-01-25T19:12:09.389Z"
   },
   {
    "duration": 8,
    "start_time": "2024-01-25T19:13:09.078Z"
   },
   {
    "duration": 11,
    "start_time": "2024-01-25T20:02:22.837Z"
   },
   {
    "duration": 11,
    "start_time": "2024-01-25T20:02:28.764Z"
   },
   {
    "duration": 10,
    "start_time": "2024-01-25T20:02:35.254Z"
   },
   {
    "duration": 10,
    "start_time": "2024-01-25T20:02:41.359Z"
   },
   {
    "duration": 10,
    "start_time": "2024-01-25T20:02:49.104Z"
   },
   {
    "duration": 11,
    "start_time": "2024-01-25T20:02:54.661Z"
   },
   {
    "duration": 10,
    "start_time": "2024-01-25T20:02:58.253Z"
   },
   {
    "duration": 12,
    "start_time": "2024-01-25T20:03:07.033Z"
   },
   {
    "duration": 4185,
    "start_time": "2024-01-26T08:46:38.265Z"
   },
   {
    "duration": 1657,
    "start_time": "2024-01-26T08:46:42.453Z"
   },
   {
    "duration": 102,
    "start_time": "2024-01-26T08:46:44.112Z"
   },
   {
    "duration": 2880,
    "start_time": "2024-01-26T08:46:44.216Z"
   },
   {
    "duration": 258,
    "start_time": "2024-01-26T08:46:47.097Z"
   },
   {
    "duration": 9,
    "start_time": "2024-01-26T08:46:47.356Z"
   },
   {
    "duration": 7,
    "start_time": "2024-01-26T08:46:47.367Z"
   },
   {
    "duration": 10,
    "start_time": "2024-01-26T08:46:47.376Z"
   },
   {
    "duration": 3,
    "start_time": "2024-01-26T08:46:47.388Z"
   },
   {
    "duration": 11,
    "start_time": "2024-01-26T08:46:47.393Z"
   },
   {
    "duration": 13,
    "start_time": "2024-01-26T08:46:47.405Z"
   },
   {
    "duration": 14,
    "start_time": "2024-01-26T08:46:47.419Z"
   },
   {
    "duration": 9,
    "start_time": "2024-01-26T08:46:47.434Z"
   },
   {
    "duration": 88,
    "start_time": "2024-01-26T08:46:47.444Z"
   },
   {
    "duration": 99,
    "start_time": "2024-01-26T08:46:47.537Z"
   },
   {
    "duration": 4,
    "start_time": "2024-01-26T08:46:47.637Z"
   },
   {
    "duration": 10,
    "start_time": "2024-01-26T08:46:47.643Z"
   },
   {
    "duration": 19,
    "start_time": "2024-01-26T08:46:47.654Z"
   },
   {
    "duration": 5127,
    "start_time": "2024-01-27T13:19:58.333Z"
   },
   {
    "duration": 6,
    "start_time": "2024-01-27T13:20:51.849Z"
   },
   {
    "duration": 6223,
    "start_time": "2024-01-27T13:21:02.250Z"
   },
   {
    "duration": 1798,
    "start_time": "2024-01-27T13:21:08.476Z"
   },
   {
    "duration": 95,
    "start_time": "2024-01-27T13:21:10.276Z"
   },
   {
    "duration": 3141,
    "start_time": "2024-01-27T13:21:10.373Z"
   },
   {
    "duration": 268,
    "start_time": "2024-01-27T13:21:13.515Z"
   },
   {
    "duration": 11,
    "start_time": "2024-01-27T13:21:13.784Z"
   },
   {
    "duration": 7,
    "start_time": "2024-01-27T13:21:13.796Z"
   },
   {
    "duration": 12,
    "start_time": "2024-01-27T13:21:13.805Z"
   },
   {
    "duration": 3,
    "start_time": "2024-01-27T13:21:13.819Z"
   },
   {
    "duration": 23,
    "start_time": "2024-01-27T13:21:13.825Z"
   },
   {
    "duration": 8,
    "start_time": "2024-01-27T13:21:13.850Z"
   },
   {
    "duration": 9,
    "start_time": "2024-01-27T13:21:13.860Z"
   },
   {
    "duration": 9,
    "start_time": "2024-01-27T13:21:13.870Z"
   },
   {
    "duration": 79,
    "start_time": "2024-01-27T13:21:13.881Z"
   },
   {
    "duration": 98,
    "start_time": "2024-01-27T13:21:13.962Z"
   },
   {
    "duration": 4,
    "start_time": "2024-01-27T13:21:14.061Z"
   },
   {
    "duration": 29,
    "start_time": "2024-01-27T13:21:14.067Z"
   },
   {
    "duration": 14,
    "start_time": "2024-01-27T13:21:14.097Z"
   },
   {
    "duration": 75,
    "start_time": "2024-01-27T13:21:14.112Z"
   },
   {
    "duration": 0,
    "start_time": "2024-01-27T13:21:14.188Z"
   },
   {
    "duration": 3,
    "start_time": "2024-01-27T13:22:05.619Z"
   },
   {
    "duration": 4,
    "start_time": "2024-01-27T13:22:12.909Z"
   },
   {
    "duration": 4,
    "start_time": "2024-01-27T13:22:31.734Z"
   },
   {
    "duration": 4,
    "start_time": "2024-01-27T13:23:16.256Z"
   },
   {
    "duration": 4,
    "start_time": "2024-01-27T13:23:49.115Z"
   },
   {
    "duration": 4,
    "start_time": "2024-01-27T13:26:52.812Z"
   },
   {
    "duration": 4,
    "start_time": "2024-01-27T13:27:35.481Z"
   },
   {
    "duration": 4,
    "start_time": "2024-01-27T13:27:36.321Z"
   },
   {
    "duration": 4,
    "start_time": "2024-01-27T13:27:36.941Z"
   },
   {
    "duration": 5,
    "start_time": "2024-01-27T13:29:54.267Z"
   },
   {
    "duration": 9,
    "start_time": "2024-01-27T13:30:20.555Z"
   },
   {
    "duration": 9,
    "start_time": "2024-01-27T13:30:21.697Z"
   },
   {
    "duration": 12,
    "start_time": "2024-01-27T13:30:22.355Z"
   },
   {
    "duration": 4,
    "start_time": "2024-01-27T13:30:32.238Z"
   },
   {
    "duration": 9,
    "start_time": "2024-01-27T13:30:33.145Z"
   },
   {
    "duration": 8,
    "start_time": "2024-01-27T13:30:34.145Z"
   },
   {
    "duration": 5,
    "start_time": "2024-01-27T13:30:44.137Z"
   },
   {
    "duration": 10,
    "start_time": "2024-01-27T13:30:45.159Z"
   },
   {
    "duration": 9,
    "start_time": "2024-01-27T13:30:45.933Z"
   },
   {
    "duration": 11,
    "start_time": "2024-01-27T13:30:47.396Z"
   },
   {
    "duration": 11,
    "start_time": "2024-01-27T13:30:48.572Z"
   },
   {
    "duration": 9,
    "start_time": "2024-01-27T13:30:49.297Z"
   },
   {
    "duration": 5,
    "start_time": "2024-01-27T13:31:13.370Z"
   },
   {
    "duration": 8,
    "start_time": "2024-01-27T13:31:14.158Z"
   },
   {
    "duration": 9,
    "start_time": "2024-01-27T13:31:15.034Z"
   },
   {
    "duration": 8,
    "start_time": "2024-01-27T13:31:16.219Z"
   },
   {
    "duration": 8,
    "start_time": "2024-01-27T13:31:16.767Z"
   },
   {
    "duration": 4,
    "start_time": "2024-01-27T13:31:35.652Z"
   },
   {
    "duration": 9,
    "start_time": "2024-01-27T13:31:37.444Z"
   },
   {
    "duration": 9,
    "start_time": "2024-01-27T13:31:38.090Z"
   },
   {
    "duration": 8,
    "start_time": "2024-01-27T13:31:38.675Z"
   },
   {
    "duration": 9,
    "start_time": "2024-01-27T13:31:53.616Z"
   },
   {
    "duration": 9,
    "start_time": "2024-01-27T13:31:54.270Z"
   },
   {
    "duration": 9,
    "start_time": "2024-01-27T13:31:56.609Z"
   },
   {
    "duration": 5,
    "start_time": "2024-01-27T13:32:24.558Z"
   },
   {
    "duration": 8,
    "start_time": "2024-01-27T13:32:25.733Z"
   },
   {
    "duration": 8,
    "start_time": "2024-01-27T13:32:26.316Z"
   },
   {
    "duration": 14,
    "start_time": "2024-01-27T13:32:26.935Z"
   },
   {
    "duration": 5,
    "start_time": "2024-01-27T13:32:37.307Z"
   },
   {
    "duration": 9,
    "start_time": "2024-01-27T13:32:38.397Z"
   },
   {
    "duration": 5,
    "start_time": "2024-01-27T13:33:28.113Z"
   },
   {
    "duration": 9,
    "start_time": "2024-01-27T13:33:29.763Z"
   },
   {
    "duration": 10,
    "start_time": "2024-01-27T13:33:30.703Z"
   },
   {
    "duration": 9,
    "start_time": "2024-01-27T13:33:31.834Z"
   },
   {
    "duration": 9,
    "start_time": "2024-01-27T13:33:32.369Z"
   },
   {
    "duration": 9,
    "start_time": "2024-01-27T13:33:32.934Z"
   },
   {
    "duration": 10,
    "start_time": "2024-01-27T13:33:33.477Z"
   },
   {
    "duration": 9,
    "start_time": "2024-01-27T13:33:34.198Z"
   },
   {
    "duration": 9,
    "start_time": "2024-01-27T13:33:34.773Z"
   },
   {
    "duration": 8,
    "start_time": "2024-01-27T13:33:35.349Z"
   },
   {
    "duration": 8,
    "start_time": "2024-01-27T13:33:35.938Z"
   },
   {
    "duration": 4,
    "start_time": "2024-01-27T13:33:41.068Z"
   },
   {
    "duration": 10,
    "start_time": "2024-01-27T13:33:42.429Z"
   },
   {
    "duration": 9,
    "start_time": "2024-01-27T13:33:43.046Z"
   },
   {
    "duration": 4,
    "start_time": "2024-01-27T13:33:46.604Z"
   },
   {
    "duration": 10,
    "start_time": "2024-01-27T13:33:47.625Z"
   },
   {
    "duration": 11,
    "start_time": "2024-01-27T13:33:48.232Z"
   },
   {
    "duration": 10,
    "start_time": "2024-01-27T13:33:48.905Z"
   },
   {
    "duration": 9,
    "start_time": "2024-01-27T13:33:49.592Z"
   },
   {
    "duration": 9,
    "start_time": "2024-01-27T13:33:50.216Z"
   },
   {
    "duration": 9,
    "start_time": "2024-01-27T13:33:50.819Z"
   },
   {
    "duration": 21,
    "start_time": "2024-01-27T13:34:00.898Z"
   },
   {
    "duration": 2811,
    "start_time": "2024-01-27T13:42:27.876Z"
   },
   {
    "duration": 1580,
    "start_time": "2024-01-27T13:42:30.689Z"
   },
   {
    "duration": 47,
    "start_time": "2024-01-27T13:42:32.271Z"
   },
   {
    "duration": 3108,
    "start_time": "2024-01-27T13:42:32.320Z"
   },
   {
    "duration": 252,
    "start_time": "2024-01-27T13:42:35.430Z"
   },
   {
    "duration": 11,
    "start_time": "2024-01-27T13:42:35.684Z"
   },
   {
    "duration": 12,
    "start_time": "2024-01-27T13:42:35.696Z"
   },
   {
    "duration": 13,
    "start_time": "2024-01-27T13:42:35.710Z"
   },
   {
    "duration": 4,
    "start_time": "2024-01-27T13:42:35.725Z"
   },
   {
    "duration": 14,
    "start_time": "2024-01-27T13:42:35.731Z"
   },
   {
    "duration": 13,
    "start_time": "2024-01-27T13:42:35.746Z"
   },
   {
    "duration": 11,
    "start_time": "2024-01-27T13:42:35.760Z"
   },
   {
    "duration": 10,
    "start_time": "2024-01-27T13:42:35.772Z"
   },
   {
    "duration": 11,
    "start_time": "2024-01-27T13:42:35.783Z"
   },
   {
    "duration": 5,
    "start_time": "2024-01-27T13:42:35.795Z"
   },
   {
    "duration": 4,
    "start_time": "2024-01-27T13:42:35.802Z"
   },
   {
    "duration": 14,
    "start_time": "2024-01-27T13:42:35.807Z"
   },
   {
    "duration": 41,
    "start_time": "2024-01-27T13:42:35.823Z"
   },
   {
    "duration": 5,
    "start_time": "2024-01-27T13:42:35.865Z"
   },
   {
    "duration": 21,
    "start_time": "2024-01-27T13:42:35.872Z"
   },
   {
    "duration": 4832,
    "start_time": "2024-01-27T17:45:21.801Z"
   },
   {
    "duration": 3814,
    "start_time": "2024-01-27T17:45:26.636Z"
   },
   {
    "duration": 94,
    "start_time": "2024-01-27T17:45:30.451Z"
   },
   {
    "duration": 3083,
    "start_time": "2024-01-27T17:45:30.547Z"
   },
   {
    "duration": 309,
    "start_time": "2024-01-27T17:45:33.633Z"
   },
   {
    "duration": 11,
    "start_time": "2024-01-27T17:45:33.943Z"
   },
   {
    "duration": 7,
    "start_time": "2024-01-27T17:45:33.955Z"
   },
   {
    "duration": 15,
    "start_time": "2024-01-27T17:45:33.964Z"
   },
   {
    "duration": 4,
    "start_time": "2024-01-27T17:45:33.980Z"
   },
   {
    "duration": 11,
    "start_time": "2024-01-27T17:45:33.985Z"
   },
   {
    "duration": 3,
    "start_time": "2024-01-27T17:45:33.997Z"
   },
   {
    "duration": 10,
    "start_time": "2024-01-27T17:45:34.002Z"
   },
   {
    "duration": 13,
    "start_time": "2024-01-27T17:45:34.014Z"
   },
   {
    "duration": 13,
    "start_time": "2024-01-27T17:45:34.030Z"
   },
   {
    "duration": 41,
    "start_time": "2024-01-27T17:45:34.044Z"
   },
   {
    "duration": 11,
    "start_time": "2024-01-27T17:45:34.086Z"
   },
   {
    "duration": 5,
    "start_time": "2024-01-27T17:45:34.099Z"
   },
   {
    "duration": 10,
    "start_time": "2024-01-27T17:45:34.105Z"
   },
   {
    "duration": 8,
    "start_time": "2024-01-27T17:45:34.117Z"
   },
   {
    "duration": 23,
    "start_time": "2024-01-27T17:45:34.126Z"
   },
   {
    "duration": 98,
    "start_time": "2024-01-27T19:26:12.862Z"
   },
   {
    "duration": 1550,
    "start_time": "2024-01-27T19:26:19.559Z"
   },
   {
    "duration": 4566,
    "start_time": "2024-01-27T19:29:54.050Z"
   },
   {
    "duration": 1563,
    "start_time": "2024-01-27T19:29:58.618Z"
   },
   {
    "duration": 94,
    "start_time": "2024-01-27T19:30:00.183Z"
   },
   {
    "duration": 3125,
    "start_time": "2024-01-27T19:30:00.278Z"
   },
   {
    "duration": 340,
    "start_time": "2024-01-27T19:30:03.406Z"
   },
   {
    "duration": 11,
    "start_time": "2024-01-27T19:30:03.748Z"
   },
   {
    "duration": 39,
    "start_time": "2024-01-27T19:30:03.760Z"
   },
   {
    "duration": 14,
    "start_time": "2024-01-27T19:30:03.801Z"
   },
   {
    "duration": 41,
    "start_time": "2024-01-27T19:30:03.817Z"
   },
   {
    "duration": 35,
    "start_time": "2024-01-27T19:30:03.860Z"
   },
   {
    "duration": 43,
    "start_time": "2024-01-27T19:30:03.897Z"
   },
   {
    "duration": 18,
    "start_time": "2024-01-27T19:30:03.942Z"
   },
   {
    "duration": 24,
    "start_time": "2024-01-27T19:30:03.962Z"
   },
   {
    "duration": 37,
    "start_time": "2024-01-27T19:30:03.989Z"
   },
   {
    "duration": 34,
    "start_time": "2024-01-27T19:30:04.030Z"
   },
   {
    "duration": 32,
    "start_time": "2024-01-27T19:30:04.066Z"
   },
   {
    "duration": 31,
    "start_time": "2024-01-27T19:30:04.100Z"
   },
   {
    "duration": 12,
    "start_time": "2024-01-27T19:30:04.132Z"
   },
   {
    "duration": 40,
    "start_time": "2024-01-27T19:30:04.146Z"
   },
   {
    "duration": 17,
    "start_time": "2024-01-27T19:30:04.188Z"
   },
   {
    "duration": 43,
    "start_time": "2024-01-27T19:30:04.207Z"
   },
   {
    "duration": 6,
    "start_time": "2024-01-27T20:24:25.910Z"
   },
   {
    "duration": 5,
    "start_time": "2024-01-27T20:24:37.267Z"
   },
   {
    "duration": 13,
    "start_time": "2024-01-27T20:25:10.630Z"
   },
   {
    "duration": 7,
    "start_time": "2024-01-27T20:25:40.655Z"
   },
   {
    "duration": 19,
    "start_time": "2024-01-27T20:28:18.732Z"
   },
   {
    "duration": 14,
    "start_time": "2024-01-27T20:28:24.886Z"
   },
   {
    "duration": 90,
    "start_time": "2024-01-27T20:34:58.725Z"
   },
   {
    "duration": 141,
    "start_time": "2024-01-27T20:35:18.271Z"
   },
   {
    "duration": 14,
    "start_time": "2024-01-27T20:35:36.845Z"
   },
   {
    "duration": 12,
    "start_time": "2024-01-27T20:35:58.828Z"
   },
   {
    "duration": 15,
    "start_time": "2024-01-27T20:36:08.020Z"
   },
   {
    "duration": 19,
    "start_time": "2024-01-27T20:36:15.129Z"
   },
   {
    "duration": 5,
    "start_time": "2024-01-27T20:36:23.443Z"
   },
   {
    "duration": 15,
    "start_time": "2024-01-27T20:36:27.090Z"
   },
   {
    "duration": 16,
    "start_time": "2024-01-27T20:36:35.837Z"
   },
   {
    "duration": 6,
    "start_time": "2024-01-27T21:21:24.406Z"
   },
   {
    "duration": 13,
    "start_time": "2024-01-27T21:26:03.134Z"
   },
   {
    "duration": 6,
    "start_time": "2024-01-27T21:26:54.568Z"
   },
   {
    "duration": 13,
    "start_time": "2024-01-27T21:27:00.669Z"
   },
   {
    "duration": 16,
    "start_time": "2024-01-27T21:27:42.629Z"
   },
   {
    "duration": 75,
    "start_time": "2024-01-27T21:29:35.028Z"
   },
   {
    "duration": 15,
    "start_time": "2024-01-27T21:29:36.777Z"
   },
   {
    "duration": 4,
    "start_time": "2024-01-27T21:29:51.406Z"
   },
   {
    "duration": 12,
    "start_time": "2024-01-27T21:29:52.342Z"
   },
   {
    "duration": 5,
    "start_time": "2024-01-27T21:32:18.481Z"
   },
   {
    "duration": 15,
    "start_time": "2024-01-27T21:32:19.295Z"
   },
   {
    "duration": 4,
    "start_time": "2024-01-27T21:33:57.502Z"
   },
   {
    "duration": 11,
    "start_time": "2024-01-27T21:34:03.812Z"
   },
   {
    "duration": 19,
    "start_time": "2024-01-27T21:34:42.034Z"
   },
   {
    "duration": 4,
    "start_time": "2024-01-27T21:35:34.396Z"
   },
   {
    "duration": 4,
    "start_time": "2024-01-27T21:36:15.856Z"
   },
   {
    "duration": 14,
    "start_time": "2024-01-27T21:36:16.637Z"
   }
  ],
  "kernelspec": {
   "display_name": "Python 3 (ipykernel)",
   "language": "python",
   "name": "python3"
  },
  "language_info": {
   "codemirror_mode": {
    "name": "ipython",
    "version": 3
   },
   "file_extension": ".py",
   "mimetype": "text/x-python",
   "name": "python",
   "nbconvert_exporter": "python",
   "pygments_lexer": "ipython3",
   "version": "3.9.18"
  },
  "toc": {
   "base_numbering": 1,
   "nav_menu": {},
   "number_sections": true,
   "sideBar": true,
   "skip_h1_title": true,
   "title_cell": "Содержание",
   "title_sidebar": "Contents",
   "toc_cell": true,
   "toc_position": {},
   "toc_section_display": true,
   "toc_window_display": false
  }
 },
 "nbformat": 4,
 "nbformat_minor": 2
}
