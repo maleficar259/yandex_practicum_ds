{
 "cells": [
  {
   "cell_type": "markdown",
   "id": "3ea4064e",
   "metadata": {
    "toc": true
   },
   "source": [
    "<h1>Table of Contents<span class=\"tocSkip\"></span></h1>\n",
    "<div class=\"toc\"><ul class=\"toc-item\"><li><ul class=\"toc-item\"><li><ul class=\"toc-item\"><li><ul class=\"toc-item\"><li><span><a href=\"#-Комментарий-студента-💎\" data-toc-modified-id=\"-Комментарий-студента-💎-0.0.0.1\"><span class=\"toc-item-num\">0.0.0.1&nbsp;&nbsp;</span> Комментарий студента 💎</a></span></li></ul></li></ul></li></ul></li><li><span><a href=\"#Подготовка-данных\" data-toc-modified-id=\"Подготовка-данных-1\"><span class=\"toc-item-num\">1&nbsp;&nbsp;</span>Подготовка данных</a></span><ul class=\"toc-item\"><li><ul class=\"toc-item\"><li><ul class=\"toc-item\"><li><span><a href=\"#-Комментарий-студента-💎\" data-toc-modified-id=\"-Комментарий-студента-💎-1.0.0.1\"><span class=\"toc-item-num\">1.0.0.1&nbsp;&nbsp;</span> Комментарий студента 💎</a></span></li><li><span><a href=\"#-Комментарий-студента-💎\" data-toc-modified-id=\"-Комментарий-студента-💎-1.0.0.2\"><span class=\"toc-item-num\">1.0.0.2&nbsp;&nbsp;</span> Комментарий студента 💎</a></span></li><li><span><a href=\"#-Комментарий-студента-💎\" data-toc-modified-id=\"-Комментарий-студента-💎-1.0.0.3\"><span class=\"toc-item-num\">1.0.0.3&nbsp;&nbsp;</span> Комментарий студента 💎</a></span></li><li><span><a href=\"#-Комментарий-студента-💎\" data-toc-modified-id=\"-Комментарий-студента-💎-1.0.0.4\"><span class=\"toc-item-num\">1.0.0.4&nbsp;&nbsp;</span> Комментарий студента 💎</a></span></li><li><span><a href=\"#-Комментарий-студента-💎\" data-toc-modified-id=\"-Комментарий-студента-💎-1.0.0.5\"><span class=\"toc-item-num\">1.0.0.5&nbsp;&nbsp;</span> Комментарий студента 💎</a></span></li></ul></li></ul></li></ul></li><li><span><a href=\"#Обучение-моделей\" data-toc-modified-id=\"Обучение-моделей-2\"><span class=\"toc-item-num\">2&nbsp;&nbsp;</span>Обучение моделей</a></span></li><li><span><a href=\"#Тестирование-лучшей-модели\" data-toc-modified-id=\"Тестирование-лучшей-модели-3\"><span class=\"toc-item-num\">3&nbsp;&nbsp;</span>Тестирование лучшей модели</a></span><ul class=\"toc-item\"><li><ul class=\"toc-item\"><li><ul class=\"toc-item\"><li><span><a href=\"#-Комментарий-студента-💎\" data-toc-modified-id=\"-Комментарий-студента-💎-3.0.0.1\"><span class=\"toc-item-num\">3.0.0.1&nbsp;&nbsp;</span> Комментарий студента 💎</a></span></li></ul></li></ul></li></ul></li><li><span><a href=\"#Общий-вывод\" data-toc-modified-id=\"Общий-вывод-4\"><span class=\"toc-item-num\">4&nbsp;&nbsp;</span>Общий вывод</a></span></li></ul></div>"
   ]
  },
  {
   "cell_type": "markdown",
   "id": "07055c62",
   "metadata": {},
   "source": [
    "# Проект для «Викишоп» с BERT"
   ]
  },
  {
   "cell_type": "markdown",
   "id": "3cab17d3",
   "metadata": {},
   "source": [
    "Интернет-магазин «Викишоп» запускает новый сервис. Теперь пользователи могут редактировать и дополнять описания товаров, как в вики-сообществах. То есть клиенты предлагают свои правки и комментируют изменения других. Магазину нужен инструмент, который будет искать токсичные комментарии и отправлять их на модерацию. \n",
    "\n",
    "В данном проекте нам необходимо обучить модель классифицировать комментарии на позитивные и негативные. \n",
    "В нашем распоряжении имеется набор данных с разметкой о токсичности правок.\n",
    "\n",
    "Целевое значение метрики качества *F1* не меньше 0.75. \n",
    "\n",
    "Весь проект можно разделить на четыре основных этапа:\n",
    "\n",
    "1. Подготовка данных.\n",
    "2. Обучение моделей. \n",
    "3. Тестирование лучшей модели.\n",
    "4. Общий вывод.\n",
    "\n",
    "Для выполнения данного проекта будет применяться *BERT*.\n"
   ]
  },
  {
   "cell_type": "markdown",
   "id": "2c3c1eaa",
   "metadata": {},
   "source": [
    "## Подготовка данных"
   ]
  },
  {
   "cell_type": "code",
   "execution_count": 1,
   "id": "a02fc306",
   "metadata": {
    "scrolled": true
   },
   "outputs": [],
   "source": [
    "pip install torch -q # -q убирает необязательные выводы в командах Linux"
   ]
  },
  {
   "cell_type": "code",
   "execution_count": 2,
   "id": "ba8cc06e",
   "metadata": {},
   "outputs": [],
   "source": [
    "pip install lightgbm"
   ]
  },
  {
   "cell_type": "code",
   "execution_count": 3,
   "id": "13898315",
   "metadata": {},
   "outputs": [],
   "source": [
    "pip install catboost"
   ]
  },
  {
   "cell_type": "code",
   "execution_count": 4,
   "id": "9259e3ae",
   "metadata": {
    "scrolled": true
   },
   "outputs": [],
   "source": [
    "pip install torch torchvision torchaudio --index-url https://download.pytorch.org/whl/cu118"
   ]
  },
  {
   "cell_type": "code",
   "execution_count": 5,
   "id": "7b32e988",
   "metadata": {},
   "outputs": [],
   "source": [
    "# загружаем необходимые библиотеки\n",
    "\n",
    "import pandas as pd\n",
    "import numpy as np\n",
    "import nltk\n",
    "import transformers as ppb\n",
    "from nltk.corpus import stopwords as nltk_stopwords\n",
    "from sklearn.feature_extraction.text import TfidfVectorizer\n",
    "from sklearn.tree import DecisionTreeClassifier\n",
    "from sklearn.ensemble import RandomForestClassifier\n",
    "from sklearn.preprocessing import StandardScaler\n",
    "from sklearn.utils import shuffle\n",
    "from sklearn.linear_model import LogisticRegression\n",
    "from sklearn.model_selection import cross_val_score, train_test_split, GridSearchCV\n",
    "from sklearn.metrics import f1_score, accuracy_score, recall_score, precision_score, confusion_matrix\n",
    "from tqdm import notebook\n",
    "\n",
    "import torch\n",
    "from lightgbm import LGBMClassifier\n",
    "from catboost import CatBoostClassifier"
   ]
  },
  {
   "cell_type": "code",
   "execution_count": 6,
   "id": "bb20a2c6",
   "metadata": {},
   "outputs": [],
   "source": [
    "# константы\n",
    "\n",
    "MAX_TOKENS=510"
   ]
  },
  {
   "cell_type": "code",
   "execution_count": 7,
   "id": "30423d85",
   "metadata": {
    "scrolled": true
   },
   "outputs": [
    {
     "data": {},
     "execution_count": 7,
     "metadata": {},
     "output_type": "execute_result"
    }
   ],
   "source": [
    "data = pd.read_csv('toxic_comments.csv')\n",
    "data.info()\n",
    "data.head()"
   ]
  },
  {
   "cell_type": "code",
   "execution_count": 8,
   "id": "43d80828",
   "metadata": {},
   "outputs": [],
   "source": [
    "# так как создание embeddings для всего датасета может занять очень много времени, возьмем 5000 случайных строк\n",
    "\n",
    "data = data.sample(5000, random_state=12345)\n",
    "data.drop('Unnamed: 0', axis=1, inplace=True)"
   ]
  },
  {
   "cell_type": "code",
   "execution_count": 9,
   "id": "cdaae1a7",
   "metadata": {
    "scrolled": true
   },
   "outputs": [],
   "source": [
    "# model_class, tokenizer_class, pretrained_weights = (ppb.BertModel, ppb.BertTokenizer, 'bert-base-uncased')\n",
    "\n",
    "model_class, tokenizer_class, pretrained_weights = (ppb.BertModel, ppb.BertTokenizer, 'unitary/toxic-bert')"
   ]
  },
  {
   "cell_type": "code",
   "execution_count": 10,
   "id": "5601bd9d",
   "metadata": {},
   "outputs": [],
   "source": [
    "# загрузка предобученной модели/токенизатора \n",
    "tokenizer = tokenizer_class.from_pretrained(pretrained_weights)\n",
    "model = model_class.from_pretrained(pretrained_weights)"
   ]
  },
  {
   "cell_type": "code",
   "execution_count": 11,
   "id": "8f1449f5",
   "metadata": {},
   "outputs": [],
   "source": [
    "# токенизируем наши данные\n",
    "# обрежем предложения, которые длиннее чем 510 токенов, так как максимальная длина, с которой может работать модель - 512\n",
    "# 2 слота оставляем для токена начала и окончания\n",
    "\n",
    "tokenized = data['text'].apply((lambda x: tokenizer.encode(x, add_special_tokens=True, max_length=MAX_TOKENS, truncation=True)))\n"
   ]
  },
  {
   "cell_type": "code",
   "execution_count": 12,
   "id": "a6d86a11",
   "metadata": {},
   "outputs": [
    {
     "data": {},
     "execution_count": 12,
     "metadata": {},
     "output_type": "execute_result"
    }
   ],
   "source": [
    "# теперь приведём каждый вектор в соответствие с длиной самого длинного вектора\n",
    "# для этого проставим нули в количестве, не достающем до длины максимального вектора\n",
    "\n",
    "max_len = 0\n",
    "for i in tokenized.values:\n",
    "    if len(i) > max_len:\n",
    "        max_len = len(i)\n",
    "\n",
    "padded = np.array([i + [0]*(max_len - len(i)) for i in tokenized.values])\n",
    "padded"
   ]
  },
  {
   "cell_type": "code",
   "execution_count": 13,
   "id": "2220ca95",
   "metadata": {},
   "outputs": [],
   "source": [
    "# создадим attention_mask, чтобы показать, какие элементры каждого вектора важны (все ненулевые значения)\n",
    "attention_mask = np.where(padded != 0, 1, 0)\n"
   ]
  },
  {
   "cell_type": "code",
   "execution_count": 18,
   "id": "b88608a2",
   "metadata": {
    "scrolled": false
   },
   "outputs": [
    {
     "data": {
      "application/vnd.jupyter.widget-view+json": {
       "model_id": "62175ebef7d74d2f889c89276e58e217",
       "version_major": 2,
       "version_minor": 0
      }
     },
     "metadata": {},
     "output_type": "display_data"
    }
   ],
   "source": [
    "# теперь создадим embeddings, разбивая весь датасет на небольшие батчи\n",
    "\n",
    "batch_size = 50\n",
    "embeddings = []\n",
    "\n",
    "model.cuda()\n",
    "for i in notebook.tqdm(range(padded.shape[0] // batch_size)):\n",
    "        batch = torch.LongTensor(padded[batch_size*i:batch_size*(i+1)]).cuda()\n",
    "        attention_mask_batch = torch.LongTensor(attention_mask[batch_size*i:batch_size*(i+1)]).cuda()\n",
    "        \n",
    "        with torch.no_grad():\n",
    "            batch_embeddings = model(batch, attention_mask=attention_mask_batch)\n",
    "        \n",
    "        embeddings.append(batch_embeddings[0][:,0,:].cpu().numpy())\n",
    "        \n",
    "        del batch\n",
    "        del attention_mask_batch\n",
    "        del batch_embeddings"
   ]
  },
  {
   "cell_type": "code",
   "execution_count": 19,
   "id": "78f5428d",
   "metadata": {},
   "outputs": [],
   "source": [
    "# объединим все embeddings в один датасет features\n",
    "features = pd.DataFrame(np.concatenate(embeddings))"
   ]
  },
  {
   "cell_type": "code",
   "execution_count": 20,
   "id": "87b49ecd",
   "metadata": {},
   "outputs": [],
   "source": [
    "features.index = data.index"
   ]
  },
  {
   "cell_type": "code",
   "execution_count": null,
   "id": "69f2acc0",
   "metadata": {},
   "outputs": [],
   "source": [
    "# features = pd.read_csv('features.csv')\n",
    "# features.drop('Unnamed: 0', axis=1, inplace=True)\n",
    "# features"
   ]
  },
  {
   "cell_type": "code",
   "execution_count": 21,
   "id": "1fa64b5b",
   "metadata": {
    "scrolled": false
   },
   "outputs": [
    {
     "data": {},
     "metadata": {},
     "output_type": "display_data"
    },
    {
     "data": {},
     "metadata": {},
     "output_type": "display_data"
    },
    {
     "data": {},
     "metadata": {},
     "output_type": "display_data"
    },
    {
     "data": {},
     "metadata": {},
     "output_type": "display_data"
    }
   ],
   "source": [
    "# разбиваем данные на обучающую и тестовую выборки\n",
    "\n",
    "features_train, features_test, target_train, target_test = train_test_split(\n",
    "    features,\n",
    "    data['toxic'],\n",
    "    random_state=12345\n",
    ")\n",
    "\n",
    "display(features_train.shape, features_test.shape, target_train.shape, target_test.shape)"
   ]
  },
  {
   "cell_type": "code",
   "execution_count": 22,
   "id": "78053720",
   "metadata": {},
   "outputs": [
    {
     "data": {},
     "execution_count": 22,
     "metadata": {},
     "output_type": "execute_result"
    }
   ],
   "source": [
    "(target_train == 1).mean()"
   ]
  },
  {
   "cell_type": "code",
   "execution_count": null,
   "id": "8fcca0cf",
   "metadata": {},
   "outputs": [],
   "source": [
    "def upsample(features, target, repeat):\n",
    "    features_zeros = features[target == 0]\n",
    "    features_ones = features[target == 1]\n",
    "    target_zeros = target[target == 0]\n",
    "    target_ones = target[target == 1]\n",
    "\n",
    "    features_upsampled = pd.concat([features_zeros] + [features_ones] * repeat)\n",
    "    target_upsampled = pd.concat([target_zeros] + [target_ones] * repeat)\n",
    "    \n",
    "    features_upsampled, target_upsampled = shuffle(\n",
    "        features_upsampled, target_upsampled, random_state=12345)\n",
    "    \n",
    "    return features_upsampled, target_upsampled"
   ]
  },
  {
   "cell_type": "markdown",
   "id": "6336bc6a",
   "metadata": {},
   "source": [
    "Итак в первом этапе мы сделали следующие действия:\n",
    "- Загрузили имеющиеся данные.\n",
    "- Выделили 5000 случайных строк, с которыми будет работать BERT.\n",
    "- Токенизировали наши твиты.\n",
    "- Провели padding - сделали вектора токенов одной длины, равной самому длинному твиту.\n",
    "- Создали attention_mask и разметили, какие данные в каждом векторе важны для BERT.\n",
    "- Создали embeddings, используя разделение по батчам в целях экономии памяти, из которых сформировали features.\n",
    "- Раздили features и target на обучающую и тестовую выборки в соотношении 3:1."
   ]
  },
  {
   "cell_type": "markdown",
   "id": "b3cd49d1",
   "metadata": {},
   "source": [
    "## Обучение моделей"
   ]
  },
  {
   "cell_type": "markdown",
   "id": "34f2b897",
   "metadata": {},
   "source": [
    "В данном разделе нам необходимо обучить несколько моделей и выбрать из них лучшую.  \n",
    "\n",
    "Рассмотрим модели дерева решений, случайного леса, логистической регрессии и LGBM."
   ]
  },
  {
   "cell_type": "code",
   "execution_count": 24,
   "id": "5a88913a",
   "metadata": {
    "scrolled": false
   },
   "outputs": [],
   "source": [
    "# дерево решений\n",
    "\n",
    "decision_tree = DecisionTreeClassifier(random_state=12345)\n",
    "\n",
    "tree_parameters_grid = {\n",
    "   'max_depth' : range(1, 16),\n",
    "}\n",
    "\n",
    "tree_grid_cv = GridSearchCV(\n",
    "    decision_tree,\n",
    "    tree_parameters_grid,\n",
    "    cv=3,\n",
    "    scoring='f1',\n",
    "    verbose=3,\n",
    "    error_score='raise'\n",
    ")\n",
    "tree_grid_cv.fit(features_train, target_train)\n",
    "print(f'Наилучшее значение параметра max_depth: {tree_grid_cv.best_params_}') \n",
    "print(f'Наилучший показатель F1_score: {tree_grid_cv.best_score_}')"
   ]
  },
  {
   "cell_type": "markdown",
   "id": "ed149604",
   "metadata": {},
   "source": [
    "Дерево решений:\n",
    "- max_depth=2.\n",
    "- F1_score ~ 0.923."
   ]
  },
  {
   "cell_type": "code",
   "execution_count": 26,
   "id": "a3ad9acb",
   "metadata": {},
   "outputs": [],
   "source": [
    "# модель случайного леса\n",
    "\n",
    "random_forest = RandomForestClassifier(random_state=12345)\n",
    "\n",
    "forest_parameters_grid = {\n",
    "    'max_depth' : range(10, 21, 2),\n",
    "    'n_estimators' : range(80, 210, 40)\n",
    "}\n",
    "\n",
    "forest_grid_cv = GridSearchCV(\n",
    "    random_forest,\n",
    "    forest_parameters_grid,\n",
    "    cv=3,\n",
    "    scoring='f1',\n",
    "    verbose=3,\n",
    "    error_score='raise',\n",
    "    n_jobs=-1\n",
    ")\n",
    "forest_grid_cv.fit(features_train, target_train)\n",
    "print(f'Наилучшее значение параметра max_depth: {forest_grid_cv.best_params_}') \n",
    "print(f'Наилучший показатель F1_score: {forest_grid_cv.best_score_}')"
   ]
  },
  {
   "cell_type": "markdown",
   "id": "b9f01162",
   "metadata": {},
   "source": [
    "Дерево решений:\n",
    "- max_depth=10.\n",
    "- n_estimators=200.\n",
    "- F1_score ~ 0.935."
   ]
  },
  {
   "cell_type": "markdown",
   "id": "5b25328a",
   "metadata": {},
   "source": [
    "<font color='blue'><b>Комментарий ревьюера : </b></font> ✔️\\\n",
    "<font color='green'> 👍</font>"
   ]
  },
  {
   "cell_type": "code",
   "execution_count": 33,
   "id": "03cb65c7",
   "metadata": {
    "scrolled": false
   },
   "outputs": [],
   "source": [
    "# логистическая регрессия \n",
    "\n",
    "log_regression = LogisticRegression(random_state=12345)\n",
    "\n",
    "log_regression_grid = {\n",
    "    'class_weight' : ['balanced', None],\n",
    "    'penalty' : ['l1', 'l2'],\n",
    "    'C' : [0.1, 0.5, 1.0],\n",
    "    'solver' : ['liblinear']\n",
    "}\n",
    "\n",
    "log_regression_grid_cv = GridSearchCV(\n",
    "    log_regression,\n",
    "    log_regression_grid,\n",
    "    cv=5,\n",
    "    scoring='f1',\n",
    "    verbose=3,\n",
    "    error_score='raise',\n",
    "    n_jobs=-1\n",
    ")\n",
    "log_regression_grid_cv.fit(features_train, target_train)\n",
    "print(f'Наилучшее значение параметра max_depth: {log_regression_grid_cv.best_params_}') \n",
    "print(f'Наилучший показатель F1_score: {log_regression_grid_cv.best_score_}')"
   ]
  },
  {
   "cell_type": "markdown",
   "id": "538f8be3",
   "metadata": {},
   "source": [
    "Логистическая регрессия:\n",
    "- С - 0.1.\n",
    "- class_weight - None.\n",
    "- penalty - l2.\n",
    "- F1_score ~ 0.937."
   ]
  },
  {
   "cell_type": "code",
   "execution_count": 34,
   "id": "6f241002",
   "metadata": {},
   "outputs": [],
   "source": [
    "# Теперь переходим к градиентному бустингу с помощью LGBM\n",
    "\n",
    "lgbm_model = LGBMClassifier(random_state=12345)\n",
    "\n",
    "lgbm_parameters_grid = {\n",
    "    'max_depth' : range(10, 21, 2),\n",
    "    'num_leaves' : [31],\n",
    "    'n_estimators' : range(80, 170, 40),\n",
    "}\n",
    "\n",
    "lgbm_grid_cv = GridSearchCV(\n",
    "    lgbm_model,\n",
    "    lgbm_parameters_grid,\n",
    "    cv=3,\n",
    "    scoring='f1',\n",
    "    verbose=3,\n",
    "    error_score='raise',\n",
    "    n_jobs=-1\n",
    ")\n",
    "lgbm_grid_cv.fit(features_train, target_train)\n",
    "print(f'Наилучшие значения параметров: {lgbm_grid_cv.best_params_}') \n",
    "print(f'Наилучший показатель F1_score: {lgbm_grid_cv.best_score_}')"
   ]
  },
  {
   "cell_type": "markdown",
   "id": "75f35761",
   "metadata": {},
   "source": [
    "Дерево решений:\n",
    "- max_depth=10.\n",
    "- n_estimators=160.\n",
    "- F1_score ~ 0.936."
   ]
  },
  {
   "cell_type": "markdown",
   "id": "c94b8fce",
   "metadata": {},
   "source": [
    "По итогам построения моделей лучшей оказалась модель логистической регрессии.  \n",
    "В следующем этапе работы мы поверим её на тестовой выборке."
   ]
  },
  {
   "cell_type": "markdown",
   "id": "4478957d",
   "metadata": {},
   "source": [
    "## Тестирование лучшей модели"
   ]
  },
  {
   "cell_type": "code",
   "execution_count": 36,
   "id": "dd52b678",
   "metadata": {},
   "outputs": [
    {
     "data": {},
     "execution_count": 36,
     "metadata": {},
     "output_type": "execute_result"
    }
   ],
   "source": [
    "log_regression = LogisticRegression(\n",
    "    solver='liblinear',\n",
    "    penalty='l2',\n",
    "    C=0.1,\n",
    "    random_state=12345\n",
    ")\n",
    "\n",
    "log_regression.fit(features_train, target_train)\n",
    "\n",
    "pred = log_regression.predict(features_test)\n",
    "\n",
    "f1_score(target_test, pred)\n"
   ]
  },
  {
   "cell_type": "markdown",
   "id": "08f6bba9",
   "metadata": {},
   "source": [
    "Наша выбранная модель показала на тестовой выборке результат метрики F1 ~ 0.952.\n",
    "\n",
    "Сравним этот результат с наивным столбцом, где все значения = 1."
   ]
  },
  {
   "cell_type": "markdown",
   "id": "4c79177b",
   "metadata": {},
   "source": [
    "Логистическая регрессия:\n",
    "- С - 0.1.\n",
    "- class_weight - None.\n",
    "- penalty - l2.\n",
    "- F1_score ~ 0.937."
   ]
  },
  {
   "cell_type": "code",
   "execution_count": null,
   "id": "77d68249",
   "metadata": {},
   "outputs": [],
   "source": [
    "ones_series = pd.Series(1, index=range(len(target_test)))\n",
    "\n",
    "f1_score(target_test, ones_series)\n"
   ]
  },
  {
   "cell_type": "markdown",
   "id": "79f7b79f",
   "metadata": {},
   "source": [
    "## Общий вывод"
   ]
  },
  {
   "cell_type": "markdown",
   "id": "2ee63047",
   "metadata": {},
   "source": [
    "Итого в данном проекте мы выполнили следующие этапы.\n",
    "\n",
    "**1 этап**\n",
    "\n",
    "- Загрузили имеющиеся данные.\n",
    "- Выделили 5000 случайных строк, с которыми будет работать BERT.\n",
    "- Токенизировали наши твиты.\n",
    "- Провели padding - сделали вектора токенов одной длины, равной самому длинному твиту.\n",
    "- Создали attention_mask и разметили, какие данные в каждом векторе важны для BERT.\n",
    "- Создали embeddings, используя разделение по батчам в целях экономии памяти, из которых сформировали features.\n",
    "- Раздили features и target на обучающую и тестовую выборки в соотношении 3:1.\n",
    "\n",
    "\n",
    "**2-3 этапы**\n",
    "\n",
    "- Обучили несколько моделей, включая дерево решений, случайный лес, логистическую регрессию, LGBM.\n",
    "- Подобрали гиперпараметры и провели кросс-валидацию.\n",
    "- Выбрали из лучшую модель и проверили её на тестовой выборке.\n",
    "- Итоговая метрика F1 получилась равна 0.71."
   ]
  }
 ],
 "metadata": {
  "kernelspec": {
   "display_name": "Python 3 (ipykernel)",
   "language": "python",
   "name": "python3"
  },
  "language_info": {
   "codemirror_mode": {
    "name": "ipython",
    "version": 3
   },
   "file_extension": ".py",
   "mimetype": "text/x-python",
   "name": "python",
   "nbconvert_exporter": "python",
   "pygments_lexer": "ipython3",
   "version": "3.9.18"
  },
  "toc": {
   "base_numbering": 1,
   "nav_menu": {
    "height": "276px",
    "width": "272px"
   },
   "number_sections": true,
   "sideBar": true,
   "skip_h1_title": true,
   "title_cell": "Table of Contents",
   "title_sidebar": "Contents",
   "toc_cell": true,
   "toc_position": {},
   "toc_section_display": true,
   "toc_window_display": false
  },
  "varInspector": {
   "cols": {
    "lenName": 16,
    "lenType": 16,
    "lenVar": 40
   },
   "kernels_config": {
    "python": {
     "delete_cmd_postfix": "",
     "delete_cmd_prefix": "del ",
     "library": "var_list.py",
     "varRefreshCmd": "print(var_dic_list())"
    },
    "r": {
     "delete_cmd_postfix": ") ",
     "delete_cmd_prefix": "rm(",
     "library": "var_list.r",
     "varRefreshCmd": "cat(var_dic_list()) "
    }
   },
   "types_to_exclude": [
    "module",
    "function",
    "builtin_function_or_method",
    "instance",
    "_Feature"
   ],
   "window_display": false
  }
 },
 "nbformat": 4,
 "nbformat_minor": 5
}
