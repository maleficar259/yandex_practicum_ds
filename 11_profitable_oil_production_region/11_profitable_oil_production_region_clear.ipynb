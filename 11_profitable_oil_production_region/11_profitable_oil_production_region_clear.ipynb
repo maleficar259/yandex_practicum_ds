{
 "cells": [
  {
   "cell_type": "markdown",
   "metadata": {},
   "source": [
    "# Проект \"Выбор локации для скважины\""
   ]
  },
  {
   "cell_type": "markdown",
   "metadata": {},
   "source": [
    "Допустим, вы работаете в добывающей компании «ГлавРосГосНефть». Нужно решить, где бурить новую скважину.\n",
    "\n",
    "Вам предоставлены пробы нефти в трёх регионах: в каждом 10 000 месторождений, где измерили качество нефти и объём её запасов. Постройте модель машинного обучения, которая поможет определить регион, где добыча принесёт наибольшую прибыль. Проанализируйте возможную прибыль и риски техникой *Bootstrap.*\n",
    "\n",
    "Шаги для выбора локации:\n",
    "\n",
    "- В избранном регионе ищут месторождения, для каждого определяют значения признаков;\n",
    "- Строят модель и оценивают объём запасов;\n",
    "- Выбирают месторождения с самым высокими оценками значений. Количество месторождений зависит от бюджета компании и стоимости разработки одной скважины;\n",
    "- Прибыль равна суммарной прибыли отобранных месторождений.\n",
    "\n",
    "В данном проекте нам необходимо выполнить несколько этапов:\n",
    "- Ознакомиться с имеющимися данными и подготовить их к обработке.\n",
    "- Обучить и проверить модели для каждого из регионов.\n",
    "- Подготовить данные к расчету прибыли.\n",
    "- С помощью функции автоматизировать расчет прибыли для выбранных скважин и предсказаний модели.\n",
    "- Оценить риски и прибыль каждого региона.\n",
    "- Сделать финальный вывод."
   ]
  },
  {
   "cell_type": "markdown",
   "metadata": {},
   "source": [
    "## Загрузка и подготовка данных"
   ]
  },
  {
   "cell_type": "markdown",
   "metadata": {},
   "source": [
    "В течение первого этапа нам необходимо ознакомиться с имеющимися данными и провести их предобработку, если необходимо, включая:\n",
    "- Обработка пропусков;\n",
    "- Оценка наличия явных и неявных дубликатов;\n",
    "- Корректировка типов данных, где это применимо;\n",
    "- Кодирование признаков, где это применимо."
   ]
  },
  {
   "cell_type": "code",
   "execution_count": 1,
   "metadata": {},
   "outputs": [],
   "source": [
    "# импортируем нужные библиотеки\n",
    "\n",
    "import pandas as pd\n",
    "import numpy as np\n",
    "import seaborn as sns\n",
    "\n",
    "from matplotlib import pyplot as plt\n",
    "from sklearn.linear_model import LinearRegression\n",
    "from sklearn.preprocessing import OrdinalEncoder, StandardScaler\n",
    "from sklearn.model_selection import train_test_split, cross_val_score\n",
    "from sklearn.metrics import mean_squared_error, accuracy_score, f1_score, roc_curve, roc_auc_score\n",
    "from sklearn.utils import shuffle\n",
    "from tqdm import tqdm"
   ]
  },
  {
   "cell_type": "code",
   "execution_count": 2,
   "metadata": {},
   "outputs": [
    {
     "name": "stdout",
     "output_type": "stream",
     "text": [
      "<class 'pandas.core.frame.DataFrame'>\n",
      "RangeIndex: 100000 entries, 0 to 99999\n",
      "Data columns (total 5 columns):\n",
      " #   Column   Non-Null Count   Dtype  \n",
      "---  ------   --------------   -----  \n",
      " 0   id       100000 non-null  object \n",
      " 1   f0       100000 non-null  float64\n",
      " 2   f1       100000 non-null  float64\n",
      " 3   f2       100000 non-null  float64\n",
      " 4   product  100000 non-null  float64\n",
      "dtypes: float64(4), object(1)\n",
      "memory usage: 3.8+ MB\n"
     ]
    },
    {
     "data": {
      "text/html": [
       "<div>\n",
       "<style scoped>\n",
       "    .dataframe tbody tr th:only-of-type {\n",
       "        vertical-align: middle;\n",
       "    }\n",
       "\n",
       "    .dataframe tbody tr th {\n",
       "        vertical-align: top;\n",
       "    }\n",
       "\n",
       "    .dataframe thead th {\n",
       "        text-align: right;\n",
       "    }\n",
       "</style>\n",
       "<table border=\"1\" class=\"dataframe\">\n",
       "  <thead>\n",
       "    <tr style=\"text-align: right;\">\n",
       "      <th></th>\n",
       "      <th>id</th>\n",
       "      <th>f0</th>\n",
       "      <th>f1</th>\n",
       "      <th>f2</th>\n",
       "      <th>product</th>\n",
       "    </tr>\n",
       "  </thead>\n",
       "  <tbody>\n",
       "    <tr>\n",
       "      <th>0</th>\n",
       "      <td>txEyH</td>\n",
       "      <td>0.705745</td>\n",
       "      <td>-0.497823</td>\n",
       "      <td>1.221170</td>\n",
       "      <td>105.280062</td>\n",
       "    </tr>\n",
       "    <tr>\n",
       "      <th>1</th>\n",
       "      <td>2acmU</td>\n",
       "      <td>1.334711</td>\n",
       "      <td>-0.340164</td>\n",
       "      <td>4.365080</td>\n",
       "      <td>73.037750</td>\n",
       "    </tr>\n",
       "    <tr>\n",
       "      <th>2</th>\n",
       "      <td>409Wp</td>\n",
       "      <td>1.022732</td>\n",
       "      <td>0.151990</td>\n",
       "      <td>1.419926</td>\n",
       "      <td>85.265647</td>\n",
       "    </tr>\n",
       "    <tr>\n",
       "      <th>3</th>\n",
       "      <td>iJLyR</td>\n",
       "      <td>-0.032172</td>\n",
       "      <td>0.139033</td>\n",
       "      <td>2.978566</td>\n",
       "      <td>168.620776</td>\n",
       "    </tr>\n",
       "    <tr>\n",
       "      <th>4</th>\n",
       "      <td>Xdl7t</td>\n",
       "      <td>1.988431</td>\n",
       "      <td>0.155413</td>\n",
       "      <td>4.751769</td>\n",
       "      <td>154.036647</td>\n",
       "    </tr>\n",
       "    <tr>\n",
       "      <th>5</th>\n",
       "      <td>wX4Hy</td>\n",
       "      <td>0.969570</td>\n",
       "      <td>0.489775</td>\n",
       "      <td>-0.735383</td>\n",
       "      <td>64.741541</td>\n",
       "    </tr>\n",
       "    <tr>\n",
       "      <th>6</th>\n",
       "      <td>tL6pL</td>\n",
       "      <td>0.645075</td>\n",
       "      <td>0.530656</td>\n",
       "      <td>1.780266</td>\n",
       "      <td>49.055285</td>\n",
       "    </tr>\n",
       "    <tr>\n",
       "      <th>7</th>\n",
       "      <td>BYPU6</td>\n",
       "      <td>-0.400648</td>\n",
       "      <td>0.808337</td>\n",
       "      <td>-5.624670</td>\n",
       "      <td>72.943292</td>\n",
       "    </tr>\n",
       "    <tr>\n",
       "      <th>8</th>\n",
       "      <td>j9Oui</td>\n",
       "      <td>0.643105</td>\n",
       "      <td>-0.551583</td>\n",
       "      <td>2.372141</td>\n",
       "      <td>113.356160</td>\n",
       "    </tr>\n",
       "    <tr>\n",
       "      <th>9</th>\n",
       "      <td>OLuZU</td>\n",
       "      <td>2.173381</td>\n",
       "      <td>0.563698</td>\n",
       "      <td>9.441852</td>\n",
       "      <td>127.910945</td>\n",
       "    </tr>\n",
       "  </tbody>\n",
       "</table>\n",
       "</div>"
      ],
      "text/plain": [
       "      id        f0        f1        f2     product\n",
       "0  txEyH  0.705745 -0.497823  1.221170  105.280062\n",
       "1  2acmU  1.334711 -0.340164  4.365080   73.037750\n",
       "2  409Wp  1.022732  0.151990  1.419926   85.265647\n",
       "3  iJLyR -0.032172  0.139033  2.978566  168.620776\n",
       "4  Xdl7t  1.988431  0.155413  4.751769  154.036647\n",
       "5  wX4Hy  0.969570  0.489775 -0.735383   64.741541\n",
       "6  tL6pL  0.645075  0.530656  1.780266   49.055285\n",
       "7  BYPU6 -0.400648  0.808337 -5.624670   72.943292\n",
       "8  j9Oui  0.643105 -0.551583  2.372141  113.356160\n",
       "9  OLuZU  2.173381  0.563698  9.441852  127.910945"
      ]
     },
     "execution_count": 2,
     "metadata": {},
     "output_type": "execute_result"
    }
   ],
   "source": [
    "data_1 = pd.read_csv('/datasets/geo_data_0.csv')\n",
    "data_1.info()\n",
    "data_1.head(10)"
   ]
  },
  {
   "cell_type": "code",
   "execution_count": 3,
   "metadata": {},
   "outputs": [
    {
     "name": "stdout",
     "output_type": "stream",
     "text": [
      "<class 'pandas.core.frame.DataFrame'>\n",
      "RangeIndex: 100000 entries, 0 to 99999\n",
      "Data columns (total 5 columns):\n",
      " #   Column   Non-Null Count   Dtype  \n",
      "---  ------   --------------   -----  \n",
      " 0   id       100000 non-null  object \n",
      " 1   f0       100000 non-null  float64\n",
      " 2   f1       100000 non-null  float64\n",
      " 3   f2       100000 non-null  float64\n",
      " 4   product  100000 non-null  float64\n",
      "dtypes: float64(4), object(1)\n",
      "memory usage: 3.8+ MB\n"
     ]
    },
    {
     "data": {
      "text/html": [
       "<div>\n",
       "<style scoped>\n",
       "    .dataframe tbody tr th:only-of-type {\n",
       "        vertical-align: middle;\n",
       "    }\n",
       "\n",
       "    .dataframe tbody tr th {\n",
       "        vertical-align: top;\n",
       "    }\n",
       "\n",
       "    .dataframe thead th {\n",
       "        text-align: right;\n",
       "    }\n",
       "</style>\n",
       "<table border=\"1\" class=\"dataframe\">\n",
       "  <thead>\n",
       "    <tr style=\"text-align: right;\">\n",
       "      <th></th>\n",
       "      <th>id</th>\n",
       "      <th>f0</th>\n",
       "      <th>f1</th>\n",
       "      <th>f2</th>\n",
       "      <th>product</th>\n",
       "    </tr>\n",
       "  </thead>\n",
       "  <tbody>\n",
       "    <tr>\n",
       "      <th>0</th>\n",
       "      <td>kBEdx</td>\n",
       "      <td>-15.001348</td>\n",
       "      <td>-8.276000</td>\n",
       "      <td>-0.005876</td>\n",
       "      <td>3.179103</td>\n",
       "    </tr>\n",
       "    <tr>\n",
       "      <th>1</th>\n",
       "      <td>62mP7</td>\n",
       "      <td>14.272088</td>\n",
       "      <td>-3.475083</td>\n",
       "      <td>0.999183</td>\n",
       "      <td>26.953261</td>\n",
       "    </tr>\n",
       "    <tr>\n",
       "      <th>2</th>\n",
       "      <td>vyE1P</td>\n",
       "      <td>6.263187</td>\n",
       "      <td>-5.948386</td>\n",
       "      <td>5.001160</td>\n",
       "      <td>134.766305</td>\n",
       "    </tr>\n",
       "    <tr>\n",
       "      <th>3</th>\n",
       "      <td>KcrkZ</td>\n",
       "      <td>-13.081196</td>\n",
       "      <td>-11.506057</td>\n",
       "      <td>4.999415</td>\n",
       "      <td>137.945408</td>\n",
       "    </tr>\n",
       "    <tr>\n",
       "      <th>4</th>\n",
       "      <td>AHL4O</td>\n",
       "      <td>12.702195</td>\n",
       "      <td>-8.147433</td>\n",
       "      <td>5.004363</td>\n",
       "      <td>134.766305</td>\n",
       "    </tr>\n",
       "    <tr>\n",
       "      <th>5</th>\n",
       "      <td>HHckp</td>\n",
       "      <td>-3.327590</td>\n",
       "      <td>-2.205276</td>\n",
       "      <td>3.003647</td>\n",
       "      <td>84.038886</td>\n",
       "    </tr>\n",
       "    <tr>\n",
       "      <th>6</th>\n",
       "      <td>h5Ujo</td>\n",
       "      <td>-11.142655</td>\n",
       "      <td>-10.133399</td>\n",
       "      <td>4.002382</td>\n",
       "      <td>110.992147</td>\n",
       "    </tr>\n",
       "    <tr>\n",
       "      <th>7</th>\n",
       "      <td>muH9x</td>\n",
       "      <td>4.234715</td>\n",
       "      <td>-0.001354</td>\n",
       "      <td>2.004588</td>\n",
       "      <td>53.906522</td>\n",
       "    </tr>\n",
       "    <tr>\n",
       "      <th>8</th>\n",
       "      <td>YiRkx</td>\n",
       "      <td>13.355129</td>\n",
       "      <td>-0.332068</td>\n",
       "      <td>4.998647</td>\n",
       "      <td>134.766305</td>\n",
       "    </tr>\n",
       "    <tr>\n",
       "      <th>9</th>\n",
       "      <td>jG6Gi</td>\n",
       "      <td>1.069227</td>\n",
       "      <td>-11.025667</td>\n",
       "      <td>4.997844</td>\n",
       "      <td>137.945408</td>\n",
       "    </tr>\n",
       "  </tbody>\n",
       "</table>\n",
       "</div>"
      ],
      "text/plain": [
       "      id         f0         f1        f2     product\n",
       "0  kBEdx -15.001348  -8.276000 -0.005876    3.179103\n",
       "1  62mP7  14.272088  -3.475083  0.999183   26.953261\n",
       "2  vyE1P   6.263187  -5.948386  5.001160  134.766305\n",
       "3  KcrkZ -13.081196 -11.506057  4.999415  137.945408\n",
       "4  AHL4O  12.702195  -8.147433  5.004363  134.766305\n",
       "5  HHckp  -3.327590  -2.205276  3.003647   84.038886\n",
       "6  h5Ujo -11.142655 -10.133399  4.002382  110.992147\n",
       "7  muH9x   4.234715  -0.001354  2.004588   53.906522\n",
       "8  YiRkx  13.355129  -0.332068  4.998647  134.766305\n",
       "9  jG6Gi   1.069227 -11.025667  4.997844  137.945408"
      ]
     },
     "execution_count": 3,
     "metadata": {},
     "output_type": "execute_result"
    }
   ],
   "source": [
    "data_2 = pd.read_csv('/datasets/geo_data_1.csv')\n",
    "data_2.info()\n",
    "data_2.head(10)"
   ]
  },
  {
   "cell_type": "code",
   "execution_count": 4,
   "metadata": {},
   "outputs": [
    {
     "name": "stdout",
     "output_type": "stream",
     "text": [
      "<class 'pandas.core.frame.DataFrame'>\n",
      "RangeIndex: 100000 entries, 0 to 99999\n",
      "Data columns (total 5 columns):\n",
      " #   Column   Non-Null Count   Dtype  \n",
      "---  ------   --------------   -----  \n",
      " 0   id       100000 non-null  object \n",
      " 1   f0       100000 non-null  float64\n",
      " 2   f1       100000 non-null  float64\n",
      " 3   f2       100000 non-null  float64\n",
      " 4   product  100000 non-null  float64\n",
      "dtypes: float64(4), object(1)\n",
      "memory usage: 3.8+ MB\n"
     ]
    },
    {
     "data": {
      "text/html": [
       "<div>\n",
       "<style scoped>\n",
       "    .dataframe tbody tr th:only-of-type {\n",
       "        vertical-align: middle;\n",
       "    }\n",
       "\n",
       "    .dataframe tbody tr th {\n",
       "        vertical-align: top;\n",
       "    }\n",
       "\n",
       "    .dataframe thead th {\n",
       "        text-align: right;\n",
       "    }\n",
       "</style>\n",
       "<table border=\"1\" class=\"dataframe\">\n",
       "  <thead>\n",
       "    <tr style=\"text-align: right;\">\n",
       "      <th></th>\n",
       "      <th>id</th>\n",
       "      <th>f0</th>\n",
       "      <th>f1</th>\n",
       "      <th>f2</th>\n",
       "      <th>product</th>\n",
       "    </tr>\n",
       "  </thead>\n",
       "  <tbody>\n",
       "    <tr>\n",
       "      <th>0</th>\n",
       "      <td>fwXo0</td>\n",
       "      <td>-1.146987</td>\n",
       "      <td>0.963328</td>\n",
       "      <td>-0.828965</td>\n",
       "      <td>27.758673</td>\n",
       "    </tr>\n",
       "    <tr>\n",
       "      <th>1</th>\n",
       "      <td>WJtFt</td>\n",
       "      <td>0.262778</td>\n",
       "      <td>0.269839</td>\n",
       "      <td>-2.530187</td>\n",
       "      <td>56.069697</td>\n",
       "    </tr>\n",
       "    <tr>\n",
       "      <th>2</th>\n",
       "      <td>ovLUW</td>\n",
       "      <td>0.194587</td>\n",
       "      <td>0.289035</td>\n",
       "      <td>-5.586433</td>\n",
       "      <td>62.871910</td>\n",
       "    </tr>\n",
       "    <tr>\n",
       "      <th>3</th>\n",
       "      <td>q6cA6</td>\n",
       "      <td>2.236060</td>\n",
       "      <td>-0.553760</td>\n",
       "      <td>0.930038</td>\n",
       "      <td>114.572842</td>\n",
       "    </tr>\n",
       "    <tr>\n",
       "      <th>4</th>\n",
       "      <td>WPMUX</td>\n",
       "      <td>-0.515993</td>\n",
       "      <td>1.716266</td>\n",
       "      <td>5.899011</td>\n",
       "      <td>149.600746</td>\n",
       "    </tr>\n",
       "    <tr>\n",
       "      <th>5</th>\n",
       "      <td>LzZXx</td>\n",
       "      <td>-0.758092</td>\n",
       "      <td>0.710691</td>\n",
       "      <td>2.585887</td>\n",
       "      <td>90.222465</td>\n",
       "    </tr>\n",
       "    <tr>\n",
       "      <th>6</th>\n",
       "      <td>WBHRv</td>\n",
       "      <td>-0.574891</td>\n",
       "      <td>0.317727</td>\n",
       "      <td>1.773745</td>\n",
       "      <td>45.641478</td>\n",
       "    </tr>\n",
       "    <tr>\n",
       "      <th>7</th>\n",
       "      <td>XO8fn</td>\n",
       "      <td>-1.906649</td>\n",
       "      <td>-2.458350</td>\n",
       "      <td>-0.177097</td>\n",
       "      <td>72.480640</td>\n",
       "    </tr>\n",
       "    <tr>\n",
       "      <th>8</th>\n",
       "      <td>ybmQ5</td>\n",
       "      <td>1.776292</td>\n",
       "      <td>-0.279356</td>\n",
       "      <td>3.004156</td>\n",
       "      <td>106.616832</td>\n",
       "    </tr>\n",
       "    <tr>\n",
       "      <th>9</th>\n",
       "      <td>OilcN</td>\n",
       "      <td>-1.214452</td>\n",
       "      <td>-0.439314</td>\n",
       "      <td>5.922514</td>\n",
       "      <td>52.954532</td>\n",
       "    </tr>\n",
       "  </tbody>\n",
       "</table>\n",
       "</div>"
      ],
      "text/plain": [
       "      id        f0        f1        f2     product\n",
       "0  fwXo0 -1.146987  0.963328 -0.828965   27.758673\n",
       "1  WJtFt  0.262778  0.269839 -2.530187   56.069697\n",
       "2  ovLUW  0.194587  0.289035 -5.586433   62.871910\n",
       "3  q6cA6  2.236060 -0.553760  0.930038  114.572842\n",
       "4  WPMUX -0.515993  1.716266  5.899011  149.600746\n",
       "5  LzZXx -0.758092  0.710691  2.585887   90.222465\n",
       "6  WBHRv -0.574891  0.317727  1.773745   45.641478\n",
       "7  XO8fn -1.906649 -2.458350 -0.177097   72.480640\n",
       "8  ybmQ5  1.776292 -0.279356  3.004156  106.616832\n",
       "9  OilcN -1.214452 -0.439314  5.922514   52.954532"
      ]
     },
     "execution_count": 4,
     "metadata": {},
     "output_type": "execute_result"
    }
   ],
   "source": [
    "data_3 = pd.read_csv('/datasets/geo_data_2.csv')\n",
    "data_3.info()\n",
    "data_3.head(10)"
   ]
  },
  {
   "cell_type": "markdown",
   "metadata": {},
   "source": [
    "Как мы видим, во всех трёх датасетах содержится 100000 строк в 5 столбцах. Пропусков в данных нет.  "
   ]
  },
  {
   "cell_type": "code",
   "execution_count": 5,
   "metadata": {},
   "outputs": [
    {
     "name": "stdout",
     "output_type": "stream",
     "text": [
      "Количество пропусков в столбцах датасета data_1: [0, 0, 0, 0, 0]\n",
      "Количество пропусков в столбцах датасета data_2: [0, 0, 0, 0, 0]\n",
      "Количество пропусков в столбцах датасета data_3: [0, 0, 0, 0, 0]\n"
     ]
    }
   ],
   "source": [
    "# также проверим наличие пропусков по каждому столбцу\n",
    "list = ['id', 'f0', 'f1', 'f2', 'product']\n",
    "data_1_na = []\n",
    "data_2_na = []\n",
    "data_3_na = []\n",
    "\n",
    "for i in list:\n",
    "    data_1_na.append(data_1[i].isna().sum())\n",
    "    data_2_na.append(data_2[i].isna().sum())\n",
    "    data_3_na.append(data_3[i].isna().sum())\n",
    "\n",
    "print(f'Количество пропусков в столбцах датасета data_1: {data_1_na}')\n",
    "print(f'Количество пропусков в столбцах датасета data_2: {data_2_na}')\n",
    "print(f'Количество пропусков в столбцах датасета data_3: {data_3_na}')"
   ]
  },
  {
   "cell_type": "markdown",
   "metadata": {},
   "source": [
    "Изменения в типов данных столбцов не требуются.  \n",
    "Названия столбцов с данными не требуют изменений.\n",
    "\n",
    "На всякий случай проверим наличие дубликатов и уникальность идентификаторов скважин."
   ]
  },
  {
   "cell_type": "code",
   "execution_count": 6,
   "metadata": {
    "scrolled": true
   },
   "outputs": [
    {
     "data": {
      "text/plain": [
       "10"
      ]
     },
     "metadata": {},
     "output_type": "display_data"
    },
    {
     "data": {
      "text/plain": [
       "4"
      ]
     },
     "metadata": {},
     "output_type": "display_data"
    },
    {
     "data": {
      "text/plain": [
       "4"
      ]
     },
     "execution_count": 6,
     "metadata": {},
     "output_type": "execute_result"
    }
   ],
   "source": [
    "display(data_1['id'].duplicated().sum())\n",
    "display(data_2['id'].duplicated().sum())\n",
    "data_3['id'].duplicated().sum()\n"
   ]
  },
  {
   "cell_type": "markdown",
   "metadata": {},
   "source": [
    "Видим, что в данных есть несколько повторяющихся уникальных идентификаторов.  \n",
    "Так как их количество пренебрежимо мало, просто убираем эти строки."
   ]
  },
  {
   "cell_type": "code",
   "execution_count": 7,
   "metadata": {},
   "outputs": [],
   "source": [
    "data_1.drop_duplicates(['id'], inplace=True, ignore_index=True)\n",
    "data_2.drop_duplicates(['id'], inplace=True, ignore_index=True)\n",
    "data_3.drop_duplicates(['id'], inplace=True, ignore_index=True)"
   ]
  },
  {
   "cell_type": "markdown",
   "metadata": {},
   "source": [
    "Так как сам столбец с уникальными идентификаторами никак не поможет нам в обучении модели, смело удаляем его из датасетов."
   ]
  },
  {
   "cell_type": "code",
   "execution_count": 8,
   "metadata": {},
   "outputs": [],
   "source": [
    "data_1 = data_1.drop('id', axis=1)\n",
    "data_2 = data_2.drop('id', axis=1)\n",
    "data_3 = data_3.drop('id', axis=1)"
   ]
  },
  {
   "cell_type": "code",
   "execution_count": 9,
   "metadata": {
    "scrolled": false
   },
   "outputs": [
    {
     "data": {
      "image/png": "[encoded data removed]",
      "text/plain": [
       "<Figure size 1080x720 with 4 Axes>"
      ]
     },
     "metadata": {},
     "output_type": "display_data"
    }
   ],
   "source": [
    "# осмотрим распределение имеющихся данных\n",
    "sns.set_theme(style=\"darkgrid\")\n",
    "data_1[['f0', 'f1', 'f2', 'product']].hist(figsize=(15, 10), bins=50)\n",
    "None"
   ]
  },
  {
   "cell_type": "markdown",
   "metadata": {},
   "source": [
    "Видим, что в целом данные распределены в столбцах адеватно, без каких-либо видимых больших выбросов или аномалий.  \n",
    "Кодирование признаков проводить не будем. Все они - количественные."
   ]
  },
  {
   "cell_type": "code",
   "execution_count": 10,
   "metadata": {
    "scrolled": false
   },
   "outputs": [
    {
     "data": {
      "image/png": "[encoded data removed]",
      "text/plain": [
       "<Figure size 1080x720 with 4 Axes>"
      ]
     },
     "metadata": {},
     "output_type": "display_data"
    }
   ],
   "source": [
    "data_2[['f0', 'f1', 'f2', 'product']].hist(figsize=(15, 10), bins=50)\n",
    "None"
   ]
  },
  {
   "cell_type": "markdown",
   "metadata": {},
   "source": [
    "Видим, что данные в столбцах f2 и product сильно фрагментированы.  \n",
    "Проверим, есть ли какая-то зависимость между фактором f2 и целевым признаком product."
   ]
  },
  {
   "cell_type": "code",
   "execution_count": 11,
   "metadata": {
    "scrolled": false
   },
   "outputs": [
    {
     "data": {
      "text/html": [
       "<div>\n",
       "<style scoped>\n",
       "    .dataframe tbody tr th:only-of-type {\n",
       "        vertical-align: middle;\n",
       "    }\n",
       "\n",
       "    .dataframe tbody tr th {\n",
       "        vertical-align: top;\n",
       "    }\n",
       "\n",
       "    .dataframe thead th {\n",
       "        text-align: right;\n",
       "    }\n",
       "</style>\n",
       "<table border=\"1\" class=\"dataframe\">\n",
       "  <thead>\n",
       "    <tr style=\"text-align: right;\">\n",
       "      <th></th>\n",
       "      <th>f2</th>\n",
       "      <th>product</th>\n",
       "    </tr>\n",
       "  </thead>\n",
       "  <tbody>\n",
       "    <tr>\n",
       "      <th>f2</th>\n",
       "      <td>1.000000</td>\n",
       "      <td>0.999397</td>\n",
       "    </tr>\n",
       "    <tr>\n",
       "      <th>product</th>\n",
       "      <td>0.999397</td>\n",
       "      <td>1.000000</td>\n",
       "    </tr>\n",
       "  </tbody>\n",
       "</table>\n",
       "</div>"
      ],
      "text/plain": [
       "               f2   product\n",
       "f2       1.000000  0.999397\n",
       "product  0.999397  1.000000"
      ]
     },
     "execution_count": 11,
     "metadata": {},
     "output_type": "execute_result"
    },
    {
     "data": {
      "image/png": "[encoded data removed]",
      "text/plain": [
       "<Figure size 432x288 with 1 Axes>"
      ]
     },
     "metadata": {},
     "output_type": "display_data"
    }
   ],
   "source": [
    "a = data_2[['f2', 'product']]\n",
    "\n",
    "sns.scatterplot(data=a, x='f2', y='product')\n",
    "a.corr()"
   ]
  },
  {
   "cell_type": "markdown",
   "metadata": {},
   "source": [
    "Видим, что между этими признаками есть очень сильная зависимость. Учтём это на будущее.\n",
    "\n",
    "Проверим, не являются ли признаки категориальными."
   ]
  },
  {
   "cell_type": "code",
   "execution_count": 12,
   "metadata": {},
   "outputs": [
    {
     "data": {
      "text/plain": [
       "99996"
      ]
     },
     "metadata": {},
     "output_type": "display_data"
    },
    {
     "data": {
      "text/plain": [
       "12"
      ]
     },
     "execution_count": 12,
     "metadata": {},
     "output_type": "execute_result"
    }
   ],
   "source": [
    "display(data_2['f2'].nunique())\n",
    "data_2['product'].nunique()\n"
   ]
  },
  {
   "cell_type": "markdown",
   "metadata": {},
   "source": [
    "Целевой признак (объём запасов в конкретной скважине) действительно содержит только 12 уникальных значений на 100000 строк, а гистограмма визуально довольно сильно похожа на признак f2.  "
   ]
  },
  {
   "cell_type": "markdown",
   "metadata": {},
   "source": [
    "Тем не менее, сам признак f2 не является категориальным и содержит 99996 уникальных значений, хоть они и довольно сильно сгруппированы.  \n",
    "Попробуем категоризировать данные и применить one-hot encoding, так как по условию задачи используемой моделью является линейная регрессия."
   ]
  },
  {
   "cell_type": "code",
   "execution_count": 13,
   "metadata": {},
   "outputs": [],
   "source": [
    "def categorize_f2(row):\n",
    "    try:\n",
    "        if row['f2'] < 0.5:\n",
    "            return 'a'\n",
    "        elif 0.5 <=row['f2'] < 1.5:\n",
    "            return 'b'\n",
    "        elif 1.5 <=row['f2'] < 2.5:\n",
    "            return 'c'\n",
    "        elif 2.5 <=row['f2'] < 3.5:\n",
    "            return 'd'\n",
    "        elif 3.5 <=row['f2'] < 4.5:\n",
    "            return 'e'\n",
    "        elif 4.5 <= row['f2']:\n",
    "            return 'f'\n",
    "    except:\n",
    "        return 'mistake'\n"
   ]
  },
  {
   "cell_type": "code",
   "execution_count": 14,
   "metadata": {
    "scrolled": true
   },
   "outputs": [],
   "source": [
    "# data_2['f2'] = data_2.apply(categorize_f2, axis=1)\n",
    "\n",
    "# # проверим, что в функции не было ошибок\n",
    "# display(data_2['f2'].unique())\n",
    "\n",
    "# data_2.head(10)"
   ]
  },
  {
   "cell_type": "code",
   "execution_count": 15,
   "metadata": {},
   "outputs": [],
   "source": [
    "# # ипользуем one hot encoding, избегая дамми-ловушки\n",
    "# data_2 = pd.get_dummies(data_2, drop_first=True)\n",
    "# data_2"
   ]
  },
  {
   "cell_type": "code",
   "execution_count": 16,
   "metadata": {
    "scrolled": false
   },
   "outputs": [
    {
     "data": {
      "image/png": "[encoded data removed]",
      "text/plain": [
       "<Figure size 1080x720 with 4 Axes>"
      ]
     },
     "metadata": {},
     "output_type": "display_data"
    }
   ],
   "source": [
    "data_3[['f0', 'f1', 'f2', 'product']].hist(figsize=(15, 10), bins=50)\n",
    "None"
   ]
  },
  {
   "cell_type": "markdown",
   "metadata": {},
   "source": [
    "В этом датасете данные также распределены адеватно.  \n",
    "Кодирование признаков здесь проводить не будем - все признаки количественные."
   ]
  },
  {
   "cell_type": "code",
   "execution_count": 17,
   "metadata": {},
   "outputs": [],
   "source": [
    "# разделим датасеты на целевой признак и все остальные\n",
    "features_1 = data_1.drop('product', axis=1)\n",
    "target_1 = data_1['product']\n",
    "\n",
    "features_2 = data_2.drop('product', axis=1)\n",
    "target_2 = data_2['product']\n",
    "\n",
    "features_3 = data_3.drop('product', axis=1)\n",
    "target_3 = data_3['product']\n"
   ]
  },
  {
   "cell_type": "markdown",
   "metadata": {},
   "source": [
    "Итак в первом этапе мы:\n",
    "- Ознакомились с имеющимися данными.\n",
    "- Исследовали имеющиеся данные на предмет пропусков и дубликатов. Удалили строки с дубликатами из датасета.\n",
    "- Изменений типов данных в столбцах не потребовалось.\n",
    "- Исследовали имеющиеся количественные переменные и на предмет выбросов и аномалий. В регионе 2 была отмечена сильная корреляция между фактором f2 и целевым признаком.\n",
    "- Также мы категоризировали фактор f2 в регионе 2 и применили кодирование One-hot encoding."
   ]
  },
  {
   "cell_type": "markdown",
   "metadata": {},
   "source": [
    "## Обучение и проверка модели"
   ]
  },
  {
   "cell_type": "markdown",
   "metadata": {},
   "source": [
    "В течение второго этапа нам необходимо:\n",
    "- Разбить данные на обучающую и валидационную выборки в соотношении 3:1.\n",
    "- Провести масштабирование признаков.\n",
    "- Обучить модель и сделайть предсказания на валидационной выборке.\n",
    "- Сохранить предсказания и правильные ответы на валидационной выборке.\n",
    "- Найти средний запас предсказанного сырья и RMSE модели.\n",
    "- Проанализировать результаты.\n",
    "\n",
    "Начнем по порядку."
   ]
  },
  {
   "cell_type": "code",
   "execution_count": 18,
   "metadata": {},
   "outputs": [
    {
     "data": {
      "text/plain": [
       "74992"
      ]
     },
     "metadata": {},
     "output_type": "display_data"
    },
    {
     "data": {
      "text/plain": [
       "24998"
      ]
     },
     "metadata": {},
     "output_type": "display_data"
    },
    {
     "data": {
      "text/plain": [
       "74992"
      ]
     },
     "metadata": {},
     "output_type": "display_data"
    },
    {
     "data": {
      "text/plain": [
       "24998"
      ]
     },
     "metadata": {},
     "output_type": "display_data"
    }
   ],
   "source": [
    "# разделим выборки трёх датасетов на обучающие и валидационные\n",
    "features_1_train, features_1_valid, target_1_train, target_1_valid = \\\n",
    "train_test_split(features_1, target_1, test_size=0.25, random_state=12345)\n",
    "display(features_1_train.shape[0], features_1_valid.shape[0], target_1_train.shape[0], target_1_valid.shape[0])\n"
   ]
  },
  {
   "cell_type": "code",
   "execution_count": 19,
   "metadata": {},
   "outputs": [
    {
     "data": {
      "text/plain": [
       "74997"
      ]
     },
     "metadata": {},
     "output_type": "display_data"
    },
    {
     "data": {
      "text/plain": [
       "24999"
      ]
     },
     "metadata": {},
     "output_type": "display_data"
    },
    {
     "data": {
      "text/plain": [
       "74997"
      ]
     },
     "metadata": {},
     "output_type": "display_data"
    },
    {
     "data": {
      "text/plain": [
       "24999"
      ]
     },
     "metadata": {},
     "output_type": "display_data"
    }
   ],
   "source": [
    "features_2_train, features_2_valid, target_2_train, target_2_valid = \\\n",
    "train_test_split(features_2, target_2, test_size=0.25, random_state=12345)\n",
    "display(features_2_train.shape[0], features_2_valid.shape[0], target_2_train.shape[0], target_2_valid.shape[0])\n"
   ]
  },
  {
   "cell_type": "code",
   "execution_count": 20,
   "metadata": {},
   "outputs": [
    {
     "data": {
      "text/plain": [
       "74997"
      ]
     },
     "metadata": {},
     "output_type": "display_data"
    },
    {
     "data": {
      "text/plain": [
       "24999"
      ]
     },
     "metadata": {},
     "output_type": "display_data"
    },
    {
     "data": {
      "text/plain": [
       "74997"
      ]
     },
     "metadata": {},
     "output_type": "display_data"
    },
    {
     "data": {
      "text/plain": [
       "24999"
      ]
     },
     "metadata": {},
     "output_type": "display_data"
    }
   ],
   "source": [
    "features_3_train, features_3_valid, target_3_train, target_3_valid = \\\n",
    "train_test_split(features_3, target_3, test_size=0.25, random_state=12345)\n",
    "display(features_3_train.shape[0], features_3_valid.shape[0], target_3_train.shape[0], target_3_valid.shape[0])\n"
   ]
  },
  {
   "cell_type": "code",
   "execution_count": 21,
   "metadata": {},
   "outputs": [],
   "source": [
    "# так как по условию проекта наша модель - линейная регрессия, произведем масштабирование нецелевых признаков\n",
    "\n",
    "scaler = StandardScaler()\n",
    "scaler.fit(features_1_train)\n",
    "\n",
    "features_1_train_scaled = scaler.transform(features_1_train)\n",
    "features_1_valid_scaled = scaler.transform(features_1_valid)"
   ]
  },
  {
   "cell_type": "code",
   "execution_count": 22,
   "metadata": {},
   "outputs": [],
   "source": [
    "scaler.fit(features_2_train)\n",
    "\n",
    "features_2_train_scaled = scaler.transform(features_2_train)\n",
    "features_2_valid_scaled = scaler.transform(features_2_valid)"
   ]
  },
  {
   "cell_type": "code",
   "execution_count": 23,
   "metadata": {},
   "outputs": [],
   "source": [
    "scaler.fit(features_3_train)\n",
    "\n",
    "features_3_train_scaled = scaler.transform(features_3_train)\n",
    "features_3_valid_scaled = scaler.transform(features_3_valid)"
   ]
  },
  {
   "cell_type": "markdown",
   "metadata": {},
   "source": [
    "Теперь обучим модель линейной регрессии."
   ]
  },
  {
   "cell_type": "code",
   "execution_count": 24,
   "metadata": {},
   "outputs": [
    {
     "data": {
      "text/plain": [
       "0.2723923460817068"
      ]
     },
     "execution_count": 24,
     "metadata": {},
     "output_type": "execute_result"
    }
   ],
   "source": [
    "model_1 = LinearRegression()\n",
    "model_1.fit(features_1_train_scaled, target_1_train)\n",
    "predictions_1 = model_1.predict(features_1_valid_scaled)\n",
    "\n",
    "model_1.score(features_1_valid_scaled, target_1_valid)"
   ]
  },
  {
   "cell_type": "code",
   "execution_count": 25,
   "metadata": {},
   "outputs": [
    {
     "data": {
      "text/plain": [
       "0.9996222988190184"
      ]
     },
     "execution_count": 25,
     "metadata": {},
     "output_type": "execute_result"
    }
   ],
   "source": [
    "model_2 = LinearRegression()\n",
    "model_2.fit(features_2_train_scaled, target_2_train)\n",
    "predictions_2 = model_2.predict(features_2_valid_scaled)\n",
    "\n",
    "model_2.score(features_2_valid_scaled, target_2_valid)"
   ]
  },
  {
   "cell_type": "code",
   "execution_count": 26,
   "metadata": {
    "scrolled": true
   },
   "outputs": [
    {
     "data": {
      "text/plain": [
       "0.19556241810202346"
      ]
     },
     "execution_count": 26,
     "metadata": {},
     "output_type": "execute_result"
    }
   ],
   "source": [
    "model_3 = LinearRegression()\n",
    "model_3.fit(features_3_train_scaled, target_3_train)\n",
    "predictions_3 = model_3.predict(features_3_valid_scaled)\n",
    "\n",
    "model_3.score(features_3_valid_scaled, target_3_valid)"
   ]
  },
  {
   "cell_type": "code",
   "execution_count": 27,
   "metadata": {},
   "outputs": [
    {
     "data": {
      "text/plain": [
       "array([0.27932969, 0.26697998, 0.27942851, 0.28038523, 0.27119764])"
      ]
     },
     "execution_count": 27,
     "metadata": {},
     "output_type": "execute_result"
    }
   ],
   "source": [
    "# проверим устойчивость метрики score каждой с помощью кросс-валидации\n",
    "scores_1 = cross_val_score(model_1, features_1, target_1)\n",
    "scores_1"
   ]
  },
  {
   "cell_type": "code",
   "execution_count": 28,
   "metadata": {},
   "outputs": [
    {
     "data": {
      "text/plain": [
       "array([0.99962905, 0.99961947, 0.99961948, 0.99963127, 0.99962259])"
      ]
     },
     "execution_count": 28,
     "metadata": {},
     "output_type": "execute_result"
    }
   ],
   "source": [
    "scores_2 = cross_val_score(model_2, features_2, target_2)\n",
    "scores_2"
   ]
  },
  {
   "cell_type": "code",
   "execution_count": 29,
   "metadata": {},
   "outputs": [
    {
     "data": {
      "text/plain": [
       "array([0.19197994, 0.19594339, 0.19912403, 0.2030268 , 0.20348554])"
      ]
     },
     "execution_count": 29,
     "metadata": {},
     "output_type": "execute_result"
    }
   ],
   "source": [
    "scores_3 = cross_val_score(model_3, features_3, target_3)\n",
    "scores_3"
   ]
  },
  {
   "cell_type": "markdown",
   "metadata": {},
   "source": [
    "Видим, что показатель score отличается незначительно. Значит наша исходное разделение выборок достаточно репрезентативно.\n",
    "\n",
    "Теперь оценим для каждой модели средний запас предсказанного сырья и значение RMSE."
   ]
  },
  {
   "cell_type": "code",
   "execution_count": 30,
   "metadata": {},
   "outputs": [
    {
     "data": {
      "text/plain": [
       "92.78915638280621"
      ]
     },
     "metadata": {},
     "output_type": "display_data"
    },
    {
     "data": {
      "text/plain": [
       "37.853527328872964"
      ]
     },
     "execution_count": 30,
     "metadata": {},
     "output_type": "execute_result"
    }
   ],
   "source": [
    "display(predictions_1.mean())\n",
    "rmse_1 = mean_squared_error(target_1_valid, predictions_1, squared=False)\n",
    "rmse_1"
   ]
  },
  {
   "cell_type": "code",
   "execution_count": 31,
   "metadata": {},
   "outputs": [
    {
     "data": {
      "text/plain": [
       "69.1783195703043"
      ]
     },
     "metadata": {},
     "output_type": "display_data"
    },
    {
     "data": {
      "text/plain": [
       "0.8920592647717033"
      ]
     },
     "execution_count": 31,
     "metadata": {},
     "output_type": "execute_result"
    }
   ],
   "source": [
    "display(predictions_2.mean())\n",
    "rmse_2 = mean_squared_error(target_2_valid, predictions_2, squared=False)\n",
    "rmse_2"
   ]
  },
  {
   "cell_type": "code",
   "execution_count": 32,
   "metadata": {},
   "outputs": [
    {
     "data": {
      "text/plain": [
       "94.86572480562035"
      ]
     },
     "metadata": {},
     "output_type": "display_data"
    },
    {
     "data": {
      "text/plain": [
       "40.07585073246016"
      ]
     },
     "execution_count": 32,
     "metadata": {},
     "output_type": "execute_result"
    }
   ],
   "source": [
    "display(predictions_3.mean())\n",
    "rmse_3 = mean_squared_error(target_3_valid, predictions_3, squared=False)\n",
    "rmse_3"
   ]
  },
  {
   "cell_type": "markdown",
   "metadata": {},
   "source": [
    "По результатам построения моделей мы получили следующие результаты:\n",
    "- Регион 1 - средний запас предсказанного сырья 92.8, RMSE - 37.85;\n",
    "- Регион 2 - средний запас предсказанного сырья 69.2, RMSE - 0.88;\n",
    "- Регион 3 - средний запас предсказанного сырья 94.9, RMSE - 40.08;\n",
    "\n",
    "Как мы видим, наибольшее значение среднего предсказанного сырья (94.9) имеет регион №3.  \n",
    "Тем не менее, регионы 1 и 3 имеют значительные показатели RMSE, что говорит о большом количестве отклонений предсказаний от среднего показателя.  \n",
    "С другой стороны, хоть регион 2 и показал самое меньшее значение запасов, RMSE у него менее 1, что говорит о минимальных разбросах в предсказаниях. Отметим, что это как раз тот регион, в котором мы наблюдали сильную корреляцию одного из признаков с целевым показателем."
   ]
  },
  {
   "cell_type": "code",
   "execution_count": 33,
   "metadata": {},
   "outputs": [],
   "source": [
    "# Добавил функцию для упрощения процесса\n",
    "\n",
    "def linear_reg_mean_rmse(features, target, test):\n",
    "    \n",
    "    features_train, features_valid, target_train, target_valid = \\\n",
    "    train_test_split(features, target, test_size=test, random_state=12345)\n",
    "    \n",
    "    print(f'Выборка разбита в соотношении train/valid: {1 - test}/{test}')\n",
    "    print(f'Количество строк в разбитых выборках: \\\n",
    "    {features_train.shape[0]}, {features_valid.shape[0]}, {target_train.shape[0]}, {target_valid.shape[0]}'\n",
    "    )\n",
    "    \n",
    "    # масштабирование\n",
    "    scaler = StandardScaler()\n",
    "    scaler.fit(features_train)\n",
    "\n",
    "    features_train_scaled = scaler.transform(features_train)\n",
    "    features_valid_scaled = scaler.transform(features_valid)\n",
    "    \n",
    "    # построение модели\n",
    "    model = LinearRegression()\n",
    "    model.fit(features_train_scaled, target_train)\n",
    "    predictions = model.predict(features_valid_scaled)\n",
    "\n",
    "    print(f'F1-метрика для построенной модели: {model.score(features_valid_scaled, target_valid)}')\n",
    "    \n",
    "    print(f'Вычисленное среднее количество баррелей в регионе: {predictions.mean()}')\n",
    "    rmse = mean_squared_error(target_valid, predictions, squared=False)\n",
    "    print(f'Значение RMSE для предсказаний модели: {rmse}')\n"
   ]
  },
  {
   "cell_type": "code",
   "execution_count": 34,
   "metadata": {},
   "outputs": [
    {
     "name": "stdout",
     "output_type": "stream",
     "text": [
      "Выборка разбита в соотношении train/valid: 0.75/0.25\n",
      "Количество строк в разбитых выборках:     74992, 24998, 74992, 24998\n",
      "F1-метрика для построенной модели: 0.2723923460817068\n",
      "Вычисленное среднее количество баррелей в регионе: 92.78915638280621\n",
      "Значение RMSE для предсказаний модели: 37.853527328872964\n"
     ]
    }
   ],
   "source": [
    "linear_reg_mean_rmse(features_1, target_1, 0.25)"
   ]
  },
  {
   "cell_type": "code",
   "execution_count": 35,
   "metadata": {},
   "outputs": [
    {
     "name": "stdout",
     "output_type": "stream",
     "text": [
      "Выборка разбита в соотношении train/valid: 0.75/0.25\n",
      "Количество строк в разбитых выборках:     74997, 24999, 74997, 24999\n",
      "F1-метрика для построенной модели: 0.9996222988190184\n",
      "Вычисленное среднее количество баррелей в регионе: 92.78915638280621\n",
      "Значение RMSE для предсказаний модели: 0.8920592647717033\n"
     ]
    }
   ],
   "source": [
    "linear_reg_mean_rmse(features_2, target_2, 0.25)"
   ]
  },
  {
   "cell_type": "code",
   "execution_count": 36,
   "metadata": {},
   "outputs": [
    {
     "name": "stdout",
     "output_type": "stream",
     "text": [
      "Выборка разбита в соотношении train/valid: 0.75/0.25\n",
      "Количество строк в разбитых выборках:     74997, 24999, 74997, 24999\n",
      "F1-метрика для построенной модели: 0.19556241810202346\n",
      "Вычисленное среднее количество баррелей в регионе: 92.78915638280621\n",
      "Значение RMSE для предсказаний модели: 40.07585073246016\n"
     ]
    }
   ],
   "source": [
    "linear_reg_mean_rmse(features_3, target_3, 0.25)"
   ]
  },
  {
   "cell_type": "markdown",
   "metadata": {},
   "source": [
    "## Подготовка к расчёту прибыли"
   ]
  },
  {
   "cell_type": "markdown",
   "metadata": {},
   "source": [
    "В течение данного промежуточного этапа нам необходимо подготовиться к расчету прибыли:\n",
    "- Все ключевые значения для расчётов нужно сохранить в отдельных переменных.\n",
    "- Рассчитать достаточный объём сырья для безубыточной разработки новой скважины. Сравнитт полученный объём сырья со средним запасом в каждом регионе. \n",
    "- Написать выводы по этапу подготовки расчёта прибыли."
   ]
  },
  {
   "cell_type": "code",
   "execution_count": 37,
   "metadata": {},
   "outputs": [],
   "source": [
    "# обозначим основные переменные\n",
    "\n",
    "# стоимость разработки скважин в одном регионе\n",
    "regional_costs = 10000000000\n",
    "\n",
    "# доходность одной единицы продукта\n",
    "product_income = 450000\n",
    "\n",
    "# количество скважин в регионе\n",
    "well_number = 500\n",
    "\n",
    "# количество разрабатываемых скважин в регионе\n",
    "well_number_used = 200"
   ]
  },
  {
   "cell_type": "code",
   "execution_count": 38,
   "metadata": {},
   "outputs": [
    {
     "data": {
      "text/plain": [
       "112.0"
      ]
     },
     "execution_count": 38,
     "metadata": {},
     "output_type": "execute_result"
    }
   ],
   "source": [
    "# посчитаем средний объём запасов одной скважины для окупаемости региона\n",
    "product_reserve_mean = np.ceil(regional_costs / (product_income * well_number_used))\n",
    "product_reserve_mean"
   ]
  },
  {
   "cell_type": "markdown",
   "metadata": {},
   "source": [
    "Итак мы получили, что для окупаемости региона при условии разработки 200 лучших скважин в нём и стоимости барреля в 450р. средний запас одной скважины должен составлять 112 тысяч баррелей.  \n",
    "Как мы видим, ни один из регионов не обладает средним значением запаса одной скважины, удовлетворяющим нашей расчетной окупаемости.  \n",
    "Тем не менее, поскольку у нас есть возможность выбрать 200 лучших скважин, возможно, картина в дальнейшем изменится."
   ]
  },
  {
   "cell_type": "markdown",
   "metadata": {},
   "source": [
    "### Функция расчета прибыли лучших скважин из выборки"
   ]
  },
  {
   "cell_type": "markdown",
   "metadata": {},
   "source": [
    "В течение данного этапа мы должны подготовить функцию, которая будет выполнять следующие действия:\n",
    "- Из предоставленной выборки выбирает скважины с максимальными значениями предсказаний. \n",
    "- Просуммирует целевое значение объёма сырья, соответствующее этим предсказаниям.\n",
    "- Рассчитает прибыль для полученного объёма сырья."
   ]
  },
  {
   "cell_type": "code",
   "execution_count": 39,
   "metadata": {},
   "outputs": [],
   "source": [
    "def best_wells_profit(target, predictions):\n",
    "    predictions = pd.Series(predictions).sort_values(ascending=False)\n",
    "    head = predictions.head(well_number_used)\n",
    "    head_target = target.reset_index(drop=True).loc[head.index]\n",
    "    profit = (product_income * head_target.sum()) - regional_costs\n",
    "    \n",
    "    return profit"
   ]
  },
  {
   "cell_type": "markdown",
   "metadata": {},
   "source": [
    "## Расчёт прибыли и рисков "
   ]
  },
  {
   "cell_type": "markdown",
   "metadata": {},
   "source": [
    "В данном этапе нам необходимо посчитать риски и прибыль для каждого региона:\n",
    "- Применить технику Bootstrap с 1000 выборок, чтобы найти распределение прибыли.\n",
    "- Найти среднюю прибыль, 95%-й доверительный интервал и риск убытков. Убыток — это отрицательная прибыль.\n",
    "- Написать выводы: предложите регион для разработки скважин и обоснуйте выбор."
   ]
  },
  {
   "cell_type": "code",
   "execution_count": 40,
   "metadata": {},
   "outputs": [],
   "source": [
    "# создадим функцию для расчета распределения прибыли с помощью bootstrap\n",
    "state = np.random.RandomState(12345)\n",
    "\n",
    "def profit_bootstrap(target, predictions):\n",
    "    profit_summary = []\n",
    "    for i in range(0, 1000):\n",
    "        subsample = pd.Series(predictions).sample(well_number, replace=True, random_state=state)\n",
    "\n",
    "        profit = best_wells_profit(target, subsample)\n",
    "\n",
    "        profit_summary.append(profit)\n",
    "\n",
    "    return pd.Series(profit_summary)\n",
    "    "
   ]
  },
  {
   "cell_type": "code",
   "execution_count": 41,
   "metadata": {},
   "outputs": [],
   "source": [
    "profit_bootstrap_1 = profit_bootstrap(target_1_valid, predictions_1)\n",
    "\n",
    "profit_bootstrap_2 = profit_bootstrap(target_2_valid, predictions_2)\n",
    "\n",
    "profit_bootstrap_3 = profit_bootstrap(target_3_valid, predictions_3)"
   ]
  },
  {
   "cell_type": "code",
   "execution_count": 42,
   "metadata": {},
   "outputs": [
    {
     "name": "stdout",
     "output_type": "stream",
     "text": [
      "Вероятность убытков в регионе №1: 7.7% \n",
      "\n",
      "Вероятность убытков в регионе №2: 0.6% \n",
      "\n",
      "Вероятность убытков в регионе №3: 12.4% \n",
      "\n"
     ]
    }
   ],
   "source": [
    "# найдем вероятность убытков в каждом из регионов\n",
    "loss_prob_1 = profit_bootstrap_1[profit_bootstrap_1 < 0].count() / profit_bootstrap_1.count()\n",
    "\n",
    "loss_prob_2 = profit_bootstrap_2[profit_bootstrap_2 < 0].count() / profit_bootstrap_2.count()\n",
    "\n",
    "loss_prob_3 = profit_bootstrap_3[profit_bootstrap_3 < 0].count() / profit_bootstrap_3.count()\n",
    "\n",
    "print('Вероятность убытков в регионе №1: {:.1%} \\n'.format(loss_prob_1))\n",
    "print('Вероятность убытков в регионе №2: {:.1%} \\n'.format(loss_prob_2))\n",
    "print('Вероятность убытков в регионе №3: {:.1%} \\n'.format(loss_prob_3))"
   ]
  },
  {
   "cell_type": "code",
   "execution_count": 43,
   "metadata": {},
   "outputs": [],
   "source": [
    "# теперь найдем 95% доверительный интервал для среднего значения прибыли с помощью bootstrap\n",
    "def profit_mean_bootstrap(profit_bt):\n",
    "    profit_mean_bt = []\n",
    "    \n",
    "    for i in range(0, 1000):\n",
    "        subsample = profit_bt.sample(frac=1, replace=True, random_state=state)\n",
    "        profit_mean_bt.append(subsample.mean())\n",
    "        \n",
    "    return pd.Series(profit_mean_bt)\n"
   ]
  },
  {
   "cell_type": "code",
   "execution_count": 44,
   "metadata": {
    "scrolled": false
   },
   "outputs": [],
   "source": [
    "profit_mean_bootstrap_1 = profit_mean_bootstrap(profit_bootstrap_1)\n",
    "\n",
    "profit_mean_bootstrap_2 = profit_mean_bootstrap(profit_bootstrap_2)\n",
    "\n",
    "profit_mean_bootstrap_3 = profit_mean_bootstrap(profit_bootstrap_3)"
   ]
  },
  {
   "cell_type": "code",
   "execution_count": 45,
   "metadata": {
    "scrolled": true
   },
   "outputs": [
    {
     "name": "stdout",
     "output_type": "stream",
     "text": [
      "95%-ый доверительный интервал средней прибыли для региона №1: [365, 397] млн.рублей. \n",
      "\n",
      "95%-ый доверительный интервал средней прибыли для региона №2: [466, 492] млн.рублей. \n",
      "\n",
      "95%-ый доверительный интервал средней прибыли для региона №3: [298, 332] млн.рублей. \n",
      "\n"
     ]
    }
   ],
   "source": [
    "print(f'95%-ый доверительный интервал средней прибыли для региона №1: \\\n",
    "[{round(profit_mean_bootstrap_1.quantile(0.025) / 1000000)}, \\\n",
    "{round(profit_mean_bootstrap_1.quantile(0.975) / 1000000)}] млн.рублей. \\n')\n",
    "\n",
    "print(f'95%-ый доверительный интервал средней прибыли для региона №2: \\\n",
    "[{round(profit_mean_bootstrap_2.quantile(0.025) / 1000000)}, \\\n",
    "{round(profit_mean_bootstrap_2.quantile(0.975) / 1000000)}] млн.рублей. \\n')\n",
    "\n",
    "print(f'95%-ый доверительный интервал средней прибыли для региона №3: \\\n",
    "[{round(profit_mean_bootstrap_3.quantile(0.025) / 1000000)}, \\\n",
    "{round(profit_mean_bootstrap_3.quantile(0.975) / 1000000)}] млн.рублей. \\n')"
   ]
  },
  {
   "cell_type": "code",
   "execution_count": 50,
   "metadata": {},
   "outputs": [],
   "source": [
    "# автоматизируем шаги на данном этапе с помощью функции\n",
    "\n",
    "def master_bootstrap(target, predictions):\n",
    "    profit_bootstrap_results = profit_bootstrap(target, predictions)\n",
    "    \n",
    "    loss_prob = profit_bootstrap_results[profit_bootstrap_results < 0].count() / profit_bootstrap_results.count()\n",
    "    print('Вероятность убытков в регионе №1: {:.1%} \\n'.format(loss_prob))\n",
    "    \n",
    "    profit_mean_bootstrap_results = profit_mean_bootstrap(profit_bootstrap_results)\n",
    "    \n",
    "    print(f'95%-ый доверительный интервал средней прибыли для региона №1: \\\n",
    "    [{round(profit_mean_bootstrap_results.quantile(0.025) / 1000000)}, \\\n",
    "    {round(profit_mean_bootstrap_results.quantile(0.975) / 1000000)}] млн.рублей. \\n')"
   ]
  },
  {
   "cell_type": "code",
   "execution_count": 47,
   "metadata": {},
   "outputs": [
    {
     "name": "stdout",
     "output_type": "stream",
     "text": [
      "Вероятность убытков в регионе №1: 7.7% \n",
      "\n",
      "95%-ый доверительный интервал средней прибыли для региона №1:     [374,     406] млн.рублей. \n",
      "\n"
     ]
    }
   ],
   "source": [
    "master_bootstrap(target_1_valid, predictions_1)"
   ]
  },
  {
   "cell_type": "code",
   "execution_count": 51,
   "metadata": {},
   "outputs": [
    {
     "name": "stdout",
     "output_type": "stream",
     "text": [
      "Вероятность убытков в регионе №1: 0.9% \n",
      "\n",
      "95%-ый доверительный интервал средней прибыли для региона №1:     [464,     489] млн.рублей. \n",
      "\n"
     ]
    }
   ],
   "source": [
    "master_bootstrap(target_2_valid, predictions_2)"
   ]
  },
  {
   "cell_type": "code",
   "execution_count": 52,
   "metadata": {},
   "outputs": [
    {
     "name": "stdout",
     "output_type": "stream",
     "text": [
      "Вероятность убытков в регионе №1: 9.4% \n",
      "\n",
      "95%-ый доверительный интервал средней прибыли для региона №1:     [322,     354] млн.рублей. \n",
      "\n"
     ]
    }
   ],
   "source": [
    "master_bootstrap(target_3_valid, predictions_3)"
   ]
  },
  {
   "cell_type": "markdown",
   "metadata": {},
   "source": [
    "## Общий вывод"
   ]
  },
  {
   "cell_type": "markdown",
   "metadata": {},
   "source": [
    "В данном проекте мы исследовали данные добывающей компании «ГлавРосГосНефть» в трёх регионах нефтедобычи.  \n",
    "\n",
    "Были изучены и обработаны имеющиеся данные:\n",
    "- Ознакомились с имеющимися данными.\n",
    "- Исследовали имеющиеся данные на предмет пропусков и дубликатов. Удалили строки с дубликатами из датасета.\n",
    "- Изменений типов данных в столбцах не потребовалось.\n",
    "- Исследовали имеющиеся количественные переменные и на предмет выбросов и аномалий. В регионе 2 была отмечена сильная корреляция между фактором f2 и целевым признаком.\n",
    "- Также мы категоризировали фактор f2 в регионе 2 и применили кодирование One-hot encoding.\n",
    "\n",
    "По результатам построения моделей мы получили следующие результаты:\n",
    "- Регион 1 - средний запас предсказанного сырья 92.8, RMSE - 37.85;\n",
    "- Регион 2 - средний запас предсказанного сырья 69.2, RMSE - 0.88;\n",
    "- Регион 3 - средний запас предсказанного сырья 94.9, RMSE - 40.08;\n",
    "\n",
    "Наибольшее значение среднего предсказанного сырья (94.9) имеет регион №3.  \n",
    "Тем не менее, регионы 1 и 3 имеют значительные показатели RMSE, что говорит о большом количестве отклонений предсказаний от среднего показателя.  \n",
    "Регион 2 показал самое меньшее значение запасов, однако RMSE у него менее 1, что говорит о минимальных разбросах в предсказаниях модели. \n",
    "\n",
    "Мы рассчитали, что окупаемость наступает при среднем количестве запасов нефти в одной скважине, равном 112 тыс.баррелей.\n",
    "\n",
    "Также с помощью методики bootstrap мы нашли распределение прибыли в каждом из регионов, определили вероятность убытков и доверительные интервалы для средней прибыли:\n",
    "- Регион 1 - вероятность убытков ~8%, 95%-ый доверительный интервал для среднего значения прибыли - [365, 397];\n",
    "- Регион 2 - вероятность убытков ~1%, 95%-ый доверительный интервал для среднего значения прибыли - [466, 492];\n",
    "- Регион 3 - вероятность убытков ~12%, 95%-ый доверительный интервал для среднего значения прибыли - [298, 332];\n",
    "\n",
    "По результатам нашего анализа мы можем констатировать, что наибольшие значения средней прибыли достигаются в регионе №2.  \n",
    "Также данный регион имеет наименьшую вероятность получения убытков. "
   ]
  }
 ],
 "metadata": {
  "ExecuteTimeLog": [
   {
    "duration": 1567,
    "start_time": "2023-12-29T10:52:49.343Z"
   },
   {
    "duration": 5,
    "start_time": "2023-12-29T10:57:30.800Z"
   },
   {
    "duration": 395,
    "start_time": "2023-12-29T11:00:58.242Z"
   },
   {
    "duration": 240,
    "start_time": "2023-12-29T11:01:00.403Z"
   },
   {
    "duration": 220,
    "start_time": "2023-12-29T11:01:02.132Z"
   },
   {
    "duration": 114,
    "start_time": "2023-12-29T11:09:30.418Z"
   },
   {
    "duration": 11,
    "start_time": "2023-12-29T11:09:41.126Z"
   },
   {
    "duration": 17,
    "start_time": "2023-12-29T11:09:45.654Z"
   },
   {
    "duration": 17,
    "start_time": "2023-12-29T11:09:53.570Z"
   },
   {
    "duration": 18,
    "start_time": "2023-12-29T11:09:57.282Z"
   },
   {
    "duration": 36,
    "start_time": "2023-12-29T11:10:32.290Z"
   },
   {
    "duration": 67,
    "start_time": "2023-12-29T11:13:35.221Z"
   },
   {
    "duration": 11,
    "start_time": "2023-12-29T11:13:39.370Z"
   },
   {
    "duration": 11,
    "start_time": "2023-12-29T11:13:43.230Z"
   },
   {
    "duration": 11,
    "start_time": "2023-12-29T11:13:47.278Z"
   },
   {
    "duration": 711,
    "start_time": "2023-12-29T11:17:42.922Z"
   },
   {
    "duration": 744,
    "start_time": "2023-12-29T11:30:55.793Z"
   },
   {
    "duration": 705,
    "start_time": "2023-12-29T11:30:59.263Z"
   },
   {
    "duration": 8,
    "start_time": "2023-12-29T11:32:34.774Z"
   },
   {
    "duration": 10,
    "start_time": "2023-12-29T11:32:41.053Z"
   },
   {
    "duration": 13,
    "start_time": "2023-12-29T11:34:20.879Z"
   },
   {
    "duration": 19,
    "start_time": "2023-12-29T11:34:37.591Z"
   },
   {
    "duration": 1338,
    "start_time": "2023-12-29T11:34:54.465Z"
   },
   {
    "duration": 171,
    "start_time": "2023-12-29T11:34:55.805Z"
   },
   {
    "duration": 146,
    "start_time": "2023-12-29T11:34:55.978Z"
   },
   {
    "duration": 149,
    "start_time": "2023-12-29T11:34:56.125Z"
   },
   {
    "duration": 53,
    "start_time": "2023-12-29T11:34:56.276Z"
   },
   {
    "duration": 65,
    "start_time": "2023-12-29T11:34:56.331Z"
   },
   {
    "duration": 25,
    "start_time": "2023-12-29T11:34:56.397Z"
   },
   {
    "duration": 702,
    "start_time": "2023-12-29T11:34:56.423Z"
   },
   {
    "duration": 773,
    "start_time": "2023-12-29T11:34:57.126Z"
   },
   {
    "duration": 9,
    "start_time": "2023-12-29T11:34:57.900Z"
   },
   {
    "duration": 705,
    "start_time": "2023-12-29T11:34:57.910Z"
   },
   {
    "duration": 14,
    "start_time": "2023-12-29T11:36:26.218Z"
   },
   {
    "duration": 13,
    "start_time": "2023-12-29T11:36:37.399Z"
   },
   {
    "duration": 13,
    "start_time": "2023-12-29T11:37:06.360Z"
   },
   {
    "duration": 6,
    "start_time": "2023-12-29T11:44:00.949Z"
   },
   {
    "duration": 4,
    "start_time": "2023-12-29T11:51:53.571Z"
   },
   {
    "duration": 1315,
    "start_time": "2023-12-29T11:52:47.258Z"
   },
   {
    "duration": 1303,
    "start_time": "2023-12-29T11:53:01.208Z"
   },
   {
    "duration": 1344,
    "start_time": "2023-12-29T11:53:34.071Z"
   },
   {
    "duration": 1460,
    "start_time": "2023-12-29T11:53:43.485Z"
   },
   {
    "duration": 169,
    "start_time": "2023-12-29T11:53:44.947Z"
   },
   {
    "duration": 141,
    "start_time": "2023-12-29T11:53:45.122Z"
   },
   {
    "duration": 149,
    "start_time": "2023-12-29T11:53:45.265Z"
   },
   {
    "duration": 45,
    "start_time": "2023-12-29T11:53:45.415Z"
   },
   {
    "duration": 85,
    "start_time": "2023-12-29T11:53:45.461Z"
   },
   {
    "duration": 15,
    "start_time": "2023-12-29T11:53:45.547Z"
   },
   {
    "duration": 677,
    "start_time": "2023-12-29T11:53:45.564Z"
   },
   {
    "duration": 761,
    "start_time": "2023-12-29T11:53:46.243Z"
   },
   {
    "duration": 21,
    "start_time": "2023-12-29T11:53:47.006Z"
   },
   {
    "duration": 4,
    "start_time": "2023-12-29T11:53:47.028Z"
   },
   {
    "duration": 1289,
    "start_time": "2023-12-29T11:53:47.033Z"
   },
   {
    "duration": 5,
    "start_time": "2023-12-29T11:53:48.324Z"
   },
   {
    "duration": 672,
    "start_time": "2023-12-29T11:53:48.331Z"
   },
   {
    "duration": 16,
    "start_time": "2023-12-29T11:56:52.542Z"
   },
   {
    "duration": 1409,
    "start_time": "2023-12-29T11:59:26.542Z"
   },
   {
    "duration": 176,
    "start_time": "2023-12-29T11:59:27.954Z"
   },
   {
    "duration": 146,
    "start_time": "2023-12-29T11:59:28.131Z"
   },
   {
    "duration": 146,
    "start_time": "2023-12-29T11:59:28.278Z"
   },
   {
    "duration": 44,
    "start_time": "2023-12-29T11:59:28.426Z"
   },
   {
    "duration": 83,
    "start_time": "2023-12-29T11:59:28.472Z"
   },
   {
    "duration": 15,
    "start_time": "2023-12-29T11:59:28.557Z"
   },
   {
    "duration": 725,
    "start_time": "2023-12-29T11:59:28.573Z"
   },
   {
    "duration": 729,
    "start_time": "2023-12-29T11:59:29.300Z"
   },
   {
    "duration": 13,
    "start_time": "2023-12-29T11:59:30.031Z"
   },
   {
    "duration": 34,
    "start_time": "2023-12-29T11:59:30.046Z"
   },
   {
    "duration": 1284,
    "start_time": "2023-12-29T11:59:30.082Z"
   },
   {
    "duration": 22,
    "start_time": "2023-12-29T11:59:31.368Z"
   },
   {
    "duration": 21,
    "start_time": "2023-12-29T11:59:31.393Z"
   },
   {
    "duration": 710,
    "start_time": "2023-12-29T11:59:31.416Z"
   },
   {
    "duration": 24,
    "start_time": "2023-12-29T12:00:06.546Z"
   },
   {
    "duration": 8,
    "start_time": "2023-12-29T12:00:20.418Z"
   },
   {
    "duration": 619,
    "start_time": "2023-12-29T12:00:45.053Z"
   },
   {
    "duration": 1374,
    "start_time": "2023-12-29T12:01:05.931Z"
   },
   {
    "duration": 174,
    "start_time": "2023-12-29T12:01:07.307Z"
   },
   {
    "duration": 151,
    "start_time": "2023-12-29T12:01:07.483Z"
   },
   {
    "duration": 162,
    "start_time": "2023-12-29T12:01:07.636Z"
   },
   {
    "duration": 54,
    "start_time": "2023-12-29T12:01:07.801Z"
   },
   {
    "duration": 84,
    "start_time": "2023-12-29T12:01:07.856Z"
   },
   {
    "duration": 15,
    "start_time": "2023-12-29T12:01:07.941Z"
   },
   {
    "duration": 738,
    "start_time": "2023-12-29T12:01:07.958Z"
   },
   {
    "duration": 775,
    "start_time": "2023-12-29T12:01:08.697Z"
   },
   {
    "duration": 13,
    "start_time": "2023-12-29T12:01:09.474Z"
   },
   {
    "duration": 4,
    "start_time": "2023-12-29T12:01:09.489Z"
   },
   {
    "duration": 1289,
    "start_time": "2023-12-29T12:01:09.494Z"
   },
   {
    "duration": 22,
    "start_time": "2023-12-29T12:01:10.785Z"
   },
   {
    "duration": 695,
    "start_time": "2023-12-29T12:01:10.809Z"
   },
   {
    "duration": 1448,
    "start_time": "2023-12-29T12:58:50.503Z"
   },
   {
    "duration": 175,
    "start_time": "2023-12-29T12:58:51.953Z"
   },
   {
    "duration": 152,
    "start_time": "2023-12-29T12:58:52.130Z"
   },
   {
    "duration": 153,
    "start_time": "2023-12-29T12:58:52.284Z"
   },
   {
    "duration": 47,
    "start_time": "2023-12-29T12:58:52.439Z"
   },
   {
    "duration": 83,
    "start_time": "2023-12-29T12:58:52.487Z"
   },
   {
    "duration": 15,
    "start_time": "2023-12-29T12:58:52.572Z"
   },
   {
    "duration": 782,
    "start_time": "2023-12-29T12:58:52.589Z"
   },
   {
    "duration": 841,
    "start_time": "2023-12-29T12:58:53.373Z"
   },
   {
    "duration": 18,
    "start_time": "2023-12-29T12:58:54.215Z"
   },
   {
    "duration": 4,
    "start_time": "2023-12-29T12:58:54.235Z"
   },
   {
    "duration": 1437,
    "start_time": "2023-12-29T12:58:54.240Z"
   },
   {
    "duration": 23,
    "start_time": "2023-12-29T12:58:55.679Z"
   },
   {
    "duration": 736,
    "start_time": "2023-12-29T12:58:55.704Z"
   },
   {
    "duration": 78,
    "start_time": "2023-12-29T13:06:16.560Z"
   },
   {
    "duration": 17,
    "start_time": "2023-12-29T13:06:46.105Z"
   },
   {
    "duration": 109,
    "start_time": "2023-12-29T13:07:01.566Z"
   },
   {
    "duration": 12,
    "start_time": "2023-12-29T13:07:07.266Z"
   },
   {
    "duration": 9,
    "start_time": "2023-12-29T13:07:46.923Z"
   },
   {
    "duration": 11,
    "start_time": "2023-12-29T13:11:50.341Z"
   },
   {
    "duration": 17,
    "start_time": "2023-12-29T13:12:13.342Z"
   },
   {
    "duration": 10,
    "start_time": "2023-12-29T13:12:24.412Z"
   },
   {
    "duration": 11,
    "start_time": "2023-12-29T13:12:27.133Z"
   },
   {
    "duration": 1438,
    "start_time": "2023-12-29T13:12:41.018Z"
   },
   {
    "duration": 181,
    "start_time": "2023-12-29T13:12:42.458Z"
   },
   {
    "duration": 159,
    "start_time": "2023-12-29T13:12:42.641Z"
   },
   {
    "duration": 153,
    "start_time": "2023-12-29T13:12:42.802Z"
   },
   {
    "duration": 48,
    "start_time": "2023-12-29T13:12:42.958Z"
   },
   {
    "duration": 69,
    "start_time": "2023-12-29T13:12:43.023Z"
   },
   {
    "duration": 15,
    "start_time": "2023-12-29T13:12:43.093Z"
   },
   {
    "duration": 774,
    "start_time": "2023-12-29T13:12:43.110Z"
   },
   {
    "duration": 810,
    "start_time": "2023-12-29T13:12:43.886Z"
   },
   {
    "duration": 28,
    "start_time": "2023-12-29T13:12:44.697Z"
   },
   {
    "duration": 4,
    "start_time": "2023-12-29T13:12:44.726Z"
   },
   {
    "duration": 1372,
    "start_time": "2023-12-29T13:12:44.732Z"
   },
   {
    "duration": 29,
    "start_time": "2023-12-29T13:12:46.106Z"
   },
   {
    "duration": 759,
    "start_time": "2023-12-29T13:12:46.138Z"
   },
   {
    "duration": 7,
    "start_time": "2023-12-29T13:12:46.899Z"
   },
   {
    "duration": 22,
    "start_time": "2023-12-29T13:12:46.908Z"
   },
   {
    "duration": 128,
    "start_time": "2023-12-29T13:12:46.932Z"
   },
   {
    "duration": 11,
    "start_time": "2023-12-29T13:12:55.536Z"
   },
   {
    "duration": 19,
    "start_time": "2023-12-29T13:26:04.255Z"
   },
   {
    "duration": 18,
    "start_time": "2023-12-29T13:26:32.257Z"
   },
   {
    "duration": 18,
    "start_time": "2023-12-29T13:27:48.000Z"
   },
   {
    "duration": 18,
    "start_time": "2023-12-29T13:27:49.719Z"
   },
   {
    "duration": 12,
    "start_time": "2023-12-29T13:30:17.765Z"
   },
   {
    "duration": 5,
    "start_time": "2023-12-29T13:30:22.657Z"
   },
   {
    "duration": 9,
    "start_time": "2023-12-29T13:30:53.075Z"
   },
   {
    "duration": 25,
    "start_time": "2023-12-29T13:31:17.767Z"
   },
   {
    "duration": 11,
    "start_time": "2023-12-29T13:31:23.427Z"
   },
   {
    "duration": 5,
    "start_time": "2023-12-29T13:31:27.637Z"
   },
   {
    "duration": 9,
    "start_time": "2023-12-29T13:31:36.767Z"
   },
   {
    "duration": 8,
    "start_time": "2023-12-29T13:31:44.459Z"
   },
   {
    "duration": 11,
    "start_time": "2023-12-29T13:32:19.730Z"
   },
   {
    "duration": 5,
    "start_time": "2023-12-29T13:32:21.718Z"
   },
   {
    "duration": 1371,
    "start_time": "2023-12-29T13:39:41.747Z"
   },
   {
    "duration": 175,
    "start_time": "2023-12-29T13:39:43.120Z"
   },
   {
    "duration": 147,
    "start_time": "2023-12-29T13:39:43.297Z"
   },
   {
    "duration": 148,
    "start_time": "2023-12-29T13:39:43.445Z"
   },
   {
    "duration": 53,
    "start_time": "2023-12-29T13:39:43.595Z"
   },
   {
    "duration": 80,
    "start_time": "2023-12-29T13:39:43.649Z"
   },
   {
    "duration": 15,
    "start_time": "2023-12-29T13:39:43.731Z"
   },
   {
    "duration": 720,
    "start_time": "2023-12-29T13:39:43.747Z"
   },
   {
    "duration": 774,
    "start_time": "2023-12-29T13:39:44.469Z"
   },
   {
    "duration": 13,
    "start_time": "2023-12-29T13:39:45.244Z"
   },
   {
    "duration": 18,
    "start_time": "2023-12-29T13:39:45.258Z"
   },
   {
    "duration": 1310,
    "start_time": "2023-12-29T13:39:45.278Z"
   },
   {
    "duration": 33,
    "start_time": "2023-12-29T13:39:46.590Z"
   },
   {
    "duration": 673,
    "start_time": "2023-12-29T13:39:46.625Z"
   },
   {
    "duration": 7,
    "start_time": "2023-12-29T13:39:47.300Z"
   },
   {
    "duration": 27,
    "start_time": "2023-12-29T13:39:47.308Z"
   },
   {
    "duration": 17,
    "start_time": "2023-12-29T13:39:47.336Z"
   },
   {
    "duration": 19,
    "start_time": "2023-12-29T13:39:47.354Z"
   },
   {
    "duration": 51,
    "start_time": "2023-12-29T13:39:47.375Z"
   },
   {
    "duration": 22,
    "start_time": "2023-12-29T13:39:47.428Z"
   },
   {
    "duration": 10,
    "start_time": "2023-12-29T13:39:47.452Z"
   },
   {
    "duration": 1454,
    "start_time": "2023-12-29T14:27:32.783Z"
   },
   {
    "duration": 172,
    "start_time": "2023-12-29T14:27:34.239Z"
   },
   {
    "duration": 147,
    "start_time": "2023-12-29T14:27:34.412Z"
   },
   {
    "duration": 150,
    "start_time": "2023-12-29T14:27:34.561Z"
   },
   {
    "duration": 56,
    "start_time": "2023-12-29T14:27:34.714Z"
   },
   {
    "duration": 94,
    "start_time": "2023-12-29T14:27:34.772Z"
   },
   {
    "duration": 18,
    "start_time": "2023-12-29T14:27:34.868Z"
   },
   {
    "duration": 758,
    "start_time": "2023-12-29T14:27:34.888Z"
   },
   {
    "duration": 761,
    "start_time": "2023-12-29T14:27:35.648Z"
   },
   {
    "duration": 3,
    "start_time": "2023-12-29T14:27:36.410Z"
   },
   {
    "duration": 134,
    "start_time": "2023-12-29T14:27:36.422Z"
   },
   {
    "duration": 0,
    "start_time": "2023-12-29T14:27:36.558Z"
   },
   {
    "duration": 0,
    "start_time": "2023-12-29T14:27:36.559Z"
   },
   {
    "duration": 0,
    "start_time": "2023-12-29T14:27:36.560Z"
   },
   {
    "duration": 0,
    "start_time": "2023-12-29T14:27:36.561Z"
   },
   {
    "duration": 0,
    "start_time": "2023-12-29T14:27:36.562Z"
   },
   {
    "duration": 0,
    "start_time": "2023-12-29T14:27:36.563Z"
   },
   {
    "duration": 0,
    "start_time": "2023-12-29T14:27:36.564Z"
   },
   {
    "duration": 0,
    "start_time": "2023-12-29T14:27:36.564Z"
   },
   {
    "duration": 0,
    "start_time": "2023-12-29T14:27:36.565Z"
   },
   {
    "duration": 0,
    "start_time": "2023-12-29T14:27:36.566Z"
   },
   {
    "duration": 0,
    "start_time": "2023-12-29T14:27:36.567Z"
   },
   {
    "duration": 1063,
    "start_time": "2023-12-29T14:27:55.834Z"
   },
   {
    "duration": 14,
    "start_time": "2023-12-29T14:28:23.510Z"
   },
   {
    "duration": 1019,
    "start_time": "2023-12-29T14:28:35.731Z"
   },
   {
    "duration": 1053,
    "start_time": "2023-12-29T14:28:47.111Z"
   },
   {
    "duration": 1022,
    "start_time": "2023-12-29T14:28:57.076Z"
   },
   {
    "duration": 1464,
    "start_time": "2023-12-29T14:32:14.789Z"
   },
   {
    "duration": 178,
    "start_time": "2023-12-29T14:32:16.255Z"
   },
   {
    "duration": 150,
    "start_time": "2023-12-29T14:32:16.434Z"
   },
   {
    "duration": 156,
    "start_time": "2023-12-29T14:32:16.585Z"
   },
   {
    "duration": 49,
    "start_time": "2023-12-29T14:32:16.744Z"
   },
   {
    "duration": 93,
    "start_time": "2023-12-29T14:32:16.795Z"
   },
   {
    "duration": 16,
    "start_time": "2023-12-29T14:32:16.889Z"
   },
   {
    "duration": 760,
    "start_time": "2023-12-29T14:32:16.906Z"
   },
   {
    "duration": 781,
    "start_time": "2023-12-29T14:32:17.668Z"
   },
   {
    "duration": 130,
    "start_time": "2023-12-29T14:32:18.451Z"
   },
   {
    "duration": 0,
    "start_time": "2023-12-29T14:32:18.583Z"
   },
   {
    "duration": 0,
    "start_time": "2023-12-29T14:32:18.585Z"
   },
   {
    "duration": 0,
    "start_time": "2023-12-29T14:32:18.587Z"
   },
   {
    "duration": 0,
    "start_time": "2023-12-29T14:32:18.588Z"
   },
   {
    "duration": 0,
    "start_time": "2023-12-29T14:32:18.589Z"
   },
   {
    "duration": 0,
    "start_time": "2023-12-29T14:32:18.591Z"
   },
   {
    "duration": 0,
    "start_time": "2023-12-29T14:32:18.592Z"
   },
   {
    "duration": 0,
    "start_time": "2023-12-29T14:32:18.594Z"
   },
   {
    "duration": 0,
    "start_time": "2023-12-29T14:32:18.595Z"
   },
   {
    "duration": 0,
    "start_time": "2023-12-29T14:32:18.622Z"
   },
   {
    "duration": 0,
    "start_time": "2023-12-29T14:32:18.624Z"
   },
   {
    "duration": 0,
    "start_time": "2023-12-29T14:32:18.625Z"
   },
   {
    "duration": 15,
    "start_time": "2023-12-29T14:32:49.410Z"
   },
   {
    "duration": 11,
    "start_time": "2023-12-29T14:33:00.780Z"
   },
   {
    "duration": 18,
    "start_time": "2023-12-29T14:33:06.223Z"
   },
   {
    "duration": 11,
    "start_time": "2023-12-29T14:33:10.377Z"
   },
   {
    "duration": 6069,
    "start_time": "2023-12-29T14:33:32.127Z"
   },
   {
    "duration": 319,
    "start_time": "2023-12-29T14:34:16.102Z"
   },
   {
    "duration": 298,
    "start_time": "2023-12-29T14:34:31.111Z"
   },
   {
    "duration": 293,
    "start_time": "2023-12-29T14:43:53.129Z"
   },
   {
    "duration": 122,
    "start_time": "2023-12-29T14:44:07.602Z"
   },
   {
    "duration": 324,
    "start_time": "2023-12-29T14:44:23.073Z"
   },
   {
    "duration": 9,
    "start_time": "2023-12-29T14:44:45.628Z"
   },
   {
    "duration": 332,
    "start_time": "2023-12-29T14:44:54.908Z"
   },
   {
    "duration": 11,
    "start_time": "2023-12-29T15:36:36.412Z"
   },
   {
    "duration": 8,
    "start_time": "2023-12-29T15:36:46.502Z"
   },
   {
    "duration": 1359,
    "start_time": "2023-12-29T15:36:55.946Z"
   },
   {
    "duration": 174,
    "start_time": "2023-12-29T15:36:57.307Z"
   },
   {
    "duration": 155,
    "start_time": "2023-12-29T15:36:57.483Z"
   },
   {
    "duration": 146,
    "start_time": "2023-12-29T15:36:57.640Z"
   },
   {
    "duration": 56,
    "start_time": "2023-12-29T15:36:57.788Z"
   },
   {
    "duration": 77,
    "start_time": "2023-12-29T15:36:57.845Z"
   },
   {
    "duration": 14,
    "start_time": "2023-12-29T15:36:57.924Z"
   },
   {
    "duration": 750,
    "start_time": "2023-12-29T15:36:57.941Z"
   },
   {
    "duration": 742,
    "start_time": "2023-12-29T15:36:58.693Z"
   },
   {
    "duration": 333,
    "start_time": "2023-12-29T15:36:59.437Z"
   },
   {
    "duration": 128,
    "start_time": "2023-12-29T15:36:59.772Z"
   },
   {
    "duration": 0,
    "start_time": "2023-12-29T15:36:59.902Z"
   },
   {
    "duration": 0,
    "start_time": "2023-12-29T15:36:59.903Z"
   },
   {
    "duration": 0,
    "start_time": "2023-12-29T15:36:59.905Z"
   },
   {
    "duration": 0,
    "start_time": "2023-12-29T15:36:59.905Z"
   },
   {
    "duration": 0,
    "start_time": "2023-12-29T15:36:59.906Z"
   },
   {
    "duration": 0,
    "start_time": "2023-12-29T15:36:59.907Z"
   },
   {
    "duration": 0,
    "start_time": "2023-12-29T15:36:59.908Z"
   },
   {
    "duration": 0,
    "start_time": "2023-12-29T15:36:59.909Z"
   },
   {
    "duration": 0,
    "start_time": "2023-12-29T15:36:59.922Z"
   },
   {
    "duration": 0,
    "start_time": "2023-12-29T15:36:59.923Z"
   },
   {
    "duration": 0,
    "start_time": "2023-12-29T15:36:59.925Z"
   },
   {
    "duration": 0,
    "start_time": "2023-12-29T15:36:59.926Z"
   },
   {
    "duration": 0,
    "start_time": "2023-12-29T15:36:59.926Z"
   },
   {
    "duration": 1405,
    "start_time": "2023-12-29T15:37:14.720Z"
   },
   {
    "duration": 161,
    "start_time": "2023-12-29T15:37:16.127Z"
   },
   {
    "duration": 140,
    "start_time": "2023-12-29T15:37:16.290Z"
   },
   {
    "duration": 144,
    "start_time": "2023-12-29T15:37:16.433Z"
   },
   {
    "duration": 55,
    "start_time": "2023-12-29T15:37:16.578Z"
   },
   {
    "duration": 62,
    "start_time": "2023-12-29T15:37:16.635Z"
   },
   {
    "duration": 29,
    "start_time": "2023-12-29T15:37:16.698Z"
   },
   {
    "duration": 707,
    "start_time": "2023-12-29T15:37:16.728Z"
   },
   {
    "duration": 745,
    "start_time": "2023-12-29T15:37:17.436Z"
   },
   {
    "duration": 336,
    "start_time": "2023-12-29T15:37:18.184Z"
   },
   {
    "duration": 12,
    "start_time": "2023-12-29T15:37:18.521Z"
   },
   {
    "duration": 3,
    "start_time": "2023-12-29T15:37:18.535Z"
   },
   {
    "duration": 1289,
    "start_time": "2023-12-29T15:37:18.540Z"
   },
   {
    "duration": 21,
    "start_time": "2023-12-29T15:37:19.831Z"
   },
   {
    "duration": 794,
    "start_time": "2023-12-29T15:37:19.853Z"
   },
   {
    "duration": 8,
    "start_time": "2023-12-29T15:37:20.649Z"
   },
   {
    "duration": 33,
    "start_time": "2023-12-29T15:37:20.658Z"
   },
   {
    "duration": 33,
    "start_time": "2023-12-29T15:37:20.692Z"
   },
   {
    "duration": 23,
    "start_time": "2023-12-29T15:37:20.727Z"
   },
   {
    "duration": 14,
    "start_time": "2023-12-29T15:37:20.751Z"
   },
   {
    "duration": 22,
    "start_time": "2023-12-29T15:37:20.767Z"
   },
   {
    "duration": 40,
    "start_time": "2023-12-29T15:37:20.791Z"
   },
   {
    "duration": 16,
    "start_time": "2023-12-29T15:37:20.833Z"
   },
   {
    "duration": 176,
    "start_time": "2023-12-29T15:37:20.850Z"
   },
   {
    "duration": 8,
    "start_time": "2023-12-29T15:37:41.397Z"
   },
   {
    "duration": 16,
    "start_time": "2023-12-29T15:39:13.340Z"
   },
   {
    "duration": 19,
    "start_time": "2023-12-29T15:39:28.842Z"
   },
   {
    "duration": 13,
    "start_time": "2023-12-29T15:39:40.311Z"
   },
   {
    "duration": 4,
    "start_time": "2023-12-29T15:41:41.650Z"
   },
   {
    "duration": 5,
    "start_time": "2023-12-29T15:41:53.778Z"
   },
   {
    "duration": 4,
    "start_time": "2023-12-29T15:41:55.544Z"
   },
   {
    "duration": 5,
    "start_time": "2023-12-29T15:43:33.792Z"
   },
   {
    "duration": 6,
    "start_time": "2023-12-29T15:43:38.955Z"
   },
   {
    "duration": 6,
    "start_time": "2023-12-29T15:44:01.549Z"
   },
   {
    "duration": 6,
    "start_time": "2023-12-29T15:44:02.999Z"
   },
   {
    "duration": 1010,
    "start_time": "2023-12-29T16:13:04.103Z"
   },
   {
    "duration": 111,
    "start_time": "2023-12-29T16:13:19.281Z"
   },
   {
    "duration": 1333,
    "start_time": "2023-12-29T16:13:28.375Z"
   },
   {
    "duration": 167,
    "start_time": "2023-12-29T16:13:29.710Z"
   },
   {
    "duration": 142,
    "start_time": "2023-12-29T16:13:29.879Z"
   },
   {
    "duration": 147,
    "start_time": "2023-12-29T16:13:30.023Z"
   },
   {
    "duration": 53,
    "start_time": "2023-12-29T16:13:30.172Z"
   },
   {
    "duration": 94,
    "start_time": "2023-12-29T16:13:30.227Z"
   },
   {
    "duration": 25,
    "start_time": "2023-12-29T16:13:30.323Z"
   },
   {
    "duration": 855,
    "start_time": "2023-12-29T16:13:30.349Z"
   },
   {
    "duration": 905,
    "start_time": "2023-12-29T16:13:31.206Z"
   },
   {
    "duration": 337,
    "start_time": "2023-12-29T16:13:32.113Z"
   },
   {
    "duration": 13,
    "start_time": "2023-12-29T16:13:32.452Z"
   },
   {
    "duration": 4,
    "start_time": "2023-12-29T16:13:32.467Z"
   },
   {
    "duration": 1284,
    "start_time": "2023-12-29T16:13:32.473Z"
   },
   {
    "duration": 23,
    "start_time": "2023-12-29T16:13:33.760Z"
   },
   {
    "duration": 803,
    "start_time": "2023-12-29T16:13:33.785Z"
   },
   {
    "duration": 8,
    "start_time": "2023-12-29T16:13:34.589Z"
   },
   {
    "duration": 28,
    "start_time": "2023-12-29T16:13:34.599Z"
   },
   {
    "duration": 19,
    "start_time": "2023-12-29T16:13:34.628Z"
   },
   {
    "duration": 24,
    "start_time": "2023-12-29T16:13:34.648Z"
   },
   {
    "duration": 12,
    "start_time": "2023-12-29T16:13:34.674Z"
   },
   {
    "duration": 51,
    "start_time": "2023-12-29T16:13:34.688Z"
   },
   {
    "duration": 11,
    "start_time": "2023-12-29T16:13:34.740Z"
   },
   {
    "duration": 168,
    "start_time": "2023-12-29T16:13:34.753Z"
   },
   {
    "duration": 117,
    "start_time": "2023-12-29T16:13:34.924Z"
   },
   {
    "duration": 93,
    "start_time": "2023-12-29T16:13:35.043Z"
   },
   {
    "duration": 93,
    "start_time": "2023-12-29T16:13:35.138Z"
   },
   {
    "duration": 100,
    "start_time": "2023-12-29T16:13:35.233Z"
   },
   {
    "duration": 8,
    "start_time": "2023-12-29T16:13:35.334Z"
   },
   {
    "duration": 7,
    "start_time": "2023-12-29T16:13:35.344Z"
   },
   {
    "duration": 599,
    "start_time": "2023-12-29T16:14:55.722Z"
   },
   {
    "duration": 769,
    "start_time": "2023-12-29T16:15:27.666Z"
   },
   {
    "duration": 574,
    "start_time": "2023-12-29T16:15:29.754Z"
   },
   {
    "duration": 3,
    "start_time": "2023-12-29T16:26:05.180Z"
   },
   {
    "duration": 108,
    "start_time": "2023-12-29T16:29:34.927Z"
   },
   {
    "duration": 3,
    "start_time": "2023-12-29T16:29:39.861Z"
   },
   {
    "duration": 4,
    "start_time": "2023-12-29T16:46:36.329Z"
   },
   {
    "duration": 3,
    "start_time": "2023-12-29T16:51:20.294Z"
   },
   {
    "duration": 8,
    "start_time": "2023-12-29T16:51:21.788Z"
   },
   {
    "duration": 8,
    "start_time": "2023-12-29T16:51:36.967Z"
   },
   {
    "duration": 7,
    "start_time": "2023-12-29T16:51:47.310Z"
   },
   {
    "duration": 9,
    "start_time": "2023-12-29T16:52:19.327Z"
   },
   {
    "duration": 8,
    "start_time": "2023-12-29T16:52:38.323Z"
   },
   {
    "duration": 4,
    "start_time": "2023-12-29T16:53:20.473Z"
   },
   {
    "duration": 9,
    "start_time": "2023-12-29T16:53:21.690Z"
   },
   {
    "duration": 3,
    "start_time": "2023-12-29T16:55:21.295Z"
   },
   {
    "duration": 7,
    "start_time": "2023-12-29T16:55:24.080Z"
   },
   {
    "duration": 3,
    "start_time": "2023-12-29T16:55:49.117Z"
   },
   {
    "duration": 7,
    "start_time": "2023-12-29T16:55:50.771Z"
   },
   {
    "duration": 6,
    "start_time": "2023-12-29T16:55:54.486Z"
   },
   {
    "duration": 7,
    "start_time": "2023-12-29T16:56:09.374Z"
   },
   {
    "duration": 7,
    "start_time": "2023-12-29T16:56:17.634Z"
   },
   {
    "duration": 8,
    "start_time": "2023-12-29T16:56:46.283Z"
   },
   {
    "duration": 7,
    "start_time": "2023-12-29T16:56:49.574Z"
   },
   {
    "duration": 3,
    "start_time": "2023-12-29T17:57:04.398Z"
   },
   {
    "duration": 3,
    "start_time": "2023-12-29T17:57:54.730Z"
   },
   {
    "duration": 4,
    "start_time": "2023-12-29T17:58:00.267Z"
   },
   {
    "duration": 11,
    "start_time": "2023-12-29T18:01:14.098Z"
   },
   {
    "duration": 518,
    "start_time": "2023-12-29T18:01:29.851Z"
   },
   {
    "duration": 528,
    "start_time": "2023-12-29T18:01:40.590Z"
   },
   {
    "duration": 500,
    "start_time": "2023-12-29T18:01:51.591Z"
   },
   {
    "duration": 493,
    "start_time": "2023-12-29T18:02:06.420Z"
   },
   {
    "duration": 490,
    "start_time": "2023-12-29T18:02:10.870Z"
   },
   {
    "duration": 9,
    "start_time": "2023-12-29T18:04:42.296Z"
   },
   {
    "duration": 8,
    "start_time": "2023-12-29T18:04:52.083Z"
   },
   {
    "duration": 88,
    "start_time": "2023-12-29T18:05:20.257Z"
   },
   {
    "duration": 3,
    "start_time": "2023-12-29T18:05:24.513Z"
   },
   {
    "duration": 484,
    "start_time": "2023-12-29T18:05:29.325Z"
   },
   {
    "duration": 652,
    "start_time": "2023-12-29T18:05:51.117Z"
   },
   {
    "duration": 718,
    "start_time": "2023-12-29T18:05:56.663Z"
   },
   {
    "duration": 855,
    "start_time": "2023-12-29T18:06:26.944Z"
   },
   {
    "duration": 701,
    "start_time": "2023-12-29T18:06:30.560Z"
   },
   {
    "duration": 696,
    "start_time": "2023-12-29T18:06:38.368Z"
   },
   {
    "duration": 483,
    "start_time": "2023-12-29T18:06:50.716Z"
   },
   {
    "duration": 4,
    "start_time": "2023-12-29T18:07:56.969Z"
   },
   {
    "duration": 3,
    "start_time": "2023-12-29T18:07:59.090Z"
   },
   {
    "duration": 673,
    "start_time": "2023-12-29T18:07:59.670Z"
   },
   {
    "duration": 3,
    "start_time": "2023-12-29T18:08:03.242Z"
   },
   {
    "duration": 4,
    "start_time": "2023-12-29T18:08:04.160Z"
   },
   {
    "duration": 1469,
    "start_time": "2023-12-29T18:08:49.513Z"
   },
   {
    "duration": 5,
    "start_time": "2023-12-29T18:08:54.019Z"
   },
   {
    "duration": 5,
    "start_time": "2023-12-29T18:08:57.505Z"
   },
   {
    "duration": 688,
    "start_time": "2023-12-29T18:10:01.655Z"
   },
   {
    "duration": 704,
    "start_time": "2023-12-29T18:10:04.381Z"
   },
   {
    "duration": 3,
    "start_time": "2023-12-29T18:10:40.904Z"
   },
   {
    "duration": 4,
    "start_time": "2023-12-29T18:15:17.334Z"
   },
   {
    "duration": 1017,
    "start_time": "2023-12-29T18:15:42.247Z"
   },
   {
    "duration": 27048,
    "start_time": "2023-12-29T18:16:01.370Z"
   },
   {
    "duration": 1046,
    "start_time": "2023-12-29T18:16:49.850Z"
   },
   {
    "duration": 4,
    "start_time": "2023-12-29T18:17:43.558Z"
   },
   {
    "duration": 177,
    "start_time": "2023-12-29T18:17:45.153Z"
   },
   {
    "duration": 166,
    "start_time": "2023-12-29T18:17:55.772Z"
   },
   {
    "duration": 3,
    "start_time": "2023-12-29T18:18:29.453Z"
   },
   {
    "duration": 489,
    "start_time": "2023-12-29T18:19:06.044Z"
   },
   {
    "duration": 5,
    "start_time": "2023-12-29T18:19:13.888Z"
   },
   {
    "duration": 5,
    "start_time": "2023-12-29T18:19:32.069Z"
   },
   {
    "duration": 5,
    "start_time": "2023-12-29T18:19:36.397Z"
   },
   {
    "duration": 5,
    "start_time": "2023-12-29T18:21:21.223Z"
   },
   {
    "duration": 6,
    "start_time": "2023-12-29T18:22:01.840Z"
   },
   {
    "duration": 6,
    "start_time": "2023-12-29T18:22:08.036Z"
   },
   {
    "duration": 5,
    "start_time": "2023-12-29T18:22:25.768Z"
   },
   {
    "duration": 4,
    "start_time": "2023-12-29T18:22:36.029Z"
   },
   {
    "duration": 5,
    "start_time": "2023-12-29T18:23:02.714Z"
   },
   {
    "duration": 80,
    "start_time": "2023-12-29T18:23:39.241Z"
   },
   {
    "duration": 73,
    "start_time": "2023-12-29T18:23:42.706Z"
   },
   {
    "duration": 65,
    "start_time": "2023-12-29T18:23:55.898Z"
   },
   {
    "duration": 6,
    "start_time": "2023-12-29T18:24:00.404Z"
   },
   {
    "duration": 5,
    "start_time": "2023-12-29T18:24:05.529Z"
   },
   {
    "duration": 83,
    "start_time": "2023-12-29T18:24:42.028Z"
   },
   {
    "duration": 6,
    "start_time": "2023-12-29T18:25:06.225Z"
   },
   {
    "duration": 5,
    "start_time": "2023-12-29T18:25:23.421Z"
   },
   {
    "duration": 5,
    "start_time": "2023-12-29T18:25:30.478Z"
   },
   {
    "duration": 5,
    "start_time": "2023-12-29T18:25:37.011Z"
   },
   {
    "duration": 5,
    "start_time": "2023-12-29T18:25:49.522Z"
   },
   {
    "duration": 5,
    "start_time": "2023-12-29T18:26:40.023Z"
   },
   {
    "duration": 5,
    "start_time": "2023-12-29T18:26:44.687Z"
   },
   {
    "duration": 5,
    "start_time": "2023-12-29T18:27:03.121Z"
   },
   {
    "duration": 5,
    "start_time": "2023-12-29T18:27:10.689Z"
   },
   {
    "duration": 4,
    "start_time": "2023-12-29T18:27:38.275Z"
   },
   {
    "duration": 5,
    "start_time": "2023-12-29T18:27:44.111Z"
   },
   {
    "duration": 6,
    "start_time": "2023-12-29T18:28:19.596Z"
   },
   {
    "duration": 7,
    "start_time": "2023-12-29T18:28:27.629Z"
   },
   {
    "duration": 8,
    "start_time": "2023-12-29T18:28:44.542Z"
   },
   {
    "duration": 4,
    "start_time": "2023-12-29T18:29:08.225Z"
   },
   {
    "duration": 8,
    "start_time": "2023-12-29T18:29:24.978Z"
   },
   {
    "duration": 9,
    "start_time": "2023-12-29T18:29:40.792Z"
   },
   {
    "duration": 10,
    "start_time": "2023-12-29T18:29:50.660Z"
   },
   {
    "duration": 10,
    "start_time": "2023-12-29T18:30:01.805Z"
   },
   {
    "duration": 8,
    "start_time": "2023-12-29T18:30:31.040Z"
   },
   {
    "duration": 8,
    "start_time": "2023-12-29T18:30:41.737Z"
   },
   {
    "duration": 483,
    "start_time": "2023-12-29T18:42:20.653Z"
   },
   {
    "duration": 8,
    "start_time": "2023-12-29T18:42:22.688Z"
   },
   {
    "duration": 516,
    "start_time": "2023-12-29T18:42:24.595Z"
   },
   {
    "duration": 9,
    "start_time": "2023-12-29T18:42:25.327Z"
   },
   {
    "duration": 511,
    "start_time": "2023-12-29T18:42:26.527Z"
   },
   {
    "duration": 7,
    "start_time": "2023-12-29T18:42:27.153Z"
   },
   {
    "duration": 5,
    "start_time": "2023-12-29T18:45:22.666Z"
   },
   {
    "duration": 5,
    "start_time": "2023-12-29T18:45:48.382Z"
   },
   {
    "duration": 6,
    "start_time": "2023-12-29T18:45:57.834Z"
   },
   {
    "duration": 238,
    "start_time": "2023-12-29T18:46:07.384Z"
   },
   {
    "duration": 194,
    "start_time": "2023-12-29T18:46:19.875Z"
   },
   {
    "duration": 206,
    "start_time": "2023-12-29T18:46:27.505Z"
   },
   {
    "duration": 216,
    "start_time": "2023-12-29T18:46:30.757Z"
   },
   {
    "duration": 6,
    "start_time": "2023-12-29T18:46:38.869Z"
   },
   {
    "duration": 4,
    "start_time": "2023-12-29T18:46:45.307Z"
   },
   {
    "duration": 5,
    "start_time": "2023-12-29T18:46:56.812Z"
   },
   {
    "duration": 5,
    "start_time": "2023-12-29T18:47:52.511Z"
   },
   {
    "duration": 4,
    "start_time": "2023-12-29T18:47:58.223Z"
   },
   {
    "duration": 5,
    "start_time": "2023-12-29T18:48:01.939Z"
   },
   {
    "duration": 4,
    "start_time": "2023-12-29T18:48:05.055Z"
   },
   {
    "duration": 14,
    "start_time": "2023-12-29T18:50:01.236Z"
   },
   {
    "duration": 11,
    "start_time": "2023-12-29T18:50:08.978Z"
   },
   {
    "duration": 6,
    "start_time": "2023-12-29T18:52:06.059Z"
   },
   {
    "duration": 6,
    "start_time": "2023-12-29T18:52:14.455Z"
   },
   {
    "duration": 6,
    "start_time": "2023-12-29T18:52:23.547Z"
   },
   {
    "duration": 6,
    "start_time": "2023-12-29T18:52:26.436Z"
   },
   {
    "duration": 6,
    "start_time": "2023-12-29T18:52:38.958Z"
   },
   {
    "duration": 7,
    "start_time": "2023-12-29T18:52:55.256Z"
   },
   {
    "duration": 1399,
    "start_time": "2023-12-29T19:03:56.097Z"
   },
   {
    "duration": 180,
    "start_time": "2023-12-29T19:03:57.498Z"
   },
   {
    "duration": 146,
    "start_time": "2023-12-29T19:03:57.680Z"
   },
   {
    "duration": 150,
    "start_time": "2023-12-29T19:03:57.828Z"
   },
   {
    "duration": 66,
    "start_time": "2023-12-29T19:03:57.981Z"
   },
   {
    "duration": 83,
    "start_time": "2023-12-29T19:03:58.049Z"
   },
   {
    "duration": 15,
    "start_time": "2023-12-29T19:03:58.134Z"
   },
   {
    "duration": 802,
    "start_time": "2023-12-29T19:03:58.151Z"
   },
   {
    "duration": 822,
    "start_time": "2023-12-29T19:03:58.955Z"
   },
   {
    "duration": 327,
    "start_time": "2023-12-29T19:03:59.779Z"
   },
   {
    "duration": 22,
    "start_time": "2023-12-29T19:04:00.108Z"
   },
   {
    "duration": 28,
    "start_time": "2023-12-29T19:04:00.132Z"
   },
   {
    "duration": 1277,
    "start_time": "2023-12-29T19:04:00.161Z"
   },
   {
    "duration": 22,
    "start_time": "2023-12-29T19:04:01.441Z"
   },
   {
    "duration": 788,
    "start_time": "2023-12-29T19:04:01.464Z"
   },
   {
    "duration": 7,
    "start_time": "2023-12-29T19:04:02.253Z"
   },
   {
    "duration": 49,
    "start_time": "2023-12-29T19:04:02.262Z"
   },
   {
    "duration": 44,
    "start_time": "2023-12-29T19:04:02.312Z"
   },
   {
    "duration": 26,
    "start_time": "2023-12-29T19:04:02.357Z"
   },
   {
    "duration": 21,
    "start_time": "2023-12-29T19:04:02.384Z"
   },
   {
    "duration": 47,
    "start_time": "2023-12-29T19:04:02.406Z"
   },
   {
    "duration": 33,
    "start_time": "2023-12-29T19:04:02.454Z"
   },
   {
    "duration": 47,
    "start_time": "2023-12-29T19:04:02.488Z"
   },
   {
    "duration": 286,
    "start_time": "2023-12-29T19:04:02.537Z"
   },
   {
    "duration": 104,
    "start_time": "2023-12-29T19:04:02.826Z"
   },
   {
    "duration": 697,
    "start_time": "2023-12-29T19:04:02.932Z"
   },
   {
    "duration": 903,
    "start_time": "2023-12-29T19:04:03.631Z"
   },
   {
    "duration": 793,
    "start_time": "2023-12-29T19:04:04.536Z"
   },
   {
    "duration": 96,
    "start_time": "2023-12-29T19:04:05.332Z"
   },
   {
    "duration": 95,
    "start_time": "2023-12-29T19:04:05.432Z"
   },
   {
    "duration": 7,
    "start_time": "2023-12-29T19:04:05.528Z"
   },
   {
    "duration": 10,
    "start_time": "2023-12-29T19:04:05.536Z"
   },
   {
    "duration": 18,
    "start_time": "2023-12-29T19:04:05.547Z"
   },
   {
    "duration": 4,
    "start_time": "2023-12-29T19:04:05.566Z"
   },
   {
    "duration": 6,
    "start_time": "2023-12-29T19:04:05.571Z"
   },
   {
    "duration": 1505,
    "start_time": "2023-12-29T19:04:05.578Z"
   },
   {
    "duration": 6,
    "start_time": "2023-12-29T19:04:07.086Z"
   },
   {
    "duration": 13,
    "start_time": "2023-12-29T19:04:07.093Z"
   },
   {
    "duration": 222,
    "start_time": "2023-12-29T19:04:07.107Z"
   },
   {
    "duration": 4,
    "start_time": "2023-12-29T19:04:07.331Z"
   },
   {
    "duration": 500,
    "start_time": "2023-12-29T19:04:07.339Z"
   },
   {
    "duration": 8,
    "start_time": "2023-12-29T19:04:07.840Z"
   },
   {
    "duration": 715,
    "start_time": "2023-12-29T19:04:07.850Z"
   },
   {
    "duration": 388,
    "start_time": "2023-12-29T19:16:46.515Z"
   },
   {
    "duration": 274,
    "start_time": "2023-12-29T19:16:59.057Z"
   },
   {
    "duration": 263,
    "start_time": "2023-12-29T19:17:01.938Z"
   },
   {
    "duration": 312,
    "start_time": "2023-12-29T19:17:34.064Z"
   },
   {
    "duration": 325,
    "start_time": "2023-12-29T19:17:42.486Z"
   },
   {
    "duration": 415,
    "start_time": "2023-12-29T19:17:50.039Z"
   },
   {
    "duration": 340,
    "start_time": "2023-12-29T19:18:19.540Z"
   },
   {
    "duration": 198,
    "start_time": "2023-12-29T19:18:49.755Z"
   },
   {
    "duration": 201,
    "start_time": "2023-12-29T19:18:51.302Z"
   },
   {
    "duration": 4,
    "start_time": "2023-12-29T19:28:34.808Z"
   },
   {
    "duration": 9,
    "start_time": "2023-12-29T19:28:54.009Z"
   },
   {
    "duration": 3,
    "start_time": "2023-12-29T19:29:20.817Z"
   },
   {
    "duration": 8,
    "start_time": "2023-12-29T19:29:22.405Z"
   },
   {
    "duration": 8,
    "start_time": "2023-12-29T19:30:39.894Z"
   },
   {
    "duration": 112,
    "start_time": "2023-12-29T19:30:55.700Z"
   },
   {
    "duration": 14,
    "start_time": "2023-12-29T19:31:08.059Z"
   },
   {
    "duration": 15,
    "start_time": "2023-12-29T19:32:13.930Z"
   },
   {
    "duration": 10,
    "start_time": "2023-12-29T19:34:58.195Z"
   },
   {
    "duration": 7,
    "start_time": "2023-12-29T19:35:08.087Z"
   },
   {
    "duration": 8,
    "start_time": "2023-12-29T19:45:25.919Z"
   },
   {
    "duration": 8,
    "start_time": "2023-12-29T19:45:41.302Z"
   },
   {
    "duration": 8,
    "start_time": "2023-12-29T19:45:52.065Z"
   },
   {
    "duration": 7,
    "start_time": "2023-12-29T19:49:21.396Z"
   },
   {
    "duration": 9,
    "start_time": "2023-12-29T19:49:31.618Z"
   },
   {
    "duration": 10,
    "start_time": "2023-12-29T19:50:29.295Z"
   },
   {
    "duration": 4,
    "start_time": "2023-12-29T19:51:54.223Z"
   },
   {
    "duration": 4,
    "start_time": "2023-12-29T19:52:05.050Z"
   },
   {
    "duration": 4,
    "start_time": "2023-12-29T19:55:24.286Z"
   },
   {
    "duration": 4,
    "start_time": "2023-12-29T19:55:32.690Z"
   },
   {
    "duration": 13,
    "start_time": "2023-12-29T19:55:35.361Z"
   },
   {
    "duration": 9,
    "start_time": "2023-12-29T20:00:57.381Z"
   },
   {
    "duration": 6,
    "start_time": "2023-12-29T20:01:02.841Z"
   },
   {
    "duration": 3290,
    "start_time": "2023-12-29T20:01:04.333Z"
   },
   {
    "duration": 332,
    "start_time": "2023-12-29T20:01:07.625Z"
   },
   {
    "duration": 14,
    "start_time": "2023-12-29T20:01:33.849Z"
   },
   {
    "duration": 8,
    "start_time": "2023-12-29T20:02:08.182Z"
   },
   {
    "duration": 4,
    "start_time": "2023-12-29T20:02:25.466Z"
   },
   {
    "duration": 8,
    "start_time": "2023-12-29T20:02:27.667Z"
   },
   {
    "duration": 4,
    "start_time": "2023-12-29T20:02:39.081Z"
   },
   {
    "duration": 2932,
    "start_time": "2023-12-29T20:02:39.980Z"
   },
   {
    "duration": 9,
    "start_time": "2023-12-29T20:02:42.914Z"
   },
   {
    "duration": 486,
    "start_time": "2023-12-29T20:04:30.232Z"
   },
   {
    "duration": 8,
    "start_time": "2023-12-29T20:04:31.634Z"
   },
   {
    "duration": 1273,
    "start_time": "2023-12-30T19:40:24.644Z"
   },
   {
    "duration": 198,
    "start_time": "2023-12-30T19:40:25.919Z"
   },
   {
    "duration": 163,
    "start_time": "2023-12-30T19:40:26.118Z"
   },
   {
    "duration": 168,
    "start_time": "2023-12-30T19:40:26.288Z"
   },
   {
    "duration": 60,
    "start_time": "2023-12-30T19:40:26.458Z"
   },
   {
    "duration": 90,
    "start_time": "2023-12-30T19:40:26.520Z"
   },
   {
    "duration": 15,
    "start_time": "2023-12-30T19:40:26.612Z"
   },
   {
    "duration": 901,
    "start_time": "2023-12-30T19:40:26.629Z"
   },
   {
    "duration": 976,
    "start_time": "2023-12-30T19:40:27.532Z"
   },
   {
    "duration": 362,
    "start_time": "2023-12-30T19:40:28.510Z"
   },
   {
    "duration": 29,
    "start_time": "2023-12-30T19:40:28.874Z"
   },
   {
    "duration": 6,
    "start_time": "2023-12-30T19:40:28.905Z"
   },
   {
    "duration": 1301,
    "start_time": "2023-12-30T19:40:28.914Z"
   },
   {
    "duration": 24,
    "start_time": "2023-12-30T19:40:30.218Z"
   },
   {
    "duration": 867,
    "start_time": "2023-12-30T19:40:30.243Z"
   },
   {
    "duration": 8,
    "start_time": "2023-12-30T19:40:31.112Z"
   },
   {
    "duration": 94,
    "start_time": "2023-12-30T19:40:31.121Z"
   },
   {
    "duration": 47,
    "start_time": "2023-12-30T19:40:31.216Z"
   },
   {
    "duration": 67,
    "start_time": "2023-12-30T19:40:31.265Z"
   },
   {
    "duration": 47,
    "start_time": "2023-12-30T19:40:31.333Z"
   },
   {
    "duration": 48,
    "start_time": "2023-12-30T19:40:31.381Z"
   },
   {
    "duration": 15,
    "start_time": "2023-12-30T19:40:31.431Z"
   },
   {
    "duration": 72,
    "start_time": "2023-12-30T19:40:31.448Z"
   },
   {
    "duration": 266,
    "start_time": "2023-12-30T19:40:31.521Z"
   },
   {
    "duration": 125,
    "start_time": "2023-12-30T19:40:31.791Z"
   },
   {
    "duration": 992,
    "start_time": "2023-12-30T19:40:31.918Z"
   },
   {
    "duration": 986,
    "start_time": "2023-12-30T19:40:32.916Z"
   },
   {
    "duration": 898,
    "start_time": "2023-12-30T19:40:33.905Z"
   },
   {
    "duration": 85,
    "start_time": "2023-12-30T19:40:34.810Z"
   },
   {
    "duration": 95,
    "start_time": "2023-12-30T19:40:34.897Z"
   },
   {
    "duration": 8,
    "start_time": "2023-12-30T19:40:34.993Z"
   },
   {
    "duration": 4,
    "start_time": "2023-12-30T19:40:35.003Z"
   },
   {
    "duration": 5,
    "start_time": "2023-12-30T19:40:35.009Z"
   },
   {
    "duration": 3,
    "start_time": "2023-12-30T19:40:35.016Z"
   },
   {
    "duration": 19,
    "start_time": "2023-12-30T19:40:35.021Z"
   },
   {
    "duration": 2972,
    "start_time": "2023-12-30T19:40:35.042Z"
   },
   {
    "duration": 6,
    "start_time": "2023-12-30T19:40:38.016Z"
   },
   {
    "duration": 40,
    "start_time": "2023-12-30T19:40:38.024Z"
   },
   {
    "duration": 576,
    "start_time": "2023-12-30T19:40:38.066Z"
   },
   {
    "duration": 9,
    "start_time": "2023-12-30T19:40:38.644Z"
   },
   {
    "duration": 1739,
    "start_time": "2024-01-06T08:42:09.648Z"
   },
   {
    "duration": 413,
    "start_time": "2024-01-06T08:42:11.389Z"
   },
   {
    "duration": 230,
    "start_time": "2024-01-06T08:42:11.804Z"
   },
   {
    "duration": 231,
    "start_time": "2024-01-06T08:42:12.036Z"
   },
   {
    "duration": 26,
    "start_time": "2024-01-06T08:42:12.270Z"
   },
   {
    "duration": 59,
    "start_time": "2024-01-06T08:42:12.298Z"
   },
   {
    "duration": 91,
    "start_time": "2024-01-06T08:42:12.358Z"
   },
   {
    "duration": 16,
    "start_time": "2024-01-06T08:42:12.450Z"
   },
   {
    "duration": 924,
    "start_time": "2024-01-06T08:42:12.468Z"
   },
   {
    "duration": 971,
    "start_time": "2024-01-06T08:42:13.394Z"
   },
   {
    "duration": 363,
    "start_time": "2024-01-06T08:42:14.367Z"
   },
   {
    "duration": 14,
    "start_time": "2024-01-06T08:42:14.732Z"
   },
   {
    "duration": 4,
    "start_time": "2024-01-06T08:42:14.748Z"
   },
   {
    "duration": 1383,
    "start_time": "2024-01-06T08:42:14.755Z"
   },
   {
    "duration": 24,
    "start_time": "2024-01-06T08:42:16.140Z"
   },
   {
    "duration": 870,
    "start_time": "2024-01-06T08:42:16.166Z"
   },
   {
    "duration": 7,
    "start_time": "2024-01-06T08:42:17.038Z"
   },
   {
    "duration": 25,
    "start_time": "2024-01-06T08:42:17.047Z"
   },
   {
    "duration": 19,
    "start_time": "2024-01-06T08:42:17.073Z"
   },
   {
    "duration": 45,
    "start_time": "2024-01-06T08:42:17.094Z"
   },
   {
    "duration": 18,
    "start_time": "2024-01-06T08:42:17.140Z"
   },
   {
    "duration": 30,
    "start_time": "2024-01-06T08:42:17.160Z"
   },
   {
    "duration": 11,
    "start_time": "2024-01-06T08:42:17.192Z"
   },
   {
    "duration": 125,
    "start_time": "2024-01-06T08:42:17.204Z"
   },
   {
    "duration": 191,
    "start_time": "2024-01-06T08:42:17.331Z"
   },
   {
    "duration": 107,
    "start_time": "2024-01-06T08:42:17.528Z"
   },
   {
    "duration": 699,
    "start_time": "2024-01-06T08:42:17.723Z"
   },
   {
    "duration": 912,
    "start_time": "2024-01-06T08:42:18.425Z"
   },
   {
    "duration": 783,
    "start_time": "2024-01-06T08:42:19.340Z"
   },
   {
    "duration": 99,
    "start_time": "2024-01-06T08:42:20.125Z"
   },
   {
    "duration": 32,
    "start_time": "2024-01-06T08:42:20.225Z"
   },
   {
    "duration": 41,
    "start_time": "2024-01-06T08:42:20.258Z"
   },
   {
    "duration": 8,
    "start_time": "2024-01-06T08:42:20.301Z"
   },
   {
    "duration": 10,
    "start_time": "2024-01-06T08:42:20.310Z"
   },
   {
    "duration": 4,
    "start_time": "2024-01-06T08:42:20.322Z"
   },
   {
    "duration": 8,
    "start_time": "2024-01-06T08:42:20.327Z"
   },
   {
    "duration": 130,
    "start_time": "2024-01-06T08:42:20.337Z"
   },
   {
    "duration": 0,
    "start_time": "2024-01-06T08:42:20.469Z"
   },
   {
    "duration": 0,
    "start_time": "2024-01-06T08:42:20.470Z"
   },
   {
    "duration": 0,
    "start_time": "2024-01-06T08:42:20.471Z"
   },
   {
    "duration": 0,
    "start_time": "2024-01-06T08:42:20.472Z"
   },
   {
    "duration": 1284,
    "start_time": "2024-01-06T08:45:03.322Z"
   },
   {
    "duration": 1418,
    "start_time": "2024-01-06T08:45:14.179Z"
   },
   {
    "duration": 175,
    "start_time": "2024-01-06T08:45:15.599Z"
   },
   {
    "duration": 151,
    "start_time": "2024-01-06T08:45:15.776Z"
   },
   {
    "duration": 163,
    "start_time": "2024-01-06T08:45:15.928Z"
   },
   {
    "duration": 40,
    "start_time": "2024-01-06T08:45:16.093Z"
   },
   {
    "duration": 52,
    "start_time": "2024-01-06T08:45:16.136Z"
   },
   {
    "duration": 106,
    "start_time": "2024-01-06T08:45:16.189Z"
   },
   {
    "duration": 16,
    "start_time": "2024-01-06T08:45:16.297Z"
   },
   {
    "duration": 911,
    "start_time": "2024-01-06T08:45:16.315Z"
   },
   {
    "duration": 962,
    "start_time": "2024-01-06T08:45:17.228Z"
   },
   {
    "duration": 361,
    "start_time": "2024-01-06T08:45:18.192Z"
   },
   {
    "duration": 14,
    "start_time": "2024-01-06T08:45:18.554Z"
   },
   {
    "duration": 5,
    "start_time": "2024-01-06T08:45:18.570Z"
   },
   {
    "duration": 1415,
    "start_time": "2024-01-06T08:45:18.579Z"
   },
   {
    "duration": 29,
    "start_time": "2024-01-06T08:45:19.996Z"
   },
   {
    "duration": 864,
    "start_time": "2024-01-06T08:45:20.026Z"
   },
   {
    "duration": 9,
    "start_time": "2024-01-06T08:45:20.892Z"
   },
   {
    "duration": 35,
    "start_time": "2024-01-06T08:45:20.902Z"
   },
   {
    "duration": 17,
    "start_time": "2024-01-06T08:45:20.939Z"
   },
   {
    "duration": 18,
    "start_time": "2024-01-06T08:45:20.957Z"
   },
   {
    "duration": 47,
    "start_time": "2024-01-06T08:45:20.977Z"
   },
   {
    "duration": 22,
    "start_time": "2024-01-06T08:45:21.026Z"
   },
   {
    "duration": 14,
    "start_time": "2024-01-06T08:45:21.050Z"
   },
   {
    "duration": 64,
    "start_time": "2024-01-06T08:45:21.067Z"
   },
   {
    "duration": 108,
    "start_time": "2024-01-06T08:45:21.133Z"
   },
   {
    "duration": 105,
    "start_time": "2024-01-06T08:45:21.322Z"
   },
   {
    "duration": 701,
    "start_time": "2024-01-06T08:45:21.430Z"
   },
   {
    "duration": 906,
    "start_time": "2024-01-06T08:45:22.227Z"
   },
   {
    "duration": 695,
    "start_time": "2024-01-06T08:45:23.135Z"
   },
   {
    "duration": 97,
    "start_time": "2024-01-06T08:45:23.832Z"
   },
   {
    "duration": 94,
    "start_time": "2024-01-06T08:45:23.932Z"
   },
   {
    "duration": 7,
    "start_time": "2024-01-06T08:45:24.028Z"
   },
   {
    "duration": 3,
    "start_time": "2024-01-06T08:45:24.036Z"
   },
   {
    "duration": 8,
    "start_time": "2024-01-06T08:45:24.041Z"
   },
   {
    "duration": 12,
    "start_time": "2024-01-06T08:45:24.051Z"
   },
   {
    "duration": 5,
    "start_time": "2024-01-06T08:45:24.064Z"
   },
   {
    "duration": 155,
    "start_time": "2024-01-06T08:45:24.070Z"
   },
   {
    "duration": 0,
    "start_time": "2024-01-06T08:45:24.227Z"
   },
   {
    "duration": 0,
    "start_time": "2024-01-06T08:45:24.229Z"
   },
   {
    "duration": 0,
    "start_time": "2024-01-06T08:45:24.230Z"
   },
   {
    "duration": 0,
    "start_time": "2024-01-06T08:45:24.231Z"
   },
   {
    "duration": 1656,
    "start_time": "2024-01-06T08:49:06.208Z"
   },
   {
    "duration": 172,
    "start_time": "2024-01-06T08:49:07.866Z"
   },
   {
    "duration": 155,
    "start_time": "2024-01-06T08:49:08.040Z"
   },
   {
    "duration": 161,
    "start_time": "2024-01-06T08:49:08.196Z"
   },
   {
    "duration": 25,
    "start_time": "2024-01-06T08:49:08.359Z"
   },
   {
    "duration": 68,
    "start_time": "2024-01-06T08:49:08.386Z"
   },
   {
    "duration": 91,
    "start_time": "2024-01-06T08:49:08.456Z"
   },
   {
    "duration": 15,
    "start_time": "2024-01-06T08:49:08.549Z"
   },
   {
    "duration": 903,
    "start_time": "2024-01-06T08:49:08.565Z"
   },
   {
    "duration": 939,
    "start_time": "2024-01-06T08:49:09.470Z"
   },
   {
    "duration": 371,
    "start_time": "2024-01-06T08:49:10.411Z"
   },
   {
    "duration": 13,
    "start_time": "2024-01-06T08:49:10.784Z"
   },
   {
    "duration": 5,
    "start_time": "2024-01-06T08:49:10.798Z"
   },
   {
    "duration": 2,
    "start_time": "2024-01-06T08:49:10.822Z"
   },
   {
    "duration": 4,
    "start_time": "2024-01-06T08:49:10.826Z"
   },
   {
    "duration": 885,
    "start_time": "2024-01-06T08:49:10.831Z"
   },
   {
    "duration": 8,
    "start_time": "2024-01-06T08:49:11.723Z"
   },
   {
    "duration": 20,
    "start_time": "2024-01-06T08:49:11.733Z"
   },
   {
    "duration": 17,
    "start_time": "2024-01-06T08:49:11.754Z"
   },
   {
    "duration": 18,
    "start_time": "2024-01-06T08:49:11.773Z"
   },
   {
    "duration": 14,
    "start_time": "2024-01-06T08:49:11.821Z"
   },
   {
    "duration": 12,
    "start_time": "2024-01-06T08:49:11.836Z"
   },
   {
    "duration": 13,
    "start_time": "2024-01-06T08:49:11.850Z"
   },
   {
    "duration": 61,
    "start_time": "2024-01-06T08:49:11.865Z"
   },
   {
    "duration": 108,
    "start_time": "2024-01-06T08:49:11.927Z"
   },
   {
    "duration": 195,
    "start_time": "2024-01-06T08:49:12.037Z"
   },
   {
    "duration": 801,
    "start_time": "2024-01-06T08:49:12.330Z"
   },
   {
    "duration": 808,
    "start_time": "2024-01-06T08:49:13.223Z"
   },
   {
    "duration": 891,
    "start_time": "2024-01-06T08:49:14.035Z"
   },
   {
    "duration": 102,
    "start_time": "2024-01-06T08:49:14.934Z"
   },
   {
    "duration": 47,
    "start_time": "2024-01-06T08:49:15.037Z"
   },
   {
    "duration": 37,
    "start_time": "2024-01-06T08:49:15.085Z"
   },
   {
    "duration": 14,
    "start_time": "2024-01-06T08:49:15.123Z"
   },
   {
    "duration": 19,
    "start_time": "2024-01-06T08:49:15.139Z"
   },
   {
    "duration": 6,
    "start_time": "2024-01-06T08:49:15.159Z"
   },
   {
    "duration": 30,
    "start_time": "2024-01-06T08:49:15.167Z"
   },
   {
    "duration": 148,
    "start_time": "2024-01-06T08:49:15.199Z"
   },
   {
    "duration": 0,
    "start_time": "2024-01-06T08:49:15.349Z"
   },
   {
    "duration": 0,
    "start_time": "2024-01-06T08:49:15.350Z"
   },
   {
    "duration": 0,
    "start_time": "2024-01-06T08:49:15.351Z"
   },
   {
    "duration": 0,
    "start_time": "2024-01-06T08:49:15.352Z"
   },
   {
    "duration": 1536,
    "start_time": "2024-01-06T09:25:49.716Z"
   },
   {
    "duration": 196,
    "start_time": "2024-01-06T09:25:51.254Z"
   },
   {
    "duration": 169,
    "start_time": "2024-01-06T09:25:51.451Z"
   },
   {
    "duration": 159,
    "start_time": "2024-01-06T09:25:51.622Z"
   },
   {
    "duration": 25,
    "start_time": "2024-01-06T09:25:51.783Z"
   },
   {
    "duration": 59,
    "start_time": "2024-01-06T09:25:51.810Z"
   },
   {
    "duration": 92,
    "start_time": "2024-01-06T09:25:51.871Z"
   },
   {
    "duration": 17,
    "start_time": "2024-01-06T09:25:51.965Z"
   },
   {
    "duration": 883,
    "start_time": "2024-01-06T09:25:51.983Z"
   },
   {
    "duration": 920,
    "start_time": "2024-01-06T09:25:52.869Z"
   },
   {
    "duration": 360,
    "start_time": "2024-01-06T09:25:53.790Z"
   },
   {
    "duration": 13,
    "start_time": "2024-01-06T09:25:54.152Z"
   },
   {
    "duration": 6,
    "start_time": "2024-01-06T09:25:54.166Z"
   },
   {
    "duration": 3,
    "start_time": "2024-01-06T09:25:54.173Z"
   },
   {
    "duration": 4,
    "start_time": "2024-01-06T09:25:54.178Z"
   },
   {
    "duration": 878,
    "start_time": "2024-01-06T09:25:54.183Z"
   },
   {
    "duration": 9,
    "start_time": "2024-01-06T09:25:55.063Z"
   },
   {
    "duration": 27,
    "start_time": "2024-01-06T09:25:55.073Z"
   },
   {
    "duration": 39,
    "start_time": "2024-01-06T09:25:55.102Z"
   },
   {
    "duration": 21,
    "start_time": "2024-01-06T09:25:55.142Z"
   },
   {
    "duration": 13,
    "start_time": "2024-01-06T09:25:55.166Z"
   },
   {
    "duration": 48,
    "start_time": "2024-01-06T09:25:55.181Z"
   },
   {
    "duration": 14,
    "start_time": "2024-01-06T09:25:55.231Z"
   },
   {
    "duration": 79,
    "start_time": "2024-01-06T09:25:55.247Z"
   },
   {
    "duration": 104,
    "start_time": "2024-01-06T09:25:55.328Z"
   },
   {
    "duration": 94,
    "start_time": "2024-01-06T09:25:55.435Z"
   },
   {
    "duration": 892,
    "start_time": "2024-01-06T09:25:55.531Z"
   },
   {
    "duration": 802,
    "start_time": "2024-01-06T09:25:56.428Z"
   },
   {
    "duration": 895,
    "start_time": "2024-01-06T09:25:57.232Z"
   },
   {
    "duration": 101,
    "start_time": "2024-01-06T09:25:58.129Z"
   },
   {
    "duration": 91,
    "start_time": "2024-01-06T09:25:58.235Z"
   },
   {
    "duration": 6,
    "start_time": "2024-01-06T09:25:58.328Z"
   },
   {
    "duration": 35,
    "start_time": "2024-01-06T09:25:58.335Z"
   },
   {
    "duration": 55,
    "start_time": "2024-01-06T09:25:58.371Z"
   },
   {
    "duration": 19,
    "start_time": "2024-01-06T09:25:58.427Z"
   },
   {
    "duration": 59,
    "start_time": "2024-01-06T09:25:58.447Z"
   },
   {
    "duration": 184,
    "start_time": "2024-01-06T09:25:58.507Z"
   },
   {
    "duration": 0,
    "start_time": "2024-01-06T09:25:58.693Z"
   },
   {
    "duration": 0,
    "start_time": "2024-01-06T09:25:58.694Z"
   },
   {
    "duration": 0,
    "start_time": "2024-01-06T09:25:58.695Z"
   },
   {
    "duration": 0,
    "start_time": "2024-01-06T09:25:58.697Z"
   },
   {
    "duration": 12,
    "start_time": "2024-01-06T09:27:06.010Z"
   },
   {
    "duration": 82,
    "start_time": "2024-01-06T09:43:52.784Z"
   },
   {
    "duration": 6,
    "start_time": "2024-01-06T09:44:19.768Z"
   },
   {
    "duration": 33,
    "start_time": "2024-01-06T09:44:48.453Z"
   },
   {
    "duration": 6,
    "start_time": "2024-01-06T09:45:06.907Z"
   },
   {
    "duration": 59,
    "start_time": "2024-01-06T09:45:08.866Z"
   },
   {
    "duration": 5,
    "start_time": "2024-01-06T09:45:21.248Z"
   },
   {
    "duration": 37,
    "start_time": "2024-01-06T09:45:22.801Z"
   },
   {
    "duration": 18,
    "start_time": "2024-01-06T09:47:53.727Z"
   },
   {
    "duration": 38,
    "start_time": "2024-01-06T09:48:44.734Z"
   },
   {
    "duration": 36,
    "start_time": "2024-01-06T09:48:46.376Z"
   },
   {
    "duration": 4,
    "start_time": "2024-01-06T09:50:58.473Z"
   },
   {
    "duration": 4,
    "start_time": "2024-01-06T09:51:00.629Z"
   },
   {
    "duration": 2851,
    "start_time": "2024-01-06T09:51:01.547Z"
   },
   {
    "duration": 7,
    "start_time": "2024-01-06T09:51:04.661Z"
   },
   {
    "duration": 1457,
    "start_time": "2024-01-06T09:51:14.258Z"
   },
   {
    "duration": 183,
    "start_time": "2024-01-06T09:51:15.717Z"
   },
   {
    "duration": 157,
    "start_time": "2024-01-06T09:51:15.902Z"
   },
   {
    "duration": 164,
    "start_time": "2024-01-06T09:51:16.060Z"
   },
   {
    "duration": 24,
    "start_time": "2024-01-06T09:51:16.226Z"
   },
   {
    "duration": 50,
    "start_time": "2024-01-06T09:51:16.252Z"
   },
   {
    "duration": 77,
    "start_time": "2024-01-06T09:51:16.323Z"
   },
   {
    "duration": 29,
    "start_time": "2024-01-06T09:51:16.402Z"
   },
   {
    "duration": 899,
    "start_time": "2024-01-06T09:51:16.433Z"
   },
   {
    "duration": 914,
    "start_time": "2024-01-06T09:51:17.334Z"
   },
   {
    "duration": 354,
    "start_time": "2024-01-06T09:51:18.250Z"
   },
   {
    "duration": 23,
    "start_time": "2024-01-06T09:51:18.606Z"
   },
   {
    "duration": 4,
    "start_time": "2024-01-06T09:51:18.631Z"
   },
   {
    "duration": 13,
    "start_time": "2024-01-06T09:51:18.638Z"
   },
   {
    "duration": 10,
    "start_time": "2024-01-06T09:51:18.653Z"
   },
   {
    "duration": 874,
    "start_time": "2024-01-06T09:51:18.665Z"
   },
   {
    "duration": 8,
    "start_time": "2024-01-06T09:51:19.541Z"
   },
   {
    "duration": 30,
    "start_time": "2024-01-06T09:51:19.552Z"
   },
   {
    "duration": 25,
    "start_time": "2024-01-06T09:51:19.584Z"
   },
   {
    "duration": 20,
    "start_time": "2024-01-06T09:51:19.623Z"
   },
   {
    "duration": 14,
    "start_time": "2024-01-06T09:51:19.645Z"
   },
   {
    "duration": 14,
    "start_time": "2024-01-06T09:51:19.661Z"
   },
   {
    "duration": 53,
    "start_time": "2024-01-06T09:51:19.677Z"
   },
   {
    "duration": 93,
    "start_time": "2024-01-06T09:51:19.732Z"
   },
   {
    "duration": 107,
    "start_time": "2024-01-06T09:51:19.827Z"
   },
   {
    "duration": 92,
    "start_time": "2024-01-06T09:51:19.937Z"
   },
   {
    "duration": 901,
    "start_time": "2024-01-06T09:51:20.032Z"
   },
   {
    "duration": 794,
    "start_time": "2024-01-06T09:51:20.937Z"
   },
   {
    "duration": 803,
    "start_time": "2024-01-06T09:51:21.733Z"
   },
   {
    "duration": 95,
    "start_time": "2024-01-06T09:51:22.538Z"
   },
   {
    "duration": 21,
    "start_time": "2024-01-06T09:51:22.723Z"
   },
   {
    "duration": 45,
    "start_time": "2024-01-06T09:51:22.746Z"
   },
   {
    "duration": 15,
    "start_time": "2024-01-06T09:51:22.793Z"
   },
   {
    "duration": 44,
    "start_time": "2024-01-06T09:51:22.810Z"
   },
   {
    "duration": 194,
    "start_time": "2024-01-06T09:51:22.858Z"
   },
   {
    "duration": 267,
    "start_time": "2024-01-06T09:51:23.054Z"
   },
   {
    "duration": 4,
    "start_time": "2024-01-06T09:51:23.326Z"
   },
   {
    "duration": 95,
    "start_time": "2024-01-06T09:51:23.332Z"
   },
   {
    "duration": 4,
    "start_time": "2024-01-06T09:51:23.429Z"
   },
   {
    "duration": 12,
    "start_time": "2024-01-06T09:51:23.435Z"
   },
   {
    "duration": 2884,
    "start_time": "2024-01-06T09:51:23.451Z"
   },
   {
    "duration": 7,
    "start_time": "2024-01-06T09:51:26.337Z"
   },
   {
    "duration": 20,
    "start_time": "2024-01-06T09:51:26.346Z"
   },
   {
    "duration": 541,
    "start_time": "2024-01-06T09:51:26.367Z"
   },
   {
    "duration": 15,
    "start_time": "2024-01-06T09:51:26.909Z"
   },
   {
    "duration": 4,
    "start_time": "2024-01-06T10:21:29.745Z"
   },
   {
    "duration": 1109,
    "start_time": "2024-01-06T10:21:41.878Z"
   },
   {
    "duration": 1147,
    "start_time": "2024-01-06T10:22:42.350Z"
   },
   {
    "duration": 1145,
    "start_time": "2024-01-06T10:22:48.798Z"
   },
   {
    "duration": 4,
    "start_time": "2024-01-06T10:22:59.234Z"
   },
   {
    "duration": 1162,
    "start_time": "2024-01-06T10:23:02.095Z"
   },
   {
    "duration": 1160,
    "start_time": "2024-01-06T10:23:03.314Z"
   }
  ],
  "kernelspec": {
   "display_name": "Python 3 (ipykernel)",
   "language": "python",
   "name": "python3"
  },
  "language_info": {
   "codemirror_mode": {
    "name": "ipython",
    "version": 3
   },
   "file_extension": ".py",
   "mimetype": "text/x-python",
   "name": "python",
   "nbconvert_exporter": "python",
   "pygments_lexer": "ipython3",
   "version": "3.9.18"
  },
  "toc": {
   "base_numbering": 1,
   "nav_menu": {
    "height": "258px",
    "width": "347px"
   },
   "number_sections": true,
   "sideBar": true,
   "skip_h1_title": true,
   "title_cell": "Table of Contents",
   "title_sidebar": "Contents",
   "toc_cell": false,
   "toc_position": {},
   "toc_section_display": true,
   "toc_window_display": false
  }
 },
 "nbformat": 4,
 "nbformat_minor": 2
}
