{
 "cells": [
  {
   "cell_type": "markdown",
   "metadata": {},
   "source": [
    "# Проект \"Рекомендация тарифов для клиентов компании Мегалайн\""
   ]
  },
  {
   "cell_type": "markdown",
   "metadata": {},
   "source": [
    "Оператор мобильной связи «Мегалайн» выяснил: многие клиенты пользуются архивными тарифами. Они хотят построить систему, способную проанализировать поведение клиентов и предложить пользователям новый тариф: «Смарт» или «Ультра».\n",
    "\n",
    "В нашем распоряжении данные о поведении клиентов, которые уже перешли на эти тарифы. Нужно построить модель для задачи классификации, которая выберет подходящий тариф. Предобработка данных не понадобится — вы её уже сделали.\n",
    "\n",
    "В проекте необходимо:\n",
    "- Осмотреть имеющиеся данные. Внести корректироки (если необходимо).\n",
    "- Разделить исходные данные на обучающую, валидационную и тестовую выборки.\n",
    "- Исследовать качество разных моделей, меняя гиперпараметры. \n",
    "- Построить модель с максимально большим значением *accuracy* (не менее 0.75). \n",
    "- Проверить *accuracy* на тестовой выборке.\n",
    "- Сделать общий вывод."
   ]
  },
  {
   "cell_type": "markdown",
   "metadata": {},
   "source": [
    "## Загрузка и обзор данных"
   ]
  },
  {
   "cell_type": "code",
   "execution_count": 1,
   "metadata": {},
   "outputs": [],
   "source": [
    "# импортируем нужные библиотеки\n",
    "import pandas as pd\n",
    "from sklearn.tree import DecisionTreeClassifier\n",
    "from sklearn.ensemble import RandomForestClassifier\n",
    "from sklearn.linear_model import LogisticRegression\n",
    "from sklearn.model_selection import train_test_split\n",
    "from sklearn.metrics import mean_squared_error\n",
    "from sklearn.metrics import accuracy_score\n",
    "from tqdm import tqdm"
   ]
  },
  {
   "cell_type": "code",
   "execution_count": 2,
   "metadata": {
    "scrolled": false
   },
   "outputs": [
    {
     "name": "stdout",
     "output_type": "stream",
     "text": [
      "<class 'pandas.core.frame.DataFrame'>\n",
      "RangeIndex: 3214 entries, 0 to 3213\n",
      "Data columns (total 5 columns):\n",
      " #   Column    Non-Null Count  Dtype  \n",
      "---  ------    --------------  -----  \n",
      " 0   calls     3214 non-null   float64\n",
      " 1   minutes   3214 non-null   float64\n",
      " 2   messages  3214 non-null   float64\n",
      " 3   mb_used   3214 non-null   float64\n",
      " 4   is_ultra  3214 non-null   int64  \n",
      "dtypes: float64(4), int64(1)\n",
      "memory usage: 125.7 KB\n"
     ]
    },
    {
     "data": {
      "text/html": [
       "<div>\n",
       "<style scoped>\n",
       "    .dataframe tbody tr th:only-of-type {\n",
       "        vertical-align: middle;\n",
       "    }\n",
       "\n",
       "    .dataframe tbody tr th {\n",
       "        vertical-align: top;\n",
       "    }\n",
       "\n",
       "    .dataframe thead th {\n",
       "        text-align: right;\n",
       "    }\n",
       "</style>\n",
       "<table border=\"1\" class=\"dataframe\">\n",
       "  <thead>\n",
       "    <tr style=\"text-align: right;\">\n",
       "      <th></th>\n",
       "      <th>calls</th>\n",
       "      <th>minutes</th>\n",
       "      <th>messages</th>\n",
       "      <th>mb_used</th>\n",
       "      <th>is_ultra</th>\n",
       "    </tr>\n",
       "  </thead>\n",
       "  <tbody>\n",
       "    <tr>\n",
       "      <th>0</th>\n",
       "      <td>40.0</td>\n",
       "      <td>311.90</td>\n",
       "      <td>83.0</td>\n",
       "      <td>19915.42</td>\n",
       "      <td>0</td>\n",
       "    </tr>\n",
       "    <tr>\n",
       "      <th>1</th>\n",
       "      <td>85.0</td>\n",
       "      <td>516.75</td>\n",
       "      <td>56.0</td>\n",
       "      <td>22696.96</td>\n",
       "      <td>0</td>\n",
       "    </tr>\n",
       "    <tr>\n",
       "      <th>2</th>\n",
       "      <td>77.0</td>\n",
       "      <td>467.66</td>\n",
       "      <td>86.0</td>\n",
       "      <td>21060.45</td>\n",
       "      <td>0</td>\n",
       "    </tr>\n",
       "    <tr>\n",
       "      <th>3</th>\n",
       "      <td>106.0</td>\n",
       "      <td>745.53</td>\n",
       "      <td>81.0</td>\n",
       "      <td>8437.39</td>\n",
       "      <td>1</td>\n",
       "    </tr>\n",
       "    <tr>\n",
       "      <th>4</th>\n",
       "      <td>66.0</td>\n",
       "      <td>418.74</td>\n",
       "      <td>1.0</td>\n",
       "      <td>14502.75</td>\n",
       "      <td>0</td>\n",
       "    </tr>\n",
       "    <tr>\n",
       "      <th>...</th>\n",
       "      <td>...</td>\n",
       "      <td>...</td>\n",
       "      <td>...</td>\n",
       "      <td>...</td>\n",
       "      <td>...</td>\n",
       "    </tr>\n",
       "    <tr>\n",
       "      <th>3209</th>\n",
       "      <td>122.0</td>\n",
       "      <td>910.98</td>\n",
       "      <td>20.0</td>\n",
       "      <td>35124.90</td>\n",
       "      <td>1</td>\n",
       "    </tr>\n",
       "    <tr>\n",
       "      <th>3210</th>\n",
       "      <td>25.0</td>\n",
       "      <td>190.36</td>\n",
       "      <td>0.0</td>\n",
       "      <td>3275.61</td>\n",
       "      <td>0</td>\n",
       "    </tr>\n",
       "    <tr>\n",
       "      <th>3211</th>\n",
       "      <td>97.0</td>\n",
       "      <td>634.44</td>\n",
       "      <td>70.0</td>\n",
       "      <td>13974.06</td>\n",
       "      <td>0</td>\n",
       "    </tr>\n",
       "    <tr>\n",
       "      <th>3212</th>\n",
       "      <td>64.0</td>\n",
       "      <td>462.32</td>\n",
       "      <td>90.0</td>\n",
       "      <td>31239.78</td>\n",
       "      <td>0</td>\n",
       "    </tr>\n",
       "    <tr>\n",
       "      <th>3213</th>\n",
       "      <td>80.0</td>\n",
       "      <td>566.09</td>\n",
       "      <td>6.0</td>\n",
       "      <td>29480.52</td>\n",
       "      <td>1</td>\n",
       "    </tr>\n",
       "  </tbody>\n",
       "</table>\n",
       "<p>3214 rows × 5 columns</p>\n",
       "</div>"
      ],
      "text/plain": [
       "      calls  minutes  messages   mb_used  is_ultra\n",
       "0      40.0   311.90      83.0  19915.42         0\n",
       "1      85.0   516.75      56.0  22696.96         0\n",
       "2      77.0   467.66      86.0  21060.45         0\n",
       "3     106.0   745.53      81.0   8437.39         1\n",
       "4      66.0   418.74       1.0  14502.75         0\n",
       "...     ...      ...       ...       ...       ...\n",
       "3209  122.0   910.98      20.0  35124.90         1\n",
       "3210   25.0   190.36       0.0   3275.61         0\n",
       "3211   97.0   634.44      70.0  13974.06         0\n",
       "3212   64.0   462.32      90.0  31239.78         0\n",
       "3213   80.0   566.09       6.0  29480.52         1\n",
       "\n",
       "[3214 rows x 5 columns]"
      ]
     },
     "execution_count": 2,
     "metadata": {},
     "output_type": "execute_result"
    }
   ],
   "source": [
    "# изучаем имеющиеся данные\n",
    "data = pd.read_csv('C:/Users/user/Yandex Projects/users_behavior.csv')\n",
    "data.info()\n",
    "data"
   ]
  },
  {
   "cell_type": "markdown",
   "metadata": {},
   "source": [
    "1. Мы имеем массив данных пользовтелей, которые уже находятся на тарифе Смарт или Ультра. За определение, какой из этих двух тарифов у пользователя отвечает столбец is_ultra, 1 - тариф \"Ультра\", 0 - тариф \"Смарт\". Это и есть наш целевой признак, по которому мы будем обучать модели.  \n",
    "2. В нашем датасете имеется 5 колонок и 3214 строк. Пропуски во всех столбцах отсутствуют.  \n",
    "3. Названия столбцов адекватны и используют snake_case. Корректировок не требуется.\n",
    "4. Скорректируем типы данных столбцов, где это применимо. Столбцы calls и messages не могут иметь дробных значений, а потом могут быть переведены в int. Остальные типы данных корректны."
   ]
  },
  {
   "cell_type": "code",
   "execution_count": 3,
   "metadata": {},
   "outputs": [
    {
     "name": "stdout",
     "output_type": "stream",
     "text": [
      "<class 'pandas.core.frame.DataFrame'>\n",
      "RangeIndex: 3214 entries, 0 to 3213\n",
      "Data columns (total 5 columns):\n",
      " #   Column    Non-Null Count  Dtype  \n",
      "---  ------    --------------  -----  \n",
      " 0   calls     3214 non-null   int32  \n",
      " 1   minutes   3214 non-null   float64\n",
      " 2   messages  3214 non-null   int32  \n",
      " 3   mb_used   3214 non-null   float64\n",
      " 4   is_ultra  3214 non-null   int64  \n",
      "dtypes: float64(2), int32(2), int64(1)\n",
      "memory usage: 100.6 KB\n"
     ]
    }
   ],
   "source": [
    "data[['calls', 'messages']] = data[['calls', 'messages']].astype(int)\n",
    "data.info()\n"
   ]
  },
  {
   "cell_type": "code",
   "execution_count": 4,
   "metadata": {
    "scrolled": false
   },
   "outputs": [
    {
     "data": {
      "text/html": [
       "<div>\n",
       "<style scoped>\n",
       "    .dataframe tbody tr th:only-of-type {\n",
       "        vertical-align: middle;\n",
       "    }\n",
       "\n",
       "    .dataframe tbody tr th {\n",
       "        vertical-align: top;\n",
       "    }\n",
       "\n",
       "    .dataframe thead th {\n",
       "        text-align: right;\n",
       "    }\n",
       "</style>\n",
       "<table border=\"1\" class=\"dataframe\">\n",
       "  <thead>\n",
       "    <tr style=\"text-align: right;\">\n",
       "      <th></th>\n",
       "      <th>calls</th>\n",
       "      <th>minutes</th>\n",
       "      <th>messages</th>\n",
       "      <th>mb_used</th>\n",
       "      <th>is_ultra</th>\n",
       "    </tr>\n",
       "  </thead>\n",
       "  <tbody>\n",
       "    <tr>\n",
       "      <th>0</th>\n",
       "      <td>40</td>\n",
       "      <td>311.90</td>\n",
       "      <td>83</td>\n",
       "      <td>19915.42</td>\n",
       "      <td>0</td>\n",
       "    </tr>\n",
       "    <tr>\n",
       "      <th>1</th>\n",
       "      <td>85</td>\n",
       "      <td>516.75</td>\n",
       "      <td>56</td>\n",
       "      <td>22696.96</td>\n",
       "      <td>0</td>\n",
       "    </tr>\n",
       "    <tr>\n",
       "      <th>2</th>\n",
       "      <td>77</td>\n",
       "      <td>467.66</td>\n",
       "      <td>86</td>\n",
       "      <td>21060.45</td>\n",
       "      <td>0</td>\n",
       "    </tr>\n",
       "    <tr>\n",
       "      <th>3</th>\n",
       "      <td>106</td>\n",
       "      <td>745.53</td>\n",
       "      <td>81</td>\n",
       "      <td>8437.39</td>\n",
       "      <td>1</td>\n",
       "    </tr>\n",
       "    <tr>\n",
       "      <th>4</th>\n",
       "      <td>66</td>\n",
       "      <td>418.74</td>\n",
       "      <td>1</td>\n",
       "      <td>14502.75</td>\n",
       "      <td>0</td>\n",
       "    </tr>\n",
       "    <tr>\n",
       "      <th>...</th>\n",
       "      <td>...</td>\n",
       "      <td>...</td>\n",
       "      <td>...</td>\n",
       "      <td>...</td>\n",
       "      <td>...</td>\n",
       "    </tr>\n",
       "    <tr>\n",
       "      <th>3209</th>\n",
       "      <td>122</td>\n",
       "      <td>910.98</td>\n",
       "      <td>20</td>\n",
       "      <td>35124.90</td>\n",
       "      <td>1</td>\n",
       "    </tr>\n",
       "    <tr>\n",
       "      <th>3210</th>\n",
       "      <td>25</td>\n",
       "      <td>190.36</td>\n",
       "      <td>0</td>\n",
       "      <td>3275.61</td>\n",
       "      <td>0</td>\n",
       "    </tr>\n",
       "    <tr>\n",
       "      <th>3211</th>\n",
       "      <td>97</td>\n",
       "      <td>634.44</td>\n",
       "      <td>70</td>\n",
       "      <td>13974.06</td>\n",
       "      <td>0</td>\n",
       "    </tr>\n",
       "    <tr>\n",
       "      <th>3212</th>\n",
       "      <td>64</td>\n",
       "      <td>462.32</td>\n",
       "      <td>90</td>\n",
       "      <td>31239.78</td>\n",
       "      <td>0</td>\n",
       "    </tr>\n",
       "    <tr>\n",
       "      <th>3213</th>\n",
       "      <td>80</td>\n",
       "      <td>566.09</td>\n",
       "      <td>6</td>\n",
       "      <td>29480.52</td>\n",
       "      <td>1</td>\n",
       "    </tr>\n",
       "  </tbody>\n",
       "</table>\n",
       "<p>3214 rows × 5 columns</p>\n",
       "</div>"
      ],
      "text/plain": [
       "      calls  minutes  messages   mb_used  is_ultra\n",
       "0        40   311.90        83  19915.42         0\n",
       "1        85   516.75        56  22696.96         0\n",
       "2        77   467.66        86  21060.45         0\n",
       "3       106   745.53        81   8437.39         1\n",
       "4        66   418.74         1  14502.75         0\n",
       "...     ...      ...       ...       ...       ...\n",
       "3209    122   910.98        20  35124.90         1\n",
       "3210     25   190.36         0   3275.61         0\n",
       "3211     97   634.44        70  13974.06         0\n",
       "3212     64   462.32        90  31239.78         0\n",
       "3213     80   566.09         6  29480.52         1\n",
       "\n",
       "[3214 rows x 5 columns]"
      ]
     },
     "execution_count": 4,
     "metadata": {},
     "output_type": "execute_result"
    }
   ],
   "source": [
    "data"
   ]
  },
  {
   "cell_type": "markdown",
   "metadata": {},
   "source": [
    "Данные уже были предобработаны ранее, поэтому этап подготовки данных завершен. Можно переходить к дальнейшим этапам."
   ]
  },
  {
   "cell_type": "markdown",
   "metadata": {},
   "source": [
    "## Разбивка данных на выборки"
   ]
  },
  {
   "cell_type": "markdown",
   "metadata": {},
   "source": [
    "На данном этапе нам необходимо разбить все имеющиеся данные на три группы - обучающую, валидационную и тестовую.  \n",
    "На первой будет обучаться наша модель, на второй мы будем валидимровать методики и подбирать гиперпараметры, а на третьей будем проверять валидированную модель.  \n",
    "\n",
    "Все данные будут разбиты в соотношении 3:1:1 для обучающей, валидационной и тестовой выборок соответственно.  \n"
   ]
  },
  {
   "cell_type": "code",
   "execution_count": 5,
   "metadata": {},
   "outputs": [],
   "source": [
    "# прежде чем разбивать на различные выборки, выделим отдельно признаки, на которых мы будем обучать модели и целевой признак\n",
    "features_data = data.drop('is_ultra', axis=1)\n",
    "target_data = data['is_ultra']\n"
   ]
  },
  {
   "cell_type": "code",
   "execution_count": 6,
   "metadata": {},
   "outputs": [],
   "source": [
    "# сначала разделим полученные датасеты на тестовый и не-тестовый\n",
    "features_data_not_test, features_data_test, target_data_not_test, target_data_test = train_test_split(\n",
    "    features_data,\n",
    "    target_data,\n",
    "    test_size=0.2,\n",
    "    random_state=12345\n",
    ")\n"
   ]
  },
  {
   "cell_type": "code",
   "execution_count": 7,
   "metadata": {},
   "outputs": [
    {
     "data": {
      "text/plain": [
       "1928"
      ]
     },
     "metadata": {},
     "output_type": "display_data"
    },
    {
     "data": {
      "text/plain": [
       "643"
      ]
     },
     "metadata": {},
     "output_type": "display_data"
    },
    {
     "data": {
      "text/plain": [
       "643"
      ]
     },
     "metadata": {},
     "output_type": "display_data"
    }
   ],
   "source": [
    "# тиеперь не-тестовые данные разделим на обучающие и валидационные \n",
    "# итоговая разбивка будет 3:1:1, как и запланировано\n",
    "\n",
    "features_data_train, features_data_valid, target_data_train, target_data_valid = train_test_split(\n",
    "    features_data_not_test,\n",
    "    target_data_not_test,\n",
    "    test_size=0.25,\n",
    "    random_state=12345\n",
    ")\n",
    "\n",
    "display(features_data_train['calls'].count())\n",
    "display(features_data_valid['calls'].count())\n",
    "display(features_data_test['calls'].count())"
   ]
  },
  {
   "cell_type": "markdown",
   "metadata": {},
   "source": [
    "Итак, мы разбили все наши данные на три части в соотношении 3:1:1.  \n",
    "\n",
    "На первой части мы будем обучать наши модели, на второй мы будем валидировать методики и подбирать гиперпараметры, а на третьей -  проверять валидированную модель.  "
   ]
  },
  {
   "cell_type": "markdown",
   "metadata": {},
   "source": [
    "## Исследование моделей"
   ]
  },
  {
   "cell_type": "markdown",
   "metadata": {},
   "source": [
    "На данном этапе нам необходимо изучить и сравнить между собой несколько видов моделей, а также подобрать оптимальные для каждый модели гиперпараметры.  \n",
    "\n",
    "Цель - получить модель, итоговая точность которой составляет не менее 75% верных предсказаний.\n",
    "\n",
    "Так как в данном проекте нам предстоит предсказывать категориальный признак (тарифы Смарт либо Ультра), будем использовать и сравнивать между собой три модели:\n",
    "- Дерево решений;\n",
    "- Случайный лес;\n",
    "- Логистическая регрессия.\n",
    "\n",
    "Начнём по порядку."
   ]
  },
  {
   "cell_type": "code",
   "execution_count": 8,
   "metadata": {
    "scrolled": false
   },
   "outputs": [
    {
     "name": "stdout",
     "output_type": "stream",
     "text": [
      "max_depth = 1, accuracy = 0.7387247278382582\n",
      "max_depth = 2, accuracy = 0.7573872472783826\n",
      "max_depth = 3, accuracy = 0.7651632970451011\n",
      "max_depth = 4, accuracy = 0.7636080870917574\n",
      "max_depth = 5, accuracy = 0.7589424572317263\n",
      "max_depth = 6, accuracy = 0.7573872472783826\n",
      "max_depth = 7, accuracy = 0.7744945567651633\n",
      "max_depth = 8, accuracy = 0.7667185069984448\n",
      "max_depth = 9, accuracy = 0.7620528771384136\n",
      "max_depth = 10, accuracy = 0.7713841368584758\n",
      "max_depth = 11, accuracy = 0.7589424572317263\n",
      "max_depth = 12, accuracy = 0.7558320373250389\n",
      "max_depth = 13, accuracy = 0.749611197511664\n",
      "max_depth = 14, accuracy = 0.7573872472783826\n",
      "max_depth = 15, accuracy = 0.7527216174183515\n",
      "max_depth = 16, accuracy = 0.749611197511664\n",
      "max_depth = 17, accuracy = 0.7387247278382582\n",
      "max_depth = 18, accuracy = 0.7418351477449455\n",
      "max_depth = 19, accuracy = 0.7356143079315708\n",
      "max_depth = 20, accuracy = 0.7293934681181959\n",
      "max_depth = 21, accuracy = 0.7325038880248833\n",
      "max_depth = 22, accuracy = 0.71850699844479\n",
      "max_depth = 23, accuracy = 0.7293934681181959\n",
      "max_depth = 24, accuracy = 0.7262830482115086\n",
      "max_depth = 25, accuracy = 0.7293934681181959\n"
     ]
    }
   ],
   "source": [
    "# начнём изучение моделей с дерева решений\n",
    "# исследуем, на какой максимальной \"глубине\" древа мы можем получить наибольшую точность ответов\n",
    "\n",
    "\n",
    "for depth in range(1, 26):\n",
    "    model = DecisionTreeClassifier(max_depth=depth, random_state=12345)\n",
    "    model.fit(features_data_train, target_data_train)\n",
    "    \n",
    "    accuracy = model.score(features_data_valid, target_data_valid)\n",
    "    print(f'max_depth = {depth}, accuracy = {accuracy}')\n",
    "    "
   ]
  },
  {
   "cell_type": "markdown",
   "metadata": {},
   "source": [
    "Исходя из полученных данных, мы видим, что наибольшая точность ответов достигается в случае, когда значение гиперпараметра max_depth = 7.  \n",
    "Точность полученных результатов в этом случае составляет 77,4%, что укладывается в наш целевой показатель.\n",
    "\n",
    "Но сама модель дерева решений является наименее точной среди выбранных трёх, поэтому переходим к следующей модели - случайному лесу."
   ]
  },
  {
   "cell_type": "code",
   "execution_count": 9,
   "metadata": {},
   "outputs": [
    {
     "name": "stderr",
     "output_type": "stream",
     "text": [
      "100%|██████████████████████████████████████████████████████████████████████████████████| 10/10 [00:18<00:00,  1.81s/it]"
     ]
    },
    {
     "name": "stdout",
     "output_type": "stream",
     "text": [
      "n_estimators = 20, max_depth = 15, accuracy = 0.80248833592535\n"
     ]
    },
    {
     "name": "stderr",
     "output_type": "stream",
     "text": [
      "\n"
     ]
    }
   ],
   "source": [
    "best_model = None\n",
    "best_accuracy = 0\n",
    "best_est = 0\n",
    "best_depth = 0\n",
    "\n",
    "for est in tqdm(range(10, 101, 10)):\n",
    "    for depth in range(1, 20):\n",
    "        model = RandomForestClassifier(max_depth=depth, n_estimators=est, random_state=12345)\n",
    "        model.fit(features_data_train, target_data_train)\n",
    "        \n",
    "        accuracy = model.score(features_data_valid, target_data_valid)\n",
    "        \n",
    "        if accuracy > best_accuracy:\n",
    "            best_model = model\n",
    "            best_accuracy = accuracy\n",
    "            best_est = est\n",
    "            best_depth = depth\n",
    "        \n",
    "print(f'n_estimators = {best_est}, max_depth = {best_depth}, accuracy = {best_accuracy}')\n",
    "        \n",
    "        "
   ]
  },
  {
   "cell_type": "markdown",
   "metadata": {},
   "source": [
    "Итого мы получили, что наибольшую точность показывает модель с 20 деревьями и максимальной глубиной = 15. Но при данной проверке мы использовали довольно большой шаг в количестве деревьев - 10. Попробуем провести повторную проверку вблизи 20."
   ]
  },
  {
   "cell_type": "code",
   "execution_count": 10,
   "metadata": {
    "scrolled": false
   },
   "outputs": [
    {
     "name": "stderr",
     "output_type": "stream",
     "text": [
      "100%|██████████████████████████████████████████████████████████████████████████████████| 21/21 [00:14<00:00,  1.46it/s]"
     ]
    },
    {
     "name": "stdout",
     "output_type": "stream",
     "text": [
      "n_estimators = 20, max_depth = 15, accuracy = 0.80248833592535\n"
     ]
    },
    {
     "name": "stderr",
     "output_type": "stream",
     "text": [
      "\n"
     ]
    }
   ],
   "source": [
    "best_model = None\n",
    "best_accuracy = 0\n",
    "best_est = 0\n",
    "best_depth = 0\n",
    "\n",
    "for est in tqdm(range(10, 31)):\n",
    "    for depth in range(1, 20):\n",
    "        model = RandomForestClassifier(max_depth=depth, n_estimators=est, random_state=12345)\n",
    "        model.fit(features_data_train, target_data_train)\n",
    "        \n",
    "        accuracy = model.score(features_data_valid, target_data_valid)\n",
    "        \n",
    "        if accuracy > best_accuracy:\n",
    "            best_model = model\n",
    "            best_accuracy = accuracy\n",
    "            best_est = est\n",
    "            best_depth = depth\n",
    "        \n",
    "print(f'n_estimators = {best_est}, max_depth = {best_depth}, accuracy = {best_accuracy}')"
   ]
  },
  {
   "cell_type": "markdown",
   "metadata": {},
   "source": [
    "Результат неизменен. Наилучший показатель точности предсказания в 80,2% имеет модель случайного леса с количеством деревьев 20 и максимальной глубиной 15.\n",
    "\n",
    "Теперь перейдем к исследованию последнего типа модели - логистической регрессии."
   ]
  },
  {
   "cell_type": "code",
   "execution_count": 11,
   "metadata": {},
   "outputs": [
    {
     "data": {
      "text/plain": [
       "0.7262830482115086"
      ]
     },
     "execution_count": 11,
     "metadata": {},
     "output_type": "execute_result"
    }
   ],
   "source": [
    "model = LogisticRegression(solver='lbfgs', max_iter=1000, random_state=12345)\n",
    "model.fit(features_data_train, target_data_train)\n",
    "    \n",
    "accuracy = model.score(features_data_valid, target_data_valid)\n",
    "accuracy"
   ]
  },
  {
   "cell_type": "markdown",
   "metadata": {},
   "source": [
    "Видим, что для метода логистической регрессии получаемый уровень точности ниже целевого - всего 72,6%."
   ]
  },
  {
   "cell_type": "markdown",
   "metadata": {},
   "source": [
    "Итого получаем, что из трёх рассмотренных моделей наивысшую точность демонстрирует модель случайного леса - 80,2%.  \n",
    "На втором месте - дерево решений - 77,4%.  \n",
    "И на третьем - логистическая регрессия - 72,6%."
   ]
  },
  {
   "cell_type": "markdown",
   "metadata": {},
   "source": [
    "## Проверка лучшей модели на тестовой выборке"
   ]
  },
  {
   "cell_type": "markdown",
   "metadata": {},
   "source": [
    "Теперь протестируем модель, показавшую наилучший результат точности, на тестовой выборке - модель случайного леса. Будем сразу использовать значения гиперпараметров, полученные ранее.\n"
   ]
  },
  {
   "cell_type": "code",
   "execution_count": 12,
   "metadata": {},
   "outputs": [
    {
     "data": {
      "text/plain": [
       "0.7853810264385692"
      ]
     },
     "execution_count": 12,
     "metadata": {},
     "output_type": "execute_result"
    }
   ],
   "source": [
    "# модель случайного леса\n",
    "model = RandomForestClassifier(max_depth=best_depth, n_estimators=best_est, random_state=12345)\n",
    "model.fit(features_data_train, target_data_train)\n",
    "        \n",
    "accuracy = model.score(features_data_test, target_data_test)\n",
    "accuracy"
   ]
  },
  {
   "cell_type": "markdown",
   "metadata": {},
   "source": [
    "Как мы видим, модель на тестовой выборке подтвердила прохождение целевого уровня точности в 75%.  \n",
    "При этом модель случайного леса немного ухудшила свой показатель точности.\n",
    "- Случайный лес на валидационной выборке (80,2%) и на тестовой выборке (78,5%).\n",
    "\n",
    "Тем не менее, мы можем утверждать, что модель прошла валидацию и тестировку успешно."
   ]
  },
  {
   "cell_type": "markdown",
   "metadata": {},
   "source": [
    "## Проверка модели на адекватность"
   ]
  },
  {
   "cell_type": "markdown",
   "metadata": {},
   "source": [
    "Сравним предсказание нашей модели с предсказанием константного ответа (столбца, полностью состоящего из нулей)."
   ]
  },
  {
   "cell_type": "code",
   "execution_count": 13,
   "metadata": {},
   "outputs": [
    {
     "data": {
      "text/plain": [
       "array([0], dtype=int64)"
      ]
     },
     "execution_count": 13,
     "metadata": {},
     "output_type": "execute_result"
    }
   ],
   "source": [
    "# объявим такой столбец\n",
    "null_column = pd.Series(0, index=range(features_data_test.shape[0]))\n",
    "null_column.unique()"
   ]
  },
  {
   "cell_type": "code",
   "execution_count": 14,
   "metadata": {},
   "outputs": [
    {
     "data": {
      "text/plain": [
       "0.7853810264385692"
      ]
     },
     "execution_count": 14,
     "metadata": {},
     "output_type": "execute_result"
    }
   ],
   "source": [
    "model = RandomForestClassifier(max_depth=best_depth, n_estimators=best_est, random_state=12345)\n",
    "model.fit(features_data_train, target_data_train)\n",
    "        \n",
    "accuracy_model = model.score(features_data_test, target_data_test)\n",
    "accuracy_model\n"
   ]
  },
  {
   "cell_type": "code",
   "execution_count": 15,
   "metadata": {},
   "outputs": [
    {
     "data": {
      "text/plain": [
       "0.6951788491446346"
      ]
     },
     "execution_count": 15,
     "metadata": {},
     "output_type": "execute_result"
    }
   ],
   "source": [
    "accuracy = accuracy_score(target_data_test, null_column)\n",
    "accuracy"
   ]
  },
  {
   "cell_type": "markdown",
   "metadata": {},
   "source": [
    "По результатам проведенного сравнения точности модели и столбца с константой получили, что точность модели 78,5%, а наивного столбца - 77,6%."
   ]
  },
  {
   "cell_type": "markdown",
   "metadata": {},
   "source": [
    "## Итоговый вывод"
   ]
  },
  {
   "cell_type": "markdown",
   "metadata": {},
   "source": [
    "В данном проекте мы разрабатывали и сравнивали различные предиктивные модели для предложения клиентам оператора \"Мегалайн\" наиболее подходящего тарифа - \"Смарт\" или \"Ультра\".\n",
    "\n",
    "Были изучены имеющиеся данные о текущих пользователях сервиса. Предобработка данных не проводилась в виду отсутствия в датасете пропусков. Были скорректированы типы столбцов для учета звонков и смс-сообщений на int.\n",
    "\n",
    "Исходная выборка данных была разделена на три - тренировочную, валидационную и тестировочную в соотношении 3:1:1.  \n",
    "На первой обучались выбранные модели, на второй подбирались гиперпараметры для максимального уровня точности, а третья использовалась для финального тестирования.\n",
    "\n",
    "В результате исследования моделей мы получили, что из трёх рассмотренных моделей наивысшую точность демонстрируют модели: \n",
    "- Случайный лес - 80,2%.  \n",
    "- Дерево решений - 77,4%.  \n",
    "- Логистическая регрессия - 72,6%.\n",
    "\n",
    "Модель, показавшая наибольший уровень точности - случайный лес. Именно эту модель мы и будем использовать для проверки на тестовой выборке.\n",
    "\n",
    "Как мы видим, модель на тестовой выборке подтвердила прохождение целевого уровня точности в 75%.  \n",
    "При этом модель случайного леса немного ухудшила свой показатель точности.\n",
    "- Случайный лес на валидационной выборке (80,2%) и на тестовой выборке (78,5%).\n",
    "\n",
    "Тем не менее, мы можем утверждать, что модель прошла валидацию и тестировку успешно."
   ]
  },
  {
   "cell_type": "markdown",
   "metadata": {},
   "source": [
    "## Чек-лист готовности проекта"
   ]
  },
  {
   "cell_type": "markdown",
   "metadata": {},
   "source": [
    "Поставьте 'x' в выполненных пунктах. Далее нажмите Shift+Enter."
   ]
  },
  {
   "cell_type": "markdown",
   "metadata": {},
   "source": [
    "- [x] Jupyter Notebook открыт\n",
    "- [x] Весь код исполняется без ошибок\n",
    "- [x] Ячейки с кодом расположены в порядке исполнения\n",
    "- [x] Выполнено задание 1: данные загружены и изучены\n",
    "- [x] Выполнено задание 2: данные разбиты на три выборки\n",
    "- [x] Выполнено задание 3: проведено исследование моделей\n",
    "    - [x] Рассмотрено больше одной модели\n",
    "    - [x] Рассмотрено хотя бы 3 значения гипепараметров для какой-нибудь модели\n",
    "    - [x] Написаны выводы по результатам исследования\n",
    "- [x] Выполнено задание 3: Проведено тестирование\n",
    "- [x] Удалось достичь accuracy не меньше 0.75\n"
   ]
  }
 ],
 "metadata": {
  "ExecuteTimeLog": [
   {
    "duration": 1108,
    "start_time": "2023-12-13T10:57:06.555Z"
   },
   {
    "duration": 82,
    "start_time": "2023-12-13T10:57:29.658Z"
   },
   {
    "duration": 45,
    "start_time": "2023-12-13T10:57:43.839Z"
   },
   {
    "duration": 48,
    "start_time": "2023-12-13T11:05:59.324Z"
   },
   {
    "duration": 11,
    "start_time": "2023-12-13T11:06:42.917Z"
   },
   {
    "duration": 23,
    "start_time": "2023-12-13T11:06:52.150Z"
   },
   {
    "duration": 12,
    "start_time": "2023-12-13T11:07:01.284Z"
   },
   {
    "duration": 23,
    "start_time": "2023-12-13T11:07:37.586Z"
   },
   {
    "duration": 15,
    "start_time": "2023-12-13T11:20:08.129Z"
   },
   {
    "duration": 4,
    "start_time": "2023-12-13T11:20:30.978Z"
   },
   {
    "duration": 7,
    "start_time": "2023-12-13T11:20:35.020Z"
   },
   {
    "duration": 4,
    "start_time": "2023-12-13T11:20:40.904Z"
   },
   {
    "duration": 16,
    "start_time": "2023-12-13T11:22:47.713Z"
   },
   {
    "duration": 18,
    "start_time": "2023-12-13T11:22:53.545Z"
   },
   {
    "duration": 15,
    "start_time": "2023-12-13T11:27:04.275Z"
   },
   {
    "duration": 15,
    "start_time": "2023-12-13T11:27:11.365Z"
   },
   {
    "duration": 14,
    "start_time": "2023-12-13T11:27:21.962Z"
   },
   {
    "duration": 10,
    "start_time": "2023-12-13T11:27:58.521Z"
   },
   {
    "duration": 918,
    "start_time": "2023-12-13T11:28:05.162Z"
   },
   {
    "duration": 7,
    "start_time": "2023-12-13T11:28:12.205Z"
   },
   {
    "duration": 9,
    "start_time": "2023-12-13T11:28:23.921Z"
   },
   {
    "duration": 9,
    "start_time": "2023-12-13T11:44:56.375Z"
   },
   {
    "duration": 4,
    "start_time": "2023-12-13T11:45:02.818Z"
   },
   {
    "duration": 78,
    "start_time": "2023-12-13T11:45:06.645Z"
   },
   {
    "duration": 213,
    "start_time": "2023-12-13T11:45:15.373Z"
   },
   {
    "duration": 160,
    "start_time": "2023-12-13T11:45:23.748Z"
   },
   {
    "duration": 402,
    "start_time": "2023-12-13T11:47:55.308Z"
   },
   {
    "duration": 292,
    "start_time": "2023-12-13T11:48:04.280Z"
   },
   {
    "duration": 9,
    "start_time": "2023-12-13T11:56:17.224Z"
   },
   {
    "duration": 252,
    "start_time": "2023-12-13T11:56:36.917Z"
   },
   {
    "duration": 278,
    "start_time": "2023-12-13T11:56:45.759Z"
   },
   {
    "duration": 267,
    "start_time": "2023-12-13T12:02:20.794Z"
   },
   {
    "duration": 10182,
    "start_time": "2023-12-13T12:02:41.521Z"
   },
   {
    "duration": 9819,
    "start_time": "2023-12-13T12:02:54.078Z"
   },
   {
    "duration": 10065,
    "start_time": "2023-12-13T12:03:07.393Z"
   },
   {
    "duration": 68,
    "start_time": "2023-12-13T12:05:22.285Z"
   },
   {
    "duration": 45,
    "start_time": "2023-12-13T12:05:26.301Z"
   },
   {
    "duration": 32,
    "start_time": "2023-12-13T12:07:00.444Z"
   },
   {
    "duration": 9795,
    "start_time": "2023-12-13T12:07:41.471Z"
   },
   {
    "duration": 250,
    "start_time": "2023-12-13T12:08:34.280Z"
   },
   {
    "duration": 9207,
    "start_time": "2023-12-13T12:11:00.628Z"
   },
   {
    "duration": 9299,
    "start_time": "2023-12-13T12:11:13.623Z"
   },
   {
    "duration": 13867,
    "start_time": "2023-12-13T12:12:33.298Z"
   },
   {
    "duration": 26716,
    "start_time": "2023-12-13T12:12:55.167Z"
   },
   {
    "duration": 33046,
    "start_time": "2023-12-13T12:13:35.489Z"
   },
   {
    "duration": 34213,
    "start_time": "2023-12-13T12:14:37.114Z"
   },
   {
    "duration": 27428,
    "start_time": "2023-12-13T12:16:35.737Z"
   },
   {
    "duration": 695,
    "start_time": "2023-12-13T12:23:21.577Z"
   },
   {
    "duration": 660,
    "start_time": "2023-12-13T12:23:59.080Z"
   },
   {
    "duration": 40,
    "start_time": "2023-12-13T13:02:24.222Z"
   },
   {
    "duration": 48,
    "start_time": "2023-12-13T13:02:29.586Z"
   },
   {
    "duration": 14,
    "start_time": "2023-12-13T13:12:13.654Z"
   },
   {
    "duration": 14,
    "start_time": "2023-12-13T13:12:30.057Z"
   },
   {
    "duration": 85,
    "start_time": "2023-12-13T13:13:33.920Z"
   },
   {
    "duration": 1100,
    "start_time": "2023-12-13T13:28:52.834Z"
   },
   {
    "duration": 62,
    "start_time": "2023-12-13T13:28:53.936Z"
   },
   {
    "duration": 17,
    "start_time": "2023-12-13T13:28:54.000Z"
   },
   {
    "duration": 21,
    "start_time": "2023-12-13T13:28:54.020Z"
   },
   {
    "duration": 18,
    "start_time": "2023-12-13T13:28:54.043Z"
   },
   {
    "duration": 11,
    "start_time": "2023-12-13T13:28:54.062Z"
   },
   {
    "duration": 24,
    "start_time": "2023-12-13T13:28:54.075Z"
   },
   {
    "duration": 248,
    "start_time": "2023-12-13T13:28:54.100Z"
   },
   {
    "duration": 34113,
    "start_time": "2023-12-13T13:28:54.349Z"
   },
   {
    "duration": 27709,
    "start_time": "2023-12-13T13:29:28.464Z"
   },
   {
    "duration": 127,
    "start_time": "2023-12-13T13:29:56.175Z"
   },
   {
    "duration": 0,
    "start_time": "2023-12-13T13:29:56.304Z"
   },
   {
    "duration": 0,
    "start_time": "2023-12-13T13:29:56.305Z"
   },
   {
    "duration": 16,
    "start_time": "2023-12-13T13:30:31.712Z"
   },
   {
    "duration": 41,
    "start_time": "2023-12-13T13:30:46.403Z"
   },
   {
    "duration": 42,
    "start_time": "2023-12-13T13:30:55.210Z"
   },
   {
    "duration": 54,
    "start_time": "2023-12-13T13:30:57.604Z"
   },
   {
    "duration": 15,
    "start_time": "2023-12-13T13:31:01.196Z"
   },
   {
    "duration": 93,
    "start_time": "2023-12-13T13:31:02.039Z"
   },
   {
    "duration": 2800,
    "start_time": "2023-12-13T14:34:37.526Z"
   },
   {
    "duration": 131,
    "start_time": "2023-12-13T14:34:40.328Z"
   },
   {
    "duration": 13,
    "start_time": "2023-12-13T14:34:40.460Z"
   },
   {
    "duration": 15,
    "start_time": "2023-12-13T14:34:40.475Z"
   },
   {
    "duration": 5,
    "start_time": "2023-12-13T14:34:40.492Z"
   },
   {
    "duration": 8,
    "start_time": "2023-12-13T14:34:40.498Z"
   },
   {
    "duration": 38,
    "start_time": "2023-12-13T14:34:40.507Z"
   },
   {
    "duration": 244,
    "start_time": "2023-12-13T14:34:40.547Z"
   },
   {
    "duration": 32818,
    "start_time": "2023-12-13T14:34:40.793Z"
   },
   {
    "duration": 25869,
    "start_time": "2023-12-13T14:35:13.613Z"
   },
   {
    "duration": 39,
    "start_time": "2023-12-13T14:35:39.484Z"
   },
   {
    "duration": 31,
    "start_time": "2023-12-13T14:35:39.525Z"
   },
   {
    "duration": 123,
    "start_time": "2023-12-13T14:35:39.558Z"
   },
   {
    "duration": 4,
    "start_time": "2023-12-13T15:09:34.899Z"
   },
   {
    "duration": 94,
    "start_time": "2023-12-13T15:09:47.801Z"
   },
   {
    "duration": 14,
    "start_time": "2023-12-13T15:21:38.666Z"
   },
   {
    "duration": 4,
    "start_time": "2023-12-13T15:21:52.250Z"
   },
   {
    "duration": 3,
    "start_time": "2023-12-13T15:22:00.612Z"
   },
   {
    "duration": 7,
    "start_time": "2023-12-13T15:22:07.502Z"
   },
   {
    "duration": 92,
    "start_time": "2023-12-13T15:23:05.814Z"
   },
   {
    "duration": 4,
    "start_time": "2023-12-13T15:23:10.004Z"
   },
   {
    "duration": 96,
    "start_time": "2023-12-13T15:23:14.405Z"
   },
   {
    "duration": 102,
    "start_time": "2023-12-13T15:23:55.048Z"
   },
   {
    "duration": 101,
    "start_time": "2023-12-13T15:23:58.550Z"
   },
   {
    "duration": 6,
    "start_time": "2023-12-13T15:26:36.148Z"
   },
   {
    "duration": 21,
    "start_time": "2023-12-13T15:26:46.221Z"
   },
   {
    "duration": 1117,
    "start_time": "2023-12-13T15:27:45.480Z"
   },
   {
    "duration": 60,
    "start_time": "2023-12-13T15:27:46.599Z"
   },
   {
    "duration": 12,
    "start_time": "2023-12-13T15:27:46.661Z"
   },
   {
    "duration": 15,
    "start_time": "2023-12-13T15:27:46.674Z"
   },
   {
    "duration": 10,
    "start_time": "2023-12-13T15:27:46.691Z"
   },
   {
    "duration": 8,
    "start_time": "2023-12-13T15:27:46.703Z"
   },
   {
    "duration": 19,
    "start_time": "2023-12-13T15:27:46.730Z"
   },
   {
    "duration": 292,
    "start_time": "2023-12-13T15:27:46.751Z"
   },
   {
    "duration": 34523,
    "start_time": "2023-12-13T15:27:47.045Z"
   },
   {
    "duration": 27516,
    "start_time": "2023-12-13T15:28:21.570Z"
   },
   {
    "duration": 59,
    "start_time": "2023-12-13T15:28:49.087Z"
   },
   {
    "duration": 103,
    "start_time": "2023-12-13T15:28:49.148Z"
   },
   {
    "duration": 5,
    "start_time": "2023-12-13T15:28:49.253Z"
   },
   {
    "duration": 107,
    "start_time": "2023-12-13T15:28:49.260Z"
   },
   {
    "duration": 5,
    "start_time": "2023-12-13T20:41:07.151Z"
   },
   {
    "duration": 51,
    "start_time": "2023-12-14T10:48:09.151Z"
   }
  ],
  "kernelspec": {
   "display_name": "Python 3 (ipykernel)",
   "language": "python",
   "name": "python3"
  },
  "language_info": {
   "codemirror_mode": {
    "name": "ipython",
    "version": 3
   },
   "file_extension": ".py",
   "mimetype": "text/x-python",
   "name": "python",
   "nbconvert_exporter": "python",
   "pygments_lexer": "ipython3",
   "version": "3.9.18"
  },
  "toc": {
   "base_numbering": 1,
   "nav_menu": {
    "height": "276px",
    "width": "266px"
   },
   "number_sections": true,
   "sideBar": true,
   "skip_h1_title": true,
   "title_cell": "Table of Contents",
   "title_sidebar": "Contents",
   "toc_cell": false,
   "toc_position": {},
   "toc_section_display": true,
   "toc_window_display": false
  }
 },
 "nbformat": 4,
 "nbformat_minor": 2
}
