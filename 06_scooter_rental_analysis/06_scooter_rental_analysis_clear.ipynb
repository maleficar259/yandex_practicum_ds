{
 "cells": [
  {
   "cell_type": "markdown",
   "id": "7116308a",
   "metadata": {},
   "source": [
    "# Проект \"Исследование влияния подписки в рамках сервиса аренды самокатов GoFast\"\n",
    "\n",
    "## Описание проекта\n",
    "\n",
    "В данном проекте нам предстоит анализ данных популярного сервиса аренды самокатов GoFast. В нашем распоряжении данные о некоторых пользователях из нескольких городов, а также об их поездках. \n",
    "\n",
    "Нам предстоит: \n",
    "1. Просмотреть имеющиеся данные;\n",
    "2. Провести предобработку данных:\n",
    "    - Проанализировать на предмет наличия явных и неявных дубликатов и обработать их;\n",
    "    - Обработать имеющиеся в данных пропуски и заполнить их допустимыми значениями там, где это применимо;\n",
    "    - Обновить типы значений столбцов при необходимости;\n",
    "3. Исследовать и визуализировать следующие параметры:\n",
    "    - Частота встречаемости городов;\n",
    "    - Соотношение пользователей с подпиской и без подписки;\n",
    "    - Возраст пользователей;\n",
    "    - Расстояние, которое пользователь преодолел за одну поездку;\n",
    "    - Продолжительность поездок.\n",
    "4. Объединить все данные в одну таблицу и сделать первые выводы о разнице показателей разных групп пользователей.\n",
    "5. Подсчитать помесячную выручку, а для этого изучить:\n",
    "    - Суммарное расстояние для пользователя за каждый месяц;\n",
    "    - Количество поездок;\n",
    "    - Суммарное время;\n",
    "    - Посчитать помесячную выручку для каждого пользователя.\n",
    "6. Проверить несколько гипотез касательно наших данных:\n",
    "    - Тратят ли пользователи с подпиской больше времени на поездки?\n",
    "    - Расстояние одной поездки в 3130 метров — оптимальное с точки зрения износа самоката. Можно ли сказать, что среднее расстояние, которое проезжают пользователи с подпиской за одну поездку, не превышает 3130 метров?\n",
    "    - Будет ли помесячная выручка от пользователей с подпиской по месяцам выше, чем выручка от пользователей без подписки.\n",
    "    - Техническая команда сервиса обновила сервера, с которыми взаимодействует мобильное приложение. Она надеется, что из-за этого количество обращений в техподдержку значимо снизилось. Некоторый файл содержит для каждого пользователя данные о количестве обращений до обновления и после него. Какой тест нам понадобится для проверки этой гипотезы?\n",
    "7. Решить два дополнительных задания касательно стратегий маркетингового отдела.\n",
    "8. Сделать общие выводы о проекте."
   ]
  },
  {
   "cell_type": "code",
   "execution_count": 1,
   "id": "67efb1fa",
   "metadata": {},
   "outputs": [],
   "source": [
    "# импортируем необходимые библиотеки\n",
    "import pandas as pd\n",
    "import numpy as np\n",
    "from numpy import random\n",
    "from scipy import stats as st\n",
    "from matplotlib import pyplot as plt\n"
   ]
  },
  {
   "cell_type": "markdown",
   "id": "406d3093",
   "metadata": {},
   "source": [
    "## Шаг 1. Загрузка данных"
   ]
  },
  {
   "cell_type": "code",
   "execution_count": 2,
   "id": "77705d9b",
   "metadata": {},
   "outputs": [
    {
     "name": "stdout",
     "output_type": "stream",
     "text": [
      "<class 'pandas.core.frame.DataFrame'>\n",
      "RangeIndex: 1565 entries, 0 to 1564\n",
      "Data columns (total 5 columns):\n",
      " #   Column             Non-Null Count  Dtype \n",
      "---  ------             --------------  ----- \n",
      " 0   user_id            1565 non-null   int64 \n",
      " 1   name               1565 non-null   object\n",
      " 2   age                1565 non-null   int64 \n",
      " 3   city               1565 non-null   object\n",
      " 4   subscription_type  1565 non-null   object\n",
      "dtypes: int64(2), object(3)\n",
      "memory usage: 61.3+ KB\n"
     ]
    },
    {
     "data": {
      "text/html": [
       "<div>\n",
       "<style scoped>\n",
       "    .dataframe tbody tr th:only-of-type {\n",
       "        vertical-align: middle;\n",
       "    }\n",
       "\n",
       "    .dataframe tbody tr th {\n",
       "        vertical-align: top;\n",
       "    }\n",
       "\n",
       "    .dataframe thead th {\n",
       "        text-align: right;\n",
       "    }\n",
       "</style>\n",
       "<table border=\"1\" class=\"dataframe\">\n",
       "  <thead>\n",
       "    <tr style=\"text-align: right;\">\n",
       "      <th></th>\n",
       "      <th>user_id</th>\n",
       "      <th>name</th>\n",
       "      <th>age</th>\n",
       "      <th>city</th>\n",
       "      <th>subscription_type</th>\n",
       "    </tr>\n",
       "  </thead>\n",
       "  <tbody>\n",
       "    <tr>\n",
       "      <th>0</th>\n",
       "      <td>1</td>\n",
       "      <td>Кира</td>\n",
       "      <td>22</td>\n",
       "      <td>Тюмень</td>\n",
       "      <td>ultra</td>\n",
       "    </tr>\n",
       "    <tr>\n",
       "      <th>1</th>\n",
       "      <td>2</td>\n",
       "      <td>Станислав</td>\n",
       "      <td>31</td>\n",
       "      <td>Омск</td>\n",
       "      <td>ultra</td>\n",
       "    </tr>\n",
       "    <tr>\n",
       "      <th>2</th>\n",
       "      <td>3</td>\n",
       "      <td>Алексей</td>\n",
       "      <td>20</td>\n",
       "      <td>Москва</td>\n",
       "      <td>ultra</td>\n",
       "    </tr>\n",
       "    <tr>\n",
       "      <th>3</th>\n",
       "      <td>4</td>\n",
       "      <td>Константин</td>\n",
       "      <td>26</td>\n",
       "      <td>Ростов-на-Дону</td>\n",
       "      <td>ultra</td>\n",
       "    </tr>\n",
       "    <tr>\n",
       "      <th>4</th>\n",
       "      <td>5</td>\n",
       "      <td>Адель</td>\n",
       "      <td>28</td>\n",
       "      <td>Омск</td>\n",
       "      <td>ultra</td>\n",
       "    </tr>\n",
       "  </tbody>\n",
       "</table>\n",
       "</div>"
      ],
      "text/plain": [
       "   user_id        name  age            city subscription_type\n",
       "0        1        Кира   22          Тюмень             ultra\n",
       "1        2   Станислав   31            Омск             ultra\n",
       "2        3     Алексей   20          Москва             ultra\n",
       "3        4  Константин   26  Ростов-на-Дону             ultra\n",
       "4        5       Адель   28            Омск             ultra"
      ]
     },
     "execution_count": 2,
     "metadata": {},
     "output_type": "execute_result"
    }
   ],
   "source": [
    "# получаем данные из имеющихся файлов\n",
    "\n",
    "users = pd.read_csv('/datasets/users_go.csv')\n",
    "users.info()\n",
    "users.head()"
   ]
  },
  {
   "cell_type": "code",
   "execution_count": 3,
   "id": "e4a1a90a",
   "metadata": {},
   "outputs": [
    {
     "name": "stdout",
     "output_type": "stream",
     "text": [
      "<class 'pandas.core.frame.DataFrame'>\n",
      "RangeIndex: 18068 entries, 0 to 18067\n",
      "Data columns (total 4 columns):\n",
      " #   Column    Non-Null Count  Dtype  \n",
      "---  ------    --------------  -----  \n",
      " 0   user_id   18068 non-null  int64  \n",
      " 1   distance  18068 non-null  float64\n",
      " 2   duration  18068 non-null  float64\n",
      " 3   date      18068 non-null  object \n",
      "dtypes: float64(2), int64(1), object(1)\n",
      "memory usage: 564.8+ KB\n"
     ]
    },
    {
     "data": {
      "text/html": [
       "<div>\n",
       "<style scoped>\n",
       "    .dataframe tbody tr th:only-of-type {\n",
       "        vertical-align: middle;\n",
       "    }\n",
       "\n",
       "    .dataframe tbody tr th {\n",
       "        vertical-align: top;\n",
       "    }\n",
       "\n",
       "    .dataframe thead th {\n",
       "        text-align: right;\n",
       "    }\n",
       "</style>\n",
       "<table border=\"1\" class=\"dataframe\">\n",
       "  <thead>\n",
       "    <tr style=\"text-align: right;\">\n",
       "      <th></th>\n",
       "      <th>user_id</th>\n",
       "      <th>distance</th>\n",
       "      <th>duration</th>\n",
       "      <th>date</th>\n",
       "    </tr>\n",
       "  </thead>\n",
       "  <tbody>\n",
       "    <tr>\n",
       "      <th>0</th>\n",
       "      <td>1</td>\n",
       "      <td>4409.919140</td>\n",
       "      <td>25.599769</td>\n",
       "      <td>2021-01-01</td>\n",
       "    </tr>\n",
       "    <tr>\n",
       "      <th>1</th>\n",
       "      <td>1</td>\n",
       "      <td>2617.592153</td>\n",
       "      <td>15.816871</td>\n",
       "      <td>2021-01-18</td>\n",
       "    </tr>\n",
       "    <tr>\n",
       "      <th>2</th>\n",
       "      <td>1</td>\n",
       "      <td>754.159807</td>\n",
       "      <td>6.232113</td>\n",
       "      <td>2021-04-20</td>\n",
       "    </tr>\n",
       "    <tr>\n",
       "      <th>3</th>\n",
       "      <td>1</td>\n",
       "      <td>2694.783254</td>\n",
       "      <td>18.511000</td>\n",
       "      <td>2021-08-11</td>\n",
       "    </tr>\n",
       "    <tr>\n",
       "      <th>4</th>\n",
       "      <td>1</td>\n",
       "      <td>4028.687306</td>\n",
       "      <td>26.265803</td>\n",
       "      <td>2021-08-28</td>\n",
       "    </tr>\n",
       "  </tbody>\n",
       "</table>\n",
       "</div>"
      ],
      "text/plain": [
       "   user_id     distance   duration        date\n",
       "0        1  4409.919140  25.599769  2021-01-01\n",
       "1        1  2617.592153  15.816871  2021-01-18\n",
       "2        1   754.159807   6.232113  2021-04-20\n",
       "3        1  2694.783254  18.511000  2021-08-11\n",
       "4        1  4028.687306  26.265803  2021-08-28"
      ]
     },
     "execution_count": 3,
     "metadata": {},
     "output_type": "execute_result"
    }
   ],
   "source": [
    "rides = pd.read_csv('/datasets/rides_go.csv')\n",
    "rides.info()\n",
    "rides.head()"
   ]
  },
  {
   "cell_type": "code",
   "execution_count": 4,
   "id": "0b0c4bbc",
   "metadata": {
    "scrolled": true
   },
   "outputs": [
    {
     "name": "stdout",
     "output_type": "stream",
     "text": [
      "<class 'pandas.core.frame.DataFrame'>\n",
      "RangeIndex: 2 entries, 0 to 1\n",
      "Data columns (total 4 columns):\n",
      " #   Column             Non-Null Count  Dtype \n",
      "---  ------             --------------  ----- \n",
      " 0   subscription_type  2 non-null      object\n",
      " 1   minute_price       2 non-null      int64 \n",
      " 2   start_ride_price   2 non-null      int64 \n",
      " 3   subscription_fee   2 non-null      int64 \n",
      "dtypes: int64(3), object(1)\n",
      "memory usage: 192.0+ bytes\n"
     ]
    },
    {
     "data": {
      "text/html": [
       "<div>\n",
       "<style scoped>\n",
       "    .dataframe tbody tr th:only-of-type {\n",
       "        vertical-align: middle;\n",
       "    }\n",
       "\n",
       "    .dataframe tbody tr th {\n",
       "        vertical-align: top;\n",
       "    }\n",
       "\n",
       "    .dataframe thead th {\n",
       "        text-align: right;\n",
       "    }\n",
       "</style>\n",
       "<table border=\"1\" class=\"dataframe\">\n",
       "  <thead>\n",
       "    <tr style=\"text-align: right;\">\n",
       "      <th></th>\n",
       "      <th>subscription_type</th>\n",
       "      <th>minute_price</th>\n",
       "      <th>start_ride_price</th>\n",
       "      <th>subscription_fee</th>\n",
       "    </tr>\n",
       "  </thead>\n",
       "  <tbody>\n",
       "    <tr>\n",
       "      <th>0</th>\n",
       "      <td>free</td>\n",
       "      <td>8</td>\n",
       "      <td>50</td>\n",
       "      <td>0</td>\n",
       "    </tr>\n",
       "    <tr>\n",
       "      <th>1</th>\n",
       "      <td>ultra</td>\n",
       "      <td>6</td>\n",
       "      <td>0</td>\n",
       "      <td>199</td>\n",
       "    </tr>\n",
       "  </tbody>\n",
       "</table>\n",
       "</div>"
      ],
      "text/plain": [
       "  subscription_type  minute_price  start_ride_price  subscription_fee\n",
       "0              free             8                50                 0\n",
       "1             ultra             6                 0               199"
      ]
     },
     "execution_count": 4,
     "metadata": {},
     "output_type": "execute_result"
    }
   ],
   "source": [
    "subs = pd.read_csv('/datasets/subscriptions_go.csv')\n",
    "subs.info()\n",
    "subs.head()"
   ]
  },
  {
   "cell_type": "markdown",
   "id": "1722c054",
   "metadata": {},
   "source": [
    "В нашем распоряжении три таблицы с данными.\n",
    "\n",
    "- Первая таблица содержит уникальную идентификационную информацию о пользователях сервиса. Логично предположить, что количество строк в этой таблице - это количество уникальных пользователей.\n",
    "\n",
    "- Вторая таблица содержит данные о количестве и характеристиках поездок, совершенных пользователями.\n",
    "\n",
    "- Третья таблица учетная - в неё суказана информация о том, какая стоимость использования сервиса действует для двух типов подписки.\n",
    "- Названия столбцов в таблицах достаточно релевантны, сходятся для одинаковых данных в разных таблицах и соответствуют snake_case. Изменений не требуется.\n",
    "- Стоит также отметить, что во всех таблицах отсутствуют какие-либо пропуски.\n"
   ]
  },
  {
   "cell_type": "markdown",
   "id": "277be4ac",
   "metadata": {},
   "source": [
    "## Шаг 2. Предобработка данных"
   ]
  },
  {
   "cell_type": "markdown",
   "id": "376e0843",
   "metadata": {},
   "source": [
    "Как мы отмечали ранее, в столбцах не были обнаружены пропуски, а значит этот этап мы можем пропустить.\n",
    "Далее нам необходимо обработать явные и неявные дубликаты, а также изменить типы столбцов с данными, где это необходимо."
   ]
  },
  {
   "cell_type": "code",
   "execution_count": 5,
   "id": "f40341c3",
   "metadata": {
    "scrolled": false
   },
   "outputs": [
    {
     "name": "stdout",
     "output_type": "stream",
     "text": [
      "      user_id        name  age            city subscription_type\n",
      "1534      293       Агата   26       Краснодар             ultra\n",
      "1535       16      Амалия   27       Краснодар             ultra\n",
      "1536      909  Константин   20    Екатеринбург              free\n",
      "1537      403      Полина   19            Сочи             ultra\n",
      "1538      908      Рустам   30          Тюмень              free\n",
      "1539       43    Стефания   22            Омск             ultra\n",
      "1540      127       Павел   25       Пятигорск             ultra\n",
      "1541      659       Злата   27  Ростов-на-Дону             ultra\n",
      "1542      204      Руслан   30       Пятигорск             ultra\n",
      "1543      153      Герман   23          Москва             ultra\n",
      "1544     1245      Регина   27       Пятигорск              free\n",
      "1545      807   Александр   28    Екатеринбург              free\n",
      "1546      924       Мария   23       Пятигорск              free\n",
      "1547      635      Герман   21          Москва             ultra\n",
      "1548      136     Марсель   25          Тюмень             ultra\n",
      "1549      108       Влада   29          Тюмень             ultra\n",
      "1550      737     Мелания   27  Ростов-на-Дону              free\n",
      "1551      666      Зарина   29          Москва             ultra\n",
      "1552      297        Егор   33       Пятигорск             ultra\n",
      "1553      121       Алина   25       Пятигорск             ultra\n",
      "1554     1198       Демид   29  Ростов-на-Дону              free\n",
      "1555       72      Никита   25          Москва             ultra\n",
      "1556      422      Кирилл   27            Сочи             ultra\n",
      "1557      611    Владимир   28            Омск             ultra\n",
      "1558     1237     Евгения   23          Тюмень              free\n",
      "1559      209      Андрей   23            Омск             ultra\n",
      "1560      829       Федор   29       Пятигорск              free\n",
      "1561      809        Юрий   26            Сочи              free\n",
      "1562      307      Ясмина   19       Краснодар             ultra\n",
      "1563       47        Юрий   28          Тюмень             ultra\n",
      "1564     1045     Артемий   28  Ростов-на-Дону              free\n",
      "Empty DataFrame\n",
      "Columns: [user_id, distance, duration, date]\n",
      "Index: []\n",
      "Empty DataFrame\n",
      "Columns: [subscription_type, minute_price, start_ride_price, subscription_fee]\n",
      "Index: []\n"
     ]
    }
   ],
   "source": [
    "# для начала попробуем найти явные дубликаты\n",
    "data_list = [users, rides, subs]\n",
    "duplicates = []\n",
    "for i in data_list:\n",
    "    print(i[i.duplicated()])\n"
   ]
  },
  {
   "cell_type": "markdown",
   "id": "0f88785d",
   "metadata": {},
   "source": [
    "Как мы видим, явные дубликаты обнаружились только в первой таблице.  \n",
    "Поскольку в ней должны содержаться только уникальные строки с учетными данными пользователей, мы можем смело удалить эти дубликаты."
   ]
  },
  {
   "cell_type": "code",
   "execution_count": 6,
   "id": "bc295204",
   "metadata": {},
   "outputs": [],
   "source": [
    "users = users.drop_duplicates().reset_index(drop=True)\n"
   ]
  },
  {
   "cell_type": "code",
   "execution_count": 7,
   "id": "d520ac3b",
   "metadata": {
    "scrolled": true
   },
   "outputs": [
    {
     "data": {
      "text/plain": [
       "['Агата',\n",
       " 'Аделина',\n",
       " 'Адель',\n",
       " 'Айдар',\n",
       " 'Александр',\n",
       " 'Александра',\n",
       " 'Алексей',\n",
       " 'Алина',\n",
       " 'Алиса',\n",
       " 'Алия',\n",
       " 'Алла',\n",
       " 'Альберт',\n",
       " 'Альбина',\n",
       " 'Алёна',\n",
       " 'Амалия',\n",
       " 'Амина',\n",
       " 'Амир',\n",
       " 'Анастасия',\n",
       " 'Анатолий',\n",
       " 'Ангелина',\n",
       " 'Андрей',\n",
       " 'Анжелика',\n",
       " 'Анна',\n",
       " 'Антон',\n",
       " 'Антонина',\n",
       " 'Ариана',\n",
       " 'Арина',\n",
       " 'Арсен',\n",
       " 'Арсений',\n",
       " 'Артемий',\n",
       " 'Артур',\n",
       " 'Артём',\n",
       " 'Богдан',\n",
       " 'Борис',\n",
       " 'Вадим',\n",
       " 'Валентина',\n",
       " 'Валерий',\n",
       " 'Валерия',\n",
       " 'Варвара',\n",
       " 'Василий',\n",
       " 'Василина',\n",
       " 'Василиса',\n",
       " 'Вера',\n",
       " 'Вероника',\n",
       " 'Виктор',\n",
       " 'Виктория',\n",
       " 'Виолетта',\n",
       " 'Виталий',\n",
       " 'Виталина',\n",
       " 'Влад',\n",
       " 'Влада',\n",
       " 'Владимир',\n",
       " 'Владислав',\n",
       " 'Владислава',\n",
       " 'Всеволод',\n",
       " 'Вячеслав',\n",
       " 'Галина',\n",
       " 'Георгий',\n",
       " 'Герман',\n",
       " 'Глеб',\n",
       " 'Гордей',\n",
       " 'Григорий',\n",
       " 'Давид',\n",
       " 'Дамир',\n",
       " 'Даниил',\n",
       " 'Данил',\n",
       " 'Данила',\n",
       " 'Даниэль',\n",
       " 'Дарина',\n",
       " 'Дарья',\n",
       " 'Демид',\n",
       " 'Денис',\n",
       " 'Диана',\n",
       " 'Дмитрий',\n",
       " 'Ева',\n",
       " 'Евгений',\n",
       " 'Евгения',\n",
       " 'Егор',\n",
       " 'Екатерина',\n",
       " 'Елена',\n",
       " 'Елизавета',\n",
       " 'Елисей',\n",
       " 'Есения',\n",
       " 'Жанна',\n",
       " 'Зарина',\n",
       " 'Захар',\n",
       " 'Злата',\n",
       " 'Иван',\n",
       " 'Игнат',\n",
       " 'Игорь',\n",
       " 'Ильдар',\n",
       " 'Илья',\n",
       " 'Инна',\n",
       " 'Ирина',\n",
       " 'Камилла',\n",
       " 'Карина',\n",
       " 'Каролина',\n",
       " 'Кира',\n",
       " 'Кирилл',\n",
       " 'Константин',\n",
       " 'Кристина',\n",
       " 'Ксения',\n",
       " 'Лариса',\n",
       " 'Лев',\n",
       " 'Леонид',\n",
       " 'Лиана',\n",
       " 'Лидия',\n",
       " 'Лилия',\n",
       " 'Любовь',\n",
       " 'Людмила',\n",
       " 'Мадина',\n",
       " 'Майя',\n",
       " 'Макар',\n",
       " 'Максим',\n",
       " 'Марат',\n",
       " 'Маргарита',\n",
       " 'Марина',\n",
       " 'Мария',\n",
       " 'Марк',\n",
       " 'Марсель',\n",
       " 'Матвей',\n",
       " 'Мелания',\n",
       " 'Милана',\n",
       " 'Милена',\n",
       " 'Мирон',\n",
       " 'Мирослав',\n",
       " 'Мирослава',\n",
       " 'Михаил',\n",
       " 'Назар',\n",
       " 'Наталия',\n",
       " 'Наталья',\n",
       " 'Наташа',\n",
       " 'Нелли',\n",
       " 'Ника',\n",
       " 'Никита',\n",
       " 'Николай',\n",
       " 'Нина',\n",
       " 'Одиссей',\n",
       " 'Оксана',\n",
       " 'Олег',\n",
       " 'Олеся',\n",
       " 'Ольга',\n",
       " 'Павел',\n",
       " 'Петр',\n",
       " 'Платон',\n",
       " 'Полина',\n",
       " 'Радмир',\n",
       " 'Рамиль',\n",
       " 'Регина',\n",
       " 'Роберт',\n",
       " 'Родион',\n",
       " 'Роман',\n",
       " 'Ростислав',\n",
       " 'Руслан',\n",
       " 'Рустам',\n",
       " 'Савелий',\n",
       " 'Самир',\n",
       " 'Самира',\n",
       " 'Светлана',\n",
       " 'Святогор',\n",
       " 'Святослав',\n",
       " 'Семен',\n",
       " 'Сергей',\n",
       " 'Снежана',\n",
       " 'София',\n",
       " 'Софья',\n",
       " 'Станислав',\n",
       " 'Степан',\n",
       " 'Стефания',\n",
       " 'Таисия',\n",
       " 'Тамара',\n",
       " 'Тамерлан',\n",
       " 'Татьяна',\n",
       " 'Тимофей',\n",
       " 'Тимур',\n",
       " 'Тихон',\n",
       " 'Ульяна',\n",
       " 'Федор',\n",
       " 'Эвелина',\n",
       " 'Эдуард',\n",
       " 'Элина',\n",
       " 'Эльвира',\n",
       " 'Эльмира',\n",
       " 'Эмилия',\n",
       " 'Эмиль',\n",
       " 'Юлиана',\n",
       " 'Юлия',\n",
       " 'Юрий',\n",
       " 'Ян',\n",
       " 'Яна',\n",
       " 'Яромир',\n",
       " 'Ярослав',\n",
       " 'Ярослава',\n",
       " 'Ясмина']"
      ]
     },
     "execution_count": 7,
     "metadata": {},
     "output_type": "execute_result"
    }
   ],
   "source": [
    "# теперь проверим на наличие неявных дубликатов\n",
    "a = list(users['name'].unique())\n",
    "sorted(a)\n"
   ]
  },
  {
   "cell_type": "code",
   "execution_count": 8,
   "id": "6de4dc52",
   "metadata": {
    "scrolled": true
   },
   "outputs": [
    {
     "data": {
      "text/plain": [
       "['Екатеринбург',\n",
       " 'Краснодар',\n",
       " 'Москва',\n",
       " 'Омск',\n",
       " 'Пятигорск',\n",
       " 'Ростов-на-Дону',\n",
       " 'Сочи',\n",
       " 'Тюмень']"
      ]
     },
     "execution_count": 8,
     "metadata": {},
     "output_type": "execute_result"
    }
   ],
   "source": [
    "a = list(users['city'].unique())\n",
    "sorted(a)\n"
   ]
  },
  {
   "cell_type": "markdown",
   "id": "c2c3d086",
   "metadata": {},
   "source": [
    "Неявные дубликаты в этих столбцах не обнаружены, а в остальных таблицах нет столбцов, в которых могут встречаться такие дубликаты.  \n",
    "Теперь приведём в соответствие типы столбцов к данным, которые в них содержатся. Большинство столбцов уже не противоречат своему содержанию за исключением столбца date. Переведем его в тип datetime."
   ]
  },
  {
   "cell_type": "code",
   "execution_count": 9,
   "id": "ed0aaebb",
   "metadata": {},
   "outputs": [],
   "source": [
    "rides['date'] = pd.to_datetime(rides['date'])\n"
   ]
  },
  {
   "cell_type": "code",
   "execution_count": 10,
   "id": "f6d5e61e",
   "metadata": {},
   "outputs": [
    {
     "data": {
      "text/plain": [
       "Timestamp('2021-01-01 00:00:00')"
      ]
     },
     "metadata": {},
     "output_type": "display_data"
    },
    {
     "data": {
      "text/plain": [
       "Timestamp('2021-12-30 00:00:00')"
      ]
     },
     "execution_count": 10,
     "metadata": {},
     "output_type": "execute_result"
    }
   ],
   "source": [
    "# проверим, за какой период мы имеем данные\n",
    "display(rides['date'].min())\n",
    "rides['date'].max()\n",
    "# итого мы имеем данные только за один год"
   ]
  },
  {
   "cell_type": "code",
   "execution_count": 11,
   "id": "1bc28cef",
   "metadata": {
    "scrolled": true
   },
   "outputs": [
    {
     "data": {
      "text/html": [
       "<div>\n",
       "<style scoped>\n",
       "    .dataframe tbody tr th:only-of-type {\n",
       "        vertical-align: middle;\n",
       "    }\n",
       "\n",
       "    .dataframe tbody tr th {\n",
       "        vertical-align: top;\n",
       "    }\n",
       "\n",
       "    .dataframe thead th {\n",
       "        text-align: right;\n",
       "    }\n",
       "</style>\n",
       "<table border=\"1\" class=\"dataframe\">\n",
       "  <thead>\n",
       "    <tr style=\"text-align: right;\">\n",
       "      <th></th>\n",
       "      <th>user_id</th>\n",
       "      <th>distance</th>\n",
       "      <th>duration</th>\n",
       "      <th>date</th>\n",
       "      <th>date_month</th>\n",
       "    </tr>\n",
       "  </thead>\n",
       "  <tbody>\n",
       "    <tr>\n",
       "      <th>0</th>\n",
       "      <td>1</td>\n",
       "      <td>4409.919140</td>\n",
       "      <td>25.599769</td>\n",
       "      <td>2021-01-01</td>\n",
       "      <td>1</td>\n",
       "    </tr>\n",
       "    <tr>\n",
       "      <th>1</th>\n",
       "      <td>1</td>\n",
       "      <td>2617.592153</td>\n",
       "      <td>15.816871</td>\n",
       "      <td>2021-01-18</td>\n",
       "      <td>1</td>\n",
       "    </tr>\n",
       "    <tr>\n",
       "      <th>2</th>\n",
       "      <td>1</td>\n",
       "      <td>754.159807</td>\n",
       "      <td>6.232113</td>\n",
       "      <td>2021-04-20</td>\n",
       "      <td>4</td>\n",
       "    </tr>\n",
       "    <tr>\n",
       "      <th>3</th>\n",
       "      <td>1</td>\n",
       "      <td>2694.783254</td>\n",
       "      <td>18.511000</td>\n",
       "      <td>2021-08-11</td>\n",
       "      <td>8</td>\n",
       "    </tr>\n",
       "    <tr>\n",
       "      <th>4</th>\n",
       "      <td>1</td>\n",
       "      <td>4028.687306</td>\n",
       "      <td>26.265803</td>\n",
       "      <td>2021-08-28</td>\n",
       "      <td>8</td>\n",
       "    </tr>\n",
       "  </tbody>\n",
       "</table>\n",
       "</div>"
      ],
      "text/plain": [
       "   user_id     distance   duration       date  date_month\n",
       "0        1  4409.919140  25.599769 2021-01-01           1\n",
       "1        1  2617.592153  15.816871 2021-01-18           1\n",
       "2        1   754.159807   6.232113 2021-04-20           4\n",
       "3        1  2694.783254  18.511000 2021-08-11           8\n",
       "4        1  4028.687306  26.265803 2021-08-28           8"
      ]
     },
     "execution_count": 11,
     "metadata": {},
     "output_type": "execute_result"
    }
   ],
   "source": [
    "# создадим новый столбец, в котором будут храниться месяцы, в которых были совершены поездки\n",
    "rides['date_month'] = rides['date'].dt.month\n",
    "rides.head()\n"
   ]
  },
  {
   "cell_type": "markdown",
   "id": "6b4a065e",
   "metadata": {},
   "source": [
    "Предобработка данных завершена.\n",
    "- Мы проверили имеющиеся таблицы на наличие пропусков. Они отсутствуют;\n",
    "- Оценили наличие явных и неявных дубликатов. Явные дубликаты были удалены, неявные - не обнаружены;\n",
    "- Привели типы столбцов в соответствие с содержащимися в них данными. Изменили столбец date на тип datetime и добавили отдельный столбец с номером месяца совершения поездки."
   ]
  },
  {
   "cell_type": "markdown",
   "id": "7233c265",
   "metadata": {},
   "source": [
    "## Шаг 3. Исследовательский анализ данных"
   ]
  },
  {
   "cell_type": "markdown",
   "id": "1556c16e",
   "metadata": {},
   "source": [
    "В исследовательской части нашего проекта нам небходимо оценить и визуализировать следующие параметры:\n",
    "1. Частота встречаемости городов;\n",
    "2. Соотношение пользователей с подпиской и без подписки;\n",
    "3. Возраст пользователей;\n",
    "4. Расстояние, которое пользователь преодолел за одну поездку;\n",
    "5. Продолжительность поездок.\n",
    "\n",
    "Начнём по порядку."
   ]
  },
  {
   "cell_type": "code",
   "execution_count": 12,
   "id": "d367958a",
   "metadata": {
    "scrolled": false
   },
   "outputs": [
    {
     "data": {
      "image/png": "[encoded data removed]",
      "text/plain": [
       "<Figure size 432x288 with 1 Axes>"
      ]
     },
     "metadata": {
      "needs_background": "light"
     },
     "output_type": "display_data"
    },
    {
     "data": {
      "text/plain": [
       "count      8.000000\n",
       "mean     191.750000\n",
       "std       15.672998\n",
       "min      168.000000\n",
       "25%      182.250000\n",
       "50%      191.000000\n",
       "75%      199.500000\n",
       "max      219.000000\n",
       "Name: city, dtype: float64"
      ]
     },
     "execution_count": 12,
     "metadata": {},
     "output_type": "execute_result"
    }
   ],
   "source": [
    "users['city'].value_counts().plot.barh(\n",
    "    title='Количество поездок по городам',\n",
    "    xlim=(140, 230),\n",
    "    grid=True\n",
    ")\n",
    "plt.xlabel('Количество поездок')\n",
    "plt.ylabel('Название города')\n",
    "plt.show()\n",
    "\n",
    "users['city'].value_counts().describe()\n"
   ]
  },
  {
   "cell_type": "markdown",
   "id": "3f16c965",
   "metadata": {},
   "source": [
    "Как мы видим, наибольшее количество пользователей у нас в Пятигорске (219), наименьшее - в Москве (168). В среднем количество пользователей равно 194 со стандартным отклонением в 15,7. Различия между городами в количестве пользователей довольно невелико."
   ]
  },
  {
   "cell_type": "code",
   "execution_count": 13,
   "id": "e4a018d4",
   "metadata": {},
   "outputs": [
    {
     "data": {
      "text/plain": [
       "count      2.000000\n",
       "mean     767.000000\n",
       "std       96.166522\n",
       "min      699.000000\n",
       "25%      733.000000\n",
       "50%      767.000000\n",
       "75%      801.000000\n",
       "max      835.000000\n",
       "Name: subscription_type, dtype: float64"
      ]
     },
     "execution_count": 13,
     "metadata": {},
     "output_type": "execute_result"
    },
    {
     "data": {
      "image/png": "[encoded data removed]",
      "text/plain": [
       "<Figure size 432x432 with 1 Axes>"
      ]
     },
     "metadata": {},
     "output_type": "display_data"
    }
   ],
   "source": [
    "plt.figure(figsize=(6,6))\n",
    "\n",
    "plt.pie(users['subscription_type'].value_counts(),\n",
    "    labels=users['subscription_type'].unique(),\n",
    "    autopct='%1.1f%%',\n",
    "    textprops={'fontsize':14},\n",
    ")\n",
    "\n",
    "plt.title(\n",
    "    label=\"Количество пользователей с разными типами подписки\", \n",
    "    fontdict={\"fontsize\":16},\n",
    "    pad=20\n",
    ")\n",
    "\n",
    "users['subscription_type'].value_counts().describe()"
   ]
  },
  {
   "cell_type": "markdown",
   "id": "bcfce88e",
   "metadata": {},
   "source": [
    "Как мы видим, пользователей без подписки чуть больше чем тех, кто имеет подписку - 835 против 699."
   ]
  },
  {
   "cell_type": "code",
   "execution_count": 14,
   "id": "023fed6c",
   "metadata": {
    "scrolled": false
   },
   "outputs": [
    {
     "data": {
      "text/plain": [
       "<BarContainer object of 29 artists>"
      ]
     },
     "execution_count": 14,
     "metadata": {},
     "output_type": "execute_result"
    },
    {
     "data": {
      "image/png": "[encoded data removed]",
      "text/plain": [
       "<Figure size 720x432 with 1 Axes>"
      ]
     },
     "metadata": {
      "needs_background": "light"
     },
     "output_type": "display_data"
    }
   ],
   "source": [
    "# теперь рассмотрим \n",
    "a = users.groupby('age')['user_id'].count()\n",
    "b = a.index\n",
    "\n",
    "\n",
    "plt.figure(figsize=(10, 6))\n",
    "plt.title(\n",
    "    label=\"Распределение возраста пользователей\", \n",
    "    fontdict={\"fontsize\":16},\n",
    "    pad=20\n",
    ")\n",
    "plt.bar(b, a)\n"
   ]
  },
  {
   "cell_type": "code",
   "execution_count": 15,
   "id": "6850c980",
   "metadata": {},
   "outputs": [
    {
     "data": {
      "image/png": "[encoded data removed]",
      "text/plain": [
       "<Figure size 792x504 with 1 Axes>"
      ]
     },
     "metadata": {
      "needs_background": "light"
     },
     "output_type": "display_data"
    }
   ],
   "source": [
    "# код ревьюера\n",
    "\n",
    "plt.figure(figsize=(11,7))\n",
    "users.groupby('age')['user_id'].count().plot(kind='bar')\n",
    "\n",
    "plt.title('Название графика')\n",
    "plt.ylabel('Ось у')\n",
    "plt.xlabel('Ось х')\n",
    "plt.xticks(rotation=0)\n",
    "plt.show()"
   ]
  },
  {
   "cell_type": "code",
   "execution_count": 16,
   "id": "35ee9505",
   "metadata": {},
   "outputs": [
    {
     "data": {
      "text/plain": [
       "count     29.000000\n",
       "mean      52.896552\n",
       "std       48.824280\n",
       "min        1.000000\n",
       "25%        9.000000\n",
       "50%       41.000000\n",
       "75%       93.000000\n",
       "max      145.000000\n",
       "Name: user_id, dtype: float64"
      ]
     },
     "execution_count": 16,
     "metadata": {},
     "output_type": "execute_result"
    }
   ],
   "source": [
    "a.describe()"
   ]
  },
  {
   "cell_type": "markdown",
   "id": "bd43cfdf",
   "metadata": {},
   "source": [
    "Наиболее часто встречающийся возраст пользователей - 25 лет. Таких пользователей 145. Наиболее редко встречающийся - 39 и 43 года (по 1 пользователю). Всего в таблице имеется 29 различных возрастов от 12 до 43 лет."
   ]
  },
  {
   "cell_type": "code",
   "execution_count": 17,
   "id": "0ad6ece4",
   "metadata": {},
   "outputs": [
    {
     "data": {
      "text/plain": [
       "count    18068.000000\n",
       "mean      3070.659976\n",
       "std       1116.831209\n",
       "min          0.855683\n",
       "25%       2543.226360\n",
       "50%       3133.609994\n",
       "75%       3776.222735\n",
       "max       7211.007745\n",
       "Name: distance, dtype: float64"
      ]
     },
     "execution_count": 17,
     "metadata": {},
     "output_type": "execute_result"
    },
    {
     "data": {
      "image/png": "[encoded data removed]",
      "text/plain": [
       "<Figure size 432x288 with 1 Axes>"
      ]
     },
     "metadata": {
      "needs_background": "light"
     },
     "output_type": "display_data"
    }
   ],
   "source": [
    "rides['distance'].hist(bins=50)\n",
    "rides['distance'].describe()"
   ]
  },
  {
   "cell_type": "markdown",
   "id": "5a695d41",
   "metadata": {},
   "source": [
    "Гистограмма даьности поездок говорит нам о том, что большинство пользователей перемещаются в среднем на расстояние около 3 километров. \n",
    "- Средняя дальность - 3070;\n",
    "- Медиана - 3133;\n",
    "- Стандартное отклонение - 1116;\n",
    "- Расстояние варьируется от 0,86 до 7211 метров."
   ]
  },
  {
   "cell_type": "code",
   "execution_count": 18,
   "id": "a591b3f1",
   "metadata": {},
   "outputs": [
    {
     "data": {
      "image/png": "[encoded data removed]",
      "text/plain": [
       "<Figure size 432x288 with 1 Axes>"
      ]
     },
     "metadata": {
      "needs_background": "light"
     },
     "output_type": "display_data"
    },
    {
     "data": {
      "text/plain": [
       "count    18068.000000\n",
       "mean        17.805011\n",
       "std          6.091051\n",
       "min          0.500000\n",
       "25%         13.597563\n",
       "50%         17.678395\n",
       "75%         21.724800\n",
       "max         40.823963\n",
       "Name: duration, dtype: float64"
      ]
     },
     "execution_count": 18,
     "metadata": {},
     "output_type": "execute_result"
    }
   ],
   "source": [
    "rides['duration'].hist(bins=50)\n",
    "plt.title('Гистограмма длительности поездок')\n",
    "plt.xlabel('Длительность поездок, мин.')\n",
    "plt.ylabel('Количество поездок')\n",
    "plt.show()\n",
    "\n",
    "rides['duration'].describe()"
   ]
  },
  {
   "cell_type": "code",
   "execution_count": 19,
   "id": "ee4ef511",
   "metadata": {},
   "outputs": [
    {
     "data": {
      "text/html": [
       "<div>\n",
       "<style scoped>\n",
       "    .dataframe tbody tr th:only-of-type {\n",
       "        vertical-align: middle;\n",
       "    }\n",
       "\n",
       "    .dataframe tbody tr th {\n",
       "        vertical-align: top;\n",
       "    }\n",
       "\n",
       "    .dataframe thead th {\n",
       "        text-align: right;\n",
       "    }\n",
       "</style>\n",
       "<table border=\"1\" class=\"dataframe\">\n",
       "  <thead>\n",
       "    <tr style=\"text-align: right;\">\n",
       "      <th></th>\n",
       "      <th>user_id</th>\n",
       "      <th>distance</th>\n",
       "      <th>duration</th>\n",
       "      <th>date</th>\n",
       "      <th>date_month</th>\n",
       "    </tr>\n",
       "  </thead>\n",
       "  <tbody>\n",
       "    <tr>\n",
       "      <th>6531</th>\n",
       "      <td>701</td>\n",
       "      <td>4196.445201</td>\n",
       "      <td>0.5</td>\n",
       "      <td>2021-08-31</td>\n",
       "      <td>8</td>\n",
       "    </tr>\n",
       "    <tr>\n",
       "      <th>6570</th>\n",
       "      <td>704</td>\n",
       "      <td>4830.824371</td>\n",
       "      <td>0.5</td>\n",
       "      <td>2021-10-14</td>\n",
       "      <td>10</td>\n",
       "    </tr>\n",
       "    <tr>\n",
       "      <th>6680</th>\n",
       "      <td>712</td>\n",
       "      <td>4684.004397</td>\n",
       "      <td>0.5</td>\n",
       "      <td>2021-03-04</td>\n",
       "      <td>3</td>\n",
       "    </tr>\n",
       "    <tr>\n",
       "      <th>6695</th>\n",
       "      <td>713</td>\n",
       "      <td>5215.642710</td>\n",
       "      <td>0.5</td>\n",
       "      <td>2021-02-25</td>\n",
       "      <td>2</td>\n",
       "    </tr>\n",
       "    <tr>\n",
       "      <th>6768</th>\n",
       "      <td>718</td>\n",
       "      <td>5197.436649</td>\n",
       "      <td>0.5</td>\n",
       "      <td>2021-02-11</td>\n",
       "      <td>2</td>\n",
       "    </tr>\n",
       "    <tr>\n",
       "      <th>...</th>\n",
       "      <td>...</td>\n",
       "      <td>...</td>\n",
       "      <td>...</td>\n",
       "      <td>...</td>\n",
       "      <td>...</td>\n",
       "    </tr>\n",
       "    <tr>\n",
       "      <th>17004</th>\n",
       "      <td>1460</td>\n",
       "      <td>5531.335845</td>\n",
       "      <td>0.5</td>\n",
       "      <td>2021-01-19</td>\n",
       "      <td>1</td>\n",
       "    </tr>\n",
       "    <tr>\n",
       "      <th>17242</th>\n",
       "      <td>1477</td>\n",
       "      <td>6724.932981</td>\n",
       "      <td>0.5</td>\n",
       "      <td>2021-01-12</td>\n",
       "      <td>1</td>\n",
       "    </tr>\n",
       "    <tr>\n",
       "      <th>17314</th>\n",
       "      <td>1483</td>\n",
       "      <td>4445.481070</td>\n",
       "      <td>0.5</td>\n",
       "      <td>2021-03-06</td>\n",
       "      <td>3</td>\n",
       "    </tr>\n",
       "    <tr>\n",
       "      <th>17505</th>\n",
       "      <td>1496</td>\n",
       "      <td>5722.551787</td>\n",
       "      <td>0.5</td>\n",
       "      <td>2021-02-14</td>\n",
       "      <td>2</td>\n",
       "    </tr>\n",
       "    <tr>\n",
       "      <th>17909</th>\n",
       "      <td>1524</td>\n",
       "      <td>4103.998874</td>\n",
       "      <td>0.5</td>\n",
       "      <td>2021-06-18</td>\n",
       "      <td>6</td>\n",
       "    </tr>\n",
       "  </tbody>\n",
       "</table>\n",
       "<p>95 rows × 5 columns</p>\n",
       "</div>"
      ],
      "text/plain": [
       "       user_id     distance  duration       date  date_month\n",
       "6531       701  4196.445201       0.5 2021-08-31           8\n",
       "6570       704  4830.824371       0.5 2021-10-14          10\n",
       "6680       712  4684.004397       0.5 2021-03-04           3\n",
       "6695       713  5215.642710       0.5 2021-02-25           2\n",
       "6768       718  5197.436649       0.5 2021-02-11           2\n",
       "...        ...          ...       ...        ...         ...\n",
       "17004     1460  5531.335845       0.5 2021-01-19           1\n",
       "17242     1477  6724.932981       0.5 2021-01-12           1\n",
       "17314     1483  4445.481070       0.5 2021-03-06           3\n",
       "17505     1496  5722.551787       0.5 2021-02-14           2\n",
       "17909     1524  4103.998874       0.5 2021-06-18           6\n",
       "\n",
       "[95 rows x 5 columns]"
      ]
     },
     "metadata": {},
     "output_type": "display_data"
    },
    {
     "data": {
      "text/plain": [
       "array([0.5])"
      ]
     },
     "metadata": {},
     "output_type": "display_data"
    },
    {
     "data": {
      "text/plain": [
       "5113.176548536017"
      ]
     },
     "execution_count": 19,
     "metadata": {},
     "output_type": "execute_result"
    }
   ],
   "source": [
    "display(rides[rides['duration'] < 2])\n",
    "display(rides[rides['duration'] < 2]['duration'].unique())\n",
    "rides[rides['duration'] < 2]['distance'].mean()"
   ]
  },
  {
   "cell_type": "markdown",
   "id": "ab598d0b",
   "metadata": {},
   "source": [
    "Исследовав более подробно этот пик около нуля, мы видим, что в нём содержатся 95 строк, длительность поездки в каждой из которых == 0.5, хотя расстояние у каждой поездки отличается. Более того, среднее расстояние для таких поездок более 5000 метров, что явно не соответствует указанной длительности.  \n",
    "Так как количетство аномалий невелико, мы можем просто отбросить эти данные, чтобы уменьшить их влияние на дальнейший анализ."
   ]
  },
  {
   "cell_type": "code",
   "execution_count": 20,
   "id": "0424064b",
   "metadata": {},
   "outputs": [
    {
     "data": {
      "image/png": "[encoded data removed]",
      "text/plain": [
       "<Figure size 432x288 with 1 Axes>"
      ]
     },
     "metadata": {
      "needs_background": "light"
     },
     "output_type": "display_data"
    },
    {
     "data": {
      "text/plain": [
       "count    17973.000000\n",
       "mean        17.896480\n",
       "std          5.975424\n",
       "min          2.035632\n",
       "25%         13.670439\n",
       "50%         17.714122\n",
       "75%         21.747016\n",
       "max         40.823963\n",
       "Name: duration, dtype: float64"
      ]
     },
     "execution_count": 20,
     "metadata": {},
     "output_type": "execute_result"
    }
   ],
   "source": [
    "rides = rides[rides['duration'] >= 2]\n",
    "\n",
    "rides['duration'].hist(bins=50)\n",
    "plt.title('Гистограмма длительности поездок')\n",
    "plt.xlabel('Длительность поездок, мин.')\n",
    "plt.ylabel('Количество поездок')\n",
    "plt.show()\n",
    "\n",
    "rides['duration'].describe()"
   ]
  },
  {
   "cell_type": "markdown",
   "id": "275eda21",
   "metadata": {},
   "source": [
    "Продолжительность поездок в среднем составляет от 15 до 20 минут. \n",
    "- Средняя длительность - 17,8;\n",
    "- Медиана - 17,7;\n",
    "- Максимальная зафиксированная длительность - 41 минута, минимальная - 2,03;\n",
    "- Стандартное отклонение - 5,97. \n",
    "\n",
    "Также виден небольшой пик около нуля. Возможно, он соответствует тем случаям, когда самокат взяли по ошибке, либо для того, чтобы добраться до другого самоката."
   ]
  },
  {
   "cell_type": "markdown",
   "id": "fb0f07eb",
   "metadata": {},
   "source": [
    "## Шаг 4. Объединение данных"
   ]
  },
  {
   "cell_type": "markdown",
   "id": "30bdc59e",
   "metadata": {},
   "source": [
    "Теперь объединим данные из всех трёх датафреймов в один."
   ]
  },
  {
   "cell_type": "code",
   "execution_count": 21,
   "id": "13115a81",
   "metadata": {
    "scrolled": false
   },
   "outputs": [
    {
     "name": "stdout",
     "output_type": "stream",
     "text": [
      "<class 'pandas.core.frame.DataFrame'>\n",
      "Int64Index: 17973 entries, 0 to 17972\n",
      "Data columns (total 12 columns):\n",
      " #   Column             Non-Null Count  Dtype         \n",
      "---  ------             --------------  -----         \n",
      " 0   user_id            17973 non-null  int64         \n",
      " 1   distance           17973 non-null  float64       \n",
      " 2   duration           17973 non-null  float64       \n",
      " 3   date               17973 non-null  datetime64[ns]\n",
      " 4   date_month         17973 non-null  int64         \n",
      " 5   name               17973 non-null  object        \n",
      " 6   age                17973 non-null  int64         \n",
      " 7   city               17973 non-null  object        \n",
      " 8   subscription_type  17973 non-null  object        \n",
      " 9   minute_price       17973 non-null  int64         \n",
      " 10  start_ride_price   17973 non-null  int64         \n",
      " 11  subscription_fee   17973 non-null  int64         \n",
      "dtypes: datetime64[ns](1), float64(2), int64(6), object(3)\n",
      "memory usage: 1.8+ MB\n"
     ]
    }
   ],
   "source": [
    "data = rides.merge(users, on='user_id')\n",
    "data = data.merge(subs, on='subscription_type')\n",
    "data.info()\n"
   ]
  },
  {
   "cell_type": "markdown",
   "id": "8ba38d86",
   "metadata": {},
   "source": [
    "Количество строк в получившейся таблице соответствует размерности таблицы rides, в которую мы добавляли данные. Соответственно, мы ничего не потеряли и не добавили лишнего."
   ]
  },
  {
   "cell_type": "markdown",
   "id": "f736d9b5",
   "metadata": {},
   "source": [
    "Теперь выделим два отдельных датафрейма для пользователей с подпиской (ultra) и без (free) и визуализируем информацию о расстоянии и времени поездок для пользователей обеих категорий."
   ]
  },
  {
   "cell_type": "code",
   "execution_count": 22,
   "id": "bcf49494",
   "metadata": {
    "scrolled": true
   },
   "outputs": [
    {
     "name": "stdout",
     "output_type": "stream",
     "text": [
      "<class 'pandas.core.frame.DataFrame'>\n",
      "Int64Index: 11473 entries, 6500 to 17972\n",
      "Data columns (total 12 columns):\n",
      " #   Column             Non-Null Count  Dtype         \n",
      "---  ------             --------------  -----         \n",
      " 0   user_id            11473 non-null  int64         \n",
      " 1   distance           11473 non-null  float64       \n",
      " 2   duration           11473 non-null  float64       \n",
      " 3   date               11473 non-null  datetime64[ns]\n",
      " 4   date_month         11473 non-null  int64         \n",
      " 5   name               11473 non-null  object        \n",
      " 6   age                11473 non-null  int64         \n",
      " 7   city               11473 non-null  object        \n",
      " 8   subscription_type  11473 non-null  object        \n",
      " 9   minute_price       11473 non-null  int64         \n",
      " 10  start_ride_price   11473 non-null  int64         \n",
      " 11  subscription_fee   11473 non-null  int64         \n",
      "dtypes: datetime64[ns](1), float64(2), int64(6), object(3)\n",
      "memory usage: 1.1+ MB\n"
     ]
    }
   ],
   "source": [
    "data_free = data[data['subscription_type'] == 'free']\n",
    "data_free.info()"
   ]
  },
  {
   "cell_type": "code",
   "execution_count": 23,
   "id": "1f0fa7d2",
   "metadata": {
    "scrolled": false
   },
   "outputs": [
    {
     "data": {
      "image/png": "[encoded data removed]",
      "text/plain": [
       "<Figure size 432x288 with 1 Axes>"
      ]
     },
     "metadata": {
      "needs_background": "light"
     },
     "output_type": "display_data"
    },
    {
     "data": {
      "text/plain": [
       "count    11473.000000\n",
       "mean      3028.374239\n",
       "std       1235.541051\n",
       "min          0.855683\n",
       "25%       2360.878149\n",
       "50%       3102.083025\n",
       "75%       3883.979311\n",
       "max       7066.003772\n",
       "Name: distance, dtype: float64"
      ]
     },
     "execution_count": 23,
     "metadata": {},
     "output_type": "execute_result"
    }
   ],
   "source": [
    "data_free['distance'].hist(bins=50)\n",
    "plt.title('Гистограмма дальности поездок пользователей с подпиской free')\n",
    "plt.xlabel('Дальность поездок, м.')\n",
    "plt.ylabel('Количество поездок')\n",
    "plt.show()\n",
    "\n",
    "data_free['distance'].describe()"
   ]
  },
  {
   "cell_type": "markdown",
   "id": "8a8f5885",
   "metadata": {},
   "source": [
    "По этому графику мы видим, что характеристики распределения дальности поездок только для пользователей без подписки практически не изменились:\n",
    "- Средняя дальность - 3028 против 3070;\n",
    "- Медиана - 3102 против 3133;\n",
    "- Стандартное отклонение - 1235 против 1116;\n",
    "- Расстояние варьируется от 0,86 до 7066 метров."
   ]
  },
  {
   "cell_type": "code",
   "execution_count": 24,
   "id": "77a67f06",
   "metadata": {},
   "outputs": [
    {
     "data": {
      "image/png": "[encoded data removed]",
      "text/plain": [
       "<Figure size 432x288 with 1 Axes>"
      ]
     },
     "metadata": {
      "needs_background": "light"
     },
     "output_type": "display_data"
    },
    {
     "data": {
      "text/plain": [
       "count    11473.000000\n",
       "mean        17.530771\n",
       "std          6.162609\n",
       "min          2.035632\n",
       "25%         13.085688\n",
       "50%         17.383807\n",
       "75%         21.638038\n",
       "max         34.948498\n",
       "Name: duration, dtype: float64"
      ]
     },
     "execution_count": 24,
     "metadata": {},
     "output_type": "execute_result"
    }
   ],
   "source": [
    "data_free['duration'].hist(bins=50)\n",
    "plt.title('Гистограмма длительности поездок пользователей с подпиской free')\n",
    "plt.xlabel('Длительность поездок, мин.')\n",
    "plt.ylabel('Количество поездок')\n",
    "plt.show()\n",
    "\n",
    "data_free['duration'].describe()"
   ]
  },
  {
   "cell_type": "markdown",
   "id": "1cc98414",
   "metadata": {},
   "source": [
    "Продолжительности поездок также не претерпели больших изменений.\n",
    "\n",
    "- Средняя длительность - 17,5 против 17,8 у общей выборки;\n",
    "- Медиана - 17,4 против 17,7;\n",
    "- Максимальная зафиксированная длительность - 35 минута, минимальная - 2.0;\n",
    "- Стандартное отклонение - 6,16 против 6.09. "
   ]
  },
  {
   "cell_type": "code",
   "execution_count": 25,
   "id": "9323229d",
   "metadata": {},
   "outputs": [
    {
     "name": "stdout",
     "output_type": "stream",
     "text": [
      "<class 'pandas.core.frame.DataFrame'>\n",
      "Int64Index: 6500 entries, 0 to 6499\n",
      "Data columns (total 12 columns):\n",
      " #   Column             Non-Null Count  Dtype         \n",
      "---  ------             --------------  -----         \n",
      " 0   user_id            6500 non-null   int64         \n",
      " 1   distance           6500 non-null   float64       \n",
      " 2   duration           6500 non-null   float64       \n",
      " 3   date               6500 non-null   datetime64[ns]\n",
      " 4   date_month         6500 non-null   int64         \n",
      " 5   name               6500 non-null   object        \n",
      " 6   age                6500 non-null   int64         \n",
      " 7   city               6500 non-null   object        \n",
      " 8   subscription_type  6500 non-null   object        \n",
      " 9   minute_price       6500 non-null   int64         \n",
      " 10  start_ride_price   6500 non-null   int64         \n",
      " 11  subscription_fee   6500 non-null   int64         \n",
      "dtypes: datetime64[ns](1), float64(2), int64(6), object(3)\n",
      "memory usage: 660.2+ KB\n"
     ]
    }
   ],
   "source": [
    "data_ultra = data[data['subscription_type'] == 'ultra']\n",
    "data_ultra.info()"
   ]
  },
  {
   "cell_type": "code",
   "execution_count": 26,
   "id": "6c69526e",
   "metadata": {},
   "outputs": [
    {
     "data": {
      "image/png": "[encoded data removed]",
      "text/plain": [
       "<Figure size 432x288 with 1 Axes>"
      ]
     },
     "metadata": {
      "needs_background": "light"
     },
     "output_type": "display_data"
    },
    {
     "data": {
      "text/plain": [
       "count    6500.000000\n",
       "mean     3115.445388\n",
       "std       836.895330\n",
       "min       244.210438\n",
       "25%      2785.444017\n",
       "50%      3148.637229\n",
       "75%      3560.574425\n",
       "max      5699.769662\n",
       "Name: distance, dtype: float64"
      ]
     },
     "execution_count": 26,
     "metadata": {},
     "output_type": "execute_result"
    }
   ],
   "source": [
    "data_ultra['distance'].hist(bins=50)\n",
    "plt.title('Гистограмма дальности поездок пользователей с подпиской ultra')\n",
    "plt.xlabel('Дальность поездок, м.')\n",
    "plt.ylabel('Количество поездок')\n",
    "plt.show()\n",
    "\n",
    "data_ultra['distance'].describe()"
   ]
  },
  {
   "cell_type": "markdown",
   "id": "560c404d",
   "metadata": {},
   "source": [
    "А вот данные для пользователей с подпиской:\n",
    "- Средняя дальность - 3115 против 3070;\n",
    "- Медиана - 3148 против 3133;\n",
    "- Стандартное отклонение - 836 против 1116;\n",
    "- Расстояние варьируется от 244 до 5699 метров.   \n",
    "\n",
    "Мы видим, что хоть среднее и медиана также практически не отличаются, но вот разброс показателей значительно уменьшился - стандартное отклонение практически на 25% меньше аналогичного показателя общей выборки."
   ]
  },
  {
   "cell_type": "code",
   "execution_count": 27,
   "id": "48e1a1f1",
   "metadata": {},
   "outputs": [
    {
     "data": {
      "image/png": "[encoded data removed]",
      "text/plain": [
       "<Figure size 432x288 with 1 Axes>"
      ]
     },
     "metadata": {
      "needs_background": "light"
     },
     "output_type": "display_data"
    },
    {
     "data": {
      "text/plain": [
       "count    6500.000000\n",
       "mean       18.541985\n",
       "std         5.572048\n",
       "min         3.760353\n",
       "25%        14.524654\n",
       "50%        18.178153\n",
       "75%        21.884129\n",
       "max        40.823963\n",
       "Name: duration, dtype: float64"
      ]
     },
     "execution_count": 27,
     "metadata": {},
     "output_type": "execute_result"
    }
   ],
   "source": [
    "data_ultra['duration'].hist(bins=50)\n",
    "plt.title('Гистограмма длительности поездок пользователей с подпиской ultra')\n",
    "plt.xlabel('Длительность поездок, мин.')\n",
    "plt.ylabel('Количество поездок')\n",
    "plt.show()\n",
    "\n",
    "data_ultra['duration'].describe()"
   ]
  },
  {
   "cell_type": "markdown",
   "id": "36fac58e",
   "metadata": {},
   "source": [
    "Теперь рассмотрим показатели распределения длительности поездок пользователей с подпиской:\n",
    "- Средняя длительность - 18,5 против 17,8 у общей выборки;\n",
    "- Медиана - 18,18 против 17,7;\n",
    "- Максимальная зафиксированная длительность - 41 минута, минимальная - 3.8;\n",
    "- Стандартное отклонение - 5,6 против 6.09. \n"
   ]
  },
  {
   "cell_type": "code",
   "execution_count": 28,
   "id": "8aae8ba3",
   "metadata": {},
   "outputs": [
    {
     "data": {
      "image/png": "[encoded data removed]",
      "text/plain": [
       "<Figure size 432x288 with 1 Axes>"
      ]
     },
     "metadata": {
      "needs_background": "light"
     },
     "output_type": "display_data"
    }
   ],
   "source": [
    "data_free['distance'].hist(bins=50)\n",
    "data_ultra['distance'].hist(bins=50)\n",
    "plt.title('Гистограмма длительности поездок пользователей с разным типом подписки')\n",
    "plt.xlabel('Длительность поездок, мин.')\n",
    "plt.ylabel('Количество поездок')\n",
    "plt.legend(['free', 'ultra'])\n",
    "plt.show()"
   ]
  },
  {
   "cell_type": "code",
   "execution_count": 29,
   "id": "ce4cd53d",
   "metadata": {},
   "outputs": [
    {
     "data": {
      "image/png": "[encoded data removed]",
      "text/plain": [
       "<Figure size 432x288 with 1 Axes>"
      ]
     },
     "metadata": {
      "needs_background": "light"
     },
     "output_type": "display_data"
    }
   ],
   "source": [
    "data_free['duration'].hist(bins=50)\n",
    "data_ultra['duration'].hist(bins=50)\n",
    "\n",
    "plt.title('Гистограмма длительности поездок пользователей с разным типом подписки')\n",
    "plt.xlabel('Длительность поездок, мин.')\n",
    "plt.ylabel('Количество поездок')\n",
    "plt.legend(['free', 'ultra'])\n",
    "plt.show()"
   ]
  },
  {
   "cell_type": "markdown",
   "id": "1a3822af",
   "metadata": {},
   "source": [
    "**Промежуточный вывод:**  \n",
    "Итак, мы разделили наш датасет по признаку наличия подписки у пользователя и визуализировали полученные показатели длительности и дальности поездок. Средняя длительность и медиана у пользователей с подпиской чуть выше чем у пользователей без подписки, а стандартное отклонение - меньше. Необходимо  оценить, действительно ли эта разница статистически значима. "
   ]
  },
  {
   "cell_type": "markdown",
   "id": "d0c843fd",
   "metadata": {},
   "source": [
    "## Шаг 5. Подсчёт выручки"
   ]
  },
  {
   "cell_type": "markdown",
   "id": "546f3ed3",
   "metadata": {},
   "source": [
    "На данном этапе нам необходимо создать датафрейм с агрегированными данными о поездках на основе датафрейма с объединёнными данными, а также найти для каждого пользователя за каждый месяц:\n",
    "- Суммарное расстояние;\n",
    "- Количество поездок;\n",
    "- Суммарное время.\n",
    "\n",
    "Затем добавим столбец с помесячной выручкой, которую принёс каждый пользователь, с учетом того, какой вид подписки имеет пользователь."
   ]
  },
  {
   "cell_type": "code",
   "execution_count": 30,
   "id": "d43e4775",
   "metadata": {},
   "outputs": [
    {
     "data": {
      "text/html": [
       "<div>\n",
       "<style scoped>\n",
       "    .dataframe tbody tr th:only-of-type {\n",
       "        vertical-align: middle;\n",
       "    }\n",
       "\n",
       "    .dataframe tbody tr th {\n",
       "        vertical-align: top;\n",
       "    }\n",
       "\n",
       "    .dataframe thead th {\n",
       "        text-align: right;\n",
       "    }\n",
       "</style>\n",
       "<table border=\"1\" class=\"dataframe\">\n",
       "  <thead>\n",
       "    <tr style=\"text-align: right;\">\n",
       "      <th></th>\n",
       "      <th></th>\n",
       "      <th>distance</th>\n",
       "      <th>duration</th>\n",
       "    </tr>\n",
       "    <tr>\n",
       "      <th>user_id</th>\n",
       "      <th>date_month</th>\n",
       "      <th></th>\n",
       "      <th></th>\n",
       "    </tr>\n",
       "  </thead>\n",
       "  <tbody>\n",
       "    <tr>\n",
       "      <th rowspan=\"5\" valign=\"top\">1</th>\n",
       "      <th>1</th>\n",
       "      <td>7027.511294</td>\n",
       "      <td>41.416640</td>\n",
       "    </tr>\n",
       "    <tr>\n",
       "      <th>4</th>\n",
       "      <td>754.159807</td>\n",
       "      <td>6.232113</td>\n",
       "    </tr>\n",
       "    <tr>\n",
       "      <th>8</th>\n",
       "      <td>6723.470560</td>\n",
       "      <td>44.776802</td>\n",
       "    </tr>\n",
       "    <tr>\n",
       "      <th>10</th>\n",
       "      <td>5809.911100</td>\n",
       "      <td>31.578017</td>\n",
       "    </tr>\n",
       "    <tr>\n",
       "      <th>11</th>\n",
       "      <td>7003.499363</td>\n",
       "      <td>53.397424</td>\n",
       "    </tr>\n",
       "  </tbody>\n",
       "</table>\n",
       "</div>"
      ],
      "text/plain": [
       "                       distance   duration\n",
       "user_id date_month                        \n",
       "1       1           7027.511294  41.416640\n",
       "        4            754.159807   6.232113\n",
       "        8           6723.470560  44.776802\n",
       "        10          5809.911100  31.578017\n",
       "        11          7003.499363  53.397424"
      ]
     },
     "execution_count": 30,
     "metadata": {},
     "output_type": "execute_result"
    }
   ],
   "source": [
    "# сгруппируем исходный датасет по идентификатору пользователя и месяца, в котором была совершена поездка\n",
    "data_grouped = data.groupby(['user_id', 'date_month'])[['distance', 'duration']].sum()\n",
    "data_grouped.head()"
   ]
  },
  {
   "cell_type": "code",
   "execution_count": 31,
   "id": "0e1257f4",
   "metadata": {},
   "outputs": [],
   "source": [
    "# добавим столбец с количеством поездок пользователя за данный месяц\n",
    "data_grouped['rides_count'] = data.groupby(['user_id', 'date_month'])['date_month'].count()\n"
   ]
  },
  {
   "cell_type": "markdown",
   "id": "58b47875",
   "metadata": {},
   "source": [
    "Для того, чтобы посчитать выручку, которую принёс каждый конкретный пользователь за каждый месяц, вернёмся к исходному датафрейму. Округлим количество потраченных минут (округляя вверх) и посчитаем стоимость каждой поездки, учитывая стоимость старта."
   ]
  },
  {
   "cell_type": "code",
   "execution_count": 32,
   "id": "235b7e0f",
   "metadata": {
    "scrolled": true
   },
   "outputs": [
    {
     "data": {
      "text/html": [
       "<div>\n",
       "<style scoped>\n",
       "    .dataframe tbody tr th:only-of-type {\n",
       "        vertical-align: middle;\n",
       "    }\n",
       "\n",
       "    .dataframe tbody tr th {\n",
       "        vertical-align: top;\n",
       "    }\n",
       "\n",
       "    .dataframe thead th {\n",
       "        text-align: right;\n",
       "    }\n",
       "</style>\n",
       "<table border=\"1\" class=\"dataframe\">\n",
       "  <thead>\n",
       "    <tr style=\"text-align: right;\">\n",
       "      <th></th>\n",
       "      <th>user_id</th>\n",
       "      <th>distance</th>\n",
       "      <th>duration</th>\n",
       "      <th>date</th>\n",
       "      <th>date_month</th>\n",
       "      <th>name</th>\n",
       "      <th>age</th>\n",
       "      <th>city</th>\n",
       "      <th>subscription_type</th>\n",
       "      <th>minute_price</th>\n",
       "      <th>start_ride_price</th>\n",
       "      <th>subscription_fee</th>\n",
       "      <th>ride_cost</th>\n",
       "    </tr>\n",
       "  </thead>\n",
       "  <tbody>\n",
       "    <tr>\n",
       "      <th>0</th>\n",
       "      <td>1</td>\n",
       "      <td>4409.919140</td>\n",
       "      <td>26</td>\n",
       "      <td>2021-01-01</td>\n",
       "      <td>1</td>\n",
       "      <td>Кира</td>\n",
       "      <td>22</td>\n",
       "      <td>Тюмень</td>\n",
       "      <td>ultra</td>\n",
       "      <td>6</td>\n",
       "      <td>0</td>\n",
       "      <td>199</td>\n",
       "      <td>156</td>\n",
       "    </tr>\n",
       "    <tr>\n",
       "      <th>1</th>\n",
       "      <td>1</td>\n",
       "      <td>2617.592153</td>\n",
       "      <td>16</td>\n",
       "      <td>2021-01-18</td>\n",
       "      <td>1</td>\n",
       "      <td>Кира</td>\n",
       "      <td>22</td>\n",
       "      <td>Тюмень</td>\n",
       "      <td>ultra</td>\n",
       "      <td>6</td>\n",
       "      <td>0</td>\n",
       "      <td>199</td>\n",
       "      <td>96</td>\n",
       "    </tr>\n",
       "    <tr>\n",
       "      <th>2</th>\n",
       "      <td>1</td>\n",
       "      <td>754.159807</td>\n",
       "      <td>7</td>\n",
       "      <td>2021-04-20</td>\n",
       "      <td>4</td>\n",
       "      <td>Кира</td>\n",
       "      <td>22</td>\n",
       "      <td>Тюмень</td>\n",
       "      <td>ultra</td>\n",
       "      <td>6</td>\n",
       "      <td>0</td>\n",
       "      <td>199</td>\n",
       "      <td>42</td>\n",
       "    </tr>\n",
       "    <tr>\n",
       "      <th>3</th>\n",
       "      <td>1</td>\n",
       "      <td>2694.783254</td>\n",
       "      <td>19</td>\n",
       "      <td>2021-08-11</td>\n",
       "      <td>8</td>\n",
       "      <td>Кира</td>\n",
       "      <td>22</td>\n",
       "      <td>Тюмень</td>\n",
       "      <td>ultra</td>\n",
       "      <td>6</td>\n",
       "      <td>0</td>\n",
       "      <td>199</td>\n",
       "      <td>114</td>\n",
       "    </tr>\n",
       "    <tr>\n",
       "      <th>4</th>\n",
       "      <td>1</td>\n",
       "      <td>4028.687306</td>\n",
       "      <td>27</td>\n",
       "      <td>2021-08-28</td>\n",
       "      <td>8</td>\n",
       "      <td>Кира</td>\n",
       "      <td>22</td>\n",
       "      <td>Тюмень</td>\n",
       "      <td>ultra</td>\n",
       "      <td>6</td>\n",
       "      <td>0</td>\n",
       "      <td>199</td>\n",
       "      <td>162</td>\n",
       "    </tr>\n",
       "  </tbody>\n",
       "</table>\n",
       "</div>"
      ],
      "text/plain": [
       "   user_id     distance  duration       date  date_month  name  age    city  \\\n",
       "0        1  4409.919140        26 2021-01-01           1  Кира   22  Тюмень   \n",
       "1        1  2617.592153        16 2021-01-18           1  Кира   22  Тюмень   \n",
       "2        1   754.159807         7 2021-04-20           4  Кира   22  Тюмень   \n",
       "3        1  2694.783254        19 2021-08-11           8  Кира   22  Тюмень   \n",
       "4        1  4028.687306        27 2021-08-28           8  Кира   22  Тюмень   \n",
       "\n",
       "  subscription_type  minute_price  start_ride_price  subscription_fee  \\\n",
       "0             ultra             6                 0               199   \n",
       "1             ultra             6                 0               199   \n",
       "2             ultra             6                 0               199   \n",
       "3             ultra             6                 0               199   \n",
       "4             ultra             6                 0               199   \n",
       "\n",
       "   ride_cost  \n",
       "0        156  \n",
       "1         96  \n",
       "2         42  \n",
       "3        114  \n",
       "4        162  "
      ]
     },
     "execution_count": 32,
     "metadata": {},
     "output_type": "execute_result"
    }
   ],
   "source": [
    "data['duration'] = np.ceil(data['duration']).astype('int')\n",
    "data['ride_cost'] = data['duration'] * data['minute_price'] + data['start_ride_price']\n",
    "data.head()"
   ]
  },
  {
   "cell_type": "code",
   "execution_count": 33,
   "id": "b9159197",
   "metadata": {
    "scrolled": false
   },
   "outputs": [
    {
     "data": {
      "text/html": [
       "<div>\n",
       "<style scoped>\n",
       "    .dataframe tbody tr th:only-of-type {\n",
       "        vertical-align: middle;\n",
       "    }\n",
       "\n",
       "    .dataframe tbody tr th {\n",
       "        vertical-align: top;\n",
       "    }\n",
       "\n",
       "    .dataframe thead th {\n",
       "        text-align: right;\n",
       "    }\n",
       "</style>\n",
       "<table border=\"1\" class=\"dataframe\">\n",
       "  <thead>\n",
       "    <tr style=\"text-align: right;\">\n",
       "      <th></th>\n",
       "      <th></th>\n",
       "      <th>distance</th>\n",
       "      <th>duration</th>\n",
       "      <th>rides_count</th>\n",
       "      <th>month_cost</th>\n",
       "    </tr>\n",
       "    <tr>\n",
       "      <th>user_id</th>\n",
       "      <th>date_month</th>\n",
       "      <th></th>\n",
       "      <th></th>\n",
       "      <th></th>\n",
       "      <th></th>\n",
       "    </tr>\n",
       "  </thead>\n",
       "  <tbody>\n",
       "    <tr>\n",
       "      <th rowspan=\"5\" valign=\"top\">1</th>\n",
       "      <th>1</th>\n",
       "      <td>7027.511294</td>\n",
       "      <td>41.416640</td>\n",
       "      <td>2</td>\n",
       "      <td>252</td>\n",
       "    </tr>\n",
       "    <tr>\n",
       "      <th>4</th>\n",
       "      <td>754.159807</td>\n",
       "      <td>6.232113</td>\n",
       "      <td>1</td>\n",
       "      <td>42</td>\n",
       "    </tr>\n",
       "    <tr>\n",
       "      <th>8</th>\n",
       "      <td>6723.470560</td>\n",
       "      <td>44.776802</td>\n",
       "      <td>2</td>\n",
       "      <td>276</td>\n",
       "    </tr>\n",
       "    <tr>\n",
       "      <th>10</th>\n",
       "      <td>5809.911100</td>\n",
       "      <td>31.578017</td>\n",
       "      <td>2</td>\n",
       "      <td>192</td>\n",
       "    </tr>\n",
       "    <tr>\n",
       "      <th>11</th>\n",
       "      <td>7003.499363</td>\n",
       "      <td>53.397424</td>\n",
       "      <td>3</td>\n",
       "      <td>336</td>\n",
       "    </tr>\n",
       "  </tbody>\n",
       "</table>\n",
       "</div>"
      ],
      "text/plain": [
       "                       distance   duration  rides_count  month_cost\n",
       "user_id date_month                                                 \n",
       "1       1           7027.511294  41.416640            2         252\n",
       "        4            754.159807   6.232113            1          42\n",
       "        8           6723.470560  44.776802            2         276\n",
       "        10          5809.911100  31.578017            2         192\n",
       "        11          7003.499363  53.397424            3         336"
      ]
     },
     "execution_count": 33,
     "metadata": {},
     "output_type": "execute_result"
    }
   ],
   "source": [
    "# теперь добавим в наш новый датасет, сгруппированный по пользователям и месяцам, суммарную стоимость поездок за месяц\n",
    "# без учета стоимости подписки\n",
    "data_grouped['month_cost'] = data.groupby(['user_id', 'date_month'])['ride_cost'].sum()\n",
    "data_grouped.head()"
   ]
  },
  {
   "cell_type": "code",
   "execution_count": 34,
   "id": "ef9c9a0c",
   "metadata": {},
   "outputs": [
    {
     "data": {
      "text/html": [
       "<div>\n",
       "<style scoped>\n",
       "    .dataframe tbody tr th:only-of-type {\n",
       "        vertical-align: middle;\n",
       "    }\n",
       "\n",
       "    .dataframe tbody tr th {\n",
       "        vertical-align: top;\n",
       "    }\n",
       "\n",
       "    .dataframe thead th {\n",
       "        text-align: right;\n",
       "    }\n",
       "</style>\n",
       "<table border=\"1\" class=\"dataframe\">\n",
       "  <thead>\n",
       "    <tr style=\"text-align: right;\">\n",
       "      <th></th>\n",
       "      <th>user_id</th>\n",
       "      <th>subscription_type</th>\n",
       "    </tr>\n",
       "  </thead>\n",
       "  <tbody>\n",
       "    <tr>\n",
       "      <th>0</th>\n",
       "      <td>1</td>\n",
       "      <td>ultra</td>\n",
       "    </tr>\n",
       "    <tr>\n",
       "      <th>1</th>\n",
       "      <td>2</td>\n",
       "      <td>ultra</td>\n",
       "    </tr>\n",
       "    <tr>\n",
       "      <th>2</th>\n",
       "      <td>3</td>\n",
       "      <td>ultra</td>\n",
       "    </tr>\n",
       "    <tr>\n",
       "      <th>3</th>\n",
       "      <td>4</td>\n",
       "      <td>ultra</td>\n",
       "    </tr>\n",
       "    <tr>\n",
       "      <th>4</th>\n",
       "      <td>5</td>\n",
       "      <td>ultra</td>\n",
       "    </tr>\n",
       "    <tr>\n",
       "      <th>...</th>\n",
       "      <td>...</td>\n",
       "      <td>...</td>\n",
       "    </tr>\n",
       "    <tr>\n",
       "      <th>1529</th>\n",
       "      <td>1530</td>\n",
       "      <td>free</td>\n",
       "    </tr>\n",
       "    <tr>\n",
       "      <th>1530</th>\n",
       "      <td>1531</td>\n",
       "      <td>free</td>\n",
       "    </tr>\n",
       "    <tr>\n",
       "      <th>1531</th>\n",
       "      <td>1532</td>\n",
       "      <td>free</td>\n",
       "    </tr>\n",
       "    <tr>\n",
       "      <th>1532</th>\n",
       "      <td>1533</td>\n",
       "      <td>free</td>\n",
       "    </tr>\n",
       "    <tr>\n",
       "      <th>1533</th>\n",
       "      <td>1534</td>\n",
       "      <td>free</td>\n",
       "    </tr>\n",
       "  </tbody>\n",
       "</table>\n",
       "<p>1534 rows × 2 columns</p>\n",
       "</div>"
      ],
      "text/plain": [
       "      user_id subscription_type\n",
       "0           1             ultra\n",
       "1           2             ultra\n",
       "2           3             ultra\n",
       "3           4             ultra\n",
       "4           5             ultra\n",
       "...       ...               ...\n",
       "1529     1530              free\n",
       "1530     1531              free\n",
       "1531     1532              free\n",
       "1532     1533              free\n",
       "1533     1534              free\n",
       "\n",
       "[1534 rows x 2 columns]"
      ]
     },
     "execution_count": 34,
     "metadata": {},
     "output_type": "execute_result"
    }
   ],
   "source": [
    "# теперь добавим в наш новый датафрейм столбец с уровнем подписки пользователей\n",
    "data_ids = data[['user_id', 'subscription_type']].drop_duplicates().reset_index(drop=True)\n",
    "data_ids"
   ]
  },
  {
   "cell_type": "code",
   "execution_count": 35,
   "id": "2d6954aa",
   "metadata": {},
   "outputs": [
    {
     "data": {
      "text/html": [
       "<div>\n",
       "<style scoped>\n",
       "    .dataframe tbody tr th:only-of-type {\n",
       "        vertical-align: middle;\n",
       "    }\n",
       "\n",
       "    .dataframe tbody tr th {\n",
       "        vertical-align: top;\n",
       "    }\n",
       "\n",
       "    .dataframe thead th {\n",
       "        text-align: right;\n",
       "    }\n",
       "</style>\n",
       "<table border=\"1\" class=\"dataframe\">\n",
       "  <thead>\n",
       "    <tr style=\"text-align: right;\">\n",
       "      <th></th>\n",
       "      <th>user_id</th>\n",
       "      <th>date_month</th>\n",
       "      <th>distance</th>\n",
       "      <th>duration</th>\n",
       "      <th>rides_count</th>\n",
       "      <th>month_cost</th>\n",
       "      <th>subscription_type</th>\n",
       "    </tr>\n",
       "  </thead>\n",
       "  <tbody>\n",
       "    <tr>\n",
       "      <th>0</th>\n",
       "      <td>1</td>\n",
       "      <td>1</td>\n",
       "      <td>7027.511294</td>\n",
       "      <td>41.416640</td>\n",
       "      <td>2</td>\n",
       "      <td>252</td>\n",
       "      <td>ultra</td>\n",
       "    </tr>\n",
       "    <tr>\n",
       "      <th>1</th>\n",
       "      <td>1</td>\n",
       "      <td>4</td>\n",
       "      <td>754.159807</td>\n",
       "      <td>6.232113</td>\n",
       "      <td>1</td>\n",
       "      <td>42</td>\n",
       "      <td>ultra</td>\n",
       "    </tr>\n",
       "    <tr>\n",
       "      <th>2</th>\n",
       "      <td>1</td>\n",
       "      <td>8</td>\n",
       "      <td>6723.470560</td>\n",
       "      <td>44.776802</td>\n",
       "      <td>2</td>\n",
       "      <td>276</td>\n",
       "      <td>ultra</td>\n",
       "    </tr>\n",
       "    <tr>\n",
       "      <th>3</th>\n",
       "      <td>1</td>\n",
       "      <td>10</td>\n",
       "      <td>5809.911100</td>\n",
       "      <td>31.578017</td>\n",
       "      <td>2</td>\n",
       "      <td>192</td>\n",
       "      <td>ultra</td>\n",
       "    </tr>\n",
       "    <tr>\n",
       "      <th>4</th>\n",
       "      <td>1</td>\n",
       "      <td>11</td>\n",
       "      <td>7003.499363</td>\n",
       "      <td>53.397424</td>\n",
       "      <td>3</td>\n",
       "      <td>336</td>\n",
       "      <td>ultra</td>\n",
       "    </tr>\n",
       "    <tr>\n",
       "      <th>...</th>\n",
       "      <td>...</td>\n",
       "      <td>...</td>\n",
       "      <td>...</td>\n",
       "      <td>...</td>\n",
       "      <td>...</td>\n",
       "      <td>...</td>\n",
       "      <td>...</td>\n",
       "    </tr>\n",
       "    <tr>\n",
       "      <th>11295</th>\n",
       "      <td>1534</td>\n",
       "      <td>6</td>\n",
       "      <td>3409.468534</td>\n",
       "      <td>24.812678</td>\n",
       "      <td>2</td>\n",
       "      <td>308</td>\n",
       "      <td>free</td>\n",
       "    </tr>\n",
       "    <tr>\n",
       "      <th>11296</th>\n",
       "      <td>1534</td>\n",
       "      <td>8</td>\n",
       "      <td>7622.453034</td>\n",
       "      <td>47.205960</td>\n",
       "      <td>2</td>\n",
       "      <td>484</td>\n",
       "      <td>free</td>\n",
       "    </tr>\n",
       "    <tr>\n",
       "      <th>11297</th>\n",
       "      <td>1534</td>\n",
       "      <td>9</td>\n",
       "      <td>4928.173852</td>\n",
       "      <td>22.560373</td>\n",
       "      <td>1</td>\n",
       "      <td>234</td>\n",
       "      <td>free</td>\n",
       "    </tr>\n",
       "    <tr>\n",
       "      <th>11298</th>\n",
       "      <td>1534</td>\n",
       "      <td>11</td>\n",
       "      <td>13350.015305</td>\n",
       "      <td>76.342174</td>\n",
       "      <td>4</td>\n",
       "      <td>824</td>\n",
       "      <td>free</td>\n",
       "    </tr>\n",
       "    <tr>\n",
       "      <th>11299</th>\n",
       "      <td>1534</td>\n",
       "      <td>12</td>\n",
       "      <td>2371.711192</td>\n",
       "      <td>15.893917</td>\n",
       "      <td>1</td>\n",
       "      <td>178</td>\n",
       "      <td>free</td>\n",
       "    </tr>\n",
       "  </tbody>\n",
       "</table>\n",
       "<p>11300 rows × 7 columns</p>\n",
       "</div>"
      ],
      "text/plain": [
       "       user_id  date_month      distance   duration  rides_count  month_cost  \\\n",
       "0            1           1   7027.511294  41.416640            2         252   \n",
       "1            1           4    754.159807   6.232113            1          42   \n",
       "2            1           8   6723.470560  44.776802            2         276   \n",
       "3            1          10   5809.911100  31.578017            2         192   \n",
       "4            1          11   7003.499363  53.397424            3         336   \n",
       "...        ...         ...           ...        ...          ...         ...   \n",
       "11295     1534           6   3409.468534  24.812678            2         308   \n",
       "11296     1534           8   7622.453034  47.205960            2         484   \n",
       "11297     1534           9   4928.173852  22.560373            1         234   \n",
       "11298     1534          11  13350.015305  76.342174            4         824   \n",
       "11299     1534          12   2371.711192  15.893917            1         178   \n",
       "\n",
       "      subscription_type  \n",
       "0                 ultra  \n",
       "1                 ultra  \n",
       "2                 ultra  \n",
       "3                 ultra  \n",
       "4                 ultra  \n",
       "...                 ...  \n",
       "11295              free  \n",
       "11296              free  \n",
       "11297              free  \n",
       "11298              free  \n",
       "11299              free  \n",
       "\n",
       "[11300 rows x 7 columns]"
      ]
     },
     "execution_count": 35,
     "metadata": {},
     "output_type": "execute_result"
    }
   ],
   "source": [
    "# теперь добавим в наш новый датафрейм столбец с уровнем подписки пользователей\n",
    "\n",
    "data_grouped.reset_index(inplace=True)\n",
    "data_grouped = data_grouped.merge(data_ids, on='user_id')\n",
    "data_grouped"
   ]
  },
  {
   "cell_type": "code",
   "execution_count": 36,
   "id": "dc5cd698",
   "metadata": {},
   "outputs": [
    {
     "data": {
      "text/html": [
       "<div>\n",
       "<style scoped>\n",
       "    .dataframe tbody tr th:only-of-type {\n",
       "        vertical-align: middle;\n",
       "    }\n",
       "\n",
       "    .dataframe tbody tr th {\n",
       "        vertical-align: top;\n",
       "    }\n",
       "\n",
       "    .dataframe thead th {\n",
       "        text-align: right;\n",
       "    }\n",
       "</style>\n",
       "<table border=\"1\" class=\"dataframe\">\n",
       "  <thead>\n",
       "    <tr style=\"text-align: right;\">\n",
       "      <th></th>\n",
       "      <th>user_id</th>\n",
       "      <th>date_month</th>\n",
       "      <th>distance</th>\n",
       "      <th>duration</th>\n",
       "      <th>rides_count</th>\n",
       "      <th>month_cost</th>\n",
       "      <th>subscription_type</th>\n",
       "    </tr>\n",
       "  </thead>\n",
       "  <tbody>\n",
       "    <tr>\n",
       "      <th>0</th>\n",
       "      <td>1</td>\n",
       "      <td>1</td>\n",
       "      <td>7027.511294</td>\n",
       "      <td>41.416640</td>\n",
       "      <td>2</td>\n",
       "      <td>451</td>\n",
       "      <td>ultra</td>\n",
       "    </tr>\n",
       "    <tr>\n",
       "      <th>1</th>\n",
       "      <td>1</td>\n",
       "      <td>4</td>\n",
       "      <td>754.159807</td>\n",
       "      <td>6.232113</td>\n",
       "      <td>1</td>\n",
       "      <td>241</td>\n",
       "      <td>ultra</td>\n",
       "    </tr>\n",
       "    <tr>\n",
       "      <th>2</th>\n",
       "      <td>1</td>\n",
       "      <td>8</td>\n",
       "      <td>6723.470560</td>\n",
       "      <td>44.776802</td>\n",
       "      <td>2</td>\n",
       "      <td>475</td>\n",
       "      <td>ultra</td>\n",
       "    </tr>\n",
       "    <tr>\n",
       "      <th>3</th>\n",
       "      <td>1</td>\n",
       "      <td>10</td>\n",
       "      <td>5809.911100</td>\n",
       "      <td>31.578017</td>\n",
       "      <td>2</td>\n",
       "      <td>391</td>\n",
       "      <td>ultra</td>\n",
       "    </tr>\n",
       "    <tr>\n",
       "      <th>4</th>\n",
       "      <td>1</td>\n",
       "      <td>11</td>\n",
       "      <td>7003.499363</td>\n",
       "      <td>53.397424</td>\n",
       "      <td>3</td>\n",
       "      <td>535</td>\n",
       "      <td>ultra</td>\n",
       "    </tr>\n",
       "    <tr>\n",
       "      <th>...</th>\n",
       "      <td>...</td>\n",
       "      <td>...</td>\n",
       "      <td>...</td>\n",
       "      <td>...</td>\n",
       "      <td>...</td>\n",
       "      <td>...</td>\n",
       "      <td>...</td>\n",
       "    </tr>\n",
       "    <tr>\n",
       "      <th>11295</th>\n",
       "      <td>1534</td>\n",
       "      <td>6</td>\n",
       "      <td>3409.468534</td>\n",
       "      <td>24.812678</td>\n",
       "      <td>2</td>\n",
       "      <td>308</td>\n",
       "      <td>free</td>\n",
       "    </tr>\n",
       "    <tr>\n",
       "      <th>11296</th>\n",
       "      <td>1534</td>\n",
       "      <td>8</td>\n",
       "      <td>7622.453034</td>\n",
       "      <td>47.205960</td>\n",
       "      <td>2</td>\n",
       "      <td>484</td>\n",
       "      <td>free</td>\n",
       "    </tr>\n",
       "    <tr>\n",
       "      <th>11297</th>\n",
       "      <td>1534</td>\n",
       "      <td>9</td>\n",
       "      <td>4928.173852</td>\n",
       "      <td>22.560373</td>\n",
       "      <td>1</td>\n",
       "      <td>234</td>\n",
       "      <td>free</td>\n",
       "    </tr>\n",
       "    <tr>\n",
       "      <th>11298</th>\n",
       "      <td>1534</td>\n",
       "      <td>11</td>\n",
       "      <td>13350.015305</td>\n",
       "      <td>76.342174</td>\n",
       "      <td>4</td>\n",
       "      <td>824</td>\n",
       "      <td>free</td>\n",
       "    </tr>\n",
       "    <tr>\n",
       "      <th>11299</th>\n",
       "      <td>1534</td>\n",
       "      <td>12</td>\n",
       "      <td>2371.711192</td>\n",
       "      <td>15.893917</td>\n",
       "      <td>1</td>\n",
       "      <td>178</td>\n",
       "      <td>free</td>\n",
       "    </tr>\n",
       "  </tbody>\n",
       "</table>\n",
       "<p>11300 rows × 7 columns</p>\n",
       "</div>"
      ],
      "text/plain": [
       "       user_id  date_month      distance   duration  rides_count  month_cost  \\\n",
       "0            1           1   7027.511294  41.416640            2         451   \n",
       "1            1           4    754.159807   6.232113            1         241   \n",
       "2            1           8   6723.470560  44.776802            2         475   \n",
       "3            1          10   5809.911100  31.578017            2         391   \n",
       "4            1          11   7003.499363  53.397424            3         535   \n",
       "...        ...         ...           ...        ...          ...         ...   \n",
       "11295     1534           6   3409.468534  24.812678            2         308   \n",
       "11296     1534           8   7622.453034  47.205960            2         484   \n",
       "11297     1534           9   4928.173852  22.560373            1         234   \n",
       "11298     1534          11  13350.015305  76.342174            4         824   \n",
       "11299     1534          12   2371.711192  15.893917            1         178   \n",
       "\n",
       "      subscription_type  \n",
       "0                 ultra  \n",
       "1                 ultra  \n",
       "2                 ultra  \n",
       "3                 ultra  \n",
       "4                 ultra  \n",
       "...                 ...  \n",
       "11295              free  \n",
       "11296              free  \n",
       "11297              free  \n",
       "11298              free  \n",
       "11299              free  \n",
       "\n",
       "[11300 rows x 7 columns]"
      ]
     },
     "execution_count": 36,
     "metadata": {},
     "output_type": "execute_result"
    }
   ],
   "source": [
    "# для пользователей с подпиской добавим к поминутной месячной стоимости 199р - стоимость подписки\n",
    "data_grouped.loc[data_grouped['subscription_type'] == 'ultra', 'month_cost'] = data_grouped['month_cost'] + 199\n",
    "data_grouped"
   ]
  },
  {
   "cell_type": "markdown",
   "id": "146ae740",
   "metadata": {},
   "source": [
    "Посмотрим на получившиеся данные и оценим, какую сумму в месяц в среднем тратит пользователь, имеющий подписку, и без неё."
   ]
  },
  {
   "cell_type": "code",
   "execution_count": 39,
   "id": "d67d3281",
   "metadata": {},
   "outputs": [
    {
     "data": {
      "text/plain": [
       "count    4533.000000\n",
       "mean      362.792191\n",
       "std        88.262737\n",
       "min       223.000000\n",
       "25%       301.000000\n",
       "50%       337.000000\n",
       "75%       409.000000\n",
       "max       955.000000\n",
       "Name: month_cost, dtype: float64"
      ]
     },
     "execution_count": 39,
     "metadata": {},
     "output_type": "execute_result"
    },
    {
     "data": {
      "image/png": "[encoded data removed]",
      "text/plain": [
       "<Figure size 432x288 with 1 Axes>"
      ]
     },
     "metadata": {
      "needs_background": "light"
     },
     "output_type": "display_data"
    }
   ],
   "source": [
    "data_grouped[data_grouped['subscription_type'] == 'ultra']['month_cost'].hist(bins=50)\n",
    "data_grouped[data_grouped['subscription_type'] == 'ultra']['month_cost'].describe()"
   ]
  },
  {
   "cell_type": "code",
   "execution_count": 40,
   "id": "85662cfa",
   "metadata": {},
   "outputs": [
    {
     "data": {
      "text/plain": [
       "count    6767.000000\n",
       "mean      329.332644\n",
       "std       183.268419\n",
       "min        74.000000\n",
       "25%       194.000000\n",
       "50%       274.000000\n",
       "75%       428.000000\n",
       "max      1444.000000\n",
       "Name: month_cost, dtype: float64"
      ]
     },
     "execution_count": 40,
     "metadata": {},
     "output_type": "execute_result"
    },
    {
     "data": {
      "image/png": "[encoded data removed]",
      "text/plain": [
       "<Figure size 432x288 with 1 Axes>"
      ]
     },
     "metadata": {
      "needs_background": "light"
     },
     "output_type": "display_data"
    }
   ],
   "source": [
    "data_grouped[data_grouped['subscription_type'] == 'free']['month_cost'].hist(bins=50)\n",
    "data_grouped[data_grouped['subscription_type'] == 'free']['month_cost'].describe()"
   ]
  },
  {
   "cell_type": "markdown",
   "id": "23af3e7c",
   "metadata": {},
   "source": [
    "Из получившихся данных мы видим, что характеристики распределения трат за месяц между подписок ultra и free отличаются следующим образом:\n",
    "- Среднее 368 против 339 у подписки free;\n",
    "- Медиана 337 против 284;\n",
    "- Стандартное отклонение 93 против 190;\n",
    "- Разброс значениий (223, 955) против (58, 1444).\n",
    "\n",
    "Как мы видим, график для пользователей с платной подпиской показывает гораздо меньший разброс значений, то есть траты таких пользователей гораздо предсказуемее для бизнеса."
   ]
  },
  {
   "cell_type": "markdown",
   "id": "982120ed",
   "metadata": {},
   "source": [
    "## Шаг 6. Проверка гипотез"
   ]
  },
  {
   "cell_type": "markdown",
   "id": "c1f93695",
   "metadata": {},
   "source": [
    "На данном этапе проекта нам необходимо рассмотреть и проверить несколько гипотез: \n",
    "1. Тратят ли пользователи с подпиской больше времени на поездки?\n",
    "2. Расстояние одной поездки в 3130 метров — оптимальное с точки зрения износа самоката. Можно ли сказать, что среднее расстояние, которое проезжают пользователи с подпиской за одну поездку, не превышает 3130 метров?\n",
    "3. Будет ли помесячная выручка от пользователей с подпиской по месяцам выше, чем выручка от пользователей без подписки.\n",
    "4. Техническая команда сервиса обновила сервера, с которыми взаимодействует мобильное приложение. Она надеется, что из-за этого количество обращений в техподдержку значимо снизилось. Некоторый файл содержит для каждого пользователя данные о количестве обращений до обновления и после него. Какой тест нам понадобится для проверки этой гипотезы?\n",
    "\n",
    "Начнём как всегда по порядку."
   ]
  },
  {
   "cell_type": "markdown",
   "id": "b91b4396",
   "metadata": {},
   "source": [
    "### Тратят ли пользователи с подпиской больше времени на поездки?"
   ]
  },
  {
   "cell_type": "markdown",
   "id": "7bab057b",
   "metadata": {},
   "source": [
    "Итак проверим нашу гипотезу о том, что пользователи с подпиской ультра тратят больше времени на поездки чем без неё.  \n",
    "Нулевая гипотеза будет звучать следующим образом:\n",
    "- Пользователи с подпиской ультра тратят столько же времени на поездки, сколько и с подпиской free.\n",
    "\n",
    "Альтернативная гипотеза:\n",
    "- Пользователи с подпиской ультра тратят значимо больше времени на поездки, чем с подпиской free.\n",
    "\n",
    "По умолчанию для всех гипотез будем брать уровень значимости alpha = 0.05."
   ]
  },
  {
   "cell_type": "code",
   "execution_count": 41,
   "id": "f83a744e",
   "metadata": {},
   "outputs": [],
   "source": [
    "alpha = 0.05"
   ]
  },
  {
   "cell_type": "code",
   "execution_count": 42,
   "id": "6eff847c",
   "metadata": {},
   "outputs": [
    {
     "name": "stdout",
     "output_type": "stream",
     "text": [
      "Среднее значение длительности поездки для пользователей ultra: 18.54198516280583\n",
      "Среднее значение длительности поездки для пользователей free: 17.530771268800226\n",
      "p-значение: 4.704468074453899e-28\n",
      "Отвергаем нулевую гипотезу\n"
     ]
    }
   ],
   "source": [
    "results = st.ttest_ind(data_ultra['duration'], data_free['duration'], alternative='greater')\n",
    "# у нас нет оснований полагать, что дисперсии двух совокупностей значимо отличаются, поэтому параметр equal_var оставим по умолчанию True\n",
    "\n",
    "print('Среднее значение длительности поездки для пользователей ultra:', data_ultra['duration'].mean())\n",
    "print('Среднее значение длительности поездки для пользователей free:', data_free['duration'].mean())\n",
    "print('p-значение:', results.pvalue)\n",
    "\n",
    "if results.pvalue < alpha:\n",
    "    print('Отвергаем нулевую гипотезу')\n",
    "else:\n",
    "    print('Не получилось отвергнуть нулевую гипотезу') "
   ]
  },
  {
   "cell_type": "markdown",
   "id": "9e986e7f",
   "metadata": {},
   "source": [
    "Итого мы можем сделать вывод, что для 5% уровня значимости наша изначальная гипотеза не подтвердилась, а значит мы берём альтернативную - пользователи с подпиской действительно тратят больше времени на поездки чем пользователи без неё."
   ]
  },
  {
   "cell_type": "markdown",
   "id": "363c4c7a",
   "metadata": {},
   "source": [
    "### Превышает ли среднее расстояние 3130 метров?"
   ]
  },
  {
   "cell_type": "markdown",
   "id": "675ef58f",
   "metadata": {},
   "source": [
    "Теперь проверим, что среднее расстояние, которое проезжают пользователи с подпиской за одну поездку, не превышает 3130 метров.\n",
    "\n",
    "Нулевая гипотеза будет звучать следующим образом:\n",
    "- Расстояние, которое проезжают пользователи с подпиской ультра равно 3130 метров.\n",
    "\n",
    "Альтернативная гипотеза:\n",
    "- Расстояние, которое проезжают пользователи с подпиской ультра больше 3130 метров."
   ]
  },
  {
   "cell_type": "code",
   "execution_count": 43,
   "id": "cd573386",
   "metadata": {
    "scrolled": true
   },
   "outputs": [
    {
     "name": "stdout",
     "output_type": "stream",
     "text": [
      "p-значение: 0.9195368847849785\n",
      "Не получилось отвергнуть нулевую гипотезу\n"
     ]
    }
   ],
   "source": [
    "distance_h0 = 3130\n",
    "results = st.ttest_1samp(data_ultra['distance'], distance_h0, alternative='greater')\n",
    "\n",
    "print('p-значение:', results.pvalue)\n",
    "\n",
    "if results.pvalue < alpha:\n",
    "    print('Отвергаем нулевую гипотезу')\n",
    "else:\n",
    "    print('Не получилось отвергнуть нулевую гипотезу') "
   ]
  },
  {
   "cell_type": "markdown",
   "id": "777c3e05",
   "metadata": {},
   "source": [
    "Наша нулевая гипотеза о том, что среднее расстояние не больше 3130 метров не была отпровержена, а значит средний износ не больше 3130 метров. За износ самокатов можно не переживать."
   ]
  },
  {
   "cell_type": "markdown",
   "id": "74509ba0",
   "metadata": {},
   "source": [
    "### Отличается ли помесячная выручка между группами пользователей?"
   ]
  },
  {
   "cell_type": "markdown",
   "id": "ac51311a",
   "metadata": {},
   "source": [
    "Теперь разберемся с помесячной выручкой - будет ли она значимо выше для пользователей с подпиской чем для обычных пользователей.\n",
    "\n",
    "Нулевая гипотеза будет звучать следующим образом:\n",
    "- Помесячная выручка от пользователя с подпиской не отличается от пользователя без подписки.\n",
    "\n",
    "Альтернативная гипотеза:\n",
    "- Помесячная выручка от пользователя с подпиской больше чем от пользователя без подписки."
   ]
  },
  {
   "cell_type": "code",
   "execution_count": 44,
   "id": "93d56a4b",
   "metadata": {
    "scrolled": true
   },
   "outputs": [
    {
     "name": "stdout",
     "output_type": "stream",
     "text": [
      "Среднее значение помесячной выручки для пользователей ultra: 362.7921906022502\n",
      "Среднее значение помесячной выручки для пользователей free: 329.3326437121324\n",
      "p-значение: 2.0314113674863288e-30\n",
      "Отвергаем нулевую гипотезу\n"
     ]
    }
   ],
   "source": [
    "a = data_grouped.loc[data_grouped['subscription_type'] == 'ultra', 'month_cost']\n",
    "b = data_grouped.loc[data_grouped['subscription_type'] == 'free', 'month_cost']\n",
    "\n",
    "results = st.ttest_ind(a, b, alternative='greater')\n",
    "# опять-таки у нас нет оснований полагать, что дисперсии двух совокупностей значимо отличаются\n",
    "\n",
    "print('Среднее значение помесячной выручки для пользователей ultra:', a.mean())\n",
    "print('Среднее значение помесячной выручки для пользователей free:', b.mean())\n",
    "\n",
    "print('p-значение:', results.pvalue)\n",
    "\n",
    "if results.pvalue < alpha:\n",
    "    print('Отвергаем нулевую гипотезу')\n",
    "else:\n",
    "    print('Не получилось отвергнуть нулевую гипотезу') "
   ]
  },
  {
   "cell_type": "markdown",
   "id": "e43ab016",
   "metadata": {},
   "source": [
    "После проверки данной гипотезы с 5% уровнем значимости мы можем утверждать, что средняя месячная выручка от пользователей с подпиской значимо больше чем от пользователей без подписки."
   ]
  },
  {
   "cell_type": "markdown",
   "id": "132b1b26",
   "metadata": {},
   "source": [
    "### **И последний вопрос данного этапа, который мы должны обсудить - какой тест мы должны использовать в следующей ситуации?**\n",
    "\n",
    "Техническая команда сервиса обновила сервера, с которыми взаимодействует мобильное приложение. Она надеется, что из-за этого количество обращений в техподдержку значимо снизилось. Некоторый файл содержит для каждого пользователя данные о количестве обращений до обновления и после него.\n",
    "\n",
    "- Поскольку мы имеем по сути одну и ту же генеральную совокупность, с которой произошли некоторые изменения, и нам необходимо оценить значимость этих изменений, мы должны использовать гипотезу о равенстве зависимых (парных) выборок. В python это можно выполнить следующим методом\n",
    "```\n",
    "scipy.stats.ttest_rel(before, after)\n",
    "```"
   ]
  },
  {
   "cell_type": "markdown",
   "id": "c83b9dea",
   "metadata": {},
   "source": [
    "**Промежуточный вывод по данному этапу**\n",
    "\n",
    "В данном этапе мы рассмотрели три различных гипотезы и \"проверили их на прочность\". В результате мы получили:\n",
    "1. Пользователи с подпиской действительно тратят статистически значимо больше времени на поездки, чем пользователи без неё.\n",
    "2. Среднее время одной поездки значимо меньше оптимального с точки зрения износа самоката расстояния - 3130 метров. За излишний износ можно не переживать.\n",
    "3. Помесячная выручка от пользователей с подпиской по месяцам значимо выше, чем выручка от пользователей без подписки.\n"
   ]
  },
  {
   "cell_type": "markdown",
   "id": "2368efc3",
   "metadata": {},
   "source": [
    "## Шаг 7. Распределения"
   ]
  },
  {
   "cell_type": "markdown",
   "id": "010718c0",
   "metadata": {},
   "source": [
    "На данном этапе у нас есть два дополнительных задания.\n",
    "\n",
    "### Первое задание:  \n",
    "Отделу маркетинга GoFast поставили задачу: нужно провести акцию с раздачей промокодов на один бесплатный месяц подписки, в рамках которой как минимум 100 существующих клиентов должны продлить эту подписку. То есть по завершении периода действия подписки пользователь может либо отказаться от неё, либо продлить, совершив соответствующий платёж. \n",
    "Эта акция уже проводилась ранее и по итогу выяснилось, что после бесплатного пробного периода подписку продлевают 10% пользователей. Нам необходимо выяснить, какое минимальное количество промокодов нужно разослать, чтобы вероятность не выполнить план была примерно 5%.\n",
    "\n",
    "В данном случае мы явно имеем дело с биномиальным распределением, так как у каждого события только два исхода - продлит пользователь подписку или нет. У такого распределения только два параметра - вероятность положительного исхода (в данном случае 0.1), и общее количество экпериментов N - количество выданных промокодов, которое нам необходимо найти, чтобы выполнить план.  \n",
    "По условию задачи, план - 100 клиентов, продливших подписку. Нам нужно найти такое распределение, чтобы вероятность исхода \"99 или меньше пользователей продлили подписку\" была около 5%."
   ]
  },
  {
   "cell_type": "markdown",
   "id": "0368cdff",
   "metadata": {},
   "source": [
    "Для упрощения нахождения некоторых параметров попробуем аппроксимировать наше биномиальное распределение нормальным.  \n",
    "Это корректно только в том случае, когда промежуток от математического ожидания биномиального распределения плюс-минус три его стандартных отклонения лежит в пределах [0, n]."
   ]
  },
  {
   "cell_type": "code",
   "execution_count": 45,
   "id": "99eaa362",
   "metadata": {},
   "outputs": [
    {
     "data": {
      "text/plain": [
       "88.82308546376021"
      ]
     },
     "metadata": {},
     "output_type": "display_data"
    },
    {
     "data": {
      "text/plain": [
       "151.1769145362398"
      ]
     },
     "metadata": {},
     "output_type": "display_data"
    }
   ],
   "source": [
    "# возьмем приблизительное количество попыток, для которого вероятность не получить 100 продленных подписок будет довольно мала\n",
    "n = 1200\n",
    "p = 0.1\n",
    "\n",
    "# найдем мат.ожидание и стандартное отклонение для нашего биномиального распределения\n",
    "mu = n * p\n",
    "std = (n * p * (1 - p))**0.5\n",
    "display(mu - 3 * std, mu + 3 * std)\n",
    "# оба значения лежат в пределах [0, n], поэтому аппроксимацию нормальным распределением можно продолжать"
   ]
  },
  {
   "cell_type": "code",
   "execution_count": 46,
   "id": "dbb4e2a3",
   "metadata": {
    "scrolled": true
   },
   "outputs": [
    {
     "data": {
      "text/plain": [
       "0.021654071405395978"
      ]
     },
     "execution_count": 46,
     "metadata": {},
     "output_type": "execute_result"
    }
   ],
   "source": [
    "# теперь по характеристикам биномиального распределения построим нормальное\n",
    "# найдём вероятность получить 99 или еще более меньшее значение клиентов, которые продлят подписку\n",
    "plan = 99\n",
    "\n",
    "distr = st.norm(mu, std) \n",
    "distr.cdf(plan)"
   ]
  },
  {
   "cell_type": "code",
   "execution_count": 47,
   "id": "fdf5c5e7",
   "metadata": {
    "scrolled": true
   },
   "outputs": [
    {
     "data": {
      "image/png": "[encoded data removed]",
      "text/plain": [
       "<Figure size 432x288 with 1 Axes>"
      ]
     },
     "metadata": {
      "needs_background": "light"
     },
     "output_type": "display_data"
    }
   ],
   "source": [
    "x = np.linspace(mu - 4*std, mu + 4*std, 100)\n",
    "plt.plot(x, st.norm.pdf(x, mu, std))\n",
    "plt.show()"
   ]
  },
  {
   "cell_type": "markdown",
   "id": "8fbcebc3",
   "metadata": {},
   "source": [
    "В данном случае вероятность получить 99 клиентов или меньше оказалась == 2,1%. Необходимо изменить значение n, чтобы попасть ближе в целевой показатель в 5%."
   ]
  },
  {
   "cell_type": "code",
   "execution_count": 48,
   "id": "668db6ad",
   "metadata": {},
   "outputs": [
    {
     "data": {
      "text/plain": [
       "85.34710454133247"
      ]
     },
     "metadata": {},
     "output_type": "display_data"
    },
    {
     "data": {
      "text/plain": [
       "146.65289545866753"
      ]
     },
     "metadata": {},
     "output_type": "display_data"
    },
    {
     "data": {
      "text/plain": [
       "0.048077139371192464"
      ]
     },
     "execution_count": 48,
     "metadata": {},
     "output_type": "execute_result"
    }
   ],
   "source": [
    "n = 1160\n",
    "p = 0.1\n",
    "\n",
    "mu = n * p\n",
    "std = (n * p * (1 - p))**0.5\n",
    "display(mu - 3*std, mu + 3*std)\n",
    "\n",
    "plan = 99\n",
    "\n",
    "distr = st.norm(mu, std) \n",
    "distr.cdf(plan)"
   ]
  },
  {
   "cell_type": "code",
   "execution_count": 49,
   "id": "f2223cab",
   "metadata": {},
   "outputs": [
    {
     "data": {
      "image/png": "[encoded data removed]",
      "text/plain": [
       "<Figure size 432x288 with 1 Axes>"
      ]
     },
     "metadata": {
      "needs_background": "light"
     },
     "output_type": "display_data"
    }
   ],
   "source": [
    "x = np.linspace(mu - 3*std, mu + 3*std, 100)\n",
    "plt.plot(x, st.norm.pdf(x, mu, std))\n",
    "plt.show()"
   ]
  },
  {
   "cell_type": "markdown",
   "id": "59a84953",
   "metadata": {},
   "source": [
    "Как мы видим из получившегося результата, при условии плана **получить не менее 100 клиентов, продливших подписку,** и вероятности этого события в 10% от каждого выданного промокода на бесплатный месяц , отделу маркетинга необходимо выдать 1160 купонов, чтобы вероятность не выполнить план была 4,8%.  \n",
    "Будем считать, что дальнейший подбор значений не целесообразен и остановимся на этом показателе."
   ]
  },
  {
   "cell_type": "markdown",
   "id": "40d4dbfd",
   "metadata": {},
   "source": [
    "### **Второе задание для данного этапа звучит следующим образом.**\n",
    "\n",
    "Отдел маркетинга рассылает клиентам push-уведомления в мобильном приложении. Клиенты могут открыть его или не открывать. Известно, что уведомления открывают около 40% получивших клиентов. Отдел планирует разослать 1 млн уведомлений. С помощью аппроксимации нужно построить примерный график распределения и оценить вероятность того, что уведомление откроют не более 399,5 тыс. пользователей.\n"
   ]
  },
  {
   "cell_type": "markdown",
   "id": "4be8ce9d",
   "metadata": {},
   "source": [
    "По аналогии с предыдущим заданием, в данном случае мы имеем аналогичное биномиальное распределение, которое удобно преобразовать в нормальное и использовать функцию cdf() для того, чтобы найти значение кумулятивное функции распределения в точке 399,5 тысяч."
   ]
  },
  {
   "cell_type": "code",
   "execution_count": 51,
   "id": "faccf1da",
   "metadata": {},
   "outputs": [
    {
     "data": {
      "text/plain": [
       "398530.3061543301"
      ]
     },
     "metadata": {},
     "output_type": "display_data"
    },
    {
     "data": {
      "text/plain": [
       "401469.6938456699"
      ]
     },
     "metadata": {},
     "output_type": "display_data"
    },
    {
     "data": {
      "text/plain": [
       "0.15371708296369768"
      ]
     },
     "execution_count": 51,
     "metadata": {},
     "output_type": "execute_result"
    }
   ],
   "source": [
    "# для начала также проверяем, что мы имеем право аппроксимировать это биномиальное распределение в нормальное\n",
    "n = 1000000\n",
    "p = 0.4\n",
    "\n",
    "mu = n * p\n",
    "std = (n * p * (1 - p))**0.5\n",
    "display(mu - 3 * std, mu + 3 * std)\n",
    "\n",
    "plan = 399500\n",
    "\n",
    "distr = st.norm(mu, std) \n",
    "distr.cdf(plan)"
   ]
  },
  {
   "cell_type": "code",
   "execution_count": 52,
   "id": "7b23ef77",
   "metadata": {},
   "outputs": [
    {
     "data": {
      "image/png": "[encoded data removed]",
      "text/plain": [
       "<Figure size 432x288 with 1 Axes>"
      ]
     },
     "metadata": {
      "needs_background": "light"
     },
     "output_type": "display_data"
    }
   ],
   "source": [
    "x = np.linspace(mu - 3*std, mu + 3*std, 100)\n",
    "plt.plot(x, st.norm.pdf(x, mu, std))\n",
    "plt.show()"
   ]
  },
  {
   "cell_type": "markdown",
   "id": "5f6ea23f",
   "metadata": {},
   "source": [
    "Исходя из полученных данных мы видим, что вероятность того, что объявление откроют не более 399500 пользователей равна 15,37%."
   ]
  },
  {
   "cell_type": "markdown",
   "id": "b5918802",
   "metadata": {},
   "source": [
    "## Общий вывод"
   ]
  },
  {
   "cell_type": "markdown",
   "id": "4349a6c6",
   "metadata": {},
   "source": [
    "В данном проекте мы анализировали данные популярного сервиса аренды самокатов GoFast. В нашем распоряжении имелись данные о некоторых пользователях из нескольких городов, а также о характеристиках их поездок. \n",
    "\n",
    "Наши результаты:  \n",
    "1. Провели предобработку данных:\n",
    "    - Проанализировать на предмет наличия явных и неявных дубликатов и обработали их, удалив;\n",
    "    - Пропуски в данных обнаружены не были. Дополнительных действий не требовалось;\n",
    "    - Обновили тип столбца date на datetime;\n",
    "3. Исследовали и визуализировали следующие параметры:\n",
    "    - Изучили частоту встречаемости городов. Наибольшее количество пользователей в Пятигорске (219), наименьшее - в Москве (168). Среднее - 194 со стандартным отклонением в 15,7. Различия между городами в количестве пользователей довольно невелико;\n",
    "    - Пользователей без подписки чуть больше чем тех, кто имеет подписку - 835 против 699.;\n",
    "    - Наиболее часто встречающийся возраст пользователей - 25 лет. Таких пользователей 145. Наиболее редко встречающийся - 39 и 43 года (по 1 пользователю). Всего в таблице имеется 29 различных возрастов от 12 до 43 лет.;\n",
    "    - Изучили расстояние, которое пользователь преодолел за одну поездку. Средняя дальность - 3070. Медиана - 3133. Стандартное отклонение - 1116. Расстояние варьируется от 0,86 до 7211 метров.;\n",
    "    - Также рассмотрели длительность поездок. Средняя длительность - 17,8. Медиана - 17,7. Максимальная зафиксированная длительность - 41 минута, минимальная - 2,3. Стандартное отклонение - 5,97.\n",
    "4. Объединили все данные в одну таблицу и сделали промежуточные выводы о разнице показателей разных групп пользователей. Средняя длительность и медиана у пользователей с подпиской чуть выше чем у пользователей без подписки, а стандартное отклонение - меньше. \n",
    "5. Посчитали помесячную выручку и внесли её в таблицу, а для этого изучили:\n",
    "    - Суммарное расстояние для пользователя за каждый месяц;\n",
    "    - Количество поездок;\n",
    "    - Суммарное время;\n",
    "6. Проверили несколько гипотез касательно наших данных:\n",
    "    - Пользователи с подпиской действительно тратят статистически значимо больше времени на поездки, чем пользователи без неё.\n",
    "    - Гипотеза о том, что среднее расстояние не больше 3130 метров не была отпровержена, а значит средний износ не больше 3130 метров. За износ самокатов можно не переживать.\n",
    "    - Помесячная выручка от пользователей с подпиской по месяцам значимо выше, чем выручка от пользователей без подписки.\n",
    "7. Решили два дополнительных задания касательно стратегий маркетингового отдела.\n",
    "    - При условии плана **получить не менее 100 клиентов, продливших подписку,** и вероятности этого события в 10% от каждого выданного промокода на бесплатный месяц , отделу маркетинга необходимо выдать 1160 купонов, чтобы вероятность не выполнить план была 4,8%.  \n",
    "    - При рассылке 1млн. уведомлений и вероятности открыть каждое уведомление в 40%, вероятность того, что объявление откроют не более 399500 пользователей равна 15,37%.\n",
    "\n",
    "Итого: задачи проекта выполнены, а цели достигнуты."
   ]
  }
 ],
 "metadata": {
  "ExecuteTimeLog": [
   {
    "duration": 426,
    "start_time": "2023-11-23T14:38:29.424Z"
   },
   {
    "duration": 86,
    "start_time": "2023-11-23T14:39:05.207Z"
   },
   {
    "duration": 45,
    "start_time": "2023-11-23T14:39:08.868Z"
   },
   {
    "duration": 36,
    "start_time": "2023-11-23T14:39:16.587Z"
   },
   {
    "duration": 235,
    "start_time": "2023-11-23T14:40:16.848Z"
   },
   {
    "duration": 77,
    "start_time": "2023-11-23T14:40:20.332Z"
   },
   {
    "duration": 78,
    "start_time": "2023-11-23T14:40:25.315Z"
   },
   {
    "duration": 75,
    "start_time": "2023-11-23T14:40:34.425Z"
   },
   {
    "duration": 76,
    "start_time": "2023-11-23T14:41:35.794Z"
   },
   {
    "duration": 46,
    "start_time": "2023-11-23T14:42:08.676Z"
   },
   {
    "duration": 44,
    "start_time": "2023-11-23T14:42:11.853Z"
   },
   {
    "duration": 31,
    "start_time": "2023-11-23T14:42:24.649Z"
   },
   {
    "duration": 31,
    "start_time": "2023-11-23T14:42:29.332Z"
   },
   {
    "duration": 41,
    "start_time": "2023-11-23T14:43:25.051Z"
   },
   {
    "duration": 55,
    "start_time": "2023-11-23T14:43:33.395Z"
   },
   {
    "duration": 37,
    "start_time": "2023-11-23T14:43:43.253Z"
   },
   {
    "duration": 53,
    "start_time": "2023-11-24T09:30:11.045Z"
   },
   {
    "duration": 402,
    "start_time": "2023-11-24T09:30:16.269Z"
   },
   {
    "duration": 108,
    "start_time": "2023-11-24T09:30:17.869Z"
   },
   {
    "duration": 177,
    "start_time": "2023-11-24T09:30:19.945Z"
   },
   {
    "duration": 78,
    "start_time": "2023-11-24T09:30:23.601Z"
   },
   {
    "duration": 8,
    "start_time": "2023-11-24T09:30:25.856Z"
   },
   {
    "duration": 13,
    "start_time": "2023-11-24T09:30:42.553Z"
   },
   {
    "duration": 12,
    "start_time": "2023-11-24T09:31:02.030Z"
   },
   {
    "duration": 12,
    "start_time": "2023-11-24T09:31:14.144Z"
   },
   {
    "duration": 15,
    "start_time": "2023-11-24T09:31:19.825Z"
   },
   {
    "duration": 12,
    "start_time": "2023-11-24T09:31:47.412Z"
   },
   {
    "duration": 1821,
    "start_time": "2023-11-24T09:32:53.753Z"
   },
   {
    "duration": 1705,
    "start_time": "2023-11-24T09:33:16.436Z"
   },
   {
    "duration": 17,
    "start_time": "2023-11-24T09:33:46.884Z"
   },
   {
    "duration": 1688,
    "start_time": "2023-11-24T09:34:08.738Z"
   },
   {
    "duration": 14,
    "start_time": "2023-11-24T09:34:22.252Z"
   },
   {
    "duration": 9,
    "start_time": "2023-11-24T09:53:56.186Z"
   },
   {
    "duration": 16,
    "start_time": "2023-11-24T09:54:29.439Z"
   },
   {
    "duration": 11,
    "start_time": "2023-11-24T09:54:45.317Z"
   },
   {
    "duration": 6,
    "start_time": "2023-11-24T09:54:53.620Z"
   },
   {
    "duration": 5,
    "start_time": "2023-11-24T09:56:06.468Z"
   },
   {
    "duration": 7,
    "start_time": "2023-11-24T09:56:11.424Z"
   },
   {
    "duration": 8,
    "start_time": "2023-11-24T09:56:16.974Z"
   },
   {
    "duration": 7,
    "start_time": "2023-11-24T09:56:40.135Z"
   },
   {
    "duration": 6,
    "start_time": "2023-11-24T09:57:30.730Z"
   },
   {
    "duration": 7,
    "start_time": "2023-11-24T09:57:49.018Z"
   },
   {
    "duration": 6,
    "start_time": "2023-11-24T09:58:08.026Z"
   },
   {
    "duration": 4,
    "start_time": "2023-11-24T09:58:28.911Z"
   },
   {
    "duration": 6,
    "start_time": "2023-11-24T09:58:31.357Z"
   },
   {
    "duration": 7,
    "start_time": "2023-11-24T09:58:41.385Z"
   },
   {
    "duration": 4,
    "start_time": "2023-11-24T09:59:54.241Z"
   },
   {
    "duration": 5,
    "start_time": "2023-11-24T10:00:55.083Z"
   },
   {
    "duration": 8,
    "start_time": "2023-11-24T10:05:31.752Z"
   },
   {
    "duration": 68,
    "start_time": "2023-11-24T10:05:36.183Z"
   },
   {
    "duration": 12,
    "start_time": "2023-11-24T10:05:41.411Z"
   },
   {
    "duration": 14,
    "start_time": "2023-11-24T10:07:00.810Z"
   },
   {
    "duration": 1676,
    "start_time": "2023-11-24T10:32:38.051Z"
   },
   {
    "duration": 496,
    "start_time": "2023-11-24T10:33:05.765Z"
   },
   {
    "duration": 124,
    "start_time": "2023-11-24T10:33:11.761Z"
   },
   {
    "duration": 188,
    "start_time": "2023-11-24T10:33:21.267Z"
   },
   {
    "duration": 142,
    "start_time": "2023-11-24T10:33:32.011Z"
   },
   {
    "duration": 127,
    "start_time": "2023-11-24T10:33:56.722Z"
   },
   {
    "duration": 139,
    "start_time": "2023-11-24T10:35:26.130Z"
   },
   {
    "duration": 135,
    "start_time": "2023-11-24T10:35:30.795Z"
   },
   {
    "duration": 134,
    "start_time": "2023-11-24T10:36:37.923Z"
   },
   {
    "duration": 108,
    "start_time": "2023-11-24T10:36:53.570Z"
   },
   {
    "duration": 126,
    "start_time": "2023-11-24T10:36:56.804Z"
   },
   {
    "duration": 142,
    "start_time": "2023-11-24T10:37:04.430Z"
   },
   {
    "duration": 134,
    "start_time": "2023-11-24T10:37:09.613Z"
   },
   {
    "duration": 117,
    "start_time": "2023-11-24T10:45:05.184Z"
   },
   {
    "duration": 147,
    "start_time": "2023-11-24T10:45:26.355Z"
   },
   {
    "duration": 219,
    "start_time": "2023-11-24T10:46:47.908Z"
   },
   {
    "duration": 138,
    "start_time": "2023-11-24T10:46:57.067Z"
   },
   {
    "duration": 180,
    "start_time": "2023-11-24T10:47:01.910Z"
   },
   {
    "duration": 116,
    "start_time": "2023-11-24T10:49:12.420Z"
   },
   {
    "duration": 126,
    "start_time": "2023-11-24T10:51:30.368Z"
   },
   {
    "duration": 242,
    "start_time": "2023-11-24T10:51:38.612Z"
   },
   {
    "duration": 237,
    "start_time": "2023-11-24T10:51:47.586Z"
   },
   {
    "duration": 245,
    "start_time": "2023-11-24T10:52:14.771Z"
   },
   {
    "duration": 259,
    "start_time": "2023-11-24T10:52:27.402Z"
   },
   {
    "duration": 344,
    "start_time": "2023-11-24T10:52:31.857Z"
   },
   {
    "duration": 195,
    "start_time": "2023-11-24T11:19:39.399Z"
   },
   {
    "duration": 177,
    "start_time": "2023-11-24T11:19:45.101Z"
   },
   {
    "duration": 176,
    "start_time": "2023-11-24T11:20:20.772Z"
   },
   {
    "duration": 176,
    "start_time": "2023-11-24T11:20:24.380Z"
   },
   {
    "duration": 180,
    "start_time": "2023-11-24T11:31:02.289Z"
   },
   {
    "duration": 7,
    "start_time": "2023-11-24T11:33:12.442Z"
   },
   {
    "duration": 9,
    "start_time": "2023-11-24T11:33:36.015Z"
   },
   {
    "duration": 7,
    "start_time": "2023-11-24T11:33:43.990Z"
   },
   {
    "duration": 5,
    "start_time": "2023-11-24T11:34:33.806Z"
   },
   {
    "duration": 7,
    "start_time": "2023-11-24T11:34:36.822Z"
   },
   {
    "duration": 8,
    "start_time": "2023-11-24T11:34:45.312Z"
   },
   {
    "duration": 8,
    "start_time": "2023-11-24T11:39:56.389Z"
   },
   {
    "duration": 23,
    "start_time": "2023-11-24T11:40:52.732Z"
   },
   {
    "duration": 17,
    "start_time": "2023-11-24T11:41:17.861Z"
   },
   {
    "duration": 24,
    "start_time": "2023-11-24T11:41:53.110Z"
   },
   {
    "duration": 30,
    "start_time": "2023-11-24T11:42:05.956Z"
   },
   {
    "duration": 23,
    "start_time": "2023-11-24T11:42:10.638Z"
   },
   {
    "duration": 16,
    "start_time": "2023-11-24T11:45:22.275Z"
   },
   {
    "duration": 18,
    "start_time": "2023-11-24T11:45:34.801Z"
   },
   {
    "duration": 12,
    "start_time": "2023-11-24T11:45:50.128Z"
   },
   {
    "duration": 15,
    "start_time": "2023-11-24T11:46:00.692Z"
   },
   {
    "duration": 178,
    "start_time": "2023-11-24T11:47:55.234Z"
   },
   {
    "duration": 190,
    "start_time": "2023-11-24T11:48:23.633Z"
   },
   {
    "duration": 171,
    "start_time": "2023-11-24T13:23:12.703Z"
   },
   {
    "duration": 286,
    "start_time": "2023-11-24T13:23:16.930Z"
   },
   {
    "duration": 14,
    "start_time": "2023-11-24T13:43:24.621Z"
   },
   {
    "duration": 10,
    "start_time": "2023-11-24T13:43:55.138Z"
   },
   {
    "duration": 17,
    "start_time": "2023-11-24T13:46:03.805Z"
   },
   {
    "duration": 13,
    "start_time": "2023-11-24T13:46:50.259Z"
   },
   {
    "duration": 13,
    "start_time": "2023-11-24T13:46:53.655Z"
   },
   {
    "duration": 21,
    "start_time": "2023-11-24T13:48:05.033Z"
   },
   {
    "duration": 14,
    "start_time": "2023-11-24T13:50:56.191Z"
   },
   {
    "duration": 10,
    "start_time": "2023-11-24T14:08:13.684Z"
   },
   {
    "duration": 3,
    "start_time": "2023-11-24T14:08:57.881Z"
   },
   {
    "duration": 10,
    "start_time": "2023-11-24T14:09:31.346Z"
   },
   {
    "duration": 3,
    "start_time": "2023-11-24T14:09:48.908Z"
   },
   {
    "duration": 12,
    "start_time": "2023-11-24T14:10:00.335Z"
   },
   {
    "duration": 11,
    "start_time": "2023-11-24T14:10:09.090Z"
   },
   {
    "duration": 11,
    "start_time": "2023-11-24T14:10:19.920Z"
   },
   {
    "duration": 14,
    "start_time": "2023-11-24T14:10:41.194Z"
   },
   {
    "duration": 13,
    "start_time": "2023-11-24T14:15:50.981Z"
   },
   {
    "duration": 419,
    "start_time": "2023-11-24T14:16:24.848Z"
   },
   {
    "duration": 48,
    "start_time": "2023-11-24T14:16:25.269Z"
   },
   {
    "duration": 41,
    "start_time": "2023-11-24T14:16:25.318Z"
   },
   {
    "duration": 28,
    "start_time": "2023-11-24T14:16:25.361Z"
   },
   {
    "duration": 11,
    "start_time": "2023-11-24T14:16:25.391Z"
   },
   {
    "duration": 22,
    "start_time": "2023-11-24T14:16:25.403Z"
   },
   {
    "duration": 5,
    "start_time": "2023-11-24T14:16:25.426Z"
   },
   {
    "duration": 7,
    "start_time": "2023-11-24T14:16:25.433Z"
   },
   {
    "duration": 15,
    "start_time": "2023-11-24T14:16:25.442Z"
   },
   {
    "duration": 14,
    "start_time": "2023-11-24T14:16:25.461Z"
   },
   {
    "duration": 12,
    "start_time": "2023-11-24T14:16:25.477Z"
   },
   {
    "duration": 403,
    "start_time": "2023-11-24T14:16:25.491Z"
   },
   {
    "duration": 123,
    "start_time": "2023-11-24T14:16:25.896Z"
   },
   {
    "duration": 250,
    "start_time": "2023-11-24T14:16:26.020Z"
   },
   {
    "duration": 192,
    "start_time": "2023-11-24T14:16:26.271Z"
   },
   {
    "duration": 235,
    "start_time": "2023-11-24T14:16:26.464Z"
   },
   {
    "duration": 22,
    "start_time": "2023-11-24T14:16:26.701Z"
   },
   {
    "duration": 15,
    "start_time": "2023-11-24T14:16:26.724Z"
   },
   {
    "duration": 194,
    "start_time": "2023-11-24T14:16:26.755Z"
   },
   {
    "duration": 177,
    "start_time": "2023-11-24T14:16:26.951Z"
   },
   {
    "duration": 14,
    "start_time": "2023-11-24T14:16:27.129Z"
   },
   {
    "duration": 181,
    "start_time": "2023-11-24T14:16:27.155Z"
   },
   {
    "duration": 199,
    "start_time": "2023-11-24T14:16:27.337Z"
   },
   {
    "duration": 18,
    "start_time": "2023-11-24T14:16:27.538Z"
   },
   {
    "duration": 18,
    "start_time": "2023-11-24T14:16:27.558Z"
   },
   {
    "duration": 32,
    "start_time": "2023-11-24T14:16:27.578Z"
   },
   {
    "duration": 17,
    "start_time": "2023-11-24T14:25:37.911Z"
   },
   {
    "duration": 20,
    "start_time": "2023-11-24T14:25:44.297Z"
   },
   {
    "duration": 23,
    "start_time": "2023-11-24T14:25:54.715Z"
   },
   {
    "duration": 13,
    "start_time": "2023-11-24T14:26:08.669Z"
   },
   {
    "duration": 12,
    "start_time": "2023-11-24T14:27:09.569Z"
   },
   {
    "duration": 15,
    "start_time": "2023-11-24T14:28:06.275Z"
   },
   {
    "duration": 366,
    "start_time": "2023-11-24T14:28:20.695Z"
   },
   {
    "duration": 47,
    "start_time": "2023-11-24T14:28:21.063Z"
   },
   {
    "duration": 42,
    "start_time": "2023-11-24T14:28:21.113Z"
   },
   {
    "duration": 26,
    "start_time": "2023-11-24T14:28:21.157Z"
   },
   {
    "duration": 11,
    "start_time": "2023-11-24T14:28:21.184Z"
   },
   {
    "duration": 18,
    "start_time": "2023-11-24T14:28:21.196Z"
   },
   {
    "duration": 6,
    "start_time": "2023-11-24T14:28:21.216Z"
   },
   {
    "duration": 9,
    "start_time": "2023-11-24T14:28:21.225Z"
   },
   {
    "duration": 10,
    "start_time": "2023-11-24T14:28:21.235Z"
   },
   {
    "duration": 6,
    "start_time": "2023-11-24T14:28:21.255Z"
   },
   {
    "duration": 13,
    "start_time": "2023-11-24T14:28:21.262Z"
   },
   {
    "duration": 392,
    "start_time": "2023-11-24T14:28:21.277Z"
   },
   {
    "duration": 128,
    "start_time": "2023-11-24T14:28:21.673Z"
   },
   {
    "duration": 269,
    "start_time": "2023-11-24T14:28:21.803Z"
   },
   {
    "duration": 186,
    "start_time": "2023-11-24T14:28:22.074Z"
   },
   {
    "duration": 231,
    "start_time": "2023-11-24T14:28:22.261Z"
   },
   {
    "duration": 24,
    "start_time": "2023-11-24T14:28:22.494Z"
   },
   {
    "duration": 16,
    "start_time": "2023-11-24T14:28:22.519Z"
   },
   {
    "duration": 198,
    "start_time": "2023-11-24T14:28:22.537Z"
   },
   {
    "duration": 183,
    "start_time": "2023-11-24T14:28:22.737Z"
   },
   {
    "duration": 13,
    "start_time": "2023-11-24T14:28:22.921Z"
   },
   {
    "duration": 178,
    "start_time": "2023-11-24T14:28:22.936Z"
   },
   {
    "duration": 194,
    "start_time": "2023-11-24T14:28:23.116Z"
   },
   {
    "duration": 13,
    "start_time": "2023-11-24T14:28:23.312Z"
   },
   {
    "duration": 16,
    "start_time": "2023-11-24T14:28:23.327Z"
   },
   {
    "duration": 13,
    "start_time": "2023-11-24T14:28:23.355Z"
   },
   {
    "duration": 15,
    "start_time": "2023-11-24T14:28:43.081Z"
   },
   {
    "duration": 16,
    "start_time": "2023-11-24T14:42:04.601Z"
   },
   {
    "duration": 5,
    "start_time": "2023-11-24T14:49:37.051Z"
   },
   {
    "duration": 113,
    "start_time": "2023-11-24T15:47:47.605Z"
   },
   {
    "duration": 1835,
    "start_time": "2023-11-24T15:48:06.866Z"
   },
   {
    "duration": 1807,
    "start_time": "2023-11-24T15:48:14.180Z"
   },
   {
    "duration": 15,
    "start_time": "2023-11-24T15:48:39.793Z"
   },
   {
    "duration": 1685,
    "start_time": "2023-11-24T16:08:22.483Z"
   },
   {
    "duration": 5,
    "start_time": "2023-11-24T16:08:36.869Z"
   },
   {
    "duration": 1707,
    "start_time": "2023-11-24T16:08:57.146Z"
   },
   {
    "duration": 1724,
    "start_time": "2023-11-24T16:09:05.494Z"
   },
   {
    "duration": 9,
    "start_time": "2023-11-24T16:15:10.264Z"
   },
   {
    "duration": 1951,
    "start_time": "2023-11-24T16:15:29.429Z"
   },
   {
    "duration": 1720,
    "start_time": "2023-11-24T16:17:00.733Z"
   },
   {
    "duration": 8,
    "start_time": "2023-11-24T16:17:12.740Z"
   },
   {
    "duration": 9,
    "start_time": "2023-11-24T16:17:40.672Z"
   },
   {
    "duration": 5,
    "start_time": "2023-11-24T16:17:59.704Z"
   },
   {
    "duration": 6,
    "start_time": "2023-11-24T16:29:33.890Z"
   },
   {
    "duration": 5,
    "start_time": "2023-11-24T16:30:11.179Z"
   },
   {
    "duration": 4,
    "start_time": "2023-11-24T16:30:17.170Z"
   },
   {
    "duration": 4,
    "start_time": "2023-11-24T16:30:43.887Z"
   },
   {
    "duration": 4,
    "start_time": "2023-11-24T16:30:49.990Z"
   },
   {
    "duration": 104,
    "start_time": "2023-11-24T16:59:36.873Z"
   },
   {
    "duration": 81,
    "start_time": "2023-11-24T16:59:47.562Z"
   },
   {
    "duration": 75,
    "start_time": "2023-11-24T16:59:52.283Z"
   },
   {
    "duration": 73,
    "start_time": "2023-11-24T17:00:08.846Z"
   },
   {
    "duration": 81,
    "start_time": "2023-11-24T17:00:25.011Z"
   },
   {
    "duration": 62,
    "start_time": "2023-11-24T17:22:43.294Z"
   },
   {
    "duration": 1462,
    "start_time": "2023-11-24T17:26:27.317Z"
   },
   {
    "duration": 7272,
    "start_time": "2023-11-24T17:26:52.114Z"
   },
   {
    "duration": 121,
    "start_time": "2023-11-24T17:27:05.542Z"
   },
   {
    "duration": 1610,
    "start_time": "2023-11-24T17:28:26.416Z"
   },
   {
    "duration": 2710,
    "start_time": "2023-11-24T17:28:40.617Z"
   },
   {
    "duration": 7843,
    "start_time": "2023-11-24T17:28:49.465Z"
   },
   {
    "duration": 27,
    "start_time": "2023-11-24T17:30:10.153Z"
   },
   {
    "duration": 14,
    "start_time": "2023-11-24T17:30:37.604Z"
   },
   {
    "duration": 10,
    "start_time": "2023-11-24T17:30:45.702Z"
   },
   {
    "duration": 12,
    "start_time": "2023-11-24T17:30:51.169Z"
   },
   {
    "duration": 444,
    "start_time": "2023-11-24T17:31:09.354Z"
   },
   {
    "duration": 49,
    "start_time": "2023-11-24T17:31:09.800Z"
   },
   {
    "duration": 47,
    "start_time": "2023-11-24T17:31:09.851Z"
   },
   {
    "duration": 26,
    "start_time": "2023-11-24T17:31:09.900Z"
   },
   {
    "duration": 12,
    "start_time": "2023-11-24T17:31:09.928Z"
   },
   {
    "duration": 30,
    "start_time": "2023-11-24T17:31:09.942Z"
   },
   {
    "duration": 8,
    "start_time": "2023-11-24T17:31:09.977Z"
   },
   {
    "duration": 7,
    "start_time": "2023-11-24T17:31:09.987Z"
   },
   {
    "duration": 69,
    "start_time": "2023-11-24T17:31:09.996Z"
   },
   {
    "duration": 54,
    "start_time": "2023-11-24T17:31:10.066Z"
   },
   {
    "duration": 44,
    "start_time": "2023-11-24T17:31:10.122Z"
   },
   {
    "duration": 453,
    "start_time": "2023-11-24T17:31:10.170Z"
   },
   {
    "duration": 123,
    "start_time": "2023-11-24T17:31:10.625Z"
   },
   {
    "duration": 268,
    "start_time": "2023-11-24T17:31:10.750Z"
   },
   {
    "duration": 235,
    "start_time": "2023-11-24T17:31:11.019Z"
   },
   {
    "duration": 267,
    "start_time": "2023-11-24T17:31:11.265Z"
   },
   {
    "duration": 35,
    "start_time": "2023-11-24T17:31:11.533Z"
   },
   {
    "duration": 19,
    "start_time": "2023-11-24T17:31:11.575Z"
   },
   {
    "duration": 231,
    "start_time": "2023-11-24T17:31:11.595Z"
   },
   {
    "duration": 219,
    "start_time": "2023-11-24T17:31:11.827Z"
   },
   {
    "duration": 30,
    "start_time": "2023-11-24T17:31:12.048Z"
   },
   {
    "duration": 208,
    "start_time": "2023-11-24T17:31:12.081Z"
   },
   {
    "duration": 214,
    "start_time": "2023-11-24T17:31:12.290Z"
   },
   {
    "duration": 15,
    "start_time": "2023-11-24T17:31:12.506Z"
   },
   {
    "duration": 49,
    "start_time": "2023-11-24T17:31:12.523Z"
   },
   {
    "duration": 20,
    "start_time": "2023-11-24T17:31:12.579Z"
   },
   {
    "duration": 16,
    "start_time": "2023-11-24T17:31:12.601Z"
   },
   {
    "duration": 15,
    "start_time": "2023-11-24T17:31:12.618Z"
   },
   {
    "duration": 37,
    "start_time": "2023-11-24T17:31:12.635Z"
   },
   {
    "duration": 13,
    "start_time": "2023-11-24T17:31:27.811Z"
   },
   {
    "duration": 17,
    "start_time": "2023-11-24T17:31:40.948Z"
   },
   {
    "duration": 9,
    "start_time": "2023-11-24T17:31:49.346Z"
   },
   {
    "duration": 20,
    "start_time": "2023-11-24T17:31:53.670Z"
   },
   {
    "duration": 15,
    "start_time": "2023-11-24T17:32:13.612Z"
   },
   {
    "duration": 21,
    "start_time": "2023-11-24T17:32:25.670Z"
   },
   {
    "duration": 424,
    "start_time": "2023-11-24T17:32:55.328Z"
   },
   {
    "duration": 48,
    "start_time": "2023-11-24T17:32:55.754Z"
   },
   {
    "duration": 40,
    "start_time": "2023-11-24T17:32:55.803Z"
   },
   {
    "duration": 44,
    "start_time": "2023-11-24T17:32:55.844Z"
   },
   {
    "duration": 15,
    "start_time": "2023-11-24T17:32:55.891Z"
   },
   {
    "duration": 25,
    "start_time": "2023-11-24T17:32:55.907Z"
   },
   {
    "duration": 5,
    "start_time": "2023-11-24T17:32:55.934Z"
   },
   {
    "duration": 25,
    "start_time": "2023-11-24T17:32:55.940Z"
   },
   {
    "duration": 17,
    "start_time": "2023-11-24T17:32:55.967Z"
   },
   {
    "duration": 25,
    "start_time": "2023-11-24T17:32:55.986Z"
   },
   {
    "duration": 14,
    "start_time": "2023-11-24T17:32:56.013Z"
   },
   {
    "duration": 480,
    "start_time": "2023-11-24T17:32:56.028Z"
   },
   {
    "duration": 136,
    "start_time": "2023-11-24T17:32:56.510Z"
   },
   {
    "duration": 278,
    "start_time": "2023-11-24T17:32:56.649Z"
   },
   {
    "duration": 211,
    "start_time": "2023-11-24T17:32:56.929Z"
   },
   {
    "duration": 286,
    "start_time": "2023-11-24T17:32:57.142Z"
   },
   {
    "duration": 45,
    "start_time": "2023-11-24T17:32:57.430Z"
   },
   {
    "duration": 21,
    "start_time": "2023-11-24T17:32:57.481Z"
   },
   {
    "duration": 245,
    "start_time": "2023-11-24T17:32:57.504Z"
   },
   {
    "duration": 202,
    "start_time": "2023-11-24T17:32:57.750Z"
   },
   {
    "duration": 28,
    "start_time": "2023-11-24T17:32:57.953Z"
   },
   {
    "duration": 214,
    "start_time": "2023-11-24T17:32:57.984Z"
   },
   {
    "duration": 215,
    "start_time": "2023-11-24T17:32:58.200Z"
   },
   {
    "duration": 13,
    "start_time": "2023-11-24T17:32:58.416Z"
   },
   {
    "duration": 10,
    "start_time": "2023-11-24T17:32:58.431Z"
   },
   {
    "duration": 38,
    "start_time": "2023-11-24T17:32:58.443Z"
   },
   {
    "duration": 20,
    "start_time": "2023-11-24T17:32:58.485Z"
   },
   {
    "duration": 4,
    "start_time": "2023-11-24T17:32:58.507Z"
   },
   {
    "duration": 11,
    "start_time": "2023-11-24T17:32:58.513Z"
   },
   {
    "duration": 112,
    "start_time": "2023-11-24T17:33:55.015Z"
   },
   {
    "duration": 18,
    "start_time": "2023-11-24T17:33:59.569Z"
   },
   {
    "duration": 15,
    "start_time": "2023-11-24T17:34:08.833Z"
   },
   {
    "duration": 106,
    "start_time": "2023-11-24T17:34:18.001Z"
   },
   {
    "duration": 29,
    "start_time": "2023-11-24T17:34:19.452Z"
   },
   {
    "duration": 15,
    "start_time": "2023-11-24T17:34:27.736Z"
   },
   {
    "duration": 9,
    "start_time": "2023-11-24T17:35:08.070Z"
   },
   {
    "duration": 1509,
    "start_time": "2023-11-24T17:35:34.948Z"
   },
   {
    "duration": 122,
    "start_time": "2023-11-24T17:35:40.525Z"
   },
   {
    "duration": 123,
    "start_time": "2023-11-24T17:35:47.656Z"
   },
   {
    "duration": 80,
    "start_time": "2023-11-24T17:40:35.361Z"
   },
   {
    "duration": 126,
    "start_time": "2023-11-24T17:40:59.603Z"
   },
   {
    "duration": 93,
    "start_time": "2023-11-24T17:42:28.139Z"
   },
   {
    "duration": 15,
    "start_time": "2023-11-24T17:42:56.624Z"
   },
   {
    "duration": 8,
    "start_time": "2023-11-24T17:43:20.540Z"
   },
   {
    "duration": 7,
    "start_time": "2023-11-24T17:43:51.351Z"
   },
   {
    "duration": 9,
    "start_time": "2023-11-24T17:43:56.555Z"
   },
   {
    "duration": 3,
    "start_time": "2023-11-24T17:43:59.801Z"
   },
   {
    "duration": 5,
    "start_time": "2023-11-24T17:44:05.762Z"
   },
   {
    "duration": 4,
    "start_time": "2023-11-24T17:44:11.728Z"
   },
   {
    "duration": 3,
    "start_time": "2023-11-24T17:44:41.769Z"
   },
   {
    "duration": 1762,
    "start_time": "2023-11-24T17:45:01.804Z"
   },
   {
    "duration": 4,
    "start_time": "2023-11-24T17:45:30.060Z"
   },
   {
    "duration": 7,
    "start_time": "2023-11-24T17:45:37.855Z"
   },
   {
    "duration": 9,
    "start_time": "2023-11-24T17:46:06.047Z"
   },
   {
    "duration": 398,
    "start_time": "2023-11-24T17:59:44.873Z"
   },
   {
    "duration": 49,
    "start_time": "2023-11-24T17:59:45.273Z"
   },
   {
    "duration": 41,
    "start_time": "2023-11-24T17:59:45.324Z"
   },
   {
    "duration": 34,
    "start_time": "2023-11-24T17:59:45.367Z"
   },
   {
    "duration": 15,
    "start_time": "2023-11-24T17:59:45.404Z"
   },
   {
    "duration": 128,
    "start_time": "2023-11-24T17:59:45.420Z"
   },
   {
    "duration": 60,
    "start_time": "2023-11-24T17:59:45.549Z"
   },
   {
    "duration": 43,
    "start_time": "2023-11-24T17:59:45.611Z"
   },
   {
    "duration": 50,
    "start_time": "2023-11-24T17:59:45.655Z"
   },
   {
    "duration": 19,
    "start_time": "2023-11-24T17:59:45.706Z"
   },
   {
    "duration": 20,
    "start_time": "2023-11-24T17:59:45.726Z"
   },
   {
    "duration": 414,
    "start_time": "2023-11-24T17:59:45.747Z"
   },
   {
    "duration": 121,
    "start_time": "2023-11-24T17:59:46.163Z"
   },
   {
    "duration": 251,
    "start_time": "2023-11-24T17:59:46.287Z"
   },
   {
    "duration": 190,
    "start_time": "2023-11-24T17:59:46.540Z"
   },
   {
    "duration": 245,
    "start_time": "2023-11-24T17:59:46.732Z"
   },
   {
    "duration": 24,
    "start_time": "2023-11-24T17:59:46.978Z"
   },
   {
    "duration": 16,
    "start_time": "2023-11-24T17:59:47.004Z"
   },
   {
    "duration": 202,
    "start_time": "2023-11-24T17:59:47.021Z"
   },
   {
    "duration": 186,
    "start_time": "2023-11-24T17:59:47.224Z"
   },
   {
    "duration": 13,
    "start_time": "2023-11-24T17:59:47.412Z"
   },
   {
    "duration": 190,
    "start_time": "2023-11-24T17:59:47.426Z"
   },
   {
    "duration": 191,
    "start_time": "2023-11-24T17:59:47.617Z"
   },
   {
    "duration": 13,
    "start_time": "2023-11-24T17:59:47.809Z"
   },
   {
    "duration": 7,
    "start_time": "2023-11-24T17:59:47.823Z"
   },
   {
    "duration": 29,
    "start_time": "2023-11-24T17:59:47.831Z"
   },
   {
    "duration": 13,
    "start_time": "2023-11-24T17:59:47.862Z"
   },
   {
    "duration": 108,
    "start_time": "2023-11-24T18:00:46.654Z"
   },
   {
    "duration": 10,
    "start_time": "2023-11-24T18:00:51.297Z"
   },
   {
    "duration": 76,
    "start_time": "2023-11-24T18:07:55.897Z"
   },
   {
    "duration": 10,
    "start_time": "2023-11-24T18:55:40.265Z"
   },
   {
    "duration": 15,
    "start_time": "2023-11-24T18:56:55.614Z"
   },
   {
    "duration": 6,
    "start_time": "2023-11-24T19:00:15.064Z"
   },
   {
    "duration": 15,
    "start_time": "2023-11-24T19:00:34.736Z"
   },
   {
    "duration": 14,
    "start_time": "2023-11-24T19:00:48.869Z"
   },
   {
    "duration": 354,
    "start_time": "2023-11-24T19:01:06.406Z"
   },
   {
    "duration": 47,
    "start_time": "2023-11-24T19:01:06.762Z"
   },
   {
    "duration": 39,
    "start_time": "2023-11-24T19:01:06.811Z"
   },
   {
    "duration": 24,
    "start_time": "2023-11-24T19:01:06.852Z"
   },
   {
    "duration": 11,
    "start_time": "2023-11-24T19:01:06.878Z"
   },
   {
    "duration": 23,
    "start_time": "2023-11-24T19:01:06.890Z"
   },
   {
    "duration": 5,
    "start_time": "2023-11-24T19:01:06.915Z"
   },
   {
    "duration": 8,
    "start_time": "2023-11-24T19:01:06.921Z"
   },
   {
    "duration": 19,
    "start_time": "2023-11-24T19:01:06.930Z"
   },
   {
    "duration": 7,
    "start_time": "2023-11-24T19:01:06.951Z"
   },
   {
    "duration": 14,
    "start_time": "2023-11-24T19:01:06.959Z"
   },
   {
    "duration": 402,
    "start_time": "2023-11-24T19:01:06.974Z"
   },
   {
    "duration": 135,
    "start_time": "2023-11-24T19:01:07.378Z"
   },
   {
    "duration": 259,
    "start_time": "2023-11-24T19:01:07.516Z"
   },
   {
    "duration": 195,
    "start_time": "2023-11-24T19:01:07.776Z"
   },
   {
    "duration": 266,
    "start_time": "2023-11-24T19:01:07.973Z"
   },
   {
    "duration": 35,
    "start_time": "2023-11-24T19:01:08.241Z"
   },
   {
    "duration": 18,
    "start_time": "2023-11-24T19:01:08.278Z"
   },
   {
    "duration": 208,
    "start_time": "2023-11-24T19:01:08.297Z"
   },
   {
    "duration": 186,
    "start_time": "2023-11-24T19:01:08.506Z"
   },
   {
    "duration": 13,
    "start_time": "2023-11-24T19:01:08.694Z"
   },
   {
    "duration": 240,
    "start_time": "2023-11-24T19:01:08.709Z"
   },
   {
    "duration": 198,
    "start_time": "2023-11-24T19:01:08.951Z"
   },
   {
    "duration": 19,
    "start_time": "2023-11-24T19:01:09.151Z"
   },
   {
    "duration": 71,
    "start_time": "2023-11-24T19:01:09.172Z"
   },
   {
    "duration": 50,
    "start_time": "2023-11-24T19:01:09.244Z"
   },
   {
    "duration": 35,
    "start_time": "2023-11-24T19:01:09.295Z"
   },
   {
    "duration": 44,
    "start_time": "2023-11-24T19:01:09.331Z"
   },
   {
    "duration": 42,
    "start_time": "2023-11-24T19:01:09.376Z"
   },
   {
    "duration": 404,
    "start_time": "2023-11-24T19:01:51.375Z"
   },
   {
    "duration": 50,
    "start_time": "2023-11-24T19:01:51.781Z"
   },
   {
    "duration": 43,
    "start_time": "2023-11-24T19:01:51.832Z"
   },
   {
    "duration": 26,
    "start_time": "2023-11-24T19:01:51.876Z"
   },
   {
    "duration": 11,
    "start_time": "2023-11-24T19:01:51.904Z"
   },
   {
    "duration": 17,
    "start_time": "2023-11-24T19:01:51.917Z"
   },
   {
    "duration": 5,
    "start_time": "2023-11-24T19:01:51.935Z"
   },
   {
    "duration": 28,
    "start_time": "2023-11-24T19:01:51.957Z"
   },
   {
    "duration": 29,
    "start_time": "2023-11-24T19:01:51.987Z"
   },
   {
    "duration": 14,
    "start_time": "2023-11-24T19:01:52.018Z"
   },
   {
    "duration": 17,
    "start_time": "2023-11-24T19:01:52.033Z"
   },
   {
    "duration": 396,
    "start_time": "2023-11-24T19:01:52.052Z"
   },
   {
    "duration": 142,
    "start_time": "2023-11-24T19:01:52.450Z"
   },
   {
    "duration": 273,
    "start_time": "2023-11-24T19:01:52.594Z"
   },
   {
    "duration": 201,
    "start_time": "2023-11-24T19:01:52.869Z"
   },
   {
    "duration": 245,
    "start_time": "2023-11-24T19:01:53.072Z"
   },
   {
    "duration": 22,
    "start_time": "2023-11-24T19:01:53.319Z"
   },
   {
    "duration": 28,
    "start_time": "2023-11-24T19:01:53.342Z"
   },
   {
    "duration": 197,
    "start_time": "2023-11-24T19:01:53.371Z"
   },
   {
    "duration": 193,
    "start_time": "2023-11-24T19:01:53.570Z"
   },
   {
    "duration": 14,
    "start_time": "2023-11-24T19:01:53.765Z"
   },
   {
    "duration": 206,
    "start_time": "2023-11-24T19:01:53.780Z"
   },
   {
    "duration": 210,
    "start_time": "2023-11-24T19:01:53.988Z"
   },
   {
    "duration": 13,
    "start_time": "2023-11-24T19:01:54.199Z"
   },
   {
    "duration": 33,
    "start_time": "2023-11-24T19:01:54.214Z"
   },
   {
    "duration": 69,
    "start_time": "2023-11-24T19:01:54.249Z"
   },
   {
    "duration": 14,
    "start_time": "2023-11-24T19:01:54.319Z"
   },
   {
    "duration": 21,
    "start_time": "2023-11-24T19:01:54.334Z"
   },
   {
    "duration": 98,
    "start_time": "2023-11-24T19:01:54.359Z"
   },
   {
    "duration": 11,
    "start_time": "2023-11-24T19:03:38.165Z"
   },
   {
    "duration": 6,
    "start_time": "2023-11-24T19:04:05.853Z"
   },
   {
    "duration": 9,
    "start_time": "2023-11-24T19:04:44.106Z"
   },
   {
    "duration": 8,
    "start_time": "2023-11-24T19:04:47.184Z"
   },
   {
    "duration": 18,
    "start_time": "2023-11-24T19:04:51.174Z"
   },
   {
    "duration": 8,
    "start_time": "2023-11-24T19:05:48.175Z"
   },
   {
    "duration": 13,
    "start_time": "2023-11-24T19:10:30.618Z"
   },
   {
    "duration": 9,
    "start_time": "2023-11-24T19:19:13.023Z"
   },
   {
    "duration": 22,
    "start_time": "2023-11-24T19:19:20.242Z"
   },
   {
    "duration": 5,
    "start_time": "2023-11-24T19:22:30.748Z"
   },
   {
    "duration": 10,
    "start_time": "2023-11-24T19:22:36.118Z"
   },
   {
    "duration": 5,
    "start_time": "2023-11-24T19:22:42.748Z"
   },
   {
    "duration": 390,
    "start_time": "2023-11-24T19:51:05.077Z"
   },
   {
    "duration": 50,
    "start_time": "2023-11-24T19:51:05.473Z"
   },
   {
    "duration": 42,
    "start_time": "2023-11-24T19:51:05.525Z"
   },
   {
    "duration": 27,
    "start_time": "2023-11-24T19:51:05.569Z"
   },
   {
    "duration": 12,
    "start_time": "2023-11-24T19:51:05.598Z"
   },
   {
    "duration": 22,
    "start_time": "2023-11-24T19:51:05.611Z"
   },
   {
    "duration": 5,
    "start_time": "2023-11-24T19:51:05.635Z"
   },
   {
    "duration": 19,
    "start_time": "2023-11-24T19:51:05.642Z"
   },
   {
    "duration": 12,
    "start_time": "2023-11-24T19:51:05.663Z"
   },
   {
    "duration": 8,
    "start_time": "2023-11-24T19:51:05.677Z"
   },
   {
    "duration": 26,
    "start_time": "2023-11-24T19:51:05.686Z"
   },
   {
    "duration": 443,
    "start_time": "2023-11-24T19:51:05.713Z"
   },
   {
    "duration": 124,
    "start_time": "2023-11-24T19:51:06.157Z"
   },
   {
    "duration": 268,
    "start_time": "2023-11-24T19:51:06.284Z"
   },
   {
    "duration": 205,
    "start_time": "2023-11-24T19:51:06.554Z"
   },
   {
    "duration": 256,
    "start_time": "2023-11-24T19:51:06.761Z"
   },
   {
    "duration": 22,
    "start_time": "2023-11-24T19:51:07.019Z"
   },
   {
    "duration": 33,
    "start_time": "2023-11-24T19:51:07.042Z"
   },
   {
    "duration": 187,
    "start_time": "2023-11-24T19:51:07.077Z"
   },
   {
    "duration": 205,
    "start_time": "2023-11-24T19:51:07.266Z"
   },
   {
    "duration": 18,
    "start_time": "2023-11-24T19:51:07.473Z"
   },
   {
    "duration": 201,
    "start_time": "2023-11-24T19:51:07.492Z"
   },
   {
    "duration": 202,
    "start_time": "2023-11-24T19:51:07.695Z"
   },
   {
    "duration": 13,
    "start_time": "2023-11-24T19:51:07.899Z"
   },
   {
    "duration": 27,
    "start_time": "2023-11-24T19:51:07.914Z"
   },
   {
    "duration": 17,
    "start_time": "2023-11-24T19:51:07.942Z"
   },
   {
    "duration": 20,
    "start_time": "2023-11-24T19:51:07.961Z"
   },
   {
    "duration": 12,
    "start_time": "2023-11-24T19:51:07.983Z"
   },
   {
    "duration": 9,
    "start_time": "2023-11-24T19:51:07.996Z"
   },
   {
    "duration": 24,
    "start_time": "2023-11-24T19:53:53.827Z"
   },
   {
    "duration": 1814,
    "start_time": "2023-11-24T19:54:09.213Z"
   },
   {
    "duration": 12,
    "start_time": "2023-11-24T19:54:25.413Z"
   },
   {
    "duration": 14,
    "start_time": "2023-11-24T19:54:27.394Z"
   },
   {
    "duration": 430,
    "start_time": "2023-11-24T19:54:43.541Z"
   },
   {
    "duration": 47,
    "start_time": "2023-11-24T19:54:43.974Z"
   },
   {
    "duration": 44,
    "start_time": "2023-11-24T19:54:44.023Z"
   },
   {
    "duration": 27,
    "start_time": "2023-11-24T19:54:44.069Z"
   },
   {
    "duration": 12,
    "start_time": "2023-11-24T19:54:44.098Z"
   },
   {
    "duration": 29,
    "start_time": "2023-11-24T19:54:44.111Z"
   },
   {
    "duration": 5,
    "start_time": "2023-11-24T19:54:44.141Z"
   },
   {
    "duration": 15,
    "start_time": "2023-11-24T19:54:44.148Z"
   },
   {
    "duration": 17,
    "start_time": "2023-11-24T19:54:44.165Z"
   },
   {
    "duration": 19,
    "start_time": "2023-11-24T19:54:44.183Z"
   },
   {
    "duration": 10,
    "start_time": "2023-11-24T19:54:44.204Z"
   },
   {
    "duration": 424,
    "start_time": "2023-11-24T19:54:44.215Z"
   },
   {
    "duration": 124,
    "start_time": "2023-11-24T19:54:44.640Z"
   },
   {
    "duration": 278,
    "start_time": "2023-11-24T19:54:44.768Z"
   },
   {
    "duration": 211,
    "start_time": "2023-11-24T19:54:45.047Z"
   },
   {
    "duration": 254,
    "start_time": "2023-11-24T19:54:45.260Z"
   },
   {
    "duration": 22,
    "start_time": "2023-11-24T19:54:45.516Z"
   },
   {
    "duration": 36,
    "start_time": "2023-11-24T19:54:45.540Z"
   },
   {
    "duration": 230,
    "start_time": "2023-11-24T19:54:45.578Z"
   },
   {
    "duration": 192,
    "start_time": "2023-11-24T19:54:45.810Z"
   },
   {
    "duration": 14,
    "start_time": "2023-11-24T19:54:46.004Z"
   },
   {
    "duration": 190,
    "start_time": "2023-11-24T19:54:46.019Z"
   },
   {
    "duration": 198,
    "start_time": "2023-11-24T19:54:46.211Z"
   },
   {
    "duration": 14,
    "start_time": "2023-11-24T19:54:46.411Z"
   },
   {
    "duration": 13,
    "start_time": "2023-11-24T19:54:46.427Z"
   },
   {
    "duration": 33,
    "start_time": "2023-11-24T19:54:46.442Z"
   },
   {
    "duration": 14,
    "start_time": "2023-11-24T19:54:46.476Z"
   },
   {
    "duration": 31,
    "start_time": "2023-11-24T19:54:46.491Z"
   },
   {
    "duration": 27,
    "start_time": "2023-11-24T19:54:46.524Z"
   },
   {
    "duration": 6,
    "start_time": "2023-11-24T19:55:08.493Z"
   },
   {
    "duration": 10,
    "start_time": "2023-11-24T19:55:40.647Z"
   },
   {
    "duration": 75,
    "start_time": "2023-11-24T19:55:46.423Z"
   },
   {
    "duration": 5,
    "start_time": "2023-11-24T19:55:55.348Z"
   },
   {
    "duration": 366,
    "start_time": "2023-11-24T19:56:53.308Z"
   },
   {
    "duration": 48,
    "start_time": "2023-11-24T19:56:53.677Z"
   },
   {
    "duration": 45,
    "start_time": "2023-11-24T19:56:53.726Z"
   },
   {
    "duration": 25,
    "start_time": "2023-11-24T19:56:53.773Z"
   },
   {
    "duration": 11,
    "start_time": "2023-11-24T19:56:53.800Z"
   },
   {
    "duration": 21,
    "start_time": "2023-11-24T19:56:53.812Z"
   },
   {
    "duration": 4,
    "start_time": "2023-11-24T19:56:53.835Z"
   },
   {
    "duration": 6,
    "start_time": "2023-11-24T19:56:53.840Z"
   },
   {
    "duration": 15,
    "start_time": "2023-11-24T19:56:53.848Z"
   },
   {
    "duration": 9,
    "start_time": "2023-11-24T19:56:53.865Z"
   },
   {
    "duration": 11,
    "start_time": "2023-11-24T19:56:53.875Z"
   },
   {
    "duration": 404,
    "start_time": "2023-11-24T19:56:53.888Z"
   },
   {
    "duration": 142,
    "start_time": "2023-11-24T19:56:54.293Z"
   },
   {
    "duration": 265,
    "start_time": "2023-11-24T19:56:54.437Z"
   },
   {
    "duration": 201,
    "start_time": "2023-11-24T19:56:54.704Z"
   },
   {
    "duration": 266,
    "start_time": "2023-11-24T19:56:54.906Z"
   },
   {
    "duration": 24,
    "start_time": "2023-11-24T19:56:55.174Z"
   },
   {
    "duration": 16,
    "start_time": "2023-11-24T19:56:55.199Z"
   },
   {
    "duration": 224,
    "start_time": "2023-11-24T19:56:55.217Z"
   },
   {
    "duration": 210,
    "start_time": "2023-11-24T19:56:55.442Z"
   },
   {
    "duration": 21,
    "start_time": "2023-11-24T19:56:55.654Z"
   },
   {
    "duration": 182,
    "start_time": "2023-11-24T19:56:55.677Z"
   },
   {
    "duration": 199,
    "start_time": "2023-11-24T19:56:55.861Z"
   },
   {
    "duration": 17,
    "start_time": "2023-11-24T19:56:56.062Z"
   },
   {
    "duration": 27,
    "start_time": "2023-11-24T19:56:56.080Z"
   },
   {
    "duration": 15,
    "start_time": "2023-11-24T19:56:56.109Z"
   },
   {
    "duration": 14,
    "start_time": "2023-11-24T19:56:56.126Z"
   },
   {
    "duration": 17,
    "start_time": "2023-11-24T19:56:56.142Z"
   },
   {
    "duration": 99,
    "start_time": "2023-11-24T19:56:56.161Z"
   },
   {
    "duration": 0,
    "start_time": "2023-11-24T19:56:56.262Z"
   },
   {
    "duration": 252,
    "start_time": "2023-11-24T19:57:06.233Z"
   },
   {
    "duration": 1693,
    "start_time": "2023-11-24T19:57:08.462Z"
   },
   {
    "duration": 5175,
    "start_time": "2023-11-24T19:57:22.149Z"
   },
   {
    "duration": 390,
    "start_time": "2023-11-24T19:58:22.384Z"
   },
   {
    "duration": 47,
    "start_time": "2023-11-24T19:58:22.777Z"
   },
   {
    "duration": 45,
    "start_time": "2023-11-24T19:58:22.825Z"
   },
   {
    "duration": 25,
    "start_time": "2023-11-24T19:58:22.872Z"
   },
   {
    "duration": 11,
    "start_time": "2023-11-24T19:58:22.899Z"
   },
   {
    "duration": 21,
    "start_time": "2023-11-24T19:58:22.912Z"
   },
   {
    "duration": 5,
    "start_time": "2023-11-24T19:58:22.934Z"
   },
   {
    "duration": 17,
    "start_time": "2023-11-24T19:58:22.940Z"
   },
   {
    "duration": 11,
    "start_time": "2023-11-24T19:58:22.959Z"
   },
   {
    "duration": 11,
    "start_time": "2023-11-24T19:58:22.972Z"
   },
   {
    "duration": 15,
    "start_time": "2023-11-24T19:58:22.985Z"
   },
   {
    "duration": 428,
    "start_time": "2023-11-24T19:58:23.002Z"
   },
   {
    "duration": 134,
    "start_time": "2023-11-24T19:58:23.432Z"
   },
   {
    "duration": 270,
    "start_time": "2023-11-24T19:58:23.570Z"
   },
   {
    "duration": 229,
    "start_time": "2023-11-24T19:58:23.842Z"
   },
   {
    "duration": 283,
    "start_time": "2023-11-24T19:58:24.073Z"
   },
   {
    "duration": 29,
    "start_time": "2023-11-24T19:58:24.358Z"
   },
   {
    "duration": 16,
    "start_time": "2023-11-24T19:58:24.388Z"
   },
   {
    "duration": 221,
    "start_time": "2023-11-24T19:58:24.405Z"
   },
   {
    "duration": 214,
    "start_time": "2023-11-24T19:58:24.628Z"
   },
   {
    "duration": 22,
    "start_time": "2023-11-24T19:58:24.843Z"
   },
   {
    "duration": 192,
    "start_time": "2023-11-24T19:58:24.867Z"
   },
   {
    "duration": 218,
    "start_time": "2023-11-24T19:58:25.062Z"
   },
   {
    "duration": 13,
    "start_time": "2023-11-24T19:58:25.281Z"
   },
   {
    "duration": 5,
    "start_time": "2023-11-24T19:58:25.296Z"
   },
   {
    "duration": 24,
    "start_time": "2023-11-24T19:58:25.303Z"
   },
   {
    "duration": 28,
    "start_time": "2023-11-24T19:58:25.329Z"
   },
   {
    "duration": 13,
    "start_time": "2023-11-24T19:58:25.359Z"
   },
   {
    "duration": 37,
    "start_time": "2023-11-24T19:58:25.374Z"
   },
   {
    "duration": 11,
    "start_time": "2023-11-24T19:58:25.412Z"
   },
   {
    "duration": 381,
    "start_time": "2023-11-24T20:11:16.686Z"
   },
   {
    "duration": 48,
    "start_time": "2023-11-24T20:11:17.069Z"
   },
   {
    "duration": 41,
    "start_time": "2023-11-24T20:11:17.118Z"
   },
   {
    "duration": 26,
    "start_time": "2023-11-24T20:11:17.160Z"
   },
   {
    "duration": 11,
    "start_time": "2023-11-24T20:11:17.188Z"
   },
   {
    "duration": 21,
    "start_time": "2023-11-24T20:11:17.201Z"
   },
   {
    "duration": 4,
    "start_time": "2023-11-24T20:11:17.223Z"
   },
   {
    "duration": 7,
    "start_time": "2023-11-24T20:11:17.229Z"
   },
   {
    "duration": 19,
    "start_time": "2023-11-24T20:11:17.237Z"
   },
   {
    "duration": 6,
    "start_time": "2023-11-24T20:11:17.258Z"
   },
   {
    "duration": 32,
    "start_time": "2023-11-24T20:11:17.265Z"
   },
   {
    "duration": 406,
    "start_time": "2023-11-24T20:11:17.299Z"
   },
   {
    "duration": 143,
    "start_time": "2023-11-24T20:11:17.707Z"
   },
   {
    "duration": 268,
    "start_time": "2023-11-24T20:11:17.858Z"
   },
   {
    "duration": 205,
    "start_time": "2023-11-24T20:11:18.128Z"
   },
   {
    "duration": 239,
    "start_time": "2023-11-24T20:11:18.335Z"
   },
   {
    "duration": 22,
    "start_time": "2023-11-24T20:11:18.576Z"
   },
   {
    "duration": 33,
    "start_time": "2023-11-24T20:11:18.600Z"
   },
   {
    "duration": 181,
    "start_time": "2023-11-24T20:11:18.635Z"
   },
   {
    "duration": 198,
    "start_time": "2023-11-24T20:11:18.818Z"
   },
   {
    "duration": 14,
    "start_time": "2023-11-24T20:11:19.018Z"
   },
   {
    "duration": 208,
    "start_time": "2023-11-24T20:11:19.034Z"
   },
   {
    "duration": 188,
    "start_time": "2023-11-24T20:11:19.244Z"
   },
   {
    "duration": 13,
    "start_time": "2023-11-24T20:11:19.433Z"
   },
   {
    "duration": 14,
    "start_time": "2023-11-24T20:11:19.447Z"
   },
   {
    "duration": 15,
    "start_time": "2023-11-24T20:11:19.463Z"
   },
   {
    "duration": 14,
    "start_time": "2023-11-24T20:11:19.482Z"
   },
   {
    "duration": 15,
    "start_time": "2023-11-24T20:11:19.498Z"
   },
   {
    "duration": 1669,
    "start_time": "2023-11-24T20:11:19.514Z"
   },
   {
    "duration": 1878,
    "start_time": "2023-11-24T20:18:27.042Z"
   },
   {
    "duration": 420,
    "start_time": "2023-11-24T20:19:28.049Z"
   },
   {
    "duration": 110,
    "start_time": "2023-11-24T20:19:28.471Z"
   },
   {
    "duration": 177,
    "start_time": "2023-11-24T20:19:28.583Z"
   },
   {
    "duration": 70,
    "start_time": "2023-11-24T20:19:28.762Z"
   },
   {
    "duration": 11,
    "start_time": "2023-11-24T20:19:28.834Z"
   },
   {
    "duration": 39,
    "start_time": "2023-11-24T20:19:28.847Z"
   },
   {
    "duration": 25,
    "start_time": "2023-11-24T20:19:28.887Z"
   },
   {
    "duration": 34,
    "start_time": "2023-11-24T20:19:28.914Z"
   },
   {
    "duration": 41,
    "start_time": "2023-11-24T20:19:28.950Z"
   },
   {
    "duration": 38,
    "start_time": "2023-11-24T20:19:28.992Z"
   },
   {
    "duration": 46,
    "start_time": "2023-11-24T20:19:29.032Z"
   },
   {
    "duration": 447,
    "start_time": "2023-11-24T20:19:29.080Z"
   },
   {
    "duration": 134,
    "start_time": "2023-11-24T20:19:29.530Z"
   },
   {
    "duration": 249,
    "start_time": "2023-11-24T20:19:29.667Z"
   },
   {
    "duration": 209,
    "start_time": "2023-11-24T20:19:29.918Z"
   },
   {
    "duration": 255,
    "start_time": "2023-11-24T20:19:30.129Z"
   },
   {
    "duration": 24,
    "start_time": "2023-11-24T20:19:30.385Z"
   },
   {
    "duration": 23,
    "start_time": "2023-11-24T20:19:30.410Z"
   },
   {
    "duration": 193,
    "start_time": "2023-11-24T20:19:30.435Z"
   },
   {
    "duration": 190,
    "start_time": "2023-11-24T20:19:30.629Z"
   },
   {
    "duration": 14,
    "start_time": "2023-11-24T20:19:30.821Z"
   },
   {
    "duration": 185,
    "start_time": "2023-11-24T20:19:30.836Z"
   },
   {
    "duration": 200,
    "start_time": "2023-11-24T20:19:31.023Z"
   },
   {
    "duration": 14,
    "start_time": "2023-11-24T20:19:31.224Z"
   },
   {
    "duration": 20,
    "start_time": "2023-11-24T20:19:31.240Z"
   },
   {
    "duration": 46,
    "start_time": "2023-11-24T20:19:31.262Z"
   },
   {
    "duration": 35,
    "start_time": "2023-11-24T20:19:31.309Z"
   },
   {
    "duration": 18,
    "start_time": "2023-11-24T20:19:31.345Z"
   },
   {
    "duration": 65,
    "start_time": "2023-11-24T20:19:31.364Z"
   },
   {
    "duration": 375,
    "start_time": "2023-11-25T08:57:40.606Z"
   },
   {
    "duration": 90,
    "start_time": "2023-11-25T08:57:40.985Z"
   },
   {
    "duration": 75,
    "start_time": "2023-11-25T08:57:41.076Z"
   },
   {
    "duration": 60,
    "start_time": "2023-11-25T08:57:41.153Z"
   },
   {
    "duration": 10,
    "start_time": "2023-11-25T08:57:41.215Z"
   },
   {
    "duration": 14,
    "start_time": "2023-11-25T08:57:41.226Z"
   },
   {
    "duration": 3,
    "start_time": "2023-11-25T08:57:41.242Z"
   },
   {
    "duration": 12,
    "start_time": "2023-11-25T08:57:41.247Z"
   },
   {
    "duration": 6,
    "start_time": "2023-11-25T08:57:41.260Z"
   },
   {
    "duration": 10,
    "start_time": "2023-11-25T08:57:41.269Z"
   },
   {
    "duration": 10,
    "start_time": "2023-11-25T08:57:41.280Z"
   },
   {
    "duration": 535,
    "start_time": "2023-11-25T08:57:41.291Z"
   },
   {
    "duration": 125,
    "start_time": "2023-11-25T08:57:41.828Z"
   },
   {
    "duration": 230,
    "start_time": "2023-11-25T08:57:41.954Z"
   },
   {
    "duration": 213,
    "start_time": "2023-11-25T08:57:42.186Z"
   },
   {
    "duration": 190,
    "start_time": "2023-11-25T08:57:42.400Z"
   },
   {
    "duration": 21,
    "start_time": "2023-11-25T08:57:42.592Z"
   },
   {
    "duration": 14,
    "start_time": "2023-11-25T08:57:42.614Z"
   },
   {
    "duration": 175,
    "start_time": "2023-11-25T08:57:42.629Z"
   },
   {
    "duration": 163,
    "start_time": "2023-11-25T08:57:42.806Z"
   },
   {
    "duration": 19,
    "start_time": "2023-11-25T08:57:42.970Z"
   },
   {
    "duration": 193,
    "start_time": "2023-11-25T08:57:42.990Z"
   },
   {
    "duration": 167,
    "start_time": "2023-11-25T08:57:43.185Z"
   },
   {
    "duration": 12,
    "start_time": "2023-11-25T08:57:43.353Z"
   },
   {
    "duration": 16,
    "start_time": "2023-11-25T08:57:43.366Z"
   },
   {
    "duration": 13,
    "start_time": "2023-11-25T08:57:43.383Z"
   },
   {
    "duration": 12,
    "start_time": "2023-11-25T08:57:43.397Z"
   },
   {
    "duration": 4,
    "start_time": "2023-11-25T08:57:43.411Z"
   },
   {
    "duration": 68,
    "start_time": "2023-11-25T08:57:43.416Z"
   },
   {
    "duration": 92,
    "start_time": "2023-11-25T09:04:51.485Z"
   },
   {
    "duration": 77,
    "start_time": "2023-11-25T09:04:59.645Z"
   },
   {
    "duration": 152,
    "start_time": "2023-11-25T09:06:08.511Z"
   },
   {
    "duration": 175,
    "start_time": "2023-11-25T09:06:15.068Z"
   },
   {
    "duration": 186,
    "start_time": "2023-11-25T09:06:27.092Z"
   },
   {
    "duration": 249,
    "start_time": "2023-11-25T09:06:49.294Z"
   },
   {
    "duration": 21,
    "start_time": "2023-11-25T09:38:02.055Z"
   },
   {
    "duration": 18,
    "start_time": "2023-11-25T09:38:07.472Z"
   },
   {
    "duration": 8,
    "start_time": "2023-11-25T10:13:46.915Z"
   },
   {
    "duration": 423,
    "start_time": "2023-11-25T10:13:51.850Z"
   },
   {
    "duration": 6,
    "start_time": "2023-11-25T10:13:57.958Z"
   },
   {
    "duration": 6,
    "start_time": "2023-11-25T10:30:14.856Z"
   },
   {
    "duration": 3,
    "start_time": "2023-11-25T10:33:39.917Z"
   },
   {
    "duration": 20,
    "start_time": "2023-11-25T10:38:11.823Z"
   },
   {
    "duration": 22,
    "start_time": "2023-11-25T10:38:24.676Z"
   },
   {
    "duration": 37,
    "start_time": "2023-11-25T10:39:01.202Z"
   },
   {
    "duration": 34,
    "start_time": "2023-11-25T10:39:05.594Z"
   },
   {
    "duration": 283,
    "start_time": "2023-11-25T10:39:48.151Z"
   },
   {
    "duration": 747,
    "start_time": "2023-11-25T10:40:17.180Z"
   },
   {
    "duration": 30,
    "start_time": "2023-11-25T10:40:37.144Z"
   },
   {
    "duration": 26,
    "start_time": "2023-11-25T10:54:10.301Z"
   },
   {
    "duration": 3,
    "start_time": "2023-11-25T11:00:48.970Z"
   },
   {
    "duration": 2,
    "start_time": "2023-11-25T11:00:51.501Z"
   },
   {
    "duration": 1353,
    "start_time": "2023-11-25T11:11:51.851Z"
   },
   {
    "duration": 1348,
    "start_time": "2023-11-25T11:11:57.878Z"
   },
   {
    "duration": 197,
    "start_time": "2023-11-25T11:12:08.912Z"
   },
   {
    "duration": 71,
    "start_time": "2023-11-25T11:12:45.585Z"
   },
   {
    "duration": 1383,
    "start_time": "2023-11-25T11:14:19.690Z"
   },
   {
    "duration": 1498,
    "start_time": "2023-11-25T11:14:23.327Z"
   },
   {
    "duration": 76,
    "start_time": "2023-11-25T11:14:53.954Z"
   },
   {
    "duration": 332,
    "start_time": "2023-11-25T11:15:06.884Z"
   },
   {
    "duration": 1545,
    "start_time": "2023-11-25T11:15:31.635Z"
   },
   {
    "duration": 71,
    "start_time": "2023-11-25T11:15:41.125Z"
   },
   {
    "duration": 70,
    "start_time": "2023-11-25T11:15:46.247Z"
   },
   {
    "duration": 1392,
    "start_time": "2023-11-25T11:15:50.881Z"
   },
   {
    "duration": 79,
    "start_time": "2023-11-25T11:16:09.193Z"
   },
   {
    "duration": 299,
    "start_time": "2023-11-25T11:16:17.653Z"
   },
   {
    "duration": 1485,
    "start_time": "2023-11-25T11:16:38.099Z"
   },
   {
    "duration": 1350,
    "start_time": "2023-11-25T11:17:46.372Z"
   },
   {
    "duration": 113,
    "start_time": "2023-11-25T11:17:49.528Z"
   },
   {
    "duration": 1394,
    "start_time": "2023-11-25T11:17:52.373Z"
   },
   {
    "duration": 185,
    "start_time": "2023-11-25T11:21:08.470Z"
   },
   {
    "duration": 151,
    "start_time": "2023-11-25T11:21:13.587Z"
   },
   {
    "duration": 151,
    "start_time": "2023-11-25T11:21:23.959Z"
   },
   {
    "duration": 199,
    "start_time": "2023-11-25T11:21:27.150Z"
   },
   {
    "duration": 1351,
    "start_time": "2023-11-25T11:21:34.416Z"
   },
   {
    "duration": 568,
    "start_time": "2023-11-25T11:21:39.957Z"
   },
   {
    "duration": 108,
    "start_time": "2023-11-25T11:21:43.493Z"
   },
   {
    "duration": 105,
    "start_time": "2023-11-25T11:22:32.931Z"
   },
   {
    "duration": 106,
    "start_time": "2023-11-25T11:23:45.287Z"
   },
   {
    "duration": 66,
    "start_time": "2023-11-25T11:25:12.575Z"
   },
   {
    "duration": 1307,
    "start_time": "2023-11-25T11:25:16.496Z"
   },
   {
    "duration": 49,
    "start_time": "2023-11-25T11:25:22.951Z"
   },
   {
    "duration": 9,
    "start_time": "2023-11-25T11:29:10.096Z"
   },
   {
    "duration": 8,
    "start_time": "2023-11-25T11:29:23.879Z"
   },
   {
    "duration": 8,
    "start_time": "2023-11-25T11:32:41.513Z"
   },
   {
    "duration": 3,
    "start_time": "2023-11-25T11:32:48.419Z"
   },
   {
    "duration": 4,
    "start_time": "2023-11-25T11:32:52.956Z"
   },
   {
    "duration": 8,
    "start_time": "2023-11-25T11:36:05.039Z"
   },
   {
    "duration": 8,
    "start_time": "2023-11-25T11:36:16.601Z"
   },
   {
    "duration": 143,
    "start_time": "2023-11-25T11:36:22.636Z"
   },
   {
    "duration": 178,
    "start_time": "2023-11-25T11:36:29.177Z"
   },
   {
    "duration": 7,
    "start_time": "2023-11-25T11:50:13.440Z"
   },
   {
    "duration": 4,
    "start_time": "2023-11-25T11:50:22.472Z"
   },
   {
    "duration": 5,
    "start_time": "2023-11-25T11:51:07.187Z"
   },
   {
    "duration": 6,
    "start_time": "2023-11-25T11:51:37.141Z"
   },
   {
    "duration": 6,
    "start_time": "2023-11-25T11:54:02.127Z"
   },
   {
    "duration": 7,
    "start_time": "2023-11-25T11:54:11.928Z"
   },
   {
    "duration": 6,
    "start_time": "2023-11-25T11:54:13.385Z"
   },
   {
    "duration": 5,
    "start_time": "2023-11-25T11:56:38.001Z"
   },
   {
    "duration": 5,
    "start_time": "2023-11-25T11:56:39.356Z"
   },
   {
    "duration": 6,
    "start_time": "2023-11-25T11:56:43.122Z"
   },
   {
    "duration": 5,
    "start_time": "2023-11-25T11:56:43.749Z"
   },
   {
    "duration": 7,
    "start_time": "2023-11-25T12:00:55.154Z"
   },
   {
    "duration": 11,
    "start_time": "2023-11-25T12:03:16.447Z"
   },
   {
    "duration": 100,
    "start_time": "2023-11-25T12:04:36.105Z"
   },
   {
    "duration": 72,
    "start_time": "2023-11-25T12:05:44.339Z"
   },
   {
    "duration": 6,
    "start_time": "2023-11-25T12:05:55.821Z"
   },
   {
    "duration": 19,
    "start_time": "2023-11-25T12:07:07.130Z"
   },
   {
    "duration": 9,
    "start_time": "2023-11-25T12:10:45.874Z"
   },
   {
    "duration": 120,
    "start_time": "2023-11-25T12:10:51.229Z"
   },
   {
    "duration": 112,
    "start_time": "2023-11-25T12:11:27.452Z"
   },
   {
    "duration": 6,
    "start_time": "2023-11-25T12:11:50.763Z"
   },
   {
    "duration": 5,
    "start_time": "2023-11-25T12:11:52.035Z"
   },
   {
    "duration": 277,
    "start_time": "2023-11-25T12:11:58.621Z"
   },
   {
    "duration": 5,
    "start_time": "2023-11-25T12:12:04.049Z"
   },
   {
    "duration": 5,
    "start_time": "2023-11-25T12:12:05.432Z"
   },
   {
    "duration": 98,
    "start_time": "2023-11-25T12:12:07.125Z"
   },
   {
    "duration": 6,
    "start_time": "2023-11-25T12:12:13.077Z"
   },
   {
    "duration": 6,
    "start_time": "2023-11-25T12:12:14.399Z"
   },
   {
    "duration": 107,
    "start_time": "2023-11-25T12:12:16.391Z"
   },
   {
    "duration": 5,
    "start_time": "2023-11-25T12:12:21.777Z"
   },
   {
    "duration": 5,
    "start_time": "2023-11-25T12:12:23.293Z"
   },
   {
    "duration": 109,
    "start_time": "2023-11-25T12:12:24.602Z"
   },
   {
    "duration": 5,
    "start_time": "2023-11-25T12:12:35.952Z"
   },
   {
    "duration": 5,
    "start_time": "2023-11-25T12:12:37.001Z"
   },
   {
    "duration": 127,
    "start_time": "2023-11-25T12:12:37.804Z"
   },
   {
    "duration": 6,
    "start_time": "2023-11-25T12:12:52.320Z"
   },
   {
    "duration": 7,
    "start_time": "2023-11-25T12:12:53.930Z"
   },
   {
    "duration": 112,
    "start_time": "2023-11-25T12:12:55.157Z"
   },
   {
    "duration": 104,
    "start_time": "2023-11-25T12:13:13.839Z"
   },
   {
    "duration": 102,
    "start_time": "2023-11-25T12:13:23.572Z"
   },
   {
    "duration": 8,
    "start_time": "2023-11-25T12:19:31.979Z"
   },
   {
    "duration": 9,
    "start_time": "2023-11-25T12:19:34.105Z"
   },
   {
    "duration": 8,
    "start_time": "2023-11-25T12:19:42.528Z"
   },
   {
    "duration": 8,
    "start_time": "2023-11-25T12:19:46.806Z"
   },
   {
    "duration": 11,
    "start_time": "2023-11-25T12:19:52.948Z"
   },
   {
    "duration": 10,
    "start_time": "2023-11-25T12:19:56.714Z"
   },
   {
    "duration": 10,
    "start_time": "2023-11-25T12:20:04.036Z"
   },
   {
    "duration": 128,
    "start_time": "2023-11-25T12:20:16.157Z"
   },
   {
    "duration": 109,
    "start_time": "2023-11-25T12:20:38.060Z"
   },
   {
    "duration": 4,
    "start_time": "2023-11-25T12:31:06.427Z"
   },
   {
    "duration": 9,
    "start_time": "2023-11-25T12:39:50.822Z"
   },
   {
    "duration": 127,
    "start_time": "2023-11-25T12:39:53.059Z"
   },
   {
    "duration": 1121,
    "start_time": "2023-11-25T12:41:06.774Z"
   },
   {
    "duration": 42,
    "start_time": "2023-11-25T12:41:07.897Z"
   },
   {
    "duration": 38,
    "start_time": "2023-11-25T12:41:07.941Z"
   },
   {
    "duration": 25,
    "start_time": "2023-11-25T12:41:07.980Z"
   },
   {
    "duration": 16,
    "start_time": "2023-11-25T12:41:08.008Z"
   },
   {
    "duration": 27,
    "start_time": "2023-11-25T12:41:08.026Z"
   },
   {
    "duration": 5,
    "start_time": "2023-11-25T12:41:08.055Z"
   },
   {
    "duration": 15,
    "start_time": "2023-11-25T12:41:08.062Z"
   },
   {
    "duration": 22,
    "start_time": "2023-11-25T12:41:08.079Z"
   },
   {
    "duration": 21,
    "start_time": "2023-11-25T12:41:08.103Z"
   },
   {
    "duration": 16,
    "start_time": "2023-11-25T12:41:08.126Z"
   },
   {
    "duration": 168,
    "start_time": "2023-11-25T12:41:08.144Z"
   },
   {
    "duration": 117,
    "start_time": "2023-11-25T12:41:08.314Z"
   },
   {
    "duration": 263,
    "start_time": "2023-11-25T12:41:08.434Z"
   },
   {
    "duration": 210,
    "start_time": "2023-11-25T12:41:08.699Z"
   },
   {
    "duration": 210,
    "start_time": "2023-11-25T12:41:08.910Z"
   },
   {
    "duration": 25,
    "start_time": "2023-11-25T12:41:09.122Z"
   },
   {
    "duration": 36,
    "start_time": "2023-11-25T12:41:09.148Z"
   },
   {
    "duration": 211,
    "start_time": "2023-11-25T12:41:09.186Z"
   },
   {
    "duration": 205,
    "start_time": "2023-11-25T12:41:09.399Z"
   },
   {
    "duration": 16,
    "start_time": "2023-11-25T12:41:09.606Z"
   },
   {
    "duration": 298,
    "start_time": "2023-11-25T12:41:09.624Z"
   },
   {
    "duration": 207,
    "start_time": "2023-11-25T12:41:09.923Z"
   },
   {
    "duration": 12,
    "start_time": "2023-11-25T12:41:10.132Z"
   },
   {
    "duration": 15,
    "start_time": "2023-11-25T12:41:10.146Z"
   },
   {
    "duration": 27,
    "start_time": "2023-11-25T12:41:10.163Z"
   },
   {
    "duration": 18,
    "start_time": "2023-11-25T12:41:10.192Z"
   },
   {
    "duration": 15,
    "start_time": "2023-11-25T12:41:10.212Z"
   },
   {
    "duration": 76,
    "start_time": "2023-11-25T12:41:10.229Z"
   },
   {
    "duration": 227,
    "start_time": "2023-11-25T12:41:10.307Z"
   },
   {
    "duration": 220,
    "start_time": "2023-11-25T12:41:10.535Z"
   },
   {
    "duration": 6,
    "start_time": "2023-11-25T12:41:10.756Z"
   },
   {
    "duration": 18,
    "start_time": "2023-11-25T12:41:10.764Z"
   },
   {
    "duration": 28,
    "start_time": "2023-11-25T12:41:10.784Z"
   },
   {
    "duration": 5,
    "start_time": "2023-11-25T12:41:10.814Z"
   },
   {
    "duration": 5,
    "start_time": "2023-11-25T12:41:10.821Z"
   },
   {
    "duration": 147,
    "start_time": "2023-11-25T12:41:10.828Z"
   },
   {
    "duration": 9,
    "start_time": "2023-11-25T12:41:10.982Z"
   },
   {
    "duration": 146,
    "start_time": "2023-11-25T12:41:10.992Z"
   },
   {
    "duration": 9,
    "start_time": "2023-11-25T12:41:11.139Z"
   },
   {
    "duration": 150,
    "start_time": "2023-11-25T12:41:11.151Z"
   },
   {
    "duration": 4,
    "start_time": "2023-11-25T12:46:05.990Z"
   },
   {
    "duration": 3,
    "start_time": "2023-11-25T12:46:15.319Z"
   },
   {
    "duration": 1174,
    "start_time": "2023-11-25T13:04:59.113Z"
   },
   {
    "duration": 91,
    "start_time": "2023-11-25T13:05:00.289Z"
   },
   {
    "duration": 39,
    "start_time": "2023-11-25T13:05:00.381Z"
   },
   {
    "duration": 25,
    "start_time": "2023-11-25T13:05:00.421Z"
   },
   {
    "duration": 129,
    "start_time": "2023-11-25T13:05:00.448Z"
   },
   {
    "duration": 65,
    "start_time": "2023-11-25T13:05:00.579Z"
   },
   {
    "duration": 5,
    "start_time": "2023-11-25T13:05:00.646Z"
   },
   {
    "duration": 33,
    "start_time": "2023-11-25T13:05:00.652Z"
   },
   {
    "duration": 41,
    "start_time": "2023-11-25T13:05:00.687Z"
   },
   {
    "duration": 36,
    "start_time": "2023-11-25T13:05:00.729Z"
   },
   {
    "duration": 45,
    "start_time": "2023-11-25T13:05:00.766Z"
   },
   {
    "duration": 187,
    "start_time": "2023-11-25T13:05:00.813Z"
   },
   {
    "duration": 132,
    "start_time": "2023-11-25T13:05:01.002Z"
   },
   {
    "duration": 242,
    "start_time": "2023-11-25T13:05:01.137Z"
   },
   {
    "duration": 185,
    "start_time": "2023-11-25T13:05:01.382Z"
   },
   {
    "duration": 180,
    "start_time": "2023-11-25T13:05:01.568Z"
   },
   {
    "duration": 22,
    "start_time": "2023-11-25T13:05:01.749Z"
   },
   {
    "duration": 89,
    "start_time": "2023-11-25T13:05:01.773Z"
   },
   {
    "duration": 218,
    "start_time": "2023-11-25T13:05:01.864Z"
   },
   {
    "duration": 172,
    "start_time": "2023-11-25T13:05:02.084Z"
   },
   {
    "duration": 12,
    "start_time": "2023-11-25T13:05:02.257Z"
   },
   {
    "duration": 249,
    "start_time": "2023-11-25T13:05:02.270Z"
   },
   {
    "duration": 203,
    "start_time": "2023-11-25T13:05:02.521Z"
   },
   {
    "duration": 14,
    "start_time": "2023-11-25T13:05:02.725Z"
   },
   {
    "duration": 7,
    "start_time": "2023-11-25T13:05:02.741Z"
   },
   {
    "duration": 36,
    "start_time": "2023-11-25T13:05:02.750Z"
   },
   {
    "duration": 14,
    "start_time": "2023-11-25T13:05:02.788Z"
   },
   {
    "duration": 5,
    "start_time": "2023-11-25T13:05:02.804Z"
   },
   {
    "duration": 49,
    "start_time": "2023-11-25T13:05:02.811Z"
   },
   {
    "duration": 216,
    "start_time": "2023-11-25T13:05:02.883Z"
   },
   {
    "duration": 227,
    "start_time": "2023-11-25T13:05:03.101Z"
   },
   {
    "duration": 6,
    "start_time": "2023-11-25T13:05:03.330Z"
   },
   {
    "duration": 6,
    "start_time": "2023-11-25T13:05:03.337Z"
   },
   {
    "duration": 41,
    "start_time": "2023-11-25T13:05:03.345Z"
   },
   {
    "duration": 5,
    "start_time": "2023-11-25T13:05:03.388Z"
   },
   {
    "duration": 14,
    "start_time": "2023-11-25T13:05:03.394Z"
   },
   {
    "duration": 136,
    "start_time": "2023-11-25T13:05:03.409Z"
   },
   {
    "duration": 8,
    "start_time": "2023-11-25T13:05:03.546Z"
   },
   {
    "duration": 129,
    "start_time": "2023-11-25T13:05:03.555Z"
   },
   {
    "duration": 10,
    "start_time": "2023-11-25T13:05:03.685Z"
   },
   {
    "duration": 132,
    "start_time": "2023-11-25T13:05:03.699Z"
   },
   {
    "duration": 1148,
    "start_time": "2023-11-25T13:47:08.749Z"
   },
   {
    "duration": 91,
    "start_time": "2023-11-25T13:47:09.898Z"
   },
   {
    "duration": 53,
    "start_time": "2023-11-25T13:47:09.990Z"
   },
   {
    "duration": 30,
    "start_time": "2023-11-25T13:47:10.046Z"
   },
   {
    "duration": 23,
    "start_time": "2023-11-25T13:47:10.078Z"
   },
   {
    "duration": 7,
    "start_time": "2023-11-25T13:47:10.103Z"
   },
   {
    "duration": 7,
    "start_time": "2023-11-25T13:47:10.112Z"
   },
   {
    "duration": 7,
    "start_time": "2023-11-25T13:47:10.121Z"
   },
   {
    "duration": 13,
    "start_time": "2023-11-25T13:47:10.130Z"
   },
   {
    "duration": 11,
    "start_time": "2023-11-25T13:47:10.182Z"
   },
   {
    "duration": 209,
    "start_time": "2023-11-25T13:47:10.195Z"
   },
   {
    "duration": 204,
    "start_time": "2023-11-25T13:47:10.406Z"
   },
   {
    "duration": 270,
    "start_time": "2023-11-25T13:47:10.612Z"
   },
   {
    "duration": 228,
    "start_time": "2023-11-25T13:47:10.884Z"
   },
   {
    "duration": 211,
    "start_time": "2023-11-25T13:47:11.113Z"
   },
   {
    "duration": 34,
    "start_time": "2023-11-25T13:47:11.326Z"
   },
   {
    "duration": 38,
    "start_time": "2023-11-25T13:47:11.362Z"
   },
   {
    "duration": 257,
    "start_time": "2023-11-25T13:47:11.402Z"
   },
   {
    "duration": 214,
    "start_time": "2023-11-25T13:47:11.661Z"
   },
   {
    "duration": 16,
    "start_time": "2023-11-25T13:47:11.877Z"
   },
   {
    "duration": 278,
    "start_time": "2023-11-25T13:47:11.894Z"
   },
   {
    "duration": 235,
    "start_time": "2023-11-25T13:47:12.173Z"
   },
   {
    "duration": 17,
    "start_time": "2023-11-25T13:47:12.409Z"
   },
   {
    "duration": 8,
    "start_time": "2023-11-25T13:47:12.428Z"
   },
   {
    "duration": 16,
    "start_time": "2023-11-25T13:47:12.438Z"
   },
   {
    "duration": 14,
    "start_time": "2023-11-25T13:47:12.483Z"
   },
   {
    "duration": 7,
    "start_time": "2023-11-25T13:47:12.498Z"
   },
   {
    "duration": 90,
    "start_time": "2023-11-25T13:47:12.509Z"
   },
   {
    "duration": 212,
    "start_time": "2023-11-25T13:47:12.601Z"
   },
   {
    "duration": 208,
    "start_time": "2023-11-25T13:47:12.814Z"
   },
   {
    "duration": 5,
    "start_time": "2023-11-25T13:47:13.024Z"
   },
   {
    "duration": 6,
    "start_time": "2023-11-25T13:47:13.031Z"
   },
   {
    "duration": 59,
    "start_time": "2023-11-25T13:47:13.039Z"
   },
   {
    "duration": 7,
    "start_time": "2023-11-25T13:47:13.100Z"
   },
   {
    "duration": 7,
    "start_time": "2023-11-25T13:47:13.109Z"
   },
   {
    "duration": 187,
    "start_time": "2023-11-25T13:47:13.118Z"
   },
   {
    "duration": 11,
    "start_time": "2023-11-25T13:47:13.307Z"
   },
   {
    "duration": 130,
    "start_time": "2023-11-25T13:47:13.320Z"
   },
   {
    "duration": 10,
    "start_time": "2023-11-25T13:47:13.451Z"
   },
   {
    "duration": 128,
    "start_time": "2023-11-25T13:47:13.481Z"
   },
   {
    "duration": 1170,
    "start_time": "2023-11-25T14:01:10.690Z"
   },
   {
    "duration": 101,
    "start_time": "2023-11-25T14:01:11.862Z"
   },
   {
    "duration": 43,
    "start_time": "2023-11-25T14:01:11.964Z"
   },
   {
    "duration": 26,
    "start_time": "2023-11-25T14:01:12.009Z"
   },
   {
    "duration": 23,
    "start_time": "2023-11-25T14:01:12.037Z"
   },
   {
    "duration": 6,
    "start_time": "2023-11-25T14:01:12.062Z"
   },
   {
    "duration": 8,
    "start_time": "2023-11-25T14:01:12.084Z"
   },
   {
    "duration": 5,
    "start_time": "2023-11-25T14:01:12.093Z"
   },
   {
    "duration": 7,
    "start_time": "2023-11-25T14:01:12.100Z"
   },
   {
    "duration": 11,
    "start_time": "2023-11-25T14:01:12.110Z"
   },
   {
    "duration": 221,
    "start_time": "2023-11-25T14:01:12.123Z"
   },
   {
    "duration": 141,
    "start_time": "2023-11-25T14:01:12.345Z"
   },
   {
    "duration": 299,
    "start_time": "2023-11-25T14:01:12.488Z"
   },
   {
    "duration": 187,
    "start_time": "2023-11-25T14:01:12.788Z"
   },
   {
    "duration": 209,
    "start_time": "2023-11-25T14:01:12.976Z"
   },
   {
    "duration": 22,
    "start_time": "2023-11-25T14:01:13.187Z"
   },
   {
    "duration": 14,
    "start_time": "2023-11-25T14:01:13.211Z"
   },
   {
    "duration": 190,
    "start_time": "2023-11-25T14:01:13.227Z"
   },
   {
    "duration": 176,
    "start_time": "2023-11-25T14:01:13.419Z"
   },
   {
    "duration": 17,
    "start_time": "2023-11-25T14:01:13.596Z"
   },
   {
    "duration": 248,
    "start_time": "2023-11-25T14:01:13.615Z"
   },
   {
    "duration": 183,
    "start_time": "2023-11-25T14:01:13.865Z"
   },
   {
    "duration": 13,
    "start_time": "2023-11-25T14:01:14.050Z"
   },
   {
    "duration": 17,
    "start_time": "2023-11-25T14:01:14.065Z"
   },
   {
    "duration": 18,
    "start_time": "2023-11-25T14:01:14.084Z"
   },
   {
    "duration": 14,
    "start_time": "2023-11-25T14:01:14.103Z"
   },
   {
    "duration": 5,
    "start_time": "2023-11-25T14:01:14.118Z"
   },
   {
    "duration": 74,
    "start_time": "2023-11-25T14:01:14.127Z"
   },
   {
    "duration": 206,
    "start_time": "2023-11-25T14:01:14.202Z"
   },
   {
    "duration": 202,
    "start_time": "2023-11-25T14:01:14.410Z"
   },
   {
    "duration": 5,
    "start_time": "2023-11-25T14:01:14.614Z"
   },
   {
    "duration": 7,
    "start_time": "2023-11-25T14:01:14.620Z"
   },
   {
    "duration": 24,
    "start_time": "2023-11-25T14:01:14.628Z"
   },
   {
    "duration": 31,
    "start_time": "2023-11-25T14:01:14.654Z"
   },
   {
    "duration": 5,
    "start_time": "2023-11-25T14:01:14.687Z"
   },
   {
    "duration": 125,
    "start_time": "2023-11-25T14:01:14.693Z"
   },
   {
    "duration": 8,
    "start_time": "2023-11-25T14:01:14.819Z"
   },
   {
    "duration": 127,
    "start_time": "2023-11-25T14:01:14.829Z"
   },
   {
    "duration": 8,
    "start_time": "2023-11-25T14:01:14.957Z"
   },
   {
    "duration": 144,
    "start_time": "2023-11-25T14:01:14.982Z"
   },
   {
    "duration": 2,
    "start_time": "2023-11-25T14:01:15.128Z"
   },
   {
    "duration": 39,
    "start_time": "2023-11-25T14:01:15.132Z"
   },
   {
    "duration": 43,
    "start_time": "2023-11-25T14:01:15.173Z"
   },
   {
    "duration": 26,
    "start_time": "2023-11-25T14:01:15.218Z"
   },
   {
    "duration": 18,
    "start_time": "2023-11-25T14:01:15.246Z"
   },
   {
    "duration": 5,
    "start_time": "2023-11-25T14:01:15.265Z"
   },
   {
    "duration": 16,
    "start_time": "2023-11-25T14:01:15.272Z"
   },
   {
    "duration": 5,
    "start_time": "2023-11-25T14:01:15.289Z"
   },
   {
    "duration": 8,
    "start_time": "2023-11-25T14:01:15.295Z"
   },
   {
    "duration": 13,
    "start_time": "2023-11-25T14:01:15.305Z"
   },
   {
    "duration": 166,
    "start_time": "2023-11-25T14:01:15.320Z"
   },
   {
    "duration": 115,
    "start_time": "2023-11-25T14:01:15.488Z"
   },
   {
    "duration": 318,
    "start_time": "2023-11-25T14:01:15.605Z"
   },
   {
    "duration": 177,
    "start_time": "2023-11-25T14:01:15.924Z"
   },
   {
    "duration": 190,
    "start_time": "2023-11-25T14:01:16.102Z"
   },
   {
    "duration": 20,
    "start_time": "2023-11-25T14:01:16.294Z"
   },
   {
    "duration": 15,
    "start_time": "2023-11-25T14:01:16.316Z"
   },
   {
    "duration": 195,
    "start_time": "2023-11-25T14:01:16.332Z"
   },
   {
    "duration": 171,
    "start_time": "2023-11-25T14:01:16.528Z"
   },
   {
    "duration": 12,
    "start_time": "2023-11-25T14:01:16.700Z"
   },
   {
    "duration": 176,
    "start_time": "2023-11-25T14:01:16.714Z"
   },
   {
    "duration": 192,
    "start_time": "2023-11-25T14:01:16.892Z"
   },
   {
    "duration": 13,
    "start_time": "2023-11-25T14:01:17.086Z"
   },
   {
    "duration": 6,
    "start_time": "2023-11-25T14:01:17.101Z"
   },
   {
    "duration": 13,
    "start_time": "2023-11-25T14:01:17.109Z"
   },
   {
    "duration": 11,
    "start_time": "2023-11-25T14:01:17.123Z"
   },
   {
    "duration": 4,
    "start_time": "2023-11-25T14:01:17.136Z"
   },
   {
    "duration": 94,
    "start_time": "2023-11-25T14:01:17.141Z"
   },
   {
    "duration": 207,
    "start_time": "2023-11-25T14:01:17.236Z"
   },
   {
    "duration": 204,
    "start_time": "2023-11-25T14:01:17.445Z"
   },
   {
    "duration": 5,
    "start_time": "2023-11-25T14:01:17.651Z"
   },
   {
    "duration": 6,
    "start_time": "2023-11-25T14:01:17.657Z"
   },
   {
    "duration": 37,
    "start_time": "2023-11-25T14:01:17.664Z"
   },
   {
    "duration": 5,
    "start_time": "2023-11-25T14:01:17.702Z"
   },
   {
    "duration": 5,
    "start_time": "2023-11-25T14:01:17.709Z"
   },
   {
    "duration": 137,
    "start_time": "2023-11-25T14:01:17.715Z"
   },
   {
    "duration": 10,
    "start_time": "2023-11-25T14:01:17.854Z"
   },
   {
    "duration": 217,
    "start_time": "2023-11-25T14:01:17.866Z"
   },
   {
    "duration": 8,
    "start_time": "2023-11-25T14:01:18.085Z"
   },
   {
    "duration": 167,
    "start_time": "2023-11-25T14:01:18.095Z"
   },
   {
    "duration": 50,
    "start_time": "2023-11-26T10:14:13.752Z"
   },
   {
    "duration": 1141,
    "start_time": "2023-11-26T10:14:19.935Z"
   },
   {
    "duration": 146,
    "start_time": "2023-11-26T10:14:21.078Z"
   },
   {
    "duration": 80,
    "start_time": "2023-11-26T10:14:21.226Z"
   },
   {
    "duration": 62,
    "start_time": "2023-11-26T10:14:21.308Z"
   },
   {
    "duration": 14,
    "start_time": "2023-11-26T10:14:21.372Z"
   },
   {
    "duration": 4,
    "start_time": "2023-11-26T10:14:21.388Z"
   },
   {
    "duration": 6,
    "start_time": "2023-11-26T10:14:21.393Z"
   },
   {
    "duration": 9,
    "start_time": "2023-11-26T10:14:21.401Z"
   },
   {
    "duration": 7,
    "start_time": "2023-11-26T10:14:21.411Z"
   },
   {
    "duration": 110,
    "start_time": "2023-11-26T10:14:21.420Z"
   },
   {
    "duration": 0,
    "start_time": "2023-11-26T10:14:21.532Z"
   },
   {
    "duration": 0,
    "start_time": "2023-11-26T10:14:21.533Z"
   },
   {
    "duration": 0,
    "start_time": "2023-11-26T10:14:21.534Z"
   },
   {
    "duration": 0,
    "start_time": "2023-11-26T10:14:21.535Z"
   },
   {
    "duration": 0,
    "start_time": "2023-11-26T10:14:21.536Z"
   },
   {
    "duration": 0,
    "start_time": "2023-11-26T10:14:21.537Z"
   },
   {
    "duration": 0,
    "start_time": "2023-11-26T10:14:21.538Z"
   },
   {
    "duration": 0,
    "start_time": "2023-11-26T10:14:21.539Z"
   },
   {
    "duration": 0,
    "start_time": "2023-11-26T10:14:21.540Z"
   },
   {
    "duration": 0,
    "start_time": "2023-11-26T10:14:21.541Z"
   },
   {
    "duration": 0,
    "start_time": "2023-11-26T10:14:21.542Z"
   },
   {
    "duration": 0,
    "start_time": "2023-11-26T10:14:21.550Z"
   },
   {
    "duration": 0,
    "start_time": "2023-11-26T10:14:21.551Z"
   },
   {
    "duration": 0,
    "start_time": "2023-11-26T10:14:21.551Z"
   },
   {
    "duration": 0,
    "start_time": "2023-11-26T10:14:21.552Z"
   },
   {
    "duration": 0,
    "start_time": "2023-11-26T10:14:21.553Z"
   },
   {
    "duration": 0,
    "start_time": "2023-11-26T10:14:21.554Z"
   },
   {
    "duration": 0,
    "start_time": "2023-11-26T10:14:21.556Z"
   },
   {
    "duration": 0,
    "start_time": "2023-11-26T10:14:21.557Z"
   },
   {
    "duration": 0,
    "start_time": "2023-11-26T10:14:21.558Z"
   },
   {
    "duration": 0,
    "start_time": "2023-11-26T10:14:21.559Z"
   },
   {
    "duration": 0,
    "start_time": "2023-11-26T10:14:21.560Z"
   },
   {
    "duration": 0,
    "start_time": "2023-11-26T10:14:21.561Z"
   },
   {
    "duration": 0,
    "start_time": "2023-11-26T10:14:21.562Z"
   },
   {
    "duration": 0,
    "start_time": "2023-11-26T10:14:21.563Z"
   },
   {
    "duration": 0,
    "start_time": "2023-11-26T10:14:21.564Z"
   },
   {
    "duration": 0,
    "start_time": "2023-11-26T10:14:21.565Z"
   },
   {
    "duration": 0,
    "start_time": "2023-11-26T10:14:21.611Z"
   },
   {
    "duration": 0,
    "start_time": "2023-11-26T10:14:21.612Z"
   },
   {
    "duration": 0,
    "start_time": "2023-11-26T10:14:21.613Z"
   },
   {
    "duration": 0,
    "start_time": "2023-11-26T10:14:21.614Z"
   },
   {
    "duration": 8,
    "start_time": "2023-11-26T10:15:34.788Z"
   },
   {
    "duration": 10,
    "start_time": "2023-11-26T10:15:56.586Z"
   },
   {
    "duration": 991,
    "start_time": "2023-11-26T10:16:02.552Z"
   },
   {
    "duration": 93,
    "start_time": "2023-11-26T10:16:03.545Z"
   },
   {
    "duration": 39,
    "start_time": "2023-11-26T10:16:03.640Z"
   },
   {
    "duration": 25,
    "start_time": "2023-11-26T10:16:03.681Z"
   },
   {
    "duration": 13,
    "start_time": "2023-11-26T10:16:03.708Z"
   },
   {
    "duration": 4,
    "start_time": "2023-11-26T10:16:03.723Z"
   },
   {
    "duration": 6,
    "start_time": "2023-11-26T10:16:03.728Z"
   },
   {
    "duration": 4,
    "start_time": "2023-11-26T10:16:03.735Z"
   },
   {
    "duration": 6,
    "start_time": "2023-11-26T10:16:03.741Z"
   },
   {
    "duration": 113,
    "start_time": "2023-11-26T10:16:03.750Z"
   },
   {
    "duration": 0,
    "start_time": "2023-11-26T10:16:03.865Z"
   },
   {
    "duration": 0,
    "start_time": "2023-11-26T10:16:03.866Z"
   },
   {
    "duration": 0,
    "start_time": "2023-11-26T10:16:03.867Z"
   },
   {
    "duration": 0,
    "start_time": "2023-11-26T10:16:03.868Z"
   },
   {
    "duration": 0,
    "start_time": "2023-11-26T10:16:03.869Z"
   },
   {
    "duration": 0,
    "start_time": "2023-11-26T10:16:03.870Z"
   },
   {
    "duration": 0,
    "start_time": "2023-11-26T10:16:03.871Z"
   },
   {
    "duration": 0,
    "start_time": "2023-11-26T10:16:03.872Z"
   },
   {
    "duration": 0,
    "start_time": "2023-11-26T10:16:03.873Z"
   },
   {
    "duration": 0,
    "start_time": "2023-11-26T10:16:03.874Z"
   },
   {
    "duration": 0,
    "start_time": "2023-11-26T10:16:03.875Z"
   },
   {
    "duration": 0,
    "start_time": "2023-11-26T10:16:03.876Z"
   },
   {
    "duration": 0,
    "start_time": "2023-11-26T10:16:03.877Z"
   },
   {
    "duration": 0,
    "start_time": "2023-11-26T10:16:03.878Z"
   },
   {
    "duration": 0,
    "start_time": "2023-11-26T10:16:03.879Z"
   },
   {
    "duration": 0,
    "start_time": "2023-11-26T10:16:03.880Z"
   },
   {
    "duration": 0,
    "start_time": "2023-11-26T10:16:03.911Z"
   },
   {
    "duration": 0,
    "start_time": "2023-11-26T10:16:03.912Z"
   },
   {
    "duration": 0,
    "start_time": "2023-11-26T10:16:03.913Z"
   },
   {
    "duration": 0,
    "start_time": "2023-11-26T10:16:03.914Z"
   },
   {
    "duration": 0,
    "start_time": "2023-11-26T10:16:03.915Z"
   },
   {
    "duration": 0,
    "start_time": "2023-11-26T10:16:03.916Z"
   },
   {
    "duration": 0,
    "start_time": "2023-11-26T10:16:03.917Z"
   },
   {
    "duration": 0,
    "start_time": "2023-11-26T10:16:03.918Z"
   },
   {
    "duration": 0,
    "start_time": "2023-11-26T10:16:03.919Z"
   },
   {
    "duration": 0,
    "start_time": "2023-11-26T10:16:03.920Z"
   },
   {
    "duration": 0,
    "start_time": "2023-11-26T10:16:03.921Z"
   },
   {
    "duration": 0,
    "start_time": "2023-11-26T10:16:03.921Z"
   },
   {
    "duration": 0,
    "start_time": "2023-11-26T10:16:03.922Z"
   },
   {
    "duration": 0,
    "start_time": "2023-11-26T10:16:03.923Z"
   },
   {
    "duration": 0,
    "start_time": "2023-11-26T10:16:03.924Z"
   },
   {
    "duration": 1005,
    "start_time": "2023-11-26T10:16:17.042Z"
   },
   {
    "duration": 91,
    "start_time": "2023-11-26T10:16:18.048Z"
   },
   {
    "duration": 38,
    "start_time": "2023-11-26T10:16:18.142Z"
   },
   {
    "duration": 25,
    "start_time": "2023-11-26T10:16:18.181Z"
   },
   {
    "duration": 13,
    "start_time": "2023-11-26T10:16:18.207Z"
   },
   {
    "duration": 4,
    "start_time": "2023-11-26T10:16:18.222Z"
   },
   {
    "duration": 6,
    "start_time": "2023-11-26T10:16:18.227Z"
   },
   {
    "duration": 4,
    "start_time": "2023-11-26T10:16:18.234Z"
   },
   {
    "duration": 7,
    "start_time": "2023-11-26T10:16:18.241Z"
   },
   {
    "duration": 6,
    "start_time": "2023-11-26T10:16:18.249Z"
   },
   {
    "duration": 11,
    "start_time": "2023-11-26T10:16:18.257Z"
   },
   {
    "duration": 200,
    "start_time": "2023-11-26T10:16:18.270Z"
   },
   {
    "duration": 149,
    "start_time": "2023-11-26T10:16:18.471Z"
   },
   {
    "duration": 256,
    "start_time": "2023-11-26T10:16:18.621Z"
   },
   {
    "duration": 192,
    "start_time": "2023-11-26T10:16:18.879Z"
   },
   {
    "duration": 174,
    "start_time": "2023-11-26T10:16:19.073Z"
   },
   {
    "duration": 22,
    "start_time": "2023-11-26T10:16:19.249Z"
   },
   {
    "duration": 15,
    "start_time": "2023-11-26T10:16:19.272Z"
   },
   {
    "duration": 184,
    "start_time": "2023-11-26T10:16:19.288Z"
   },
   {
    "duration": 196,
    "start_time": "2023-11-26T10:16:19.474Z"
   },
   {
    "duration": 13,
    "start_time": "2023-11-26T10:16:19.671Z"
   },
   {
    "duration": 169,
    "start_time": "2023-11-26T10:16:19.685Z"
   },
   {
    "duration": 279,
    "start_time": "2023-11-26T10:16:19.856Z"
   },
   {
    "duration": 13,
    "start_time": "2023-11-26T10:16:20.136Z"
   },
   {
    "duration": 6,
    "start_time": "2023-11-26T10:16:20.150Z"
   },
   {
    "duration": 15,
    "start_time": "2023-11-26T10:16:20.157Z"
   },
   {
    "duration": 37,
    "start_time": "2023-11-26T10:16:20.175Z"
   },
   {
    "duration": 5,
    "start_time": "2023-11-26T10:16:20.213Z"
   },
   {
    "duration": 47,
    "start_time": "2023-11-26T10:16:20.219Z"
   },
   {
    "duration": 221,
    "start_time": "2023-11-26T10:16:20.268Z"
   },
   {
    "duration": 208,
    "start_time": "2023-11-26T10:16:20.490Z"
   },
   {
    "duration": 5,
    "start_time": "2023-11-26T10:16:20.700Z"
   },
   {
    "duration": 10,
    "start_time": "2023-11-26T10:16:20.711Z"
   },
   {
    "duration": 29,
    "start_time": "2023-11-26T10:16:20.722Z"
   },
   {
    "duration": 5,
    "start_time": "2023-11-26T10:16:20.752Z"
   },
   {
    "duration": 10,
    "start_time": "2023-11-26T10:16:20.759Z"
   },
   {
    "duration": 131,
    "start_time": "2023-11-26T10:16:20.770Z"
   },
   {
    "duration": 9,
    "start_time": "2023-11-26T10:16:20.902Z"
   },
   {
    "duration": 121,
    "start_time": "2023-11-26T10:16:20.913Z"
   },
   {
    "duration": 6,
    "start_time": "2023-11-26T10:16:21.036Z"
   },
   {
    "duration": 124,
    "start_time": "2023-11-26T10:16:21.044Z"
   },
   {
    "duration": 6,
    "start_time": "2023-11-26T10:17:10.676Z"
   },
   {
    "duration": 78,
    "start_time": "2023-11-26T10:30:01.850Z"
   },
   {
    "duration": 108,
    "start_time": "2023-11-26T10:30:08.990Z"
   },
   {
    "duration": 101,
    "start_time": "2023-11-26T10:36:57.039Z"
   },
   {
    "duration": 102,
    "start_time": "2023-11-26T10:37:03.088Z"
   },
   {
    "duration": 90,
    "start_time": "2023-11-26T10:37:23.780Z"
   },
   {
    "duration": 10,
    "start_time": "2023-11-26T10:37:28.018Z"
   },
   {
    "duration": 217,
    "start_time": "2023-11-26T10:37:33.882Z"
   },
   {
    "duration": 147,
    "start_time": "2023-11-26T10:37:42.066Z"
   },
   {
    "duration": 11,
    "start_time": "2023-11-26T10:37:50.758Z"
   },
   {
    "duration": 120,
    "start_time": "2023-11-26T10:37:58.675Z"
   },
   {
    "duration": 121,
    "start_time": "2023-11-26T10:38:03.342Z"
   },
   {
    "duration": 144,
    "start_time": "2023-11-26T10:38:11.767Z"
   },
   {
    "duration": 161,
    "start_time": "2023-11-26T10:43:48.503Z"
   },
   {
    "duration": 83,
    "start_time": "2023-11-26T10:44:12.829Z"
   },
   {
    "duration": 157,
    "start_time": "2023-11-26T10:44:18.268Z"
   },
   {
    "duration": 168,
    "start_time": "2023-11-26T10:44:36.600Z"
   },
   {
    "duration": 151,
    "start_time": "2023-11-26T10:49:47.305Z"
   },
   {
    "duration": 153,
    "start_time": "2023-11-26T10:50:35.192Z"
   },
   {
    "duration": 148,
    "start_time": "2023-11-26T10:51:00.616Z"
   },
   {
    "duration": 223,
    "start_time": "2023-11-26T10:51:54.432Z"
   },
   {
    "duration": 155,
    "start_time": "2023-11-26T10:59:06.499Z"
   },
   {
    "duration": 177,
    "start_time": "2023-11-26T10:59:16.059Z"
   },
   {
    "duration": 68,
    "start_time": "2023-11-26T11:00:13.687Z"
   },
   {
    "duration": 68,
    "start_time": "2023-11-26T11:05:29.768Z"
   },
   {
    "duration": 88,
    "start_time": "2023-11-26T11:05:39.588Z"
   },
   {
    "duration": 84,
    "start_time": "2023-11-26T11:05:56.734Z"
   },
   {
    "duration": 59,
    "start_time": "2023-11-26T11:06:02.215Z"
   },
   {
    "duration": 89,
    "start_time": "2023-11-26T11:06:07.377Z"
   },
   {
    "duration": 57,
    "start_time": "2023-11-26T11:06:32.547Z"
   },
   {
    "duration": 58,
    "start_time": "2023-11-26T11:06:36.831Z"
   },
   {
    "duration": 70,
    "start_time": "2023-11-26T11:07:00.474Z"
   },
   {
    "duration": 10,
    "start_time": "2023-11-26T11:07:19.040Z"
   },
   {
    "duration": 76,
    "start_time": "2023-11-26T11:07:28.484Z"
   },
   {
    "duration": 155,
    "start_time": "2023-11-26T11:07:44.083Z"
   },
   {
    "duration": 80,
    "start_time": "2023-11-26T11:07:49.379Z"
   },
   {
    "duration": 81,
    "start_time": "2023-11-26T11:08:20.348Z"
   },
   {
    "duration": 87,
    "start_time": "2023-11-26T11:08:38.586Z"
   },
   {
    "duration": 93,
    "start_time": "2023-11-26T11:09:52.601Z"
   },
   {
    "duration": 90,
    "start_time": "2023-11-26T11:10:12.648Z"
   },
   {
    "duration": 244,
    "start_time": "2023-11-26T11:11:14.496Z"
   },
   {
    "duration": 225,
    "start_time": "2023-11-26T11:11:20.442Z"
   },
   {
    "duration": 230,
    "start_time": "2023-11-26T11:11:27.516Z"
   },
   {
    "duration": 378,
    "start_time": "2023-11-26T11:11:51.565Z"
   },
   {
    "duration": 226,
    "start_time": "2023-11-26T11:12:27.182Z"
   },
   {
    "duration": 398,
    "start_time": "2023-11-26T11:12:41.970Z"
   },
   {
    "duration": 231,
    "start_time": "2023-11-26T11:12:50.254Z"
   },
   {
    "duration": 219,
    "start_time": "2023-11-26T11:12:54.556Z"
   },
   {
    "duration": 158,
    "start_time": "2023-11-26T11:13:17.713Z"
   },
   {
    "duration": 298,
    "start_time": "2023-11-26T11:13:20.119Z"
   },
   {
    "duration": 131,
    "start_time": "2023-11-26T11:13:25.099Z"
   },
   {
    "duration": 105,
    "start_time": "2023-11-26T11:14:05.637Z"
   },
   {
    "duration": 142,
    "start_time": "2023-11-26T11:14:18.208Z"
   },
   {
    "duration": 134,
    "start_time": "2023-11-26T11:17:16.828Z"
   },
   {
    "duration": 145,
    "start_time": "2023-11-26T11:17:21.246Z"
   },
   {
    "duration": 117,
    "start_time": "2023-11-26T11:17:48.111Z"
   },
   {
    "duration": 110,
    "start_time": "2023-11-26T11:18:23.324Z"
   },
   {
    "duration": 11,
    "start_time": "2023-11-26T11:18:31.312Z"
   },
   {
    "duration": 141,
    "start_time": "2023-11-26T11:18:42.363Z"
   },
   {
    "duration": 138,
    "start_time": "2023-11-26T11:18:53.738Z"
   },
   {
    "duration": 140,
    "start_time": "2023-11-26T11:18:59.066Z"
   },
   {
    "duration": 224,
    "start_time": "2023-11-26T11:19:12.291Z"
   },
   {
    "duration": 95,
    "start_time": "2023-11-26T11:19:22.958Z"
   },
   {
    "duration": 116,
    "start_time": "2023-11-26T11:19:25.166Z"
   },
   {
    "duration": 110,
    "start_time": "2023-11-26T11:19:43.925Z"
   },
   {
    "duration": 103,
    "start_time": "2023-11-26T11:19:50.952Z"
   },
   {
    "duration": 114,
    "start_time": "2023-11-26T11:19:55.882Z"
   },
   {
    "duration": 112,
    "start_time": "2023-11-26T11:20:21.845Z"
   },
   {
    "duration": 276,
    "start_time": "2023-11-26T11:21:31.394Z"
   },
   {
    "duration": 200,
    "start_time": "2023-11-26T11:21:37.528Z"
   },
   {
    "duration": 119,
    "start_time": "2023-11-26T11:21:51.615Z"
   },
   {
    "duration": 10,
    "start_time": "2023-11-26T11:36:22.338Z"
   },
   {
    "duration": 122,
    "start_time": "2023-11-26T11:36:29.202Z"
   },
   {
    "duration": 162,
    "start_time": "2023-11-26T11:38:51.890Z"
   },
   {
    "duration": 139,
    "start_time": "2023-11-26T11:39:06.019Z"
   },
   {
    "duration": 145,
    "start_time": "2023-11-26T11:39:25.342Z"
   },
   {
    "duration": 236,
    "start_time": "2023-11-26T11:40:43.890Z"
   },
   {
    "duration": 233,
    "start_time": "2023-11-26T11:40:53.286Z"
   },
   {
    "duration": 218,
    "start_time": "2023-11-26T11:41:37.967Z"
   },
   {
    "duration": 6,
    "start_time": "2023-11-26T11:41:44.615Z"
   },
   {
    "duration": 246,
    "start_time": "2023-11-26T11:43:19.307Z"
   },
   {
    "duration": 237,
    "start_time": "2023-11-26T11:43:25.404Z"
   },
   {
    "duration": 149,
    "start_time": "2023-11-26T11:43:42.962Z"
   },
   {
    "duration": 149,
    "start_time": "2023-11-26T11:43:48.062Z"
   },
   {
    "duration": 223,
    "start_time": "2023-11-26T11:44:12.186Z"
   },
   {
    "duration": 213,
    "start_time": "2023-11-26T11:53:06.440Z"
   },
   {
    "duration": 182,
    "start_time": "2023-11-26T12:10:00.511Z"
   },
   {
    "duration": 191,
    "start_time": "2023-11-26T12:10:20.124Z"
   },
   {
    "duration": 178,
    "start_time": "2023-11-26T12:11:24.151Z"
   },
   {
    "duration": 190,
    "start_time": "2023-11-26T12:11:30.604Z"
   },
   {
    "duration": 277,
    "start_time": "2023-11-26T12:11:38.687Z"
   },
   {
    "duration": 14,
    "start_time": "2023-11-26T12:13:35.413Z"
   },
   {
    "duration": 6,
    "start_time": "2023-11-26T12:14:57.268Z"
   },
   {
    "duration": 15,
    "start_time": "2023-11-26T12:15:12.600Z"
   },
   {
    "duration": 14,
    "start_time": "2023-11-26T12:17:15.292Z"
   },
   {
    "duration": 19,
    "start_time": "2023-11-26T12:17:38.934Z"
   },
   {
    "duration": 13,
    "start_time": "2023-11-26T12:20:01.060Z"
   },
   {
    "duration": 201,
    "start_time": "2023-11-26T12:20:21.918Z"
   },
   {
    "duration": 174,
    "start_time": "2023-11-26T12:20:43.163Z"
   },
   {
    "duration": 24,
    "start_time": "2023-11-26T12:21:21.034Z"
   },
   {
    "duration": 183,
    "start_time": "2023-11-26T12:21:33.684Z"
   },
   {
    "duration": 201,
    "start_time": "2023-11-26T12:24:37.762Z"
   },
   {
    "duration": 178,
    "start_time": "2023-11-26T12:24:56.059Z"
   },
   {
    "duration": 196,
    "start_time": "2023-11-26T12:25:38.548Z"
   },
   {
    "duration": 201,
    "start_time": "2023-11-26T12:25:50.963Z"
   },
   {
    "duration": 215,
    "start_time": "2023-11-26T12:41:06.388Z"
   },
   {
    "duration": 1037,
    "start_time": "2023-11-26T12:41:17.280Z"
   },
   {
    "duration": 84,
    "start_time": "2023-11-26T12:41:18.319Z"
   },
   {
    "duration": 39,
    "start_time": "2023-11-26T12:41:18.404Z"
   },
   {
    "duration": 27,
    "start_time": "2023-11-26T12:41:18.445Z"
   },
   {
    "duration": 15,
    "start_time": "2023-11-26T12:41:18.474Z"
   },
   {
    "duration": 5,
    "start_time": "2023-11-26T12:41:18.491Z"
   },
   {
    "duration": 11,
    "start_time": "2023-11-26T12:41:18.497Z"
   },
   {
    "duration": 4,
    "start_time": "2023-11-26T12:41:18.510Z"
   },
   {
    "duration": 7,
    "start_time": "2023-11-26T12:41:18.515Z"
   },
   {
    "duration": 6,
    "start_time": "2023-11-26T12:41:18.524Z"
   },
   {
    "duration": 16,
    "start_time": "2023-11-26T12:41:18.531Z"
   },
   {
    "duration": 202,
    "start_time": "2023-11-26T12:41:18.548Z"
   },
   {
    "duration": 100,
    "start_time": "2023-11-26T12:41:18.752Z"
   },
   {
    "duration": 229,
    "start_time": "2023-11-26T12:41:18.854Z"
   },
   {
    "duration": 166,
    "start_time": "2023-11-26T12:41:19.085Z"
   },
   {
    "duration": 8,
    "start_time": "2023-11-26T12:41:19.252Z"
   },
   {
    "duration": 180,
    "start_time": "2023-11-26T12:41:19.261Z"
   },
   {
    "duration": 206,
    "start_time": "2023-11-26T12:41:19.443Z"
   },
   {
    "duration": 17,
    "start_time": "2023-11-26T12:41:19.650Z"
   },
   {
    "duration": 187,
    "start_time": "2023-11-26T12:41:19.669Z"
   },
   {
    "duration": 23,
    "start_time": "2023-11-26T12:41:19.857Z"
   },
   {
    "duration": 14,
    "start_time": "2023-11-26T12:41:19.881Z"
   },
   {
    "duration": 195,
    "start_time": "2023-11-26T12:41:19.911Z"
   },
   {
    "duration": 248,
    "start_time": "2023-11-26T12:41:20.111Z"
   },
   {
    "duration": 12,
    "start_time": "2023-11-26T12:41:20.361Z"
   },
   {
    "duration": 185,
    "start_time": "2023-11-26T12:41:20.375Z"
   },
   {
    "duration": 214,
    "start_time": "2023-11-26T12:41:20.561Z"
   },
   {
    "duration": 227,
    "start_time": "2023-11-26T12:41:20.778Z"
   },
   {
    "duration": 13,
    "start_time": "2023-11-26T12:41:21.006Z"
   },
   {
    "duration": 7,
    "start_time": "2023-11-26T12:41:21.020Z"
   },
   {
    "duration": 12,
    "start_time": "2023-11-26T12:41:21.029Z"
   },
   {
    "duration": 12,
    "start_time": "2023-11-26T12:41:21.042Z"
   },
   {
    "duration": 5,
    "start_time": "2023-11-26T12:41:21.055Z"
   },
   {
    "duration": 73,
    "start_time": "2023-11-26T12:41:21.061Z"
   },
   {
    "duration": 202,
    "start_time": "2023-11-26T12:41:21.136Z"
   },
   {
    "duration": 194,
    "start_time": "2023-11-26T12:41:21.340Z"
   },
   {
    "duration": 4,
    "start_time": "2023-11-26T12:41:21.535Z"
   },
   {
    "duration": 11,
    "start_time": "2023-11-26T12:41:21.541Z"
   },
   {
    "duration": 56,
    "start_time": "2023-11-26T12:41:21.553Z"
   },
   {
    "duration": 5,
    "start_time": "2023-11-26T12:41:21.611Z"
   },
   {
    "duration": 15,
    "start_time": "2023-11-26T12:41:21.617Z"
   },
   {
    "duration": 119,
    "start_time": "2023-11-26T12:41:21.634Z"
   },
   {
    "duration": 9,
    "start_time": "2023-11-26T12:41:21.755Z"
   },
   {
    "duration": 126,
    "start_time": "2023-11-26T12:41:21.765Z"
   },
   {
    "duration": 7,
    "start_time": "2023-11-26T12:41:21.892Z"
   },
   {
    "duration": 224,
    "start_time": "2023-11-26T12:41:21.900Z"
   },
   {
    "duration": 229,
    "start_time": "2023-11-26T12:41:56.461Z"
   },
   {
    "duration": 338,
    "start_time": "2023-11-26T12:43:19.028Z"
   },
   {
    "duration": 296,
    "start_time": "2023-11-26T12:43:24.245Z"
   },
   {
    "duration": 264,
    "start_time": "2023-11-26T12:43:44.187Z"
   },
   {
    "duration": 287,
    "start_time": "2023-11-26T12:43:52.207Z"
   },
   {
    "duration": 375,
    "start_time": "2023-11-26T12:43:58.615Z"
   },
   {
    "duration": 191,
    "start_time": "2023-11-26T12:44:27.052Z"
   },
   {
    "duration": 280,
    "start_time": "2023-11-26T12:44:29.859Z"
   },
   {
    "duration": 290,
    "start_time": "2023-11-26T12:44:52.868Z"
   },
   {
    "duration": 36,
    "start_time": "2023-11-26T12:47:27.819Z"
   },
   {
    "duration": 24,
    "start_time": "2023-11-26T12:47:35.197Z"
   },
   {
    "duration": 14,
    "start_time": "2023-11-26T12:49:25.130Z"
   },
   {
    "duration": 17,
    "start_time": "2023-11-26T12:54:22.311Z"
   },
   {
    "duration": 1032,
    "start_time": "2023-11-26T12:54:39.466Z"
   },
   {
    "duration": 91,
    "start_time": "2023-11-26T12:54:40.500Z"
   },
   {
    "duration": 49,
    "start_time": "2023-11-26T12:54:40.592Z"
   },
   {
    "duration": 26,
    "start_time": "2023-11-26T12:54:40.642Z"
   },
   {
    "duration": 15,
    "start_time": "2023-11-26T12:54:40.669Z"
   },
   {
    "duration": 5,
    "start_time": "2023-11-26T12:54:40.685Z"
   },
   {
    "duration": 21,
    "start_time": "2023-11-26T12:54:40.691Z"
   },
   {
    "duration": 4,
    "start_time": "2023-11-26T12:54:40.714Z"
   },
   {
    "duration": 8,
    "start_time": "2023-11-26T12:54:40.719Z"
   },
   {
    "duration": 6,
    "start_time": "2023-11-26T12:54:40.729Z"
   },
   {
    "duration": 11,
    "start_time": "2023-11-26T12:54:40.737Z"
   },
   {
    "duration": 201,
    "start_time": "2023-11-26T12:54:40.750Z"
   },
   {
    "duration": 96,
    "start_time": "2023-11-26T12:54:40.953Z"
   },
   {
    "duration": 160,
    "start_time": "2023-11-26T12:54:41.052Z"
   },
   {
    "duration": 7,
    "start_time": "2023-11-26T12:54:41.214Z"
   },
   {
    "duration": 178,
    "start_time": "2023-11-26T12:54:41.223Z"
   },
   {
    "duration": 195,
    "start_time": "2023-11-26T12:54:41.403Z"
   },
   {
    "duration": 28,
    "start_time": "2023-11-26T12:54:41.599Z"
   },
   {
    "duration": 193,
    "start_time": "2023-11-26T12:54:41.629Z"
   },
   {
    "duration": 27,
    "start_time": "2023-11-26T12:54:41.824Z"
   },
   {
    "duration": 14,
    "start_time": "2023-11-26T12:54:41.852Z"
   },
   {
    "duration": 227,
    "start_time": "2023-11-26T12:54:41.868Z"
   },
   {
    "duration": 258,
    "start_time": "2023-11-26T12:54:42.096Z"
   },
   {
    "duration": 12,
    "start_time": "2023-11-26T12:54:42.356Z"
   },
   {
    "duration": 198,
    "start_time": "2023-11-26T12:54:42.369Z"
   },
   {
    "duration": 207,
    "start_time": "2023-11-26T12:54:42.568Z"
   },
   {
    "duration": 297,
    "start_time": "2023-11-26T12:54:42.776Z"
   },
   {
    "duration": 287,
    "start_time": "2023-11-26T12:54:43.075Z"
   },
   {
    "duration": 13,
    "start_time": "2023-11-26T12:54:43.364Z"
   },
   {
    "duration": 6,
    "start_time": "2023-11-26T12:54:43.379Z"
   },
   {
    "duration": 34,
    "start_time": "2023-11-26T12:54:43.386Z"
   },
   {
    "duration": 13,
    "start_time": "2023-11-26T12:54:43.422Z"
   },
   {
    "duration": 5,
    "start_time": "2023-11-26T12:54:43.437Z"
   },
   {
    "duration": 26,
    "start_time": "2023-11-26T12:54:43.444Z"
   },
   {
    "duration": 1224,
    "start_time": "2023-11-26T12:54:43.472Z"
   },
   {
    "duration": 0,
    "start_time": "2023-11-26T12:54:44.698Z"
   },
   {
    "duration": 0,
    "start_time": "2023-11-26T12:54:44.700Z"
   },
   {
    "duration": 0,
    "start_time": "2023-11-26T12:54:44.701Z"
   },
   {
    "duration": 0,
    "start_time": "2023-11-26T12:54:44.702Z"
   },
   {
    "duration": 0,
    "start_time": "2023-11-26T12:54:44.704Z"
   },
   {
    "duration": 0,
    "start_time": "2023-11-26T12:54:44.705Z"
   },
   {
    "duration": 0,
    "start_time": "2023-11-26T12:54:44.706Z"
   },
   {
    "duration": 0,
    "start_time": "2023-11-26T12:54:44.708Z"
   },
   {
    "duration": 0,
    "start_time": "2023-11-26T12:54:44.709Z"
   },
   {
    "duration": 0,
    "start_time": "2023-11-26T12:54:44.710Z"
   },
   {
    "duration": 0,
    "start_time": "2023-11-26T12:54:44.712Z"
   },
   {
    "duration": 32,
    "start_time": "2023-11-26T12:55:48.819Z"
   },
   {
    "duration": 10,
    "start_time": "2023-11-26T12:56:36.687Z"
   },
   {
    "duration": 13,
    "start_time": "2023-11-26T12:57:14.583Z"
   },
   {
    "duration": 11,
    "start_time": "2023-11-26T12:57:43.952Z"
   },
   {
    "duration": 1022,
    "start_time": "2023-11-26T12:57:56.212Z"
   },
   {
    "duration": 67,
    "start_time": "2023-11-26T12:57:57.236Z"
   },
   {
    "duration": 44,
    "start_time": "2023-11-26T12:57:57.304Z"
   },
   {
    "duration": 24,
    "start_time": "2023-11-26T12:57:57.350Z"
   },
   {
    "duration": 13,
    "start_time": "2023-11-26T12:57:57.376Z"
   },
   {
    "duration": 4,
    "start_time": "2023-11-26T12:57:57.390Z"
   },
   {
    "duration": 16,
    "start_time": "2023-11-26T12:57:57.396Z"
   },
   {
    "duration": 4,
    "start_time": "2023-11-26T12:57:57.413Z"
   },
   {
    "duration": 7,
    "start_time": "2023-11-26T12:57:57.418Z"
   },
   {
    "duration": 6,
    "start_time": "2023-11-26T12:57:57.426Z"
   },
   {
    "duration": 9,
    "start_time": "2023-11-26T12:57:57.433Z"
   },
   {
    "duration": 210,
    "start_time": "2023-11-26T12:57:57.443Z"
   },
   {
    "duration": 105,
    "start_time": "2023-11-26T12:57:57.655Z"
   },
   {
    "duration": 161,
    "start_time": "2023-11-26T12:57:57.764Z"
   },
   {
    "duration": 7,
    "start_time": "2023-11-26T12:57:57.926Z"
   },
   {
    "duration": 180,
    "start_time": "2023-11-26T12:57:57.934Z"
   },
   {
    "duration": 197,
    "start_time": "2023-11-26T12:57:58.116Z"
   },
   {
    "duration": 18,
    "start_time": "2023-11-26T12:57:58.314Z"
   },
   {
    "duration": 184,
    "start_time": "2023-11-26T12:57:58.333Z"
   },
   {
    "duration": 25,
    "start_time": "2023-11-26T12:57:58.519Z"
   },
   {
    "duration": 16,
    "start_time": "2023-11-26T12:57:58.545Z"
   },
   {
    "duration": 224,
    "start_time": "2023-11-26T12:57:58.563Z"
   },
   {
    "duration": 186,
    "start_time": "2023-11-26T12:57:58.788Z"
   },
   {
    "duration": 12,
    "start_time": "2023-11-26T12:57:58.976Z"
   },
   {
    "duration": 269,
    "start_time": "2023-11-26T12:57:58.989Z"
   },
   {
    "duration": 199,
    "start_time": "2023-11-26T12:57:59.259Z"
   },
   {
    "duration": 292,
    "start_time": "2023-11-26T12:57:59.460Z"
   },
   {
    "duration": 304,
    "start_time": "2023-11-26T12:57:59.754Z"
   },
   {
    "duration": 13,
    "start_time": "2023-11-26T12:58:00.059Z"
   },
   {
    "duration": 13,
    "start_time": "2023-11-26T12:58:00.074Z"
   },
   {
    "duration": 37,
    "start_time": "2023-11-26T12:58:00.088Z"
   },
   {
    "duration": 15,
    "start_time": "2023-11-26T12:58:00.126Z"
   },
   {
    "duration": 21,
    "start_time": "2023-11-26T12:58:00.142Z"
   },
   {
    "duration": 6,
    "start_time": "2023-11-26T12:58:00.164Z"
   },
   {
    "duration": 44,
    "start_time": "2023-11-26T12:58:00.171Z"
   },
   {
    "duration": 207,
    "start_time": "2023-11-26T12:58:00.217Z"
   },
   {
    "duration": 192,
    "start_time": "2023-11-26T12:58:00.425Z"
   },
   {
    "duration": 5,
    "start_time": "2023-11-26T12:58:00.619Z"
   },
   {
    "duration": 19,
    "start_time": "2023-11-26T12:58:00.625Z"
   },
   {
    "duration": 39,
    "start_time": "2023-11-26T12:58:00.645Z"
   },
   {
    "duration": 11,
    "start_time": "2023-11-26T12:58:00.688Z"
   },
   {
    "duration": 20,
    "start_time": "2023-11-26T12:58:00.700Z"
   },
   {
    "duration": 114,
    "start_time": "2023-11-26T12:58:00.721Z"
   },
   {
    "duration": 8,
    "start_time": "2023-11-26T12:58:00.836Z"
   },
   {
    "duration": 233,
    "start_time": "2023-11-26T12:58:00.846Z"
   },
   {
    "duration": 8,
    "start_time": "2023-11-26T12:58:01.080Z"
   },
   {
    "duration": 134,
    "start_time": "2023-11-26T12:58:01.089Z"
   },
   {
    "duration": 244,
    "start_time": "2023-11-26T12:58:18.319Z"
   },
   {
    "duration": 3261,
    "start_time": "2023-11-26T12:58:23.287Z"
   },
   {
    "duration": 1049,
    "start_time": "2023-11-26T12:58:42.181Z"
   },
   {
    "duration": 133,
    "start_time": "2023-11-26T12:58:43.232Z"
   },
   {
    "duration": 79,
    "start_time": "2023-11-26T12:58:43.366Z"
   },
   {
    "duration": 63,
    "start_time": "2023-11-26T12:58:43.447Z"
   },
   {
    "duration": 14,
    "start_time": "2023-11-26T12:58:43.513Z"
   },
   {
    "duration": 5,
    "start_time": "2023-11-26T12:58:43.529Z"
   },
   {
    "duration": 6,
    "start_time": "2023-11-26T12:58:43.535Z"
   },
   {
    "duration": 3,
    "start_time": "2023-11-26T12:58:43.542Z"
   },
   {
    "duration": 7,
    "start_time": "2023-11-26T12:58:43.546Z"
   },
   {
    "duration": 5,
    "start_time": "2023-11-26T12:58:43.554Z"
   },
   {
    "duration": 10,
    "start_time": "2023-11-26T12:58:43.560Z"
   },
   {
    "duration": 179,
    "start_time": "2023-11-26T12:58:43.612Z"
   },
   {
    "duration": 101,
    "start_time": "2023-11-26T12:58:43.792Z"
   },
   {
    "duration": 173,
    "start_time": "2023-11-26T12:58:43.897Z"
   },
   {
    "duration": 7,
    "start_time": "2023-11-26T12:58:44.071Z"
   },
   {
    "duration": 193,
    "start_time": "2023-11-26T12:58:44.080Z"
   },
   {
    "duration": 197,
    "start_time": "2023-11-26T12:58:44.275Z"
   },
   {
    "duration": 17,
    "start_time": "2023-11-26T12:58:44.473Z"
   },
   {
    "duration": 192,
    "start_time": "2023-11-26T12:58:44.492Z"
   },
   {
    "duration": 31,
    "start_time": "2023-11-26T12:58:44.686Z"
   },
   {
    "duration": 16,
    "start_time": "2023-11-26T12:58:44.719Z"
   },
   {
    "duration": 204,
    "start_time": "2023-11-26T12:58:44.736Z"
   },
   {
    "duration": 252,
    "start_time": "2023-11-26T12:58:44.941Z"
   },
   {
    "duration": 20,
    "start_time": "2023-11-26T12:58:45.194Z"
   },
   {
    "duration": 203,
    "start_time": "2023-11-26T12:58:45.216Z"
   },
   {
    "duration": 216,
    "start_time": "2023-11-26T12:58:45.421Z"
   },
   {
    "duration": 299,
    "start_time": "2023-11-26T12:58:45.639Z"
   },
   {
    "duration": 306,
    "start_time": "2023-11-26T12:58:45.940Z"
   },
   {
    "duration": 18,
    "start_time": "2023-11-26T12:58:46.248Z"
   },
   {
    "duration": 6,
    "start_time": "2023-11-26T12:58:46.268Z"
   },
   {
    "duration": 13,
    "start_time": "2023-11-26T12:58:46.275Z"
   },
   {
    "duration": 32,
    "start_time": "2023-11-26T12:58:46.289Z"
   },
   {
    "duration": 12,
    "start_time": "2023-11-26T12:58:46.322Z"
   },
   {
    "duration": 4,
    "start_time": "2023-11-26T12:58:46.335Z"
   },
   {
    "duration": 30,
    "start_time": "2023-11-26T12:58:46.340Z"
   },
   {
    "duration": 224,
    "start_time": "2023-11-26T12:58:46.372Z"
   },
   {
    "duration": 208,
    "start_time": "2023-11-26T12:58:46.597Z"
   },
   {
    "duration": 8,
    "start_time": "2023-11-26T12:58:46.806Z"
   },
   {
    "duration": 4,
    "start_time": "2023-11-26T12:58:46.816Z"
   },
   {
    "duration": 22,
    "start_time": "2023-11-26T12:58:46.822Z"
   },
   {
    "duration": 4,
    "start_time": "2023-11-26T12:58:46.847Z"
   },
   {
    "duration": 5,
    "start_time": "2023-11-26T12:58:46.853Z"
   },
   {
    "duration": 225,
    "start_time": "2023-11-26T12:58:46.860Z"
   },
   {
    "duration": 7,
    "start_time": "2023-11-26T12:58:47.087Z"
   },
   {
    "duration": 135,
    "start_time": "2023-11-26T12:58:47.095Z"
   },
   {
    "duration": 7,
    "start_time": "2023-11-26T12:58:47.232Z"
   },
   {
    "duration": 133,
    "start_time": "2023-11-26T12:58:47.241Z"
   },
   {
    "duration": 986,
    "start_time": "2023-11-26T12:59:14.442Z"
   },
   {
    "duration": 67,
    "start_time": "2023-11-26T12:59:15.430Z"
   },
   {
    "duration": 48,
    "start_time": "2023-11-26T12:59:15.499Z"
   },
   {
    "duration": 25,
    "start_time": "2023-11-26T12:59:15.548Z"
   },
   {
    "duration": 13,
    "start_time": "2023-11-26T12:59:15.575Z"
   },
   {
    "duration": 5,
    "start_time": "2023-11-26T12:59:15.589Z"
   },
   {
    "duration": 6,
    "start_time": "2023-11-26T12:59:15.595Z"
   },
   {
    "duration": 4,
    "start_time": "2023-11-26T12:59:15.610Z"
   },
   {
    "duration": 7,
    "start_time": "2023-11-26T12:59:15.615Z"
   },
   {
    "duration": 5,
    "start_time": "2023-11-26T12:59:15.623Z"
   },
   {
    "duration": 9,
    "start_time": "2023-11-26T12:59:15.630Z"
   },
   {
    "duration": 191,
    "start_time": "2023-11-26T12:59:15.640Z"
   },
   {
    "duration": 93,
    "start_time": "2023-11-26T12:59:15.832Z"
   },
   {
    "duration": 160,
    "start_time": "2023-11-26T12:59:15.928Z"
   },
   {
    "duration": 7,
    "start_time": "2023-11-26T12:59:16.089Z"
   },
   {
    "duration": 192,
    "start_time": "2023-11-26T12:59:16.097Z"
   },
   {
    "duration": 206,
    "start_time": "2023-11-26T12:59:16.291Z"
   },
   {
    "duration": 25,
    "start_time": "2023-11-26T12:59:16.498Z"
   },
   {
    "duration": 177,
    "start_time": "2023-11-26T12:59:16.525Z"
   },
   {
    "duration": 24,
    "start_time": "2023-11-26T12:59:16.710Z"
   },
   {
    "duration": 15,
    "start_time": "2023-11-26T12:59:16.735Z"
   },
   {
    "duration": 202,
    "start_time": "2023-11-26T12:59:16.751Z"
   },
   {
    "duration": 264,
    "start_time": "2023-11-26T12:59:16.955Z"
   },
   {
    "duration": 12,
    "start_time": "2023-11-26T12:59:17.220Z"
   },
   {
    "duration": 184,
    "start_time": "2023-11-26T12:59:17.234Z"
   },
   {
    "duration": 314,
    "start_time": "2023-11-26T12:59:17.419Z"
   },
   {
    "duration": 597,
    "start_time": "2023-11-26T12:59:17.734Z"
   },
   {
    "duration": 596,
    "start_time": "2023-11-26T12:59:18.332Z"
   },
   {
    "duration": 13,
    "start_time": "2023-11-26T12:59:18.930Z"
   },
   {
    "duration": 10,
    "start_time": "2023-11-26T12:59:18.944Z"
   },
   {
    "duration": 15,
    "start_time": "2023-11-26T12:59:18.955Z"
   },
   {
    "duration": 13,
    "start_time": "2023-11-26T12:59:18.971Z"
   },
   {
    "duration": 37,
    "start_time": "2023-11-26T12:59:18.985Z"
   },
   {
    "duration": 14,
    "start_time": "2023-11-26T12:59:19.024Z"
   },
   {
    "duration": 29,
    "start_time": "2023-11-26T12:59:19.039Z"
   },
   {
    "duration": 213,
    "start_time": "2023-11-26T12:59:19.069Z"
   },
   {
    "duration": 192,
    "start_time": "2023-11-26T12:59:19.283Z"
   },
   {
    "duration": 5,
    "start_time": "2023-11-26T12:59:19.476Z"
   },
   {
    "duration": 5,
    "start_time": "2023-11-26T12:59:19.482Z"
   },
   {
    "duration": 44,
    "start_time": "2023-11-26T12:59:19.488Z"
   },
   {
    "duration": 5,
    "start_time": "2023-11-26T12:59:19.535Z"
   },
   {
    "duration": 5,
    "start_time": "2023-11-26T12:59:19.541Z"
   },
   {
    "duration": 221,
    "start_time": "2023-11-26T12:59:19.547Z"
   },
   {
    "duration": 9,
    "start_time": "2023-11-26T12:59:19.770Z"
   },
   {
    "duration": 124,
    "start_time": "2023-11-26T12:59:19.781Z"
   },
   {
    "duration": 12,
    "start_time": "2023-11-26T12:59:19.906Z"
   },
   {
    "duration": 133,
    "start_time": "2023-11-26T12:59:19.919Z"
   },
   {
    "duration": 1005,
    "start_time": "2023-11-26T13:00:58.026Z"
   },
   {
    "duration": 92,
    "start_time": "2023-11-26T13:00:59.033Z"
   },
   {
    "duration": 38,
    "start_time": "2023-11-26T13:00:59.127Z"
   },
   {
    "duration": 24,
    "start_time": "2023-11-26T13:00:59.167Z"
   },
   {
    "duration": 14,
    "start_time": "2023-11-26T13:00:59.193Z"
   },
   {
    "duration": 5,
    "start_time": "2023-11-26T13:00:59.208Z"
   },
   {
    "duration": 5,
    "start_time": "2023-11-26T13:00:59.215Z"
   },
   {
    "duration": 6,
    "start_time": "2023-11-26T13:00:59.222Z"
   },
   {
    "duration": 8,
    "start_time": "2023-11-26T13:00:59.229Z"
   },
   {
    "duration": 5,
    "start_time": "2023-11-26T13:00:59.239Z"
   },
   {
    "duration": 10,
    "start_time": "2023-11-26T13:00:59.245Z"
   },
   {
    "duration": 197,
    "start_time": "2023-11-26T13:00:59.256Z"
   },
   {
    "duration": 112,
    "start_time": "2023-11-26T13:00:59.455Z"
   },
   {
    "duration": 176,
    "start_time": "2023-11-26T13:00:59.569Z"
   },
   {
    "duration": 8,
    "start_time": "2023-11-26T13:00:59.747Z"
   },
   {
    "duration": 190,
    "start_time": "2023-11-26T13:00:59.756Z"
   },
   {
    "duration": 192,
    "start_time": "2023-11-26T13:00:59.947Z"
   },
   {
    "duration": 18,
    "start_time": "2023-11-26T13:01:00.141Z"
   },
   {
    "duration": 193,
    "start_time": "2023-11-26T13:01:00.160Z"
   },
   {
    "duration": 24,
    "start_time": "2023-11-26T13:01:00.354Z"
   },
   {
    "duration": 13,
    "start_time": "2023-11-26T13:01:00.380Z"
   },
   {
    "duration": 209,
    "start_time": "2023-11-26T13:01:00.395Z"
   },
   {
    "duration": 256,
    "start_time": "2023-11-26T13:01:00.611Z"
   },
   {
    "duration": 13,
    "start_time": "2023-11-26T13:01:00.868Z"
   },
   {
    "duration": 189,
    "start_time": "2023-11-26T13:01:00.882Z"
   },
   {
    "duration": 204,
    "start_time": "2023-11-26T13:01:01.073Z"
   },
   {
    "duration": 306,
    "start_time": "2023-11-26T13:01:01.279Z"
   },
   {
    "duration": 320,
    "start_time": "2023-11-26T13:01:01.587Z"
   },
   {
    "duration": 12,
    "start_time": "2023-11-26T13:01:01.912Z"
   },
   {
    "duration": 20,
    "start_time": "2023-11-26T13:01:01.925Z"
   },
   {
    "duration": 31,
    "start_time": "2023-11-26T13:01:01.947Z"
   },
   {
    "duration": 32,
    "start_time": "2023-11-26T13:01:01.979Z"
   },
   {
    "duration": 14,
    "start_time": "2023-11-26T13:01:02.012Z"
   },
   {
    "duration": 15,
    "start_time": "2023-11-26T13:01:02.028Z"
   },
   {
    "duration": 31,
    "start_time": "2023-11-26T13:01:02.044Z"
   },
   {
    "duration": 215,
    "start_time": "2023-11-26T13:01:02.076Z"
   },
   {
    "duration": 227,
    "start_time": "2023-11-26T13:01:02.293Z"
   },
   {
    "duration": 5,
    "start_time": "2023-11-26T13:01:02.522Z"
   },
   {
    "duration": 14,
    "start_time": "2023-11-26T13:01:02.528Z"
   },
   {
    "duration": 71,
    "start_time": "2023-11-26T13:01:02.543Z"
   },
   {
    "duration": 5,
    "start_time": "2023-11-26T13:01:02.617Z"
   },
   {
    "duration": 5,
    "start_time": "2023-11-26T13:01:02.623Z"
   },
   {
    "duration": 410,
    "start_time": "2023-11-26T13:01:02.629Z"
   },
   {
    "duration": 7,
    "start_time": "2023-11-26T13:01:03.041Z"
   },
   {
    "duration": 280,
    "start_time": "2023-11-26T13:01:03.049Z"
   },
   {
    "duration": 8,
    "start_time": "2023-11-26T13:01:03.330Z"
   },
   {
    "duration": 215,
    "start_time": "2023-11-26T13:01:03.339Z"
   },
   {
    "duration": 1005,
    "start_time": "2023-11-26T13:02:20.936Z"
   },
   {
    "duration": 113,
    "start_time": "2023-11-26T13:02:21.943Z"
   },
   {
    "duration": 41,
    "start_time": "2023-11-26T13:02:22.057Z"
   },
   {
    "duration": 27,
    "start_time": "2023-11-26T13:02:22.100Z"
   },
   {
    "duration": 15,
    "start_time": "2023-11-26T13:02:22.130Z"
   },
   {
    "duration": 18,
    "start_time": "2023-11-26T13:02:22.147Z"
   },
   {
    "duration": 6,
    "start_time": "2023-11-26T13:02:22.166Z"
   },
   {
    "duration": 6,
    "start_time": "2023-11-26T13:02:22.174Z"
   },
   {
    "duration": 12,
    "start_time": "2023-11-26T13:02:22.181Z"
   },
   {
    "duration": 20,
    "start_time": "2023-11-26T13:02:22.195Z"
   },
   {
    "duration": 10,
    "start_time": "2023-11-26T13:02:22.216Z"
   },
   {
    "duration": 206,
    "start_time": "2023-11-26T13:02:22.227Z"
   },
   {
    "duration": 125,
    "start_time": "2023-11-26T13:02:22.435Z"
   },
   {
    "duration": 183,
    "start_time": "2023-11-26T13:02:22.564Z"
   },
   {
    "duration": 7,
    "start_time": "2023-11-26T13:02:22.748Z"
   },
   {
    "duration": 197,
    "start_time": "2023-11-26T13:02:22.757Z"
   },
   {
    "duration": 199,
    "start_time": "2023-11-26T13:02:22.956Z"
   },
   {
    "duration": 18,
    "start_time": "2023-11-26T13:02:23.157Z"
   },
   {
    "duration": 202,
    "start_time": "2023-11-26T13:02:23.176Z"
   },
   {
    "duration": 33,
    "start_time": "2023-11-26T13:02:23.380Z"
   },
   {
    "duration": 15,
    "start_time": "2023-11-26T13:02:23.414Z"
   },
   {
    "duration": 250,
    "start_time": "2023-11-26T13:02:23.431Z"
   },
   {
    "duration": 200,
    "start_time": "2023-11-26T13:02:23.682Z"
   },
   {
    "duration": 13,
    "start_time": "2023-11-26T13:02:23.884Z"
   },
   {
    "duration": 260,
    "start_time": "2023-11-26T13:02:23.911Z"
   },
   {
    "duration": 204,
    "start_time": "2023-11-26T13:02:24.173Z"
   },
   {
    "duration": 301,
    "start_time": "2023-11-26T13:02:24.378Z"
   },
   {
    "duration": 320,
    "start_time": "2023-11-26T13:02:24.680Z"
   },
   {
    "duration": 16,
    "start_time": "2023-11-26T13:02:25.001Z"
   },
   {
    "duration": 5,
    "start_time": "2023-11-26T13:02:25.018Z"
   },
   {
    "duration": 14,
    "start_time": "2023-11-26T13:02:25.024Z"
   },
   {
    "duration": 12,
    "start_time": "2023-11-26T13:02:25.039Z"
   },
   {
    "duration": 12,
    "start_time": "2023-11-26T13:02:25.052Z"
   },
   {
    "duration": 12,
    "start_time": "2023-11-26T13:02:25.065Z"
   },
   {
    "duration": 46,
    "start_time": "2023-11-26T13:02:25.078Z"
   },
   {
    "duration": 189,
    "start_time": "2023-11-26T13:02:25.126Z"
   },
   {
    "duration": 176,
    "start_time": "2023-11-26T13:02:25.317Z"
   },
   {
    "duration": 5,
    "start_time": "2023-11-26T13:02:25.494Z"
   },
   {
    "duration": 14,
    "start_time": "2023-11-26T13:02:25.500Z"
   },
   {
    "duration": 7,
    "start_time": "2023-11-26T13:02:25.516Z"
   },
   {
    "duration": 5,
    "start_time": "2023-11-26T13:02:25.526Z"
   },
   {
    "duration": 5,
    "start_time": "2023-11-26T13:02:25.533Z"
   },
   {
    "duration": 139,
    "start_time": "2023-11-26T13:02:25.539Z"
   },
   {
    "duration": 7,
    "start_time": "2023-11-26T13:02:25.679Z"
   },
   {
    "duration": 214,
    "start_time": "2023-11-26T13:02:25.688Z"
   },
   {
    "duration": 11,
    "start_time": "2023-11-26T13:02:25.904Z"
   },
   {
    "duration": 132,
    "start_time": "2023-11-26T13:02:25.917Z"
   },
   {
    "duration": 1021,
    "start_time": "2023-11-26T13:03:01.909Z"
   },
   {
    "duration": 90,
    "start_time": "2023-11-26T13:03:02.932Z"
   },
   {
    "duration": 40,
    "start_time": "2023-11-26T13:03:03.023Z"
   },
   {
    "duration": 25,
    "start_time": "2023-11-26T13:03:03.064Z"
   },
   {
    "duration": 19,
    "start_time": "2023-11-26T13:03:03.091Z"
   },
   {
    "duration": 5,
    "start_time": "2023-11-26T13:03:03.112Z"
   },
   {
    "duration": 7,
    "start_time": "2023-11-26T13:03:03.118Z"
   },
   {
    "duration": 6,
    "start_time": "2023-11-26T13:03:03.126Z"
   },
   {
    "duration": 10,
    "start_time": "2023-11-26T13:03:03.133Z"
   },
   {
    "duration": 10,
    "start_time": "2023-11-26T13:03:03.144Z"
   },
   {
    "duration": 10,
    "start_time": "2023-11-26T13:03:03.155Z"
   },
   {
    "duration": 202,
    "start_time": "2023-11-26T13:03:03.166Z"
   },
   {
    "duration": 102,
    "start_time": "2023-11-26T13:03:03.369Z"
   },
   {
    "duration": 175,
    "start_time": "2023-11-26T13:03:03.474Z"
   },
   {
    "duration": 6,
    "start_time": "2023-11-26T13:03:03.651Z"
   },
   {
    "duration": 191,
    "start_time": "2023-11-26T13:03:03.658Z"
   },
   {
    "duration": 206,
    "start_time": "2023-11-26T13:03:03.851Z"
   },
   {
    "duration": 20,
    "start_time": "2023-11-26T13:03:04.058Z"
   },
   {
    "duration": 198,
    "start_time": "2023-11-26T13:03:04.079Z"
   },
   {
    "duration": 34,
    "start_time": "2023-11-26T13:03:04.279Z"
   },
   {
    "duration": 17,
    "start_time": "2023-11-26T13:03:04.315Z"
   },
   {
    "duration": 214,
    "start_time": "2023-11-26T13:03:04.334Z"
   },
   {
    "duration": 195,
    "start_time": "2023-11-26T13:03:04.549Z"
   },
   {
    "duration": 14,
    "start_time": "2023-11-26T13:03:04.745Z"
   },
   {
    "duration": 276,
    "start_time": "2023-11-26T13:03:04.760Z"
   },
   {
    "duration": 203,
    "start_time": "2023-11-26T13:03:05.038Z"
   },
   {
    "duration": 311,
    "start_time": "2023-11-26T13:03:05.242Z"
   },
   {
    "duration": 314,
    "start_time": "2023-11-26T13:03:05.555Z"
   },
   {
    "duration": 12,
    "start_time": "2023-11-26T13:03:05.870Z"
   },
   {
    "duration": 23,
    "start_time": "2023-11-26T13:03:05.884Z"
   },
   {
    "duration": 14,
    "start_time": "2023-11-26T13:03:05.908Z"
   },
   {
    "duration": 12,
    "start_time": "2023-11-26T13:03:05.924Z"
   },
   {
    "duration": 12,
    "start_time": "2023-11-26T13:03:05.938Z"
   },
   {
    "duration": 12,
    "start_time": "2023-11-26T13:03:05.952Z"
   },
   {
    "duration": 15,
    "start_time": "2023-11-26T13:03:05.966Z"
   },
   {
    "duration": 207,
    "start_time": "2023-11-26T13:03:05.982Z"
   },
   {
    "duration": 182,
    "start_time": "2023-11-26T13:03:06.191Z"
   },
   {
    "duration": 6,
    "start_time": "2023-11-26T13:03:06.375Z"
   },
   {
    "duration": 7,
    "start_time": "2023-11-26T13:03:06.382Z"
   },
   {
    "duration": 24,
    "start_time": "2023-11-26T13:03:06.390Z"
   },
   {
    "duration": 5,
    "start_time": "2023-11-26T13:03:06.418Z"
   },
   {
    "duration": 10,
    "start_time": "2023-11-26T13:03:06.424Z"
   },
   {
    "duration": 123,
    "start_time": "2023-11-26T13:03:06.435Z"
   },
   {
    "duration": 8,
    "start_time": "2023-11-26T13:03:06.559Z"
   },
   {
    "duration": 214,
    "start_time": "2023-11-26T13:03:06.568Z"
   },
   {
    "duration": 7,
    "start_time": "2023-11-26T13:03:06.783Z"
   },
   {
    "duration": 138,
    "start_time": "2023-11-26T13:03:06.792Z"
   },
   {
    "duration": 17,
    "start_time": "2023-11-26T13:03:46.751Z"
   },
   {
    "duration": 5,
    "start_time": "2023-11-26T13:22:49.699Z"
   },
   {
    "duration": 6,
    "start_time": "2023-11-26T13:23:24.739Z"
   },
   {
    "duration": 5,
    "start_time": "2023-11-26T13:23:39.934Z"
   },
   {
    "duration": 7,
    "start_time": "2023-11-26T13:25:04.251Z"
   },
   {
    "duration": 7,
    "start_time": "2023-11-26T13:25:15.751Z"
   },
   {
    "duration": 5,
    "start_time": "2023-11-26T13:29:46.464Z"
   },
   {
    "duration": 6,
    "start_time": "2023-11-26T13:30:41.932Z"
   },
   {
    "duration": 5,
    "start_time": "2023-11-26T13:30:51.227Z"
   },
   {
    "duration": 5,
    "start_time": "2023-11-26T13:33:50.895Z"
   },
   {
    "duration": 3,
    "start_time": "2023-11-26T13:35:13.772Z"
   },
   {
    "duration": 6,
    "start_time": "2023-11-26T13:35:15.329Z"
   },
   {
    "duration": 8,
    "start_time": "2023-11-26T13:49:51.682Z"
   },
   {
    "duration": 1030,
    "start_time": "2023-11-26T13:49:57.409Z"
   },
   {
    "duration": 97,
    "start_time": "2023-11-26T13:49:58.441Z"
   },
   {
    "duration": 43,
    "start_time": "2023-11-26T13:49:58.539Z"
   },
   {
    "duration": 24,
    "start_time": "2023-11-26T13:49:58.584Z"
   },
   {
    "duration": 13,
    "start_time": "2023-11-26T13:49:58.609Z"
   },
   {
    "duration": 4,
    "start_time": "2023-11-26T13:49:58.624Z"
   },
   {
    "duration": 5,
    "start_time": "2023-11-26T13:49:58.630Z"
   },
   {
    "duration": 18,
    "start_time": "2023-11-26T13:49:58.637Z"
   },
   {
    "duration": 21,
    "start_time": "2023-11-26T13:49:58.656Z"
   },
   {
    "duration": 9,
    "start_time": "2023-11-26T13:49:58.679Z"
   },
   {
    "duration": 19,
    "start_time": "2023-11-26T13:49:58.689Z"
   },
   {
    "duration": 189,
    "start_time": "2023-11-26T13:49:58.709Z"
   },
   {
    "duration": 101,
    "start_time": "2023-11-26T13:49:58.900Z"
   },
   {
    "duration": 184,
    "start_time": "2023-11-26T13:49:59.002Z"
   },
   {
    "duration": 7,
    "start_time": "2023-11-26T13:49:59.187Z"
   },
   {
    "duration": 198,
    "start_time": "2023-11-26T13:49:59.195Z"
   },
   {
    "duration": 198,
    "start_time": "2023-11-26T13:49:59.394Z"
   },
   {
    "duration": 32,
    "start_time": "2023-11-26T13:49:59.594Z"
   },
   {
    "duration": 186,
    "start_time": "2023-11-26T13:49:59.627Z"
   },
   {
    "duration": 25,
    "start_time": "2023-11-26T13:49:59.815Z"
   },
   {
    "duration": 15,
    "start_time": "2023-11-26T13:49:59.842Z"
   },
   {
    "duration": 217,
    "start_time": "2023-11-26T13:49:59.858Z"
   },
   {
    "duration": 197,
    "start_time": "2023-11-26T13:50:00.076Z"
   },
   {
    "duration": 13,
    "start_time": "2023-11-26T13:50:00.275Z"
   },
   {
    "duration": 283,
    "start_time": "2023-11-26T13:50:00.290Z"
   },
   {
    "duration": 200,
    "start_time": "2023-11-26T13:50:00.575Z"
   },
   {
    "duration": 303,
    "start_time": "2023-11-26T13:50:00.777Z"
   },
   {
    "duration": 307,
    "start_time": "2023-11-26T13:50:01.083Z"
   },
   {
    "duration": 20,
    "start_time": "2023-11-26T13:50:01.392Z"
   },
   {
    "duration": 103,
    "start_time": "2023-11-26T13:50:01.413Z"
   },
   {
    "duration": 26,
    "start_time": "2023-11-26T13:50:01.518Z"
   },
   {
    "duration": 19,
    "start_time": "2023-11-26T13:50:01.546Z"
   },
   {
    "duration": 17,
    "start_time": "2023-11-26T13:50:01.566Z"
   },
   {
    "duration": 21,
    "start_time": "2023-11-26T13:50:01.585Z"
   },
   {
    "duration": 14,
    "start_time": "2023-11-26T13:50:01.611Z"
   },
   {
    "duration": 200,
    "start_time": "2023-11-26T13:50:01.627Z"
   },
   {
    "duration": 178,
    "start_time": "2023-11-26T13:50:01.828Z"
   },
   {
    "duration": 4,
    "start_time": "2023-11-26T13:50:02.007Z"
   },
   {
    "duration": 12,
    "start_time": "2023-11-26T13:50:02.013Z"
   },
   {
    "duration": 7,
    "start_time": "2023-11-26T13:50:02.027Z"
   },
   {
    "duration": 10,
    "start_time": "2023-11-26T13:50:02.036Z"
   },
   {
    "duration": 35,
    "start_time": "2023-11-26T13:50:02.047Z"
   },
   {
    "duration": 18,
    "start_time": "2023-11-26T13:50:02.083Z"
   },
   {
    "duration": 132,
    "start_time": "2023-11-26T13:50:02.103Z"
   },
   {
    "duration": 9,
    "start_time": "2023-11-26T13:50:02.236Z"
   },
   {
    "duration": 213,
    "start_time": "2023-11-26T13:50:02.246Z"
   },
   {
    "duration": 9,
    "start_time": "2023-11-26T13:50:02.461Z"
   },
   {
    "duration": 142,
    "start_time": "2023-11-26T13:50:02.472Z"
   },
   {
    "duration": 10,
    "start_time": "2023-11-26T13:51:22.138Z"
   },
   {
    "duration": 1025,
    "start_time": "2023-11-26T14:12:50.549Z"
   },
   {
    "duration": 106,
    "start_time": "2023-11-26T14:12:51.576Z"
   },
   {
    "duration": 39,
    "start_time": "2023-11-26T14:12:51.683Z"
   },
   {
    "duration": 25,
    "start_time": "2023-11-26T14:12:51.723Z"
   },
   {
    "duration": 15,
    "start_time": "2023-11-26T14:12:51.749Z"
   },
   {
    "duration": 5,
    "start_time": "2023-11-26T14:12:51.765Z"
   },
   {
    "duration": 13,
    "start_time": "2023-11-26T14:12:51.772Z"
   },
   {
    "duration": 10,
    "start_time": "2023-11-26T14:12:51.787Z"
   },
   {
    "duration": 14,
    "start_time": "2023-11-26T14:12:51.798Z"
   },
   {
    "duration": 5,
    "start_time": "2023-11-26T14:12:51.814Z"
   },
   {
    "duration": 13,
    "start_time": "2023-11-26T14:12:51.820Z"
   },
   {
    "duration": 198,
    "start_time": "2023-11-26T14:12:51.835Z"
   },
   {
    "duration": 108,
    "start_time": "2023-11-26T14:12:52.035Z"
   },
   {
    "duration": 161,
    "start_time": "2023-11-26T14:12:52.146Z"
   },
   {
    "duration": 7,
    "start_time": "2023-11-26T14:12:52.310Z"
   },
   {
    "duration": 187,
    "start_time": "2023-11-26T14:12:52.318Z"
   },
   {
    "duration": 196,
    "start_time": "2023-11-26T14:12:52.506Z"
   },
   {
    "duration": 23,
    "start_time": "2023-11-26T14:12:52.703Z"
   },
   {
    "duration": 187,
    "start_time": "2023-11-26T14:12:52.728Z"
   },
   {
    "duration": 24,
    "start_time": "2023-11-26T14:12:52.916Z"
   },
   {
    "duration": 15,
    "start_time": "2023-11-26T14:12:52.941Z"
   },
   {
    "duration": 210,
    "start_time": "2023-11-26T14:12:52.957Z"
   },
   {
    "duration": 193,
    "start_time": "2023-11-26T14:12:53.169Z"
   },
   {
    "duration": 13,
    "start_time": "2023-11-26T14:12:53.364Z"
   },
   {
    "duration": 292,
    "start_time": "2023-11-26T14:12:53.378Z"
   },
   {
    "duration": 204,
    "start_time": "2023-11-26T14:12:53.671Z"
   },
   {
    "duration": 290,
    "start_time": "2023-11-26T14:12:53.876Z"
   },
   {
    "duration": 294,
    "start_time": "2023-11-26T14:12:54.167Z"
   },
   {
    "duration": 12,
    "start_time": "2023-11-26T14:12:54.463Z"
   },
   {
    "duration": 6,
    "start_time": "2023-11-26T14:12:54.476Z"
   },
   {
    "duration": 29,
    "start_time": "2023-11-26T14:12:54.483Z"
   },
   {
    "duration": 13,
    "start_time": "2023-11-26T14:12:54.513Z"
   },
   {
    "duration": 13,
    "start_time": "2023-11-26T14:12:54.527Z"
   },
   {
    "duration": 16,
    "start_time": "2023-11-26T14:12:54.541Z"
   },
   {
    "duration": 14,
    "start_time": "2023-11-26T14:12:54.558Z"
   },
   {
    "duration": 216,
    "start_time": "2023-11-26T14:12:54.573Z"
   },
   {
    "duration": 165,
    "start_time": "2023-11-26T14:12:54.791Z"
   },
   {
    "duration": 2,
    "start_time": "2023-11-26T14:12:54.958Z"
   },
   {
    "duration": 6,
    "start_time": "2023-11-26T14:12:54.961Z"
   },
   {
    "duration": 5,
    "start_time": "2023-11-26T14:12:54.969Z"
   },
   {
    "duration": 8,
    "start_time": "2023-11-26T14:12:54.977Z"
   },
   {
    "duration": 28,
    "start_time": "2023-11-26T14:12:54.986Z"
   },
   {
    "duration": 10,
    "start_time": "2023-11-26T14:12:55.015Z"
   },
   {
    "duration": 110,
    "start_time": "2023-11-26T14:12:55.026Z"
   },
   {
    "duration": 7,
    "start_time": "2023-11-26T14:12:55.138Z"
   },
   {
    "duration": 205,
    "start_time": "2023-11-26T14:12:55.146Z"
   },
   {
    "duration": 7,
    "start_time": "2023-11-26T14:12:55.353Z"
   },
   {
    "duration": 128,
    "start_time": "2023-11-26T14:12:55.361Z"
   },
   {
    "duration": 189,
    "start_time": "2023-11-26T14:24:38.809Z"
   },
   {
    "duration": 1084,
    "start_time": "2023-11-26T16:32:18.445Z"
   },
   {
    "duration": 102,
    "start_time": "2023-11-26T16:32:19.531Z"
   },
   {
    "duration": 42,
    "start_time": "2023-11-26T16:32:19.635Z"
   },
   {
    "duration": 29,
    "start_time": "2023-11-26T16:32:19.680Z"
   },
   {
    "duration": 16,
    "start_time": "2023-11-26T16:32:19.711Z"
   },
   {
    "duration": 5,
    "start_time": "2023-11-26T16:32:19.729Z"
   },
   {
    "duration": 23,
    "start_time": "2023-11-26T16:32:19.736Z"
   },
   {
    "duration": 10,
    "start_time": "2023-11-26T16:32:19.760Z"
   },
   {
    "duration": 9,
    "start_time": "2023-11-26T16:32:19.772Z"
   },
   {
    "duration": 11,
    "start_time": "2023-11-26T16:32:19.784Z"
   },
   {
    "duration": 28,
    "start_time": "2023-11-26T16:32:19.796Z"
   },
   {
    "duration": 216,
    "start_time": "2023-11-26T16:32:19.826Z"
   },
   {
    "duration": 126,
    "start_time": "2023-11-26T16:32:20.043Z"
   },
   {
    "duration": 189,
    "start_time": "2023-11-26T16:32:20.170Z"
   },
   {
    "duration": 8,
    "start_time": "2023-11-26T16:32:20.360Z"
   },
   {
    "duration": 219,
    "start_time": "2023-11-26T16:32:20.369Z"
   },
   {
    "duration": 228,
    "start_time": "2023-11-26T16:32:20.590Z"
   },
   {
    "duration": 20,
    "start_time": "2023-11-26T16:32:20.819Z"
   },
   {
    "duration": 228,
    "start_time": "2023-11-26T16:32:20.840Z"
   },
   {
    "duration": 27,
    "start_time": "2023-11-26T16:32:21.069Z"
   },
   {
    "duration": 28,
    "start_time": "2023-11-26T16:32:21.098Z"
   },
   {
    "duration": 239,
    "start_time": "2023-11-26T16:32:21.128Z"
   },
   {
    "duration": 293,
    "start_time": "2023-11-26T16:32:21.368Z"
   },
   {
    "duration": 14,
    "start_time": "2023-11-26T16:32:21.663Z"
   },
   {
    "duration": 221,
    "start_time": "2023-11-26T16:32:21.679Z"
   },
   {
    "duration": 237,
    "start_time": "2023-11-26T16:32:21.901Z"
   },
   {
    "duration": 343,
    "start_time": "2023-11-26T16:32:22.140Z"
   },
   {
    "duration": 342,
    "start_time": "2023-11-26T16:32:22.487Z"
   },
   {
    "duration": 13,
    "start_time": "2023-11-26T16:32:22.831Z"
   },
   {
    "duration": 17,
    "start_time": "2023-11-26T16:32:22.845Z"
   },
   {
    "duration": 20,
    "start_time": "2023-11-26T16:32:22.864Z"
   },
   {
    "duration": 16,
    "start_time": "2023-11-26T16:32:22.885Z"
   },
   {
    "duration": 20,
    "start_time": "2023-11-26T16:32:22.914Z"
   },
   {
    "duration": 24,
    "start_time": "2023-11-26T16:32:22.936Z"
   },
   {
    "duration": 18,
    "start_time": "2023-11-26T16:32:22.961Z"
   },
   {
    "duration": 246,
    "start_time": "2023-11-26T16:32:22.980Z"
   },
   {
    "duration": 216,
    "start_time": "2023-11-26T16:32:23.227Z"
   },
   {
    "duration": 3,
    "start_time": "2023-11-26T16:32:23.445Z"
   },
   {
    "duration": 10,
    "start_time": "2023-11-26T16:32:23.450Z"
   },
   {
    "duration": 19,
    "start_time": "2023-11-26T16:32:23.462Z"
   },
   {
    "duration": 19,
    "start_time": "2023-11-26T16:32:23.483Z"
   },
   {
    "duration": 11,
    "start_time": "2023-11-26T16:32:23.513Z"
   },
   {
    "duration": 24,
    "start_time": "2023-11-26T16:32:23.525Z"
   },
   {
    "duration": 220,
    "start_time": "2023-11-26T16:32:23.551Z"
   },
   {
    "duration": 9,
    "start_time": "2023-11-26T16:32:23.772Z"
   },
   {
    "duration": 138,
    "start_time": "2023-11-26T16:32:23.782Z"
   },
   {
    "duration": 8,
    "start_time": "2023-11-26T16:32:23.922Z"
   },
   {
    "duration": 174,
    "start_time": "2023-11-26T16:32:23.932Z"
   },
   {
    "duration": 240,
    "start_time": "2023-11-26T16:33:20.106Z"
   },
   {
    "duration": 251,
    "start_time": "2023-11-26T16:34:29.205Z"
   },
   {
    "duration": 101,
    "start_time": "2023-11-26T16:34:48.968Z"
   },
   {
    "duration": 281,
    "start_time": "2023-11-26T16:34:52.754Z"
   },
   {
    "duration": 275,
    "start_time": "2023-11-26T16:34:59.502Z"
   },
   {
    "duration": 273,
    "start_time": "2023-11-26T16:35:52.609Z"
   },
   {
    "duration": 77,
    "start_time": "2023-11-26T16:41:43.957Z"
   },
   {
    "duration": 19,
    "start_time": "2023-11-26T16:42:18.936Z"
   },
   {
    "duration": 22,
    "start_time": "2023-11-26T16:42:40.342Z"
   },
   {
    "duration": 115,
    "start_time": "2023-11-26T16:42:57.630Z"
   },
   {
    "duration": 11,
    "start_time": "2023-11-26T16:45:36.568Z"
   },
   {
    "duration": 12,
    "start_time": "2023-11-26T16:45:58.606Z"
   },
   {
    "duration": 146,
    "start_time": "2023-11-26T16:46:29.903Z"
   },
   {
    "duration": 51,
    "start_time": "2023-11-26T20:33:11.087Z"
   },
   {
    "duration": 1267,
    "start_time": "2023-11-26T20:33:16.676Z"
   },
   {
    "duration": 144,
    "start_time": "2023-11-26T20:33:17.945Z"
   },
   {
    "duration": 81,
    "start_time": "2023-11-26T20:33:18.091Z"
   },
   {
    "duration": 62,
    "start_time": "2023-11-26T20:33:18.174Z"
   },
   {
    "duration": 15,
    "start_time": "2023-11-26T20:33:18.237Z"
   },
   {
    "duration": 5,
    "start_time": "2023-11-26T20:33:18.254Z"
   },
   {
    "duration": 10,
    "start_time": "2023-11-26T20:33:18.260Z"
   },
   {
    "duration": 13,
    "start_time": "2023-11-26T20:33:18.271Z"
   },
   {
    "duration": 23,
    "start_time": "2023-11-26T20:33:18.285Z"
   },
   {
    "duration": 9,
    "start_time": "2023-11-26T20:33:18.310Z"
   },
   {
    "duration": 11,
    "start_time": "2023-11-26T20:33:18.320Z"
   },
   {
    "duration": 191,
    "start_time": "2023-11-26T20:33:18.333Z"
   },
   {
    "duration": 106,
    "start_time": "2023-11-26T20:33:18.525Z"
   },
   {
    "duration": 180,
    "start_time": "2023-11-26T20:33:18.632Z"
   },
   {
    "duration": 264,
    "start_time": "2023-11-26T20:33:18.813Z"
   },
   {
    "duration": 7,
    "start_time": "2023-11-26T20:33:19.079Z"
   },
   {
    "duration": 219,
    "start_time": "2023-11-26T20:33:19.087Z"
   },
   {
    "duration": 209,
    "start_time": "2023-11-26T20:33:19.307Z"
   },
   {
    "duration": 19,
    "start_time": "2023-11-26T20:33:19.518Z"
   },
   {
    "duration": 230,
    "start_time": "2023-11-26T20:33:19.538Z"
   },
   {
    "duration": 26,
    "start_time": "2023-11-26T20:33:19.770Z"
   },
   {
    "duration": 16,
    "start_time": "2023-11-26T20:33:19.797Z"
   },
   {
    "duration": 301,
    "start_time": "2023-11-26T20:33:19.814Z"
   },
   {
    "duration": 204,
    "start_time": "2023-11-26T20:33:20.117Z"
   },
   {
    "duration": 12,
    "start_time": "2023-11-26T20:33:20.323Z"
   },
   {
    "duration": 207,
    "start_time": "2023-11-26T20:33:20.337Z"
   },
   {
    "duration": 214,
    "start_time": "2023-11-26T20:33:20.545Z"
   },
   {
    "duration": 319,
    "start_time": "2023-11-26T20:33:20.762Z"
   },
   {
    "duration": 326,
    "start_time": "2023-11-26T20:33:21.082Z"
   },
   {
    "duration": 13,
    "start_time": "2023-11-26T20:33:21.410Z"
   },
   {
    "duration": 6,
    "start_time": "2023-11-26T20:33:21.424Z"
   },
   {
    "duration": 30,
    "start_time": "2023-11-26T20:33:21.431Z"
   },
   {
    "duration": 12,
    "start_time": "2023-11-26T20:33:21.463Z"
   },
   {
    "duration": 13,
    "start_time": "2023-11-26T20:33:21.477Z"
   },
   {
    "duration": 18,
    "start_time": "2023-11-26T20:33:21.492Z"
   },
   {
    "duration": 15,
    "start_time": "2023-11-26T20:33:21.511Z"
   },
   {
    "duration": 55,
    "start_time": "2023-11-26T20:33:21.527Z"
   },
   {
    "duration": 200,
    "start_time": "2023-11-26T20:33:21.583Z"
   },
   {
    "duration": 261,
    "start_time": "2023-11-26T20:33:21.784Z"
   },
   {
    "duration": 3,
    "start_time": "2023-11-26T20:33:22.046Z"
   },
   {
    "duration": 14,
    "start_time": "2023-11-26T20:33:22.050Z"
   },
   {
    "duration": 9,
    "start_time": "2023-11-26T20:33:22.065Z"
   },
   {
    "duration": 25,
    "start_time": "2023-11-26T20:33:22.076Z"
   },
   {
    "duration": 7,
    "start_time": "2023-11-26T20:33:22.102Z"
   },
   {
    "duration": 5,
    "start_time": "2023-11-26T20:33:22.111Z"
   },
   {
    "duration": 141,
    "start_time": "2023-11-26T20:33:22.118Z"
   },
   {
    "duration": 10,
    "start_time": "2023-11-26T20:33:22.260Z"
   },
   {
    "duration": 141,
    "start_time": "2023-11-26T20:33:22.271Z"
   },
   {
    "duration": 152,
    "start_time": "2023-11-26T20:33:22.413Z"
   },
   {
    "duration": 8,
    "start_time": "2023-11-26T20:33:22.566Z"
   },
   {
    "duration": 138,
    "start_time": "2023-11-26T20:33:22.575Z"
   },
   {
    "duration": 304,
    "start_time": "2023-11-26T20:33:34.043Z"
   },
   {
    "duration": 50,
    "start_time": "2023-11-29T09:07:24.074Z"
   },
   {
    "duration": 1212,
    "start_time": "2023-11-29T09:07:29.840Z"
   },
   {
    "duration": 159,
    "start_time": "2023-11-29T09:07:31.054Z"
   },
   {
    "duration": 89,
    "start_time": "2023-11-29T09:07:31.214Z"
   },
   {
    "duration": 67,
    "start_time": "2023-11-29T09:07:31.305Z"
   },
   {
    "duration": 22,
    "start_time": "2023-11-29T09:07:31.373Z"
   },
   {
    "duration": 23,
    "start_time": "2023-11-29T09:07:31.397Z"
   },
   {
    "duration": 39,
    "start_time": "2023-11-29T09:07:31.422Z"
   },
   {
    "duration": 60,
    "start_time": "2023-11-29T09:07:31.462Z"
   },
   {
    "duration": 47,
    "start_time": "2023-11-29T09:07:31.524Z"
   },
   {
    "duration": 56,
    "start_time": "2023-11-29T09:07:31.573Z"
   },
   {
    "duration": 47,
    "start_time": "2023-11-29T09:07:31.631Z"
   },
   {
    "duration": 206,
    "start_time": "2023-11-29T09:07:31.680Z"
   },
   {
    "duration": 114,
    "start_time": "2023-11-29T09:07:31.888Z"
   },
   {
    "duration": 181,
    "start_time": "2023-11-29T09:07:32.011Z"
   },
   {
    "duration": 252,
    "start_time": "2023-11-29T09:07:32.193Z"
   },
   {
    "duration": 8,
    "start_time": "2023-11-29T09:07:32.446Z"
   },
   {
    "duration": 201,
    "start_time": "2023-11-29T09:07:32.455Z"
   },
   {
    "duration": 198,
    "start_time": "2023-11-29T09:07:32.658Z"
   },
   {
    "duration": 18,
    "start_time": "2023-11-29T09:07:32.857Z"
   },
   {
    "duration": 207,
    "start_time": "2023-11-29T09:07:32.877Z"
   },
   {
    "duration": 39,
    "start_time": "2023-11-29T09:07:33.085Z"
   },
   {
    "duration": 26,
    "start_time": "2023-11-29T09:07:33.127Z"
   },
   {
    "duration": 284,
    "start_time": "2023-11-29T09:07:33.155Z"
   },
   {
    "duration": 200,
    "start_time": "2023-11-29T09:07:33.440Z"
   },
   {
    "duration": 13,
    "start_time": "2023-11-29T09:07:33.641Z"
   },
   {
    "duration": 201,
    "start_time": "2023-11-29T09:07:33.656Z"
   },
   {
    "duration": 206,
    "start_time": "2023-11-29T09:07:33.858Z"
   },
   {
    "duration": 312,
    "start_time": "2023-11-29T09:07:34.068Z"
   },
   {
    "duration": 290,
    "start_time": "2023-11-29T09:07:34.381Z"
   },
   {
    "duration": 12,
    "start_time": "2023-11-29T09:07:34.673Z"
   },
   {
    "duration": 25,
    "start_time": "2023-11-29T09:07:34.686Z"
   },
   {
    "duration": 13,
    "start_time": "2023-11-29T09:07:34.713Z"
   },
   {
    "duration": 13,
    "start_time": "2023-11-29T09:07:34.728Z"
   },
   {
    "duration": 13,
    "start_time": "2023-11-29T09:07:34.742Z"
   },
   {
    "duration": 22,
    "start_time": "2023-11-29T09:07:34.756Z"
   },
   {
    "duration": 44,
    "start_time": "2023-11-29T09:07:34.780Z"
   },
   {
    "duration": 26,
    "start_time": "2023-11-29T09:07:34.825Z"
   },
   {
    "duration": 29,
    "start_time": "2023-11-29T09:07:34.852Z"
   },
   {
    "duration": 206,
    "start_time": "2023-11-29T09:07:34.883Z"
   },
   {
    "duration": 271,
    "start_time": "2023-11-29T09:07:35.090Z"
   },
   {
    "duration": 3,
    "start_time": "2023-11-29T09:07:35.363Z"
   },
   {
    "duration": 8,
    "start_time": "2023-11-29T09:07:35.367Z"
   },
   {
    "duration": 6,
    "start_time": "2023-11-29T09:07:35.377Z"
   },
   {
    "duration": 34,
    "start_time": "2023-11-29T09:07:35.385Z"
   },
   {
    "duration": 6,
    "start_time": "2023-11-29T09:07:35.421Z"
   },
   {
    "duration": 7,
    "start_time": "2023-11-29T09:07:35.429Z"
   },
   {
    "duration": 139,
    "start_time": "2023-11-29T09:07:35.437Z"
   },
   {
    "duration": 9,
    "start_time": "2023-11-29T09:07:35.577Z"
   },
   {
    "duration": 164,
    "start_time": "2023-11-29T09:07:35.588Z"
   },
   {
    "duration": 152,
    "start_time": "2023-11-29T09:07:35.754Z"
   },
   {
    "duration": 11,
    "start_time": "2023-11-29T09:07:35.910Z"
   },
   {
    "duration": 139,
    "start_time": "2023-11-29T09:07:35.922Z"
   },
   {
    "duration": 7,
    "start_time": "2023-11-29T13:48:05.733Z"
   }
  ],
  "kernelspec": {
   "display_name": "Python 3 (ipykernel)",
   "language": "python",
   "name": "python3"
  },
  "language_info": {
   "codemirror_mode": {
    "name": "ipython",
    "version": 3
   },
   "file_extension": ".py",
   "mimetype": "text/x-python",
   "name": "python",
   "nbconvert_exporter": "python",
   "pygments_lexer": "ipython3",
   "version": "3.9.18"
  },
  "toc": {
   "base_numbering": 1,
   "nav_menu": {
    "height": "302.997px",
    "width": "301.989px"
   },
   "number_sections": true,
   "sideBar": true,
   "skip_h1_title": true,
   "title_cell": "Table of Contents",
   "title_sidebar": "Contents",
   "toc_cell": false,
   "toc_position": {
    "height": "calc(100% - 180px)",
    "left": "10px",
    "top": "150px",
    "width": "384px"
   },
   "toc_section_display": true,
   "toc_window_display": true
  }
 },
 "nbformat": 4,
 "nbformat_minor": 5
}
