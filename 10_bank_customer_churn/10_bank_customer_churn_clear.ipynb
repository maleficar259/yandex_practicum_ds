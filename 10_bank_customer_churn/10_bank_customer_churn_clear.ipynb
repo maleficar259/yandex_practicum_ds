{
 "cells": [
  {
   "cell_type": "markdown",
   "metadata": {
    "toc": true
   },
   "source": [
    "<h1>Содержание<span class=\"tocSkip\"></span></h1>\n",
    "<div class=\"toc\"><ul class=\"toc-item\"><li><span><a href=\"#Подготовка-данных\" data-toc-modified-id=\"Подготовка-данных-1\"><span class=\"toc-item-num\">1&nbsp;&nbsp;</span>Подготовка данных</a></span><ul class=\"toc-item\"><li><ul class=\"toc-item\"><li><ul class=\"toc-item\"><li><span><a href=\"#-Комментарий-студента-💎\" data-toc-modified-id=\"-Комментарий-студента-💎-1.0.0.1\"><span class=\"toc-item-num\">1.0.0.1&nbsp;&nbsp;</span> Комментарий студента 💎</a></span></li><li><span><a href=\"#-Комментарий-студента-💎\" data-toc-modified-id=\"-Комментарий-студента-💎-1.0.0.2\"><span class=\"toc-item-num\">1.0.0.2&nbsp;&nbsp;</span> Комментарий студента 💎</a></span></li></ul></li></ul></li></ul></li><li><span><a href=\"#Исследование-задачи\" data-toc-modified-id=\"Исследование-задачи-2\"><span class=\"toc-item-num\">2&nbsp;&nbsp;</span>Исследование задачи</a></span><ul class=\"toc-item\"><li><ul class=\"toc-item\"><li><ul class=\"toc-item\"><li><span><a href=\"#-Комментарий-студента-💎\" data-toc-modified-id=\"-Комментарий-студента-💎-2.0.0.1\"><span class=\"toc-item-num\">2.0.0.1&nbsp;&nbsp;</span> Комментарий студента 💎</a></span></li></ul></li></ul></li><li><span><a href=\"#Промежуточные-выводы.\" data-toc-modified-id=\"Промежуточные-выводы.-2.1\"><span class=\"toc-item-num\">2.1&nbsp;&nbsp;</span>Промежуточные выводы.</a></span><ul class=\"toc-item\"><li><ul class=\"toc-item\"><li><span><a href=\"#-Комментарий-студента-💎\" data-toc-modified-id=\"-Комментарий-студента-💎-2.1.0.1\"><span class=\"toc-item-num\">2.1.0.1&nbsp;&nbsp;</span> Комментарий студента 💎</a></span></li></ul></li></ul></li></ul></li><li><span><a href=\"#Борьба-с-дисбалансом\" data-toc-modified-id=\"Борьба-с-дисбалансом-3\"><span class=\"toc-item-num\">3&nbsp;&nbsp;</span>Борьба с дисбалансом</a></span><ul class=\"toc-item\"><li><span><a href=\"#Логистическая-регрессия\" data-toc-modified-id=\"Логистическая-регрессия-3.1\"><span class=\"toc-item-num\">3.1&nbsp;&nbsp;</span>Логистическая регрессия</a></span></li><li><span><a href=\"#Дерево-решений\" data-toc-modified-id=\"Дерево-решений-3.2\"><span class=\"toc-item-num\">3.2&nbsp;&nbsp;</span>Дерево решений</a></span></li><li><span><a href=\"#Случайный-лес\" data-toc-modified-id=\"Случайный-лес-3.3\"><span class=\"toc-item-num\">3.3&nbsp;&nbsp;</span>Случайный лес</a></span></li><li><span><a href=\"#Промежуточные-выводы\" data-toc-modified-id=\"Промежуточные-выводы-3.4\"><span class=\"toc-item-num\">3.4&nbsp;&nbsp;</span>Промежуточные выводы</a></span><ul class=\"toc-item\"><li><ul class=\"toc-item\"><li><span><a href=\"#-Комментарий-студента-💎\" data-toc-modified-id=\"-Комментарий-студента-💎-3.4.0.1\"><span class=\"toc-item-num\">3.4.0.1&nbsp;&nbsp;</span> Комментарий студента 💎</a></span></li></ul></li></ul></li></ul></li><li><span><a href=\"#Тестирование-модели\" data-toc-modified-id=\"Тестирование-модели-4\"><span class=\"toc-item-num\">4&nbsp;&nbsp;</span>Тестирование модели</a></span></li><li><span><a href=\"#Общий-вывод\" data-toc-modified-id=\"Общий-вывод-5\"><span class=\"toc-item-num\">5&nbsp;&nbsp;</span>Общий вывод</a></span></li><li><span><a href=\"#Чек-лист-готовности-проекта\" data-toc-modified-id=\"Чек-лист-готовности-проекта-6\"><span class=\"toc-item-num\">6&nbsp;&nbsp;</span>Чек-лист готовности проекта</a></span></li></ul></div>"
   ]
  },
  {
   "cell_type": "markdown",
   "metadata": {},
   "source": [
    "# Проект \"Отток клиентов из Бета-Банка\""
   ]
  },
  {
   "cell_type": "markdown",
   "metadata": {},
   "source": [
    "Из «Бета-Банка» стали уходить клиенты. Каждый месяц. Немного, но заметно. Банковские маркетологи посчитали: сохранять текущих клиентов дешевле, чем привлекать новых. Нам предоставлены исторические данные о поведении клиентов и расторжении договоров с банком. \n",
    "\n",
    "В задачу данного проекта входят:\n",
    "- Исследование и предобработка данных. Проверка наличия пропусков/дубликатов. \n",
    "- Прогнозирование, уйдёт клиент из банка в ближайшее время или нет. \n",
    "- Построение модели с предельно большим значением *F1*-меры. Метрика должна быть доведена как минимум до 0.59.\n",
    "- Проверка данной метрики на тестовой выборке.\n",
    "- Измерение значения *AUC-ROC* и сравнение её значение с *F1*-мерой.\n",
    "- Общий вывод.\n",
    "\n",
    "\n",
    "\n",
    "Источник данных: [https://www.kaggle.com/barelydedicated/bank-customer-churn-modeling](https://www.kaggle.com/barelydedicated/bank-customer-churn-modeling)"
   ]
  },
  {
   "cell_type": "markdown",
   "metadata": {},
   "source": [
    "## Подготовка данных"
   ]
  },
  {
   "cell_type": "code",
   "execution_count": 1,
   "metadata": {},
   "outputs": [],
   "source": [
    "# импортируем нужные библиотеки\n",
    "\n",
    "import pandas as pd\n",
    "import numpy as np\n",
    "import seaborn as sns\n",
    "\n",
    "from matplotlib import pyplot as plt\n",
    "from sklearn.tree import DecisionTreeClassifier\n",
    "from sklearn.ensemble import RandomForestClassifier\n",
    "from sklearn.linear_model import LogisticRegression\n",
    "from sklearn.preprocessing import OrdinalEncoder, StandardScaler\n",
    "from sklearn.model_selection import train_test_split\n",
    "from sklearn.metrics import mean_squared_error, accuracy_score, f1_score, roc_curve, roc_auc_score\n",
    "from sklearn.utils import shuffle\n",
    "from tqdm import tqdm"
   ]
  },
  {
   "cell_type": "code",
   "execution_count": 2,
   "metadata": {},
   "outputs": [
    {
     "name": "stdout",
     "output_type": "stream",
     "text": [
      "<class 'pandas.core.frame.DataFrame'>\n",
      "RangeIndex: 10000 entries, 0 to 9999\n",
      "Data columns (total 14 columns):\n",
      " #   Column           Non-Null Count  Dtype  \n",
      "---  ------           --------------  -----  \n",
      " 0   RowNumber        10000 non-null  int64  \n",
      " 1   CustomerId       10000 non-null  int64  \n",
      " 2   Surname          10000 non-null  object \n",
      " 3   CreditScore      10000 non-null  int64  \n",
      " 4   Geography        10000 non-null  object \n",
      " 5   Gender           10000 non-null  object \n",
      " 6   Age              10000 non-null  int64  \n",
      " 7   Tenure           9091 non-null   float64\n",
      " 8   Balance          10000 non-null  float64\n",
      " 9   NumOfProducts    10000 non-null  int64  \n",
      " 10  HasCrCard        10000 non-null  int64  \n",
      " 11  IsActiveMember   10000 non-null  int64  \n",
      " 12  EstimatedSalary  10000 non-null  float64\n",
      " 13  Exited           10000 non-null  int64  \n",
      "dtypes: float64(3), int64(8), object(3)\n",
      "memory usage: 1.1+ MB\n"
     ]
    },
    {
     "data": {
      "text/html": [
       "<div>\n",
       "<style scoped>\n",
       "    .dataframe tbody tr th:only-of-type {\n",
       "        vertical-align: middle;\n",
       "    }\n",
       "\n",
       "    .dataframe tbody tr th {\n",
       "        vertical-align: top;\n",
       "    }\n",
       "\n",
       "    .dataframe thead th {\n",
       "        text-align: right;\n",
       "    }\n",
       "</style>\n",
       "<table border=\"1\" class=\"dataframe\">\n",
       "  <thead>\n",
       "    <tr style=\"text-align: right;\">\n",
       "      <th></th>\n",
       "      <th>RowNumber</th>\n",
       "      <th>CustomerId</th>\n",
       "      <th>Surname</th>\n",
       "      <th>CreditScore</th>\n",
       "      <th>Geography</th>\n",
       "      <th>Gender</th>\n",
       "      <th>Age</th>\n",
       "      <th>Tenure</th>\n",
       "      <th>Balance</th>\n",
       "      <th>NumOfProducts</th>\n",
       "      <th>HasCrCard</th>\n",
       "      <th>IsActiveMember</th>\n",
       "      <th>EstimatedSalary</th>\n",
       "      <th>Exited</th>\n",
       "    </tr>\n",
       "  </thead>\n",
       "  <tbody>\n",
       "    <tr>\n",
       "      <th>0</th>\n",
       "      <td>1</td>\n",
       "      <td>15634602</td>\n",
       "      <td>Hargrave</td>\n",
       "      <td>619</td>\n",
       "      <td>France</td>\n",
       "      <td>Female</td>\n",
       "      <td>42</td>\n",
       "      <td>2.0</td>\n",
       "      <td>0.00</td>\n",
       "      <td>1</td>\n",
       "      <td>1</td>\n",
       "      <td>1</td>\n",
       "      <td>101348.88</td>\n",
       "      <td>1</td>\n",
       "    </tr>\n",
       "    <tr>\n",
       "      <th>1</th>\n",
       "      <td>2</td>\n",
       "      <td>15647311</td>\n",
       "      <td>Hill</td>\n",
       "      <td>608</td>\n",
       "      <td>Spain</td>\n",
       "      <td>Female</td>\n",
       "      <td>41</td>\n",
       "      <td>1.0</td>\n",
       "      <td>83807.86</td>\n",
       "      <td>1</td>\n",
       "      <td>0</td>\n",
       "      <td>1</td>\n",
       "      <td>112542.58</td>\n",
       "      <td>0</td>\n",
       "    </tr>\n",
       "    <tr>\n",
       "      <th>2</th>\n",
       "      <td>3</td>\n",
       "      <td>15619304</td>\n",
       "      <td>Onio</td>\n",
       "      <td>502</td>\n",
       "      <td>France</td>\n",
       "      <td>Female</td>\n",
       "      <td>42</td>\n",
       "      <td>8.0</td>\n",
       "      <td>159660.80</td>\n",
       "      <td>3</td>\n",
       "      <td>1</td>\n",
       "      <td>0</td>\n",
       "      <td>113931.57</td>\n",
       "      <td>1</td>\n",
       "    </tr>\n",
       "    <tr>\n",
       "      <th>3</th>\n",
       "      <td>4</td>\n",
       "      <td>15701354</td>\n",
       "      <td>Boni</td>\n",
       "      <td>699</td>\n",
       "      <td>France</td>\n",
       "      <td>Female</td>\n",
       "      <td>39</td>\n",
       "      <td>1.0</td>\n",
       "      <td>0.00</td>\n",
       "      <td>2</td>\n",
       "      <td>0</td>\n",
       "      <td>0</td>\n",
       "      <td>93826.63</td>\n",
       "      <td>0</td>\n",
       "    </tr>\n",
       "    <tr>\n",
       "      <th>4</th>\n",
       "      <td>5</td>\n",
       "      <td>15737888</td>\n",
       "      <td>Mitchell</td>\n",
       "      <td>850</td>\n",
       "      <td>Spain</td>\n",
       "      <td>Female</td>\n",
       "      <td>43</td>\n",
       "      <td>2.0</td>\n",
       "      <td>125510.82</td>\n",
       "      <td>1</td>\n",
       "      <td>1</td>\n",
       "      <td>1</td>\n",
       "      <td>79084.10</td>\n",
       "      <td>0</td>\n",
       "    </tr>\n",
       "    <tr>\n",
       "      <th>5</th>\n",
       "      <td>6</td>\n",
       "      <td>15574012</td>\n",
       "      <td>Chu</td>\n",
       "      <td>645</td>\n",
       "      <td>Spain</td>\n",
       "      <td>Male</td>\n",
       "      <td>44</td>\n",
       "      <td>8.0</td>\n",
       "      <td>113755.78</td>\n",
       "      <td>2</td>\n",
       "      <td>1</td>\n",
       "      <td>0</td>\n",
       "      <td>149756.71</td>\n",
       "      <td>1</td>\n",
       "    </tr>\n",
       "    <tr>\n",
       "      <th>6</th>\n",
       "      <td>7</td>\n",
       "      <td>15592531</td>\n",
       "      <td>Bartlett</td>\n",
       "      <td>822</td>\n",
       "      <td>France</td>\n",
       "      <td>Male</td>\n",
       "      <td>50</td>\n",
       "      <td>7.0</td>\n",
       "      <td>0.00</td>\n",
       "      <td>2</td>\n",
       "      <td>1</td>\n",
       "      <td>1</td>\n",
       "      <td>10062.80</td>\n",
       "      <td>0</td>\n",
       "    </tr>\n",
       "    <tr>\n",
       "      <th>7</th>\n",
       "      <td>8</td>\n",
       "      <td>15656148</td>\n",
       "      <td>Obinna</td>\n",
       "      <td>376</td>\n",
       "      <td>Germany</td>\n",
       "      <td>Female</td>\n",
       "      <td>29</td>\n",
       "      <td>4.0</td>\n",
       "      <td>115046.74</td>\n",
       "      <td>4</td>\n",
       "      <td>1</td>\n",
       "      <td>0</td>\n",
       "      <td>119346.88</td>\n",
       "      <td>1</td>\n",
       "    </tr>\n",
       "    <tr>\n",
       "      <th>8</th>\n",
       "      <td>9</td>\n",
       "      <td>15792365</td>\n",
       "      <td>He</td>\n",
       "      <td>501</td>\n",
       "      <td>France</td>\n",
       "      <td>Male</td>\n",
       "      <td>44</td>\n",
       "      <td>4.0</td>\n",
       "      <td>142051.07</td>\n",
       "      <td>2</td>\n",
       "      <td>0</td>\n",
       "      <td>1</td>\n",
       "      <td>74940.50</td>\n",
       "      <td>0</td>\n",
       "    </tr>\n",
       "    <tr>\n",
       "      <th>9</th>\n",
       "      <td>10</td>\n",
       "      <td>15592389</td>\n",
       "      <td>H?</td>\n",
       "      <td>684</td>\n",
       "      <td>France</td>\n",
       "      <td>Male</td>\n",
       "      <td>27</td>\n",
       "      <td>2.0</td>\n",
       "      <td>134603.88</td>\n",
       "      <td>1</td>\n",
       "      <td>1</td>\n",
       "      <td>1</td>\n",
       "      <td>71725.73</td>\n",
       "      <td>0</td>\n",
       "    </tr>\n",
       "  </tbody>\n",
       "</table>\n",
       "</div>"
      ],
      "text/plain": [
       "   RowNumber  CustomerId   Surname  CreditScore Geography  Gender  Age  \\\n",
       "0          1    15634602  Hargrave          619    France  Female   42   \n",
       "1          2    15647311      Hill          608     Spain  Female   41   \n",
       "2          3    15619304      Onio          502    France  Female   42   \n",
       "3          4    15701354      Boni          699    France  Female   39   \n",
       "4          5    15737888  Mitchell          850     Spain  Female   43   \n",
       "5          6    15574012       Chu          645     Spain    Male   44   \n",
       "6          7    15592531  Bartlett          822    France    Male   50   \n",
       "7          8    15656148    Obinna          376   Germany  Female   29   \n",
       "8          9    15792365        He          501    France    Male   44   \n",
       "9         10    15592389        H?          684    France    Male   27   \n",
       "\n",
       "   Tenure    Balance  NumOfProducts  HasCrCard  IsActiveMember  \\\n",
       "0     2.0       0.00              1          1               1   \n",
       "1     1.0   83807.86              1          0               1   \n",
       "2     8.0  159660.80              3          1               0   \n",
       "3     1.0       0.00              2          0               0   \n",
       "4     2.0  125510.82              1          1               1   \n",
       "5     8.0  113755.78              2          1               0   \n",
       "6     7.0       0.00              2          1               1   \n",
       "7     4.0  115046.74              4          1               0   \n",
       "8     4.0  142051.07              2          0               1   \n",
       "9     2.0  134603.88              1          1               1   \n",
       "\n",
       "   EstimatedSalary  Exited  \n",
       "0        101348.88       1  \n",
       "1        112542.58       0  \n",
       "2        113931.57       1  \n",
       "3         93826.63       0  \n",
       "4         79084.10       0  \n",
       "5        149756.71       1  \n",
       "6         10062.80       0  \n",
       "7        119346.88       1  \n",
       "8         74940.50       0  \n",
       "9         71725.73       0  "
      ]
     },
     "execution_count": 2,
     "metadata": {},
     "output_type": "execute_result"
    }
   ],
   "source": [
    "data = pd.read_csv('/datasets/Churn.csv')\n",
    "data.info()\n",
    "data.head(10)"
   ]
  },
  {
   "cell_type": "markdown",
   "metadata": {},
   "source": [
    "Итак мы имеем таблицу из 10000 строк и 14 столбцов, большая часть из которых не имеет пропусков кроме столбца 'Tenure'.  \n",
    "Для начала приведём название столбцов к snake_case, исследуем причину пропусков в столбце Tenure и скорректируем типы столбцов там, где это применимо."
   ]
  },
  {
   "cell_type": "code",
   "execution_count": 3,
   "metadata": {},
   "outputs": [],
   "source": [
    "# приведем названия всех столбцов к нижнему регистру\n",
    "data.columns = data.columns.str.lower()\n"
   ]
  },
  {
   "cell_type": "code",
   "execution_count": 4,
   "metadata": {},
   "outputs": [],
   "source": [
    "# скоррекрируем названия некоторых столбцов согласно snake_case\n",
    "\n",
    "data = data.rename(columns={\n",
    "    'rownumber': 'row_number',\n",
    "    'customerid': 'customer_id',\n",
    "    'creditscore': 'credit_score',\n",
    "    'numofproducts': 'num_of_products',\n",
    "    'hascrcard': 'has_credit_card',\n",
    "    'isactivemember': 'is_active_member',\n",
    "    'estimatedsalary': 'estimated_salary'\n",
    "})\n"
   ]
  },
  {
   "cell_type": "code",
   "execution_count": 5,
   "metadata": {},
   "outputs": [],
   "source": [
    "# приведём значения столбцов также к lower case\n",
    "data['surname'] = data['surname'].str.lower()\n",
    "data['geography'] = data['geography'].str.lower()\n",
    "data['gender'] = data['gender'].str.lower()"
   ]
  },
  {
   "cell_type": "code",
   "execution_count": 6,
   "metadata": {},
   "outputs": [
    {
     "data": {
      "text/plain": [
       "0"
      ]
     },
     "metadata": {},
     "output_type": "display_data"
    },
    {
     "data": {
      "text/plain": [
       "0"
      ]
     },
     "metadata": {},
     "output_type": "display_data"
    },
    {
     "data": {
      "text/plain": [
       "48"
      ]
     },
     "execution_count": 6,
     "metadata": {},
     "output_type": "execute_result"
    }
   ],
   "source": [
    "# проверим на наличие явных и неявных дубликатов\n",
    "display(data.duplicated().sum())\n",
    "display(data['customer_id'].duplicated().sum())\n",
    "data[['surname', 'gender', 'geography', 'age', 'balance']].duplicated().sum()"
   ]
  },
  {
   "cell_type": "code",
   "execution_count": 7,
   "metadata": {
    "scrolled": false
   },
   "outputs": [],
   "source": [
    "data.drop_duplicates(['surname', 'gender', 'geography', 'age', 'balance'], inplace=True, ignore_index=True)\n"
   ]
  },
  {
   "cell_type": "code",
   "execution_count": 8,
   "metadata": {
    "scrolled": false
   },
   "outputs": [
    {
     "data": {
      "text/plain": [
       "0.09103697749196142"
      ]
     },
     "metadata": {},
     "output_type": "display_data"
    },
    {
     "data": {
      "text/html": [
       "<div>\n",
       "<style scoped>\n",
       "    .dataframe tbody tr th:only-of-type {\n",
       "        vertical-align: middle;\n",
       "    }\n",
       "\n",
       "    .dataframe tbody tr th {\n",
       "        vertical-align: top;\n",
       "    }\n",
       "\n",
       "    .dataframe thead th {\n",
       "        text-align: right;\n",
       "    }\n",
       "</style>\n",
       "<table border=\"1\" class=\"dataframe\">\n",
       "  <thead>\n",
       "    <tr style=\"text-align: right;\">\n",
       "      <th></th>\n",
       "      <th>row_number</th>\n",
       "      <th>customer_id</th>\n",
       "      <th>surname</th>\n",
       "      <th>credit_score</th>\n",
       "      <th>geography</th>\n",
       "      <th>gender</th>\n",
       "      <th>age</th>\n",
       "      <th>tenure</th>\n",
       "      <th>balance</th>\n",
       "      <th>num_of_products</th>\n",
       "      <th>has_credit_card</th>\n",
       "      <th>is_active_member</th>\n",
       "      <th>estimated_salary</th>\n",
       "      <th>exited</th>\n",
       "    </tr>\n",
       "  </thead>\n",
       "  <tbody>\n",
       "    <tr>\n",
       "      <th>30</th>\n",
       "      <td>31</td>\n",
       "      <td>15589475</td>\n",
       "      <td>azikiwe</td>\n",
       "      <td>591</td>\n",
       "      <td>spain</td>\n",
       "      <td>female</td>\n",
       "      <td>39</td>\n",
       "      <td>NaN</td>\n",
       "      <td>0.00</td>\n",
       "      <td>3</td>\n",
       "      <td>1</td>\n",
       "      <td>0</td>\n",
       "      <td>140469.38</td>\n",
       "      <td>1</td>\n",
       "    </tr>\n",
       "    <tr>\n",
       "      <th>48</th>\n",
       "      <td>49</td>\n",
       "      <td>15766205</td>\n",
       "      <td>yin</td>\n",
       "      <td>550</td>\n",
       "      <td>germany</td>\n",
       "      <td>male</td>\n",
       "      <td>38</td>\n",
       "      <td>NaN</td>\n",
       "      <td>103391.38</td>\n",
       "      <td>1</td>\n",
       "      <td>0</td>\n",
       "      <td>1</td>\n",
       "      <td>90878.13</td>\n",
       "      <td>0</td>\n",
       "    </tr>\n",
       "    <tr>\n",
       "      <th>51</th>\n",
       "      <td>52</td>\n",
       "      <td>15768193</td>\n",
       "      <td>trevisani</td>\n",
       "      <td>585</td>\n",
       "      <td>germany</td>\n",
       "      <td>male</td>\n",
       "      <td>36</td>\n",
       "      <td>NaN</td>\n",
       "      <td>146050.97</td>\n",
       "      <td>2</td>\n",
       "      <td>0</td>\n",
       "      <td>0</td>\n",
       "      <td>86424.57</td>\n",
       "      <td>0</td>\n",
       "    </tr>\n",
       "    <tr>\n",
       "      <th>53</th>\n",
       "      <td>54</td>\n",
       "      <td>15702298</td>\n",
       "      <td>parkhill</td>\n",
       "      <td>655</td>\n",
       "      <td>germany</td>\n",
       "      <td>male</td>\n",
       "      <td>41</td>\n",
       "      <td>NaN</td>\n",
       "      <td>125561.97</td>\n",
       "      <td>1</td>\n",
       "      <td>0</td>\n",
       "      <td>0</td>\n",
       "      <td>164040.94</td>\n",
       "      <td>1</td>\n",
       "    </tr>\n",
       "    <tr>\n",
       "      <th>60</th>\n",
       "      <td>61</td>\n",
       "      <td>15651280</td>\n",
       "      <td>hunter</td>\n",
       "      <td>742</td>\n",
       "      <td>germany</td>\n",
       "      <td>male</td>\n",
       "      <td>35</td>\n",
       "      <td>NaN</td>\n",
       "      <td>136857.00</td>\n",
       "      <td>1</td>\n",
       "      <td>0</td>\n",
       "      <td>0</td>\n",
       "      <td>84509.57</td>\n",
       "      <td>0</td>\n",
       "    </tr>\n",
       "    <tr>\n",
       "      <th>82</th>\n",
       "      <td>83</td>\n",
       "      <td>15641732</td>\n",
       "      <td>mills</td>\n",
       "      <td>543</td>\n",
       "      <td>france</td>\n",
       "      <td>female</td>\n",
       "      <td>36</td>\n",
       "      <td>NaN</td>\n",
       "      <td>0.00</td>\n",
       "      <td>2</td>\n",
       "      <td>0</td>\n",
       "      <td>0</td>\n",
       "      <td>26019.59</td>\n",
       "      <td>0</td>\n",
       "    </tr>\n",
       "    <tr>\n",
       "      <th>85</th>\n",
       "      <td>86</td>\n",
       "      <td>15805254</td>\n",
       "      <td>ndukaku</td>\n",
       "      <td>652</td>\n",
       "      <td>spain</td>\n",
       "      <td>female</td>\n",
       "      <td>75</td>\n",
       "      <td>NaN</td>\n",
       "      <td>0.00</td>\n",
       "      <td>2</td>\n",
       "      <td>1</td>\n",
       "      <td>1</td>\n",
       "      <td>114675.75</td>\n",
       "      <td>0</td>\n",
       "    </tr>\n",
       "    <tr>\n",
       "      <th>94</th>\n",
       "      <td>95</td>\n",
       "      <td>15676966</td>\n",
       "      <td>capon</td>\n",
       "      <td>730</td>\n",
       "      <td>spain</td>\n",
       "      <td>male</td>\n",
       "      <td>42</td>\n",
       "      <td>NaN</td>\n",
       "      <td>0.00</td>\n",
       "      <td>2</td>\n",
       "      <td>0</td>\n",
       "      <td>1</td>\n",
       "      <td>85982.47</td>\n",
       "      <td>0</td>\n",
       "    </tr>\n",
       "    <tr>\n",
       "      <th>99</th>\n",
       "      <td>100</td>\n",
       "      <td>15633059</td>\n",
       "      <td>fanucci</td>\n",
       "      <td>413</td>\n",
       "      <td>france</td>\n",
       "      <td>male</td>\n",
       "      <td>34</td>\n",
       "      <td>NaN</td>\n",
       "      <td>0.00</td>\n",
       "      <td>2</td>\n",
       "      <td>0</td>\n",
       "      <td>0</td>\n",
       "      <td>6534.18</td>\n",
       "      <td>0</td>\n",
       "    </tr>\n",
       "    <tr>\n",
       "      <th>111</th>\n",
       "      <td>112</td>\n",
       "      <td>15665790</td>\n",
       "      <td>rowntree</td>\n",
       "      <td>538</td>\n",
       "      <td>germany</td>\n",
       "      <td>male</td>\n",
       "      <td>39</td>\n",
       "      <td>NaN</td>\n",
       "      <td>108055.10</td>\n",
       "      <td>2</td>\n",
       "      <td>1</td>\n",
       "      <td>0</td>\n",
       "      <td>27231.26</td>\n",
       "      <td>0</td>\n",
       "    </tr>\n",
       "  </tbody>\n",
       "</table>\n",
       "</div>"
      ],
      "text/plain": [
       "     row_number  customer_id    surname  credit_score geography  gender  age  \\\n",
       "30           31     15589475    azikiwe           591     spain  female   39   \n",
       "48           49     15766205        yin           550   germany    male   38   \n",
       "51           52     15768193  trevisani           585   germany    male   36   \n",
       "53           54     15702298   parkhill           655   germany    male   41   \n",
       "60           61     15651280     hunter           742   germany    male   35   \n",
       "82           83     15641732      mills           543    france  female   36   \n",
       "85           86     15805254    ndukaku           652     spain  female   75   \n",
       "94           95     15676966      capon           730     spain    male   42   \n",
       "99          100     15633059    fanucci           413    france    male   34   \n",
       "111         112     15665790   rowntree           538   germany    male   39   \n",
       "\n",
       "     tenure    balance  num_of_products  has_credit_card  is_active_member  \\\n",
       "30      NaN       0.00                3                1                 0   \n",
       "48      NaN  103391.38                1                0                 1   \n",
       "51      NaN  146050.97                2                0                 0   \n",
       "53      NaN  125561.97                1                0                 0   \n",
       "60      NaN  136857.00                1                0                 0   \n",
       "82      NaN       0.00                2                0                 0   \n",
       "85      NaN       0.00                2                1                 1   \n",
       "94      NaN       0.00                2                0                 1   \n",
       "99      NaN       0.00                2                0                 0   \n",
       "111     NaN  108055.10                2                1                 0   \n",
       "\n",
       "     estimated_salary  exited  \n",
       "30          140469.38       1  \n",
       "48           90878.13       0  \n",
       "51           86424.57       0  \n",
       "53          164040.94       1  \n",
       "60           84509.57       0  \n",
       "82           26019.59       0  \n",
       "85          114675.75       0  \n",
       "94           85982.47       0  \n",
       "99            6534.18       0  \n",
       "111          27231.26       0  "
      ]
     },
     "execution_count": 8,
     "metadata": {},
     "output_type": "execute_result"
    }
   ],
   "source": [
    "# теперь перейдем к анализу столбца tenure и пропускам\n",
    "display(data['tenure'].isna().sum() / data['tenure'].shape[0])\n",
    "data[data['tenure'].isna()].head(10)"
   ]
  },
  {
   "cell_type": "markdown",
   "metadata": {},
   "source": [
    "Мы видим, что в столбце tenure имеется порядка 9% процентов пропусков.  \n",
    "\n",
    "Поскольку данный столбец потенциально можно иметь большое значение для нашего целевого признака (длительность взаимодействия клиента и банка может существенно влиять на решение клиента покинуть банк), мы не можем его просто так отбросить.  \n",
    "К сожалению, решение заполнить его нулями или другими значениями (к примеру, медианой) также может быть спорно. ввиду того, что это тоже может повлиять на неправильные выводы модели. Поэтому для данного случая попробуем исключить пустые строки из нашего датасета."
   ]
  },
  {
   "cell_type": "code",
   "execution_count": 9,
   "metadata": {},
   "outputs": [],
   "source": [
    "data = data.dropna()\n",
    "data.reset_index(drop=True, inplace=True)\n"
   ]
  },
  {
   "cell_type": "code",
   "execution_count": 10,
   "metadata": {
    "scrolled": false
   },
   "outputs": [
    {
     "name": "stdout",
     "output_type": "stream",
     "text": [
      "<class 'pandas.core.frame.DataFrame'>\n",
      "RangeIndex: 9046 entries, 0 to 9045\n",
      "Data columns (total 14 columns):\n",
      " #   Column            Non-Null Count  Dtype  \n",
      "---  ------            --------------  -----  \n",
      " 0   row_number        9046 non-null   int64  \n",
      " 1   customer_id       9046 non-null   int64  \n",
      " 2   surname           9046 non-null   object \n",
      " 3   credit_score      9046 non-null   int64  \n",
      " 4   geography         9046 non-null   object \n",
      " 5   gender            9046 non-null   object \n",
      " 6   age               9046 non-null   int64  \n",
      " 7   tenure            9046 non-null   int64  \n",
      " 8   balance           9046 non-null   float64\n",
      " 9   num_of_products   9046 non-null   int64  \n",
      " 10  has_credit_card   9046 non-null   int64  \n",
      " 11  is_active_member  9046 non-null   int64  \n",
      " 12  estimated_salary  9046 non-null   float64\n",
      " 13  exited            9046 non-null   int64  \n",
      "dtypes: float64(2), int64(9), object(3)\n",
      "memory usage: 989.5+ KB\n"
     ]
    }
   ],
   "source": [
    "# изменим тип данных в столбцах, где это необходимо\n",
    "data['tenure'] = data['tenure'].astype('int')\n",
    "data.info()"
   ]
  },
  {
   "cell_type": "markdown",
   "metadata": {},
   "source": [
    "Теперь исследуем имеющися столбцы с количественными переменными и проверим их на наличие выбросов/аномалий."
   ]
  },
  {
   "cell_type": "code",
   "execution_count": 11,
   "metadata": {
    "scrolled": false
   },
   "outputs": [
    {
     "data": {
      "image/png": "[encoded data removed]",
      "text/plain": [
       "<Figure size 1080x720 with 4 Axes>"
      ]
     },
     "metadata": {
      "needs_background": "light"
     },
     "output_type": "display_data"
    }
   ],
   "source": [
    "data[['credit_score', 'age', 'balance', 'estimated_salary']].hist(figsize=(15, 10), bins=50)\n",
    "None"
   ]
  },
  {
   "cell_type": "markdown",
   "metadata": {},
   "source": [
    "Видим, что в целом данные распределены в столбцах адеватно, без каких-либо видимых больших выбросов или аномалий."
   ]
  },
  {
   "cell_type": "markdown",
   "metadata": {},
   "source": [
    "Итак в первом этапе мы:\n",
    "- Ознакомились с имеющимися данными.\n",
    "- Исследовали имеющиеся данные на предмет пропусков и дубликатов. Удалили строки с дубликатами и пропусками из датасета.\n",
    "- Изменили тип данных для тех столбцов, где типы не соответствовали содержанию столбца (столбце tenure).\n",
    "- Исследовали имеющиеся количественные переменные и на предмет выбросов и аномалий. Данные распределены адекватно и не потребовали вмешательств."
   ]
  },
  {
   "cell_type": "markdown",
   "metadata": {},
   "source": [
    "## Исследование задачи"
   ]
  },
  {
   "cell_type": "markdown",
   "metadata": {},
   "source": [
    "В течение второго этапа нам необходимо:\n",
    "- Определить и выделить признаки, на которых мы будем обучать модель, а также целевой признак.\n",
    "- Разделить выборку на обучающую, валидационную и тестовую.\n",
    "- Оценить баланс классов целевого признака и попытаться построить модель без какой-либо балансировки. Оценить результаты.\n",
    "\n",
    "Начнём по порядку."
   ]
  },
  {
   "cell_type": "markdown",
   "metadata": {},
   "source": [
    "Первое, что нам необходимо определить - какие столбцы могут вилять на наш целевой признак и могут помочь нашей модели выявить закономерности.  \n",
    "Пойдем от обратного и выделим столбцы, которые скорее всего не имеют отношения к принятому клиентом решению о покидании банка.\n",
    "\n",
    "К таким столбцам в первую очередь можно отнести уникальные идентификаторы - порядковый номер и идентификатор пользователя (row_number, customer_id), которые, ввиду своей уникальности, не имеют никакой зависимости с exited.  \n",
    "\n",
    "Будем считать, что остальные столбцы могут иметь хоть какую-то минимальную значимость при определении целевого показателя. (к примеру, за последний год во Франции прошла антиреклама данного банка, или банк каким-то образом выставил себя в некрасивом свете перед женской аудиторией)"
   ]
  },
  {
   "cell_type": "code",
   "execution_count": 12,
   "metadata": {},
   "outputs": [],
   "source": [
    "# выделим две группы столбцов - обычные признаки, из которых удалим наш целевой признак и столбцы, которые мы описали ранее\n",
    "features = data.drop(['row_number', 'customer_id', 'surname', 'exited'], axis=1)\n",
    "\n",
    "# и целевой признак\n",
    "target = data['exited']"
   ]
  },
  {
   "cell_type": "code",
   "execution_count": 13,
   "metadata": {
    "scrolled": true
   },
   "outputs": [
    {
     "data": {
      "text/plain": [
       "0.20451028078708822"
      ]
     },
     "execution_count": 13,
     "metadata": {},
     "output_type": "execute_result"
    }
   ],
   "source": [
    "# оценим баланс классов в нашем целевом признаке\n",
    "data['exited'].mean()"
   ]
  },
  {
   "cell_type": "markdown",
   "metadata": {},
   "source": [
    "Выходит, что в нашем целевом признаке только 20% занимают единицы (клиент покинул банк) и 80% - нули (клиент остался).  \n",
    "Возьмем это на заметку для следующего этапа проекта.\n",
    "\n",
    "Теперь разделим наш датасет на три выборки - обучающую, валидационную и тестовую - в соотношении 3:1:1. Но прежде чем переходить к разделению на выборки и обучению моделей нам необходимо закодировать имеющиеся данные. Будем использовать метод One hot encoding."
   ]
  },
  {
   "cell_type": "code",
   "execution_count": 14,
   "metadata": {},
   "outputs": [
    {
     "data": {
      "text/html": [
       "<div>\n",
       "<style scoped>\n",
       "    .dataframe tbody tr th:only-of-type {\n",
       "        vertical-align: middle;\n",
       "    }\n",
       "\n",
       "    .dataframe tbody tr th {\n",
       "        vertical-align: top;\n",
       "    }\n",
       "\n",
       "    .dataframe thead th {\n",
       "        text-align: right;\n",
       "    }\n",
       "</style>\n",
       "<table border=\"1\" class=\"dataframe\">\n",
       "  <thead>\n",
       "    <tr style=\"text-align: right;\">\n",
       "      <th></th>\n",
       "      <th>credit_score</th>\n",
       "      <th>age</th>\n",
       "      <th>tenure</th>\n",
       "      <th>balance</th>\n",
       "      <th>num_of_products</th>\n",
       "      <th>has_credit_card</th>\n",
       "      <th>is_active_member</th>\n",
       "      <th>estimated_salary</th>\n",
       "      <th>geography_germany</th>\n",
       "      <th>geography_spain</th>\n",
       "      <th>gender_male</th>\n",
       "    </tr>\n",
       "  </thead>\n",
       "  <tbody>\n",
       "    <tr>\n",
       "      <th>0</th>\n",
       "      <td>619</td>\n",
       "      <td>42</td>\n",
       "      <td>2</td>\n",
       "      <td>0.00</td>\n",
       "      <td>1</td>\n",
       "      <td>1</td>\n",
       "      <td>1</td>\n",
       "      <td>101348.88</td>\n",
       "      <td>0</td>\n",
       "      <td>0</td>\n",
       "      <td>0</td>\n",
       "    </tr>\n",
       "    <tr>\n",
       "      <th>1</th>\n",
       "      <td>608</td>\n",
       "      <td>41</td>\n",
       "      <td>1</td>\n",
       "      <td>83807.86</td>\n",
       "      <td>1</td>\n",
       "      <td>0</td>\n",
       "      <td>1</td>\n",
       "      <td>112542.58</td>\n",
       "      <td>0</td>\n",
       "      <td>1</td>\n",
       "      <td>0</td>\n",
       "    </tr>\n",
       "    <tr>\n",
       "      <th>2</th>\n",
       "      <td>502</td>\n",
       "      <td>42</td>\n",
       "      <td>8</td>\n",
       "      <td>159660.80</td>\n",
       "      <td>3</td>\n",
       "      <td>1</td>\n",
       "      <td>0</td>\n",
       "      <td>113931.57</td>\n",
       "      <td>0</td>\n",
       "      <td>0</td>\n",
       "      <td>0</td>\n",
       "    </tr>\n",
       "    <tr>\n",
       "      <th>3</th>\n",
       "      <td>699</td>\n",
       "      <td>39</td>\n",
       "      <td>1</td>\n",
       "      <td>0.00</td>\n",
       "      <td>2</td>\n",
       "      <td>0</td>\n",
       "      <td>0</td>\n",
       "      <td>93826.63</td>\n",
       "      <td>0</td>\n",
       "      <td>0</td>\n",
       "      <td>0</td>\n",
       "    </tr>\n",
       "    <tr>\n",
       "      <th>4</th>\n",
       "      <td>850</td>\n",
       "      <td>43</td>\n",
       "      <td>2</td>\n",
       "      <td>125510.82</td>\n",
       "      <td>1</td>\n",
       "      <td>1</td>\n",
       "      <td>1</td>\n",
       "      <td>79084.10</td>\n",
       "      <td>0</td>\n",
       "      <td>1</td>\n",
       "      <td>0</td>\n",
       "    </tr>\n",
       "  </tbody>\n",
       "</table>\n",
       "</div>"
      ],
      "text/plain": [
       "   credit_score  age  tenure    balance  num_of_products  has_credit_card  \\\n",
       "0           619   42       2       0.00                1                1   \n",
       "1           608   41       1   83807.86                1                0   \n",
       "2           502   42       8  159660.80                3                1   \n",
       "3           699   39       1       0.00                2                0   \n",
       "4           850   43       2  125510.82                1                1   \n",
       "\n",
       "   is_active_member  estimated_salary  geography_germany  geography_spain  \\\n",
       "0                 1         101348.88                  0                0   \n",
       "1                 1         112542.58                  0                1   \n",
       "2                 0         113931.57                  0                0   \n",
       "3                 0          93826.63                  0                0   \n",
       "4                 1          79084.10                  0                1   \n",
       "\n",
       "   gender_male  \n",
       "0            0  \n",
       "1            0  \n",
       "2            0  \n",
       "3            0  \n",
       "4            0  "
      ]
     },
     "execution_count": 14,
     "metadata": {},
     "output_type": "execute_result"
    }
   ],
   "source": [
    "# используем метод One hot encoding с учетом дамми-ловушки\n",
    "features_ohe = pd.get_dummies(features, drop_first=True)\n",
    "features_ohe.head()"
   ]
  },
  {
   "cell_type": "code",
   "execution_count": 15,
   "metadata": {
    "scrolled": true
   },
   "outputs": [
    {
     "data": {
      "text/plain": [
       "5427"
      ]
     },
     "metadata": {},
     "output_type": "display_data"
    },
    {
     "data": {
      "text/plain": [
       "1809"
      ]
     },
     "metadata": {},
     "output_type": "display_data"
    },
    {
     "data": {
      "text/plain": [
       "1810"
      ]
     },
     "metadata": {},
     "output_type": "display_data"
    }
   ],
   "source": [
    "# сначала выделим тестовую и не-тестовую части\n",
    "features_not_test, features_test, target_not_test, target_test = train_test_split(\n",
    "    features_ohe,\n",
    "    target,\n",
    "    test_size=0.2,\n",
    "    random_state=12345\n",
    ")\n",
    "\n",
    "# затем не-тестовую часть разделим на обучающую и валидационную\n",
    "features_train, features_valid, target_train, target_valid = train_test_split(\n",
    "    features_not_test,\n",
    "    target_not_test,\n",
    "    test_size=0.25,\n",
    "    random_state=12345\n",
    ")\n",
    "display(features_train.shape[0], features_valid.shape[0], features_test.shape[0])"
   ]
  },
  {
   "cell_type": "markdown",
   "metadata": {},
   "source": [
    "Найдем F1-метрику для трёх видов моделей - дерева решений, случайного леса и логистической регрессии - и проверим их на тестовых выборках.\n",
    "\n",
    "Начнём, как обычно, по порядку с дерева решений.\n"
   ]
  },
  {
   "cell_type": "code",
   "execution_count": 16,
   "metadata": {
    "scrolled": true
   },
   "outputs": [
    {
     "name": "stdout",
     "output_type": "stream",
     "text": [
      "1 0.0\n",
      "2 0.4797507788161994\n",
      "3 0.3643564356435644\n",
      "4 0.4839255499153976\n",
      "5 0.5331230283911672\n",
      "6 0.4908180300500835\n",
      "7 0.5198098256735342\n",
      "8 0.48434925864909384\n",
      "9 0.5406203840472673\n",
      "10 0.5083207261724659\n",
      "11 0.5107604017216643\n",
      "12 0.5147679324894515\n",
      "13 0.5199449793672627\n",
      "14 0.5246338215712383\n",
      "15 0.5118110236220472\n",
      "16 0.5065274151436031\n",
      "17 0.5064935064935064\n",
      "18 0.5037783375314862\n",
      "19 0.4884318766066838\n",
      "20 0.49625935162094764\n"
     ]
    }
   ],
   "source": [
    "for depth in range(1, 21):\n",
    "    decision_tree = DecisionTreeClassifier(max_depth=depth, random_state=12345)\n",
    "    decision_tree.fit(features_train, target_train)\n",
    "    tree_prediction = decision_tree.predict(features_valid)\n",
    "\n",
    "    tree_f1_score = f1_score(target_valid, tree_prediction)\n",
    "    print(depth, tree_f1_score)"
   ]
  },
  {
   "cell_type": "code",
   "execution_count": 17,
   "metadata": {},
   "outputs": [
    {
     "data": {
      "text/plain": [
       "0.6799328029358421"
      ]
     },
     "execution_count": 17,
     "metadata": {},
     "output_type": "execute_result"
    }
   ],
   "source": [
    "# также посчитаем значение AUC_ROC и сравним его с метрикой F1\n",
    "tree_pred_proba = decision_tree.predict_proba(features_valid)\n",
    "tree_pred_proba_one = tree_pred_proba[:, 1]\n",
    "\n",
    "auc_roc = roc_auc_score(target_valid, tree_pred_proba_one)\n",
    "auc_roc"
   ]
  },
  {
   "cell_type": "markdown",
   "metadata": {},
   "source": [
    "Как мы видим, наибольшее значение метрики F1 (0.54) достигается при глубине дерева = 9.  \n",
    "\n",
    "Значение AUC_ROC при этом находится на уровне 0.68.\n",
    "\n",
    "Тем не менее, этот показатель недостаточен по нашему условию задачи, поэтому данная модель точно не будет выбрана оптимальной."
   ]
  },
  {
   "cell_type": "code",
   "execution_count": 18,
   "metadata": {},
   "outputs": [
    {
     "name": "stderr",
     "output_type": "stream",
     "text": [
      "100%|██████████| 6/6 [00:55<00:00,  9.18s/it]"
     ]
    },
    {
     "name": "stdout",
     "output_type": "stream",
     "text": [
      "------------------------------------------------\n",
      "Best F1 score = 0.544 | best_depth = 16, best_est = 120\n"
     ]
    },
    {
     "name": "stderr",
     "output_type": "stream",
     "text": [
      "\n"
     ]
    }
   ],
   "source": [
    "# перейдем к следующей модели - модели случайного леса\n",
    "# подберём оптимальное значение гиперпараметра max_depth и n_estimators\n",
    "best_f1_score = 0\n",
    "best_depth = 0\n",
    "best_est = 0\n",
    "\n",
    "for est in tqdm(range(60, 161, 20)):\n",
    "    for depth in range(5, 21):\n",
    "        random_forest = RandomForestClassifier(max_depth=depth, n_estimators=est, random_state=12345)\n",
    "        random_forest.fit(features_train, target_train)\n",
    "        forest_predictions = random_forest.predict(features_valid)\n",
    "        \n",
    "        forest_f1_score = f1_score(target_valid, forest_predictions)\n",
    "                \n",
    "        # print('F1 score =', forest_f1_score, 'depth =', depth, 'est =', est)\n",
    "        \n",
    "        if forest_f1_score > best_f1_score:\n",
    "            best_f1_score = forest_f1_score\n",
    "            best_depth = depth\n",
    "            best_est = est\n",
    "            \n",
    "print('------------------------------------------------')\n",
    "print('Best F1 score = {:.3f} | best_depth = {}, best_est = {}'.format(best_f1_score, best_depth, best_est))\n"
   ]
  },
  {
   "cell_type": "code",
   "execution_count": 19,
   "metadata": {},
   "outputs": [
    {
     "data": {
      "text/plain": [
       "0.844808256347767"
      ]
     },
     "execution_count": 19,
     "metadata": {},
     "output_type": "execute_result"
    }
   ],
   "source": [
    "# посчитаем метрику AUC_ROC\n",
    "forest_pred_proba = random_forest.predict_proba(features_valid)\n",
    "forest_pred_proba_one = forest_pred_proba[:, 1]\n",
    "\n",
    "auc_roc = roc_auc_score(target_valid, forest_pred_proba_one)\n",
    "auc_roc"
   ]
  },
  {
   "cell_type": "markdown",
   "metadata": {},
   "source": [
    "Как мы видим, максимальное значение метрики F1, которое мы смогли достичь при глубине в 16 и n_estimators = 120 - это 0.544.  \n",
    "Показатель уже лучше чем у дерева решений, но по-прежнему не дотягивает до целевого показателя.\n",
    "\n",
    "Продолжаем изучение моделей. Переходим к логистической регрессии."
   ]
  },
  {
   "cell_type": "code",
   "execution_count": 20,
   "metadata": {},
   "outputs": [],
   "source": [
    "# также перед обучением модели регрессии применим нормализацию данных\n",
    "scaler = StandardScaler()\n",
    "scaler.fit(features_train)\n",
    "\n",
    "features_train_scaled = scaler.transform(features_train)\n",
    "features_valid_scaled = scaler.transform(features_valid)\n"
   ]
  },
  {
   "cell_type": "code",
   "execution_count": 21,
   "metadata": {},
   "outputs": [
    {
     "data": {
      "text/plain": [
       "0.24561403508771934"
      ]
     },
     "execution_count": 21,
     "metadata": {},
     "output_type": "execute_result"
    }
   ],
   "source": [
    "regression = LogisticRegression(solver='liblinear', random_state=12345)\n",
    "regression.fit(features_train_scaled, target_train)\n",
    "regression_prediction = regression.predict(features_valid_scaled)\n",
    "\n",
    "regression_f1_score = f1_score(target_valid, regression_prediction)\n",
    "regression_f1_score"
   ]
  },
  {
   "cell_type": "code",
   "execution_count": 22,
   "metadata": {},
   "outputs": [
    {
     "data": {
      "text/plain": [
       "0.5007102272727273"
      ]
     },
     "execution_count": 22,
     "metadata": {},
     "output_type": "execute_result"
    }
   ],
   "source": [
    "# посчитаем значение AUC_ROC и сравним его с метрикой F1\n",
    "regression_pred_proba = regression.predict_proba(features_valid)\n",
    "regression_pred_proba_one = regression_pred_proba[:, 1]\n",
    "\n",
    "auc_roc = roc_auc_score(target_valid, regression_pred_proba_one)\n",
    "auc_roc"
   ]
  },
  {
   "cell_type": "markdown",
   "metadata": {},
   "source": [
    "Значение метрики F1 для логистической регрессии даже с учетом нормализации получилось равным 0.25, что значительно хуже нашей целевой планки и показателей других моделей. Скорее всего на эту модель сильнее всего влияет дисбаланс классов, который мы по условию задачи на данном этапе не устраняли, поэтому нам еще предстоит оценить этот показатель повторно на следующем этапе."
   ]
  },
  {
   "cell_type": "markdown",
   "metadata": {},
   "source": [
    "### Промежуточные выводы.\n",
    "\n",
    "Итак в течение данного этапа мы выполнили следующие действия:\n",
    "- Определили и выделили признаки, на которых мы будем обучать модель, а также целевой признак.\n",
    "- Разделили выборку на обучающую, валидационную и тестовую.\n",
    "- Оценили баланс классов целевого признака и построили три типа моделей без какой-либо балансировки:\n",
    "    - Модель дерева решений показала наибольшую метрику F1 (0.54) при значении праметра max_depth=9.\n",
    "    - Модель случайного леса смогла довести показатель F1 до 0.544 при max_depth=16 и n_estimators=120.\n",
    "    - Модель логистической регрессии показала самый слабый результат F1 в 0.25.\n",
    "    \n",
    "В следующем этапе мы проверим показатели данных моделей после работы с дисбалансом классов."
   ]
  },
  {
   "cell_type": "markdown",
   "metadata": {},
   "source": [
    "## Борьба с дисбалансом"
   ]
  },
  {
   "cell_type": "markdown",
   "metadata": {},
   "source": [
    "В данном шаге нам необходимо:\n",
    "- Улучшить качество моделей, скорректировав дисбаланс классов. \n",
    "- Повторно обучить разные модели и, изменяя гиперпараметры, определить лучшую."
   ]
  },
  {
   "cell_type": "markdown",
   "metadata": {},
   "source": [
    "Как мы уже выяснили на предыдущем этапе, наш целевой показатель слабо сбалансирован - единицы составляют лишь 20% от всего столбца. Остальное - нули. \n",
    "\n",
    "Попробуем применить различные методы балансировки для улучшения метрик наших моделей, в частности, взвешивание классов, увеличение и уменьшение выборки, а также изменене порога для логистической регрессии."
   ]
  },
  {
   "cell_type": "markdown",
   "metadata": {},
   "source": [
    "### Логистическая регрессия\n",
    "\n",
    "Для начала работы с логистической регрессией попробуем применить метод балансировки веса для разных классов."
   ]
  },
  {
   "cell_type": "code",
   "execution_count": 23,
   "metadata": {},
   "outputs": [
    {
     "data": {
      "text/plain": [
       "0.5112359550561797"
      ]
     },
     "execution_count": 23,
     "metadata": {},
     "output_type": "execute_result"
    }
   ],
   "source": [
    "regression_balanced = LogisticRegression(class_weight='balanced', solver='liblinear', random_state=12345)\n",
    "regression_balanced.fit(features_train_scaled, target_train)\n",
    "regression_balanced_prediction = regression_balanced.predict(features_valid_scaled)\n",
    "\n",
    "regression_f1_score = f1_score(target_valid, regression_balanced_prediction)\n",
    "regression_f1_score"
   ]
  },
  {
   "cell_type": "code",
   "execution_count": 24,
   "metadata": {},
   "outputs": [
    {
     "data": {
      "text/plain": [
       "0.5007102272727273"
      ]
     },
     "execution_count": 24,
     "metadata": {},
     "output_type": "execute_result"
    }
   ],
   "source": [
    "# также посчитаем значение AUC_ROC и сравним его с метрикой F1\n",
    "regression_balanced_pred_proba = regression_balanced.predict_proba(features_valid)\n",
    "regression_balanced_pred_proba_one = regression_balanced_pred_proba[:, 1]\n",
    "\n",
    "auc_roc = roc_auc_score(target_valid, regression_balanced_pred_proba_one)\n",
    "auc_roc"
   ]
  },
  {
   "cell_type": "markdown",
   "metadata": {},
   "source": [
    "Как мы видим, даже с применением одного гиперпараметра F1 метрика практически удвоилась.\n",
    "\n",
    "Теперь попробуем метод изменения порога регрессии для базовой модели, без измерения веса."
   ]
  },
  {
   "cell_type": "code",
   "execution_count": 25,
   "metadata": {
    "scrolled": false
   },
   "outputs": [
    {
     "name": "stdout",
     "output_type": "stream",
     "text": [
      "Порог = 0.10 | Метрика F1 = 0.447\n",
      "Порог = 0.11 | Метрика F1 = 0.449\n",
      "Порог = 0.12 | Метрика F1 = 0.453\n",
      "Порог = 0.13 | Метрика F1 = 0.464\n",
      "Порог = 0.14 | Метрика F1 = 0.473\n",
      "Порог = 0.15 | Метрика F1 = 0.484\n",
      "Порог = 0.16 | Метрика F1 = 0.487\n",
      "Порог = 0.17 | Метрика F1 = 0.489\n",
      "Порог = 0.18 | Метрика F1 = 0.489\n",
      "Порог = 0.19 | Метрика F1 = 0.490\n",
      "Порог = 0.20 | Метрика F1 = 0.490\n",
      "Порог = 0.21 | Метрика F1 = 0.498\n",
      "Порог = 0.22 | Метрика F1 = 0.499\n",
      "Порог = 0.23 | Метрика F1 = 0.502\n",
      "Порог = 0.24 | Метрика F1 = 0.492\n",
      "Порог = 0.25 | Метрика F1 = 0.492\n",
      "Порог = 0.26 | Метрика F1 = 0.491\n",
      "Порог = 0.27 | Метрика F1 = 0.472\n",
      "Порог = 0.28 | Метрика F1 = 0.472\n",
      "Порог = 0.29 | Метрика F1 = 0.465\n"
     ]
    }
   ],
   "source": [
    "regression_proba = regression.predict_proba(features_valid_scaled)\n",
    "regression_proba_one = regression_proba[:, 1]\n",
    "\n",
    "for threshold in np.arange(0.1, 0.3, 0.01):\n",
    "    regression_predicted_valid = regression_proba_one > threshold\n",
    "    tree_f1_score = f1_score(target_valid, regression_predicted_valid)\n",
    "\n",
    "    print(\"Порог = {:.2f} | Метрика F1 = {:.3f}\".format(\n",
    "        threshold, tree_f1_score))\n"
   ]
  },
  {
   "cell_type": "markdown",
   "metadata": {},
   "source": [
    "При использовании метода изменения порога регрессии, максимальное значение метрики F1 у нас получилось равным 0.502, что пока также не удовлетворяет нашему условию.\n",
    "\n",
    "Теперь попробуем методы **up & downsampling** для уменьшения и увеличения выборки строк с определенным классом для достижения соответствующего баланса.  \n",
    "Сначала используем только один из этих двух методов, а затем попробуем их использователь совместно."
   ]
  },
  {
   "cell_type": "code",
   "execution_count": 26,
   "metadata": {},
   "outputs": [],
   "source": [
    "# создадим функцию для увеличения количества строк с положительным значением целевого признака (1)\n",
    "def upsample(features, target, repeat):\n",
    "    features_zeros = features[target == 0]\n",
    "    features_ones = features[target == 1]\n",
    "    target_zeros = target[target == 0]\n",
    "    target_ones = target[target == 1]\n",
    "\n",
    "    features_upsampled = pd.concat([features_zeros] + [features_ones] * repeat)\n",
    "    target_upsampled = pd.concat([target_zeros] + [target_ones] * repeat)\n",
    "    \n",
    "    features_upsampled, target_upsampled = shuffle(\n",
    "        features_upsampled, target_upsampled, random_state=12345)\n",
    "    \n",
    "    return features_upsampled, target_upsampled"
   ]
  },
  {
   "cell_type": "code",
   "execution_count": 27,
   "metadata": {},
   "outputs": [],
   "source": [
    "# и аналогичную функцию для уменьшения количества строк с нулевым значением целевого признака\n",
    "def downsample(features, target, fraction):\n",
    "    features_zeros = features[target == 0]\n",
    "    features_ones = features[target == 1]\n",
    "    target_zeros = target[target == 0]\n",
    "    target_ones = target[target == 1]\n",
    "\n",
    "    features_downsampled = pd.concat(\n",
    "        [features_zeros.sample(frac=fraction, random_state=12345)] + [features_ones])\n",
    "    target_downsampled = pd.concat(\n",
    "        [target_zeros.sample(frac=fraction, random_state=12345)] + [target_ones])\n",
    "    \n",
    "    features_downsampled, target_downsampled = shuffle(\n",
    "        features_downsampled, target_downsampled, random_state=12345)\n",
    "    \n",
    "    return features_downsampled, target_downsampled\n"
   ]
  },
  {
   "cell_type": "code",
   "execution_count": 28,
   "metadata": {},
   "outputs": [
    {
     "data": {
      "text/plain": [
       "0.4984423676012461"
      ]
     },
     "execution_count": 28,
     "metadata": {},
     "output_type": "execute_result"
    }
   ],
   "source": [
    "features_train_upsampled, target_train_upsampled = upsample(features_train, target_train, 4)\n",
    "target_train_upsampled.mean()"
   ]
  },
  {
   "cell_type": "code",
   "execution_count": 29,
   "metadata": {},
   "outputs": [],
   "source": [
    "# нормализуем значения в новой upsampled выборке\n",
    "\n",
    "scaler = StandardScaler()\n",
    "scaler.fit(features_train_upsampled)\n",
    "\n",
    "features_train_upsampled_scaled = scaler.transform(features_train_upsampled)\n",
    "features_valid_upsampled_scaled = scaler.transform(features_valid)"
   ]
  },
  {
   "cell_type": "code",
   "execution_count": 30,
   "metadata": {},
   "outputs": [
    {
     "data": {
      "text/plain": [
       "0.5121951219512195"
      ]
     },
     "execution_count": 30,
     "metadata": {},
     "output_type": "execute_result"
    }
   ],
   "source": [
    "regression = LogisticRegression(solver='liblinear', random_state=12345)\n",
    "regression.fit(features_train_upsampled_scaled, target_train_upsampled)\n",
    "regression_prediction = regression.predict(features_valid_upsampled_scaled)\n",
    "\n",
    "regression_f1_score = f1_score(target_valid, regression_prediction)\n",
    "regression_f1_score"
   ]
  },
  {
   "cell_type": "code",
   "execution_count": 31,
   "metadata": {
    "scrolled": true
   },
   "outputs": [
    {
     "data": {
      "text/plain": [
       "0.49838486386709735"
      ]
     },
     "execution_count": 31,
     "metadata": {},
     "output_type": "execute_result"
    }
   ],
   "source": [
    "# теперь проведем аналогичные действия с методом downsample\n",
    "features_train_downsampled, target_train_downsampled = downsample(features_train, target_train, 0.25)\n",
    "target_train_downsampled.mean()\n"
   ]
  },
  {
   "cell_type": "code",
   "execution_count": 32,
   "metadata": {},
   "outputs": [],
   "source": [
    "# нормализуем значения в downsampled выборке\n",
    "\n",
    "scaler = StandardScaler()\n",
    "scaler.fit(features_train_downsampled)\n",
    "\n",
    "features_train_downsampled_scaled = scaler.transform(features_train_downsampled)\n",
    "features_valid_downsampled_scaled = scaler.transform(features_valid)"
   ]
  },
  {
   "cell_type": "code",
   "execution_count": 33,
   "metadata": {},
   "outputs": [
    {
     "data": {
      "text/plain": [
       "0.5075187969924813"
      ]
     },
     "execution_count": 33,
     "metadata": {},
     "output_type": "execute_result"
    }
   ],
   "source": [
    "regression = LogisticRegression(solver='liblinear', random_state=12345)\n",
    "regression.fit(features_train_downsampled_scaled, target_train_downsampled)\n",
    "regression_prediction = regression.predict(features_valid_downsampled_scaled)\n",
    "\n",
    "regression_f1_score = f1_score(target_valid, regression_prediction)\n",
    "regression_f1_score"
   ]
  },
  {
   "cell_type": "code",
   "execution_count": 34,
   "metadata": {
    "scrolled": true
   },
   "outputs": [
    {
     "data": {
      "text/plain": [
       "0.49838486386709735"
      ]
     },
     "execution_count": 34,
     "metadata": {},
     "output_type": "execute_result"
    }
   ],
   "source": [
    "# теперь попробуем использовать оба метода сразу (сократим количество класса 0 и увеличим количество класса 1)\n",
    "# так мы сохраним больше строк для обучения и создадим меньше дубликатов класса 1\n",
    "features_train_upsampled_for_down, target_train_upsampled_for_down = upsample(features_train, target_train, 2)\n",
    "\n",
    "features_train_updownsampled, target_train_updownsampled = downsample(features_train_upsampled_for_down, target_train_upsampled_for_down, 0.5)\n",
    "target_train_updownsampled.mean()\n"
   ]
  },
  {
   "cell_type": "code",
   "execution_count": 35,
   "metadata": {},
   "outputs": [],
   "source": [
    "# нормализуем значения в updownsampled выборке\n",
    "\n",
    "scaler = StandardScaler()\n",
    "scaler.fit(features_train_updownsampled)\n",
    "\n",
    "features_train_updownsampled_scaled = scaler.transform(features_train_updownsampled)\n",
    "features_valid_updownsampled_scaled = scaler.transform(features_valid)"
   ]
  },
  {
   "cell_type": "code",
   "execution_count": 36,
   "metadata": {},
   "outputs": [
    {
     "data": {
      "text/plain": [
       "0.5032863849765258"
      ]
     },
     "execution_count": 36,
     "metadata": {},
     "output_type": "execute_result"
    }
   ],
   "source": [
    "regression = LogisticRegression(solver='liblinear', random_state=12345)\n",
    "regression.fit(features_train_updownsampled_scaled, target_train_updownsampled)\n",
    "regression_prediction = regression.predict(features_valid_updownsampled_scaled)\n",
    "\n",
    "regression_f1_score = f1_score(target_valid, regression_prediction)\n",
    "regression_f1_score"
   ]
  },
  {
   "cell_type": "markdown",
   "metadata": {},
   "source": [
    "Итого для логистической регрессии мы получили следующие характеристики F1:\n",
    "- При балансировке весов - 0.511;\n",
    "- При изменении порога - 0.502;\n",
    "- При upsampling - 0.512;\n",
    "- При downsampling - 0.508;\n",
    "- При одновременном использовании up & downsampling - 0.503.\n",
    "\n",
    "Тем не менее, все эти показатели не проходят наш целевой показатель F1, поэтому переходим к дальнейшим моделям - дереву решений и случайному лесу."
   ]
  },
  {
   "cell_type": "markdown",
   "metadata": {},
   "source": [
    "### Дерево решений"
   ]
  },
  {
   "cell_type": "markdown",
   "metadata": {},
   "source": [
    "Теперь переходим к следующему типу модели - к дереву решений - и попробуем использовать наши сбалансированные различными методами выборки для этой модели."
   ]
  },
  {
   "cell_type": "code",
   "execution_count": 37,
   "metadata": {},
   "outputs": [
    {
     "name": "stdout",
     "output_type": "stream",
     "text": [
      "Метрика F1 = 0.508 | max_depth = 1\n",
      "Метрика F1 = 0.530 | max_depth = 2\n",
      "Метрика F1 = 0.507 | max_depth = 3\n",
      "Метрика F1 = 0.559 | max_depth = 4\n",
      "Метрика F1 = 0.559 | max_depth = 5\n",
      "Метрика F1 = 0.591 | max_depth = 6\n",
      "Метрика F1 = 0.583 | max_depth = 7\n",
      "Метрика F1 = 0.580 | max_depth = 8\n",
      "Метрика F1 = 0.566 | max_depth = 9\n",
      "Метрика F1 = 0.521 | max_depth = 10\n",
      "Метрика F1 = 0.515 | max_depth = 11\n",
      "Метрика F1 = 0.501 | max_depth = 12\n",
      "Метрика F1 = 0.487 | max_depth = 13\n",
      "Метрика F1 = 0.480 | max_depth = 14\n",
      "Метрика F1 = 0.468 | max_depth = 15\n",
      "Метрика F1 = 0.460 | max_depth = 16\n",
      "Метрика F1 = 0.461 | max_depth = 17\n",
      "Метрика F1 = 0.457 | max_depth = 18\n",
      "Метрика F1 = 0.448 | max_depth = 19\n",
      "Метрика F1 = 0.449 | max_depth = 20\n"
     ]
    }
   ],
   "source": [
    "# начнем с устранения баланса классов через гиперпараметр модели\n",
    "for depth in range(1, 21):\n",
    "    decision_tree = DecisionTreeClassifier(class_weight='balanced', max_depth=depth, random_state=12345)\n",
    "    decision_tree.fit(features_train, target_train)\n",
    "    tree_prediction = decision_tree.predict(features_valid)\n",
    "\n",
    "    tree_f1_score = f1_score(target_valid, tree_prediction)\n",
    "    print('Метрика F1 = {:.3f} | max_depth = {}'.format(tree_f1_score, depth))\n"
   ]
  },
  {
   "cell_type": "code",
   "execution_count": 38,
   "metadata": {},
   "outputs": [
    {
     "name": "stdout",
     "output_type": "stream",
     "text": [
      "Метрика F1 = 0.508 | max_depth = 1\n",
      "Метрика F1 = 0.530 | max_depth = 2\n",
      "Метрика F1 = 0.507 | max_depth = 3\n",
      "Метрика F1 = 0.559 | max_depth = 4\n",
      "Метрика F1 = 0.559 | max_depth = 5\n",
      "Метрика F1 = 0.591 | max_depth = 6\n",
      "Метрика F1 = 0.580 | max_depth = 7\n",
      "Метрика F1 = 0.579 | max_depth = 8\n",
      "Метрика F1 = 0.568 | max_depth = 9\n",
      "Метрика F1 = 0.526 | max_depth = 10\n",
      "Метрика F1 = 0.515 | max_depth = 11\n",
      "Метрика F1 = 0.500 | max_depth = 12\n",
      "Метрика F1 = 0.483 | max_depth = 13\n",
      "Метрика F1 = 0.486 | max_depth = 14\n",
      "Метрика F1 = 0.479 | max_depth = 15\n",
      "Метрика F1 = 0.483 | max_depth = 16\n",
      "Метрика F1 = 0.464 | max_depth = 17\n",
      "Метрика F1 = 0.462 | max_depth = 18\n",
      "Метрика F1 = 0.460 | max_depth = 19\n",
      "Метрика F1 = 0.462 | max_depth = 20\n"
     ]
    }
   ],
   "source": [
    "# начнём с upsampling\n",
    "for depth in range(1, 21):\n",
    "    decision_tree = DecisionTreeClassifier(max_depth=depth, random_state=12345)\n",
    "    decision_tree.fit(features_train_upsampled, target_train_upsampled)\n",
    "    tree_prediction = decision_tree.predict(features_valid)\n",
    "\n",
    "    tree_f1_score = f1_score(target_valid, tree_prediction)\n",
    "    print('Метрика F1 = {:.3f} | max_depth = {}'.format(tree_f1_score, depth))\n"
   ]
  },
  {
   "cell_type": "code",
   "execution_count": 39,
   "metadata": {},
   "outputs": [
    {
     "name": "stdout",
     "output_type": "stream",
     "text": [
      "Метрика F1 = 0.515 | max_depth = 1\n",
      "Метрика F1 = 0.546 | max_depth = 2\n",
      "Метрика F1 = 0.562 | max_depth = 3\n",
      "Метрика F1 = 0.526 | max_depth = 4\n",
      "Метрика F1 = 0.562 | max_depth = 5\n",
      "Метрика F1 = 0.582 | max_depth = 6\n",
      "Метрика F1 = 0.593 | max_depth = 7\n",
      "Метрика F1 = 0.590 | max_depth = 8\n",
      "Метрика F1 = 0.553 | max_depth = 9\n",
      "Метрика F1 = 0.555 | max_depth = 10\n",
      "Метрика F1 = 0.532 | max_depth = 11\n",
      "Метрика F1 = 0.516 | max_depth = 12\n",
      "Метрика F1 = 0.505 | max_depth = 13\n",
      "Метрика F1 = 0.504 | max_depth = 14\n",
      "Метрика F1 = 0.498 | max_depth = 15\n",
      "Метрика F1 = 0.495 | max_depth = 16\n",
      "Метрика F1 = 0.493 | max_depth = 17\n",
      "Метрика F1 = 0.494 | max_depth = 18\n",
      "Метрика F1 = 0.495 | max_depth = 19\n",
      "Метрика F1 = 0.500 | max_depth = 20\n"
     ]
    }
   ],
   "source": [
    "# далее у нас идёт downsampling\n",
    "for depth in range(1, 21):\n",
    "    decision_tree = DecisionTreeClassifier(max_depth=depth, random_state=12345)\n",
    "    decision_tree.fit(features_train_downsampled, target_train_downsampled)\n",
    "    tree_prediction = decision_tree.predict(features_valid)\n",
    "\n",
    "    tree_f1_score = f1_score(target_valid, tree_prediction)\n",
    "    print('Метрика F1 = {:.3f} | max_depth = {}'.format(tree_f1_score, depth))"
   ]
  },
  {
   "cell_type": "code",
   "execution_count": 40,
   "metadata": {},
   "outputs": [
    {
     "name": "stdout",
     "output_type": "stream",
     "text": [
      "Метрика F1 = 0.493 | max_depth = 1\n",
      "Метрика F1 = 0.509 | max_depth = 2\n",
      "Метрика F1 = 0.494 | max_depth = 3\n",
      "Метрика F1 = 0.539 | max_depth = 4\n",
      "Метрика F1 = 0.565 | max_depth = 5\n",
      "Метрика F1 = 0.584 | max_depth = 6\n",
      "Метрика F1 = 0.559 | max_depth = 7\n",
      "Метрика F1 = 0.545 | max_depth = 8\n",
      "Метрика F1 = 0.560 | max_depth = 9\n",
      "Метрика F1 = 0.530 | max_depth = 10\n",
      "Метрика F1 = 0.533 | max_depth = 11\n",
      "Метрика F1 = 0.554 | max_depth = 12\n",
      "Метрика F1 = 0.533 | max_depth = 13\n",
      "Метрика F1 = 0.522 | max_depth = 14\n",
      "Метрика F1 = 0.527 | max_depth = 15\n",
      "Метрика F1 = 0.525 | max_depth = 16\n",
      "Метрика F1 = 0.528 | max_depth = 17\n",
      "Метрика F1 = 0.532 | max_depth = 18\n",
      "Метрика F1 = 0.519 | max_depth = 19\n",
      "Метрика F1 = 0.535 | max_depth = 20\n"
     ]
    }
   ],
   "source": [
    "# и наконец updownsampling\n",
    "for depth in range(1, 21):\n",
    "    decision_tree = DecisionTreeClassifier(max_depth=depth, random_state=12345)\n",
    "    decision_tree.fit(features_train_updownsampled, target_train_updownsampled)\n",
    "    tree_prediction = decision_tree.predict(features_valid)\n",
    "\n",
    "    tree_f1_score = f1_score(target_valid, tree_prediction)\n",
    "    print('Метрика F1 = {:.3f} | max_depth = {}'.format(tree_f1_score, depth))"
   ]
  },
  {
   "cell_type": "markdown",
   "metadata": {},
   "source": [
    "Итого для модели дерева решений мы получили следующие результаты для метрики F1 и значения max_depth:\n",
    "- Балансировка весов - 0.591 при max_depth=6;\n",
    "- При upsampling - 0.591 при max_depth=6;\n",
    "- При downsampling - 0.593 при max_depth=7;\n",
    "- При одновременном использовании up & downsampling - 0.584 при max_depth=6.\n",
    "\n",
    "Как мы видим, данная модель показывает себя лучше чем логистическая регресиия, а в случаях точечного upsampling и downsampling даже сумела превзойти наш целевой порог F1.  "
   ]
  },
  {
   "cell_type": "code",
   "execution_count": 41,
   "metadata": {},
   "outputs": [
    {
     "data": {
      "text/plain": [
       "0.8226078978689639"
      ]
     },
     "execution_count": 41,
     "metadata": {},
     "output_type": "execute_result"
    }
   ],
   "source": [
    "# также посчитаем значение AUC_ROC для лучшей версии модели и сравним его с метрикой F1\n",
    "decision_tree = DecisionTreeClassifier(max_depth=7, random_state=12345)\n",
    "decision_tree.fit(features_train_downsampled, target_train_downsampled)\n",
    "\n",
    "decision_tree_pred_proba = decision_tree.predict_proba(features_valid)\n",
    "decision_tree_pred_proba_one = decision_tree_pred_proba[:, 1]\n",
    "\n",
    "auc_roc = roc_auc_score(target_valid, decision_tree_pred_proba_one)\n",
    "auc_roc"
   ]
  },
  {
   "cell_type": "markdown",
   "metadata": {},
   "source": [
    "### Случайный лес"
   ]
  },
  {
   "cell_type": "markdown",
   "metadata": {},
   "source": [
    "У нас остался последний вид модели для проверки - модель случайного леса. Проверим его на аналогичным данных, где мы устранили баланс классов и подберем оптимальные значения max_depth и n_estimators."
   ]
  },
  {
   "cell_type": "code",
   "execution_count": 42,
   "metadata": {},
   "outputs": [
    {
     "name": "stderr",
     "output_type": "stream",
     "text": [
      "100%|██████████| 6/6 [00:54<00:00,  9.04s/it]"
     ]
    },
    {
     "name": "stdout",
     "output_type": "stream",
     "text": [
      "------------------------------------------------\n",
      "Best F1 score = 0.635 | best_depth = 7, best_est = 160\n"
     ]
    },
    {
     "name": "stderr",
     "output_type": "stream",
     "text": [
      "\n"
     ]
    }
   ],
   "source": [
    "# начнем с устранения баланса классов через гиперпараметр модели\n",
    "best_f1_score = 0\n",
    "best_depth = 0\n",
    "best_est = 0\n",
    "\n",
    "for est in tqdm(range(60, 161, 20)):\n",
    "    for depth in range(5, 21):\n",
    "        random_forest = RandomForestClassifier(class_weight='balanced', max_depth=depth, n_estimators=est, random_state=12345)\n",
    "        random_forest.fit(features_train, target_train)\n",
    "        forest_predictions = random_forest.predict(features_valid)\n",
    "        \n",
    "        forest_f1_score = f1_score(target_valid, forest_predictions)\n",
    "                \n",
    "        # print('F1 score =', forest_f1_score, 'depth =', depth, 'est =', est)\n",
    "        \n",
    "        if forest_f1_score > best_f1_score:\n",
    "            best_f1_score = forest_f1_score\n",
    "            best_depth = depth\n",
    "            best_est = est\n",
    "            \n",
    "print('------------------------------------------------')\n",
    "print('Best F1 score = {:.3f} | best_depth = {}, best_est = {}'.format(best_f1_score, best_depth, best_est))\n"
   ]
  },
  {
   "cell_type": "code",
   "execution_count": 43,
   "metadata": {
    "scrolled": false
   },
   "outputs": [
    {
     "name": "stderr",
     "output_type": "stream",
     "text": [
      "100%|██████████| 6/6 [01:11<00:00, 11.88s/it]"
     ]
    },
    {
     "name": "stdout",
     "output_type": "stream",
     "text": [
      "------------------------------------------------\n",
      "Best F1 score = 0.634 | best_depth = 7, best_est = 140\n"
     ]
    },
    {
     "name": "stderr",
     "output_type": "stream",
     "text": [
      "\n"
     ]
    }
   ],
   "source": [
    "# теперь перейдем с upsampling\n",
    "best_f1_score = 0\n",
    "best_depth = 0\n",
    "best_est = 0\n",
    "\n",
    "for est in tqdm(range(60, 161, 20)):\n",
    "    for depth in range(5, 21):\n",
    "        random_forest = RandomForestClassifier(max_depth=depth, n_estimators=est, random_state=12345)\n",
    "        random_forest.fit(features_train_upsampled, target_train_upsampled)\n",
    "        forest_predictions = random_forest.predict(features_valid)\n",
    "        \n",
    "        forest_f1_score = f1_score(target_valid, forest_predictions)\n",
    "                \n",
    "        # print('F1 score =', forest_f1_score, 'depth =', depth, 'est =', est)\n",
    "        \n",
    "        if forest_f1_score > best_f1_score:\n",
    "            best_f1_score = forest_f1_score\n",
    "            best_depth = depth\n",
    "            best_est = est\n",
    "            \n",
    "print('------------------------------------------------')\n",
    "print('Best F1 score = {:.3f} | best_depth = {}, best_est = {}'.format(best_f1_score, best_depth, best_est))\n"
   ]
  },
  {
   "cell_type": "code",
   "execution_count": 44,
   "metadata": {},
   "outputs": [
    {
     "name": "stderr",
     "output_type": "stream",
     "text": [
      "100%|██████████| 6/6 [00:29<00:00,  4.98s/it]"
     ]
    },
    {
     "name": "stdout",
     "output_type": "stream",
     "text": [
      "------------------------------------------------\n",
      "Best F1 score = 0.630 | best_depth = 10, best_est = 160\n"
     ]
    },
    {
     "name": "stderr",
     "output_type": "stream",
     "text": [
      "\n"
     ]
    }
   ],
   "source": [
    "# аналогично теперь с downsampling\n",
    "best_f1_score = 0\n",
    "best_depth = 0\n",
    "best_est = 0\n",
    "\n",
    "for est in tqdm(range(60, 161, 20)):\n",
    "    for depth in range(5, 21):\n",
    "        random_forest = RandomForestClassifier(max_depth=depth, n_estimators=est, random_state=12345)\n",
    "        random_forest.fit(features_train_downsampled, target_train_downsampled)\n",
    "        forest_predictions = random_forest.predict(features_valid)\n",
    "        \n",
    "        forest_f1_score = f1_score(target_valid, forest_predictions)\n",
    "                \n",
    "        # print('F1 score =', forest_f1_score, 'depth =', depth, 'est =', est)\n",
    "        \n",
    "        if forest_f1_score > best_f1_score:\n",
    "            best_f1_score = forest_f1_score\n",
    "            best_depth = depth\n",
    "            best_est = est\n",
    "            \n",
    "print('------------------------------------------------')\n",
    "print('Best F1 score = {:.3f} | best_depth = {}, best_est = {}'.format(best_f1_score, best_depth, best_est))"
   ]
  },
  {
   "cell_type": "code",
   "execution_count": 45,
   "metadata": {},
   "outputs": [
    {
     "name": "stderr",
     "output_type": "stream",
     "text": [
      "100%|██████████| 6/6 [00:44<00:00,  7.41s/it]"
     ]
    },
    {
     "name": "stdout",
     "output_type": "stream",
     "text": [
      "------------------------------------------------\n",
      "Best F1 score = 0.624 | best_depth = 11, best_est = 120\n"
     ]
    },
    {
     "name": "stderr",
     "output_type": "stream",
     "text": [
      "\n"
     ]
    }
   ],
   "source": [
    "# и последняя проверка - с updownsampling\n",
    "best_f1_score = 0\n",
    "best_depth = 0\n",
    "best_est = 0\n",
    "\n",
    "for est in tqdm(range(60, 161, 20)):\n",
    "    for depth in range(5, 21):\n",
    "        random_forest = RandomForestClassifier(max_depth=depth, n_estimators=est, random_state=12345)\n",
    "        random_forest.fit(features_train_updownsampled, target_train_updownsampled)\n",
    "        forest_predictions = random_forest.predict(features_valid)\n",
    "        \n",
    "        forest_f1_score = f1_score(target_valid, forest_predictions)\n",
    "                \n",
    "        # print('F1 score =', forest_f1_score, 'depth =', depth, 'est =', est)\n",
    "        \n",
    "        if forest_f1_score > best_f1_score:\n",
    "            best_f1_score = forest_f1_score\n",
    "            best_depth = depth\n",
    "            best_est = est\n",
    "            \n",
    "print('------------------------------------------------')\n",
    "print('Best F1 score = {:.3f} | best_depth = {}, best_est = {}'.format(best_f1_score, best_depth, best_est))"
   ]
  },
  {
   "cell_type": "markdown",
   "metadata": {},
   "source": [
    "Итак, для модели случайного леса мы получили самые большие показатели F1 метрики:\n",
    "- Взвешивание классов - 0.635, при max_depth=7, n_estimators=160;\n",
    "- Upsampling - 0.634 при max_depth=7, n_estimators=140; \n",
    "- Downsampling - 0.629 при max_depth=10, n_estimators=160;\n",
    "- Updownsampling - 0.624 при max_depth=11, n_estimators=120;\n"
   ]
  },
  {
   "cell_type": "code",
   "execution_count": 46,
   "metadata": {},
   "outputs": [
    {
     "data": {
      "text/plain": [
       "0.8594139650872819"
      ]
     },
     "execution_count": 46,
     "metadata": {},
     "output_type": "execute_result"
    }
   ],
   "source": [
    "# также посчитаем значение AUC_ROC для лучшей версии модели и сравним его с метрикой F1\n",
    "random_forest = RandomForestClassifier(class_weight='balanced', max_depth=7, n_estimators=160, random_state=12345)\n",
    "random_forest.fit(features_train, target_train)\n",
    "\n",
    "decision_tree_pred_proba = random_forest.predict_proba(features_valid)\n",
    "decision_tree_pred_proba_one = decision_tree_pred_proba[:, 1]\n",
    "\n",
    "auc_roc = roc_auc_score(target_valid, decision_tree_pred_proba_one)\n",
    "auc_roc"
   ]
  },
  {
   "cell_type": "markdown",
   "metadata": {},
   "source": [
    "### Промежуточные выводы\n",
    "\n",
    "Итак мы протестировали все три типа модели после балансировки классов различными методами.  \n",
    "Ниже указаны наивысшие полученные значения метрики F1 и использованные при этом значения гиперпараметров:\n",
    "1. Логистическая регрессия:\n",
    "    - Базовая модель - 0.246;\n",
    "    - При балансировке весов - **0.511**;\n",
    "    - При изменении порога - 0.502;\n",
    "    - При upsampling - 0.512;\n",
    "    - При downsampling - 0.508;\n",
    "    - При одновременном использовании up & downsampling - 0.503.\n",
    "2. Дерево решений:\n",
    "    - Базовая модель - 0.54 при max_depth=9;\n",
    "    - Балансировка весов - 0.591 при max_depth=6;\n",
    "    - При upsampling - 0.591 при max_depth=6;\n",
    "    - При downsampling - **0.593** при max_depth=7;\n",
    "    - При одновременном использовании up & downsampling - 0.584 при max_depth=6.\n",
    "3. Случайный лес:\n",
    "    - Базовая модель - 0.544, при max_depth=16, n_estimators=120;\n",
    "    - Взвешивание классов - **0.635**, при max_depth=7, n_estimators=160;\n",
    "    - Upsampling - 0.634 при max_depth=7, n_estimators=140; \n",
    "    - Downsampling - 0.629 при max_depth=10, n_estimators=160;\n",
    "    - Updownsampling - 0.624 при max_depth=11, n_estimators=120;\n",
    "\n",
    "Из всех трёх моделей модель случайного леса показала наилучший результат, поэтому именно её мы и выберем для дальнейшего тестирования."
   ]
  },
  {
   "cell_type": "markdown",
   "metadata": {},
   "source": [
    "## Тестирование модели"
   ]
  },
  {
   "cell_type": "markdown",
   "metadata": {},
   "source": [
    "На последнем этапе нам необходимо протестировать нашу лучшую модель на тестовой выборке, которую мы выделили из начальных данных и никак не использовали в процессе обучения.\n",
    "\n",
    "Также для этой оценки мы будем использовать вычисленные ранее значения гиперпараметров, показавшие наилучший результат."
   ]
  },
  {
   "cell_type": "code",
   "execution_count": 47,
   "metadata": {},
   "outputs": [
    {
     "name": "stdout",
     "output_type": "stream",
     "text": [
      "Метрика F1 = 0.621 | max_depth = 7, n_esimators = 160\n"
     ]
    }
   ],
   "source": [
    "random_forest = RandomForestClassifier(class_weight='balanced', max_depth=7, n_estimators=160, random_state=12345)\n",
    "random_forest.fit(features_train, target_train)\n",
    "forest_predictions = random_forest.predict(features_test)\n",
    "\n",
    "forest_f1_score = f1_score(target_test, forest_predictions)\n",
    "\n",
    "print('Метрика F1 = {:.3f} | max_depth = 7, n_esimators = 160'.format(forest_f1_score))"
   ]
  },
  {
   "cell_type": "markdown",
   "metadata": {},
   "source": [
    "Теперь проиллюстрируем полученные результаты на графике."
   ]
  },
  {
   "cell_type": "code",
   "execution_count": 48,
   "metadata": {
    "scrolled": false
   },
   "outputs": [
    {
     "data": {
      "image/png": "[encoded data removed]",
      "text/plain": [
       "<Figure size 1296x720 with 2 Axes>"
      ]
     },
     "metadata": {
      "needs_background": "light"
     },
     "output_type": "display_data"
    }
   ],
   "source": [
    "final_results = pd.DataFrame(\n",
    "    [[0.246, 0.511, 0.512, 0.508, 0.503],\n",
    "     [0.54, 0.591, 0.591, 0.593, 0.584],\n",
    "     [0.544, 0.635, 0.634, 0.629, 0.624]\n",
    "    ],\n",
    "    columns=[\n",
    "        'base_model',\n",
    "        'class_weight',\n",
    "        'upsampling',\n",
    "        'downsampling',\n",
    "        'updownsampling'\n",
    "    ],\n",
    "    index=[\n",
    "        'logistic_regression',\n",
    "        'decision_tree',\n",
    "        'random_forest'\n",
    "    ]\n",
    ")\n",
    "\n",
    "\n",
    "plt.figure(figsize=(18,10))\n",
    "plt.title(\n",
    "    'Матрица F1-метрики для различных моделей.',\\\n",
    "    fontsize='20',\n",
    "    pad=20\n",
    ")\n",
    "\n",
    "\n",
    "fig = sns.heatmap(final_results, annot=True, annot_kws={\"size\": 15})\n",
    "fig.set_xticklabels(\n",
    "    [\n",
    "        'Базовая модель',\n",
    "        'Взвешивание классов',\n",
    "        'Upsampling',\n",
    "        'Downsampling',\n",
    "        'Updownsampling'\n",
    "    ],\n",
    "    fontsize='12'\n",
    ")\n",
    "plt.ylabel('Тип модели', fontsize='16', labelpad=20)\n",
    "plt.xlabel('Использованный метод', fontsize='16', labelpad=20)\n",
    "fig.set_yticklabels(['Случайный лес', 'Дерево решений', 'Лог. регрессия'], fontsize='12')\n",
    "None"
   ]
  },
  {
   "cell_type": "code",
   "execution_count": 49,
   "metadata": {
    "scrolled": false
   },
   "outputs": [
    {
     "data": {
      "image/png": "[encoded data removed]",
      "text/plain": [
       "<Figure size 1080x720 with 1 Axes>"
      ]
     },
     "metadata": {
      "needs_background": "light"
     },
     "output_type": "display_data"
    }
   ],
   "source": [
    "# теперь построим ROC кривую\n",
    "forest_probabilities_test = random_forest.predict_proba(features_test)\n",
    "forest_probabilities_one_test = forest_probabilities_test[:, 1]\n",
    "forest_predictions = random_forest.predict(features_test)\n",
    "\n",
    "fpr, tpr, thresholds = roc_curve(target_test, forest_probabilities_one_test)\n",
    "\n",
    "plt.figure(figsize=(15,10))\n",
    "sns.set_theme(style=\"darkgrid\")\n",
    "\n",
    "plt.plot(fpr, tpr)\n",
    "# построим референсную линию случайной модели\n",
    "plt.plot([0, 1], [0, 1], linestyle='--')\n",
    "\n",
    "plt.xlim(0,1)\n",
    "plt.ylim(0,1)\n",
    "\n",
    "plt.xlabel('False Positive Rate', fontsize='15')\n",
    "plt.ylabel('True Positive Rate', fontsize='15')\n",
    "plt.title('ROC-кривая', fontsize='20', pad=20)\n",
    "plt.show()"
   ]
  },
  {
   "cell_type": "code",
   "execution_count": 50,
   "metadata": {},
   "outputs": [
    {
     "data": {
      "text/plain": [
       "0.8733076435552697"
      ]
     },
     "execution_count": 50,
     "metadata": {},
     "output_type": "execute_result"
    }
   ],
   "source": [
    "# оценим значение AUC ROC\n",
    "auc_roc = roc_auc_score(target_test, forest_probabilities_one_test)\n",
    "auc_roc"
   ]
  },
  {
   "cell_type": "markdown",
   "metadata": {},
   "source": [
    "Итого на тестовой выборке для нашей выбранной модели случайного леса и выбранных гиперпараметров мы получили значение метрики F1 = 0.621, что удовлетворяет нашему заданному пороговому значению в 0.59.\n",
    "\n",
    "После этого мы проиллюстрировали полученные в работы показатели метрик F1 для различных моделей и подходов к балансировке данных, а также вычислили значение AUC ROC."
   ]
  },
  {
   "cell_type": "markdown",
   "metadata": {},
   "source": [
    "## Общий вывод"
   ]
  },
  {
   "cell_type": "markdown",
   "metadata": {},
   "source": [
    "Итак, мы завершили проект \"Отток клиентов из Бета-Банка\".  \n",
    "Нам были предоставлены исторические данные о поведении клиентов и расторжении договоров с банком, на основании которых предлагалось разработать модель, предсказывающую поведение будущих клиентов на основании имеющихся признаков.\n",
    "\n",
    "Ключевой метрикой оценки работы модели была F1-метрика, итоговое значение которой должно было быть не менее 0.59.\n",
    "\n",
    "В течение проекта мы протестировали три типа модели - дерево решений, случайный лес и логистическую регрессию - до и после балансировки классов различными методами.  \n",
    "Ниже указаны наивысшие полученные значения метрики F1 и использованные при этом значения гиперпараметров:\n",
    "1. Логистическая регрессия:\n",
    "    - Базовая модель - 0.246;\n",
    "    - При балансировке весов - **0.511**;\n",
    "    - При изменении порога - 0.502;\n",
    "    - При upsampling - 0.512;\n",
    "    - При downsampling - 0.508;\n",
    "    - При одновременном использовании up & downsampling - 0.503.\n",
    "2. Дерево решений:\n",
    "    - Базовая модель - 0.54 при max_depth=9;\n",
    "    - Балансировка весов - 0.591 при max_depth=6;\n",
    "    - При upsampling - 0.591 при max_depth=6;\n",
    "    - При downsampling - **0.593** при max_depth=7;\n",
    "    - При одновременном использовании up & downsampling - 0.584 при max_depth=6.\n",
    "3. Случайный лес:\n",
    "    - Базовая модель - 0.544, при max_depth=16, n_estimators=120;\n",
    "    - Взвешивание классов - **0.635**, при max_depth=7, n_estimators=160;\n",
    "    - Upsampling - 0.634 при max_depth=7, n_estimators=140; \n",
    "    - Downsampling - 0.629 при max_depth=10, n_estimators=160;\n",
    "    - Updownsampling - 0.624 при max_depth=11, n_estimators=120;\n",
    "\n",
    "Из всех трёх моделей модель случайного леса показала наилучший результат метрики F1, равный 0.635, который удовлетворяет наш целевой показатель.\n",
    "\n",
    "Также мы построили ROС кривую и вычислили значение AUC ROC для данной модели - 0.87.\n",
    "\n",
    "Итого, задачи проекта выполнены, а цель - достигнута.\n"
   ]
  },
  {
   "cell_type": "markdown",
   "metadata": {},
   "source": [
    "## Чек-лист готовности проекта"
   ]
  },
  {
   "cell_type": "markdown",
   "metadata": {},
   "source": [
    "Поставьте 'x' в выполненных пунктах. Далее нажмите Shift+Enter."
   ]
  },
  {
   "cell_type": "markdown",
   "metadata": {},
   "source": [
    "- [x]  Jupyter Notebook открыт\n",
    "- [x]  Весь код выполняется без ошибок\n",
    "- [x]  Ячейки с кодом расположены в порядке исполнения\n",
    "- [x]  Выполнен шаг 1: данные подготовлены\n",
    "- [x]  Выполнен шаг 2: задача исследована\n",
    "    - [x]  Исследован баланс классов\n",
    "    - [x]  Изучены модели без учёта дисбаланса\n",
    "    - [x]  Написаны выводы по результатам исследования\n",
    "- [x]  Выполнен шаг 3: учтён дисбаланс\n",
    "    - [x]  Применено несколько способов борьбы с дисбалансом\n",
    "    - [x]  Написаны выводы по результатам исследования\n",
    "- [x]  Выполнен шаг 4: проведено тестирование\n",
    "- [x]  Удалось достичь *F1*-меры не менее 0.59\n",
    "- [x]  Исследована метрика *AUC-ROC*"
   ]
  }
 ],
 "metadata": {
  "ExecuteTimeLog": [
   {
    "duration": 1079,
    "start_time": "2023-12-20T15:22:02.870Z"
   },
   {
    "duration": 4,
    "start_time": "2023-12-20T15:23:38.998Z"
   },
   {
    "duration": 103,
    "start_time": "2023-12-20T15:32:59.051Z"
   },
   {
    "duration": 59,
    "start_time": "2023-12-20T15:33:12.061Z"
   },
   {
    "duration": 19,
    "start_time": "2023-12-20T15:39:30.181Z"
   },
   {
    "duration": 5,
    "start_time": "2023-12-20T15:40:53.324Z"
   },
   {
    "duration": 21,
    "start_time": "2023-12-20T15:43:00.319Z"
   },
   {
    "duration": 13,
    "start_time": "2023-12-20T15:44:44.426Z"
   },
   {
    "duration": 4,
    "start_time": "2023-12-20T15:44:59.486Z"
   },
   {
    "duration": 12,
    "start_time": "2023-12-20T15:45:23.295Z"
   },
   {
    "duration": 21,
    "start_time": "2023-12-20T15:45:55.523Z"
   },
   {
    "duration": 4,
    "start_time": "2023-12-20T15:46:09.112Z"
   },
   {
    "duration": 13,
    "start_time": "2023-12-20T15:46:46.535Z"
   },
   {
    "duration": 16,
    "start_time": "2023-12-20T15:47:13.796Z"
   },
   {
    "duration": 18,
    "start_time": "2023-12-20T15:47:20.725Z"
   },
   {
    "duration": 19,
    "start_time": "2023-12-20T15:47:33.198Z"
   },
   {
    "duration": 11,
    "start_time": "2023-12-20T15:47:52.127Z"
   },
   {
    "duration": 29,
    "start_time": "2023-12-20T15:48:01.393Z"
   },
   {
    "duration": 16,
    "start_time": "2023-12-20T15:48:44.862Z"
   },
   {
    "duration": 172,
    "start_time": "2023-12-20T15:53:25.521Z"
   },
   {
    "duration": 18,
    "start_time": "2023-12-20T15:53:44.631Z"
   },
   {
    "duration": 17,
    "start_time": "2023-12-20T15:54:14.096Z"
   },
   {
    "duration": 16,
    "start_time": "2023-12-20T15:54:18.463Z"
   },
   {
    "duration": 17,
    "start_time": "2023-12-20T15:54:57.228Z"
   },
   {
    "duration": 1131,
    "start_time": "2023-12-20T15:59:21.730Z"
   },
   {
    "duration": 67,
    "start_time": "2023-12-20T15:59:22.863Z"
   },
   {
    "duration": 3,
    "start_time": "2023-12-20T15:59:22.932Z"
   },
   {
    "duration": 25,
    "start_time": "2023-12-20T15:59:22.937Z"
   },
   {
    "duration": 45,
    "start_time": "2023-12-20T15:59:22.964Z"
   },
   {
    "duration": 23,
    "start_time": "2023-12-20T15:59:23.011Z"
   },
   {
    "duration": 31,
    "start_time": "2023-12-20T15:59:23.035Z"
   },
   {
    "duration": 26,
    "start_time": "2023-12-20T15:59:23.068Z"
   },
   {
    "duration": 9,
    "start_time": "2023-12-20T15:59:23.096Z"
   },
   {
    "duration": 104,
    "start_time": "2023-12-20T16:01:05.565Z"
   },
   {
    "duration": 14,
    "start_time": "2023-12-20T16:02:51.488Z"
   },
   {
    "duration": 20,
    "start_time": "2023-12-20T16:02:56.798Z"
   },
   {
    "duration": 19,
    "start_time": "2023-12-20T16:03:03.752Z"
   },
   {
    "duration": 20,
    "start_time": "2023-12-20T16:05:03.163Z"
   },
   {
    "duration": 18,
    "start_time": "2023-12-20T16:35:40.341Z"
   },
   {
    "duration": 17,
    "start_time": "2023-12-20T16:45:13.419Z"
   },
   {
    "duration": 25,
    "start_time": "2023-12-20T16:45:34.228Z"
   },
   {
    "duration": 14,
    "start_time": "2023-12-20T16:45:54.089Z"
   },
   {
    "duration": 20,
    "start_time": "2023-12-20T16:46:34.524Z"
   },
   {
    "duration": 16,
    "start_time": "2023-12-20T16:46:49.605Z"
   },
   {
    "duration": 17,
    "start_time": "2023-12-20T16:47:05.338Z"
   },
   {
    "duration": 70,
    "start_time": "2023-12-20T16:47:16.260Z"
   },
   {
    "duration": 16,
    "start_time": "2023-12-20T16:47:21.390Z"
   },
   {
    "duration": 13,
    "start_time": "2023-12-20T16:56:51.896Z"
   },
   {
    "duration": 18,
    "start_time": "2023-12-20T16:56:58.352Z"
   },
   {
    "duration": 21,
    "start_time": "2023-12-20T16:57:14.864Z"
   },
   {
    "duration": 3,
    "start_time": "2023-12-20T17:01:09.223Z"
   },
   {
    "duration": 15,
    "start_time": "2023-12-20T17:01:16.044Z"
   },
   {
    "duration": 20,
    "start_time": "2023-12-20T17:09:03.339Z"
   },
   {
    "duration": 4,
    "start_time": "2023-12-20T17:09:23.853Z"
   },
   {
    "duration": 4,
    "start_time": "2023-12-20T17:09:28.986Z"
   },
   {
    "duration": 4,
    "start_time": "2023-12-20T17:09:32.976Z"
   },
   {
    "duration": 4,
    "start_time": "2023-12-20T17:09:40.222Z"
   },
   {
    "duration": 4,
    "start_time": "2023-12-20T17:09:44.646Z"
   },
   {
    "duration": 5,
    "start_time": "2023-12-20T17:11:08.738Z"
   },
   {
    "duration": 1123,
    "start_time": "2023-12-20T17:11:55.151Z"
   },
   {
    "duration": 810,
    "start_time": "2023-12-20T17:12:13.289Z"
   },
   {
    "duration": 668,
    "start_time": "2023-12-20T17:12:36.540Z"
   },
   {
    "duration": 21,
    "start_time": "2023-12-20T17:21:57.883Z"
   },
   {
    "duration": 6,
    "start_time": "2023-12-20T17:42:31.673Z"
   },
   {
    "duration": 20,
    "start_time": "2023-12-20T17:42:54.385Z"
   },
   {
    "duration": 108,
    "start_time": "2023-12-20T17:43:59.540Z"
   },
   {
    "duration": 4,
    "start_time": "2023-12-20T17:44:12.350Z"
   },
   {
    "duration": 19,
    "start_time": "2023-12-20T17:44:18.186Z"
   },
   {
    "duration": 6,
    "start_time": "2023-12-20T17:46:33.164Z"
   },
   {
    "duration": 4,
    "start_time": "2023-12-20T17:48:45.087Z"
   },
   {
    "duration": 3,
    "start_time": "2023-12-20T17:48:51.102Z"
   },
   {
    "duration": 6,
    "start_time": "2023-12-20T17:51:01.055Z"
   },
   {
    "duration": 9,
    "start_time": "2023-12-20T17:52:06.264Z"
   },
   {
    "duration": 43,
    "start_time": "2023-12-20T18:08:12.848Z"
   },
   {
    "duration": 4,
    "start_time": "2023-12-20T18:09:13.642Z"
   },
   {
    "duration": 13,
    "start_time": "2023-12-20T18:22:35.554Z"
   },
   {
    "duration": 16,
    "start_time": "2023-12-20T18:22:49.296Z"
   },
   {
    "duration": 20,
    "start_time": "2023-12-20T18:26:38.272Z"
   },
   {
    "duration": 16,
    "start_time": "2023-12-20T18:27:57.181Z"
   },
   {
    "duration": 15,
    "start_time": "2023-12-20T18:28:01.290Z"
   },
   {
    "duration": 12,
    "start_time": "2023-12-20T18:28:36.660Z"
   },
   {
    "duration": 6,
    "start_time": "2023-12-20T18:28:37.819Z"
   },
   {
    "duration": 11,
    "start_time": "2023-12-20T18:28:43.743Z"
   },
   {
    "duration": 11,
    "start_time": "2023-12-20T18:28:49.710Z"
   },
   {
    "duration": 8,
    "start_time": "2023-12-20T18:31:56.485Z"
   },
   {
    "duration": 5,
    "start_time": "2023-12-20T18:33:14.597Z"
   },
   {
    "duration": 5,
    "start_time": "2023-12-20T18:33:27.699Z"
   },
   {
    "duration": 4,
    "start_time": "2023-12-20T18:33:31.845Z"
   },
   {
    "duration": 4,
    "start_time": "2023-12-20T18:33:39.796Z"
   },
   {
    "duration": 4,
    "start_time": "2023-12-20T18:33:44.817Z"
   },
   {
    "duration": 12,
    "start_time": "2023-12-20T18:35:23.984Z"
   },
   {
    "duration": 15,
    "start_time": "2023-12-20T18:35:48.947Z"
   },
   {
    "duration": 5,
    "start_time": "2023-12-20T18:35:52.753Z"
   },
   {
    "duration": 12,
    "start_time": "2023-12-20T18:38:09.912Z"
   },
   {
    "duration": 18,
    "start_time": "2023-12-20T18:38:46.359Z"
   },
   {
    "duration": 15,
    "start_time": "2023-12-20T18:38:52.235Z"
   },
   {
    "duration": 5,
    "start_time": "2023-12-20T18:40:39.045Z"
   },
   {
    "duration": 15,
    "start_time": "2023-12-20T18:40:47.346Z"
   },
   {
    "duration": 5,
    "start_time": "2023-12-20T18:41:03.907Z"
   },
   {
    "duration": 6,
    "start_time": "2023-12-20T18:42:29.725Z"
   },
   {
    "duration": 8,
    "start_time": "2023-12-20T18:42:31.755Z"
   },
   {
    "duration": 19,
    "start_time": "2023-12-20T18:42:36.579Z"
   },
   {
    "duration": 6,
    "start_time": "2023-12-20T18:42:38.003Z"
   },
   {
    "duration": 12,
    "start_time": "2023-12-20T18:42:38.560Z"
   },
   {
    "duration": 16,
    "start_time": "2023-12-20T18:42:42.179Z"
   },
   {
    "duration": 33,
    "start_time": "2023-12-20T18:42:53.589Z"
   },
   {
    "duration": 1075,
    "start_time": "2023-12-20T18:44:04.504Z"
   },
   {
    "duration": 68,
    "start_time": "2023-12-20T18:44:05.581Z"
   },
   {
    "duration": 3,
    "start_time": "2023-12-20T18:44:05.651Z"
   },
   {
    "duration": 29,
    "start_time": "2023-12-20T18:44:05.655Z"
   },
   {
    "duration": 41,
    "start_time": "2023-12-20T18:44:05.686Z"
   },
   {
    "duration": 55,
    "start_time": "2023-12-20T18:44:05.728Z"
   },
   {
    "duration": 13,
    "start_time": "2023-12-20T18:44:05.784Z"
   },
   {
    "duration": 38,
    "start_time": "2023-12-20T18:44:05.798Z"
   },
   {
    "duration": 19,
    "start_time": "2023-12-20T18:44:05.838Z"
   },
   {
    "duration": 27,
    "start_time": "2023-12-20T18:44:05.858Z"
   },
   {
    "duration": 993,
    "start_time": "2023-12-20T18:44:05.887Z"
   },
   {
    "duration": 5,
    "start_time": "2023-12-20T18:44:06.881Z"
   },
   {
    "duration": 27,
    "start_time": "2023-12-20T18:44:06.887Z"
   },
   {
    "duration": 28,
    "start_time": "2023-12-20T18:44:06.916Z"
   },
   {
    "duration": 76,
    "start_time": "2023-12-20T18:44:06.945Z"
   },
   {
    "duration": 8,
    "start_time": "2023-12-20T18:44:07.022Z"
   },
   {
    "duration": 51,
    "start_time": "2023-12-20T18:44:07.031Z"
   },
   {
    "duration": 138,
    "start_time": "2023-12-20T18:53:23.544Z"
   },
   {
    "duration": 36,
    "start_time": "2023-12-20T18:53:39.216Z"
   },
   {
    "duration": 13,
    "start_time": "2023-12-20T18:54:20.961Z"
   },
   {
    "duration": 32,
    "start_time": "2023-12-20T18:54:45.104Z"
   },
   {
    "duration": 1093,
    "start_time": "2023-12-20T18:55:04.708Z"
   },
   {
    "duration": 73,
    "start_time": "2023-12-20T18:55:05.803Z"
   },
   {
    "duration": 3,
    "start_time": "2023-12-20T18:55:05.878Z"
   },
   {
    "duration": 30,
    "start_time": "2023-12-20T18:55:05.882Z"
   },
   {
    "duration": 39,
    "start_time": "2023-12-20T18:55:05.915Z"
   },
   {
    "duration": 32,
    "start_time": "2023-12-20T18:55:05.956Z"
   },
   {
    "duration": 9,
    "start_time": "2023-12-20T18:55:05.989Z"
   },
   {
    "duration": 38,
    "start_time": "2023-12-20T18:55:05.999Z"
   },
   {
    "duration": 15,
    "start_time": "2023-12-20T18:55:06.039Z"
   },
   {
    "duration": 33,
    "start_time": "2023-12-20T18:55:06.055Z"
   },
   {
    "duration": 971,
    "start_time": "2023-12-20T18:55:06.090Z"
   },
   {
    "duration": 11,
    "start_time": "2023-12-20T18:55:07.065Z"
   },
   {
    "duration": 5,
    "start_time": "2023-12-20T18:55:07.082Z"
   },
   {
    "duration": 44,
    "start_time": "2023-12-20T18:55:07.089Z"
   },
   {
    "duration": 87,
    "start_time": "2023-12-20T18:55:07.134Z"
   },
   {
    "duration": 56,
    "start_time": "2023-12-20T18:55:07.222Z"
   },
   {
    "duration": 76,
    "start_time": "2023-12-20T18:56:21.802Z"
   },
   {
    "duration": 453,
    "start_time": "2023-12-20T18:56:25.343Z"
   },
   {
    "duration": 457,
    "start_time": "2023-12-20T19:01:42.662Z"
   },
   {
    "duration": 505,
    "start_time": "2023-12-20T19:03:14.172Z"
   },
   {
    "duration": 206,
    "start_time": "2023-12-20T19:09:22.203Z"
   },
   {
    "duration": 65115,
    "start_time": "2023-12-20T19:10:13.839Z"
   },
   {
    "duration": 50,
    "start_time": "2023-12-21T09:39:23.197Z"
   },
   {
    "duration": 1163,
    "start_time": "2023-12-21T09:39:35.932Z"
   },
   {
    "duration": 192,
    "start_time": "2023-12-21T09:39:37.097Z"
   },
   {
    "duration": 4,
    "start_time": "2023-12-21T09:39:37.291Z"
   },
   {
    "duration": 14,
    "start_time": "2023-12-21T09:39:37.297Z"
   },
   {
    "duration": 17,
    "start_time": "2023-12-21T09:39:37.314Z"
   },
   {
    "duration": 23,
    "start_time": "2023-12-21T09:39:37.333Z"
   },
   {
    "duration": 9,
    "start_time": "2023-12-21T09:39:37.358Z"
   },
   {
    "duration": 22,
    "start_time": "2023-12-21T09:39:37.369Z"
   },
   {
    "duration": 38,
    "start_time": "2023-12-21T09:39:37.393Z"
   },
   {
    "duration": 14,
    "start_time": "2023-12-21T09:39:37.433Z"
   },
   {
    "duration": 1314,
    "start_time": "2023-12-21T09:39:37.449Z"
   },
   {
    "duration": 7,
    "start_time": "2023-12-21T09:39:38.765Z"
   },
   {
    "duration": 8,
    "start_time": "2023-12-21T09:39:38.774Z"
   },
   {
    "duration": 28,
    "start_time": "2023-12-21T09:39:38.784Z"
   },
   {
    "duration": 28,
    "start_time": "2023-12-21T09:39:38.814Z"
   },
   {
    "duration": 510,
    "start_time": "2023-12-21T09:39:38.844Z"
   },
   {
    "duration": 387,
    "start_time": "2023-12-21T09:39:39.356Z"
   },
   {
    "duration": 4,
    "start_time": "2023-12-21T09:42:49.413Z"
   },
   {
    "duration": 15,
    "start_time": "2023-12-21T09:44:06.047Z"
   },
   {
    "duration": 19,
    "start_time": "2023-12-21T09:44:32.703Z"
   },
   {
    "duration": 440,
    "start_time": "2023-12-21T09:45:29.430Z"
   },
   {
    "duration": 11,
    "start_time": "2023-12-21T09:46:05.989Z"
   },
   {
    "duration": 119,
    "start_time": "2023-12-21T09:46:24.534Z"
   },
   {
    "duration": 1179,
    "start_time": "2023-12-21T10:00:44.469Z"
   },
   {
    "duration": 73,
    "start_time": "2023-12-21T10:00:45.650Z"
   },
   {
    "duration": 3,
    "start_time": "2023-12-21T10:00:45.725Z"
   },
   {
    "duration": 17,
    "start_time": "2023-12-21T10:00:45.730Z"
   },
   {
    "duration": 19,
    "start_time": "2023-12-21T10:00:45.750Z"
   },
   {
    "duration": 34,
    "start_time": "2023-12-21T10:00:45.771Z"
   },
   {
    "duration": 8,
    "start_time": "2023-12-21T10:00:45.807Z"
   },
   {
    "duration": 26,
    "start_time": "2023-12-21T10:00:45.817Z"
   },
   {
    "duration": 9,
    "start_time": "2023-12-21T10:00:45.846Z"
   },
   {
    "duration": 15,
    "start_time": "2023-12-21T10:00:45.857Z"
   },
   {
    "duration": 1122,
    "start_time": "2023-12-21T10:00:45.874Z"
   },
   {
    "duration": 5,
    "start_time": "2023-12-21T10:00:46.998Z"
   },
   {
    "duration": 37,
    "start_time": "2023-12-21T10:00:47.005Z"
   },
   {
    "duration": 46,
    "start_time": "2023-12-21T10:00:47.049Z"
   },
   {
    "duration": 104,
    "start_time": "2023-12-21T10:00:47.097Z"
   },
   {
    "duration": 536,
    "start_time": "2023-12-21T10:00:47.203Z"
   },
   {
    "duration": 15,
    "start_time": "2023-12-21T10:00:47.748Z"
   },
   {
    "duration": 181,
    "start_time": "2023-12-21T10:00:47.765Z"
   },
   {
    "duration": 1124,
    "start_time": "2023-12-21T10:01:23.577Z"
   },
   {
    "duration": 77,
    "start_time": "2023-12-21T10:01:24.703Z"
   },
   {
    "duration": 3,
    "start_time": "2023-12-21T10:01:24.783Z"
   },
   {
    "duration": 11,
    "start_time": "2023-12-21T10:01:24.788Z"
   },
   {
    "duration": 41,
    "start_time": "2023-12-21T10:01:24.802Z"
   },
   {
    "duration": 23,
    "start_time": "2023-12-21T10:01:24.846Z"
   },
   {
    "duration": 8,
    "start_time": "2023-12-21T10:01:24.870Z"
   },
   {
    "duration": 18,
    "start_time": "2023-12-21T10:01:24.880Z"
   },
   {
    "duration": 38,
    "start_time": "2023-12-21T10:01:24.900Z"
   },
   {
    "duration": 16,
    "start_time": "2023-12-21T10:01:24.940Z"
   },
   {
    "duration": 1063,
    "start_time": "2023-12-21T10:01:24.958Z"
   },
   {
    "duration": 14,
    "start_time": "2023-12-21T10:01:26.022Z"
   },
   {
    "duration": 8,
    "start_time": "2023-12-21T10:01:26.041Z"
   },
   {
    "duration": 295,
    "start_time": "2023-12-21T10:01:26.052Z"
   },
   {
    "duration": 136,
    "start_time": "2023-12-21T10:01:26.348Z"
   },
   {
    "duration": 7596,
    "start_time": "2023-12-21T10:01:26.486Z"
   },
   {
    "duration": 534,
    "start_time": "2023-12-21T10:01:34.084Z"
   },
   {
    "duration": 3717,
    "start_time": "2023-12-21T10:01:34.620Z"
   },
   {
    "duration": 1245,
    "start_time": "2023-12-21T10:04:02.042Z"
   },
   {
    "duration": 84,
    "start_time": "2023-12-21T10:04:03.289Z"
   },
   {
    "duration": 4,
    "start_time": "2023-12-21T10:04:03.374Z"
   },
   {
    "duration": 16,
    "start_time": "2023-12-21T10:04:03.380Z"
   },
   {
    "duration": 26,
    "start_time": "2023-12-21T10:04:03.398Z"
   },
   {
    "duration": 33,
    "start_time": "2023-12-21T10:04:03.426Z"
   },
   {
    "duration": 45,
    "start_time": "2023-12-21T10:04:03.460Z"
   },
   {
    "duration": 74,
    "start_time": "2023-12-21T10:04:03.507Z"
   },
   {
    "duration": 11,
    "start_time": "2023-12-21T10:04:03.583Z"
   },
   {
    "duration": 14,
    "start_time": "2023-12-21T10:04:03.598Z"
   },
   {
    "duration": 1081,
    "start_time": "2023-12-21T10:04:03.614Z"
   },
   {
    "duration": 6,
    "start_time": "2023-12-21T10:04:04.697Z"
   },
   {
    "duration": 9,
    "start_time": "2023-12-21T10:04:04.704Z"
   },
   {
    "duration": 306,
    "start_time": "2023-12-21T10:04:04.715Z"
   },
   {
    "duration": 141,
    "start_time": "2023-12-21T10:04:05.033Z"
   },
   {
    "duration": 7644,
    "start_time": "2023-12-21T10:04:05.176Z"
   },
   {
    "duration": 53270,
    "start_time": "2023-12-21T10:04:12.822Z"
   },
   {
    "duration": 0,
    "start_time": "2023-12-21T10:05:06.094Z"
   },
   {
    "duration": 0,
    "start_time": "2023-12-21T10:05:06.095Z"
   },
   {
    "duration": 1182,
    "start_time": "2023-12-21T10:05:31.876Z"
   },
   {
    "duration": 78,
    "start_time": "2023-12-21T10:05:33.060Z"
   },
   {
    "duration": 19,
    "start_time": "2023-12-21T10:05:33.143Z"
   },
   {
    "duration": 17,
    "start_time": "2023-12-21T10:05:33.164Z"
   },
   {
    "duration": 27,
    "start_time": "2023-12-21T10:05:33.183Z"
   },
   {
    "duration": 31,
    "start_time": "2023-12-21T10:05:33.212Z"
   },
   {
    "duration": 9,
    "start_time": "2023-12-21T10:05:33.245Z"
   },
   {
    "duration": 32,
    "start_time": "2023-12-21T10:05:33.256Z"
   },
   {
    "duration": 9,
    "start_time": "2023-12-21T10:05:33.290Z"
   },
   {
    "duration": 18,
    "start_time": "2023-12-21T10:05:33.301Z"
   },
   {
    "duration": 1067,
    "start_time": "2023-12-21T10:05:33.331Z"
   },
   {
    "duration": 5,
    "start_time": "2023-12-21T10:05:34.400Z"
   },
   {
    "duration": 41,
    "start_time": "2023-12-21T10:05:34.406Z"
   },
   {
    "duration": 25,
    "start_time": "2023-12-21T10:05:34.450Z"
   },
   {
    "duration": 108,
    "start_time": "2023-12-21T10:05:34.477Z"
   },
   {
    "duration": 476,
    "start_time": "2023-12-21T10:05:34.587Z"
   },
   {
    "duration": 64856,
    "start_time": "2023-12-21T10:05:35.065Z"
   },
   {
    "duration": 21,
    "start_time": "2023-12-21T10:06:39.923Z"
   },
   {
    "duration": 195,
    "start_time": "2023-12-21T10:06:39.947Z"
   },
   {
    "duration": 22,
    "start_time": "2023-12-21T10:11:13.165Z"
   },
   {
    "duration": 20,
    "start_time": "2023-12-21T10:11:16.500Z"
   },
   {
    "duration": 51,
    "start_time": "2023-12-21T10:19:33.350Z"
   },
   {
    "duration": 21,
    "start_time": "2023-12-21T10:19:55.998Z"
   },
   {
    "duration": 4,
    "start_time": "2023-12-21T10:22:18.724Z"
   },
   {
    "duration": 17,
    "start_time": "2023-12-21T10:26:20.041Z"
   },
   {
    "duration": 23,
    "start_time": "2023-12-21T10:26:33.816Z"
   },
   {
    "duration": 247,
    "start_time": "2023-12-21T10:26:50.769Z"
   },
   {
    "duration": 10,
    "start_time": "2023-12-21T10:27:01.717Z"
   },
   {
    "duration": 10,
    "start_time": "2023-12-21T10:27:15.701Z"
   },
   {
    "duration": 9,
    "start_time": "2023-12-21T10:27:21.641Z"
   },
   {
    "duration": 7,
    "start_time": "2023-12-21T10:27:29.275Z"
   },
   {
    "duration": 14,
    "start_time": "2023-12-21T10:29:48.190Z"
   },
   {
    "duration": 4,
    "start_time": "2023-12-21T10:30:01.054Z"
   },
   {
    "duration": 62,
    "start_time": "2023-12-21T10:30:05.884Z"
   },
   {
    "duration": 68,
    "start_time": "2023-12-21T10:30:46.171Z"
   },
   {
    "duration": 4,
    "start_time": "2023-12-21T10:31:34.120Z"
   },
   {
    "duration": 4,
    "start_time": "2023-12-21T10:31:38.086Z"
   },
   {
    "duration": 5,
    "start_time": "2023-12-21T10:31:44.258Z"
   },
   {
    "duration": 169,
    "start_time": "2023-12-21T10:32:45.377Z"
   },
   {
    "duration": 210,
    "start_time": "2023-12-21T10:33:02.024Z"
   },
   {
    "duration": 147,
    "start_time": "2023-12-21T10:33:12.417Z"
   },
   {
    "duration": 149,
    "start_time": "2023-12-21T10:33:31.319Z"
   },
   {
    "duration": 1085,
    "start_time": "2023-12-21T10:34:23.479Z"
   },
   {
    "duration": 75,
    "start_time": "2023-12-21T10:34:24.566Z"
   },
   {
    "duration": 3,
    "start_time": "2023-12-21T10:34:24.648Z"
   },
   {
    "duration": 12,
    "start_time": "2023-12-21T10:34:24.654Z"
   },
   {
    "duration": 24,
    "start_time": "2023-12-21T10:34:24.668Z"
   },
   {
    "duration": 26,
    "start_time": "2023-12-21T10:34:24.694Z"
   },
   {
    "duration": 9,
    "start_time": "2023-12-21T10:34:24.741Z"
   },
   {
    "duration": 17,
    "start_time": "2023-12-21T10:34:24.752Z"
   },
   {
    "duration": 10,
    "start_time": "2023-12-21T10:34:24.770Z"
   },
   {
    "duration": 14,
    "start_time": "2023-12-21T10:34:24.783Z"
   },
   {
    "duration": 1085,
    "start_time": "2023-12-21T10:34:24.799Z"
   },
   {
    "duration": 6,
    "start_time": "2023-12-21T10:34:25.885Z"
   },
   {
    "duration": 21,
    "start_time": "2023-12-21T10:34:25.892Z"
   },
   {
    "duration": 107,
    "start_time": "2023-12-21T10:34:25.915Z"
   },
   {
    "duration": 23,
    "start_time": "2023-12-21T10:34:26.023Z"
   },
   {
    "duration": 496,
    "start_time": "2023-12-21T10:34:26.048Z"
   },
   {
    "duration": 1237,
    "start_time": "2023-12-21T10:34:44.846Z"
   },
   {
    "duration": 90,
    "start_time": "2023-12-21T10:34:46.085Z"
   },
   {
    "duration": 4,
    "start_time": "2023-12-21T10:34:46.179Z"
   },
   {
    "duration": 66,
    "start_time": "2023-12-21T10:34:46.185Z"
   },
   {
    "duration": 39,
    "start_time": "2023-12-21T10:34:46.253Z"
   },
   {
    "duration": 27,
    "start_time": "2023-12-21T10:34:46.294Z"
   },
   {
    "duration": 13,
    "start_time": "2023-12-21T10:34:46.322Z"
   },
   {
    "duration": 21,
    "start_time": "2023-12-21T10:34:46.340Z"
   },
   {
    "duration": 9,
    "start_time": "2023-12-21T10:34:46.362Z"
   },
   {
    "duration": 27,
    "start_time": "2023-12-21T10:34:46.373Z"
   },
   {
    "duration": 1109,
    "start_time": "2023-12-21T10:34:46.402Z"
   },
   {
    "duration": 5,
    "start_time": "2023-12-21T10:34:47.513Z"
   },
   {
    "duration": 42,
    "start_time": "2023-12-21T10:34:47.521Z"
   },
   {
    "duration": 117,
    "start_time": "2023-12-21T10:34:47.565Z"
   },
   {
    "duration": 14,
    "start_time": "2023-12-21T10:34:47.684Z"
   },
   {
    "duration": 540,
    "start_time": "2023-12-21T10:34:47.700Z"
   },
   {
    "duration": 12,
    "start_time": "2023-12-21T10:34:48.242Z"
   },
   {
    "duration": 84,
    "start_time": "2023-12-21T10:34:48.256Z"
   },
   {
    "duration": 108,
    "start_time": "2023-12-21T10:34:48.345Z"
   },
   {
    "duration": 311,
    "start_time": "2023-12-21T10:34:48.455Z"
   },
   {
    "duration": 4,
    "start_time": "2023-12-21T10:34:48.768Z"
   },
   {
    "duration": 13,
    "start_time": "2023-12-21T10:34:48.773Z"
   },
   {
    "duration": 114,
    "start_time": "2023-12-21T10:35:12.125Z"
   },
   {
    "duration": 226,
    "start_time": "2023-12-21T10:35:24.541Z"
   },
   {
    "duration": 203,
    "start_time": "2023-12-21T10:35:49.349Z"
   },
   {
    "duration": 4,
    "start_time": "2023-12-21T10:54:45.168Z"
   },
   {
    "duration": 5,
    "start_time": "2023-12-21T10:56:01.587Z"
   },
   {
    "duration": 5,
    "start_time": "2023-12-21T10:57:07.514Z"
   },
   {
    "duration": 118,
    "start_time": "2023-12-21T11:01:40.623Z"
   },
   {
    "duration": 11,
    "start_time": "2023-12-21T11:01:55.424Z"
   },
   {
    "duration": 15,
    "start_time": "2023-12-21T11:02:04.852Z"
   },
   {
    "duration": 13,
    "start_time": "2023-12-21T11:03:39.064Z"
   },
   {
    "duration": 14,
    "start_time": "2023-12-21T11:03:44.250Z"
   },
   {
    "duration": 13,
    "start_time": "2023-12-21T11:03:55.001Z"
   },
   {
    "duration": 116,
    "start_time": "2023-12-21T11:06:23.819Z"
   },
   {
    "duration": 17,
    "start_time": "2023-12-21T11:06:32.275Z"
   },
   {
    "duration": 11,
    "start_time": "2023-12-21T11:07:05.097Z"
   },
   {
    "duration": 383,
    "start_time": "2023-12-21T11:07:18.873Z"
   },
   {
    "duration": 459,
    "start_time": "2023-12-21T11:07:35.246Z"
   },
   {
    "duration": 1260,
    "start_time": "2023-12-21T11:10:05.429Z"
   },
   {
    "duration": 83,
    "start_time": "2023-12-21T11:10:06.691Z"
   },
   {
    "duration": 4,
    "start_time": "2023-12-21T11:10:06.776Z"
   },
   {
    "duration": 8,
    "start_time": "2023-12-21T11:10:06.783Z"
   },
   {
    "duration": 36,
    "start_time": "2023-12-21T11:10:06.794Z"
   },
   {
    "duration": 26,
    "start_time": "2023-12-21T11:10:06.832Z"
   },
   {
    "duration": 9,
    "start_time": "2023-12-21T11:10:06.860Z"
   },
   {
    "duration": 36,
    "start_time": "2023-12-21T11:10:06.870Z"
   },
   {
    "duration": 23,
    "start_time": "2023-12-21T11:10:06.908Z"
   },
   {
    "duration": 19,
    "start_time": "2023-12-21T11:10:06.932Z"
   },
   {
    "duration": 1025,
    "start_time": "2023-12-21T11:10:06.953Z"
   },
   {
    "duration": 5,
    "start_time": "2023-12-21T11:10:07.980Z"
   },
   {
    "duration": 26,
    "start_time": "2023-12-21T11:10:07.986Z"
   },
   {
    "duration": 117,
    "start_time": "2023-12-21T11:10:08.015Z"
   },
   {
    "duration": 14,
    "start_time": "2023-12-21T11:10:08.135Z"
   },
   {
    "duration": 14,
    "start_time": "2023-12-21T11:10:08.151Z"
   },
   {
    "duration": 445,
    "start_time": "2023-12-21T11:10:08.167Z"
   },
   {
    "duration": 61262,
    "start_time": "2023-12-21T11:10:08.614Z"
   },
   {
    "duration": 56,
    "start_time": "2023-12-21T11:11:09.877Z"
   },
   {
    "duration": 108,
    "start_time": "2023-12-21T11:11:09.935Z"
   },
   {
    "duration": 308,
    "start_time": "2023-12-21T11:11:10.046Z"
   },
   {
    "duration": 4,
    "start_time": "2023-12-21T11:11:10.355Z"
   },
   {
    "duration": 30,
    "start_time": "2023-12-21T11:11:10.361Z"
   },
   {
    "duration": 133,
    "start_time": "2023-12-21T11:11:10.392Z"
   },
   {
    "duration": 4,
    "start_time": "2023-12-21T11:15:00.495Z"
   },
   {
    "duration": 4,
    "start_time": "2023-12-21T11:15:16.118Z"
   },
   {
    "duration": 15,
    "start_time": "2023-12-21T11:15:17.531Z"
   },
   {
    "duration": 6,
    "start_time": "2023-12-21T11:16:31.023Z"
   },
   {
    "duration": 7,
    "start_time": "2023-12-21T11:17:28.730Z"
   },
   {
    "duration": 1190,
    "start_time": "2023-12-21T11:18:10.668Z"
   },
   {
    "duration": 83,
    "start_time": "2023-12-21T11:18:11.861Z"
   },
   {
    "duration": 5,
    "start_time": "2023-12-21T11:18:11.946Z"
   },
   {
    "duration": 36,
    "start_time": "2023-12-21T11:18:11.953Z"
   },
   {
    "duration": 36,
    "start_time": "2023-12-21T11:18:11.992Z"
   },
   {
    "duration": 33,
    "start_time": "2023-12-21T11:18:12.029Z"
   },
   {
    "duration": 15,
    "start_time": "2023-12-21T11:18:12.064Z"
   },
   {
    "duration": 22,
    "start_time": "2023-12-21T11:18:12.081Z"
   },
   {
    "duration": 31,
    "start_time": "2023-12-21T11:18:12.105Z"
   },
   {
    "duration": 30,
    "start_time": "2023-12-21T11:18:12.138Z"
   },
   {
    "duration": 1067,
    "start_time": "2023-12-21T11:18:12.169Z"
   },
   {
    "duration": 6,
    "start_time": "2023-12-21T11:18:13.239Z"
   },
   {
    "duration": 31,
    "start_time": "2023-12-21T11:18:13.248Z"
   },
   {
    "duration": 117,
    "start_time": "2023-12-21T11:18:13.283Z"
   },
   {
    "duration": 14,
    "start_time": "2023-12-21T11:18:13.402Z"
   },
   {
    "duration": 485,
    "start_time": "2023-12-21T11:18:13.431Z"
   },
   {
    "duration": 62788,
    "start_time": "2023-12-21T11:18:13.918Z"
   },
   {
    "duration": 24,
    "start_time": "2023-12-21T11:19:16.708Z"
   },
   {
    "duration": 98,
    "start_time": "2023-12-21T11:19:16.733Z"
   },
   {
    "duration": 106,
    "start_time": "2023-12-21T11:19:16.833Z"
   },
   {
    "duration": 316,
    "start_time": "2023-12-21T11:19:16.941Z"
   },
   {
    "duration": 5,
    "start_time": "2023-12-21T11:19:17.258Z"
   },
   {
    "duration": 43,
    "start_time": "2023-12-21T11:19:17.264Z"
   },
   {
    "duration": 50,
    "start_time": "2023-12-21T11:19:17.310Z"
   },
   {
    "duration": 26,
    "start_time": "2023-12-21T11:19:17.362Z"
   },
   {
    "duration": 120,
    "start_time": "2023-12-21T11:22:53.452Z"
   },
   {
    "duration": 14,
    "start_time": "2023-12-21T11:22:57.008Z"
   },
   {
    "duration": 25,
    "start_time": "2023-12-21T11:22:57.680Z"
   },
   {
    "duration": 12,
    "start_time": "2023-12-21T11:24:18.064Z"
   },
   {
    "duration": 12,
    "start_time": "2023-12-21T11:24:22.907Z"
   },
   {
    "duration": 12,
    "start_time": "2023-12-21T11:24:26.832Z"
   },
   {
    "duration": 12,
    "start_time": "2023-12-21T11:24:31.196Z"
   },
   {
    "duration": 13,
    "start_time": "2023-12-21T11:24:49.186Z"
   },
   {
    "duration": 5,
    "start_time": "2023-12-21T11:25:00.255Z"
   },
   {
    "duration": 12,
    "start_time": "2023-12-21T11:26:35.944Z"
   },
   {
    "duration": 26,
    "start_time": "2023-12-21T11:26:36.821Z"
   },
   {
    "duration": 10,
    "start_time": "2023-12-21T11:28:22.603Z"
   },
   {
    "duration": 11,
    "start_time": "2023-12-21T11:28:33.792Z"
   },
   {
    "duration": 107,
    "start_time": "2023-12-21T11:28:53.429Z"
   },
   {
    "duration": 10,
    "start_time": "2023-12-21T11:28:56.918Z"
   },
   {
    "duration": 12,
    "start_time": "2023-12-21T11:28:57.449Z"
   },
   {
    "duration": 13,
    "start_time": "2023-12-21T11:30:35.694Z"
   },
   {
    "duration": 13,
    "start_time": "2023-12-21T11:31:04.534Z"
   },
   {
    "duration": 11,
    "start_time": "2023-12-21T11:31:11.512Z"
   },
   {
    "duration": 13,
    "start_time": "2023-12-21T11:31:15.520Z"
   },
   {
    "duration": 12,
    "start_time": "2023-12-21T11:31:20.529Z"
   },
   {
    "duration": 13,
    "start_time": "2023-12-21T11:31:21.253Z"
   },
   {
    "duration": 4,
    "start_time": "2023-12-21T11:31:32.219Z"
   },
   {
    "duration": 19,
    "start_time": "2023-12-21T11:32:05.389Z"
   },
   {
    "duration": 10,
    "start_time": "2023-12-21T11:33:25.073Z"
   },
   {
    "duration": 17,
    "start_time": "2023-12-21T11:33:44.134Z"
   },
   {
    "duration": 16,
    "start_time": "2023-12-21T11:40:59.916Z"
   },
   {
    "duration": 5,
    "start_time": "2023-12-21T11:41:08.246Z"
   },
   {
    "duration": 1143,
    "start_time": "2023-12-21T11:42:20.528Z"
   },
   {
    "duration": 75,
    "start_time": "2023-12-21T11:42:21.674Z"
   },
   {
    "duration": 4,
    "start_time": "2023-12-21T11:42:21.751Z"
   },
   {
    "duration": 20,
    "start_time": "2023-12-21T11:42:21.756Z"
   },
   {
    "duration": 44,
    "start_time": "2023-12-21T11:42:21.779Z"
   },
   {
    "duration": 35,
    "start_time": "2023-12-21T11:42:21.825Z"
   },
   {
    "duration": 28,
    "start_time": "2023-12-21T11:42:21.862Z"
   },
   {
    "duration": 53,
    "start_time": "2023-12-21T11:42:21.892Z"
   },
   {
    "duration": 32,
    "start_time": "2023-12-21T11:42:21.946Z"
   },
   {
    "duration": 57,
    "start_time": "2023-12-21T11:42:21.979Z"
   },
   {
    "duration": 1059,
    "start_time": "2023-12-21T11:42:22.038Z"
   },
   {
    "duration": 5,
    "start_time": "2023-12-21T11:42:23.098Z"
   },
   {
    "duration": 31,
    "start_time": "2023-12-21T11:42:23.105Z"
   },
   {
    "duration": 119,
    "start_time": "2023-12-21T11:42:23.139Z"
   },
   {
    "duration": 13,
    "start_time": "2023-12-21T11:42:23.260Z"
   },
   {
    "duration": 492,
    "start_time": "2023-12-21T11:42:23.274Z"
   },
   {
    "duration": 13,
    "start_time": "2023-12-21T11:42:23.768Z"
   },
   {
    "duration": 58,
    "start_time": "2023-12-21T11:42:23.782Z"
   },
   {
    "duration": 16,
    "start_time": "2023-12-21T11:42:23.931Z"
   },
   {
    "duration": 406,
    "start_time": "2023-12-21T11:42:23.950Z"
   },
   {
    "duration": 4,
    "start_time": "2023-12-21T11:42:24.358Z"
   },
   {
    "duration": 43,
    "start_time": "2023-12-21T11:42:24.365Z"
   },
   {
    "duration": 28,
    "start_time": "2023-12-21T11:42:24.409Z"
   },
   {
    "duration": 14,
    "start_time": "2023-12-21T11:42:24.439Z"
   },
   {
    "duration": 78,
    "start_time": "2023-12-21T11:42:24.455Z"
   },
   {
    "duration": 108,
    "start_time": "2023-12-21T11:42:24.535Z"
   },
   {
    "duration": 11,
    "start_time": "2023-12-21T11:42:24.645Z"
   },
   {
    "duration": 12,
    "start_time": "2023-12-21T11:42:24.658Z"
   },
   {
    "duration": 109,
    "start_time": "2023-12-21T11:42:24.733Z"
   },
   {
    "duration": 10,
    "start_time": "2023-12-21T11:42:24.844Z"
   },
   {
    "duration": 87,
    "start_time": "2023-12-21T11:42:24.856Z"
   },
   {
    "duration": 601,
    "start_time": "2023-12-21T11:42:25.031Z"
   },
   {
    "duration": 4,
    "start_time": "2023-12-21T11:42:25.634Z"
   },
   {
    "duration": 5,
    "start_time": "2023-12-21T11:43:44.132Z"
   },
   {
    "duration": 236,
    "start_time": "2023-12-21T11:43:51.960Z"
   },
   {
    "duration": 339,
    "start_time": "2023-12-21T11:44:52.185Z"
   },
   {
    "duration": 82390,
    "start_time": "2023-12-21T11:51:15.593Z"
   },
   {
    "duration": 33471,
    "start_time": "2023-12-21T11:53:11.126Z"
   },
   {
    "duration": 50736,
    "start_time": "2023-12-21T11:54:14.251Z"
   },
   {
    "duration": 482,
    "start_time": "2023-12-21T12:02:55.763Z"
   },
   {
    "duration": 537,
    "start_time": "2023-12-21T12:05:07.262Z"
   },
   {
    "duration": 557,
    "start_time": "2023-12-21T12:05:33.749Z"
   },
   {
    "duration": 252,
    "start_time": "2023-12-21T12:05:40.004Z"
   },
   {
    "duration": 52,
    "start_time": "2023-12-21T12:07:45.871Z"
   },
   {
    "duration": 61410,
    "start_time": "2023-12-21T12:08:01.395Z"
   },
   {
    "duration": 60162,
    "start_time": "2023-12-21T12:16:14.020Z"
   },
   {
    "duration": 859,
    "start_time": "2023-12-21T12:26:39.403Z"
   },
   {
    "duration": 737,
    "start_time": "2023-12-21T12:26:52.143Z"
   },
   {
    "duration": 69,
    "start_time": "2023-12-21T12:28:45.773Z"
   },
   {
    "duration": 21,
    "start_time": "2023-12-21T12:34:17.677Z"
   },
   {
    "duration": 12,
    "start_time": "2023-12-21T12:36:55.115Z"
   },
   {
    "duration": 13,
    "start_time": "2023-12-21T12:38:20.778Z"
   },
   {
    "duration": 331,
    "start_time": "2023-12-21T12:38:32.864Z"
   },
   {
    "duration": 362,
    "start_time": "2023-12-21T12:38:37.023Z"
   },
   {
    "duration": 4,
    "start_time": "2023-12-21T12:41:27.423Z"
   },
   {
    "duration": 13,
    "start_time": "2023-12-21T12:41:40.262Z"
   },
   {
    "duration": 390,
    "start_time": "2023-12-21T12:42:02.884Z"
   },
   {
    "duration": 56,
    "start_time": "2023-12-21T12:42:24.843Z"
   },
   {
    "duration": 490,
    "start_time": "2023-12-21T12:42:28.928Z"
   },
   {
    "duration": 359,
    "start_time": "2023-12-21T12:42:38.179Z"
   },
   {
    "duration": 429,
    "start_time": "2023-12-21T12:42:59.893Z"
   },
   {
    "duration": 383,
    "start_time": "2023-12-21T12:44:35.628Z"
   },
   {
    "duration": 510,
    "start_time": "2023-12-21T12:44:41.913Z"
   },
   {
    "duration": 489,
    "start_time": "2023-12-21T12:45:06.068Z"
   },
   {
    "duration": 399,
    "start_time": "2023-12-21T12:45:10.414Z"
   },
   {
    "duration": 165,
    "start_time": "2023-12-21T12:57:04.566Z"
   },
   {
    "duration": 164,
    "start_time": "2023-12-21T12:57:22.129Z"
   },
   {
    "duration": 497,
    "start_time": "2023-12-21T12:58:51.771Z"
   },
   {
    "duration": 364,
    "start_time": "2023-12-21T13:00:03.978Z"
   },
   {
    "duration": 390,
    "start_time": "2023-12-21T13:00:13.287Z"
   },
   {
    "duration": 361,
    "start_time": "2023-12-21T13:00:30.531Z"
   },
   {
    "duration": 371,
    "start_time": "2023-12-21T13:00:35.997Z"
   },
   {
    "duration": 383,
    "start_time": "2023-12-21T13:00:39.915Z"
   },
   {
    "duration": 406,
    "start_time": "2023-12-21T13:03:04.501Z"
   },
   {
    "duration": 401,
    "start_time": "2023-12-21T13:03:11.507Z"
   },
   {
    "duration": 358,
    "start_time": "2023-12-21T13:04:04.264Z"
   },
   {
    "duration": 441,
    "start_time": "2023-12-21T13:04:35.525Z"
   },
   {
    "duration": 392,
    "start_time": "2023-12-21T13:05:54.727Z"
   },
   {
    "duration": 575,
    "start_time": "2023-12-21T13:06:00.862Z"
   },
   {
    "duration": 412,
    "start_time": "2023-12-21T13:06:15.848Z"
   },
   {
    "duration": 482,
    "start_time": "2023-12-21T13:07:00.886Z"
   },
   {
    "duration": 431,
    "start_time": "2023-12-21T13:07:02.077Z"
   },
   {
    "duration": 433,
    "start_time": "2023-12-21T13:07:19.846Z"
   },
   {
    "duration": 419,
    "start_time": "2023-12-21T13:07:23.661Z"
   },
   {
    "duration": 442,
    "start_time": "2023-12-21T13:07:28.905Z"
   },
   {
    "duration": 416,
    "start_time": "2023-12-21T13:07:46.455Z"
   },
   {
    "duration": 458,
    "start_time": "2023-12-21T13:08:44.599Z"
   },
   {
    "duration": 428,
    "start_time": "2023-12-21T13:09:19.685Z"
   },
   {
    "duration": 469,
    "start_time": "2023-12-21T13:09:36.510Z"
   },
   {
    "duration": 629,
    "start_time": "2023-12-21T13:09:47.140Z"
   },
   {
    "duration": 445,
    "start_time": "2023-12-21T13:09:55.192Z"
   },
   {
    "duration": 404,
    "start_time": "2023-12-21T13:10:26.964Z"
   },
   {
    "duration": 389,
    "start_time": "2023-12-21T13:10:37.844Z"
   },
   {
    "duration": 409,
    "start_time": "2023-12-21T13:10:54.486Z"
   },
   {
    "duration": 443,
    "start_time": "2023-12-21T13:11:00.824Z"
   },
   {
    "duration": 435,
    "start_time": "2023-12-21T13:11:04.110Z"
   },
   {
    "duration": 447,
    "start_time": "2023-12-21T13:11:17.983Z"
   },
   {
    "duration": 418,
    "start_time": "2023-12-21T13:11:23.413Z"
   },
   {
    "duration": 445,
    "start_time": "2023-12-21T13:12:12.888Z"
   },
   {
    "duration": 438,
    "start_time": "2023-12-21T13:12:18.205Z"
   },
   {
    "duration": 567,
    "start_time": "2023-12-21T13:12:36.576Z"
   },
   {
    "duration": 399,
    "start_time": "2023-12-21T13:12:42.559Z"
   },
   {
    "duration": 436,
    "start_time": "2023-12-21T13:12:50.504Z"
   },
   {
    "duration": 7,
    "start_time": "2023-12-21T13:23:08.820Z"
   },
   {
    "duration": 7,
    "start_time": "2023-12-21T13:23:22.189Z"
   },
   {
    "duration": 8,
    "start_time": "2023-12-21T13:23:29.825Z"
   },
   {
    "duration": 9,
    "start_time": "2023-12-21T13:24:15.594Z"
   },
   {
    "duration": 9,
    "start_time": "2023-12-21T13:24:22.791Z"
   },
   {
    "duration": 7,
    "start_time": "2023-12-21T13:24:34.153Z"
   },
   {
    "duration": 5,
    "start_time": "2023-12-21T13:32:27.292Z"
   },
   {
    "duration": 110,
    "start_time": "2023-12-21T13:34:23.873Z"
   },
   {
    "duration": 157,
    "start_time": "2023-12-21T13:35:18.374Z"
   },
   {
    "duration": 224,
    "start_time": "2023-12-21T13:35:41.933Z"
   },
   {
    "duration": 192,
    "start_time": "2023-12-21T13:35:46.107Z"
   },
   {
    "duration": 196,
    "start_time": "2023-12-21T13:35:59.363Z"
   },
   {
    "duration": 205,
    "start_time": "2023-12-21T13:36:02.574Z"
   },
   {
    "duration": 5,
    "start_time": "2023-12-21T13:36:53.002Z"
   },
   {
    "duration": 6,
    "start_time": "2023-12-21T13:37:04.721Z"
   },
   {
    "duration": 56,
    "start_time": "2023-12-21T13:41:42.400Z"
   },
   {
    "duration": 277,
    "start_time": "2023-12-21T13:42:13.160Z"
   },
   {
    "duration": 298,
    "start_time": "2023-12-21T13:42:39.883Z"
   },
   {
    "duration": 298,
    "start_time": "2023-12-21T13:42:48.724Z"
   },
   {
    "duration": 295,
    "start_time": "2023-12-21T13:42:55.055Z"
   },
   {
    "duration": 312,
    "start_time": "2023-12-21T13:43:06.271Z"
   },
   {
    "duration": 6,
    "start_time": "2023-12-21T13:44:06.477Z"
   },
   {
    "duration": 1447,
    "start_time": "2023-12-21T13:46:54.505Z"
   },
   {
    "duration": 70,
    "start_time": "2023-12-21T13:46:55.954Z"
   },
   {
    "duration": 4,
    "start_time": "2023-12-21T13:46:56.026Z"
   },
   {
    "duration": 24,
    "start_time": "2023-12-21T13:46:56.032Z"
   },
   {
    "duration": 40,
    "start_time": "2023-12-21T13:46:56.058Z"
   },
   {
    "duration": 39,
    "start_time": "2023-12-21T13:46:56.100Z"
   },
   {
    "duration": 9,
    "start_time": "2023-12-21T13:46:56.141Z"
   },
   {
    "duration": 18,
    "start_time": "2023-12-21T13:46:56.152Z"
   },
   {
    "duration": 10,
    "start_time": "2023-12-21T13:46:56.172Z"
   },
   {
    "duration": 48,
    "start_time": "2023-12-21T13:46:56.183Z"
   },
   {
    "duration": 764,
    "start_time": "2023-12-21T13:46:56.233Z"
   },
   {
    "duration": 5,
    "start_time": "2023-12-21T13:46:56.998Z"
   },
   {
    "duration": 8,
    "start_time": "2023-12-21T13:46:57.005Z"
   },
   {
    "duration": 111,
    "start_time": "2023-12-21T13:46:57.030Z"
   },
   {
    "duration": 14,
    "start_time": "2023-12-21T13:46:57.142Z"
   },
   {
    "duration": 490,
    "start_time": "2023-12-21T13:46:57.158Z"
   },
   {
    "duration": 60163,
    "start_time": "2023-12-21T13:46:57.650Z"
   },
   {
    "duration": 23,
    "start_time": "2023-12-21T13:47:57.815Z"
   },
   {
    "duration": 91,
    "start_time": "2023-12-21T13:47:57.840Z"
   },
   {
    "duration": 109,
    "start_time": "2023-12-21T13:47:57.934Z"
   },
   {
    "duration": 226,
    "start_time": "2023-12-21T13:47:58.133Z"
   },
   {
    "duration": 5,
    "start_time": "2023-12-21T13:47:58.360Z"
   },
   {
    "duration": 28,
    "start_time": "2023-12-21T13:47:58.366Z"
   },
   {
    "duration": 30,
    "start_time": "2023-12-21T13:47:58.396Z"
   },
   {
    "duration": 21,
    "start_time": "2023-12-21T13:47:58.428Z"
   },
   {
    "duration": 79,
    "start_time": "2023-12-21T13:47:58.451Z"
   },
   {
    "duration": 103,
    "start_time": "2023-12-21T13:47:58.533Z"
   },
   {
    "duration": 10,
    "start_time": "2023-12-21T13:47:58.637Z"
   },
   {
    "duration": 82,
    "start_time": "2023-12-21T13:47:58.649Z"
   },
   {
    "duration": 109,
    "start_time": "2023-12-21T13:47:58.734Z"
   },
   {
    "duration": 10,
    "start_time": "2023-12-21T13:47:58.844Z"
   },
   {
    "duration": 75,
    "start_time": "2023-12-21T13:47:58.856Z"
   },
   {
    "duration": 574,
    "start_time": "2023-12-21T13:47:58.936Z"
   },
   {
    "duration": 584,
    "start_time": "2023-12-21T13:47:59.512Z"
   },
   {
    "duration": 265,
    "start_time": "2023-12-21T13:48:00.097Z"
   },
   {
    "duration": 388,
    "start_time": "2023-12-21T13:48:00.364Z"
   },
   {
    "duration": 60045,
    "start_time": "2023-12-21T13:48:00.754Z"
   },
   {
    "duration": 82023,
    "start_time": "2023-12-21T13:49:00.801Z"
   },
   {
    "duration": 33670,
    "start_time": "2023-12-21T13:50:22.831Z"
   },
   {
    "duration": 49905,
    "start_time": "2023-12-21T13:50:56.503Z"
   },
   {
    "duration": 753,
    "start_time": "2023-12-21T13:51:46.411Z"
   },
   {
    "duration": 434,
    "start_time": "2023-12-21T13:51:47.166Z"
   },
   {
    "duration": 190,
    "start_time": "2023-12-21T13:51:47.603Z"
   },
   {
    "duration": 1,
    "start_time": "2023-12-21T13:51:47.795Z"
   },
   {
    "duration": 299,
    "start_time": "2023-12-21T14:06:56.244Z"
   },
   {
    "duration": 64,
    "start_time": "2023-12-22T10:31:12.284Z"
   },
   {
    "duration": 1863,
    "start_time": "2023-12-22T10:35:12.954Z"
   },
   {
    "duration": 236,
    "start_time": "2023-12-22T10:35:14.819Z"
   },
   {
    "duration": 3,
    "start_time": "2023-12-22T10:35:15.057Z"
   },
   {
    "duration": 28,
    "start_time": "2023-12-22T10:35:15.062Z"
   },
   {
    "duration": 58,
    "start_time": "2023-12-22T10:35:15.092Z"
   },
   {
    "duration": 31,
    "start_time": "2023-12-22T10:35:15.152Z"
   },
   {
    "duration": 10,
    "start_time": "2023-12-22T10:35:15.185Z"
   },
   {
    "duration": 35,
    "start_time": "2023-12-22T10:35:15.197Z"
   },
   {
    "duration": 24,
    "start_time": "2023-12-22T10:35:15.234Z"
   },
   {
    "duration": 32,
    "start_time": "2023-12-22T10:35:15.261Z"
   },
   {
    "duration": 874,
    "start_time": "2023-12-22T10:35:15.295Z"
   },
   {
    "duration": 4,
    "start_time": "2023-12-22T10:35:16.171Z"
   },
   {
    "duration": 63,
    "start_time": "2023-12-22T10:35:16.177Z"
   },
   {
    "duration": 162,
    "start_time": "2023-12-22T10:35:16.245Z"
   },
   {
    "duration": 30,
    "start_time": "2023-12-22T10:35:16.409Z"
   },
   {
    "duration": 573,
    "start_time": "2023-12-22T10:35:16.442Z"
   },
   {
    "duration": 8,
    "start_time": "2023-12-22T10:35:17.018Z"
   },
   {
    "duration": 27,
    "start_time": "2023-12-22T10:35:17.031Z"
   },
   {
    "duration": 67904,
    "start_time": "2023-12-22T10:35:17.060Z"
   },
   {
    "duration": 11,
    "start_time": "2023-12-22T10:36:24.966Z"
   },
   {
    "duration": 152,
    "start_time": "2023-12-22T10:36:24.980Z"
   },
   {
    "duration": 120,
    "start_time": "2023-12-22T10:36:25.135Z"
   },
   {
    "duration": 218,
    "start_time": "2023-12-22T10:36:25.257Z"
   },
   {
    "duration": 7,
    "start_time": "2023-12-22T10:36:25.479Z"
   },
   {
    "duration": 6,
    "start_time": "2023-12-22T10:36:25.488Z"
   },
   {
    "duration": 57,
    "start_time": "2023-12-22T10:36:25.496Z"
   },
   {
    "duration": 16,
    "start_time": "2023-12-22T10:36:25.555Z"
   },
   {
    "duration": 160,
    "start_time": "2023-12-22T10:36:25.573Z"
   },
   {
    "duration": 25,
    "start_time": "2023-12-22T10:36:25.735Z"
   },
   {
    "duration": 75,
    "start_time": "2023-12-22T10:36:25.763Z"
   },
   {
    "duration": 92,
    "start_time": "2023-12-22T10:36:25.844Z"
   },
   {
    "duration": 105,
    "start_time": "2023-12-22T10:36:25.945Z"
   },
   {
    "duration": 11,
    "start_time": "2023-12-22T10:36:26.052Z"
   },
   {
    "duration": 69,
    "start_time": "2023-12-22T10:36:26.065Z"
   },
   {
    "duration": 682,
    "start_time": "2023-12-22T10:36:26.146Z"
   },
   {
    "duration": 734,
    "start_time": "2023-12-22T10:36:26.830Z"
   },
   {
    "duration": 323,
    "start_time": "2023-12-22T10:36:27.567Z"
   },
   {
    "duration": 421,
    "start_time": "2023-12-22T10:36:27.892Z"
   },
   {
    "duration": 47768,
    "start_time": "2023-12-22T10:36:28.316Z"
   },
   {
    "duration": 0,
    "start_time": "2023-12-22T10:37:16.087Z"
   },
   {
    "duration": 0,
    "start_time": "2023-12-22T10:37:16.088Z"
   },
   {
    "duration": 0,
    "start_time": "2023-12-22T10:37:16.090Z"
   },
   {
    "duration": 0,
    "start_time": "2023-12-22T10:37:16.092Z"
   },
   {
    "duration": 0,
    "start_time": "2023-12-22T10:37:16.094Z"
   },
   {
    "duration": 0,
    "start_time": "2023-12-22T10:37:16.096Z"
   },
   {
    "duration": 0,
    "start_time": "2023-12-22T10:37:16.098Z"
   },
   {
    "duration": 0,
    "start_time": "2023-12-22T10:37:16.130Z"
   },
   {
    "duration": 7,
    "start_time": "2023-12-22T10:37:29.072Z"
   },
   {
    "duration": 10,
    "start_time": "2023-12-22T10:37:33.506Z"
   },
   {
    "duration": 1460,
    "start_time": "2023-12-22T10:37:42.250Z"
   },
   {
    "duration": 0,
    "start_time": "2023-12-22T10:37:43.714Z"
   },
   {
    "duration": 0,
    "start_time": "2023-12-22T10:37:43.716Z"
   },
   {
    "duration": 0,
    "start_time": "2023-12-22T10:37:43.717Z"
   },
   {
    "duration": 0,
    "start_time": "2023-12-22T10:37:43.719Z"
   },
   {
    "duration": 0,
    "start_time": "2023-12-22T10:37:43.720Z"
   },
   {
    "duration": 0,
    "start_time": "2023-12-22T10:37:43.722Z"
   },
   {
    "duration": 0,
    "start_time": "2023-12-22T10:37:43.723Z"
   },
   {
    "duration": 0,
    "start_time": "2023-12-22T10:37:43.725Z"
   },
   {
    "duration": 0,
    "start_time": "2023-12-22T10:37:43.727Z"
   },
   {
    "duration": 0,
    "start_time": "2023-12-22T10:37:43.728Z"
   },
   {
    "duration": 1,
    "start_time": "2023-12-22T10:37:43.729Z"
   },
   {
    "duration": 0,
    "start_time": "2023-12-22T10:37:43.732Z"
   },
   {
    "duration": 0,
    "start_time": "2023-12-22T10:37:43.733Z"
   },
   {
    "duration": 0,
    "start_time": "2023-12-22T10:37:43.735Z"
   },
   {
    "duration": 0,
    "start_time": "2023-12-22T10:37:43.737Z"
   },
   {
    "duration": 0,
    "start_time": "2023-12-22T10:37:43.740Z"
   },
   {
    "duration": 0,
    "start_time": "2023-12-22T10:37:43.742Z"
   },
   {
    "duration": 0,
    "start_time": "2023-12-22T10:37:43.744Z"
   },
   {
    "duration": 0,
    "start_time": "2023-12-22T10:37:43.745Z"
   },
   {
    "duration": 0,
    "start_time": "2023-12-22T10:37:43.746Z"
   },
   {
    "duration": 0,
    "start_time": "2023-12-22T10:37:43.747Z"
   },
   {
    "duration": 0,
    "start_time": "2023-12-22T10:37:43.749Z"
   },
   {
    "duration": 0,
    "start_time": "2023-12-22T10:37:43.751Z"
   },
   {
    "duration": 0,
    "start_time": "2023-12-22T10:37:43.753Z"
   },
   {
    "duration": 0,
    "start_time": "2023-12-22T10:37:43.754Z"
   },
   {
    "duration": 0,
    "start_time": "2023-12-22T10:37:43.756Z"
   },
   {
    "duration": 0,
    "start_time": "2023-12-22T10:37:43.757Z"
   },
   {
    "duration": 0,
    "start_time": "2023-12-22T10:37:43.759Z"
   },
   {
    "duration": 0,
    "start_time": "2023-12-22T10:37:43.760Z"
   },
   {
    "duration": 0,
    "start_time": "2023-12-22T10:37:43.762Z"
   },
   {
    "duration": 0,
    "start_time": "2023-12-22T10:37:43.763Z"
   },
   {
    "duration": 0,
    "start_time": "2023-12-22T10:37:43.765Z"
   },
   {
    "duration": 0,
    "start_time": "2023-12-22T10:37:43.766Z"
   },
   {
    "duration": 0,
    "start_time": "2023-12-22T10:37:43.768Z"
   },
   {
    "duration": 0,
    "start_time": "2023-12-22T10:37:43.770Z"
   },
   {
    "duration": 0,
    "start_time": "2023-12-22T10:37:43.771Z"
   },
   {
    "duration": 0,
    "start_time": "2023-12-22T10:37:43.772Z"
   },
   {
    "duration": 0,
    "start_time": "2023-12-22T10:37:43.774Z"
   },
   {
    "duration": 0,
    "start_time": "2023-12-22T10:37:43.776Z"
   },
   {
    "duration": 0,
    "start_time": "2023-12-22T10:37:43.777Z"
   },
   {
    "duration": 0,
    "start_time": "2023-12-22T10:37:43.779Z"
   },
   {
    "duration": 0,
    "start_time": "2023-12-22T10:37:43.780Z"
   },
   {
    "duration": 0,
    "start_time": "2023-12-22T10:37:43.832Z"
   },
   {
    "duration": 0,
    "start_time": "2023-12-22T10:37:43.834Z"
   },
   {
    "duration": 0,
    "start_time": "2023-12-22T10:37:43.835Z"
   },
   {
    "duration": 0,
    "start_time": "2023-12-22T10:37:43.836Z"
   },
   {
    "duration": 0,
    "start_time": "2023-12-22T10:37:43.837Z"
   },
   {
    "duration": 1524,
    "start_time": "2023-12-22T12:09:50.996Z"
   },
   {
    "duration": 72,
    "start_time": "2023-12-22T12:09:52.522Z"
   },
   {
    "duration": 3,
    "start_time": "2023-12-22T12:09:52.596Z"
   },
   {
    "duration": 69,
    "start_time": "2023-12-22T12:09:52.601Z"
   },
   {
    "duration": 28,
    "start_time": "2023-12-22T12:09:52.672Z"
   },
   {
    "duration": 59,
    "start_time": "2023-12-22T12:09:52.702Z"
   },
   {
    "duration": 9,
    "start_time": "2023-12-22T12:09:52.763Z"
   },
   {
    "duration": 28,
    "start_time": "2023-12-22T12:09:52.774Z"
   },
   {
    "duration": 24,
    "start_time": "2023-12-22T12:09:52.803Z"
   },
   {
    "duration": 50,
    "start_time": "2023-12-22T12:09:52.831Z"
   },
   {
    "duration": 847,
    "start_time": "2023-12-22T12:09:52.883Z"
   },
   {
    "duration": 5,
    "start_time": "2023-12-22T12:09:53.732Z"
   },
   {
    "duration": 23,
    "start_time": "2023-12-22T12:09:53.739Z"
   },
   {
    "duration": 120,
    "start_time": "2023-12-22T12:09:53.765Z"
   },
   {
    "duration": 15,
    "start_time": "2023-12-22T12:09:53.887Z"
   },
   {
    "duration": 511,
    "start_time": "2023-12-22T12:09:53.904Z"
   },
   {
    "duration": 16,
    "start_time": "2023-12-22T12:09:54.416Z"
   },
   {
    "duration": 64249,
    "start_time": "2023-12-22T12:09:54.434Z"
   },
   {
    "duration": 101,
    "start_time": "2023-12-22T12:10:58.685Z"
   },
   {
    "duration": 11,
    "start_time": "2023-12-22T12:10:58.788Z"
   },
   {
    "duration": 37,
    "start_time": "2023-12-22T12:10:58.801Z"
   },
   {
    "duration": 99,
    "start_time": "2023-12-22T12:10:58.840Z"
   },
   {
    "duration": 198,
    "start_time": "2023-12-22T12:10:58.941Z"
   },
   {
    "duration": 188,
    "start_time": "2023-12-22T12:10:59.145Z"
   },
   {
    "duration": 214,
    "start_time": "2023-12-22T12:10:59.337Z"
   },
   {
    "duration": 4,
    "start_time": "2023-12-22T12:10:59.553Z"
   },
   {
    "duration": 14,
    "start_time": "2023-12-22T12:10:59.560Z"
   },
   {
    "duration": 20,
    "start_time": "2023-12-22T12:10:59.576Z"
   },
   {
    "duration": 37,
    "start_time": "2023-12-22T12:10:59.598Z"
   },
   {
    "duration": 98,
    "start_time": "2023-12-22T12:10:59.637Z"
   },
   {
    "duration": 101,
    "start_time": "2023-12-22T12:10:59.738Z"
   },
   {
    "duration": 11,
    "start_time": "2023-12-22T12:10:59.840Z"
   },
   {
    "duration": 13,
    "start_time": "2023-12-22T12:10:59.853Z"
   },
   {
    "duration": 108,
    "start_time": "2023-12-22T12:10:59.933Z"
   },
   {
    "duration": 36,
    "start_time": "2023-12-22T12:11:00.044Z"
   },
   {
    "duration": 250,
    "start_time": "2023-12-22T12:11:00.082Z"
   },
   {
    "duration": 532,
    "start_time": "2023-12-22T12:11:00.335Z"
   },
   {
    "duration": 615,
    "start_time": "2023-12-22T12:11:00.869Z"
   },
   {
    "duration": 308,
    "start_time": "2023-12-22T12:11:01.487Z"
   },
   {
    "duration": 407,
    "start_time": "2023-12-22T12:11:01.797Z"
   },
   {
    "duration": 35,
    "start_time": "2023-12-22T12:11:02.208Z"
   },
   {
    "duration": 64362,
    "start_time": "2023-12-22T12:11:02.245Z"
   },
   {
    "duration": 87422,
    "start_time": "2023-12-22T12:12:06.609Z"
   },
   {
    "duration": 35024,
    "start_time": "2023-12-22T12:13:34.033Z"
   },
   {
    "duration": 53420,
    "start_time": "2023-12-22T12:14:09.059Z"
   },
   {
    "duration": 151,
    "start_time": "2023-12-22T12:15:02.482Z"
   },
   {
    "duration": 0,
    "start_time": "2023-12-22T12:15:02.635Z"
   },
   {
    "duration": 0,
    "start_time": "2023-12-22T12:15:02.636Z"
   },
   {
    "duration": 0,
    "start_time": "2023-12-22T12:15:02.638Z"
   },
   {
    "duration": 0,
    "start_time": "2023-12-22T12:15:02.639Z"
   },
   {
    "duration": 779,
    "start_time": "2023-12-22T12:15:40.882Z"
   },
   {
    "duration": 41,
    "start_time": "2023-12-22T12:17:55.356Z"
   },
   {
    "duration": 15,
    "start_time": "2023-12-22T12:18:19.504Z"
   },
   {
    "duration": 30,
    "start_time": "2023-12-22T12:19:09.459Z"
   },
   {
    "duration": 72900,
    "start_time": "2023-12-22T12:19:19.903Z"
   },
   {
    "duration": 1321,
    "start_time": "2024-01-11T17:14:32.333Z"
   },
   {
    "duration": 179,
    "start_time": "2024-01-11T17:14:33.656Z"
   },
   {
    "duration": 2,
    "start_time": "2024-01-11T17:14:33.837Z"
   },
   {
    "duration": 4,
    "start_time": "2024-01-11T17:14:33.841Z"
   },
   {
    "duration": 20,
    "start_time": "2024-01-11T17:14:33.846Z"
   },
   {
    "duration": 19,
    "start_time": "2024-01-11T17:14:33.867Z"
   },
   {
    "duration": 9,
    "start_time": "2024-01-11T17:14:33.887Z"
   },
   {
    "duration": 15,
    "start_time": "2024-01-11T17:14:33.897Z"
   },
   {
    "duration": 7,
    "start_time": "2024-01-11T17:14:33.913Z"
   },
   {
    "duration": 11,
    "start_time": "2024-01-11T17:14:33.921Z"
   },
   {
    "duration": 667,
    "start_time": "2024-01-11T17:14:33.933Z"
   },
   {
    "duration": 4,
    "start_time": "2024-01-11T17:14:34.602Z"
   },
   {
    "duration": 7,
    "start_time": "2024-01-11T17:14:34.608Z"
   },
   {
    "duration": 97,
    "start_time": "2024-01-11T17:14:34.618Z"
   },
   {
    "duration": 12,
    "start_time": "2024-01-11T17:14:34.716Z"
   },
   {
    "duration": 417,
    "start_time": "2024-01-11T17:14:34.730Z"
   },
   {
    "duration": 8,
    "start_time": "2024-01-11T17:14:35.149Z"
   },
   {
    "duration": 55074,
    "start_time": "2024-01-11T17:14:35.158Z"
   },
   {
    "duration": 77,
    "start_time": "2024-01-11T17:15:30.233Z"
   },
   {
    "duration": 43,
    "start_time": "2024-01-11T17:15:30.312Z"
   },
   {
    "duration": 137,
    "start_time": "2024-01-11T17:15:30.357Z"
   },
   {
    "duration": 102,
    "start_time": "2024-01-11T17:15:30.497Z"
   },
   {
    "duration": 205,
    "start_time": "2024-01-11T17:15:30.601Z"
   },
   {
    "duration": 188,
    "start_time": "2024-01-11T17:15:30.808Z"
   },
   {
    "duration": 300,
    "start_time": "2024-01-11T17:15:30.999Z"
   },
   {
    "duration": 4,
    "start_time": "2024-01-11T17:15:31.301Z"
   },
   {
    "duration": 204,
    "start_time": "2024-01-11T17:15:31.306Z"
   },
   {
    "duration": 51,
    "start_time": "2024-01-11T17:15:31.512Z"
   },
   {
    "duration": 35,
    "start_time": "2024-01-11T17:15:31.564Z"
   },
   {
    "duration": 91,
    "start_time": "2024-01-11T17:15:31.601Z"
   },
   {
    "duration": 106,
    "start_time": "2024-01-11T17:15:31.694Z"
   },
   {
    "duration": 17,
    "start_time": "2024-01-11T17:15:31.801Z"
   },
   {
    "duration": 28,
    "start_time": "2024-01-11T17:15:31.819Z"
   },
   {
    "duration": 112,
    "start_time": "2024-01-11T17:15:31.893Z"
   },
   {
    "duration": 11,
    "start_time": "2024-01-11T17:15:32.007Z"
   },
   {
    "duration": 24,
    "start_time": "2024-01-11T17:15:32.020Z"
   },
   {
    "duration": 520,
    "start_time": "2024-01-11T17:15:32.097Z"
   },
   {
    "duration": 507,
    "start_time": "2024-01-11T17:15:32.618Z"
   },
   {
    "duration": 213,
    "start_time": "2024-01-11T17:15:33.127Z"
   },
   {
    "duration": 319,
    "start_time": "2024-01-11T17:15:33.342Z"
   },
   {
    "duration": 14,
    "start_time": "2024-01-11T17:15:33.665Z"
   },
   {
    "duration": 54235,
    "start_time": "2024-01-11T17:15:33.692Z"
   },
   {
    "duration": 71305,
    "start_time": "2024-01-11T17:16:27.928Z"
   },
   {
    "duration": 29908,
    "start_time": "2024-01-11T17:17:39.234Z"
   },
   {
    "duration": 44489,
    "start_time": "2024-01-11T17:18:09.143Z"
   },
   {
    "duration": 622,
    "start_time": "2024-01-11T17:18:53.633Z"
   },
   {
    "duration": 636,
    "start_time": "2024-01-11T17:18:54.256Z"
   },
   {
    "duration": 388,
    "start_time": "2024-01-11T17:18:54.894Z"
   },
   {
    "duration": 266,
    "start_time": "2024-01-11T17:18:55.283Z"
   },
   {
    "duration": 6,
    "start_time": "2024-01-11T17:18:55.550Z"
   }
  ],
  "kernelspec": {
   "display_name": "Python 3 (ipykernel)",
   "language": "python",
   "name": "python3"
  },
  "language_info": {
   "codemirror_mode": {
    "name": "ipython",
    "version": 3
   },
   "file_extension": ".py",
   "mimetype": "text/x-python",
   "name": "python",
   "nbconvert_exporter": "python",
   "pygments_lexer": "ipython3",
   "version": "3.9.18"
  },
  "toc": {
   "base_numbering": 1,
   "nav_menu": {
    "height": "228px",
    "width": "238px"
   },
   "number_sections": true,
   "sideBar": true,
   "skip_h1_title": true,
   "title_cell": "Содержание",
   "title_sidebar": "Contents",
   "toc_cell": true,
   "toc_position": {
    "height": "calc(100% - 180px)",
    "left": "10px",
    "top": "150px",
    "width": "371px"
   },
   "toc_section_display": true,
   "toc_window_display": true
  }
 },
 "nbformat": 4,
 "nbformat_minor": 2
}
